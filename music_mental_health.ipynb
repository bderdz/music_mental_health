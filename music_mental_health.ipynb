{
  "nbformat": 4,
  "nbformat_minor": 0,
  "metadata": {
    "colab": {
      "provenance": [],
      "toc_visible": true,
      "authorship_tag": "ABX9TyOYPB9EkxAm4Gmb0ZbhDjdw",
      "include_colab_link": true
    },
    "kernelspec": {
      "name": "python3",
      "display_name": "Python 3"
    },
    "language_info": {
      "name": "python"
    }
  },
  "cells": [
    {
      "cell_type": "markdown",
      "metadata": {
        "id": "view-in-github",
        "colab_type": "text"
      },
      "source": [
        "<a href=\"https://colab.research.google.com/github/bderdz/music_mental_health/blob/main/music_mental_health.ipynb\" target=\"_parent\"><img src=\"https://colab.research.google.com/assets/colab-badge.svg\" alt=\"Open In Colab\"/></a>"
      ]
    },
    {
      "cell_type": "markdown",
      "source": [
        "# Analiza zbioru danych Music & Mental Health Survey\n",
        "\n",
        "Dataset: [Music & Mental Health Survey Results](https://www.kaggle.com/datasets/catherinerasgaitis/mxmh-survey-results)\n"
      ],
      "metadata": {
        "id": "DJKuWSWqknG_"
      }
    },
    {
      "cell_type": "code",
      "execution_count": 2,
      "metadata": {
        "colab": {
          "base_uri": "https://localhost:8080/"
        },
        "id": "Z1xnCK6uMflo",
        "outputId": "6e1c1a8f-cca1-4bed-db12-f6d211f17bfc"
      },
      "outputs": [
        {
          "output_type": "stream",
          "name": "stdout",
          "text": [
            "Mounted at /content/drive\n"
          ]
        }
      ],
      "source": [
        "import numpy as np\n",
        "import pandas as pd\n",
        "import matplotlib.pyplot as plt\n",
        "import plotly.express as px\n",
        "from plotly.subplots import make_subplots\n",
        "import plotly.graph_objects as go\n",
        "from google.colab import drive\n",
        "\n",
        "%matplotlib inline\n",
        "\n",
        "drive.mount('/content/drive')"
      ]
    },
    {
      "cell_type": "code",
      "source": [
        "df = pd.read_csv('/content/drive/MyDrive/big_data/mxmh_survey_results.csv')\n",
        "\n",
        "df.head()"
      ],
      "metadata": {
        "colab": {
          "base_uri": "https://localhost:8080/",
          "height": 412
        },
        "id": "ANrIy5s6PenL",
        "outputId": "94175730-0a14-4b2c-d6aa-7105bfb5931a"
      },
      "execution_count": 3,
      "outputs": [
        {
          "output_type": "execute_result",
          "data": {
            "text/plain": [
              "            Timestamp   Age Primary streaming service  Hours per day  \\\n",
              "0  8/27/2022 19:29:02  18.0                   Spotify            3.0   \n",
              "1  8/27/2022 19:57:31  63.0                   Pandora            1.5   \n",
              "2  8/27/2022 21:28:18  18.0                   Spotify            4.0   \n",
              "3  8/27/2022 21:40:40  61.0             YouTube Music            2.5   \n",
              "4  8/27/2022 21:54:47  18.0                   Spotify            4.0   \n",
              "\n",
              "  While working Instrumentalist Composer         Fav genre Exploratory  \\\n",
              "0           Yes             Yes      Yes             Latin         Yes   \n",
              "1           Yes              No       No              Rock         Yes   \n",
              "2            No              No       No  Video game music          No   \n",
              "3           Yes              No      Yes              Jazz         Yes   \n",
              "4           Yes              No       No               R&B         Yes   \n",
              "\n",
              "  Foreign languages  ...  Frequency [R&B]  Frequency [Rap] Frequency [Rock]  \\\n",
              "0               Yes  ...        Sometimes  Very frequently            Never   \n",
              "1                No  ...        Sometimes           Rarely  Very frequently   \n",
              "2               Yes  ...            Never           Rarely           Rarely   \n",
              "3               Yes  ...        Sometimes            Never            Never   \n",
              "4                No  ...  Very frequently  Very frequently            Never   \n",
              "\n",
              "  Frequency [Video game music] Anxiety Depression Insomnia  OCD Music effects  \\\n",
              "0                    Sometimes     3.0        0.0      1.0  0.0           NaN   \n",
              "1                       Rarely     7.0        2.0      2.0  1.0           NaN   \n",
              "2              Very frequently     7.0        7.0     10.0  2.0     No effect   \n",
              "3                        Never     9.0        7.0      3.0  3.0       Improve   \n",
              "4                       Rarely     7.0        2.0      5.0  9.0       Improve   \n",
              "\n",
              "     Permissions  \n",
              "0  I understand.  \n",
              "1  I understand.  \n",
              "2  I understand.  \n",
              "3  I understand.  \n",
              "4  I understand.  \n",
              "\n",
              "[5 rows x 33 columns]"
            ],
            "text/html": [
              "\n",
              "  <div id=\"df-81d53715-a821-4ba7-b703-dc2b1a9a6cf0\" class=\"colab-df-container\">\n",
              "    <div>\n",
              "<style scoped>\n",
              "    .dataframe tbody tr th:only-of-type {\n",
              "        vertical-align: middle;\n",
              "    }\n",
              "\n",
              "    .dataframe tbody tr th {\n",
              "        vertical-align: top;\n",
              "    }\n",
              "\n",
              "    .dataframe thead th {\n",
              "        text-align: right;\n",
              "    }\n",
              "</style>\n",
              "<table border=\"1\" class=\"dataframe\">\n",
              "  <thead>\n",
              "    <tr style=\"text-align: right;\">\n",
              "      <th></th>\n",
              "      <th>Timestamp</th>\n",
              "      <th>Age</th>\n",
              "      <th>Primary streaming service</th>\n",
              "      <th>Hours per day</th>\n",
              "      <th>While working</th>\n",
              "      <th>Instrumentalist</th>\n",
              "      <th>Composer</th>\n",
              "      <th>Fav genre</th>\n",
              "      <th>Exploratory</th>\n",
              "      <th>Foreign languages</th>\n",
              "      <th>...</th>\n",
              "      <th>Frequency [R&amp;B]</th>\n",
              "      <th>Frequency [Rap]</th>\n",
              "      <th>Frequency [Rock]</th>\n",
              "      <th>Frequency [Video game music]</th>\n",
              "      <th>Anxiety</th>\n",
              "      <th>Depression</th>\n",
              "      <th>Insomnia</th>\n",
              "      <th>OCD</th>\n",
              "      <th>Music effects</th>\n",
              "      <th>Permissions</th>\n",
              "    </tr>\n",
              "  </thead>\n",
              "  <tbody>\n",
              "    <tr>\n",
              "      <th>0</th>\n",
              "      <td>8/27/2022 19:29:02</td>\n",
              "      <td>18.0</td>\n",
              "      <td>Spotify</td>\n",
              "      <td>3.0</td>\n",
              "      <td>Yes</td>\n",
              "      <td>Yes</td>\n",
              "      <td>Yes</td>\n",
              "      <td>Latin</td>\n",
              "      <td>Yes</td>\n",
              "      <td>Yes</td>\n",
              "      <td>...</td>\n",
              "      <td>Sometimes</td>\n",
              "      <td>Very frequently</td>\n",
              "      <td>Never</td>\n",
              "      <td>Sometimes</td>\n",
              "      <td>3.0</td>\n",
              "      <td>0.0</td>\n",
              "      <td>1.0</td>\n",
              "      <td>0.0</td>\n",
              "      <td>NaN</td>\n",
              "      <td>I understand.</td>\n",
              "    </tr>\n",
              "    <tr>\n",
              "      <th>1</th>\n",
              "      <td>8/27/2022 19:57:31</td>\n",
              "      <td>63.0</td>\n",
              "      <td>Pandora</td>\n",
              "      <td>1.5</td>\n",
              "      <td>Yes</td>\n",
              "      <td>No</td>\n",
              "      <td>No</td>\n",
              "      <td>Rock</td>\n",
              "      <td>Yes</td>\n",
              "      <td>No</td>\n",
              "      <td>...</td>\n",
              "      <td>Sometimes</td>\n",
              "      <td>Rarely</td>\n",
              "      <td>Very frequently</td>\n",
              "      <td>Rarely</td>\n",
              "      <td>7.0</td>\n",
              "      <td>2.0</td>\n",
              "      <td>2.0</td>\n",
              "      <td>1.0</td>\n",
              "      <td>NaN</td>\n",
              "      <td>I understand.</td>\n",
              "    </tr>\n",
              "    <tr>\n",
              "      <th>2</th>\n",
              "      <td>8/27/2022 21:28:18</td>\n",
              "      <td>18.0</td>\n",
              "      <td>Spotify</td>\n",
              "      <td>4.0</td>\n",
              "      <td>No</td>\n",
              "      <td>No</td>\n",
              "      <td>No</td>\n",
              "      <td>Video game music</td>\n",
              "      <td>No</td>\n",
              "      <td>Yes</td>\n",
              "      <td>...</td>\n",
              "      <td>Never</td>\n",
              "      <td>Rarely</td>\n",
              "      <td>Rarely</td>\n",
              "      <td>Very frequently</td>\n",
              "      <td>7.0</td>\n",
              "      <td>7.0</td>\n",
              "      <td>10.0</td>\n",
              "      <td>2.0</td>\n",
              "      <td>No effect</td>\n",
              "      <td>I understand.</td>\n",
              "    </tr>\n",
              "    <tr>\n",
              "      <th>3</th>\n",
              "      <td>8/27/2022 21:40:40</td>\n",
              "      <td>61.0</td>\n",
              "      <td>YouTube Music</td>\n",
              "      <td>2.5</td>\n",
              "      <td>Yes</td>\n",
              "      <td>No</td>\n",
              "      <td>Yes</td>\n",
              "      <td>Jazz</td>\n",
              "      <td>Yes</td>\n",
              "      <td>Yes</td>\n",
              "      <td>...</td>\n",
              "      <td>Sometimes</td>\n",
              "      <td>Never</td>\n",
              "      <td>Never</td>\n",
              "      <td>Never</td>\n",
              "      <td>9.0</td>\n",
              "      <td>7.0</td>\n",
              "      <td>3.0</td>\n",
              "      <td>3.0</td>\n",
              "      <td>Improve</td>\n",
              "      <td>I understand.</td>\n",
              "    </tr>\n",
              "    <tr>\n",
              "      <th>4</th>\n",
              "      <td>8/27/2022 21:54:47</td>\n",
              "      <td>18.0</td>\n",
              "      <td>Spotify</td>\n",
              "      <td>4.0</td>\n",
              "      <td>Yes</td>\n",
              "      <td>No</td>\n",
              "      <td>No</td>\n",
              "      <td>R&amp;B</td>\n",
              "      <td>Yes</td>\n",
              "      <td>No</td>\n",
              "      <td>...</td>\n",
              "      <td>Very frequently</td>\n",
              "      <td>Very frequently</td>\n",
              "      <td>Never</td>\n",
              "      <td>Rarely</td>\n",
              "      <td>7.0</td>\n",
              "      <td>2.0</td>\n",
              "      <td>5.0</td>\n",
              "      <td>9.0</td>\n",
              "      <td>Improve</td>\n",
              "      <td>I understand.</td>\n",
              "    </tr>\n",
              "  </tbody>\n",
              "</table>\n",
              "<p>5 rows × 33 columns</p>\n",
              "</div>\n",
              "    <div class=\"colab-df-buttons\">\n",
              "\n",
              "  <div class=\"colab-df-container\">\n",
              "    <button class=\"colab-df-convert\" onclick=\"convertToInteractive('df-81d53715-a821-4ba7-b703-dc2b1a9a6cf0')\"\n",
              "            title=\"Convert this dataframe to an interactive table.\"\n",
              "            style=\"display:none;\">\n",
              "\n",
              "  <svg xmlns=\"http://www.w3.org/2000/svg\" height=\"24px\" viewBox=\"0 -960 960 960\">\n",
              "    <path d=\"M120-120v-720h720v720H120Zm60-500h600v-160H180v160Zm220 220h160v-160H400v160Zm0 220h160v-160H400v160ZM180-400h160v-160H180v160Zm440 0h160v-160H620v160ZM180-180h160v-160H180v160Zm440 0h160v-160H620v160Z\"/>\n",
              "  </svg>\n",
              "    </button>\n",
              "\n",
              "  <style>\n",
              "    .colab-df-container {\n",
              "      display:flex;\n",
              "      gap: 12px;\n",
              "    }\n",
              "\n",
              "    .colab-df-convert {\n",
              "      background-color: #E8F0FE;\n",
              "      border: none;\n",
              "      border-radius: 50%;\n",
              "      cursor: pointer;\n",
              "      display: none;\n",
              "      fill: #1967D2;\n",
              "      height: 32px;\n",
              "      padding: 0 0 0 0;\n",
              "      width: 32px;\n",
              "    }\n",
              "\n",
              "    .colab-df-convert:hover {\n",
              "      background-color: #E2EBFA;\n",
              "      box-shadow: 0px 1px 2px rgba(60, 64, 67, 0.3), 0px 1px 3px 1px rgba(60, 64, 67, 0.15);\n",
              "      fill: #174EA6;\n",
              "    }\n",
              "\n",
              "    .colab-df-buttons div {\n",
              "      margin-bottom: 4px;\n",
              "    }\n",
              "\n",
              "    [theme=dark] .colab-df-convert {\n",
              "      background-color: #3B4455;\n",
              "      fill: #D2E3FC;\n",
              "    }\n",
              "\n",
              "    [theme=dark] .colab-df-convert:hover {\n",
              "      background-color: #434B5C;\n",
              "      box-shadow: 0px 1px 3px 1px rgba(0, 0, 0, 0.15);\n",
              "      filter: drop-shadow(0px 1px 2px rgba(0, 0, 0, 0.3));\n",
              "      fill: #FFFFFF;\n",
              "    }\n",
              "  </style>\n",
              "\n",
              "    <script>\n",
              "      const buttonEl =\n",
              "        document.querySelector('#df-81d53715-a821-4ba7-b703-dc2b1a9a6cf0 button.colab-df-convert');\n",
              "      buttonEl.style.display =\n",
              "        google.colab.kernel.accessAllowed ? 'block' : 'none';\n",
              "\n",
              "      async function convertToInteractive(key) {\n",
              "        const element = document.querySelector('#df-81d53715-a821-4ba7-b703-dc2b1a9a6cf0');\n",
              "        const dataTable =\n",
              "          await google.colab.kernel.invokeFunction('convertToInteractive',\n",
              "                                                    [key], {});\n",
              "        if (!dataTable) return;\n",
              "\n",
              "        const docLinkHtml = 'Like what you see? Visit the ' +\n",
              "          '<a target=\"_blank\" href=https://colab.research.google.com/notebooks/data_table.ipynb>data table notebook</a>'\n",
              "          + ' to learn more about interactive tables.';\n",
              "        element.innerHTML = '';\n",
              "        dataTable['output_type'] = 'display_data';\n",
              "        await google.colab.output.renderOutput(dataTable, element);\n",
              "        const docLink = document.createElement('div');\n",
              "        docLink.innerHTML = docLinkHtml;\n",
              "        element.appendChild(docLink);\n",
              "      }\n",
              "    </script>\n",
              "  </div>\n",
              "\n",
              "\n",
              "<div id=\"df-80bb5dfd-ddfd-4eb3-9877-91284f1103d3\">\n",
              "  <button class=\"colab-df-quickchart\" onclick=\"quickchart('df-80bb5dfd-ddfd-4eb3-9877-91284f1103d3')\"\n",
              "            title=\"Suggest charts\"\n",
              "            style=\"display:none;\">\n",
              "\n",
              "<svg xmlns=\"http://www.w3.org/2000/svg\" height=\"24px\"viewBox=\"0 0 24 24\"\n",
              "     width=\"24px\">\n",
              "    <g>\n",
              "        <path d=\"M19 3H5c-1.1 0-2 .9-2 2v14c0 1.1.9 2 2 2h14c1.1 0 2-.9 2-2V5c0-1.1-.9-2-2-2zM9 17H7v-7h2v7zm4 0h-2V7h2v10zm4 0h-2v-4h2v4z\"/>\n",
              "    </g>\n",
              "</svg>\n",
              "  </button>\n",
              "\n",
              "<style>\n",
              "  .colab-df-quickchart {\n",
              "      --bg-color: #E8F0FE;\n",
              "      --fill-color: #1967D2;\n",
              "      --hover-bg-color: #E2EBFA;\n",
              "      --hover-fill-color: #174EA6;\n",
              "      --disabled-fill-color: #AAA;\n",
              "      --disabled-bg-color: #DDD;\n",
              "  }\n",
              "\n",
              "  [theme=dark] .colab-df-quickchart {\n",
              "      --bg-color: #3B4455;\n",
              "      --fill-color: #D2E3FC;\n",
              "      --hover-bg-color: #434B5C;\n",
              "      --hover-fill-color: #FFFFFF;\n",
              "      --disabled-bg-color: #3B4455;\n",
              "      --disabled-fill-color: #666;\n",
              "  }\n",
              "\n",
              "  .colab-df-quickchart {\n",
              "    background-color: var(--bg-color);\n",
              "    border: none;\n",
              "    border-radius: 50%;\n",
              "    cursor: pointer;\n",
              "    display: none;\n",
              "    fill: var(--fill-color);\n",
              "    height: 32px;\n",
              "    padding: 0;\n",
              "    width: 32px;\n",
              "  }\n",
              "\n",
              "  .colab-df-quickchart:hover {\n",
              "    background-color: var(--hover-bg-color);\n",
              "    box-shadow: 0 1px 2px rgba(60, 64, 67, 0.3), 0 1px 3px 1px rgba(60, 64, 67, 0.15);\n",
              "    fill: var(--button-hover-fill-color);\n",
              "  }\n",
              "\n",
              "  .colab-df-quickchart-complete:disabled,\n",
              "  .colab-df-quickchart-complete:disabled:hover {\n",
              "    background-color: var(--disabled-bg-color);\n",
              "    fill: var(--disabled-fill-color);\n",
              "    box-shadow: none;\n",
              "  }\n",
              "\n",
              "  .colab-df-spinner {\n",
              "    border: 2px solid var(--fill-color);\n",
              "    border-color: transparent;\n",
              "    border-bottom-color: var(--fill-color);\n",
              "    animation:\n",
              "      spin 1s steps(1) infinite;\n",
              "  }\n",
              "\n",
              "  @keyframes spin {\n",
              "    0% {\n",
              "      border-color: transparent;\n",
              "      border-bottom-color: var(--fill-color);\n",
              "      border-left-color: var(--fill-color);\n",
              "    }\n",
              "    20% {\n",
              "      border-color: transparent;\n",
              "      border-left-color: var(--fill-color);\n",
              "      border-top-color: var(--fill-color);\n",
              "    }\n",
              "    30% {\n",
              "      border-color: transparent;\n",
              "      border-left-color: var(--fill-color);\n",
              "      border-top-color: var(--fill-color);\n",
              "      border-right-color: var(--fill-color);\n",
              "    }\n",
              "    40% {\n",
              "      border-color: transparent;\n",
              "      border-right-color: var(--fill-color);\n",
              "      border-top-color: var(--fill-color);\n",
              "    }\n",
              "    60% {\n",
              "      border-color: transparent;\n",
              "      border-right-color: var(--fill-color);\n",
              "    }\n",
              "    80% {\n",
              "      border-color: transparent;\n",
              "      border-right-color: var(--fill-color);\n",
              "      border-bottom-color: var(--fill-color);\n",
              "    }\n",
              "    90% {\n",
              "      border-color: transparent;\n",
              "      border-bottom-color: var(--fill-color);\n",
              "    }\n",
              "  }\n",
              "</style>\n",
              "\n",
              "  <script>\n",
              "    async function quickchart(key) {\n",
              "      const quickchartButtonEl =\n",
              "        document.querySelector('#' + key + ' button');\n",
              "      quickchartButtonEl.disabled = true;  // To prevent multiple clicks.\n",
              "      quickchartButtonEl.classList.add('colab-df-spinner');\n",
              "      try {\n",
              "        const charts = await google.colab.kernel.invokeFunction(\n",
              "            'suggestCharts', [key], {});\n",
              "      } catch (error) {\n",
              "        console.error('Error during call to suggestCharts:', error);\n",
              "      }\n",
              "      quickchartButtonEl.classList.remove('colab-df-spinner');\n",
              "      quickchartButtonEl.classList.add('colab-df-quickchart-complete');\n",
              "    }\n",
              "    (() => {\n",
              "      let quickchartButtonEl =\n",
              "        document.querySelector('#df-80bb5dfd-ddfd-4eb3-9877-91284f1103d3 button');\n",
              "      quickchartButtonEl.style.display =\n",
              "        google.colab.kernel.accessAllowed ? 'block' : 'none';\n",
              "    })();\n",
              "  </script>\n",
              "</div>\n",
              "\n",
              "    </div>\n",
              "  </div>\n"
            ],
            "application/vnd.google.colaboratory.intrinsic+json": {
              "type": "dataframe",
              "variable_name": "df"
            }
          },
          "metadata": {},
          "execution_count": 3
        }
      ]
    },
    {
      "cell_type": "markdown",
      "source": [
        "# Czyszczenie zbioru danych"
      ],
      "metadata": {
        "id": "nt4hCWS6lT0Y"
      }
    },
    {
      "cell_type": "code",
      "source": [
        "df.info()"
      ],
      "metadata": {
        "colab": {
          "base_uri": "https://localhost:8080/"
        },
        "id": "FEULw1VYljnE",
        "outputId": "68ca404c-bc4c-42fe-817a-71966b764a47"
      },
      "execution_count": 4,
      "outputs": [
        {
          "output_type": "stream",
          "name": "stdout",
          "text": [
            "<class 'pandas.core.frame.DataFrame'>\n",
            "RangeIndex: 736 entries, 0 to 735\n",
            "Data columns (total 33 columns):\n",
            " #   Column                        Non-Null Count  Dtype  \n",
            "---  ------                        --------------  -----  \n",
            " 0   Timestamp                     736 non-null    object \n",
            " 1   Age                           735 non-null    float64\n",
            " 2   Primary streaming service     735 non-null    object \n",
            " 3   Hours per day                 736 non-null    float64\n",
            " 4   While working                 733 non-null    object \n",
            " 5   Instrumentalist               732 non-null    object \n",
            " 6   Composer                      735 non-null    object \n",
            " 7   Fav genre                     736 non-null    object \n",
            " 8   Exploratory                   736 non-null    object \n",
            " 9   Foreign languages             732 non-null    object \n",
            " 10  BPM                           629 non-null    float64\n",
            " 11  Frequency [Classical]         736 non-null    object \n",
            " 12  Frequency [Country]           736 non-null    object \n",
            " 13  Frequency [EDM]               736 non-null    object \n",
            " 14  Frequency [Folk]              736 non-null    object \n",
            " 15  Frequency [Gospel]            736 non-null    object \n",
            " 16  Frequency [Hip hop]           736 non-null    object \n",
            " 17  Frequency [Jazz]              736 non-null    object \n",
            " 18  Frequency [K pop]             736 non-null    object \n",
            " 19  Frequency [Latin]             736 non-null    object \n",
            " 20  Frequency [Lofi]              736 non-null    object \n",
            " 21  Frequency [Metal]             736 non-null    object \n",
            " 22  Frequency [Pop]               736 non-null    object \n",
            " 23  Frequency [R&B]               736 non-null    object \n",
            " 24  Frequency [Rap]               736 non-null    object \n",
            " 25  Frequency [Rock]              736 non-null    object \n",
            " 26  Frequency [Video game music]  736 non-null    object \n",
            " 27  Anxiety                       736 non-null    float64\n",
            " 28  Depression                    736 non-null    float64\n",
            " 29  Insomnia                      736 non-null    float64\n",
            " 30  OCD                           736 non-null    float64\n",
            " 31  Music effects                 728 non-null    object \n",
            " 32  Permissions                   736 non-null    object \n",
            "dtypes: float64(7), object(26)\n",
            "memory usage: 189.9+ KB\n"
          ]
        }
      ]
    },
    {
      "cell_type": "markdown",
      "source": [
        "Kolumny **Timestamp** i **Permissions** nie wpływają na analizę ponieważ to zwykła formalność więc można je usunąć"
      ],
      "metadata": {
        "id": "YnI8TT5JlyVU"
      }
    },
    {
      "cell_type": "code",
      "source": [
        "df.drop(columns=['Timestamp', 'Permissions'], inplace=True)"
      ],
      "metadata": {
        "id": "QGleBeqhT-az"
      },
      "execution_count": 5,
      "outputs": []
    },
    {
      "cell_type": "code",
      "source": [
        "df.dtypes"
      ],
      "metadata": {
        "colab": {
          "base_uri": "https://localhost:8080/",
          "height": 1000
        },
        "id": "a1kJ2rQSZHzG",
        "outputId": "b2644efd-455f-4c5a-9b79-dbc94d63d753"
      },
      "execution_count": 6,
      "outputs": [
        {
          "output_type": "execute_result",
          "data": {
            "text/plain": [
              "Age                             float64\n",
              "Primary streaming service        object\n",
              "Hours per day                   float64\n",
              "While working                    object\n",
              "Instrumentalist                  object\n",
              "Composer                         object\n",
              "Fav genre                        object\n",
              "Exploratory                      object\n",
              "Foreign languages                object\n",
              "BPM                             float64\n",
              "Frequency [Classical]            object\n",
              "Frequency [Country]              object\n",
              "Frequency [EDM]                  object\n",
              "Frequency [Folk]                 object\n",
              "Frequency [Gospel]               object\n",
              "Frequency [Hip hop]              object\n",
              "Frequency [Jazz]                 object\n",
              "Frequency [K pop]                object\n",
              "Frequency [Latin]                object\n",
              "Frequency [Lofi]                 object\n",
              "Frequency [Metal]                object\n",
              "Frequency [Pop]                  object\n",
              "Frequency [R&B]                  object\n",
              "Frequency [Rap]                  object\n",
              "Frequency [Rock]                 object\n",
              "Frequency [Video game music]     object\n",
              "Anxiety                         float64\n",
              "Depression                      float64\n",
              "Insomnia                        float64\n",
              "OCD                             float64\n",
              "Music effects                    object\n",
              "dtype: object"
            ],
            "text/html": [
              "<div>\n",
              "<style scoped>\n",
              "    .dataframe tbody tr th:only-of-type {\n",
              "        vertical-align: middle;\n",
              "    }\n",
              "\n",
              "    .dataframe tbody tr th {\n",
              "        vertical-align: top;\n",
              "    }\n",
              "\n",
              "    .dataframe thead th {\n",
              "        text-align: right;\n",
              "    }\n",
              "</style>\n",
              "<table border=\"1\" class=\"dataframe\">\n",
              "  <thead>\n",
              "    <tr style=\"text-align: right;\">\n",
              "      <th></th>\n",
              "      <th>0</th>\n",
              "    </tr>\n",
              "  </thead>\n",
              "  <tbody>\n",
              "    <tr>\n",
              "      <th>Age</th>\n",
              "      <td>float64</td>\n",
              "    </tr>\n",
              "    <tr>\n",
              "      <th>Primary streaming service</th>\n",
              "      <td>object</td>\n",
              "    </tr>\n",
              "    <tr>\n",
              "      <th>Hours per day</th>\n",
              "      <td>float64</td>\n",
              "    </tr>\n",
              "    <tr>\n",
              "      <th>While working</th>\n",
              "      <td>object</td>\n",
              "    </tr>\n",
              "    <tr>\n",
              "      <th>Instrumentalist</th>\n",
              "      <td>object</td>\n",
              "    </tr>\n",
              "    <tr>\n",
              "      <th>Composer</th>\n",
              "      <td>object</td>\n",
              "    </tr>\n",
              "    <tr>\n",
              "      <th>Fav genre</th>\n",
              "      <td>object</td>\n",
              "    </tr>\n",
              "    <tr>\n",
              "      <th>Exploratory</th>\n",
              "      <td>object</td>\n",
              "    </tr>\n",
              "    <tr>\n",
              "      <th>Foreign languages</th>\n",
              "      <td>object</td>\n",
              "    </tr>\n",
              "    <tr>\n",
              "      <th>BPM</th>\n",
              "      <td>float64</td>\n",
              "    </tr>\n",
              "    <tr>\n",
              "      <th>Frequency [Classical]</th>\n",
              "      <td>object</td>\n",
              "    </tr>\n",
              "    <tr>\n",
              "      <th>Frequency [Country]</th>\n",
              "      <td>object</td>\n",
              "    </tr>\n",
              "    <tr>\n",
              "      <th>Frequency [EDM]</th>\n",
              "      <td>object</td>\n",
              "    </tr>\n",
              "    <tr>\n",
              "      <th>Frequency [Folk]</th>\n",
              "      <td>object</td>\n",
              "    </tr>\n",
              "    <tr>\n",
              "      <th>Frequency [Gospel]</th>\n",
              "      <td>object</td>\n",
              "    </tr>\n",
              "    <tr>\n",
              "      <th>Frequency [Hip hop]</th>\n",
              "      <td>object</td>\n",
              "    </tr>\n",
              "    <tr>\n",
              "      <th>Frequency [Jazz]</th>\n",
              "      <td>object</td>\n",
              "    </tr>\n",
              "    <tr>\n",
              "      <th>Frequency [K pop]</th>\n",
              "      <td>object</td>\n",
              "    </tr>\n",
              "    <tr>\n",
              "      <th>Frequency [Latin]</th>\n",
              "      <td>object</td>\n",
              "    </tr>\n",
              "    <tr>\n",
              "      <th>Frequency [Lofi]</th>\n",
              "      <td>object</td>\n",
              "    </tr>\n",
              "    <tr>\n",
              "      <th>Frequency [Metal]</th>\n",
              "      <td>object</td>\n",
              "    </tr>\n",
              "    <tr>\n",
              "      <th>Frequency [Pop]</th>\n",
              "      <td>object</td>\n",
              "    </tr>\n",
              "    <tr>\n",
              "      <th>Frequency [R&amp;B]</th>\n",
              "      <td>object</td>\n",
              "    </tr>\n",
              "    <tr>\n",
              "      <th>Frequency [Rap]</th>\n",
              "      <td>object</td>\n",
              "    </tr>\n",
              "    <tr>\n",
              "      <th>Frequency [Rock]</th>\n",
              "      <td>object</td>\n",
              "    </tr>\n",
              "    <tr>\n",
              "      <th>Frequency [Video game music]</th>\n",
              "      <td>object</td>\n",
              "    </tr>\n",
              "    <tr>\n",
              "      <th>Anxiety</th>\n",
              "      <td>float64</td>\n",
              "    </tr>\n",
              "    <tr>\n",
              "      <th>Depression</th>\n",
              "      <td>float64</td>\n",
              "    </tr>\n",
              "    <tr>\n",
              "      <th>Insomnia</th>\n",
              "      <td>float64</td>\n",
              "    </tr>\n",
              "    <tr>\n",
              "      <th>OCD</th>\n",
              "      <td>float64</td>\n",
              "    </tr>\n",
              "    <tr>\n",
              "      <th>Music effects</th>\n",
              "      <td>object</td>\n",
              "    </tr>\n",
              "  </tbody>\n",
              "</table>\n",
              "</div><br><label><b>dtype:</b> object</label>"
            ]
          },
          "metadata": {},
          "execution_count": 6
        }
      ]
    },
    {
      "cell_type": "markdown",
      "source": [
        "* Takie kolumny jak **Age** i **BPM** mają typ **float64** ale powinny być raczej **int64** ( *ale najpierw musiałbym pozbyć się braków danych* )\n",
        "* Jak też można zauważyć większość kolumn ma typ **String** który zamieniam na **Categorical**\n",
        "\n",
        "\n",
        "---\n",
        "\n",
        "\n",
        "*Aby nie powtarzać kodu wybiore indeksy kolumn mających typ* **object** *i zamienię je na kolumny z zastosowaniem na nich funkcji zmieniającej typ na* **category**"
      ],
      "metadata": {
        "id": "O3EObQolVgpt"
      }
    },
    {
      "cell_type": "code",
      "source": [
        "df[df.select_dtypes(include='object').columns] = df.select_dtypes(include='object').apply(lambda col : col.astype(\"category\"))"
      ],
      "metadata": {
        "id": "Ym2DspRykX_X"
      },
      "execution_count": 7,
      "outputs": []
    },
    {
      "cell_type": "markdown",
      "source": [
        "## Brakujące dane"
      ],
      "metadata": {
        "id": "XqBafhvQm-0W"
      }
    },
    {
      "cell_type": "code",
      "source": [
        "df.isna().mean() * 100"
      ],
      "metadata": {
        "colab": {
          "base_uri": "https://localhost:8080/",
          "height": 1000
        },
        "id": "Tfd-BMqNntwW",
        "outputId": "7373ae1b-a407-4383-f439-157ce201fd02"
      },
      "execution_count": 8,
      "outputs": [
        {
          "output_type": "execute_result",
          "data": {
            "text/plain": [
              "Age                              0.135870\n",
              "Primary streaming service        0.135870\n",
              "Hours per day                    0.000000\n",
              "While working                    0.407609\n",
              "Instrumentalist                  0.543478\n",
              "Composer                         0.135870\n",
              "Fav genre                        0.000000\n",
              "Exploratory                      0.000000\n",
              "Foreign languages                0.543478\n",
              "BPM                             14.538043\n",
              "Frequency [Classical]            0.000000\n",
              "Frequency [Country]              0.000000\n",
              "Frequency [EDM]                  0.000000\n",
              "Frequency [Folk]                 0.000000\n",
              "Frequency [Gospel]               0.000000\n",
              "Frequency [Hip hop]              0.000000\n",
              "Frequency [Jazz]                 0.000000\n",
              "Frequency [K pop]                0.000000\n",
              "Frequency [Latin]                0.000000\n",
              "Frequency [Lofi]                 0.000000\n",
              "Frequency [Metal]                0.000000\n",
              "Frequency [Pop]                  0.000000\n",
              "Frequency [R&B]                  0.000000\n",
              "Frequency [Rap]                  0.000000\n",
              "Frequency [Rock]                 0.000000\n",
              "Frequency [Video game music]     0.000000\n",
              "Anxiety                          0.000000\n",
              "Depression                       0.000000\n",
              "Insomnia                         0.000000\n",
              "OCD                              0.000000\n",
              "Music effects                    1.086957\n",
              "dtype: float64"
            ],
            "text/html": [
              "<div>\n",
              "<style scoped>\n",
              "    .dataframe tbody tr th:only-of-type {\n",
              "        vertical-align: middle;\n",
              "    }\n",
              "\n",
              "    .dataframe tbody tr th {\n",
              "        vertical-align: top;\n",
              "    }\n",
              "\n",
              "    .dataframe thead th {\n",
              "        text-align: right;\n",
              "    }\n",
              "</style>\n",
              "<table border=\"1\" class=\"dataframe\">\n",
              "  <thead>\n",
              "    <tr style=\"text-align: right;\">\n",
              "      <th></th>\n",
              "      <th>0</th>\n",
              "    </tr>\n",
              "  </thead>\n",
              "  <tbody>\n",
              "    <tr>\n",
              "      <th>Age</th>\n",
              "      <td>0.135870</td>\n",
              "    </tr>\n",
              "    <tr>\n",
              "      <th>Primary streaming service</th>\n",
              "      <td>0.135870</td>\n",
              "    </tr>\n",
              "    <tr>\n",
              "      <th>Hours per day</th>\n",
              "      <td>0.000000</td>\n",
              "    </tr>\n",
              "    <tr>\n",
              "      <th>While working</th>\n",
              "      <td>0.407609</td>\n",
              "    </tr>\n",
              "    <tr>\n",
              "      <th>Instrumentalist</th>\n",
              "      <td>0.543478</td>\n",
              "    </tr>\n",
              "    <tr>\n",
              "      <th>Composer</th>\n",
              "      <td>0.135870</td>\n",
              "    </tr>\n",
              "    <tr>\n",
              "      <th>Fav genre</th>\n",
              "      <td>0.000000</td>\n",
              "    </tr>\n",
              "    <tr>\n",
              "      <th>Exploratory</th>\n",
              "      <td>0.000000</td>\n",
              "    </tr>\n",
              "    <tr>\n",
              "      <th>Foreign languages</th>\n",
              "      <td>0.543478</td>\n",
              "    </tr>\n",
              "    <tr>\n",
              "      <th>BPM</th>\n",
              "      <td>14.538043</td>\n",
              "    </tr>\n",
              "    <tr>\n",
              "      <th>Frequency [Classical]</th>\n",
              "      <td>0.000000</td>\n",
              "    </tr>\n",
              "    <tr>\n",
              "      <th>Frequency [Country]</th>\n",
              "      <td>0.000000</td>\n",
              "    </tr>\n",
              "    <tr>\n",
              "      <th>Frequency [EDM]</th>\n",
              "      <td>0.000000</td>\n",
              "    </tr>\n",
              "    <tr>\n",
              "      <th>Frequency [Folk]</th>\n",
              "      <td>0.000000</td>\n",
              "    </tr>\n",
              "    <tr>\n",
              "      <th>Frequency [Gospel]</th>\n",
              "      <td>0.000000</td>\n",
              "    </tr>\n",
              "    <tr>\n",
              "      <th>Frequency [Hip hop]</th>\n",
              "      <td>0.000000</td>\n",
              "    </tr>\n",
              "    <tr>\n",
              "      <th>Frequency [Jazz]</th>\n",
              "      <td>0.000000</td>\n",
              "    </tr>\n",
              "    <tr>\n",
              "      <th>Frequency [K pop]</th>\n",
              "      <td>0.000000</td>\n",
              "    </tr>\n",
              "    <tr>\n",
              "      <th>Frequency [Latin]</th>\n",
              "      <td>0.000000</td>\n",
              "    </tr>\n",
              "    <tr>\n",
              "      <th>Frequency [Lofi]</th>\n",
              "      <td>0.000000</td>\n",
              "    </tr>\n",
              "    <tr>\n",
              "      <th>Frequency [Metal]</th>\n",
              "      <td>0.000000</td>\n",
              "    </tr>\n",
              "    <tr>\n",
              "      <th>Frequency [Pop]</th>\n",
              "      <td>0.000000</td>\n",
              "    </tr>\n",
              "    <tr>\n",
              "      <th>Frequency [R&amp;B]</th>\n",
              "      <td>0.000000</td>\n",
              "    </tr>\n",
              "    <tr>\n",
              "      <th>Frequency [Rap]</th>\n",
              "      <td>0.000000</td>\n",
              "    </tr>\n",
              "    <tr>\n",
              "      <th>Frequency [Rock]</th>\n",
              "      <td>0.000000</td>\n",
              "    </tr>\n",
              "    <tr>\n",
              "      <th>Frequency [Video game music]</th>\n",
              "      <td>0.000000</td>\n",
              "    </tr>\n",
              "    <tr>\n",
              "      <th>Anxiety</th>\n",
              "      <td>0.000000</td>\n",
              "    </tr>\n",
              "    <tr>\n",
              "      <th>Depression</th>\n",
              "      <td>0.000000</td>\n",
              "    </tr>\n",
              "    <tr>\n",
              "      <th>Insomnia</th>\n",
              "      <td>0.000000</td>\n",
              "    </tr>\n",
              "    <tr>\n",
              "      <th>OCD</th>\n",
              "      <td>0.000000</td>\n",
              "    </tr>\n",
              "    <tr>\n",
              "      <th>Music effects</th>\n",
              "      <td>1.086957</td>\n",
              "    </tr>\n",
              "  </tbody>\n",
              "</table>\n",
              "</div><br><label><b>dtype:</b> float64</label>"
            ]
          },
          "metadata": {},
          "execution_count": 8
        }
      ]
    },
    {
      "cell_type": "markdown",
      "source": [
        "Jak widać mamy:\n",
        "* Age < 1%\n",
        "* Primary streaming service\t< 1%\n",
        "* While working\t< 1%\n",
        "* Instrumentalist\t< 1%\n",
        "* Composer\t< 1%\n",
        "* Foreign languages\t< 1%\n",
        "* BPM ~ 14%\n",
        "* Music effects ~ 1%"
      ],
      "metadata": {
        "id": "bS8_X2WDrEsC"
      }
    },
    {
      "cell_type": "code",
      "source": [
        "df_backup = df.copy()"
      ],
      "metadata": {
        "id": "ip8cEoazKbK7"
      },
      "execution_count": 9,
      "outputs": []
    },
    {
      "cell_type": "code",
      "source": [
        "df['Age'].isna().sum()"
      ],
      "metadata": {
        "colab": {
          "base_uri": "https://localhost:8080/"
        },
        "id": "TA0_jQmFK-bB",
        "outputId": "58022977-2c17-4c3e-de13-905d6f04e32f"
      },
      "execution_count": 10,
      "outputs": [
        {
          "output_type": "execute_result",
          "data": {
            "text/plain": [
              "1"
            ]
          },
          "metadata": {},
          "execution_count": 10
        }
      ]
    },
    {
      "cell_type": "markdown",
      "source": [
        "**Age** - Usuwam rekordy z brakującym wiekiem ponieważ wartości brakuje tylko w 1 rekordzie a jest ona dla nas ważna w analizie"
      ],
      "metadata": {
        "id": "3mxfnl-WK1bw"
      }
    },
    {
      "cell_type": "code",
      "source": [
        "df.dropna(subset=['Age'], inplace=True)"
      ],
      "metadata": {
        "id": "9v8PwX_3Lw2V"
      },
      "execution_count": 11,
      "outputs": []
    },
    {
      "cell_type": "code",
      "source": [
        "df.groupby('Primary streaming service')['Primary streaming service'].count()"
      ],
      "metadata": {
        "colab": {
          "base_uri": "https://localhost:8080/",
          "height": 358
        },
        "id": "qwSwQKudMdcD",
        "outputId": "f3f3e585-96ac-4459-c5a7-9ec8e5917129"
      },
      "execution_count": 12,
      "outputs": [
        {
          "output_type": "stream",
          "name": "stderr",
          "text": [
            "<ipython-input-12-70b158508441>:1: FutureWarning: The default of observed=False is deprecated and will be changed to True in a future version of pandas. Pass observed=False to retain current behavior or observed=True to adopt the future default and silence this warning.\n",
            "  df.groupby('Primary streaming service')['Primary streaming service'].count()\n"
          ]
        },
        {
          "output_type": "execute_result",
          "data": {
            "text/plain": [
              "Primary streaming service\n",
              "Apple Music                           51\n",
              "I do not use a streaming service.     71\n",
              "Other streaming service               50\n",
              "Pandora                               11\n",
              "Spotify                              457\n",
              "YouTube Music                         94\n",
              "Name: Primary streaming service, dtype: int64"
            ],
            "text/html": [
              "<div>\n",
              "<style scoped>\n",
              "    .dataframe tbody tr th:only-of-type {\n",
              "        vertical-align: middle;\n",
              "    }\n",
              "\n",
              "    .dataframe tbody tr th {\n",
              "        vertical-align: top;\n",
              "    }\n",
              "\n",
              "    .dataframe thead th {\n",
              "        text-align: right;\n",
              "    }\n",
              "</style>\n",
              "<table border=\"1\" class=\"dataframe\">\n",
              "  <thead>\n",
              "    <tr style=\"text-align: right;\">\n",
              "      <th></th>\n",
              "      <th>Primary streaming service</th>\n",
              "    </tr>\n",
              "    <tr>\n",
              "      <th>Primary streaming service</th>\n",
              "      <th></th>\n",
              "    </tr>\n",
              "  </thead>\n",
              "  <tbody>\n",
              "    <tr>\n",
              "      <th>Apple Music</th>\n",
              "      <td>51</td>\n",
              "    </tr>\n",
              "    <tr>\n",
              "      <th>I do not use a streaming service.</th>\n",
              "      <td>71</td>\n",
              "    </tr>\n",
              "    <tr>\n",
              "      <th>Other streaming service</th>\n",
              "      <td>50</td>\n",
              "    </tr>\n",
              "    <tr>\n",
              "      <th>Pandora</th>\n",
              "      <td>11</td>\n",
              "    </tr>\n",
              "    <tr>\n",
              "      <th>Spotify</th>\n",
              "      <td>457</td>\n",
              "    </tr>\n",
              "    <tr>\n",
              "      <th>YouTube Music</th>\n",
              "      <td>94</td>\n",
              "    </tr>\n",
              "  </tbody>\n",
              "</table>\n",
              "</div><br><label><b>dtype:</b> int64</label>"
            ]
          },
          "metadata": {},
          "execution_count": 12
        }
      ]
    },
    {
      "cell_type": "markdown",
      "source": [
        "**Primary streaming service** - wypełnię braki wartością Spotify ponieważ jest on najczęściej wybieraną platformą"
      ],
      "metadata": {
        "id": "I_NYY3O-MWtR"
      }
    },
    {
      "cell_type": "code",
      "source": [
        "df['Primary streaming service'] = df['Primary streaming service'].fillna('Spotify')"
      ],
      "metadata": {
        "id": "6jDf-WKwO9xj"
      },
      "execution_count": 13,
      "outputs": []
    },
    {
      "cell_type": "markdown",
      "source": [
        "**While working** - wypełniam wartością **Yes** ponieważ występuje najczęściej i jest bardziej realistyczna dla wielu osób"
      ],
      "metadata": {
        "id": "mgYU6vwFM9Hb"
      }
    },
    {
      "cell_type": "code",
      "source": [
        "df['While working'].mode()[0]"
      ],
      "metadata": {
        "colab": {
          "base_uri": "https://localhost:8080/",
          "height": 35
        },
        "id": "neKml-YqxrJS",
        "outputId": "bf5cac4f-1148-4b21-8a90-ce4ab0049b38"
      },
      "execution_count": 14,
      "outputs": [
        {
          "output_type": "execute_result",
          "data": {
            "text/plain": [
              "'Yes'"
            ],
            "application/vnd.google.colaboratory.intrinsic+json": {
              "type": "string"
            }
          },
          "metadata": {},
          "execution_count": 14
        }
      ]
    },
    {
      "cell_type": "code",
      "source": [
        "df['While working'] = df['While working'].fillna('Yes')"
      ],
      "metadata": {
        "id": "_UXPmafVyoj5"
      },
      "execution_count": 15,
      "outputs": []
    },
    {
      "cell_type": "code",
      "source": [
        "df.groupby(['Instrumentalist', 'Composer'])['Composer'].count()"
      ],
      "metadata": {
        "colab": {
          "base_uri": "https://localhost:8080/",
          "height": 296
        },
        "id": "SqdaZwiny9eb",
        "outputId": "c483bf7d-96cd-4bff-87ca-77307be90cd9"
      },
      "execution_count": 16,
      "outputs": [
        {
          "output_type": "stream",
          "name": "stderr",
          "text": [
            "<ipython-input-16-eed88122879e>:1: FutureWarning: The default of observed=False is deprecated and will be changed to True in a future version of pandas. Pass observed=False to retain current behavior or observed=True to adopt the future default and silence this warning.\n",
            "  df.groupby(['Instrumentalist', 'Composer'])['Composer'].count()\n"
          ]
        },
        {
          "output_type": "execute_result",
          "data": {
            "text/plain": [
              "Instrumentalist  Composer\n",
              "No               No          463\n",
              "                 Yes          33\n",
              "Yes              No          143\n",
              "                 Yes          92\n",
              "Name: Composer, dtype: int64"
            ],
            "text/html": [
              "<div>\n",
              "<style scoped>\n",
              "    .dataframe tbody tr th:only-of-type {\n",
              "        vertical-align: middle;\n",
              "    }\n",
              "\n",
              "    .dataframe tbody tr th {\n",
              "        vertical-align: top;\n",
              "    }\n",
              "\n",
              "    .dataframe thead th {\n",
              "        text-align: right;\n",
              "    }\n",
              "</style>\n",
              "<table border=\"1\" class=\"dataframe\">\n",
              "  <thead>\n",
              "    <tr style=\"text-align: right;\">\n",
              "      <th></th>\n",
              "      <th></th>\n",
              "      <th>Composer</th>\n",
              "    </tr>\n",
              "    <tr>\n",
              "      <th>Instrumentalist</th>\n",
              "      <th>Composer</th>\n",
              "      <th></th>\n",
              "    </tr>\n",
              "  </thead>\n",
              "  <tbody>\n",
              "    <tr>\n",
              "      <th rowspan=\"2\" valign=\"top\">No</th>\n",
              "      <th>No</th>\n",
              "      <td>463</td>\n",
              "    </tr>\n",
              "    <tr>\n",
              "      <th>Yes</th>\n",
              "      <td>33</td>\n",
              "    </tr>\n",
              "    <tr>\n",
              "      <th rowspan=\"2\" valign=\"top\">Yes</th>\n",
              "      <th>No</th>\n",
              "      <td>143</td>\n",
              "    </tr>\n",
              "    <tr>\n",
              "      <th>Yes</th>\n",
              "      <td>92</td>\n",
              "    </tr>\n",
              "  </tbody>\n",
              "</table>\n",
              "</div><br><label><b>dtype:</b> int64</label>"
            ]
          },
          "metadata": {},
          "execution_count": 16
        }
      ]
    },
    {
      "cell_type": "markdown",
      "source": [
        "**Instrumentalist, Composer** - wypełnię wartością **No** ze względu na to że częsciej człowiek nie robi własnej muzyki i nie gra na instrumentach"
      ],
      "metadata": {
        "id": "RxaoG_Sry13H"
      }
    },
    {
      "cell_type": "code",
      "source": [
        "df['Composer'] = df['Composer'].fillna('No')\n",
        "df['Instrumentalist'] = df['Instrumentalist'].fillna('No')"
      ],
      "metadata": {
        "id": "WuuKW98ty7pf"
      },
      "execution_count": 17,
      "outputs": []
    },
    {
      "cell_type": "markdown",
      "source": [
        "**Foreign languages** - zostanie wypełnione metodą **Backward fill**"
      ],
      "metadata": {
        "id": "KwCfT5CuM-Of"
      }
    },
    {
      "cell_type": "code",
      "source": [
        "df['Foreign languages'] = df['Foreign languages'].bfill()\n",
        "df['Foreign languages'].isna().sum()"
      ],
      "metadata": {
        "colab": {
          "base_uri": "https://localhost:8080/"
        },
        "id": "6iQWa7Lxz8hX",
        "outputId": "2d1111fd-3594-42a0-a904-68efc81219f8"
      },
      "execution_count": 18,
      "outputs": [
        {
          "output_type": "execute_result",
          "data": {
            "text/plain": [
              "0"
            ]
          },
          "metadata": {},
          "execution_count": 18
        }
      ]
    },
    {
      "cell_type": "markdown",
      "source": [
        "**BPM** - ze względu na duży procent spróbuje wypełnić metodą interpolacji wielomianowej"
      ],
      "metadata": {
        "id": "Wm0GShgXNFNU"
      }
    },
    {
      "cell_type": "code",
      "source": [
        "df['BPM'] = df['BPM'].interpolate(method='polynomial', order=2)\n",
        "df['BPM'].isna().sum()"
      ],
      "metadata": {
        "id": "88BqtNhWNHTZ",
        "colab": {
          "base_uri": "https://localhost:8080/"
        },
        "outputId": "70b15540-d5c1-4440-ed38-7fd1fb7f5c5e"
      },
      "execution_count": 19,
      "outputs": [
        {
          "output_type": "execute_result",
          "data": {
            "text/plain": [
              "0"
            ]
          },
          "metadata": {},
          "execution_count": 19
        }
      ]
    },
    {
      "cell_type": "markdown",
      "source": [
        "**Music effects** - aby nie tracić na ilości rekordów możemy uznać że brakujące wartości to **Brak efektu (No effect)**"
      ],
      "metadata": {
        "id": "Q1cMFhPyNDj7"
      }
    },
    {
      "cell_type": "code",
      "source": [
        "df['Music effects'] = df['Music effects'].fillna('No effect')"
      ],
      "metadata": {
        "id": "D9GWXS0WNEtK"
      },
      "execution_count": 20,
      "outputs": []
    },
    {
      "cell_type": "code",
      "source": [
        "df.isna().mean() * 100"
      ],
      "metadata": {
        "colab": {
          "base_uri": "https://localhost:8080/",
          "height": 1000
        },
        "id": "p9kObeXh5uBA",
        "outputId": "9ca4920c-b510-4621-ecb3-089fe85384f4"
      },
      "execution_count": 21,
      "outputs": [
        {
          "output_type": "execute_result",
          "data": {
            "text/plain": [
              "Age                             0.0\n",
              "Primary streaming service       0.0\n",
              "Hours per day                   0.0\n",
              "While working                   0.0\n",
              "Instrumentalist                 0.0\n",
              "Composer                        0.0\n",
              "Fav genre                       0.0\n",
              "Exploratory                     0.0\n",
              "Foreign languages               0.0\n",
              "BPM                             0.0\n",
              "Frequency [Classical]           0.0\n",
              "Frequency [Country]             0.0\n",
              "Frequency [EDM]                 0.0\n",
              "Frequency [Folk]                0.0\n",
              "Frequency [Gospel]              0.0\n",
              "Frequency [Hip hop]             0.0\n",
              "Frequency [Jazz]                0.0\n",
              "Frequency [K pop]               0.0\n",
              "Frequency [Latin]               0.0\n",
              "Frequency [Lofi]                0.0\n",
              "Frequency [Metal]               0.0\n",
              "Frequency [Pop]                 0.0\n",
              "Frequency [R&B]                 0.0\n",
              "Frequency [Rap]                 0.0\n",
              "Frequency [Rock]                0.0\n",
              "Frequency [Video game music]    0.0\n",
              "Anxiety                         0.0\n",
              "Depression                      0.0\n",
              "Insomnia                        0.0\n",
              "OCD                             0.0\n",
              "Music effects                   0.0\n",
              "dtype: float64"
            ],
            "text/html": [
              "<div>\n",
              "<style scoped>\n",
              "    .dataframe tbody tr th:only-of-type {\n",
              "        vertical-align: middle;\n",
              "    }\n",
              "\n",
              "    .dataframe tbody tr th {\n",
              "        vertical-align: top;\n",
              "    }\n",
              "\n",
              "    .dataframe thead th {\n",
              "        text-align: right;\n",
              "    }\n",
              "</style>\n",
              "<table border=\"1\" class=\"dataframe\">\n",
              "  <thead>\n",
              "    <tr style=\"text-align: right;\">\n",
              "      <th></th>\n",
              "      <th>0</th>\n",
              "    </tr>\n",
              "  </thead>\n",
              "  <tbody>\n",
              "    <tr>\n",
              "      <th>Age</th>\n",
              "      <td>0.0</td>\n",
              "    </tr>\n",
              "    <tr>\n",
              "      <th>Primary streaming service</th>\n",
              "      <td>0.0</td>\n",
              "    </tr>\n",
              "    <tr>\n",
              "      <th>Hours per day</th>\n",
              "      <td>0.0</td>\n",
              "    </tr>\n",
              "    <tr>\n",
              "      <th>While working</th>\n",
              "      <td>0.0</td>\n",
              "    </tr>\n",
              "    <tr>\n",
              "      <th>Instrumentalist</th>\n",
              "      <td>0.0</td>\n",
              "    </tr>\n",
              "    <tr>\n",
              "      <th>Composer</th>\n",
              "      <td>0.0</td>\n",
              "    </tr>\n",
              "    <tr>\n",
              "      <th>Fav genre</th>\n",
              "      <td>0.0</td>\n",
              "    </tr>\n",
              "    <tr>\n",
              "      <th>Exploratory</th>\n",
              "      <td>0.0</td>\n",
              "    </tr>\n",
              "    <tr>\n",
              "      <th>Foreign languages</th>\n",
              "      <td>0.0</td>\n",
              "    </tr>\n",
              "    <tr>\n",
              "      <th>BPM</th>\n",
              "      <td>0.0</td>\n",
              "    </tr>\n",
              "    <tr>\n",
              "      <th>Frequency [Classical]</th>\n",
              "      <td>0.0</td>\n",
              "    </tr>\n",
              "    <tr>\n",
              "      <th>Frequency [Country]</th>\n",
              "      <td>0.0</td>\n",
              "    </tr>\n",
              "    <tr>\n",
              "      <th>Frequency [EDM]</th>\n",
              "      <td>0.0</td>\n",
              "    </tr>\n",
              "    <tr>\n",
              "      <th>Frequency [Folk]</th>\n",
              "      <td>0.0</td>\n",
              "    </tr>\n",
              "    <tr>\n",
              "      <th>Frequency [Gospel]</th>\n",
              "      <td>0.0</td>\n",
              "    </tr>\n",
              "    <tr>\n",
              "      <th>Frequency [Hip hop]</th>\n",
              "      <td>0.0</td>\n",
              "    </tr>\n",
              "    <tr>\n",
              "      <th>Frequency [Jazz]</th>\n",
              "      <td>0.0</td>\n",
              "    </tr>\n",
              "    <tr>\n",
              "      <th>Frequency [K pop]</th>\n",
              "      <td>0.0</td>\n",
              "    </tr>\n",
              "    <tr>\n",
              "      <th>Frequency [Latin]</th>\n",
              "      <td>0.0</td>\n",
              "    </tr>\n",
              "    <tr>\n",
              "      <th>Frequency [Lofi]</th>\n",
              "      <td>0.0</td>\n",
              "    </tr>\n",
              "    <tr>\n",
              "      <th>Frequency [Metal]</th>\n",
              "      <td>0.0</td>\n",
              "    </tr>\n",
              "    <tr>\n",
              "      <th>Frequency [Pop]</th>\n",
              "      <td>0.0</td>\n",
              "    </tr>\n",
              "    <tr>\n",
              "      <th>Frequency [R&amp;B]</th>\n",
              "      <td>0.0</td>\n",
              "    </tr>\n",
              "    <tr>\n",
              "      <th>Frequency [Rap]</th>\n",
              "      <td>0.0</td>\n",
              "    </tr>\n",
              "    <tr>\n",
              "      <th>Frequency [Rock]</th>\n",
              "      <td>0.0</td>\n",
              "    </tr>\n",
              "    <tr>\n",
              "      <th>Frequency [Video game music]</th>\n",
              "      <td>0.0</td>\n",
              "    </tr>\n",
              "    <tr>\n",
              "      <th>Anxiety</th>\n",
              "      <td>0.0</td>\n",
              "    </tr>\n",
              "    <tr>\n",
              "      <th>Depression</th>\n",
              "      <td>0.0</td>\n",
              "    </tr>\n",
              "    <tr>\n",
              "      <th>Insomnia</th>\n",
              "      <td>0.0</td>\n",
              "    </tr>\n",
              "    <tr>\n",
              "      <th>OCD</th>\n",
              "      <td>0.0</td>\n",
              "    </tr>\n",
              "    <tr>\n",
              "      <th>Music effects</th>\n",
              "      <td>0.0</td>\n",
              "    </tr>\n",
              "  </tbody>\n",
              "</table>\n",
              "</div><br><label><b>dtype:</b> float64</label>"
            ]
          },
          "metadata": {},
          "execution_count": 21
        }
      ]
    },
    {
      "cell_type": "markdown",
      "source": [
        "Teraz nie mając brakujących wartości można zamienić typ danych w kolumnach **Age** i **BPM**"
      ],
      "metadata": {
        "id": "fBpzSZbS9CD-"
      }
    },
    {
      "cell_type": "code",
      "source": [
        "df['Age'] = df['Age'].astype('int64')\n",
        "df['BPM'] = df['BPM'].astype('int64')"
      ],
      "metadata": {
        "id": "5ALud0t39KuJ"
      },
      "execution_count": 22,
      "outputs": []
    },
    {
      "cell_type": "markdown",
      "source": [
        "## Wartości odstające\n",
        "Wartości odstające możemy mieć (mamy) w kolumnie **BPM** więc użyję metody **IQR-based Outlier Detection**"
      ],
      "metadata": {
        "id": "OslqITxB9SX8"
      }
    },
    {
      "cell_type": "code",
      "source": [
        "df['BPM'].mean()"
      ],
      "metadata": {
        "colab": {
          "base_uri": "https://localhost:8080/"
        },
        "id": "aOln38hBcrfz",
        "outputId": "9301850a-2b1a-4144-f5a8-6cefc68bff43"
      },
      "execution_count": 23,
      "outputs": [
        {
          "output_type": "execute_result",
          "data": {
            "text/plain": [
              "1362455.137414966"
            ]
          },
          "metadata": {},
          "execution_count": 23
        }
      ]
    },
    {
      "cell_type": "code",
      "source": [
        "Q1 = df['BPM'].quantile(0.25)\n",
        "Q3 = df['BPM'].quantile(0.75)\n",
        "\n",
        "IQR = Q3 - Q1\n",
        "max_value = int(Q3 + 1.5 * IQR) #kastuje na int ponieważ nie potrzebujemy zmiennoprzycinowej liczby do BPM\n",
        "min_value = int(Q1 - 1.5 * IQR)\n",
        "\n",
        "df['BPM'] = df['BPM'].apply(lambda v: min_value if v < min_value else max_value if v > max_value else v)"
      ],
      "metadata": {
        "id": "7NMqpcohan9E"
      },
      "execution_count": 24,
      "outputs": []
    },
    {
      "cell_type": "code",
      "source": [
        "df['BPM'].mean()"
      ],
      "metadata": {
        "colab": {
          "base_uri": "https://localhost:8080/"
        },
        "id": "2yKtrT1Bcz8S",
        "outputId": "d7946951-e85c-4ac0-ffcb-14b1de08289f"
      },
      "execution_count": 25,
      "outputs": [
        {
          "output_type": "execute_result",
          "data": {
            "text/plain": [
              "123.73877551020408"
            ]
          },
          "metadata": {},
          "execution_count": 25
        }
      ]
    },
    {
      "cell_type": "markdown",
      "source": [
        "Końcowy efekt:"
      ],
      "metadata": {
        "id": "YpHKzTR5gI3p"
      }
    },
    {
      "cell_type": "code",
      "source": [
        "df.info()"
      ],
      "metadata": {
        "colab": {
          "base_uri": "https://localhost:8080/"
        },
        "id": "kaKBjNmBfHjj",
        "outputId": "9021e572-9aac-456e-af26-c7048c7f664a"
      },
      "execution_count": 26,
      "outputs": [
        {
          "output_type": "stream",
          "name": "stdout",
          "text": [
            "<class 'pandas.core.frame.DataFrame'>\n",
            "Index: 735 entries, 0 to 735\n",
            "Data columns (total 31 columns):\n",
            " #   Column                        Non-Null Count  Dtype   \n",
            "---  ------                        --------------  -----   \n",
            " 0   Age                           735 non-null    int64   \n",
            " 1   Primary streaming service     735 non-null    category\n",
            " 2   Hours per day                 735 non-null    float64 \n",
            " 3   While working                 735 non-null    category\n",
            " 4   Instrumentalist               735 non-null    category\n",
            " 5   Composer                      735 non-null    category\n",
            " 6   Fav genre                     735 non-null    category\n",
            " 7   Exploratory                   735 non-null    category\n",
            " 8   Foreign languages             735 non-null    category\n",
            " 9   BPM                           735 non-null    int64   \n",
            " 10  Frequency [Classical]         735 non-null    category\n",
            " 11  Frequency [Country]           735 non-null    category\n",
            " 12  Frequency [EDM]               735 non-null    category\n",
            " 13  Frequency [Folk]              735 non-null    category\n",
            " 14  Frequency [Gospel]            735 non-null    category\n",
            " 15  Frequency [Hip hop]           735 non-null    category\n",
            " 16  Frequency [Jazz]              735 non-null    category\n",
            " 17  Frequency [K pop]             735 non-null    category\n",
            " 18  Frequency [Latin]             735 non-null    category\n",
            " 19  Frequency [Lofi]              735 non-null    category\n",
            " 20  Frequency [Metal]             735 non-null    category\n",
            " 21  Frequency [Pop]               735 non-null    category\n",
            " 22  Frequency [R&B]               735 non-null    category\n",
            " 23  Frequency [Rap]               735 non-null    category\n",
            " 24  Frequency [Rock]              735 non-null    category\n",
            " 25  Frequency [Video game music]  735 non-null    category\n",
            " 26  Anxiety                       735 non-null    float64 \n",
            " 27  Depression                    735 non-null    float64 \n",
            " 28  Insomnia                      735 non-null    float64 \n",
            " 29  OCD                           735 non-null    float64 \n",
            " 30  Music effects                 735 non-null    category\n",
            "dtypes: category(24), float64(5), int64(2)\n",
            "memory usage: 68.0 KB\n"
          ]
        }
      ]
    },
    {
      "cell_type": "markdown",
      "source": [
        "# EDA"
      ],
      "metadata": {
        "id": "WpC9BtR0c-F_"
      }
    },
    {
      "cell_type": "markdown",
      "source": [
        "## Ogólne przedstawienie danych\n",
        "Zaczynam EDA od zobrazowania podstawowych cech osób które wzięli udział w badaniu:\n",
        "* Jak widać w większości to **osoby do 40 roku życia** i tylko nieliczna ilość przekracza ten próg. Znacząca większość nie gra na żadnym instrumencie i nie tworzy własnej muzyki.\n",
        "* **Większość badanych osób słucha muzyki podczas pracy a dzienny czas słuchania wacha się najbardziej od 0 do około 5/6 godzin**"
      ],
      "metadata": {
        "id": "h9sVseOCkc4y"
      }
    },
    {
      "cell_type": "code",
      "source": [
        "person_info = df[['Age','Instrumentalist','Composer','Hours per day','While working']]\n",
        "\n",
        "figure = make_subplots(rows=2, cols=3, subplot_titles=person_info.columns)\n",
        "\n",
        "for i, col_name in enumerate(person_info.columns):\n",
        "  row = i // 3 + 1\n",
        "  column = i % 3 + 1\n",
        "  figure.add_trace(\n",
        "    go.Histogram(x=person_info[col_name],name=col_name,nbinsx=20),\n",
        "    row=row, col=column)\n",
        "\n",
        "figure.update_layout(\n",
        "    title='Histogram cech',\n",
        "    showlegend=False\n",
        ")"
      ],
      "metadata": {
        "colab": {
          "base_uri": "https://localhost:8080/",
          "height": 542
        },
        "id": "gw5FjOwDKvkr",
        "outputId": "08d93b88-2319-4af1-f820-5ab23a6ec962"
      },
      "execution_count": 27,
      "outputs": [
        {
          "output_type": "display_data",
          "data": {
            "text/html": [
              "<html>\n",
              "<head><meta charset=\"utf-8\" /></head>\n",
              "<body>\n",
              "    <div>            <script src=\"https://cdnjs.cloudflare.com/ajax/libs/mathjax/2.7.5/MathJax.js?config=TeX-AMS-MML_SVG\"></script><script type=\"text/javascript\">if (window.MathJax && window.MathJax.Hub && window.MathJax.Hub.Config) {window.MathJax.Hub.Config({SVG: {font: \"STIX-Web\"}});}</script>                <script type=\"text/javascript\">window.PlotlyConfig = {MathJaxConfig: 'local'};</script>\n",
              "        <script charset=\"utf-8\" src=\"https://cdn.plot.ly/plotly-2.35.2.min.js\"></script>                <div id=\"658bdfed-306d-41ea-9606-ed6e6414475b\" class=\"plotly-graph-div\" style=\"height:525px; width:100%;\"></div>            <script type=\"text/javascript\">                                    window.PLOTLYENV=window.PLOTLYENV || {};                                    if (document.getElementById(\"658bdfed-306d-41ea-9606-ed6e6414475b\")) {                    Plotly.newPlot(                        \"658bdfed-306d-41ea-9606-ed6e6414475b\",                        [{\"name\":\"Age\",\"nbinsx\":20,\"x\":[18,63,18,61,18,18,18,21,19,18,18,19,19,18,17,16,16,17,15,15,17,19,18,16,18,14,18,17,17,20,19,19,17,16,18,21,17,26,20,23,18,37,17,18,17,36,24,18,19,17,16,23,23,22,16,18,42,23,23,19,22,15,25,32,36,24,29,41,36,19,31,16,26,22,16,17,19,18,18,19,19,22,16,19,37,14,33,26,32,30,43,24,36,19,22,20,31,19,15,18,25,17,28,20,21,41,20,34,21,23,16,19,22,19,23,23,22,17,28,23,19,17,21,29,22,18,13,24,35,29,28,32,32,21,18,19,18,16,25,17,16,27,53,25,34,22,17,26,19,21,32,21,25,26,21,17,28,41,18,22,18,49,21,27,19,27,27,19,42,60,19,20,28,16,18,34,18,21,38,17,35,21,25,18,16,19,31,26,16,26,17,22,20,30,26,19,21,33,28,25,22,19,44,22,26,23,17,42,30,35,20,18,21,19,37,31,29,20,36,18,18,25,18,31,17,21,30,40,64,14,26,35,33,30,31,27,53,23,25,16,18,29,31,31,38,17,25,20,15,16,20,23,22,15,17,22,21,19,32,34,18,21,20,19,25,31,21,31,20,19,19,23,24,20,15,17,20,14,24,14,23,28,22,25,27,18,17,23,40,27,18,16,18,23,15,20,16,16,20,33,22,21,21,29,56,17,22,26,30,49,22,32,32,22,17,21,17,25,15,13,38,23,17,59,22,17,27,23,15,22,23,19,32,40,21,21,23,21,35,18,21,22,23,13,19,33,18,17,16,18,19,15,17,25,24,23,16,25,16,20,17,29,20,16,21,16,43,32,10,27,24,18,17,19,16,64,33,32,15,27,20,23,19,12,16,17,14,32,20,54,18,14,13,19,14,14,18,15,24,17,44,23,21,57,23,18,26,13,15,57,12,26,17,17,69,17,32,22,38,18,14,14,19,20,18,30,31,72,73,16,19,16,12,39,15,14,21,38,23,16,21,13,16,18,21,17,24,14,25,22,20,23,61,24,34,49,33,22,38,23,34,40,27,54,16,23,35,22,41,63,28,22,58,58,67,70,60,15,18,58,28,22,49,20,55,48,14,18,25,71,60,18,19,74,36,14,20,15,19,29,24,18,21,19,25,28,27,60,25,60,43,51,63,64,22,24,19,56,20,19,20,60,65,28,18,42,80,22,56,20,15,67,57,22,17,19,50,24,67,18,20,15,17,32,18,18,18,19,18,17,34,18,18,22,18,19,25,17,25,18,21,24,16,18,18,16,68,16,21,53,29,18,29,18,22,19,13,26,14,27,26,59,30,27,18,23,18,40,24,23,56,29,16,18,21,32,22,17,18,18,24,21,46,18,16,21,19,20,21,56,21,20,21,25,33,20,17,24,26,17,16,27,28,48,19,21,21,15,20,21,22,22,31,20,49,42,26,17,30,23,30,31,42,16,34,21,27,18,26,37,26,19,22,43,24,21,28,23,20,17,19,32,18,20,27,15,26,24,20,21,16,21,27,17,21,17,21,17,36,18,18,18,18,18,18,18,18,18,20,19,17,23,18,19,89,20,16,17,16,20,30,37,44,21,19,23,26,18,35,16,19,23,17,29,21,17,23,17,22,17,19,19,16,19,13,18,26,14,21,21,17,18,19,19,29],\"type\":\"histogram\",\"xaxis\":\"x\",\"yaxis\":\"y\"},{\"name\":\"Instrumentalist\",\"nbinsx\":20,\"x\":[\"Yes\",\"No\",\"No\",\"No\",\"No\",\"Yes\",\"Yes\",\"No\",\"No\",\"No\",\"Yes\",\"No\",\"No\",\"Yes\",\"No\",\"No\",\"No\",\"No\",\"No\",\"No\",\"No\",\"No\",\"No\",\"Yes\",\"No\",\"Yes\",\"Yes\",\"Yes\",\"No\",\"Yes\",\"No\",\"Yes\",\"No\",\"No\",\"Yes\",\"No\",\"No\",\"No\",\"No\",\"Yes\",\"Yes\",\"No\",\"No\",\"No\",\"Yes\",\"Yes\",\"No\",\"No\",\"No\",\"Yes\",\"No\",\"No\",\"No\",\"No\",\"Yes\",\"No\",\"No\",\"No\",\"Yes\",\"Yes\",\"Yes\",\"Yes\",\"No\",\"No\",\"No\",\"No\",\"No\",\"Yes\",\"Yes\",\"No\",\"No\",\"No\",\"Yes\",\"No\",\"Yes\",\"No\",\"No\",\"No\",\"No\",\"Yes\",\"No\",\"No\",\"Yes\",\"No\",\"No\",\"Yes\",\"No\",\"No\",\"No\",\"Yes\",\"Yes\",\"No\",\"No\",\"No\",\"No\",\"No\",\"No\",\"No\",\"No\",\"Yes\",\"Yes\",\"No\",\"No\",\"No\",\"Yes\",\"No\",\"Yes\",\"No\",\"No\",\"No\",\"No\",\"No\",\"Yes\",\"No\",\"No\",\"Yes\",\"No\",\"No\",\"No\",\"No\",\"No\",\"Yes\",\"No\",\"No\",\"Yes\",\"Yes\",\"Yes\",\"No\",\"No\",\"Yes\",\"No\",\"No\",\"No\",\"Yes\",\"Yes\",\"Yes\",\"Yes\",\"No\",\"No\",\"No\",\"No\",\"No\",\"No\",\"No\",\"No\",\"Yes\",\"Yes\",\"Yes\",\"No\",\"No\",\"Yes\",\"No\",\"Yes\",\"No\",\"Yes\",\"Yes\",\"No\",\"No\",\"Yes\",\"No\",\"No\",\"No\",\"Yes\",\"No\",\"No\",\"No\",\"No\",\"Yes\",\"Yes\",\"No\",\"No\",\"No\",\"No\",\"Yes\",\"No\",\"No\",\"No\",\"Yes\",\"No\",\"No\",\"No\",\"No\",\"No\",\"Yes\",\"No\",\"No\",\"Yes\",\"No\",\"Yes\",\"Yes\",\"No\",\"Yes\",\"No\",\"Yes\",\"No\",\"No\",\"No\",\"No\",\"No\",\"No\",\"No\",\"No\",\"No\",\"No\",\"Yes\",\"No\",\"No\",\"No\",\"Yes\",\"No\",\"No\",\"No\",\"No\",\"No\",\"No\",\"No\",\"Yes\",\"No\",\"Yes\",\"Yes\",\"No\",\"No\",\"No\",\"No\",\"No\",\"No\",\"No\",\"No\",\"No\",\"Yes\",\"No\",\"Yes\",\"No\",\"No\",\"Yes\",\"No\",\"No\",\"Yes\",\"No\",\"Yes\",\"Yes\",\"Yes\",\"No\",\"No\",\"Yes\",\"Yes\",\"No\",\"Yes\",\"No\",\"No\",\"Yes\",\"No\",\"No\",\"No\",\"Yes\",\"No\",\"No\",\"No\",\"No\",\"No\",\"Yes\",\"No\",\"No\",\"No\",\"No\",\"Yes\",\"Yes\",\"No\",\"No\",\"Yes\",\"No\",\"No\",\"No\",\"No\",\"No\",\"No\",\"Yes\",\"Yes\",\"No\",\"No\",\"Yes\",\"No\",\"No\",\"Yes\",\"Yes\",\"No\",\"Yes\",\"No\",\"No\",\"No\",\"No\",\"Yes\",\"No\",\"Yes\",\"Yes\",\"Yes\",\"Yes\",\"No\",\"Yes\",\"No\",\"Yes\",\"No\",\"Yes\",\"No\",\"No\",\"Yes\",\"No\",\"No\",\"No\",\"No\",\"Yes\",\"No\",\"No\",\"No\",\"No\",\"Yes\",\"No\",\"No\",\"No\",\"No\",\"No\",\"No\",\"No\",\"No\",\"Yes\",\"No\",\"No\",\"Yes\",\"No\",\"Yes\",\"No\",\"No\",\"No\",\"No\",\"No\",\"No\",\"No\",\"No\",\"Yes\",\"No\",\"No\",\"No\",\"Yes\",\"No\",\"No\",\"Yes\",\"No\",\"Yes\",\"No\",\"No\",\"No\",\"Yes\",\"No\",\"No\",\"No\",\"Yes\",\"Yes\",\"No\",\"Yes\",\"No\",\"No\",\"No\",\"No\",\"No\",\"No\",\"No\",\"No\",\"Yes\",\"Yes\",\"No\",\"Yes\",\"No\",\"No\",\"No\",\"No\",\"No\",\"Yes\",\"Yes\",\"Yes\",\"No\",\"No\",\"No\",\"Yes\",\"Yes\",\"Yes\",\"No\",\"Yes\",\"No\",\"Yes\",\"No\",\"No\",\"Yes\",\"Yes\",\"No\",\"Yes\",\"Yes\",\"Yes\",\"No\",\"Yes\",\"No\",\"No\",\"Yes\",\"No\",\"No\",\"Yes\",\"Yes\",\"No\",\"No\",\"Yes\",\"Yes\",\"Yes\",\"No\",\"Yes\",\"Yes\",\"Yes\",\"Yes\",\"Yes\",\"Yes\",\"No\",\"No\",\"Yes\",\"Yes\",\"Yes\",\"Yes\",\"No\",\"No\",\"Yes\",\"Yes\",\"No\",\"No\",\"Yes\",\"Yes\",\"Yes\",\"No\",\"Yes\",\"No\",\"No\",\"No\",\"No\",\"No\",\"Yes\",\"No\",\"No\",\"No\",\"No\",\"No\",\"No\",\"No\",\"No\",\"No\",\"No\",\"No\",\"No\",\"No\",\"Yes\",\"No\",\"Yes\",\"Yes\",\"No\",\"No\",\"No\",\"No\",\"No\",\"No\",\"No\",\"No\",\"No\",\"No\",\"No\",\"No\",\"Yes\",\"Yes\",\"No\",\"Yes\",\"No\",\"No\",\"No\",\"Yes\",\"No\",\"No\",\"No\",\"Yes\",\"No\",\"No\",\"No\",\"Yes\",\"Yes\",\"Yes\",\"No\",\"No\",\"Yes\",\"No\",\"No\",\"No\",\"No\",\"No\",\"Yes\",\"No\",\"No\",\"No\",\"No\",\"No\",\"No\",\"No\",\"No\",\"No\",\"No\",\"No\",\"No\",\"No\",\"No\",\"No\",\"No\",\"No\",\"No\",\"No\",\"No\",\"No\",\"No\",\"Yes\",\"No\",\"No\",\"No\",\"Yes\",\"Yes\",\"No\",\"Yes\",\"No\",\"No\",\"No\",\"No\",\"No\",\"Yes\",\"No\",\"No\",\"No\",\"No\",\"Yes\",\"No\",\"Yes\",\"No\",\"Yes\",\"Yes\",\"No\",\"No\",\"Yes\",\"No\",\"No\",\"Yes\",\"No\",\"No\",\"No\",\"No\",\"No\",\"No\",\"No\",\"No\",\"Yes\",\"Yes\",\"No\",\"No\",\"No\",\"Yes\",\"Yes\",\"No\",\"No\",\"No\",\"No\",\"No\",\"No\",\"No\",\"No\",\"No\",\"Yes\",\"No\",\"No\",\"No\",\"No\",\"No\",\"No\",\"No\",\"Yes\",\"Yes\",\"No\",\"Yes\",\"Yes\",\"Yes\",\"No\",\"No\",\"Yes\",\"No\",\"No\",\"No\",\"Yes\",\"No\",\"No\",\"Yes\",\"Yes\",\"No\",\"Yes\",\"No\",\"No\",\"No\",\"Yes\",\"Yes\",\"No\",\"No\",\"Yes\",\"Yes\",\"No\",\"No\",\"No\",\"No\",\"No\",\"No\",\"No\",\"Yes\",\"No\",\"Yes\",\"No\",\"Yes\",\"No\",\"No\",\"No\",\"No\",\"No\",\"Yes\",\"No\",\"No\",\"Yes\",\"No\",\"No\",\"No\",\"Yes\",\"Yes\",\"No\",\"No\",\"No\",\"No\",\"No\",\"No\",\"No\",\"Yes\",\"No\",\"No\",\"No\",\"No\",\"No\",\"No\",\"No\",\"Yes\",\"No\",\"No\",\"No\",\"Yes\",\"No\",\"No\",\"No\",\"No\",\"Yes\",\"No\",\"No\",\"No\",\"Yes\",\"No\",\"Yes\",\"No\",\"No\",\"No\",\"No\",\"No\",\"Yes\",\"Yes\",\"Yes\",\"Yes\",\"No\",\"No\",\"No\",\"No\",\"No\",\"No\",\"Yes\",\"No\",\"No\",\"No\",\"No\",\"Yes\",\"No\",\"No\",\"No\",\"No\",\"No\",\"Yes\",\"Yes\",\"Yes\",\"Yes\",\"Yes\",\"Yes\",\"No\",\"No\",\"Yes\",\"No\",\"No\",\"Yes\",\"Yes\",\"Yes\",\"No\",\"No\",\"Yes\",\"Yes\",\"No\",\"No\",\"No\",\"No\",\"Yes\",\"No\",\"No\",\"Yes\",\"No\",\"No\",\"Yes\",\"No\",\"No\",\"No\",\"No\",\"No\",\"No\",\"Yes\",\"No\",\"No\",\"Yes\",\"Yes\",\"No\",\"Yes\",\"No\"],\"type\":\"histogram\",\"xaxis\":\"x2\",\"yaxis\":\"y2\"},{\"name\":\"Composer\",\"nbinsx\":20,\"x\":[\"Yes\",\"No\",\"No\",\"Yes\",\"No\",\"Yes\",\"No\",\"No\",\"No\",\"No\",\"No\",\"No\",\"No\",\"No\",\"No\",\"No\",\"Yes\",\"No\",\"No\",\"No\",\"No\",\"No\",\"No\",\"Yes\",\"No\",\"Yes\",\"Yes\",\"No\",\"No\",\"No\",\"No\",\"No\",\"No\",\"No\",\"No\",\"No\",\"No\",\"No\",\"No\",\"Yes\",\"No\",\"No\",\"No\",\"No\",\"Yes\",\"Yes\",\"No\",\"Yes\",\"No\",\"No\",\"No\",\"No\",\"No\",\"Yes\",\"No\",\"No\",\"No\",\"No\",\"No\",\"No\",\"No\",\"No\",\"No\",\"No\",\"No\",\"No\",\"No\",\"Yes\",\"Yes\",\"No\",\"No\",\"No\",\"Yes\",\"No\",\"Yes\",\"No\",\"No\",\"No\",\"No\",\"Yes\",\"No\",\"No\",\"Yes\",\"No\",\"No\",\"No\",\"No\",\"No\",\"No\",\"No\",\"Yes\",\"No\",\"No\",\"No\",\"No\",\"Yes\",\"No\",\"No\",\"No\",\"Yes\",\"No\",\"No\",\"No\",\"No\",\"No\",\"No\",\"No\",\"No\",\"Yes\",\"No\",\"No\",\"No\",\"No\",\"No\",\"No\",\"No\",\"Yes\",\"No\",\"No\",\"No\",\"No\",\"Yes\",\"No\",\"No\",\"Yes\",\"Yes\",\"Yes\",\"No\",\"No\",\"No\",\"No\",\"No\",\"No\",\"No\",\"No\",\"No\",\"No\",\"Yes\",\"No\",\"No\",\"No\",\"No\",\"No\",\"No\",\"No\",\"Yes\",\"Yes\",\"No\",\"No\",\"No\",\"Yes\",\"No\",\"No\",\"No\",\"No\",\"No\",\"No\",\"No\",\"No\",\"No\",\"No\",\"No\",\"Yes\",\"No\",\"Yes\",\"No\",\"No\",\"No\",\"No\",\"No\",\"No\",\"No\",\"Yes\",\"Yes\",\"No\",\"No\",\"No\",\"Yes\",\"No\",\"No\",\"No\",\"No\",\"No\",\"No\",\"No\",\"No\",\"No\",\"No\",\"Yes\",\"No\",\"No\",\"No\",\"No\",\"No\",\"No\",\"No\",\"No\",\"No\",\"No\",\"No\",\"No\",\"Yes\",\"No\",\"No\",\"Yes\",\"Yes\",\"No\",\"No\",\"No\",\"No\",\"No\",\"No\",\"No\",\"No\",\"No\",\"No\",\"No\",\"No\",\"Yes\",\"No\",\"No\",\"No\",\"No\",\"No\",\"No\",\"No\",\"No\",\"No\",\"No\",\"No\",\"No\",\"Yes\",\"No\",\"No\",\"No\",\"Yes\",\"No\",\"Yes\",\"Yes\",\"No\",\"Yes\",\"Yes\",\"No\",\"No\",\"No\",\"No\",\"No\",\"Yes\",\"No\",\"Yes\",\"No\",\"No\",\"No\",\"No\",\"No\",\"No\",\"No\",\"No\",\"No\",\"No\",\"No\",\"No\",\"No\",\"No\",\"No\",\"No\",\"No\",\"Yes\",\"No\",\"No\",\"No\",\"No\",\"Yes\",\"No\",\"No\",\"No\",\"Yes\",\"Yes\",\"No\",\"Yes\",\"Yes\",\"No\",\"No\",\"No\",\"Yes\",\"No\",\"Yes\",\"No\",\"No\",\"No\",\"No\",\"Yes\",\"No\",\"No\",\"No\",\"No\",\"No\",\"No\",\"Yes\",\"No\",\"Yes\",\"No\",\"No\",\"Yes\",\"No\",\"No\",\"No\",\"No\",\"No\",\"No\",\"Yes\",\"No\",\"No\",\"No\",\"No\",\"No\",\"No\",\"No\",\"Yes\",\"No\",\"No\",\"No\",\"No\",\"No\",\"Yes\",\"No\",\"No\",\"No\",\"No\",\"Yes\",\"No\",\"No\",\"No\",\"No\",\"No\",\"No\",\"No\",\"No\",\"No\",\"No\",\"No\",\"No\",\"Yes\",\"No\",\"No\",\"No\",\"Yes\",\"No\",\"No\",\"No\",\"No\",\"No\",\"No\",\"No\",\"No\",\"No\",\"No\",\"No\",\"Yes\",\"No\",\"No\",\"No\",\"No\",\"No\",\"No\",\"No\",\"No\",\"No\",\"No\",\"No\",\"No\",\"No\",\"No\",\"No\",\"No\",\"Yes\",\"Yes\",\"No\",\"No\",\"No\",\"No\",\"No\",\"No\",\"Yes\",\"Yes\",\"No\",\"No\",\"No\",\"No\",\"No\",\"No\",\"No\",\"Yes\",\"Yes\",\"No\",\"No\",\"No\",\"No\",\"No\",\"No\",\"No\",\"No\",\"No\",\"No\",\"No\",\"No\",\"No\",\"Yes\",\"Yes\",\"Yes\",\"Yes\",\"No\",\"No\",\"No\",\"Yes\",\"Yes\",\"Yes\",\"No\",\"No\",\"No\",\"No\",\"No\",\"Yes\",\"Yes\",\"No\",\"No\",\"No\",\"Yes\",\"No\",\"No\",\"No\",\"No\",\"Yes\",\"No\",\"No\",\"No\",\"No\",\"No\",\"Yes\",\"No\",\"No\",\"No\",\"No\",\"Yes\",\"No\",\"No\",\"No\",\"No\",\"No\",\"No\",\"No\",\"No\",\"No\",\"No\",\"No\",\"No\",\"No\",\"Yes\",\"No\",\"No\",\"No\",\"No\",\"No\",\"No\",\"No\",\"No\",\"No\",\"No\",\"No\",\"No\",\"No\",\"No\",\"No\",\"Yes\",\"No\",\"No\",\"No\",\"Yes\",\"No\",\"No\",\"No\",\"No\",\"No\",\"No\",\"No\",\"No\",\"No\",\"No\",\"No\",\"No\",\"Yes\",\"Yes\",\"No\",\"No\",\"No\",\"No\",\"Yes\",\"No\",\"No\",\"No\",\"No\",\"No\",\"No\",\"No\",\"No\",\"No\",\"No\",\"No\",\"No\",\"No\",\"No\",\"No\",\"No\",\"No\",\"No\",\"No\",\"No\",\"No\",\"No\",\"No\",\"No\",\"No\",\"No\",\"Yes\",\"No\",\"No\",\"No\",\"Yes\",\"No\",\"No\",\"No\",\"No\",\"No\",\"No\",\"No\",\"No\",\"No\",\"Yes\",\"No\",\"Yes\",\"No\",\"No\",\"No\",\"No\",\"No\",\"Yes\",\"No\",\"No\",\"No\",\"Yes\",\"No\",\"No\",\"No\",\"No\",\"Yes\",\"No\",\"No\",\"Yes\",\"No\",\"No\",\"No\",\"No\",\"No\",\"Yes\",\"No\",\"No\",\"No\",\"No\",\"No\",\"No\",\"No\",\"No\",\"No\",\"No\",\"No\",\"No\",\"No\",\"No\",\"No\",\"No\",\"No\",\"No\",\"Yes\",\"No\",\"No\",\"Yes\",\"Yes\",\"No\",\"No\",\"No\",\"No\",\"No\",\"No\",\"Yes\",\"No\",\"No\",\"No\",\"No\",\"No\",\"No\",\"No\",\"No\",\"No\",\"No\",\"No\",\"No\",\"No\",\"Yes\",\"No\",\"No\",\"No\",\"No\",\"No\",\"No\",\"No\",\"No\",\"No\",\"No\",\"Yes\",\"No\",\"Yes\",\"No\",\"No\",\"Yes\",\"No\",\"No\",\"No\",\"No\",\"No\",\"No\",\"No\",\"No\",\"No\",\"No\",\"Yes\",\"No\",\"No\",\"Yes\",\"No\",\"No\",\"No\",\"No\",\"No\",\"No\",\"No\",\"No\",\"No\",\"No\",\"No\",\"No\",\"No\",\"No\",\"No\",\"No\",\"Yes\",\"No\",\"No\",\"No\",\"No\",\"Yes\",\"No\",\"No\",\"No\",\"Yes\",\"No\",\"No\",\"No\",\"No\",\"No\",\"No\",\"No\",\"Yes\",\"Yes\",\"No\",\"No\",\"No\",\"No\",\"Yes\",\"No\",\"No\",\"No\",\"No\",\"No\",\"No\",\"No\",\"No\",\"No\",\"No\",\"No\",\"No\",\"No\",\"No\",\"Yes\",\"No\",\"Yes\",\"Yes\",\"No\",\"Yes\",\"No\",\"No\",\"No\",\"No\",\"No\",\"No\",\"No\",\"No\",\"No\",\"No\",\"Yes\",\"Yes\",\"No\",\"No\",\"No\",\"No\",\"Yes\",\"No\",\"No\",\"No\",\"No\",\"No\",\"No\",\"No\",\"No\",\"No\",\"No\",\"No\",\"No\",\"No\",\"No\",\"No\",\"No\",\"No\",\"Yes\",\"No\",\"No\"],\"type\":\"histogram\",\"xaxis\":\"x3\",\"yaxis\":\"y3\"},{\"name\":\"Hours per day\",\"nbinsx\":20,\"x\":[3.0,1.5,4.0,2.5,4.0,5.0,3.0,1.0,6.0,1.0,3.0,8.0,2.0,4.0,2.0,8.0,12.0,24.0,3.0,8.0,4.0,5.0,2.0,3.0,2.0,12.0,6.0,2.0,1.0,5.0,2.0,6.0,4.0,1.0,5.0,4.0,3.0,0.5,4.0,2.0,5.0,0.25,3.0,4.0,1.0,1.0,3.0,5.0,3.0,2.0,6.0,1.0,12.0,4.0,2.0,6.0,0.0,7.0,1.0,1.0,1.0,2.0,2.0,5.0,6.0,3.0,4.0,3.0,2.0,3.0,2.0,4.0,2.0,0.5,5.0,5.0,10.0,2.0,4.0,5.0,3.0,2.0,2.5,3.0,1.0,7.0,1.0,1.0,3.0,5.0,6.0,4.0,1.0,4.0,10.0,3.0,2.0,4.0,8.0,2.0,0.5,5.0,1.0,3.0,2.0,3.0,2.0,4.0,3.0,2.0,3.0,4.0,2.0,8.0,4.0,2.0,1.0,3.0,0.5,2.0,3.0,2.0,1.0,5.0,10.0,4.0,2.0,1.0,6.0,1.0,6.0,7.0,1.0,3.0,2.0,3.0,2.0,3.0,1.5,4.0,2.0,10.0,7.0,1.0,2.0,6.0,2.0,3.0,8.0,3.0,3.0,3.0,2.0,1.0,2.0,2.0,4.0,4.0,1.0,2.0,2.0,1.0,3.0,10.0,1.0,3.0,1.5,3.0,2.5,2.0,5.0,2.0,2.0,2.0,2.0,1.0,1.5,5.0,0.5,2.0,0.5,2.0,2.5,2.0,2.0,1.0,4.0,5.0,2.0,2.0,2.0,1.0,4.0,1.0,4.0,5.0,5.0,7.0,2.0,3.0,2.0,3.0,3.0,3.0,5.0,6.0,2.0,2.0,1.0,1.0,3.0,3.0,1.0,6.0,4.0,2.0,2.0,3.0,8.0,3.0,2.0,7.0,12.0,9.0,2.0,1.0,1.0,2.0,4.0,2.0,6.0,4.0,1.0,6.0,2.0,5.0,1.5,5.0,2.0,4.0,2.0,5.0,6.0,1.0,6.0,4.0,2.0,2.0,2.0,4.0,2.0,6.0,3.0,5.0,0.5,1.0,10.0,2.0,0.5,1.0,2.0,3.0,3.0,2.0,1.0,8.0,1.0,1.0,1.0,5.0,5.0,4.0,8.0,0.7,3.0,7.0,1.5,4.0,4.0,10.0,2.0,2.0,6.0,0.5,2.0,5.0,3.0,4.5,3.0,20.0,1.0,2.5,1.0,2.0,5.0,3.0,3.0,0.5,8.0,2.0,3.0,3.0,5.0,1.5,1.0,2.0,1.0,4.0,1.0,2.0,2.0,2.0,1.0,6.0,2.0,4.0,1.5,3.0,4.0,10.0,3.0,3.0,3.0,2.0,2.0,3.0,2.0,5.0,6.0,3.0,5.0,5.0,6.0,6.0,3.0,10.0,2.0,2.0,3.0,1.5,10.0,2.0,3.0,2.5,3.0,0.5,16.0,6.0,3.0,0.5,5.0,2.0,2.0,2.0,1.5,1.0,10.0,2.0,15.0,0.5,3.0,2.0,4.0,2.0,1.0,24.0,1.0,2.0,2.0,3.0,3.0,2.0,7.0,6.0,3.0,5.0,4.0,3.0,2.0,3.0,2.0,2.0,3.0,2.0,3.0,0.0,1.0,2.0,2.0,6.0,5.0,2.0,4.0,8.0,4.0,1.5,2.0,5.0,6.0,2.0,2.0,1.0,1.0,2.0,2.0,1.0,14.0,3.0,3.0,2.0,0.5,6.0,1.0,2.0,4.0,3.0,12.0,3.0,1.0,10.0,5.0,0.5,5.0,3.0,2.0,13.0,4.0,6.0,3.0,4.0,3.0,2.0,2.0,1.0,6.0,9.0,1.0,1.0,0.5,1.0,1.5,6.0,4.0,6.0,4.0,1.5,2.0,2.0,4.0,3.0,4.0,2.0,2.0,6.0,0.0,1.0,4.0,2.0,3.0,4.0,2.0,3.0,1.0,10.0,10.0,10.0,4.0,4.0,3.0,2.0,1.0,6.0,1.0,1.0,4.0,2.0,2.0,2.0,6.0,3.0,1.0,4.0,0.5,8.0,15.0,1.5,2.0,3.0,1.0,0.25,1.0,1.0,5.0,1.0,1.0,7.0,3.0,3.0,7.0,8.0,2.0,2.0,2.0,2.0,4.0,8.0,4.0,1.0,5.0,2.0,1.0,5.0,8.0,2.0,2.0,1.0,8.0,8.0,1.0,1.0,8.0,2.0,6.0,3.0,4.0,2.0,3.0,4.0,2.0,1.0,1.0,1.0,2.0,7.0,5.0,3.0,1.0,6.0,2.0,3.0,1.5,4.0,2.0,2.0,2.0,1.0,3.0,3.0,2.0,6.0,3.0,3.0,2.0,2.0,2.0,3.0,4.0,2.0,5.0,2.0,1.0,7.0,3.0,3.0,4.0,3.0,1.0,7.0,1.0,4.0,4.0,3.0,2.0,4.0,5.0,6.0,1.0,1.0,3.0,1.0,8.0,1.0,8.0,1.0,1.0,10.0,10.0,5.0,10.0,2.0,6.0,2.0,3.0,8.0,8.0,8.0,8.0,12.0,6.0,4.0,8.0,2.0,1.0,2.0,3.0,1.0,0.0,2.0,0.1,2.0,12.0,1.0,1.0,3.0,2.0,2.0,3.0,1.0,3.0,3.0,5.0,8.0,4.0,5.0,3.0,4.0,1.0,4.0,1.0,2.0,6.0,2.0,1.0,4.0,8.0,2.0,2.0,10.0,0.0,6.0,3.0,2.0,0.25,4.0,2.0,2.0,3.0,6.0,3.0,2.0,5.0,4.0,4.0,0.0,12.0,0.5,1.0,3.0,12.0,4.0,3.0,1.0,4.0,2.0,3.0,3.0,1.0,2.0,1.0,0.5,2.0,11.0,10.0,5.0,1.5,2.0,3.0,2.0,3.0,4.0,1.0,5.0,2.0,7.0,2.0,1.0,1.0,4.0,6.0,3.0,4.0,4.0,1.0,2.0,24.0,5.0,3.0,4.0,9.0,1.0,1.0,2.0,1.5,2.0,4.0,1.0,1.0,3.0,4.0,8.0,5.0,3.0,8.0,1.0,4.0,1.0,2.0,1.0,3.0,5.0,5.0,4.0,6.0,6.0,1.0,18.0,1.0,7.0,0.5,2.0,2.0,1.0,6.0,5.0,2.0],\"type\":\"histogram\",\"xaxis\":\"x4\",\"yaxis\":\"y4\"},{\"name\":\"While working\",\"nbinsx\":20,\"x\":[\"Yes\",\"Yes\",\"No\",\"Yes\",\"Yes\",\"Yes\",\"Yes\",\"Yes\",\"Yes\",\"Yes\",\"Yes\",\"Yes\",\"Yes\",\"Yes\",\"No\",\"Yes\",\"Yes\",\"Yes\",\"No\",\"Yes\",\"Yes\",\"Yes\",\"Yes\",\"Yes\",\"No\",\"Yes\",\"Yes\",\"Yes\",\"Yes\",\"Yes\",\"Yes\",\"Yes\",\"No\",\"Yes\",\"Yes\",\"Yes\",\"Yes\",\"No\",\"Yes\",\"Yes\",\"Yes\",\"No\",\"Yes\",\"Yes\",\"Yes\",\"No\",\"Yes\",\"Yes\",\"Yes\",\"Yes\",\"Yes\",\"No\",\"Yes\",\"Yes\",\"Yes\",\"Yes\",\"Yes\",\"Yes\",\"Yes\",\"No\",\"No\",\"Yes\",\"No\",\"Yes\",\"Yes\",\"No\",\"No\",\"Yes\",\"Yes\",\"Yes\",\"Yes\",\"Yes\",\"Yes\",\"No\",\"Yes\",\"Yes\",\"Yes\",\"No\",\"Yes\",\"No\",\"Yes\",\"Yes\",\"Yes\",\"Yes\",\"Yes\",\"Yes\",\"No\",\"No\",\"Yes\",\"Yes\",\"Yes\",\"Yes\",\"Yes\",\"Yes\",\"Yes\",\"No\",\"No\",\"Yes\",\"Yes\",\"No\",\"No\",\"Yes\",\"No\",\"Yes\",\"Yes\",\"Yes\",\"Yes\",\"Yes\",\"Yes\",\"Yes\",\"No\",\"Yes\",\"Yes\",\"Yes\",\"Yes\",\"No\",\"No\",\"Yes\",\"No\",\"No\",\"Yes\",\"Yes\",\"No\",\"Yes\",\"No\",\"Yes\",\"Yes\",\"No\",\"Yes\",\"Yes\",\"Yes\",\"Yes\",\"No\",\"Yes\",\"Yes\",\"Yes\",\"Yes\",\"Yes\",\"Yes\",\"Yes\",\"Yes\",\"Yes\",\"Yes\",\"Yes\",\"No\",\"Yes\",\"Yes\",\"Yes\",\"Yes\",\"Yes\",\"Yes\",\"Yes\",\"No\",\"No\",\"Yes\",\"Yes\",\"Yes\",\"Yes\",\"Yes\",\"No\",\"Yes\",\"Yes\",\"Yes\",\"Yes\",\"No\",\"Yes\",\"Yes\",\"Yes\",\"Yes\",\"Yes\",\"Yes\",\"Yes\",\"No\",\"No\",\"Yes\",\"Yes\",\"Yes\",\"Yes\",\"No\",\"Yes\",\"No\",\"Yes\",\"Yes\",\"Yes\",\"No\",\"Yes\",\"Yes\",\"Yes\",\"Yes\",\"Yes\",\"Yes\",\"Yes\",\"Yes\",\"No\",\"Yes\",\"Yes\",\"Yes\",\"Yes\",\"Yes\",\"Yes\",\"Yes\",\"Yes\",\"Yes\",\"Yes\",\"Yes\",\"Yes\",\"No\",\"No\",\"No\",\"Yes\",\"No\",\"Yes\",\"No\",\"Yes\",\"Yes\",\"Yes\",\"Yes\",\"Yes\",\"Yes\",\"Yes\",\"Yes\",\"Yes\",\"Yes\",\"Yes\",\"Yes\",\"Yes\",\"No\",\"Yes\",\"Yes\",\"Yes\",\"Yes\",\"Yes\",\"No\",\"Yes\",\"No\",\"Yes\",\"No\",\"Yes\",\"Yes\",\"Yes\",\"Yes\",\"Yes\",\"Yes\",\"No\",\"Yes\",\"No\",\"No\",\"No\",\"Yes\",\"Yes\",\"Yes\",\"Yes\",\"Yes\",\"Yes\",\"Yes\",\"Yes\",\"Yes\",\"Yes\",\"No\",\"No\",\"Yes\",\"Yes\",\"No\",\"Yes\",\"No\",\"Yes\",\"Yes\",\"No\",\"No\",\"Yes\",\"Yes\",\"Yes\",\"Yes\",\"No\",\"No\",\"Yes\",\"No\",\"Yes\",\"Yes\",\"Yes\",\"Yes\",\"Yes\",\"Yes\",\"Yes\",\"Yes\",\"Yes\",\"Yes\",\"Yes\",\"Yes\",\"Yes\",\"No\",\"No\",\"No\",\"No\",\"Yes\",\"Yes\",\"Yes\",\"No\",\"Yes\",\"Yes\",\"Yes\",\"Yes\",\"Yes\",\"Yes\",\"Yes\",\"Yes\",\"Yes\",\"Yes\",\"Yes\",\"Yes\",\"Yes\",\"No\",\"No\",\"Yes\",\"Yes\",\"Yes\",\"Yes\",\"Yes\",\"Yes\",\"Yes\",\"Yes\",\"No\",\"Yes\",\"Yes\",\"Yes\",\"Yes\",\"No\",\"Yes\",\"Yes\",\"Yes\",\"Yes\",\"Yes\",\"Yes\",\"Yes\",\"Yes\",\"Yes\",\"Yes\",\"Yes\",\"No\",\"No\",\"Yes\",\"Yes\",\"Yes\",\"Yes\",\"Yes\",\"Yes\",\"Yes\",\"Yes\",\"Yes\",\"No\",\"Yes\",\"No\",\"Yes\",\"Yes\",\"Yes\",\"Yes\",\"Yes\",\"Yes\",\"Yes\",\"No\",\"Yes\",\"Yes\",\"Yes\",\"Yes\",\"Yes\",\"Yes\",\"Yes\",\"Yes\",\"Yes\",\"Yes\",\"Yes\",\"Yes\",\"Yes\",\"Yes\",\"Yes\",\"Yes\",\"Yes\",\"Yes\",\"Yes\",\"Yes\",\"Yes\",\"Yes\",\"No\",\"Yes\",\"Yes\",\"No\",\"Yes\",\"Yes\",\"Yes\",\"Yes\",\"Yes\",\"Yes\",\"Yes\",\"Yes\",\"Yes\",\"No\",\"Yes\",\"Yes\",\"Yes\",\"Yes\",\"No\",\"No\",\"No\",\"No\",\"Yes\",\"Yes\",\"Yes\",\"Yes\",\"Yes\",\"Yes\",\"Yes\",\"Yes\",\"Yes\",\"Yes\",\"Yes\",\"Yes\",\"Yes\",\"No\",\"No\",\"Yes\",\"Yes\",\"Yes\",\"Yes\",\"Yes\",\"No\",\"Yes\",\"Yes\",\"Yes\",\"Yes\",\"Yes\",\"No\",\"Yes\",\"Yes\",\"Yes\",\"Yes\",\"Yes\",\"No\",\"Yes\",\"No\",\"No\",\"Yes\",\"Yes\",\"Yes\",\"Yes\",\"Yes\",\"Yes\",\"Yes\",\"Yes\",\"Yes\",\"Yes\",\"Yes\",\"Yes\",\"Yes\",\"Yes\",\"No\",\"No\",\"Yes\",\"No\",\"Yes\",\"No\",\"No\",\"Yes\",\"No\",\"Yes\",\"No\",\"Yes\",\"No\",\"Yes\",\"No\",\"Yes\",\"No\",\"Yes\",\"Yes\",\"Yes\",\"Yes\",\"Yes\",\"Yes\",\"Yes\",\"Yes\",\"Yes\",\"Yes\",\"Yes\",\"No\",\"Yes\",\"Yes\",\"Yes\",\"Yes\",\"Yes\",\"Yes\",\"Yes\",\"No\",\"Yes\",\"Yes\",\"No\",\"Yes\",\"Yes\",\"No\",\"Yes\",\"Yes\",\"Yes\",\"Yes\",\"Yes\",\"Yes\",\"Yes\",\"No\",\"Yes\",\"Yes\",\"No\",\"No\",\"Yes\",\"No\",\"Yes\",\"Yes\",\"Yes\",\"Yes\",\"Yes\",\"Yes\",\"Yes\",\"No\",\"Yes\",\"Yes\",\"Yes\",\"Yes\",\"No\",\"Yes\",\"Yes\",\"Yes\",\"No\",\"No\",\"Yes\",\"Yes\",\"No\",\"Yes\",\"Yes\",\"Yes\",\"Yes\",\"No\",\"Yes\",\"No\",\"Yes\",\"Yes\",\"Yes\",\"Yes\",\"Yes\",\"No\",\"Yes\",\"Yes\",\"Yes\",\"No\",\"Yes\",\"Yes\",\"Yes\",\"Yes\",\"Yes\",\"Yes\",\"Yes\",\"Yes\",\"Yes\",\"Yes\",\"Yes\",\"Yes\",\"Yes\",\"Yes\",\"No\",\"Yes\",\"Yes\",\"Yes\",\"Yes\",\"No\",\"Yes\",\"Yes\",\"Yes\",\"Yes\",\"Yes\",\"Yes\",\"Yes\",\"Yes\",\"No\",\"Yes\",\"Yes\",\"No\",\"No\",\"Yes\",\"Yes\",\"No\",\"Yes\",\"Yes\",\"Yes\",\"Yes\",\"Yes\",\"Yes\",\"Yes\",\"Yes\",\"Yes\",\"Yes\",\"Yes\",\"Yes\",\"Yes\",\"Yes\",\"Yes\",\"Yes\",\"No\",\"No\",\"Yes\",\"Yes\",\"Yes\",\"No\",\"Yes\",\"Yes\",\"Yes\",\"Yes\",\"Yes\",\"Yes\",\"Yes\",\"Yes\",\"Yes\",\"Yes\",\"No\",\"Yes\",\"Yes\",\"Yes\",\"Yes\",\"Yes\",\"Yes\",\"Yes\",\"Yes\",\"Yes\",\"Yes\",\"No\",\"Yes\",\"Yes\",\"No\",\"Yes\",\"Yes\",\"Yes\",\"Yes\",\"Yes\",\"Yes\",\"No\",\"Yes\",\"Yes\",\"Yes\",\"No\",\"Yes\",\"No\",\"Yes\",\"Yes\",\"Yes\",\"No\",\"Yes\",\"Yes\",\"No\",\"Yes\",\"No\",\"Yes\",\"No\",\"Yes\",\"Yes\",\"No\",\"Yes\",\"Yes\",\"Yes\",\"No\",\"Yes\",\"Yes\",\"Yes\",\"Yes\",\"Yes\",\"Yes\",\"Yes\",\"Yes\",\"Yes\",\"Yes\",\"Yes\",\"Yes\",\"Yes\",\"No\",\"No\",\"Yes\",\"No\",\"No\",\"Yes\",\"Yes\",\"Yes\",\"Yes\",\"Yes\",\"No\",\"Yes\",\"Yes\",\"Yes\",\"Yes\",\"Yes\",\"Yes\",\"Yes\",\"Yes\",\"Yes\",\"No\",\"Yes\",\"Yes\",\"Yes\",\"Yes\",\"Yes\",\"No\",\"Yes\",\"Yes\",\"Yes\",\"No\",\"Yes\",\"Yes\",\"Yes\",\"Yes\",\"Yes\",\"Yes\",\"No\",\"Yes\",\"No\",\"No\",\"Yes\",\"Yes\",\"Yes\",\"Yes\",\"Yes\",\"Yes\",\"Yes\",\"Yes\",\"Yes\",\"Yes\",\"Yes\",\"No\",\"Yes\",\"Yes\",\"Yes\",\"Yes\",\"Yes\",\"Yes\"],\"type\":\"histogram\",\"xaxis\":\"x5\",\"yaxis\":\"y5\"}],                        {\"template\":{\"data\":{\"histogram2dcontour\":[{\"type\":\"histogram2dcontour\",\"colorbar\":{\"outlinewidth\":0,\"ticks\":\"\"},\"colorscale\":[[0.0,\"#0d0887\"],[0.1111111111111111,\"#46039f\"],[0.2222222222222222,\"#7201a8\"],[0.3333333333333333,\"#9c179e\"],[0.4444444444444444,\"#bd3786\"],[0.5555555555555556,\"#d8576b\"],[0.6666666666666666,\"#ed7953\"],[0.7777777777777778,\"#fb9f3a\"],[0.8888888888888888,\"#fdca26\"],[1.0,\"#f0f921\"]]}],\"choropleth\":[{\"type\":\"choropleth\",\"colorbar\":{\"outlinewidth\":0,\"ticks\":\"\"}}],\"histogram2d\":[{\"type\":\"histogram2d\",\"colorbar\":{\"outlinewidth\":0,\"ticks\":\"\"},\"colorscale\":[[0.0,\"#0d0887\"],[0.1111111111111111,\"#46039f\"],[0.2222222222222222,\"#7201a8\"],[0.3333333333333333,\"#9c179e\"],[0.4444444444444444,\"#bd3786\"],[0.5555555555555556,\"#d8576b\"],[0.6666666666666666,\"#ed7953\"],[0.7777777777777778,\"#fb9f3a\"],[0.8888888888888888,\"#fdca26\"],[1.0,\"#f0f921\"]]}],\"heatmap\":[{\"type\":\"heatmap\",\"colorbar\":{\"outlinewidth\":0,\"ticks\":\"\"},\"colorscale\":[[0.0,\"#0d0887\"],[0.1111111111111111,\"#46039f\"],[0.2222222222222222,\"#7201a8\"],[0.3333333333333333,\"#9c179e\"],[0.4444444444444444,\"#bd3786\"],[0.5555555555555556,\"#d8576b\"],[0.6666666666666666,\"#ed7953\"],[0.7777777777777778,\"#fb9f3a\"],[0.8888888888888888,\"#fdca26\"],[1.0,\"#f0f921\"]]}],\"heatmapgl\":[{\"type\":\"heatmapgl\",\"colorbar\":{\"outlinewidth\":0,\"ticks\":\"\"},\"colorscale\":[[0.0,\"#0d0887\"],[0.1111111111111111,\"#46039f\"],[0.2222222222222222,\"#7201a8\"],[0.3333333333333333,\"#9c179e\"],[0.4444444444444444,\"#bd3786\"],[0.5555555555555556,\"#d8576b\"],[0.6666666666666666,\"#ed7953\"],[0.7777777777777778,\"#fb9f3a\"],[0.8888888888888888,\"#fdca26\"],[1.0,\"#f0f921\"]]}],\"contourcarpet\":[{\"type\":\"contourcarpet\",\"colorbar\":{\"outlinewidth\":0,\"ticks\":\"\"}}],\"contour\":[{\"type\":\"contour\",\"colorbar\":{\"outlinewidth\":0,\"ticks\":\"\"},\"colorscale\":[[0.0,\"#0d0887\"],[0.1111111111111111,\"#46039f\"],[0.2222222222222222,\"#7201a8\"],[0.3333333333333333,\"#9c179e\"],[0.4444444444444444,\"#bd3786\"],[0.5555555555555556,\"#d8576b\"],[0.6666666666666666,\"#ed7953\"],[0.7777777777777778,\"#fb9f3a\"],[0.8888888888888888,\"#fdca26\"],[1.0,\"#f0f921\"]]}],\"surface\":[{\"type\":\"surface\",\"colorbar\":{\"outlinewidth\":0,\"ticks\":\"\"},\"colorscale\":[[0.0,\"#0d0887\"],[0.1111111111111111,\"#46039f\"],[0.2222222222222222,\"#7201a8\"],[0.3333333333333333,\"#9c179e\"],[0.4444444444444444,\"#bd3786\"],[0.5555555555555556,\"#d8576b\"],[0.6666666666666666,\"#ed7953\"],[0.7777777777777778,\"#fb9f3a\"],[0.8888888888888888,\"#fdca26\"],[1.0,\"#f0f921\"]]}],\"mesh3d\":[{\"type\":\"mesh3d\",\"colorbar\":{\"outlinewidth\":0,\"ticks\":\"\"}}],\"scatter\":[{\"fillpattern\":{\"fillmode\":\"overlay\",\"size\":10,\"solidity\":0.2},\"type\":\"scatter\"}],\"parcoords\":[{\"type\":\"parcoords\",\"line\":{\"colorbar\":{\"outlinewidth\":0,\"ticks\":\"\"}}}],\"scatterpolargl\":[{\"type\":\"scatterpolargl\",\"marker\":{\"colorbar\":{\"outlinewidth\":0,\"ticks\":\"\"}}}],\"bar\":[{\"error_x\":{\"color\":\"#2a3f5f\"},\"error_y\":{\"color\":\"#2a3f5f\"},\"marker\":{\"line\":{\"color\":\"#E5ECF6\",\"width\":0.5},\"pattern\":{\"fillmode\":\"overlay\",\"size\":10,\"solidity\":0.2}},\"type\":\"bar\"}],\"scattergeo\":[{\"type\":\"scattergeo\",\"marker\":{\"colorbar\":{\"outlinewidth\":0,\"ticks\":\"\"}}}],\"scatterpolar\":[{\"type\":\"scatterpolar\",\"marker\":{\"colorbar\":{\"outlinewidth\":0,\"ticks\":\"\"}}}],\"histogram\":[{\"marker\":{\"pattern\":{\"fillmode\":\"overlay\",\"size\":10,\"solidity\":0.2}},\"type\":\"histogram\"}],\"scattergl\":[{\"type\":\"scattergl\",\"marker\":{\"colorbar\":{\"outlinewidth\":0,\"ticks\":\"\"}}}],\"scatter3d\":[{\"type\":\"scatter3d\",\"line\":{\"colorbar\":{\"outlinewidth\":0,\"ticks\":\"\"}},\"marker\":{\"colorbar\":{\"outlinewidth\":0,\"ticks\":\"\"}}}],\"scattermapbox\":[{\"type\":\"scattermapbox\",\"marker\":{\"colorbar\":{\"outlinewidth\":0,\"ticks\":\"\"}}}],\"scatterternary\":[{\"type\":\"scatterternary\",\"marker\":{\"colorbar\":{\"outlinewidth\":0,\"ticks\":\"\"}}}],\"scattercarpet\":[{\"type\":\"scattercarpet\",\"marker\":{\"colorbar\":{\"outlinewidth\":0,\"ticks\":\"\"}}}],\"carpet\":[{\"aaxis\":{\"endlinecolor\":\"#2a3f5f\",\"gridcolor\":\"white\",\"linecolor\":\"white\",\"minorgridcolor\":\"white\",\"startlinecolor\":\"#2a3f5f\"},\"baxis\":{\"endlinecolor\":\"#2a3f5f\",\"gridcolor\":\"white\",\"linecolor\":\"white\",\"minorgridcolor\":\"white\",\"startlinecolor\":\"#2a3f5f\"},\"type\":\"carpet\"}],\"table\":[{\"cells\":{\"fill\":{\"color\":\"#EBF0F8\"},\"line\":{\"color\":\"white\"}},\"header\":{\"fill\":{\"color\":\"#C8D4E3\"},\"line\":{\"color\":\"white\"}},\"type\":\"table\"}],\"barpolar\":[{\"marker\":{\"line\":{\"color\":\"#E5ECF6\",\"width\":0.5},\"pattern\":{\"fillmode\":\"overlay\",\"size\":10,\"solidity\":0.2}},\"type\":\"barpolar\"}],\"pie\":[{\"automargin\":true,\"type\":\"pie\"}]},\"layout\":{\"autotypenumbers\":\"strict\",\"colorway\":[\"#636efa\",\"#EF553B\",\"#00cc96\",\"#ab63fa\",\"#FFA15A\",\"#19d3f3\",\"#FF6692\",\"#B6E880\",\"#FF97FF\",\"#FECB52\"],\"font\":{\"color\":\"#2a3f5f\"},\"hovermode\":\"closest\",\"hoverlabel\":{\"align\":\"left\"},\"paper_bgcolor\":\"white\",\"plot_bgcolor\":\"#E5ECF6\",\"polar\":{\"bgcolor\":\"#E5ECF6\",\"angularaxis\":{\"gridcolor\":\"white\",\"linecolor\":\"white\",\"ticks\":\"\"},\"radialaxis\":{\"gridcolor\":\"white\",\"linecolor\":\"white\",\"ticks\":\"\"}},\"ternary\":{\"bgcolor\":\"#E5ECF6\",\"aaxis\":{\"gridcolor\":\"white\",\"linecolor\":\"white\",\"ticks\":\"\"},\"baxis\":{\"gridcolor\":\"white\",\"linecolor\":\"white\",\"ticks\":\"\"},\"caxis\":{\"gridcolor\":\"white\",\"linecolor\":\"white\",\"ticks\":\"\"}},\"coloraxis\":{\"colorbar\":{\"outlinewidth\":0,\"ticks\":\"\"}},\"colorscale\":{\"sequential\":[[0.0,\"#0d0887\"],[0.1111111111111111,\"#46039f\"],[0.2222222222222222,\"#7201a8\"],[0.3333333333333333,\"#9c179e\"],[0.4444444444444444,\"#bd3786\"],[0.5555555555555556,\"#d8576b\"],[0.6666666666666666,\"#ed7953\"],[0.7777777777777778,\"#fb9f3a\"],[0.8888888888888888,\"#fdca26\"],[1.0,\"#f0f921\"]],\"sequentialminus\":[[0.0,\"#0d0887\"],[0.1111111111111111,\"#46039f\"],[0.2222222222222222,\"#7201a8\"],[0.3333333333333333,\"#9c179e\"],[0.4444444444444444,\"#bd3786\"],[0.5555555555555556,\"#d8576b\"],[0.6666666666666666,\"#ed7953\"],[0.7777777777777778,\"#fb9f3a\"],[0.8888888888888888,\"#fdca26\"],[1.0,\"#f0f921\"]],\"diverging\":[[0,\"#8e0152\"],[0.1,\"#c51b7d\"],[0.2,\"#de77ae\"],[0.3,\"#f1b6da\"],[0.4,\"#fde0ef\"],[0.5,\"#f7f7f7\"],[0.6,\"#e6f5d0\"],[0.7,\"#b8e186\"],[0.8,\"#7fbc41\"],[0.9,\"#4d9221\"],[1,\"#276419\"]]},\"xaxis\":{\"gridcolor\":\"white\",\"linecolor\":\"white\",\"ticks\":\"\",\"title\":{\"standoff\":15},\"zerolinecolor\":\"white\",\"automargin\":true,\"zerolinewidth\":2},\"yaxis\":{\"gridcolor\":\"white\",\"linecolor\":\"white\",\"ticks\":\"\",\"title\":{\"standoff\":15},\"zerolinecolor\":\"white\",\"automargin\":true,\"zerolinewidth\":2},\"scene\":{\"xaxis\":{\"backgroundcolor\":\"#E5ECF6\",\"gridcolor\":\"white\",\"linecolor\":\"white\",\"showbackground\":true,\"ticks\":\"\",\"zerolinecolor\":\"white\",\"gridwidth\":2},\"yaxis\":{\"backgroundcolor\":\"#E5ECF6\",\"gridcolor\":\"white\",\"linecolor\":\"white\",\"showbackground\":true,\"ticks\":\"\",\"zerolinecolor\":\"white\",\"gridwidth\":2},\"zaxis\":{\"backgroundcolor\":\"#E5ECF6\",\"gridcolor\":\"white\",\"linecolor\":\"white\",\"showbackground\":true,\"ticks\":\"\",\"zerolinecolor\":\"white\",\"gridwidth\":2}},\"shapedefaults\":{\"line\":{\"color\":\"#2a3f5f\"}},\"annotationdefaults\":{\"arrowcolor\":\"#2a3f5f\",\"arrowhead\":0,\"arrowwidth\":1},\"geo\":{\"bgcolor\":\"white\",\"landcolor\":\"#E5ECF6\",\"subunitcolor\":\"white\",\"showland\":true,\"showlakes\":true,\"lakecolor\":\"white\"},\"title\":{\"x\":0.05},\"mapbox\":{\"style\":\"light\"}}},\"xaxis\":{\"anchor\":\"y\",\"domain\":[0.0,0.2888888888888889]},\"yaxis\":{\"anchor\":\"x\",\"domain\":[0.625,1.0]},\"xaxis2\":{\"anchor\":\"y2\",\"domain\":[0.35555555555555557,0.6444444444444445]},\"yaxis2\":{\"anchor\":\"x2\",\"domain\":[0.625,1.0]},\"xaxis3\":{\"anchor\":\"y3\",\"domain\":[0.7111111111111111,1.0]},\"yaxis3\":{\"anchor\":\"x3\",\"domain\":[0.625,1.0]},\"xaxis4\":{\"anchor\":\"y4\",\"domain\":[0.0,0.2888888888888889]},\"yaxis4\":{\"anchor\":\"x4\",\"domain\":[0.0,0.375]},\"xaxis5\":{\"anchor\":\"y5\",\"domain\":[0.35555555555555557,0.6444444444444445]},\"yaxis5\":{\"anchor\":\"x5\",\"domain\":[0.0,0.375]},\"xaxis6\":{\"anchor\":\"y6\",\"domain\":[0.7111111111111111,1.0]},\"yaxis6\":{\"anchor\":\"x6\",\"domain\":[0.0,0.375]},\"annotations\":[{\"font\":{\"size\":16},\"showarrow\":false,\"text\":\"Age\",\"x\":0.14444444444444446,\"xanchor\":\"center\",\"xref\":\"paper\",\"y\":1.0,\"yanchor\":\"bottom\",\"yref\":\"paper\"},{\"font\":{\"size\":16},\"showarrow\":false,\"text\":\"Instrumentalist\",\"x\":0.5,\"xanchor\":\"center\",\"xref\":\"paper\",\"y\":1.0,\"yanchor\":\"bottom\",\"yref\":\"paper\"},{\"font\":{\"size\":16},\"showarrow\":false,\"text\":\"Composer\",\"x\":0.8555555555555556,\"xanchor\":\"center\",\"xref\":\"paper\",\"y\":1.0,\"yanchor\":\"bottom\",\"yref\":\"paper\"},{\"font\":{\"size\":16},\"showarrow\":false,\"text\":\"Hours per day\",\"x\":0.14444444444444446,\"xanchor\":\"center\",\"xref\":\"paper\",\"y\":0.375,\"yanchor\":\"bottom\",\"yref\":\"paper\"},{\"font\":{\"size\":16},\"showarrow\":false,\"text\":\"While working\",\"x\":0.5,\"xanchor\":\"center\",\"xref\":\"paper\",\"y\":0.375,\"yanchor\":\"bottom\",\"yref\":\"paper\"}],\"title\":{\"text\":\"Histogram cech\"},\"showlegend\":false},                        {\"responsive\": true}                    ).then(function(){\n",
              "                            \n",
              "var gd = document.getElementById('658bdfed-306d-41ea-9606-ed6e6414475b');\n",
              "var x = new MutationObserver(function (mutations, observer) {{\n",
              "        var display = window.getComputedStyle(gd).display;\n",
              "        if (!display || display === 'none') {{\n",
              "            console.log([gd, 'removed!']);\n",
              "            Plotly.purge(gd);\n",
              "            observer.disconnect();\n",
              "        }}\n",
              "}});\n",
              "\n",
              "// Listen for the removal of the full notebook cells\n",
              "var notebookContainer = gd.closest('#notebook-container');\n",
              "if (notebookContainer) {{\n",
              "    x.observe(notebookContainer, {childList: true});\n",
              "}}\n",
              "\n",
              "// Listen for the clearing of the current output cell\n",
              "var outputEl = gd.closest('.output');\n",
              "if (outputEl) {{\n",
              "    x.observe(outputEl, {childList: true});\n",
              "}}\n",
              "\n",
              "                        })                };                            </script>        </div>\n",
              "</body>\n",
              "</html>"
            ]
          },
          "metadata": {}
        }
      ]
    },
    {
      "cell_type": "markdown",
      "source": [
        "Zobaczmy jak wygląda sytuacja z chorobami psychicznymi u badanych osób:\n",
        "\n",
        "Znacząca ilość osób ma zaburzenie lękowe, trochę lepiej ale nadal źle wygląda sytuacja z depresją. Najlepiej jest z zaburzeniem obsesyjno-kompulsyjnym.\n",
        "\n",
        "**Co ciekawie patrząc na ilość osób cierpiących na zaburzenie lękowe albo depresje wydaje się dziwnym histogram bezsennosci, jeżeli poziom lękowy i depresji raczej zbliża się do maksymalnego to poziom bezsenności trzyma się na środku albo wcale jej nie ma co wygląda na sprzeczne ponieważ takim chorobom zazwyczaj ona towarzyszy**"
      ],
      "metadata": {
        "id": "jydKcmKC9cyd"
      }
    },
    {
      "cell_type": "code",
      "source": [
        "mental_illness = df[['Anxiety','Depression','Insomnia', 'OCD']]\n",
        "\n",
        "figure = make_subplots(rows=2, cols=2, subplot_titles=mental_illness.columns)\n",
        "\n",
        "for i, col_name in enumerate(mental_illness.columns):\n",
        "  row = i // 2 + 1\n",
        "  column = i % 2 + 1\n",
        "  figure.add_trace(\n",
        "    go.Histogram(x=mental_illness[col_name],name=col_name,nbinsx=20),\n",
        "    row=row, col=column)\n",
        "\n",
        "figure.update_layout(\n",
        "    title='Histogram chorób psychicznych',\n",
        "    showlegend=False,\n",
        "    width=900,\n",
        "    height=500\n",
        ")"
      ],
      "metadata": {
        "colab": {
          "base_uri": "https://localhost:8080/",
          "height": 517
        },
        "id": "PzUNKuyXlSse",
        "outputId": "42527993-488c-4fb5-c5e6-5574ed8b7499"
      },
      "execution_count": 33,
      "outputs": [
        {
          "output_type": "display_data",
          "data": {
            "text/html": [
              "<html>\n",
              "<head><meta charset=\"utf-8\" /></head>\n",
              "<body>\n",
              "    <div>            <script src=\"https://cdnjs.cloudflare.com/ajax/libs/mathjax/2.7.5/MathJax.js?config=TeX-AMS-MML_SVG\"></script><script type=\"text/javascript\">if (window.MathJax && window.MathJax.Hub && window.MathJax.Hub.Config) {window.MathJax.Hub.Config({SVG: {font: \"STIX-Web\"}});}</script>                <script type=\"text/javascript\">window.PlotlyConfig = {MathJaxConfig: 'local'};</script>\n",
              "        <script charset=\"utf-8\" src=\"https://cdn.plot.ly/plotly-2.35.2.min.js\"></script>                <div id=\"06caf643-aebc-4e31-9354-b5e5845a00e1\" class=\"plotly-graph-div\" style=\"height:500px; width:900px;\"></div>            <script type=\"text/javascript\">                                    window.PLOTLYENV=window.PLOTLYENV || {};                                    if (document.getElementById(\"06caf643-aebc-4e31-9354-b5e5845a00e1\")) {                    Plotly.newPlot(                        \"06caf643-aebc-4e31-9354-b5e5845a00e1\",                        [{\"name\":\"Anxiety\",\"nbinsx\":20,\"x\":[3.0,7.0,7.0,9.0,7.0,8.0,4.0,5.0,2.0,2.0,7.0,1.0,2.0,6.0,7.0,8.0,5.0,7.0,7.0,6.0,10.0,6.0,3.0,10.0,7.0,8.0,3.0,6.0,8.0,7.0,4.0,9.0,5.0,0.0,3.0,6.0,2.0,9.0,7.0,4.0,7.0,3.0,6.0,1.0,7.0,8.0,9.0,7.0,7.0,0.0,7.0,10.0,3.0,8.0,0.0,8.0,9.0,6.0,7.0,10.0,8.0,3.0,5.0,10.0,5.0,0.0,8.0,10.0,7.0,8.0,10.0,9.0,6.0,7.0,7.0,4.0,7.0,9.0,2.0,10.0,3.0,7.0,2.0,5.0,9.0,2.0,5.0,3.0,2.0,7.0,5.0,4.0,6.0,8.0,9.0,0.0,8.0,4.0,8.0,3.0,1.0,10.0,6.0,6.0,8.0,9.0,7.0,6.0,10.0,6.0,7.0,7.0,8.0,4.0,7.0,7.0,2.0,7.0,4.0,7.0,5.0,10.0,6.0,7.0,4.0,4.0,7.0,6.0,4.0,6.0,10.0,10.0,3.0,8.0,8.0,3.0,6.0,0.0,6.0,3.0,1.0,5.0,0.0,0.0,3.0,8.0,5.0,8.0,6.0,6.0,6.0,9.0,7.0,10.0,1.0,5.0,6.0,7.0,6.0,1.0,0.0,8.0,3.0,8.0,6.0,1.0,5.0,8.0,8.0,3.0,0.0,6.0,1.0,4.0,5.0,1.0,8.0,9.0,4.0,7.0,10.0,8.0,7.0,7.0,10.0,7.0,6.0,2.0,7.0,7.0,6.0,3.0,9.0,8.0,8.0,9.0,9.0,9.0,10.0,9.0,7.0,9.0,9.0,9.0,10.0,6.0,8.0,8.0,4.0,2.0,10.0,8.0,4.0,4.0,9.0,8.0,6.0,8.0,7.0,10.0,6.0,2.0,3.0,9.0,5.0,8.0,8.0,3.0,4.0,7.0,3.0,9.0,3.0,9.0,7.0,0.0,2.0,6.0,6.0,8.0,6.0,7.0,8.0,3.0,9.0,7.0,10.0,0.0,9.0,7.0,9.0,3.0,6.0,10.0,6.0,3.0,9.0,7.0,3.0,9.0,5.0,0.0,8.0,7.0,9.0,5.0,5.0,4.0,3.0,2.0,0.0,7.0,6.0,5.0,6.0,8.0,8.0,8.0,8.0,5.0,6.0,7.0,8.0,10.0,8.0,8.0,8.0,6.0,0.0,8.0,3.0,5.0,8.0,10.0,6.0,7.0,9.0,8.0,8.0,7.0,10.0,8.0,8.0,8.0,6.0,7.0,7.0,8.0,4.0,0.0,6.0,4.0,8.0,5.0,0.0,7.0,8.0,9.0,8.0,7.0,6.0,7.0,1.0,1.0,2.0,6.0,7.0,8.0,8.0,5.0,7.0,7.0,8.0,10.0,6.0,8.0,10.0,10.0,8.0,3.0,9.0,5.0,10.0,8.0,6.0,7.0,3.0,4.0,4.0,5.0,4.0,4.0,7.0,7.0,3.0,9.0,10.0,9.0,8.0,8.0,5.0,9.0,3.0,7.0,7.0,5.0,3.0,8.0,8.0,4.0,9.0,10.0,8.0,1.0,5.0,7.0,8.0,2.0,6.0,2.0,6.0,6.0,7.0,0.0,9.0,10.0,6.0,4.0,6.0,2.0,7.0,7.0,8.0,7.0,6.0,1.0,3.0,6.0,6.0,9.0,7.0,1.0,4.0,2.0,0.0,8.0,5.0,8.0,9.0,2.0,7.0,10.0,8.0,7.0,1.0,9.0,9.0,8.0,1.0,10.0,3.0,4.0,2.0,2.0,8.0,10.0,8.0,0.0,5.0,7.5,3.0,7.0,8.0,6.0,8.0,10.0,3.0,5.0,7.0,7.0,3.0,4.0,3.0,5.0,10.0,7.0,7.0,6.0,6.0,7.0,5.0,7.0,2.0,9.0,3.0,4.0,1.0,3.0,1.0,8.0,8.0,3.0,3.0,2.0,0.0,8.0,1.0,8.0,6.0,5.0,3.0,4.0,5.0,0.0,7.0,8.0,4.0,9.0,5.0,4.0,4.0,9.0,3.0,6.0,2.0,10.0,4.0,7.0,7.0,1.0,6.0,4.0,10.0,4.0,7.0,3.0,10.0,4.0,7.0,6.0,7.0,6.0,10.0,7.0,3.0,8.0,7.0,3.0,8.0,7.0,5.0,1.0,2.0,5.0,7.0,10.0,7.0,6.0,5.0,7.0,7.0,0.0,3.0,8.0,8.0,2.0,7.0,8.0,0.0,8.0,4.0,3.0,6.0,8.0,5.0,10.0,0.0,8.0,8.0,7.0,0.0,3.0,5.0,6.0,6.0,5.0,8.0,1.0,8.0,3.0,0.0,5.0,2.0,4.0,5.0,4.0,10.0,3.0,8.0,3.0,4.0,10.0,10.0,9.0,6.0,3.0,10.0,4.0,3.0,1.0,5.0,7.0,10.0,3.0,1.0,6.0,4.0,6.0,2.0,8.0,8.0,1.0,8.0,6.0,2.0,0.0,10.0,3.0,7.0,8.0,2.0,10.0,6.0,3.0,6.0,7.0,10.0,0.0,0.0,2.0,2.0,5.0,0.0,5.0,2.0,0.0,0.0,7.0,7.0,3.0,7.0,3.0,5.0,8.0,4.0,7.0,1.0,3.0,6.0,6.0,7.0,2.0,8.0,3.0,7.0,4.0,3.0,10.0,10.0,2.0,8.0,10.0,9.0,5.0,4.0,7.0,2.0,10.0,10.0,3.0,7.0,7.0,7.0,4.0,5.0,5.0,7.0,8.0,1.0,8.0,4.0,9.0,10.0,1.0,7.0,10.0,2.0,3.0,7.0,4.0,4.0,6.0,8.0,2.0,8.0,4.0,6.0,6.0,8.0,5.0,6.0,5.0,6.0,7.0,4.0,9.0,9.0,5.0,1.0,8.0,5.0,10.0,7.0,3.0,5.0,2.0,7.0,8.0,4.0,3.0,7.0,10.0,7.0,5.0,0.0,10.0,7.0,2.0,10.0,8.0,9.0,6.0,8.0,3.0,9.0,8.0,4.0,6.0,7.0,8.0,8.0,10.0,5.0,9.0,4.0,9.0,5.0,8.0,10.0,7.0,10.0,8.0,10.0,6.0,10.0,9.0,0.0,7.0,6.0,7.0,7.0,3.0,2.0,2.0,2.0],\"type\":\"histogram\",\"xaxis\":\"x\",\"yaxis\":\"y\"},{\"name\":\"Depression\",\"nbinsx\":20,\"x\":[0.0,2.0,7.0,7.0,2.0,8.0,8.0,3.0,0.0,2.0,7.0,0.0,1.0,4.0,5.0,8.0,7.0,5.0,3.0,9.0,10.0,7.0,3.0,6.0,4.0,6.0,2.0,6.0,2.0,7.0,4.0,8.0,6.0,0.0,2.0,8.0,0.0,8.0,2.0,2.0,6.0,2.0,6.0,0.0,3.0,9.0,6.0,9.0,4.0,0.0,8.0,6.0,7.0,7.0,0.0,6.0,0.0,4.0,0.0,1.0,7.0,2.0,5.0,10.0,4.0,0.0,8.0,7.0,3.0,7.0,2.0,8.0,3.0,7.0,7.0,1.0,2.0,0.0,7.0,8.0,0.0,8.0,1.0,4.0,10.0,0.0,2.0,2.0,0.0,6.0,4.0,6.0,2.0,2.0,6.0,3.0,9.0,1.0,7.0,4.0,1.0,8.0,6.0,7.0,4.0,7.0,4.0,7.0,0.0,3.0,5.0,10.0,6.0,3.0,6.0,3.0,7.0,8.0,7.0,8.0,2.0,7.0,5.0,2.0,7.0,5.0,10.0,4.0,1.0,6.0,8.0,8.0,6.0,9.0,3.0,3.0,5.0,0.0,5.0,8.0,8.0,6.0,0.0,8.0,7.0,8.0,2.0,8.0,8.0,8.0,6.0,10.0,7.0,7.0,3.0,3.0,8.0,2.0,9.0,1.0,2.0,8.0,3.0,8.0,4.0,0.0,5.0,9.0,8.0,0.0,5.0,3.0,7.0,2.0,6.0,0.0,6.0,4.0,6.0,3.0,3.0,8.0,6.0,2.0,3.5,5.0,8.0,9.0,4.0,5.0,1.0,6.0,10.0,5.0,7.0,9.0,8.0,3.0,8.0,6.0,7.0,10.0,9.0,10.0,9.0,5.0,6.0,3.0,2.0,1.0,10.0,9.0,9.0,2.0,2.0,6.0,5.0,5.0,6.0,2.0,0.0,0.0,7.0,0.0,4.0,4.0,10.0,6.0,4.0,5.0,2.0,9.0,10.0,0.0,6.0,9.0,2.0,9.0,4.0,9.0,7.0,2.0,6.0,10.0,4.0,9.0,3.0,0.0,6.0,1.0,7.0,1.0,6.0,6.0,3.0,3.0,10.0,5.0,0.0,9.0,7.0,8.0,4.0,2.0,9.0,7.0,1.0,1.0,5.0,2.0,1.0,8.0,4.0,6.0,6.0,9.0,4.0,6.0,8.0,2.0,8.0,5.0,8.0,2.0,7.0,8.0,10.0,1.0,4.0,10.0,2.0,3.0,9.0,3.0,7.0,4.0,8.0,0.0,9.0,2.0,10.0,8.0,7.0,7.0,5.0,6.0,4.0,7.0,4.0,0.0,4.0,7.0,4.0,5.0,8.0,4.0,7.0,8.0,6.0,2.0,7.0,6.0,1.0,1.0,7.0,2.0,7.0,7.0,3.0,4.0,10.0,6.0,7.0,7.0,5.0,7.0,7.0,10.0,2.0,7.0,7.0,3.0,7.0,0.0,0.0,9.0,2.0,2.0,2.0,3.0,2.0,0.0,6.0,8.0,4.0,7.0,9.0,9.0,10.0,9.0,6.0,3.0,2.0,7.0,9.0,1.0,3.0,7.0,2.0,0.0,6.0,7.0,7.0,0.0,7.0,6.0,8.0,2.0,0.0,0.0,2.0,1.0,6.0,0.0,7.0,0.0,6.0,3.0,2.0,2.0,4.0,5.0,5.0,5.0,8.0,2.0,2.0,7.0,7.0,8.0,7.0,0.0,3.0,0.0,5.0,7.0,10.0,7.0,6.0,2.0,8.0,10.0,5.0,8.0,1.0,10.0,4.0,2.0,1.0,9.0,0.0,0.0,3.0,3.0,4.0,10.0,8.0,1.0,4.0,5.0,3.0,5.0,0.0,4.0,8.0,8.0,0.0,5.0,7.0,4.0,3.0,0.0,0.0,1.0,6.0,5.0,7.0,0.0,2.0,6.0,7.0,6.0,2.0,5.0,7.0,5.0,0.0,2.0,6.0,10.0,10.0,0.0,4.0,1.0,0.0,8.0,1.0,7.0,5.0,4.0,1.0,8.0,6.0,0.0,6.0,5.0,4.0,8.0,5.0,6.0,8.0,10.0,2.0,2.0,0.0,8.0,4.0,8.0,6.0,0.0,2.0,5.0,7.0,2.0,6.0,2.0,7.0,0.0,7.0,7.0,6.0,5.0,10.0,6.0,0.0,2.0,6.0,2.0,2.0,7.0,1.0,2.0,1.0,2.0,2.0,10.0,2.0,4.0,9.0,5.0,6.0,0.0,5.0,8.0,7.0,4.0,3.0,7.0,0.0,6.0,2.0,2.0,4.0,8.0,5.0,8.0,0.0,8.0,2.0,8.0,2.0,5.0,2.0,1.0,3.0,6.0,4.0,1.0,3.0,3.0,0.0,4.0,4.0,6.0,7.0,0.0,8.0,3.0,7.0,3.0,5.0,10.0,2.0,6.0,4.0,4.0,10.0,8.0,0.0,0.0,6.0,0.0,8.0,0.0,0.0,6.0,3.0,4.0,6.0,3.0,10.0,0.0,6.0,3.0,0.0,0.0,10.0,0.0,9.0,7.0,0.0,7.0,0.0,0.0,5.0,6.0,7.0,3.0,2.0,0.0,2.0,6.0,0.0,4.0,7.0,6.0,0.0,5.0,5.0,3.0,10.0,2.0,1.0,9.0,8.0,9.0,5.0,2.0,8.0,3.0,4.0,6.0,5.0,3.0,5.0,8.0,0.0,7.0,4.0,2.0,7.0,5.0,10.0,2.0,8.0,8.0,2.0,3.0,10.0,7.0,5.0,4.0,9.0,7.0,9.0,4.0,2.0,6.0,3.0,10.0,7.0,6.0,7.0,2.0,10.0,2.0,1.0,10.0,10.0,2.0,2.0,8.0,6.0,2.0,7.0,3.0,1.0,6.0,7.0,3.0,2.0,6.0,10.0,3.0,6.0,4.0,7.0,10.0,0.0,7.0,1.0,6.0,5.0,1.0,8.0,0.0,0.0,0.0,1.0,8.0,0.0,8.0,1.0,9.0,0.0,6.0,3.5,0.0,10.0,9.0,7.0,4.0,5.0,7.0,1.0,6.0,1.0,5.0,8.0,9.0,6.0,5.0,2.0,3.0,6.0,8.0,7.0,3.0,10.0,7.0,8.0,6.0,7.0,6.0,10.0,8.0,0.0,3.0,2.0,6.0,6.0,2.0,2.0,3.0,2.0],\"type\":\"histogram\",\"xaxis\":\"x2\",\"yaxis\":\"y2\"},{\"name\":\"Insomnia\",\"nbinsx\":20,\"x\":[1.0,2.0,10.0,3.0,5.0,7.0,6.0,5.0,0.0,5.0,4.0,0.0,2.0,7.0,4.0,4.0,10.0,0.0,0.0,3.0,2.0,5.0,8.0,8.0,2.0,10.0,1.0,4.0,1.0,2.0,4.0,2.0,6.0,0.0,1.0,0.0,4.0,1.0,8.0,3.0,5.0,10.0,8.0,8.0,1.0,3.0,4.0,5.0,2.0,0.0,7.0,3.0,5.0,4.0,1.0,2.0,10.0,2.0,0.0,0.0,0.0,6.0,3.0,3.0,10.0,8.0,5.0,8.0,1.0,4.0,0.0,1.0,1.0,0.0,8.0,0.0,1.0,5.0,1.0,7.0,0.0,5.0,0.0,0.0,6.0,0.0,5.0,0.0,7.0,6.0,8.0,5.0,3.0,1.0,0.0,7.0,6.0,1.0,5.0,6.0,3.0,6.0,2.0,0.0,10.0,6.0,6.0,0.0,10.0,0.0,5.0,5.0,0.0,0.0,7.0,2.0,5.0,6.0,1.0,5.0,8.0,4.0,0.0,3.0,7.0,6.0,5.0,5.0,3.0,1.0,7.0,2.0,2.0,2.0,8.0,1.0,2.0,4.0,0.0,0.0,0.0,6.0,0.0,0.0,0.0,8.0,3.0,3.0,8.0,6.0,7.0,3.0,5.0,2.0,0.0,2.0,1.0,0.0,9.0,4.0,0.0,2.0,7.0,3.0,0.0,0.0,4.0,6.0,7.0,2.0,1.0,0.0,5.0,1.0,0.0,0.0,5.0,0.0,6.0,1.0,1.0,3.0,5.0,3.0,5.0,1.0,9.0,2.0,10.0,6.0,0.0,1.0,3.0,8.0,7.0,9.0,9.0,7.0,6.0,3.0,8.0,4.0,8.0,3.0,8.0,6.0,10.0,6.0,1.0,1.0,7.0,0.0,6.0,0.0,7.0,7.0,4.0,2.0,6.0,0.0,0.0,1.0,5.0,2.0,1.0,0.0,2.0,2.0,2.0,2.0,0.0,5.0,4.0,5.0,6.0,4.0,2.0,2.0,1.0,4.0,4.0,2.0,5.0,0.0,9.0,2.0,1.0,0.0,1.0,3.0,5.0,2.0,8.0,0.0,1.0,0.0,2.0,0.0,4.0,6.0,7.0,0.0,3.0,0.0,6.0,5.0,0.0,3.0,3.0,0.0,3.0,6.0,8.0,8.0,2.0,3.0,3.0,5.0,7.0,5.0,4.0,2.0,7.0,0.0,7.0,8.0,9.0,8.0,4.0,10.0,0.0,3.0,6.0,0.0,8.0,7.0,6.0,0.0,2.0,3.0,4.0,3.0,7.0,1.0,10.0,0.0,0.0,2.0,4.0,2.0,0.0,0.0,3.0,3.0,0.0,6.0,7.0,6.0,4.0,0.0,7.0,4.0,1.0,3.0,1.0,3.0,3.0,0.0,5.0,2.0,10.0,8.0,0.0,3.0,5.0,6.0,7.0,5.0,2.0,4.0,5.0,0.0,0.0,0.0,3.0,4.0,5.0,0.0,0.0,1.0,2.0,6.0,3.0,6.0,1.0,2.0,3.0,7.0,9.0,6.0,9.0,7.0,1.0,4.0,1.0,9.0,0.0,5.0,1.0,0.0,1.0,2.0,7.0,0.0,1.0,9.0,2.0,8.0,0.0,1.0,6.0,0.0,4.0,3.0,10.0,0.0,3.0,1.0,2.0,3.0,5.0,3.0,10.0,6.0,8.0,4.0,0.0,7.0,2.0,4.0,2.0,1.0,4.0,0.0,7.0,7.0,8.0,9.0,8.0,7.0,6.0,8.0,2.0,2.0,2.0,10.0,4.0,4.0,5.0,9.0,2.0,4.0,5.0,3.0,3.0,10.0,9.0,0.0,0.0,7.0,0.0,3.0,1.0,1.0,7.0,9.0,2.0,7.0,6.0,6.0,1.0,0.0,6.0,6.0,8.0,1.0,0.0,0.0,3.0,7.0,7.0,4.0,2.0,0.0,8.0,9.0,7.0,0.0,1.0,4.0,10.0,8.0,1.0,2.0,0.0,5.0,1.0,6.0,4.0,6.0,0.0,2.0,3.0,2.0,7.0,6.0,2.0,10.0,7.0,8.0,5.0,6.0,2.0,2.0,3.0,0.0,2.0,6.0,5.0,0.0,8.0,7.0,0.0,1.0,2.0,8.0,4.0,0.0,0.0,4.0,2.0,8.0,2.0,5.0,0.0,1.0,6.0,5.0,1.0,2.0,1.0,1.0,2.0,4.0,1.0,7.0,1.0,1.0,6.0,7.0,7.0,0.0,0.0,5.0,10.0,5.0,9.0,4.0,0.0,9.0,3.0,2.0,10.0,10.0,5.0,6.0,7.0,10.0,0.0,4.0,0.0,4.0,3.0,0.0,4.0,8.0,7.0,2.0,1.0,0.0,0.0,2.0,0.0,0.0,2.0,7.0,6.0,1.0,2.0,0.0,2.0,8.0,7.0,8.0,1.0,6.0,10.0,8.0,0.0,0.0,7.0,3.0,8.0,3.0,0.0,0.0,4.0,0.0,3.0,3.0,7.0,0.0,6.0,1.0,3.0,0.0,6.0,0.0,10.0,6.0,10.0,9.0,0.0,2.0,9.0,5.0,8.0,9.0,1.0,0.0,4.0,3.0,1.0,3.0,0.0,0.0,0.0,1.0,3.0,1.0,4.0,3.0,1.0,4.0,0.0,7.0,6.0,1.0,0.0,6.0,8.0,9.0,3.0,0.0,3.0,2.0,0.0,3.0,8.0,0.0,7.0,2.0,10.0,1.0,9.0,5.0,0.0,0.0,10.0,7.0,7.0,8.0,4.0,1.0,9.0,10.0,0.0,0.0,10.0,10.0,6.0,3.0,4.0,2.0,0.0,1.0,2.0,0.0,2.0,0.0,5.0,7.0,4.0,0.0,9.0,5.0,0.0,3.0,1.0,4.0,4.0,6.0,8.0,9.0,0.0,0.0,7.0,2.0,1.0,2.0,4.0,0.0,5.0,0.0,7.0,0.0,0.0,0.0,1.0,0.0,2.0,10.0,1.0,1.0,0.0,3.0,3.5,0.0,10.0,6.0,8.0,5.0,9.0,0.0,0.0,1.0,1.0,3.0,6.0,5.0,7.0,2.0,4.0,2.0,3.0,4.0,10.0,9.0,6.0,5.0,1.0,2.0,6.0,8.0,8.0,5.0,0.0,1.0,2.0,4.0,0.0,2.0,2.0,2.0,2.0],\"type\":\"histogram\",\"xaxis\":\"x3\",\"yaxis\":\"y3\"},{\"name\":\"OCD\",\"nbinsx\":20,\"x\":[0.0,1.0,2.0,3.0,9.0,7.0,0.0,3.0,0.0,1.0,7.0,1.0,0.0,0.0,1.0,3.0,0.0,3.0,2.0,0.0,4.0,4.0,6.0,10.0,5.0,5.0,2.0,5.0,5.0,0.0,3.0,3.0,1.0,0.0,1.0,2.0,0.0,0.0,6.0,4.0,0.0,0.0,2.0,2.0,5.0,0.0,3.0,0.0,4.0,0.0,5.0,10.0,5.0,3.0,3.0,10.0,0.0,3.0,2.0,0.0,5.0,7.0,1.0,1.0,2.0,0.0,10.0,0.0,1.0,0.0,5.0,2.0,1.0,1.0,4.0,0.0,5.0,10.0,1.0,0.0,0.0,1.0,0.0,1.0,10.0,0.0,1.0,0.0,0.0,2.0,3.0,3.0,1.0,6.0,6.0,0.0,2.0,1.0,0.0,1.0,1.0,7.0,0.0,0.0,0.0,2.0,5.0,0.0,10.0,1.0,3.0,0.0,0.0,0.0,5.0,3.0,0.0,5.0,0.0,1.0,6.0,2.0,0.0,1.0,3.0,5.0,6.0,0.0,1.0,2.0,1.0,8.0,0.0,0.0,7.0,2.0,0.0,0.0,2.0,0.0,0.0,3.0,0.0,0.0,0.0,5.0,4.0,0.0,0.0,0.0,5.0,0.0,0.0,8.0,6.0,1.0,6.0,7.0,0.0,1.0,0.0,0.0,0.0,0.0,3.0,0.0,4.0,0.0,6.0,0.0,0.0,0.0,1.0,1.0,1.0,0.0,2.0,3.0,4.0,5.0,0.0,0.0,4.0,5.0,10.0,2.0,5.0,1.0,2.0,0.0,0.0,1.0,0.0,9.0,3.0,3.0,7.0,8.0,2.0,0.0,3.0,0.0,2.0,9.0,8.0,8.0,3.0,4.0,3.0,1.0,3.0,0.0,2.0,0.0,7.0,5.0,2.0,3.0,1.0,0.0,0.0,0.0,2.0,0.0,1.0,1.0,0.0,1.0,1.0,6.0,0.0,1.0,1.0,0.0,5.0,0.0,1.0,1.0,0.0,0.0,3.0,0.0,6.0,0.0,7.0,8.0,4.0,1.0,7.0,5.0,7.0,7.0,0.0,4.0,1.0,7.0,2.0,2.0,4.0,4.0,2.0,5.0,4.0,7.0,9.0,4.0,0.0,0.0,0.0,6.0,5.0,2.0,8.0,2.0,6.0,4.0,3.0,7.0,7.0,0.0,2.0,1.0,1.0,0.0,5.0,6.0,2.0,4.0,0.0,8.0,1.0,1.0,1.0,10.0,2.0,0.0,2.0,0.0,5.0,0.0,0.0,3.0,4.0,2.0,2.0,4.0,0.0,10.0,0.0,0.0,1.0,0.0,0.0,3.0,0.0,1.0,3.0,2.0,0.0,8.0,7.0,2.0,0.0,0.0,2.0,1.0,2.0,3.0,2.0,0.0,1.0,4.0,9.0,3.0,3.0,8.0,3.0,7.0,8.0,0.0,5.0,0.0,10.0,3.0,0.0,6.0,6.0,0.0,0.0,0.0,1.0,5.0,1.0,2.0,1.0,1.0,2.0,3.0,2.0,4.0,9.0,2.0,6.0,0.0,2.0,1.0,0.0,4.0,1.0,0.0,1.0,0.0,4.0,0.0,4.0,2.0,2.0,0.0,2.0,0.0,7.0,5.0,0.0,0.0,6.0,0.0,0.0,6.0,1.0,2.0,6.0,2.0,3.0,5.0,2.0,3.0,2.0,4.0,0.0,8.0,1.0,0.0,5.0,0.0,0.0,0.0,0.0,2.0,5.0,0.0,2.0,2.0,3.0,5.0,0.0,3.0,4.0,0.0,1.0,8.0,3.0,0.0,2.0,0.0,0.0,7.0,3.0,2.0,1.0,8.5,0.0,1.0,6.0,1.0,10.0,5.0,0.0,1.0,5.0,3.0,0.0,2.0,9.0,0.0,0.0,2.0,4.0,0.0,2.0,9.0,0.0,3.0,0.0,7.0,0.0,1.0,0.0,2.0,2.0,0.0,0.0,1.0,0.0,2.0,0.0,0.0,0.0,2.0,0.0,2.0,2.0,2.0,1.0,1.0,4.0,1.0,0.0,9.0,0.0,1.0,0.0,7.0,2.0,1.0,0.0,4.0,2.0,2.0,5.0,0.0,0.0,0.0,0.0,0.0,3.0,0.0,3.0,0.0,0.0,1.0,7.0,0.0,3.0,1.0,0.0,0.0,5.0,0.0,0.0,4.0,1.0,0.0,2.0,0.0,0.0,8.0,6.0,0.0,1.0,0.0,4.0,0.0,2.0,2.0,6.0,2.0,2.0,4.0,5.0,8.0,2.0,2.0,0.0,0.0,5.0,2.0,0.0,0.0,0.0,10.0,1.0,0.0,1.0,0.0,2.0,2.0,5.0,3.0,3.0,0.0,0.0,0.0,0.0,2.0,0.0,0.0,2.0,0.0,1.0,3.0,5.0,10.0,8.0,5.0,6.0,8.0,0.0,4.0,0.0,0.0,7.0,1.0,9.0,4.0,1.0,0.0,0.0,0.0,0.0,3.0,3.0,1.0,8.0,7.0,0.0,0.0,6.0,1.0,0.0,2.0,10.0,3.0,0.0,2.0,8.0,8.0,6.0,5.0,5.0,0.0,0.0,4.0,0.0,7.0,0.0,4.0,0.0,3.0,1.0,8.0,7.0,0.0,9.0,10.0,0.0,0.0,4.0,0.0,0.0,0.0,0.0,1.0,8.0,0.0,3.0,3.0,5.0,2.0,0.0,0.0,3.0,8.0,6.0,6.0,1.0,3.0,3.0,4.0,9.0,4.0,7.0,8.0,5.0,3.0,6.0,7.0,1.0,2.0,0.0,2.0,0.0,0.0,4.0,0.0,8.0,10.0,2.0,0.0,0.0,0.0,3.0,0.0,0.0,0.0,3.0,0.0,4.0,6.0,1.0,1.0,3.0,0.0,1.0,7.0,0.0,1.0,5.0,7.0,0.0,6.0,0.0,0.0,5.0,3.0,4.0,5.0,0.0,2.0,0.0,2.0,2.0,0.0,1.0,7.0,0.0,8.0,5.5,2.0,8.0,5.0,4.0,0.0,4.0,0.0,9.0,4.0,6.0,1.0,5.0,10.0,0.0,0.0,7.0,0.0,4.0,0.0,2.0,2.0,8.0,5.0,0.0,0.0,10.0,0.0,4.0,10.0,0.0,2.0,0.0,6.0,9.0,5.0,2.0,1.0,5.0],\"type\":\"histogram\",\"xaxis\":\"x4\",\"yaxis\":\"y4\"}],                        {\"template\":{\"data\":{\"histogram2dcontour\":[{\"type\":\"histogram2dcontour\",\"colorbar\":{\"outlinewidth\":0,\"ticks\":\"\"},\"colorscale\":[[0.0,\"#0d0887\"],[0.1111111111111111,\"#46039f\"],[0.2222222222222222,\"#7201a8\"],[0.3333333333333333,\"#9c179e\"],[0.4444444444444444,\"#bd3786\"],[0.5555555555555556,\"#d8576b\"],[0.6666666666666666,\"#ed7953\"],[0.7777777777777778,\"#fb9f3a\"],[0.8888888888888888,\"#fdca26\"],[1.0,\"#f0f921\"]]}],\"choropleth\":[{\"type\":\"choropleth\",\"colorbar\":{\"outlinewidth\":0,\"ticks\":\"\"}}],\"histogram2d\":[{\"type\":\"histogram2d\",\"colorbar\":{\"outlinewidth\":0,\"ticks\":\"\"},\"colorscale\":[[0.0,\"#0d0887\"],[0.1111111111111111,\"#46039f\"],[0.2222222222222222,\"#7201a8\"],[0.3333333333333333,\"#9c179e\"],[0.4444444444444444,\"#bd3786\"],[0.5555555555555556,\"#d8576b\"],[0.6666666666666666,\"#ed7953\"],[0.7777777777777778,\"#fb9f3a\"],[0.8888888888888888,\"#fdca26\"],[1.0,\"#f0f921\"]]}],\"heatmap\":[{\"type\":\"heatmap\",\"colorbar\":{\"outlinewidth\":0,\"ticks\":\"\"},\"colorscale\":[[0.0,\"#0d0887\"],[0.1111111111111111,\"#46039f\"],[0.2222222222222222,\"#7201a8\"],[0.3333333333333333,\"#9c179e\"],[0.4444444444444444,\"#bd3786\"],[0.5555555555555556,\"#d8576b\"],[0.6666666666666666,\"#ed7953\"],[0.7777777777777778,\"#fb9f3a\"],[0.8888888888888888,\"#fdca26\"],[1.0,\"#f0f921\"]]}],\"heatmapgl\":[{\"type\":\"heatmapgl\",\"colorbar\":{\"outlinewidth\":0,\"ticks\":\"\"},\"colorscale\":[[0.0,\"#0d0887\"],[0.1111111111111111,\"#46039f\"],[0.2222222222222222,\"#7201a8\"],[0.3333333333333333,\"#9c179e\"],[0.4444444444444444,\"#bd3786\"],[0.5555555555555556,\"#d8576b\"],[0.6666666666666666,\"#ed7953\"],[0.7777777777777778,\"#fb9f3a\"],[0.8888888888888888,\"#fdca26\"],[1.0,\"#f0f921\"]]}],\"contourcarpet\":[{\"type\":\"contourcarpet\",\"colorbar\":{\"outlinewidth\":0,\"ticks\":\"\"}}],\"contour\":[{\"type\":\"contour\",\"colorbar\":{\"outlinewidth\":0,\"ticks\":\"\"},\"colorscale\":[[0.0,\"#0d0887\"],[0.1111111111111111,\"#46039f\"],[0.2222222222222222,\"#7201a8\"],[0.3333333333333333,\"#9c179e\"],[0.4444444444444444,\"#bd3786\"],[0.5555555555555556,\"#d8576b\"],[0.6666666666666666,\"#ed7953\"],[0.7777777777777778,\"#fb9f3a\"],[0.8888888888888888,\"#fdca26\"],[1.0,\"#f0f921\"]]}],\"surface\":[{\"type\":\"surface\",\"colorbar\":{\"outlinewidth\":0,\"ticks\":\"\"},\"colorscale\":[[0.0,\"#0d0887\"],[0.1111111111111111,\"#46039f\"],[0.2222222222222222,\"#7201a8\"],[0.3333333333333333,\"#9c179e\"],[0.4444444444444444,\"#bd3786\"],[0.5555555555555556,\"#d8576b\"],[0.6666666666666666,\"#ed7953\"],[0.7777777777777778,\"#fb9f3a\"],[0.8888888888888888,\"#fdca26\"],[1.0,\"#f0f921\"]]}],\"mesh3d\":[{\"type\":\"mesh3d\",\"colorbar\":{\"outlinewidth\":0,\"ticks\":\"\"}}],\"scatter\":[{\"fillpattern\":{\"fillmode\":\"overlay\",\"size\":10,\"solidity\":0.2},\"type\":\"scatter\"}],\"parcoords\":[{\"type\":\"parcoords\",\"line\":{\"colorbar\":{\"outlinewidth\":0,\"ticks\":\"\"}}}],\"scatterpolargl\":[{\"type\":\"scatterpolargl\",\"marker\":{\"colorbar\":{\"outlinewidth\":0,\"ticks\":\"\"}}}],\"bar\":[{\"error_x\":{\"color\":\"#2a3f5f\"},\"error_y\":{\"color\":\"#2a3f5f\"},\"marker\":{\"line\":{\"color\":\"#E5ECF6\",\"width\":0.5},\"pattern\":{\"fillmode\":\"overlay\",\"size\":10,\"solidity\":0.2}},\"type\":\"bar\"}],\"scattergeo\":[{\"type\":\"scattergeo\",\"marker\":{\"colorbar\":{\"outlinewidth\":0,\"ticks\":\"\"}}}],\"scatterpolar\":[{\"type\":\"scatterpolar\",\"marker\":{\"colorbar\":{\"outlinewidth\":0,\"ticks\":\"\"}}}],\"histogram\":[{\"marker\":{\"pattern\":{\"fillmode\":\"overlay\",\"size\":10,\"solidity\":0.2}},\"type\":\"histogram\"}],\"scattergl\":[{\"type\":\"scattergl\",\"marker\":{\"colorbar\":{\"outlinewidth\":0,\"ticks\":\"\"}}}],\"scatter3d\":[{\"type\":\"scatter3d\",\"line\":{\"colorbar\":{\"outlinewidth\":0,\"ticks\":\"\"}},\"marker\":{\"colorbar\":{\"outlinewidth\":0,\"ticks\":\"\"}}}],\"scattermapbox\":[{\"type\":\"scattermapbox\",\"marker\":{\"colorbar\":{\"outlinewidth\":0,\"ticks\":\"\"}}}],\"scatterternary\":[{\"type\":\"scatterternary\",\"marker\":{\"colorbar\":{\"outlinewidth\":0,\"ticks\":\"\"}}}],\"scattercarpet\":[{\"type\":\"scattercarpet\",\"marker\":{\"colorbar\":{\"outlinewidth\":0,\"ticks\":\"\"}}}],\"carpet\":[{\"aaxis\":{\"endlinecolor\":\"#2a3f5f\",\"gridcolor\":\"white\",\"linecolor\":\"white\",\"minorgridcolor\":\"white\",\"startlinecolor\":\"#2a3f5f\"},\"baxis\":{\"endlinecolor\":\"#2a3f5f\",\"gridcolor\":\"white\",\"linecolor\":\"white\",\"minorgridcolor\":\"white\",\"startlinecolor\":\"#2a3f5f\"},\"type\":\"carpet\"}],\"table\":[{\"cells\":{\"fill\":{\"color\":\"#EBF0F8\"},\"line\":{\"color\":\"white\"}},\"header\":{\"fill\":{\"color\":\"#C8D4E3\"},\"line\":{\"color\":\"white\"}},\"type\":\"table\"}],\"barpolar\":[{\"marker\":{\"line\":{\"color\":\"#E5ECF6\",\"width\":0.5},\"pattern\":{\"fillmode\":\"overlay\",\"size\":10,\"solidity\":0.2}},\"type\":\"barpolar\"}],\"pie\":[{\"automargin\":true,\"type\":\"pie\"}]},\"layout\":{\"autotypenumbers\":\"strict\",\"colorway\":[\"#636efa\",\"#EF553B\",\"#00cc96\",\"#ab63fa\",\"#FFA15A\",\"#19d3f3\",\"#FF6692\",\"#B6E880\",\"#FF97FF\",\"#FECB52\"],\"font\":{\"color\":\"#2a3f5f\"},\"hovermode\":\"closest\",\"hoverlabel\":{\"align\":\"left\"},\"paper_bgcolor\":\"white\",\"plot_bgcolor\":\"#E5ECF6\",\"polar\":{\"bgcolor\":\"#E5ECF6\",\"angularaxis\":{\"gridcolor\":\"white\",\"linecolor\":\"white\",\"ticks\":\"\"},\"radialaxis\":{\"gridcolor\":\"white\",\"linecolor\":\"white\",\"ticks\":\"\"}},\"ternary\":{\"bgcolor\":\"#E5ECF6\",\"aaxis\":{\"gridcolor\":\"white\",\"linecolor\":\"white\",\"ticks\":\"\"},\"baxis\":{\"gridcolor\":\"white\",\"linecolor\":\"white\",\"ticks\":\"\"},\"caxis\":{\"gridcolor\":\"white\",\"linecolor\":\"white\",\"ticks\":\"\"}},\"coloraxis\":{\"colorbar\":{\"outlinewidth\":0,\"ticks\":\"\"}},\"colorscale\":{\"sequential\":[[0.0,\"#0d0887\"],[0.1111111111111111,\"#46039f\"],[0.2222222222222222,\"#7201a8\"],[0.3333333333333333,\"#9c179e\"],[0.4444444444444444,\"#bd3786\"],[0.5555555555555556,\"#d8576b\"],[0.6666666666666666,\"#ed7953\"],[0.7777777777777778,\"#fb9f3a\"],[0.8888888888888888,\"#fdca26\"],[1.0,\"#f0f921\"]],\"sequentialminus\":[[0.0,\"#0d0887\"],[0.1111111111111111,\"#46039f\"],[0.2222222222222222,\"#7201a8\"],[0.3333333333333333,\"#9c179e\"],[0.4444444444444444,\"#bd3786\"],[0.5555555555555556,\"#d8576b\"],[0.6666666666666666,\"#ed7953\"],[0.7777777777777778,\"#fb9f3a\"],[0.8888888888888888,\"#fdca26\"],[1.0,\"#f0f921\"]],\"diverging\":[[0,\"#8e0152\"],[0.1,\"#c51b7d\"],[0.2,\"#de77ae\"],[0.3,\"#f1b6da\"],[0.4,\"#fde0ef\"],[0.5,\"#f7f7f7\"],[0.6,\"#e6f5d0\"],[0.7,\"#b8e186\"],[0.8,\"#7fbc41\"],[0.9,\"#4d9221\"],[1,\"#276419\"]]},\"xaxis\":{\"gridcolor\":\"white\",\"linecolor\":\"white\",\"ticks\":\"\",\"title\":{\"standoff\":15},\"zerolinecolor\":\"white\",\"automargin\":true,\"zerolinewidth\":2},\"yaxis\":{\"gridcolor\":\"white\",\"linecolor\":\"white\",\"ticks\":\"\",\"title\":{\"standoff\":15},\"zerolinecolor\":\"white\",\"automargin\":true,\"zerolinewidth\":2},\"scene\":{\"xaxis\":{\"backgroundcolor\":\"#E5ECF6\",\"gridcolor\":\"white\",\"linecolor\":\"white\",\"showbackground\":true,\"ticks\":\"\",\"zerolinecolor\":\"white\",\"gridwidth\":2},\"yaxis\":{\"backgroundcolor\":\"#E5ECF6\",\"gridcolor\":\"white\",\"linecolor\":\"white\",\"showbackground\":true,\"ticks\":\"\",\"zerolinecolor\":\"white\",\"gridwidth\":2},\"zaxis\":{\"backgroundcolor\":\"#E5ECF6\",\"gridcolor\":\"white\",\"linecolor\":\"white\",\"showbackground\":true,\"ticks\":\"\",\"zerolinecolor\":\"white\",\"gridwidth\":2}},\"shapedefaults\":{\"line\":{\"color\":\"#2a3f5f\"}},\"annotationdefaults\":{\"arrowcolor\":\"#2a3f5f\",\"arrowhead\":0,\"arrowwidth\":1},\"geo\":{\"bgcolor\":\"white\",\"landcolor\":\"#E5ECF6\",\"subunitcolor\":\"white\",\"showland\":true,\"showlakes\":true,\"lakecolor\":\"white\"},\"title\":{\"x\":0.05},\"mapbox\":{\"style\":\"light\"}}},\"xaxis\":{\"anchor\":\"y\",\"domain\":[0.0,0.45]},\"yaxis\":{\"anchor\":\"x\",\"domain\":[0.625,1.0]},\"xaxis2\":{\"anchor\":\"y2\",\"domain\":[0.55,1.0]},\"yaxis2\":{\"anchor\":\"x2\",\"domain\":[0.625,1.0]},\"xaxis3\":{\"anchor\":\"y3\",\"domain\":[0.0,0.45]},\"yaxis3\":{\"anchor\":\"x3\",\"domain\":[0.0,0.375]},\"xaxis4\":{\"anchor\":\"y4\",\"domain\":[0.55,1.0]},\"yaxis4\":{\"anchor\":\"x4\",\"domain\":[0.0,0.375]},\"annotations\":[{\"font\":{\"size\":16},\"showarrow\":false,\"text\":\"Anxiety\",\"x\":0.225,\"xanchor\":\"center\",\"xref\":\"paper\",\"y\":1.0,\"yanchor\":\"bottom\",\"yref\":\"paper\"},{\"font\":{\"size\":16},\"showarrow\":false,\"text\":\"Depression\",\"x\":0.775,\"xanchor\":\"center\",\"xref\":\"paper\",\"y\":1.0,\"yanchor\":\"bottom\",\"yref\":\"paper\"},{\"font\":{\"size\":16},\"showarrow\":false,\"text\":\"Insomnia\",\"x\":0.225,\"xanchor\":\"center\",\"xref\":\"paper\",\"y\":0.375,\"yanchor\":\"bottom\",\"yref\":\"paper\"},{\"font\":{\"size\":16},\"showarrow\":false,\"text\":\"OCD\",\"x\":0.775,\"xanchor\":\"center\",\"xref\":\"paper\",\"y\":0.375,\"yanchor\":\"bottom\",\"yref\":\"paper\"}],\"title\":{\"text\":\"Histogram chorób psychicznych\"},\"showlegend\":false,\"width\":900,\"height\":500},                        {\"responsive\": true}                    ).then(function(){\n",
              "                            \n",
              "var gd = document.getElementById('06caf643-aebc-4e31-9354-b5e5845a00e1');\n",
              "var x = new MutationObserver(function (mutations, observer) {{\n",
              "        var display = window.getComputedStyle(gd).display;\n",
              "        if (!display || display === 'none') {{\n",
              "            console.log([gd, 'removed!']);\n",
              "            Plotly.purge(gd);\n",
              "            observer.disconnect();\n",
              "        }}\n",
              "}});\n",
              "\n",
              "// Listen for the removal of the full notebook cells\n",
              "var notebookContainer = gd.closest('#notebook-container');\n",
              "if (notebookContainer) {{\n",
              "    x.observe(notebookContainer, {childList: true});\n",
              "}}\n",
              "\n",
              "// Listen for the clearing of the current output cell\n",
              "var outputEl = gd.closest('.output');\n",
              "if (outputEl) {{\n",
              "    x.observe(outputEl, {childList: true});\n",
              "}}\n",
              "\n",
              "                        })                };                            </script>        </div>\n",
              "</body>\n",
              "</html>"
            ]
          },
          "metadata": {}
        }
      ]
    },
    {
      "cell_type": "markdown",
      "source": [
        "Przechodząc do muzyki możemy zaobserwować że **Spotify** jest najpopularniejszą platformą wśród badanych (oczywiście nic dziwnego)\n",
        "\n",
        "Co ciekawe więcej ludzi nie używa żadnego serwisu niż używa Apple Music"
      ],
      "metadata": {
        "id": "JnfLth3U3daT"
      }
    },
    {
      "cell_type": "code",
      "source": [
        "streaming_services = df['Primary streaming service'].value_counts().reset_index()\n",
        "streaming_services.columns = ['service', 'count']\n",
        "\n",
        "pie = px.pie(streaming_services, values='count', names='service', hole=0.2, title='Używane serwisy streamingowe', height=400, width=700)\n",
        "pie.show()"
      ],
      "metadata": {
        "colab": {
          "base_uri": "https://localhost:8080/",
          "height": 417
        },
        "id": "wdF07bjZ3dsd",
        "outputId": "083480dc-d156-452c-c7c2-7fec227ac406"
      },
      "execution_count": 29,
      "outputs": [
        {
          "output_type": "display_data",
          "data": {
            "text/html": [
              "<html>\n",
              "<head><meta charset=\"utf-8\" /></head>\n",
              "<body>\n",
              "    <div>            <script src=\"https://cdnjs.cloudflare.com/ajax/libs/mathjax/2.7.5/MathJax.js?config=TeX-AMS-MML_SVG\"></script><script type=\"text/javascript\">if (window.MathJax && window.MathJax.Hub && window.MathJax.Hub.Config) {window.MathJax.Hub.Config({SVG: {font: \"STIX-Web\"}});}</script>                <script type=\"text/javascript\">window.PlotlyConfig = {MathJaxConfig: 'local'};</script>\n",
              "        <script charset=\"utf-8\" src=\"https://cdn.plot.ly/plotly-2.35.2.min.js\"></script>                <div id=\"78299a75-d40a-4db0-8a56-8eb45e055804\" class=\"plotly-graph-div\" style=\"height:400px; width:700px;\"></div>            <script type=\"text/javascript\">                                    window.PLOTLYENV=window.PLOTLYENV || {};                                    if (document.getElementById(\"78299a75-d40a-4db0-8a56-8eb45e055804\")) {                    Plotly.newPlot(                        \"78299a75-d40a-4db0-8a56-8eb45e055804\",                        [{\"domain\":{\"x\":[0.0,1.0],\"y\":[0.0,1.0]},\"hole\":0.2,\"hovertemplate\":\"service=%{label}\\u003cbr\\u003ecount=%{value}\\u003cextra\\u003e\\u003c\\u002fextra\\u003e\",\"labels\":[\"Spotify\",\"YouTube Music\",\"I do not use a streaming service.\",\"Apple Music\",\"Other streaming service\",\"Pandora\"],\"legendgroup\":\"\",\"name\":\"\",\"showlegend\":true,\"values\":[458,94,71,51,50,11],\"type\":\"pie\"}],                        {\"template\":{\"data\":{\"histogram2dcontour\":[{\"type\":\"histogram2dcontour\",\"colorbar\":{\"outlinewidth\":0,\"ticks\":\"\"},\"colorscale\":[[0.0,\"#0d0887\"],[0.1111111111111111,\"#46039f\"],[0.2222222222222222,\"#7201a8\"],[0.3333333333333333,\"#9c179e\"],[0.4444444444444444,\"#bd3786\"],[0.5555555555555556,\"#d8576b\"],[0.6666666666666666,\"#ed7953\"],[0.7777777777777778,\"#fb9f3a\"],[0.8888888888888888,\"#fdca26\"],[1.0,\"#f0f921\"]]}],\"choropleth\":[{\"type\":\"choropleth\",\"colorbar\":{\"outlinewidth\":0,\"ticks\":\"\"}}],\"histogram2d\":[{\"type\":\"histogram2d\",\"colorbar\":{\"outlinewidth\":0,\"ticks\":\"\"},\"colorscale\":[[0.0,\"#0d0887\"],[0.1111111111111111,\"#46039f\"],[0.2222222222222222,\"#7201a8\"],[0.3333333333333333,\"#9c179e\"],[0.4444444444444444,\"#bd3786\"],[0.5555555555555556,\"#d8576b\"],[0.6666666666666666,\"#ed7953\"],[0.7777777777777778,\"#fb9f3a\"],[0.8888888888888888,\"#fdca26\"],[1.0,\"#f0f921\"]]}],\"heatmap\":[{\"type\":\"heatmap\",\"colorbar\":{\"outlinewidth\":0,\"ticks\":\"\"},\"colorscale\":[[0.0,\"#0d0887\"],[0.1111111111111111,\"#46039f\"],[0.2222222222222222,\"#7201a8\"],[0.3333333333333333,\"#9c179e\"],[0.4444444444444444,\"#bd3786\"],[0.5555555555555556,\"#d8576b\"],[0.6666666666666666,\"#ed7953\"],[0.7777777777777778,\"#fb9f3a\"],[0.8888888888888888,\"#fdca26\"],[1.0,\"#f0f921\"]]}],\"heatmapgl\":[{\"type\":\"heatmapgl\",\"colorbar\":{\"outlinewidth\":0,\"ticks\":\"\"},\"colorscale\":[[0.0,\"#0d0887\"],[0.1111111111111111,\"#46039f\"],[0.2222222222222222,\"#7201a8\"],[0.3333333333333333,\"#9c179e\"],[0.4444444444444444,\"#bd3786\"],[0.5555555555555556,\"#d8576b\"],[0.6666666666666666,\"#ed7953\"],[0.7777777777777778,\"#fb9f3a\"],[0.8888888888888888,\"#fdca26\"],[1.0,\"#f0f921\"]]}],\"contourcarpet\":[{\"type\":\"contourcarpet\",\"colorbar\":{\"outlinewidth\":0,\"ticks\":\"\"}}],\"contour\":[{\"type\":\"contour\",\"colorbar\":{\"outlinewidth\":0,\"ticks\":\"\"},\"colorscale\":[[0.0,\"#0d0887\"],[0.1111111111111111,\"#46039f\"],[0.2222222222222222,\"#7201a8\"],[0.3333333333333333,\"#9c179e\"],[0.4444444444444444,\"#bd3786\"],[0.5555555555555556,\"#d8576b\"],[0.6666666666666666,\"#ed7953\"],[0.7777777777777778,\"#fb9f3a\"],[0.8888888888888888,\"#fdca26\"],[1.0,\"#f0f921\"]]}],\"surface\":[{\"type\":\"surface\",\"colorbar\":{\"outlinewidth\":0,\"ticks\":\"\"},\"colorscale\":[[0.0,\"#0d0887\"],[0.1111111111111111,\"#46039f\"],[0.2222222222222222,\"#7201a8\"],[0.3333333333333333,\"#9c179e\"],[0.4444444444444444,\"#bd3786\"],[0.5555555555555556,\"#d8576b\"],[0.6666666666666666,\"#ed7953\"],[0.7777777777777778,\"#fb9f3a\"],[0.8888888888888888,\"#fdca26\"],[1.0,\"#f0f921\"]]}],\"mesh3d\":[{\"type\":\"mesh3d\",\"colorbar\":{\"outlinewidth\":0,\"ticks\":\"\"}}],\"scatter\":[{\"fillpattern\":{\"fillmode\":\"overlay\",\"size\":10,\"solidity\":0.2},\"type\":\"scatter\"}],\"parcoords\":[{\"type\":\"parcoords\",\"line\":{\"colorbar\":{\"outlinewidth\":0,\"ticks\":\"\"}}}],\"scatterpolargl\":[{\"type\":\"scatterpolargl\",\"marker\":{\"colorbar\":{\"outlinewidth\":0,\"ticks\":\"\"}}}],\"bar\":[{\"error_x\":{\"color\":\"#2a3f5f\"},\"error_y\":{\"color\":\"#2a3f5f\"},\"marker\":{\"line\":{\"color\":\"#E5ECF6\",\"width\":0.5},\"pattern\":{\"fillmode\":\"overlay\",\"size\":10,\"solidity\":0.2}},\"type\":\"bar\"}],\"scattergeo\":[{\"type\":\"scattergeo\",\"marker\":{\"colorbar\":{\"outlinewidth\":0,\"ticks\":\"\"}}}],\"scatterpolar\":[{\"type\":\"scatterpolar\",\"marker\":{\"colorbar\":{\"outlinewidth\":0,\"ticks\":\"\"}}}],\"histogram\":[{\"marker\":{\"pattern\":{\"fillmode\":\"overlay\",\"size\":10,\"solidity\":0.2}},\"type\":\"histogram\"}],\"scattergl\":[{\"type\":\"scattergl\",\"marker\":{\"colorbar\":{\"outlinewidth\":0,\"ticks\":\"\"}}}],\"scatter3d\":[{\"type\":\"scatter3d\",\"line\":{\"colorbar\":{\"outlinewidth\":0,\"ticks\":\"\"}},\"marker\":{\"colorbar\":{\"outlinewidth\":0,\"ticks\":\"\"}}}],\"scattermapbox\":[{\"type\":\"scattermapbox\",\"marker\":{\"colorbar\":{\"outlinewidth\":0,\"ticks\":\"\"}}}],\"scatterternary\":[{\"type\":\"scatterternary\",\"marker\":{\"colorbar\":{\"outlinewidth\":0,\"ticks\":\"\"}}}],\"scattercarpet\":[{\"type\":\"scattercarpet\",\"marker\":{\"colorbar\":{\"outlinewidth\":0,\"ticks\":\"\"}}}],\"carpet\":[{\"aaxis\":{\"endlinecolor\":\"#2a3f5f\",\"gridcolor\":\"white\",\"linecolor\":\"white\",\"minorgridcolor\":\"white\",\"startlinecolor\":\"#2a3f5f\"},\"baxis\":{\"endlinecolor\":\"#2a3f5f\",\"gridcolor\":\"white\",\"linecolor\":\"white\",\"minorgridcolor\":\"white\",\"startlinecolor\":\"#2a3f5f\"},\"type\":\"carpet\"}],\"table\":[{\"cells\":{\"fill\":{\"color\":\"#EBF0F8\"},\"line\":{\"color\":\"white\"}},\"header\":{\"fill\":{\"color\":\"#C8D4E3\"},\"line\":{\"color\":\"white\"}},\"type\":\"table\"}],\"barpolar\":[{\"marker\":{\"line\":{\"color\":\"#E5ECF6\",\"width\":0.5},\"pattern\":{\"fillmode\":\"overlay\",\"size\":10,\"solidity\":0.2}},\"type\":\"barpolar\"}],\"pie\":[{\"automargin\":true,\"type\":\"pie\"}]},\"layout\":{\"autotypenumbers\":\"strict\",\"colorway\":[\"#636efa\",\"#EF553B\",\"#00cc96\",\"#ab63fa\",\"#FFA15A\",\"#19d3f3\",\"#FF6692\",\"#B6E880\",\"#FF97FF\",\"#FECB52\"],\"font\":{\"color\":\"#2a3f5f\"},\"hovermode\":\"closest\",\"hoverlabel\":{\"align\":\"left\"},\"paper_bgcolor\":\"white\",\"plot_bgcolor\":\"#E5ECF6\",\"polar\":{\"bgcolor\":\"#E5ECF6\",\"angularaxis\":{\"gridcolor\":\"white\",\"linecolor\":\"white\",\"ticks\":\"\"},\"radialaxis\":{\"gridcolor\":\"white\",\"linecolor\":\"white\",\"ticks\":\"\"}},\"ternary\":{\"bgcolor\":\"#E5ECF6\",\"aaxis\":{\"gridcolor\":\"white\",\"linecolor\":\"white\",\"ticks\":\"\"},\"baxis\":{\"gridcolor\":\"white\",\"linecolor\":\"white\",\"ticks\":\"\"},\"caxis\":{\"gridcolor\":\"white\",\"linecolor\":\"white\",\"ticks\":\"\"}},\"coloraxis\":{\"colorbar\":{\"outlinewidth\":0,\"ticks\":\"\"}},\"colorscale\":{\"sequential\":[[0.0,\"#0d0887\"],[0.1111111111111111,\"#46039f\"],[0.2222222222222222,\"#7201a8\"],[0.3333333333333333,\"#9c179e\"],[0.4444444444444444,\"#bd3786\"],[0.5555555555555556,\"#d8576b\"],[0.6666666666666666,\"#ed7953\"],[0.7777777777777778,\"#fb9f3a\"],[0.8888888888888888,\"#fdca26\"],[1.0,\"#f0f921\"]],\"sequentialminus\":[[0.0,\"#0d0887\"],[0.1111111111111111,\"#46039f\"],[0.2222222222222222,\"#7201a8\"],[0.3333333333333333,\"#9c179e\"],[0.4444444444444444,\"#bd3786\"],[0.5555555555555556,\"#d8576b\"],[0.6666666666666666,\"#ed7953\"],[0.7777777777777778,\"#fb9f3a\"],[0.8888888888888888,\"#fdca26\"],[1.0,\"#f0f921\"]],\"diverging\":[[0,\"#8e0152\"],[0.1,\"#c51b7d\"],[0.2,\"#de77ae\"],[0.3,\"#f1b6da\"],[0.4,\"#fde0ef\"],[0.5,\"#f7f7f7\"],[0.6,\"#e6f5d0\"],[0.7,\"#b8e186\"],[0.8,\"#7fbc41\"],[0.9,\"#4d9221\"],[1,\"#276419\"]]},\"xaxis\":{\"gridcolor\":\"white\",\"linecolor\":\"white\",\"ticks\":\"\",\"title\":{\"standoff\":15},\"zerolinecolor\":\"white\",\"automargin\":true,\"zerolinewidth\":2},\"yaxis\":{\"gridcolor\":\"white\",\"linecolor\":\"white\",\"ticks\":\"\",\"title\":{\"standoff\":15},\"zerolinecolor\":\"white\",\"automargin\":true,\"zerolinewidth\":2},\"scene\":{\"xaxis\":{\"backgroundcolor\":\"#E5ECF6\",\"gridcolor\":\"white\",\"linecolor\":\"white\",\"showbackground\":true,\"ticks\":\"\",\"zerolinecolor\":\"white\",\"gridwidth\":2},\"yaxis\":{\"backgroundcolor\":\"#E5ECF6\",\"gridcolor\":\"white\",\"linecolor\":\"white\",\"showbackground\":true,\"ticks\":\"\",\"zerolinecolor\":\"white\",\"gridwidth\":2},\"zaxis\":{\"backgroundcolor\":\"#E5ECF6\",\"gridcolor\":\"white\",\"linecolor\":\"white\",\"showbackground\":true,\"ticks\":\"\",\"zerolinecolor\":\"white\",\"gridwidth\":2}},\"shapedefaults\":{\"line\":{\"color\":\"#2a3f5f\"}},\"annotationdefaults\":{\"arrowcolor\":\"#2a3f5f\",\"arrowhead\":0,\"arrowwidth\":1},\"geo\":{\"bgcolor\":\"white\",\"landcolor\":\"#E5ECF6\",\"subunitcolor\":\"white\",\"showland\":true,\"showlakes\":true,\"lakecolor\":\"white\"},\"title\":{\"x\":0.05},\"mapbox\":{\"style\":\"light\"}}},\"legend\":{\"tracegroupgap\":0},\"title\":{\"text\":\"Używane serwisy streamingowe\"},\"height\":400,\"width\":700},                        {\"responsive\": true}                    ).then(function(){\n",
              "                            \n",
              "var gd = document.getElementById('78299a75-d40a-4db0-8a56-8eb45e055804');\n",
              "var x = new MutationObserver(function (mutations, observer) {{\n",
              "        var display = window.getComputedStyle(gd).display;\n",
              "        if (!display || display === 'none') {{\n",
              "            console.log([gd, 'removed!']);\n",
              "            Plotly.purge(gd);\n",
              "            observer.disconnect();\n",
              "        }}\n",
              "}});\n",
              "\n",
              "// Listen for the removal of the full notebook cells\n",
              "var notebookContainer = gd.closest('#notebook-container');\n",
              "if (notebookContainer) {{\n",
              "    x.observe(notebookContainer, {childList: true});\n",
              "}}\n",
              "\n",
              "// Listen for the clearing of the current output cell\n",
              "var outputEl = gd.closest('.output');\n",
              "if (outputEl) {{\n",
              "    x.observe(outputEl, {childList: true});\n",
              "}}\n",
              "\n",
              "                        })                };                            </script>        </div>\n",
              "</body>\n",
              "</html>"
            ]
          },
          "metadata": {}
        }
      ]
    },
    {
      "cell_type": "markdown",
      "source": [],
      "metadata": {
        "id": "xsYGbN8A3ngo"
      }
    }
  ]
}