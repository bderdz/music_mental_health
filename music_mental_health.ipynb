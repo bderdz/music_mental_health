{
  "nbformat": 4,
  "nbformat_minor": 0,
  "metadata": {
    "colab": {
      "provenance": [],
      "toc_visible": true,
      "collapsed_sections": [
        "DJKuWSWqknG_",
        "nt4hCWS6lT0Y"
      ],
      "authorship_tag": "ABX9TyNu4hKyj2rYMiwowo38Efhl",
      "include_colab_link": true
    },
    "kernelspec": {
      "name": "python3",
      "display_name": "Python 3"
    },
    "language_info": {
      "name": "python"
    }
  },
  "cells": [
    {
      "cell_type": "markdown",
      "metadata": {
        "id": "view-in-github",
        "colab_type": "text"
      },
      "source": [
        "<a href=\"https://colab.research.google.com/github/bderdz/music_mental_health/blob/main/music_mental_health.ipynb\" target=\"_parent\"><img src=\"https://colab.research.google.com/assets/colab-badge.svg\" alt=\"Open In Colab\"/></a>"
      ]
    },
    {
      "cell_type": "markdown",
      "source": [
        "# Analiza zbioru danych Music & Mental Health Survey\n",
        "\n",
        "Dataset: [Music & Mental Health Survey Results](https://www.kaggle.com/datasets/catherinerasgaitis/mxmh-survey-results)\n"
      ],
      "metadata": {
        "id": "DJKuWSWqknG_"
      }
    },
    {
      "cell_type": "code",
      "execution_count": 68,
      "metadata": {
        "colab": {
          "base_uri": "https://localhost:8080/"
        },
        "id": "Z1xnCK6uMflo",
        "outputId": "43cf2115-5e74-448d-8606-d62e0f0a9971"
      },
      "outputs": [
        {
          "output_type": "stream",
          "name": "stdout",
          "text": [
            "Drive already mounted at /content/drive; to attempt to forcibly remount, call drive.mount(\"/content/drive\", force_remount=True).\n"
          ]
        }
      ],
      "source": [
        "import numpy as np\n",
        "import pandas as pd\n",
        "import seaborn as sns\n",
        "import matplotlib.pyplot as plt\n",
        "import re\n",
        "import plotly.express as px\n",
        "from plotly.subplots import make_subplots\n",
        "import plotly.graph_objects as go\n",
        "from google.colab import drive\n",
        "\n",
        "%matplotlib inline\n",
        "\n",
        "drive.mount('/content/drive')"
      ]
    },
    {
      "cell_type": "code",
      "source": [
        "df = pd.read_csv('/content/drive/MyDrive/big_data/mxmh_survey_results.csv')\n",
        "\n",
        "df.head()"
      ],
      "metadata": {
        "colab": {
          "base_uri": "https://localhost:8080/",
          "height": 0
        },
        "id": "ANrIy5s6PenL",
        "outputId": "f43bebf1-b8a8-4777-d9df-8e8d7120ff6a"
      },
      "execution_count": 69,
      "outputs": [
        {
          "output_type": "execute_result",
          "data": {
            "text/plain": [
              "            Timestamp   Age Primary streaming service  Hours per day  \\\n",
              "0  8/27/2022 19:29:02  18.0                   Spotify            3.0   \n",
              "1  8/27/2022 19:57:31  63.0                   Pandora            1.5   \n",
              "2  8/27/2022 21:28:18  18.0                   Spotify            4.0   \n",
              "3  8/27/2022 21:40:40  61.0             YouTube Music            2.5   \n",
              "4  8/27/2022 21:54:47  18.0                   Spotify            4.0   \n",
              "\n",
              "  While working Instrumentalist Composer         Fav genre Exploratory  \\\n",
              "0           Yes             Yes      Yes             Latin         Yes   \n",
              "1           Yes              No       No              Rock         Yes   \n",
              "2            No              No       No  Video game music          No   \n",
              "3           Yes              No      Yes              Jazz         Yes   \n",
              "4           Yes              No       No               R&B         Yes   \n",
              "\n",
              "  Foreign languages  ...  Frequency [R&B]  Frequency [Rap] Frequency [Rock]  \\\n",
              "0               Yes  ...        Sometimes  Very frequently            Never   \n",
              "1                No  ...        Sometimes           Rarely  Very frequently   \n",
              "2               Yes  ...            Never           Rarely           Rarely   \n",
              "3               Yes  ...        Sometimes            Never            Never   \n",
              "4                No  ...  Very frequently  Very frequently            Never   \n",
              "\n",
              "  Frequency [Video game music] Anxiety Depression Insomnia  OCD Music effects  \\\n",
              "0                    Sometimes     3.0        0.0      1.0  0.0           NaN   \n",
              "1                       Rarely     7.0        2.0      2.0  1.0           NaN   \n",
              "2              Very frequently     7.0        7.0     10.0  2.0     No effect   \n",
              "3                        Never     9.0        7.0      3.0  3.0       Improve   \n",
              "4                       Rarely     7.0        2.0      5.0  9.0       Improve   \n",
              "\n",
              "     Permissions  \n",
              "0  I understand.  \n",
              "1  I understand.  \n",
              "2  I understand.  \n",
              "3  I understand.  \n",
              "4  I understand.  \n",
              "\n",
              "[5 rows x 33 columns]"
            ],
            "text/html": [
              "\n",
              "  <div id=\"df-fa2b0d6f-6198-49e3-b853-8912c3eab011\" class=\"colab-df-container\">\n",
              "    <div>\n",
              "<style scoped>\n",
              "    .dataframe tbody tr th:only-of-type {\n",
              "        vertical-align: middle;\n",
              "    }\n",
              "\n",
              "    .dataframe tbody tr th {\n",
              "        vertical-align: top;\n",
              "    }\n",
              "\n",
              "    .dataframe thead th {\n",
              "        text-align: right;\n",
              "    }\n",
              "</style>\n",
              "<table border=\"1\" class=\"dataframe\">\n",
              "  <thead>\n",
              "    <tr style=\"text-align: right;\">\n",
              "      <th></th>\n",
              "      <th>Timestamp</th>\n",
              "      <th>Age</th>\n",
              "      <th>Primary streaming service</th>\n",
              "      <th>Hours per day</th>\n",
              "      <th>While working</th>\n",
              "      <th>Instrumentalist</th>\n",
              "      <th>Composer</th>\n",
              "      <th>Fav genre</th>\n",
              "      <th>Exploratory</th>\n",
              "      <th>Foreign languages</th>\n",
              "      <th>...</th>\n",
              "      <th>Frequency [R&amp;B]</th>\n",
              "      <th>Frequency [Rap]</th>\n",
              "      <th>Frequency [Rock]</th>\n",
              "      <th>Frequency [Video game music]</th>\n",
              "      <th>Anxiety</th>\n",
              "      <th>Depression</th>\n",
              "      <th>Insomnia</th>\n",
              "      <th>OCD</th>\n",
              "      <th>Music effects</th>\n",
              "      <th>Permissions</th>\n",
              "    </tr>\n",
              "  </thead>\n",
              "  <tbody>\n",
              "    <tr>\n",
              "      <th>0</th>\n",
              "      <td>8/27/2022 19:29:02</td>\n",
              "      <td>18.0</td>\n",
              "      <td>Spotify</td>\n",
              "      <td>3.0</td>\n",
              "      <td>Yes</td>\n",
              "      <td>Yes</td>\n",
              "      <td>Yes</td>\n",
              "      <td>Latin</td>\n",
              "      <td>Yes</td>\n",
              "      <td>Yes</td>\n",
              "      <td>...</td>\n",
              "      <td>Sometimes</td>\n",
              "      <td>Very frequently</td>\n",
              "      <td>Never</td>\n",
              "      <td>Sometimes</td>\n",
              "      <td>3.0</td>\n",
              "      <td>0.0</td>\n",
              "      <td>1.0</td>\n",
              "      <td>0.0</td>\n",
              "      <td>NaN</td>\n",
              "      <td>I understand.</td>\n",
              "    </tr>\n",
              "    <tr>\n",
              "      <th>1</th>\n",
              "      <td>8/27/2022 19:57:31</td>\n",
              "      <td>63.0</td>\n",
              "      <td>Pandora</td>\n",
              "      <td>1.5</td>\n",
              "      <td>Yes</td>\n",
              "      <td>No</td>\n",
              "      <td>No</td>\n",
              "      <td>Rock</td>\n",
              "      <td>Yes</td>\n",
              "      <td>No</td>\n",
              "      <td>...</td>\n",
              "      <td>Sometimes</td>\n",
              "      <td>Rarely</td>\n",
              "      <td>Very frequently</td>\n",
              "      <td>Rarely</td>\n",
              "      <td>7.0</td>\n",
              "      <td>2.0</td>\n",
              "      <td>2.0</td>\n",
              "      <td>1.0</td>\n",
              "      <td>NaN</td>\n",
              "      <td>I understand.</td>\n",
              "    </tr>\n",
              "    <tr>\n",
              "      <th>2</th>\n",
              "      <td>8/27/2022 21:28:18</td>\n",
              "      <td>18.0</td>\n",
              "      <td>Spotify</td>\n",
              "      <td>4.0</td>\n",
              "      <td>No</td>\n",
              "      <td>No</td>\n",
              "      <td>No</td>\n",
              "      <td>Video game music</td>\n",
              "      <td>No</td>\n",
              "      <td>Yes</td>\n",
              "      <td>...</td>\n",
              "      <td>Never</td>\n",
              "      <td>Rarely</td>\n",
              "      <td>Rarely</td>\n",
              "      <td>Very frequently</td>\n",
              "      <td>7.0</td>\n",
              "      <td>7.0</td>\n",
              "      <td>10.0</td>\n",
              "      <td>2.0</td>\n",
              "      <td>No effect</td>\n",
              "      <td>I understand.</td>\n",
              "    </tr>\n",
              "    <tr>\n",
              "      <th>3</th>\n",
              "      <td>8/27/2022 21:40:40</td>\n",
              "      <td>61.0</td>\n",
              "      <td>YouTube Music</td>\n",
              "      <td>2.5</td>\n",
              "      <td>Yes</td>\n",
              "      <td>No</td>\n",
              "      <td>Yes</td>\n",
              "      <td>Jazz</td>\n",
              "      <td>Yes</td>\n",
              "      <td>Yes</td>\n",
              "      <td>...</td>\n",
              "      <td>Sometimes</td>\n",
              "      <td>Never</td>\n",
              "      <td>Never</td>\n",
              "      <td>Never</td>\n",
              "      <td>9.0</td>\n",
              "      <td>7.0</td>\n",
              "      <td>3.0</td>\n",
              "      <td>3.0</td>\n",
              "      <td>Improve</td>\n",
              "      <td>I understand.</td>\n",
              "    </tr>\n",
              "    <tr>\n",
              "      <th>4</th>\n",
              "      <td>8/27/2022 21:54:47</td>\n",
              "      <td>18.0</td>\n",
              "      <td>Spotify</td>\n",
              "      <td>4.0</td>\n",
              "      <td>Yes</td>\n",
              "      <td>No</td>\n",
              "      <td>No</td>\n",
              "      <td>R&amp;B</td>\n",
              "      <td>Yes</td>\n",
              "      <td>No</td>\n",
              "      <td>...</td>\n",
              "      <td>Very frequently</td>\n",
              "      <td>Very frequently</td>\n",
              "      <td>Never</td>\n",
              "      <td>Rarely</td>\n",
              "      <td>7.0</td>\n",
              "      <td>2.0</td>\n",
              "      <td>5.0</td>\n",
              "      <td>9.0</td>\n",
              "      <td>Improve</td>\n",
              "      <td>I understand.</td>\n",
              "    </tr>\n",
              "  </tbody>\n",
              "</table>\n",
              "<p>5 rows × 33 columns</p>\n",
              "</div>\n",
              "    <div class=\"colab-df-buttons\">\n",
              "\n",
              "  <div class=\"colab-df-container\">\n",
              "    <button class=\"colab-df-convert\" onclick=\"convertToInteractive('df-fa2b0d6f-6198-49e3-b853-8912c3eab011')\"\n",
              "            title=\"Convert this dataframe to an interactive table.\"\n",
              "            style=\"display:none;\">\n",
              "\n",
              "  <svg xmlns=\"http://www.w3.org/2000/svg\" height=\"24px\" viewBox=\"0 -960 960 960\">\n",
              "    <path d=\"M120-120v-720h720v720H120Zm60-500h600v-160H180v160Zm220 220h160v-160H400v160Zm0 220h160v-160H400v160ZM180-400h160v-160H180v160Zm440 0h160v-160H620v160ZM180-180h160v-160H180v160Zm440 0h160v-160H620v160Z\"/>\n",
              "  </svg>\n",
              "    </button>\n",
              "\n",
              "  <style>\n",
              "    .colab-df-container {\n",
              "      display:flex;\n",
              "      gap: 12px;\n",
              "    }\n",
              "\n",
              "    .colab-df-convert {\n",
              "      background-color: #E8F0FE;\n",
              "      border: none;\n",
              "      border-radius: 50%;\n",
              "      cursor: pointer;\n",
              "      display: none;\n",
              "      fill: #1967D2;\n",
              "      height: 32px;\n",
              "      padding: 0 0 0 0;\n",
              "      width: 32px;\n",
              "    }\n",
              "\n",
              "    .colab-df-convert:hover {\n",
              "      background-color: #E2EBFA;\n",
              "      box-shadow: 0px 1px 2px rgba(60, 64, 67, 0.3), 0px 1px 3px 1px rgba(60, 64, 67, 0.15);\n",
              "      fill: #174EA6;\n",
              "    }\n",
              "\n",
              "    .colab-df-buttons div {\n",
              "      margin-bottom: 4px;\n",
              "    }\n",
              "\n",
              "    [theme=dark] .colab-df-convert {\n",
              "      background-color: #3B4455;\n",
              "      fill: #D2E3FC;\n",
              "    }\n",
              "\n",
              "    [theme=dark] .colab-df-convert:hover {\n",
              "      background-color: #434B5C;\n",
              "      box-shadow: 0px 1px 3px 1px rgba(0, 0, 0, 0.15);\n",
              "      filter: drop-shadow(0px 1px 2px rgba(0, 0, 0, 0.3));\n",
              "      fill: #FFFFFF;\n",
              "    }\n",
              "  </style>\n",
              "\n",
              "    <script>\n",
              "      const buttonEl =\n",
              "        document.querySelector('#df-fa2b0d6f-6198-49e3-b853-8912c3eab011 button.colab-df-convert');\n",
              "      buttonEl.style.display =\n",
              "        google.colab.kernel.accessAllowed ? 'block' : 'none';\n",
              "\n",
              "      async function convertToInteractive(key) {\n",
              "        const element = document.querySelector('#df-fa2b0d6f-6198-49e3-b853-8912c3eab011');\n",
              "        const dataTable =\n",
              "          await google.colab.kernel.invokeFunction('convertToInteractive',\n",
              "                                                    [key], {});\n",
              "        if (!dataTable) return;\n",
              "\n",
              "        const docLinkHtml = 'Like what you see? Visit the ' +\n",
              "          '<a target=\"_blank\" href=https://colab.research.google.com/notebooks/data_table.ipynb>data table notebook</a>'\n",
              "          + ' to learn more about interactive tables.';\n",
              "        element.innerHTML = '';\n",
              "        dataTable['output_type'] = 'display_data';\n",
              "        await google.colab.output.renderOutput(dataTable, element);\n",
              "        const docLink = document.createElement('div');\n",
              "        docLink.innerHTML = docLinkHtml;\n",
              "        element.appendChild(docLink);\n",
              "      }\n",
              "    </script>\n",
              "  </div>\n",
              "\n",
              "\n",
              "<div id=\"df-ad8cf7dc-bc6f-466a-a754-f813f8cda794\">\n",
              "  <button class=\"colab-df-quickchart\" onclick=\"quickchart('df-ad8cf7dc-bc6f-466a-a754-f813f8cda794')\"\n",
              "            title=\"Suggest charts\"\n",
              "            style=\"display:none;\">\n",
              "\n",
              "<svg xmlns=\"http://www.w3.org/2000/svg\" height=\"24px\"viewBox=\"0 0 24 24\"\n",
              "     width=\"24px\">\n",
              "    <g>\n",
              "        <path d=\"M19 3H5c-1.1 0-2 .9-2 2v14c0 1.1.9 2 2 2h14c1.1 0 2-.9 2-2V5c0-1.1-.9-2-2-2zM9 17H7v-7h2v7zm4 0h-2V7h2v10zm4 0h-2v-4h2v4z\"/>\n",
              "    </g>\n",
              "</svg>\n",
              "  </button>\n",
              "\n",
              "<style>\n",
              "  .colab-df-quickchart {\n",
              "      --bg-color: #E8F0FE;\n",
              "      --fill-color: #1967D2;\n",
              "      --hover-bg-color: #E2EBFA;\n",
              "      --hover-fill-color: #174EA6;\n",
              "      --disabled-fill-color: #AAA;\n",
              "      --disabled-bg-color: #DDD;\n",
              "  }\n",
              "\n",
              "  [theme=dark] .colab-df-quickchart {\n",
              "      --bg-color: #3B4455;\n",
              "      --fill-color: #D2E3FC;\n",
              "      --hover-bg-color: #434B5C;\n",
              "      --hover-fill-color: #FFFFFF;\n",
              "      --disabled-bg-color: #3B4455;\n",
              "      --disabled-fill-color: #666;\n",
              "  }\n",
              "\n",
              "  .colab-df-quickchart {\n",
              "    background-color: var(--bg-color);\n",
              "    border: none;\n",
              "    border-radius: 50%;\n",
              "    cursor: pointer;\n",
              "    display: none;\n",
              "    fill: var(--fill-color);\n",
              "    height: 32px;\n",
              "    padding: 0;\n",
              "    width: 32px;\n",
              "  }\n",
              "\n",
              "  .colab-df-quickchart:hover {\n",
              "    background-color: var(--hover-bg-color);\n",
              "    box-shadow: 0 1px 2px rgba(60, 64, 67, 0.3), 0 1px 3px 1px rgba(60, 64, 67, 0.15);\n",
              "    fill: var(--button-hover-fill-color);\n",
              "  }\n",
              "\n",
              "  .colab-df-quickchart-complete:disabled,\n",
              "  .colab-df-quickchart-complete:disabled:hover {\n",
              "    background-color: var(--disabled-bg-color);\n",
              "    fill: var(--disabled-fill-color);\n",
              "    box-shadow: none;\n",
              "  }\n",
              "\n",
              "  .colab-df-spinner {\n",
              "    border: 2px solid var(--fill-color);\n",
              "    border-color: transparent;\n",
              "    border-bottom-color: var(--fill-color);\n",
              "    animation:\n",
              "      spin 1s steps(1) infinite;\n",
              "  }\n",
              "\n",
              "  @keyframes spin {\n",
              "    0% {\n",
              "      border-color: transparent;\n",
              "      border-bottom-color: var(--fill-color);\n",
              "      border-left-color: var(--fill-color);\n",
              "    }\n",
              "    20% {\n",
              "      border-color: transparent;\n",
              "      border-left-color: var(--fill-color);\n",
              "      border-top-color: var(--fill-color);\n",
              "    }\n",
              "    30% {\n",
              "      border-color: transparent;\n",
              "      border-left-color: var(--fill-color);\n",
              "      border-top-color: var(--fill-color);\n",
              "      border-right-color: var(--fill-color);\n",
              "    }\n",
              "    40% {\n",
              "      border-color: transparent;\n",
              "      border-right-color: var(--fill-color);\n",
              "      border-top-color: var(--fill-color);\n",
              "    }\n",
              "    60% {\n",
              "      border-color: transparent;\n",
              "      border-right-color: var(--fill-color);\n",
              "    }\n",
              "    80% {\n",
              "      border-color: transparent;\n",
              "      border-right-color: var(--fill-color);\n",
              "      border-bottom-color: var(--fill-color);\n",
              "    }\n",
              "    90% {\n",
              "      border-color: transparent;\n",
              "      border-bottom-color: var(--fill-color);\n",
              "    }\n",
              "  }\n",
              "</style>\n",
              "\n",
              "  <script>\n",
              "    async function quickchart(key) {\n",
              "      const quickchartButtonEl =\n",
              "        document.querySelector('#' + key + ' button');\n",
              "      quickchartButtonEl.disabled = true;  // To prevent multiple clicks.\n",
              "      quickchartButtonEl.classList.add('colab-df-spinner');\n",
              "      try {\n",
              "        const charts = await google.colab.kernel.invokeFunction(\n",
              "            'suggestCharts', [key], {});\n",
              "      } catch (error) {\n",
              "        console.error('Error during call to suggestCharts:', error);\n",
              "      }\n",
              "      quickchartButtonEl.classList.remove('colab-df-spinner');\n",
              "      quickchartButtonEl.classList.add('colab-df-quickchart-complete');\n",
              "    }\n",
              "    (() => {\n",
              "      let quickchartButtonEl =\n",
              "        document.querySelector('#df-ad8cf7dc-bc6f-466a-a754-f813f8cda794 button');\n",
              "      quickchartButtonEl.style.display =\n",
              "        google.colab.kernel.accessAllowed ? 'block' : 'none';\n",
              "    })();\n",
              "  </script>\n",
              "</div>\n",
              "\n",
              "    </div>\n",
              "  </div>\n"
            ],
            "application/vnd.google.colaboratory.intrinsic+json": {
              "type": "dataframe",
              "variable_name": "df"
            }
          },
          "metadata": {},
          "execution_count": 69
        }
      ]
    },
    {
      "cell_type": "markdown",
      "source": [
        "# Czyszczenie zbioru danych"
      ],
      "metadata": {
        "id": "nt4hCWS6lT0Y"
      }
    },
    {
      "cell_type": "code",
      "source": [
        "df.info()"
      ],
      "metadata": {
        "colab": {
          "base_uri": "https://localhost:8080/"
        },
        "id": "FEULw1VYljnE",
        "outputId": "1761fe27-0d7a-4125-f2b6-cd19c6641525"
      },
      "execution_count": 70,
      "outputs": [
        {
          "output_type": "stream",
          "name": "stdout",
          "text": [
            "<class 'pandas.core.frame.DataFrame'>\n",
            "RangeIndex: 736 entries, 0 to 735\n",
            "Data columns (total 33 columns):\n",
            " #   Column                        Non-Null Count  Dtype  \n",
            "---  ------                        --------------  -----  \n",
            " 0   Timestamp                     736 non-null    object \n",
            " 1   Age                           735 non-null    float64\n",
            " 2   Primary streaming service     735 non-null    object \n",
            " 3   Hours per day                 736 non-null    float64\n",
            " 4   While working                 733 non-null    object \n",
            " 5   Instrumentalist               732 non-null    object \n",
            " 6   Composer                      735 non-null    object \n",
            " 7   Fav genre                     736 non-null    object \n",
            " 8   Exploratory                   736 non-null    object \n",
            " 9   Foreign languages             732 non-null    object \n",
            " 10  BPM                           629 non-null    float64\n",
            " 11  Frequency [Classical]         736 non-null    object \n",
            " 12  Frequency [Country]           736 non-null    object \n",
            " 13  Frequency [EDM]               736 non-null    object \n",
            " 14  Frequency [Folk]              736 non-null    object \n",
            " 15  Frequency [Gospel]            736 non-null    object \n",
            " 16  Frequency [Hip hop]           736 non-null    object \n",
            " 17  Frequency [Jazz]              736 non-null    object \n",
            " 18  Frequency [K pop]             736 non-null    object \n",
            " 19  Frequency [Latin]             736 non-null    object \n",
            " 20  Frequency [Lofi]              736 non-null    object \n",
            " 21  Frequency [Metal]             736 non-null    object \n",
            " 22  Frequency [Pop]               736 non-null    object \n",
            " 23  Frequency [R&B]               736 non-null    object \n",
            " 24  Frequency [Rap]               736 non-null    object \n",
            " 25  Frequency [Rock]              736 non-null    object \n",
            " 26  Frequency [Video game music]  736 non-null    object \n",
            " 27  Anxiety                       736 non-null    float64\n",
            " 28  Depression                    736 non-null    float64\n",
            " 29  Insomnia                      736 non-null    float64\n",
            " 30  OCD                           736 non-null    float64\n",
            " 31  Music effects                 728 non-null    object \n",
            " 32  Permissions                   736 non-null    object \n",
            "dtypes: float64(7), object(26)\n",
            "memory usage: 189.9+ KB\n"
          ]
        }
      ]
    },
    {
      "cell_type": "markdown",
      "source": [
        "Kolumny **Timestamp** i **Permissions** nie wpływają na analizę ponieważ to zwykła formalność więc można je usunąć"
      ],
      "metadata": {
        "id": "YnI8TT5JlyVU"
      }
    },
    {
      "cell_type": "code",
      "source": [
        "df.drop(columns=['Timestamp', 'Permissions'], inplace=True)"
      ],
      "metadata": {
        "id": "QGleBeqhT-az"
      },
      "execution_count": 71,
      "outputs": []
    },
    {
      "cell_type": "code",
      "source": [
        "df.dtypes"
      ],
      "metadata": {
        "colab": {
          "base_uri": "https://localhost:8080/",
          "height": 0
        },
        "id": "a1kJ2rQSZHzG",
        "outputId": "779d0a4e-a39d-458d-c3c1-58c724bb2853"
      },
      "execution_count": 72,
      "outputs": [
        {
          "output_type": "execute_result",
          "data": {
            "text/plain": [
              "Age                             float64\n",
              "Primary streaming service        object\n",
              "Hours per day                   float64\n",
              "While working                    object\n",
              "Instrumentalist                  object\n",
              "Composer                         object\n",
              "Fav genre                        object\n",
              "Exploratory                      object\n",
              "Foreign languages                object\n",
              "BPM                             float64\n",
              "Frequency [Classical]            object\n",
              "Frequency [Country]              object\n",
              "Frequency [EDM]                  object\n",
              "Frequency [Folk]                 object\n",
              "Frequency [Gospel]               object\n",
              "Frequency [Hip hop]              object\n",
              "Frequency [Jazz]                 object\n",
              "Frequency [K pop]                object\n",
              "Frequency [Latin]                object\n",
              "Frequency [Lofi]                 object\n",
              "Frequency [Metal]                object\n",
              "Frequency [Pop]                  object\n",
              "Frequency [R&B]                  object\n",
              "Frequency [Rap]                  object\n",
              "Frequency [Rock]                 object\n",
              "Frequency [Video game music]     object\n",
              "Anxiety                         float64\n",
              "Depression                      float64\n",
              "Insomnia                        float64\n",
              "OCD                             float64\n",
              "Music effects                    object\n",
              "dtype: object"
            ],
            "text/html": [
              "<div>\n",
              "<style scoped>\n",
              "    .dataframe tbody tr th:only-of-type {\n",
              "        vertical-align: middle;\n",
              "    }\n",
              "\n",
              "    .dataframe tbody tr th {\n",
              "        vertical-align: top;\n",
              "    }\n",
              "\n",
              "    .dataframe thead th {\n",
              "        text-align: right;\n",
              "    }\n",
              "</style>\n",
              "<table border=\"1\" class=\"dataframe\">\n",
              "  <thead>\n",
              "    <tr style=\"text-align: right;\">\n",
              "      <th></th>\n",
              "      <th>0</th>\n",
              "    </tr>\n",
              "  </thead>\n",
              "  <tbody>\n",
              "    <tr>\n",
              "      <th>Age</th>\n",
              "      <td>float64</td>\n",
              "    </tr>\n",
              "    <tr>\n",
              "      <th>Primary streaming service</th>\n",
              "      <td>object</td>\n",
              "    </tr>\n",
              "    <tr>\n",
              "      <th>Hours per day</th>\n",
              "      <td>float64</td>\n",
              "    </tr>\n",
              "    <tr>\n",
              "      <th>While working</th>\n",
              "      <td>object</td>\n",
              "    </tr>\n",
              "    <tr>\n",
              "      <th>Instrumentalist</th>\n",
              "      <td>object</td>\n",
              "    </tr>\n",
              "    <tr>\n",
              "      <th>Composer</th>\n",
              "      <td>object</td>\n",
              "    </tr>\n",
              "    <tr>\n",
              "      <th>Fav genre</th>\n",
              "      <td>object</td>\n",
              "    </tr>\n",
              "    <tr>\n",
              "      <th>Exploratory</th>\n",
              "      <td>object</td>\n",
              "    </tr>\n",
              "    <tr>\n",
              "      <th>Foreign languages</th>\n",
              "      <td>object</td>\n",
              "    </tr>\n",
              "    <tr>\n",
              "      <th>BPM</th>\n",
              "      <td>float64</td>\n",
              "    </tr>\n",
              "    <tr>\n",
              "      <th>Frequency [Classical]</th>\n",
              "      <td>object</td>\n",
              "    </tr>\n",
              "    <tr>\n",
              "      <th>Frequency [Country]</th>\n",
              "      <td>object</td>\n",
              "    </tr>\n",
              "    <tr>\n",
              "      <th>Frequency [EDM]</th>\n",
              "      <td>object</td>\n",
              "    </tr>\n",
              "    <tr>\n",
              "      <th>Frequency [Folk]</th>\n",
              "      <td>object</td>\n",
              "    </tr>\n",
              "    <tr>\n",
              "      <th>Frequency [Gospel]</th>\n",
              "      <td>object</td>\n",
              "    </tr>\n",
              "    <tr>\n",
              "      <th>Frequency [Hip hop]</th>\n",
              "      <td>object</td>\n",
              "    </tr>\n",
              "    <tr>\n",
              "      <th>Frequency [Jazz]</th>\n",
              "      <td>object</td>\n",
              "    </tr>\n",
              "    <tr>\n",
              "      <th>Frequency [K pop]</th>\n",
              "      <td>object</td>\n",
              "    </tr>\n",
              "    <tr>\n",
              "      <th>Frequency [Latin]</th>\n",
              "      <td>object</td>\n",
              "    </tr>\n",
              "    <tr>\n",
              "      <th>Frequency [Lofi]</th>\n",
              "      <td>object</td>\n",
              "    </tr>\n",
              "    <tr>\n",
              "      <th>Frequency [Metal]</th>\n",
              "      <td>object</td>\n",
              "    </tr>\n",
              "    <tr>\n",
              "      <th>Frequency [Pop]</th>\n",
              "      <td>object</td>\n",
              "    </tr>\n",
              "    <tr>\n",
              "      <th>Frequency [R&amp;B]</th>\n",
              "      <td>object</td>\n",
              "    </tr>\n",
              "    <tr>\n",
              "      <th>Frequency [Rap]</th>\n",
              "      <td>object</td>\n",
              "    </tr>\n",
              "    <tr>\n",
              "      <th>Frequency [Rock]</th>\n",
              "      <td>object</td>\n",
              "    </tr>\n",
              "    <tr>\n",
              "      <th>Frequency [Video game music]</th>\n",
              "      <td>object</td>\n",
              "    </tr>\n",
              "    <tr>\n",
              "      <th>Anxiety</th>\n",
              "      <td>float64</td>\n",
              "    </tr>\n",
              "    <tr>\n",
              "      <th>Depression</th>\n",
              "      <td>float64</td>\n",
              "    </tr>\n",
              "    <tr>\n",
              "      <th>Insomnia</th>\n",
              "      <td>float64</td>\n",
              "    </tr>\n",
              "    <tr>\n",
              "      <th>OCD</th>\n",
              "      <td>float64</td>\n",
              "    </tr>\n",
              "    <tr>\n",
              "      <th>Music effects</th>\n",
              "      <td>object</td>\n",
              "    </tr>\n",
              "  </tbody>\n",
              "</table>\n",
              "</div><br><label><b>dtype:</b> object</label>"
            ]
          },
          "metadata": {},
          "execution_count": 72
        }
      ]
    },
    {
      "cell_type": "markdown",
      "source": [
        "* Takie kolumny jak **Age** i **BPM** mają typ **float64** ale powinny być raczej **int64** ( *ale najpierw musiałbym pozbyć się braków danych* )\n",
        "* Jak też można zauważyć większość kolumn ma typ **String** który zamieniam na **Categorical**\n",
        "\n",
        "\n",
        "---\n",
        "\n",
        "\n",
        "*Aby nie powtarzać kodu wybiore indeksy kolumn mających typ* **object** *i zamienię je na kolumny z zastosowaniem na nich funkcji zmieniającej typ na* **category**"
      ],
      "metadata": {
        "id": "O3EObQolVgpt"
      }
    },
    {
      "cell_type": "code",
      "source": [
        "df[df.select_dtypes(include='object').columns] = df.select_dtypes(include='object').apply(lambda col : col.astype(\"category\"))"
      ],
      "metadata": {
        "id": "Ym2DspRykX_X"
      },
      "execution_count": 73,
      "outputs": []
    },
    {
      "cell_type": "markdown",
      "source": [
        "## Brakujące dane"
      ],
      "metadata": {
        "id": "XqBafhvQm-0W"
      }
    },
    {
      "cell_type": "code",
      "source": [
        "df.isna().mean() * 100"
      ],
      "metadata": {
        "colab": {
          "base_uri": "https://localhost:8080/",
          "height": 0
        },
        "id": "Tfd-BMqNntwW",
        "outputId": "797ac3e4-fa7f-498b-d321-8da338631b56"
      },
      "execution_count": 74,
      "outputs": [
        {
          "output_type": "execute_result",
          "data": {
            "text/plain": [
              "Age                              0.135870\n",
              "Primary streaming service        0.135870\n",
              "Hours per day                    0.000000\n",
              "While working                    0.407609\n",
              "Instrumentalist                  0.543478\n",
              "Composer                         0.135870\n",
              "Fav genre                        0.000000\n",
              "Exploratory                      0.000000\n",
              "Foreign languages                0.543478\n",
              "BPM                             14.538043\n",
              "Frequency [Classical]            0.000000\n",
              "Frequency [Country]              0.000000\n",
              "Frequency [EDM]                  0.000000\n",
              "Frequency [Folk]                 0.000000\n",
              "Frequency [Gospel]               0.000000\n",
              "Frequency [Hip hop]              0.000000\n",
              "Frequency [Jazz]                 0.000000\n",
              "Frequency [K pop]                0.000000\n",
              "Frequency [Latin]                0.000000\n",
              "Frequency [Lofi]                 0.000000\n",
              "Frequency [Metal]                0.000000\n",
              "Frequency [Pop]                  0.000000\n",
              "Frequency [R&B]                  0.000000\n",
              "Frequency [Rap]                  0.000000\n",
              "Frequency [Rock]                 0.000000\n",
              "Frequency [Video game music]     0.000000\n",
              "Anxiety                          0.000000\n",
              "Depression                       0.000000\n",
              "Insomnia                         0.000000\n",
              "OCD                              0.000000\n",
              "Music effects                    1.086957\n",
              "dtype: float64"
            ],
            "text/html": [
              "<div>\n",
              "<style scoped>\n",
              "    .dataframe tbody tr th:only-of-type {\n",
              "        vertical-align: middle;\n",
              "    }\n",
              "\n",
              "    .dataframe tbody tr th {\n",
              "        vertical-align: top;\n",
              "    }\n",
              "\n",
              "    .dataframe thead th {\n",
              "        text-align: right;\n",
              "    }\n",
              "</style>\n",
              "<table border=\"1\" class=\"dataframe\">\n",
              "  <thead>\n",
              "    <tr style=\"text-align: right;\">\n",
              "      <th></th>\n",
              "      <th>0</th>\n",
              "    </tr>\n",
              "  </thead>\n",
              "  <tbody>\n",
              "    <tr>\n",
              "      <th>Age</th>\n",
              "      <td>0.135870</td>\n",
              "    </tr>\n",
              "    <tr>\n",
              "      <th>Primary streaming service</th>\n",
              "      <td>0.135870</td>\n",
              "    </tr>\n",
              "    <tr>\n",
              "      <th>Hours per day</th>\n",
              "      <td>0.000000</td>\n",
              "    </tr>\n",
              "    <tr>\n",
              "      <th>While working</th>\n",
              "      <td>0.407609</td>\n",
              "    </tr>\n",
              "    <tr>\n",
              "      <th>Instrumentalist</th>\n",
              "      <td>0.543478</td>\n",
              "    </tr>\n",
              "    <tr>\n",
              "      <th>Composer</th>\n",
              "      <td>0.135870</td>\n",
              "    </tr>\n",
              "    <tr>\n",
              "      <th>Fav genre</th>\n",
              "      <td>0.000000</td>\n",
              "    </tr>\n",
              "    <tr>\n",
              "      <th>Exploratory</th>\n",
              "      <td>0.000000</td>\n",
              "    </tr>\n",
              "    <tr>\n",
              "      <th>Foreign languages</th>\n",
              "      <td>0.543478</td>\n",
              "    </tr>\n",
              "    <tr>\n",
              "      <th>BPM</th>\n",
              "      <td>14.538043</td>\n",
              "    </tr>\n",
              "    <tr>\n",
              "      <th>Frequency [Classical]</th>\n",
              "      <td>0.000000</td>\n",
              "    </tr>\n",
              "    <tr>\n",
              "      <th>Frequency [Country]</th>\n",
              "      <td>0.000000</td>\n",
              "    </tr>\n",
              "    <tr>\n",
              "      <th>Frequency [EDM]</th>\n",
              "      <td>0.000000</td>\n",
              "    </tr>\n",
              "    <tr>\n",
              "      <th>Frequency [Folk]</th>\n",
              "      <td>0.000000</td>\n",
              "    </tr>\n",
              "    <tr>\n",
              "      <th>Frequency [Gospel]</th>\n",
              "      <td>0.000000</td>\n",
              "    </tr>\n",
              "    <tr>\n",
              "      <th>Frequency [Hip hop]</th>\n",
              "      <td>0.000000</td>\n",
              "    </tr>\n",
              "    <tr>\n",
              "      <th>Frequency [Jazz]</th>\n",
              "      <td>0.000000</td>\n",
              "    </tr>\n",
              "    <tr>\n",
              "      <th>Frequency [K pop]</th>\n",
              "      <td>0.000000</td>\n",
              "    </tr>\n",
              "    <tr>\n",
              "      <th>Frequency [Latin]</th>\n",
              "      <td>0.000000</td>\n",
              "    </tr>\n",
              "    <tr>\n",
              "      <th>Frequency [Lofi]</th>\n",
              "      <td>0.000000</td>\n",
              "    </tr>\n",
              "    <tr>\n",
              "      <th>Frequency [Metal]</th>\n",
              "      <td>0.000000</td>\n",
              "    </tr>\n",
              "    <tr>\n",
              "      <th>Frequency [Pop]</th>\n",
              "      <td>0.000000</td>\n",
              "    </tr>\n",
              "    <tr>\n",
              "      <th>Frequency [R&amp;B]</th>\n",
              "      <td>0.000000</td>\n",
              "    </tr>\n",
              "    <tr>\n",
              "      <th>Frequency [Rap]</th>\n",
              "      <td>0.000000</td>\n",
              "    </tr>\n",
              "    <tr>\n",
              "      <th>Frequency [Rock]</th>\n",
              "      <td>0.000000</td>\n",
              "    </tr>\n",
              "    <tr>\n",
              "      <th>Frequency [Video game music]</th>\n",
              "      <td>0.000000</td>\n",
              "    </tr>\n",
              "    <tr>\n",
              "      <th>Anxiety</th>\n",
              "      <td>0.000000</td>\n",
              "    </tr>\n",
              "    <tr>\n",
              "      <th>Depression</th>\n",
              "      <td>0.000000</td>\n",
              "    </tr>\n",
              "    <tr>\n",
              "      <th>Insomnia</th>\n",
              "      <td>0.000000</td>\n",
              "    </tr>\n",
              "    <tr>\n",
              "      <th>OCD</th>\n",
              "      <td>0.000000</td>\n",
              "    </tr>\n",
              "    <tr>\n",
              "      <th>Music effects</th>\n",
              "      <td>1.086957</td>\n",
              "    </tr>\n",
              "  </tbody>\n",
              "</table>\n",
              "</div><br><label><b>dtype:</b> float64</label>"
            ]
          },
          "metadata": {},
          "execution_count": 74
        }
      ]
    },
    {
      "cell_type": "markdown",
      "source": [
        "Jak widać mamy:\n",
        "* Age < 1%\n",
        "* Primary streaming service\t< 1%\n",
        "* While working\t< 1%\n",
        "* Instrumentalist\t< 1%\n",
        "* Composer\t< 1%\n",
        "* Foreign languages\t< 1%\n",
        "* BPM ~ 14%\n",
        "* Music effects ~ 1%"
      ],
      "metadata": {
        "id": "bS8_X2WDrEsC"
      }
    },
    {
      "cell_type": "code",
      "source": [
        "df_backup = df.copy()"
      ],
      "metadata": {
        "id": "ip8cEoazKbK7"
      },
      "execution_count": 75,
      "outputs": []
    },
    {
      "cell_type": "code",
      "source": [
        "df['Age'].isna().sum()"
      ],
      "metadata": {
        "colab": {
          "base_uri": "https://localhost:8080/"
        },
        "id": "TA0_jQmFK-bB",
        "outputId": "af074bda-2290-44de-cb41-0101a1aa1cb1"
      },
      "execution_count": 76,
      "outputs": [
        {
          "output_type": "execute_result",
          "data": {
            "text/plain": [
              "1"
            ]
          },
          "metadata": {},
          "execution_count": 76
        }
      ]
    },
    {
      "cell_type": "markdown",
      "source": [
        "**Age** - Usuwam rekordy z brakującym wiekiem ponieważ wartości brakuje tylko w 1 rekordzie a jest ona dla nas ważna w analizie"
      ],
      "metadata": {
        "id": "3mxfnl-WK1bw"
      }
    },
    {
      "cell_type": "code",
      "source": [
        "df.dropna(subset=['Age'], inplace=True)"
      ],
      "metadata": {
        "id": "9v8PwX_3Lw2V"
      },
      "execution_count": 77,
      "outputs": []
    },
    {
      "cell_type": "code",
      "source": [
        "df.groupby('Primary streaming service')['Primary streaming service'].count()"
      ],
      "metadata": {
        "colab": {
          "base_uri": "https://localhost:8080/",
          "height": 0
        },
        "id": "qwSwQKudMdcD",
        "outputId": "f7df509a-32ee-44a0-d585-f345e560df42"
      },
      "execution_count": 78,
      "outputs": [
        {
          "output_type": "stream",
          "name": "stderr",
          "text": [
            "<ipython-input-78-70b158508441>:1: FutureWarning:\n",
            "\n",
            "The default of observed=False is deprecated and will be changed to True in a future version of pandas. Pass observed=False to retain current behavior or observed=True to adopt the future default and silence this warning.\n",
            "\n"
          ]
        },
        {
          "output_type": "execute_result",
          "data": {
            "text/plain": [
              "Primary streaming service\n",
              "Apple Music                           51\n",
              "I do not use a streaming service.     71\n",
              "Other streaming service               50\n",
              "Pandora                               11\n",
              "Spotify                              457\n",
              "YouTube Music                         94\n",
              "Name: Primary streaming service, dtype: int64"
            ],
            "text/html": [
              "<div>\n",
              "<style scoped>\n",
              "    .dataframe tbody tr th:only-of-type {\n",
              "        vertical-align: middle;\n",
              "    }\n",
              "\n",
              "    .dataframe tbody tr th {\n",
              "        vertical-align: top;\n",
              "    }\n",
              "\n",
              "    .dataframe thead th {\n",
              "        text-align: right;\n",
              "    }\n",
              "</style>\n",
              "<table border=\"1\" class=\"dataframe\">\n",
              "  <thead>\n",
              "    <tr style=\"text-align: right;\">\n",
              "      <th></th>\n",
              "      <th>Primary streaming service</th>\n",
              "    </tr>\n",
              "    <tr>\n",
              "      <th>Primary streaming service</th>\n",
              "      <th></th>\n",
              "    </tr>\n",
              "  </thead>\n",
              "  <tbody>\n",
              "    <tr>\n",
              "      <th>Apple Music</th>\n",
              "      <td>51</td>\n",
              "    </tr>\n",
              "    <tr>\n",
              "      <th>I do not use a streaming service.</th>\n",
              "      <td>71</td>\n",
              "    </tr>\n",
              "    <tr>\n",
              "      <th>Other streaming service</th>\n",
              "      <td>50</td>\n",
              "    </tr>\n",
              "    <tr>\n",
              "      <th>Pandora</th>\n",
              "      <td>11</td>\n",
              "    </tr>\n",
              "    <tr>\n",
              "      <th>Spotify</th>\n",
              "      <td>457</td>\n",
              "    </tr>\n",
              "    <tr>\n",
              "      <th>YouTube Music</th>\n",
              "      <td>94</td>\n",
              "    </tr>\n",
              "  </tbody>\n",
              "</table>\n",
              "</div><br><label><b>dtype:</b> int64</label>"
            ]
          },
          "metadata": {},
          "execution_count": 78
        }
      ]
    },
    {
      "cell_type": "markdown",
      "source": [
        "**Primary streaming service** - wypełnię braki wartością Spotify ponieważ jest on najczęściej wybieraną platformą"
      ],
      "metadata": {
        "id": "I_NYY3O-MWtR"
      }
    },
    {
      "cell_type": "code",
      "source": [
        "df['Primary streaming service'] = df['Primary streaming service'].fillna('Spotify')"
      ],
      "metadata": {
        "id": "6jDf-WKwO9xj"
      },
      "execution_count": 79,
      "outputs": []
    },
    {
      "cell_type": "markdown",
      "source": [
        "**While working** - wypełniam wartością **Yes** ponieważ występuje najczęściej i jest bardziej realistyczna dla wielu osób"
      ],
      "metadata": {
        "id": "mgYU6vwFM9Hb"
      }
    },
    {
      "cell_type": "code",
      "source": [
        "df['While working'].mode()[0]"
      ],
      "metadata": {
        "colab": {
          "base_uri": "https://localhost:8080/",
          "height": 0
        },
        "id": "neKml-YqxrJS",
        "outputId": "f05410e5-e404-4645-f057-8a7bf179b7f1"
      },
      "execution_count": 80,
      "outputs": [
        {
          "output_type": "execute_result",
          "data": {
            "text/plain": [
              "'Yes'"
            ],
            "application/vnd.google.colaboratory.intrinsic+json": {
              "type": "string"
            }
          },
          "metadata": {},
          "execution_count": 80
        }
      ]
    },
    {
      "cell_type": "code",
      "source": [
        "df['While working'] = df['While working'].fillna('Yes')"
      ],
      "metadata": {
        "id": "_UXPmafVyoj5"
      },
      "execution_count": 81,
      "outputs": []
    },
    {
      "cell_type": "code",
      "source": [
        "df.groupby(['Instrumentalist', 'Composer'])['Composer'].count()"
      ],
      "metadata": {
        "colab": {
          "base_uri": "https://localhost:8080/",
          "height": 0
        },
        "id": "SqdaZwiny9eb",
        "outputId": "8075386e-6faa-4f6f-91d8-861bad942c19"
      },
      "execution_count": 82,
      "outputs": [
        {
          "output_type": "stream",
          "name": "stderr",
          "text": [
            "<ipython-input-82-eed88122879e>:1: FutureWarning:\n",
            "\n",
            "The default of observed=False is deprecated and will be changed to True in a future version of pandas. Pass observed=False to retain current behavior or observed=True to adopt the future default and silence this warning.\n",
            "\n"
          ]
        },
        {
          "output_type": "execute_result",
          "data": {
            "text/plain": [
              "Instrumentalist  Composer\n",
              "No               No          463\n",
              "                 Yes          33\n",
              "Yes              No          143\n",
              "                 Yes          92\n",
              "Name: Composer, dtype: int64"
            ],
            "text/html": [
              "<div>\n",
              "<style scoped>\n",
              "    .dataframe tbody tr th:only-of-type {\n",
              "        vertical-align: middle;\n",
              "    }\n",
              "\n",
              "    .dataframe tbody tr th {\n",
              "        vertical-align: top;\n",
              "    }\n",
              "\n",
              "    .dataframe thead th {\n",
              "        text-align: right;\n",
              "    }\n",
              "</style>\n",
              "<table border=\"1\" class=\"dataframe\">\n",
              "  <thead>\n",
              "    <tr style=\"text-align: right;\">\n",
              "      <th></th>\n",
              "      <th></th>\n",
              "      <th>Composer</th>\n",
              "    </tr>\n",
              "    <tr>\n",
              "      <th>Instrumentalist</th>\n",
              "      <th>Composer</th>\n",
              "      <th></th>\n",
              "    </tr>\n",
              "  </thead>\n",
              "  <tbody>\n",
              "    <tr>\n",
              "      <th rowspan=\"2\" valign=\"top\">No</th>\n",
              "      <th>No</th>\n",
              "      <td>463</td>\n",
              "    </tr>\n",
              "    <tr>\n",
              "      <th>Yes</th>\n",
              "      <td>33</td>\n",
              "    </tr>\n",
              "    <tr>\n",
              "      <th rowspan=\"2\" valign=\"top\">Yes</th>\n",
              "      <th>No</th>\n",
              "      <td>143</td>\n",
              "    </tr>\n",
              "    <tr>\n",
              "      <th>Yes</th>\n",
              "      <td>92</td>\n",
              "    </tr>\n",
              "  </tbody>\n",
              "</table>\n",
              "</div><br><label><b>dtype:</b> int64</label>"
            ]
          },
          "metadata": {},
          "execution_count": 82
        }
      ]
    },
    {
      "cell_type": "markdown",
      "source": [
        "**Instrumentalist, Composer** - wypełnię wartością **No** ze względu na to że częsciej człowiek nie robi własnej muzyki i nie gra na instrumentach"
      ],
      "metadata": {
        "id": "RxaoG_Sry13H"
      }
    },
    {
      "cell_type": "code",
      "source": [
        "df['Composer'] = df['Composer'].fillna('No')\n",
        "df['Instrumentalist'] = df['Instrumentalist'].fillna('No')"
      ],
      "metadata": {
        "id": "WuuKW98ty7pf"
      },
      "execution_count": 83,
      "outputs": []
    },
    {
      "cell_type": "markdown",
      "source": [
        "**Foreign languages** - zostanie wypełnione metodą **Backward fill**"
      ],
      "metadata": {
        "id": "KwCfT5CuM-Of"
      }
    },
    {
      "cell_type": "code",
      "source": [
        "df['Foreign languages'] = df['Foreign languages'].bfill()\n",
        "df['Foreign languages'].isna().sum()"
      ],
      "metadata": {
        "colab": {
          "base_uri": "https://localhost:8080/"
        },
        "id": "6iQWa7Lxz8hX",
        "outputId": "be139399-ad44-4a01-ddcc-c65539628c72"
      },
      "execution_count": 84,
      "outputs": [
        {
          "output_type": "execute_result",
          "data": {
            "text/plain": [
              "0"
            ]
          },
          "metadata": {},
          "execution_count": 84
        }
      ]
    },
    {
      "cell_type": "markdown",
      "source": [
        "**BPM** - ze względu na duży procent spróbuje wypełnić metodą interpolacji najbliższych wartośći"
      ],
      "metadata": {
        "id": "Wm0GShgXNFNU"
      }
    },
    {
      "cell_type": "code",
      "source": [
        "df['BPM'] = df['BPM'].interpolate(method='nearest')\n",
        "df['BPM'].isna().sum()"
      ],
      "metadata": {
        "id": "88BqtNhWNHTZ",
        "colab": {
          "base_uri": "https://localhost:8080/"
        },
        "outputId": "9b880ace-ae27-46ee-cb40-9dff087a53ee"
      },
      "execution_count": 85,
      "outputs": [
        {
          "output_type": "execute_result",
          "data": {
            "text/plain": [
              "0"
            ]
          },
          "metadata": {},
          "execution_count": 85
        }
      ]
    },
    {
      "cell_type": "markdown",
      "source": [
        "**Music effects** - aby nie tracić na ilości rekordów możemy uznać że brakujące wartości to **Brak efektu (No effect)**"
      ],
      "metadata": {
        "id": "Q1cMFhPyNDj7"
      }
    },
    {
      "cell_type": "code",
      "source": [
        "df['Music effects'] = df['Music effects'].fillna('No effect')"
      ],
      "metadata": {
        "id": "D9GWXS0WNEtK"
      },
      "execution_count": 86,
      "outputs": []
    },
    {
      "cell_type": "code",
      "source": [
        "df.isna().mean() * 100"
      ],
      "metadata": {
        "colab": {
          "base_uri": "https://localhost:8080/",
          "height": 0
        },
        "id": "p9kObeXh5uBA",
        "outputId": "5e6ab991-e38f-45e9-a672-28df7be23b12"
      },
      "execution_count": 87,
      "outputs": [
        {
          "output_type": "execute_result",
          "data": {
            "text/plain": [
              "Age                             0.0\n",
              "Primary streaming service       0.0\n",
              "Hours per day                   0.0\n",
              "While working                   0.0\n",
              "Instrumentalist                 0.0\n",
              "Composer                        0.0\n",
              "Fav genre                       0.0\n",
              "Exploratory                     0.0\n",
              "Foreign languages               0.0\n",
              "BPM                             0.0\n",
              "Frequency [Classical]           0.0\n",
              "Frequency [Country]             0.0\n",
              "Frequency [EDM]                 0.0\n",
              "Frequency [Folk]                0.0\n",
              "Frequency [Gospel]              0.0\n",
              "Frequency [Hip hop]             0.0\n",
              "Frequency [Jazz]                0.0\n",
              "Frequency [K pop]               0.0\n",
              "Frequency [Latin]               0.0\n",
              "Frequency [Lofi]                0.0\n",
              "Frequency [Metal]               0.0\n",
              "Frequency [Pop]                 0.0\n",
              "Frequency [R&B]                 0.0\n",
              "Frequency [Rap]                 0.0\n",
              "Frequency [Rock]                0.0\n",
              "Frequency [Video game music]    0.0\n",
              "Anxiety                         0.0\n",
              "Depression                      0.0\n",
              "Insomnia                        0.0\n",
              "OCD                             0.0\n",
              "Music effects                   0.0\n",
              "dtype: float64"
            ],
            "text/html": [
              "<div>\n",
              "<style scoped>\n",
              "    .dataframe tbody tr th:only-of-type {\n",
              "        vertical-align: middle;\n",
              "    }\n",
              "\n",
              "    .dataframe tbody tr th {\n",
              "        vertical-align: top;\n",
              "    }\n",
              "\n",
              "    .dataframe thead th {\n",
              "        text-align: right;\n",
              "    }\n",
              "</style>\n",
              "<table border=\"1\" class=\"dataframe\">\n",
              "  <thead>\n",
              "    <tr style=\"text-align: right;\">\n",
              "      <th></th>\n",
              "      <th>0</th>\n",
              "    </tr>\n",
              "  </thead>\n",
              "  <tbody>\n",
              "    <tr>\n",
              "      <th>Age</th>\n",
              "      <td>0.0</td>\n",
              "    </tr>\n",
              "    <tr>\n",
              "      <th>Primary streaming service</th>\n",
              "      <td>0.0</td>\n",
              "    </tr>\n",
              "    <tr>\n",
              "      <th>Hours per day</th>\n",
              "      <td>0.0</td>\n",
              "    </tr>\n",
              "    <tr>\n",
              "      <th>While working</th>\n",
              "      <td>0.0</td>\n",
              "    </tr>\n",
              "    <tr>\n",
              "      <th>Instrumentalist</th>\n",
              "      <td>0.0</td>\n",
              "    </tr>\n",
              "    <tr>\n",
              "      <th>Composer</th>\n",
              "      <td>0.0</td>\n",
              "    </tr>\n",
              "    <tr>\n",
              "      <th>Fav genre</th>\n",
              "      <td>0.0</td>\n",
              "    </tr>\n",
              "    <tr>\n",
              "      <th>Exploratory</th>\n",
              "      <td>0.0</td>\n",
              "    </tr>\n",
              "    <tr>\n",
              "      <th>Foreign languages</th>\n",
              "      <td>0.0</td>\n",
              "    </tr>\n",
              "    <tr>\n",
              "      <th>BPM</th>\n",
              "      <td>0.0</td>\n",
              "    </tr>\n",
              "    <tr>\n",
              "      <th>Frequency [Classical]</th>\n",
              "      <td>0.0</td>\n",
              "    </tr>\n",
              "    <tr>\n",
              "      <th>Frequency [Country]</th>\n",
              "      <td>0.0</td>\n",
              "    </tr>\n",
              "    <tr>\n",
              "      <th>Frequency [EDM]</th>\n",
              "      <td>0.0</td>\n",
              "    </tr>\n",
              "    <tr>\n",
              "      <th>Frequency [Folk]</th>\n",
              "      <td>0.0</td>\n",
              "    </tr>\n",
              "    <tr>\n",
              "      <th>Frequency [Gospel]</th>\n",
              "      <td>0.0</td>\n",
              "    </tr>\n",
              "    <tr>\n",
              "      <th>Frequency [Hip hop]</th>\n",
              "      <td>0.0</td>\n",
              "    </tr>\n",
              "    <tr>\n",
              "      <th>Frequency [Jazz]</th>\n",
              "      <td>0.0</td>\n",
              "    </tr>\n",
              "    <tr>\n",
              "      <th>Frequency [K pop]</th>\n",
              "      <td>0.0</td>\n",
              "    </tr>\n",
              "    <tr>\n",
              "      <th>Frequency [Latin]</th>\n",
              "      <td>0.0</td>\n",
              "    </tr>\n",
              "    <tr>\n",
              "      <th>Frequency [Lofi]</th>\n",
              "      <td>0.0</td>\n",
              "    </tr>\n",
              "    <tr>\n",
              "      <th>Frequency [Metal]</th>\n",
              "      <td>0.0</td>\n",
              "    </tr>\n",
              "    <tr>\n",
              "      <th>Frequency [Pop]</th>\n",
              "      <td>0.0</td>\n",
              "    </tr>\n",
              "    <tr>\n",
              "      <th>Frequency [R&amp;B]</th>\n",
              "      <td>0.0</td>\n",
              "    </tr>\n",
              "    <tr>\n",
              "      <th>Frequency [Rap]</th>\n",
              "      <td>0.0</td>\n",
              "    </tr>\n",
              "    <tr>\n",
              "      <th>Frequency [Rock]</th>\n",
              "      <td>0.0</td>\n",
              "    </tr>\n",
              "    <tr>\n",
              "      <th>Frequency [Video game music]</th>\n",
              "      <td>0.0</td>\n",
              "    </tr>\n",
              "    <tr>\n",
              "      <th>Anxiety</th>\n",
              "      <td>0.0</td>\n",
              "    </tr>\n",
              "    <tr>\n",
              "      <th>Depression</th>\n",
              "      <td>0.0</td>\n",
              "    </tr>\n",
              "    <tr>\n",
              "      <th>Insomnia</th>\n",
              "      <td>0.0</td>\n",
              "    </tr>\n",
              "    <tr>\n",
              "      <th>OCD</th>\n",
              "      <td>0.0</td>\n",
              "    </tr>\n",
              "    <tr>\n",
              "      <th>Music effects</th>\n",
              "      <td>0.0</td>\n",
              "    </tr>\n",
              "  </tbody>\n",
              "</table>\n",
              "</div><br><label><b>dtype:</b> float64</label>"
            ]
          },
          "metadata": {},
          "execution_count": 87
        }
      ]
    },
    {
      "cell_type": "markdown",
      "source": [
        "Teraz nie mając brakujących wartości można zamienić typ danych w kolumnach **Age** i **BPM**"
      ],
      "metadata": {
        "id": "fBpzSZbS9CD-"
      }
    },
    {
      "cell_type": "code",
      "source": [
        "df['Age'] = df['Age'].astype('int64')\n",
        "df['BPM'] = df['BPM'].astype('int64')"
      ],
      "metadata": {
        "id": "5ALud0t39KuJ"
      },
      "execution_count": 88,
      "outputs": []
    },
    {
      "cell_type": "markdown",
      "source": [
        "## Wartości odstające\n",
        "Wartości odstające mamy w kolumnie **BPM** więc użyję metody **IQR-based Outlier Detection**"
      ],
      "metadata": {
        "id": "OslqITxB9SX8"
      }
    },
    {
      "cell_type": "code",
      "source": [
        "bpm_box = px.box(\n",
        "    df,\n",
        "    y=\"BPM\",\n",
        "    width=500,\n",
        "    height=400)\n",
        "\n",
        "bpm_box.show()"
      ],
      "metadata": {
        "colab": {
          "base_uri": "https://localhost:8080/",
          "height": 0
        },
        "id": "gIWkI1OSD8b3",
        "outputId": "8b194d1e-b22c-4f50-e130-b379967e6b87"
      },
      "execution_count": 89,
      "outputs": [
        {
          "output_type": "display_data",
          "data": {
            "text/html": [
              "<html>\n",
              "<head><meta charset=\"utf-8\" /></head>\n",
              "<body>\n",
              "    <div>            <script src=\"https://cdnjs.cloudflare.com/ajax/libs/mathjax/2.7.5/MathJax.js?config=TeX-AMS-MML_SVG\"></script><script type=\"text/javascript\">if (window.MathJax && window.MathJax.Hub && window.MathJax.Hub.Config) {window.MathJax.Hub.Config({SVG: {font: \"STIX-Web\"}});}</script>                <script type=\"text/javascript\">window.PlotlyConfig = {MathJaxConfig: 'local'};</script>\n",
              "        <script charset=\"utf-8\" src=\"https://cdn.plot.ly/plotly-2.35.2.min.js\"></script>                <div id=\"9444dbbb-31d4-47d7-af0a-7965eeb42807\" class=\"plotly-graph-div\" style=\"height:400px; width:500px;\"></div>            <script type=\"text/javascript\">                                    window.PLOTLYENV=window.PLOTLYENV || {};                                    if (document.getElementById(\"9444dbbb-31d4-47d7-af0a-7965eeb42807\")) {                    Plotly.newPlot(                        \"9444dbbb-31d4-47d7-af0a-7965eeb42807\",                        [{\"alignmentgroup\":\"True\",\"hovertemplate\":\"BPM=%{y}\\u003cextra\\u003e\\u003c\\u002fextra\\u003e\",\"legendgroup\":\"\",\"marker\":{\"color\":\"#636efa\"},\"name\":\"\",\"notched\":false,\"offsetgroup\":\"\",\"orientation\":\"v\",\"showlegend\":false,\"x0\":\" \",\"xaxis\":\"x\",\"y\":[156,119,132,84,107,86,66,95,94,155,155,125,88,148,148,103,120,99,120,120,125,118,79,84,169,136,101,126,183,183,120,120,142,75,120,89,89,140,161,80,130,147,120,77,118,132,115,157,90,128,169,140,96,126,126,91,91,55,85,160,108,156,170,91,174,130,140,130,127,160,160,165,165,113,167,95,110,150,93,90,118,126,103,77,115,110,110,113,157,160,109,175,110,162,189,121,200,105,193,149,140,134,120,170,107,113,126,161,161,100,140,156,98,100,78,117,128,130,130,130,126,122,179,200,128,130,120,86,166,110,144,120,120,160,101,122,122,61,61,79,126,185,92,107,120,140,94,160,174,136,144,77,120,120,120,194,194,60,190,87,122,156,150,194,160,171,95,114,148,119,136,141,146,146,164,164,128,128,128,128,101,101,101,98,145,94,103,103,112,112,118,118,113,162,162,111,85,134,172,180,120,76,130,130,109,96,148,148,129,81,136,155,155,52,97,92,100,120,143,118,130,120,126,158,160,160,119,120,200,136,104,90,120,89,95,140,92,120,128,140,140,136,136,132,107,135,171,220,171,85,174,87,77,126,136,80,92,120,120,138,150,108,119,125,125,85,85,113,86,141,97,97,120,144,84,84,60,81,150,95,138,138,140,139,100,100,120,120,178,178,100,110,108,108,161,200,200,156,120,120,90,85,171,108,105,76,108,140,200,147,120,158,110,103,93,62,180,150,105,140,140,161,120,103,72,113,120,95,97,140,120,118,91,128,86,107,180,180,0,150,112,112,66,118,110,80,90,120,100,66,158,105,208,91,171,150,180,180,85,150,104,104,85,85,147,120,134,134,112,200,75,20,140,111,150,150,114,93,145,100,114,109,109,72,72,89,140,84,132,132,124,181,126,109,106,140,170,87,87,117,105,105,160,160,141,105,158,80,118,125,109,156,105,105,72,148,200,113,191,140,40,173,180,100,123,145,55,77,4,150,73,155,155,89,110,140,135,125,110,140,105,112,96,96,155,174,93,78,78,174,120,75,94,180,115,128,112,140,143,72,100,120,120,105,105,119,119,137,178,133,72,72,133,80,146,88,132,102,91,127,82,141,114,148,156,185,114,120,80,80,116,116,99,129,131,95,80,204,128,140,159,104,97,80,134,134,135,129,129,110,110,180,70,70,103,103,99,117,102,127,93,93,146,0,150,85,122,122,120,120,150,150,174,112,180,121,98,118,118,135,135,105,122,122,136,165,130,130,115,140,95,150,97,97,122,122,150,150,125,96,96,137,174,210,129,112,8,999999999,81,153,120,89,89,169,138,124,124,192,76,119,172,79,112,130,116,165,110,174,180,171,171,70,120,56,162,101,110,172,90,135,81,170,120,90,115,115,115,220,220,220,160,121,105,110,134,148,120,122,90,122,129,132,178,178,115,137,92,140,130,130,63,119,119,180,68,85,128,150,0,92,121,155,150,624,136,121,113,80,140,100,92,120,93,93,136,108,147,93,98,120,130,218,123,135,105,132,132,115,120,120,149,125,132,110,110,116,145,145,105,80,100,73,80,80,120,120,117,117,89,115,144,105,114,145,143,128,90,110,130,130,115,186,99,150,149,149,120,140,90,120,210,210,95,163,97,137,137,70,150,168,163,140,105,78,128,90,136,108,95,147,120,160,120,170,98],\"y0\":\" \",\"yaxis\":\"y\",\"type\":\"box\"}],                        {\"template\":{\"data\":{\"histogram2dcontour\":[{\"type\":\"histogram2dcontour\",\"colorbar\":{\"outlinewidth\":0,\"ticks\":\"\"},\"colorscale\":[[0.0,\"#0d0887\"],[0.1111111111111111,\"#46039f\"],[0.2222222222222222,\"#7201a8\"],[0.3333333333333333,\"#9c179e\"],[0.4444444444444444,\"#bd3786\"],[0.5555555555555556,\"#d8576b\"],[0.6666666666666666,\"#ed7953\"],[0.7777777777777778,\"#fb9f3a\"],[0.8888888888888888,\"#fdca26\"],[1.0,\"#f0f921\"]]}],\"choropleth\":[{\"type\":\"choropleth\",\"colorbar\":{\"outlinewidth\":0,\"ticks\":\"\"}}],\"histogram2d\":[{\"type\":\"histogram2d\",\"colorbar\":{\"outlinewidth\":0,\"ticks\":\"\"},\"colorscale\":[[0.0,\"#0d0887\"],[0.1111111111111111,\"#46039f\"],[0.2222222222222222,\"#7201a8\"],[0.3333333333333333,\"#9c179e\"],[0.4444444444444444,\"#bd3786\"],[0.5555555555555556,\"#d8576b\"],[0.6666666666666666,\"#ed7953\"],[0.7777777777777778,\"#fb9f3a\"],[0.8888888888888888,\"#fdca26\"],[1.0,\"#f0f921\"]]}],\"heatmap\":[{\"type\":\"heatmap\",\"colorbar\":{\"outlinewidth\":0,\"ticks\":\"\"},\"colorscale\":[[0.0,\"#0d0887\"],[0.1111111111111111,\"#46039f\"],[0.2222222222222222,\"#7201a8\"],[0.3333333333333333,\"#9c179e\"],[0.4444444444444444,\"#bd3786\"],[0.5555555555555556,\"#d8576b\"],[0.6666666666666666,\"#ed7953\"],[0.7777777777777778,\"#fb9f3a\"],[0.8888888888888888,\"#fdca26\"],[1.0,\"#f0f921\"]]}],\"heatmapgl\":[{\"type\":\"heatmapgl\",\"colorbar\":{\"outlinewidth\":0,\"ticks\":\"\"},\"colorscale\":[[0.0,\"#0d0887\"],[0.1111111111111111,\"#46039f\"],[0.2222222222222222,\"#7201a8\"],[0.3333333333333333,\"#9c179e\"],[0.4444444444444444,\"#bd3786\"],[0.5555555555555556,\"#d8576b\"],[0.6666666666666666,\"#ed7953\"],[0.7777777777777778,\"#fb9f3a\"],[0.8888888888888888,\"#fdca26\"],[1.0,\"#f0f921\"]]}],\"contourcarpet\":[{\"type\":\"contourcarpet\",\"colorbar\":{\"outlinewidth\":0,\"ticks\":\"\"}}],\"contour\":[{\"type\":\"contour\",\"colorbar\":{\"outlinewidth\":0,\"ticks\":\"\"},\"colorscale\":[[0.0,\"#0d0887\"],[0.1111111111111111,\"#46039f\"],[0.2222222222222222,\"#7201a8\"],[0.3333333333333333,\"#9c179e\"],[0.4444444444444444,\"#bd3786\"],[0.5555555555555556,\"#d8576b\"],[0.6666666666666666,\"#ed7953\"],[0.7777777777777778,\"#fb9f3a\"],[0.8888888888888888,\"#fdca26\"],[1.0,\"#f0f921\"]]}],\"surface\":[{\"type\":\"surface\",\"colorbar\":{\"outlinewidth\":0,\"ticks\":\"\"},\"colorscale\":[[0.0,\"#0d0887\"],[0.1111111111111111,\"#46039f\"],[0.2222222222222222,\"#7201a8\"],[0.3333333333333333,\"#9c179e\"],[0.4444444444444444,\"#bd3786\"],[0.5555555555555556,\"#d8576b\"],[0.6666666666666666,\"#ed7953\"],[0.7777777777777778,\"#fb9f3a\"],[0.8888888888888888,\"#fdca26\"],[1.0,\"#f0f921\"]]}],\"mesh3d\":[{\"type\":\"mesh3d\",\"colorbar\":{\"outlinewidth\":0,\"ticks\":\"\"}}],\"scatter\":[{\"fillpattern\":{\"fillmode\":\"overlay\",\"size\":10,\"solidity\":0.2},\"type\":\"scatter\"}],\"parcoords\":[{\"type\":\"parcoords\",\"line\":{\"colorbar\":{\"outlinewidth\":0,\"ticks\":\"\"}}}],\"scatterpolargl\":[{\"type\":\"scatterpolargl\",\"marker\":{\"colorbar\":{\"outlinewidth\":0,\"ticks\":\"\"}}}],\"bar\":[{\"error_x\":{\"color\":\"#2a3f5f\"},\"error_y\":{\"color\":\"#2a3f5f\"},\"marker\":{\"line\":{\"color\":\"#E5ECF6\",\"width\":0.5},\"pattern\":{\"fillmode\":\"overlay\",\"size\":10,\"solidity\":0.2}},\"type\":\"bar\"}],\"scattergeo\":[{\"type\":\"scattergeo\",\"marker\":{\"colorbar\":{\"outlinewidth\":0,\"ticks\":\"\"}}}],\"scatterpolar\":[{\"type\":\"scatterpolar\",\"marker\":{\"colorbar\":{\"outlinewidth\":0,\"ticks\":\"\"}}}],\"histogram\":[{\"marker\":{\"pattern\":{\"fillmode\":\"overlay\",\"size\":10,\"solidity\":0.2}},\"type\":\"histogram\"}],\"scattergl\":[{\"type\":\"scattergl\",\"marker\":{\"colorbar\":{\"outlinewidth\":0,\"ticks\":\"\"}}}],\"scatter3d\":[{\"type\":\"scatter3d\",\"line\":{\"colorbar\":{\"outlinewidth\":0,\"ticks\":\"\"}},\"marker\":{\"colorbar\":{\"outlinewidth\":0,\"ticks\":\"\"}}}],\"scattermapbox\":[{\"type\":\"scattermapbox\",\"marker\":{\"colorbar\":{\"outlinewidth\":0,\"ticks\":\"\"}}}],\"scatterternary\":[{\"type\":\"scatterternary\",\"marker\":{\"colorbar\":{\"outlinewidth\":0,\"ticks\":\"\"}}}],\"scattercarpet\":[{\"type\":\"scattercarpet\",\"marker\":{\"colorbar\":{\"outlinewidth\":0,\"ticks\":\"\"}}}],\"carpet\":[{\"aaxis\":{\"endlinecolor\":\"#2a3f5f\",\"gridcolor\":\"white\",\"linecolor\":\"white\",\"minorgridcolor\":\"white\",\"startlinecolor\":\"#2a3f5f\"},\"baxis\":{\"endlinecolor\":\"#2a3f5f\",\"gridcolor\":\"white\",\"linecolor\":\"white\",\"minorgridcolor\":\"white\",\"startlinecolor\":\"#2a3f5f\"},\"type\":\"carpet\"}],\"table\":[{\"cells\":{\"fill\":{\"color\":\"#EBF0F8\"},\"line\":{\"color\":\"white\"}},\"header\":{\"fill\":{\"color\":\"#C8D4E3\"},\"line\":{\"color\":\"white\"}},\"type\":\"table\"}],\"barpolar\":[{\"marker\":{\"line\":{\"color\":\"#E5ECF6\",\"width\":0.5},\"pattern\":{\"fillmode\":\"overlay\",\"size\":10,\"solidity\":0.2}},\"type\":\"barpolar\"}],\"pie\":[{\"automargin\":true,\"type\":\"pie\"}]},\"layout\":{\"autotypenumbers\":\"strict\",\"colorway\":[\"#636efa\",\"#EF553B\",\"#00cc96\",\"#ab63fa\",\"#FFA15A\",\"#19d3f3\",\"#FF6692\",\"#B6E880\",\"#FF97FF\",\"#FECB52\"],\"font\":{\"color\":\"#2a3f5f\"},\"hovermode\":\"closest\",\"hoverlabel\":{\"align\":\"left\"},\"paper_bgcolor\":\"white\",\"plot_bgcolor\":\"#E5ECF6\",\"polar\":{\"bgcolor\":\"#E5ECF6\",\"angularaxis\":{\"gridcolor\":\"white\",\"linecolor\":\"white\",\"ticks\":\"\"},\"radialaxis\":{\"gridcolor\":\"white\",\"linecolor\":\"white\",\"ticks\":\"\"}},\"ternary\":{\"bgcolor\":\"#E5ECF6\",\"aaxis\":{\"gridcolor\":\"white\",\"linecolor\":\"white\",\"ticks\":\"\"},\"baxis\":{\"gridcolor\":\"white\",\"linecolor\":\"white\",\"ticks\":\"\"},\"caxis\":{\"gridcolor\":\"white\",\"linecolor\":\"white\",\"ticks\":\"\"}},\"coloraxis\":{\"colorbar\":{\"outlinewidth\":0,\"ticks\":\"\"}},\"colorscale\":{\"sequential\":[[0.0,\"#0d0887\"],[0.1111111111111111,\"#46039f\"],[0.2222222222222222,\"#7201a8\"],[0.3333333333333333,\"#9c179e\"],[0.4444444444444444,\"#bd3786\"],[0.5555555555555556,\"#d8576b\"],[0.6666666666666666,\"#ed7953\"],[0.7777777777777778,\"#fb9f3a\"],[0.8888888888888888,\"#fdca26\"],[1.0,\"#f0f921\"]],\"sequentialminus\":[[0.0,\"#0d0887\"],[0.1111111111111111,\"#46039f\"],[0.2222222222222222,\"#7201a8\"],[0.3333333333333333,\"#9c179e\"],[0.4444444444444444,\"#bd3786\"],[0.5555555555555556,\"#d8576b\"],[0.6666666666666666,\"#ed7953\"],[0.7777777777777778,\"#fb9f3a\"],[0.8888888888888888,\"#fdca26\"],[1.0,\"#f0f921\"]],\"diverging\":[[0,\"#8e0152\"],[0.1,\"#c51b7d\"],[0.2,\"#de77ae\"],[0.3,\"#f1b6da\"],[0.4,\"#fde0ef\"],[0.5,\"#f7f7f7\"],[0.6,\"#e6f5d0\"],[0.7,\"#b8e186\"],[0.8,\"#7fbc41\"],[0.9,\"#4d9221\"],[1,\"#276419\"]]},\"xaxis\":{\"gridcolor\":\"white\",\"linecolor\":\"white\",\"ticks\":\"\",\"title\":{\"standoff\":15},\"zerolinecolor\":\"white\",\"automargin\":true,\"zerolinewidth\":2},\"yaxis\":{\"gridcolor\":\"white\",\"linecolor\":\"white\",\"ticks\":\"\",\"title\":{\"standoff\":15},\"zerolinecolor\":\"white\",\"automargin\":true,\"zerolinewidth\":2},\"scene\":{\"xaxis\":{\"backgroundcolor\":\"#E5ECF6\",\"gridcolor\":\"white\",\"linecolor\":\"white\",\"showbackground\":true,\"ticks\":\"\",\"zerolinecolor\":\"white\",\"gridwidth\":2},\"yaxis\":{\"backgroundcolor\":\"#E5ECF6\",\"gridcolor\":\"white\",\"linecolor\":\"white\",\"showbackground\":true,\"ticks\":\"\",\"zerolinecolor\":\"white\",\"gridwidth\":2},\"zaxis\":{\"backgroundcolor\":\"#E5ECF6\",\"gridcolor\":\"white\",\"linecolor\":\"white\",\"showbackground\":true,\"ticks\":\"\",\"zerolinecolor\":\"white\",\"gridwidth\":2}},\"shapedefaults\":{\"line\":{\"color\":\"#2a3f5f\"}},\"annotationdefaults\":{\"arrowcolor\":\"#2a3f5f\",\"arrowhead\":0,\"arrowwidth\":1},\"geo\":{\"bgcolor\":\"white\",\"landcolor\":\"#E5ECF6\",\"subunitcolor\":\"white\",\"showland\":true,\"showlakes\":true,\"lakecolor\":\"white\"},\"title\":{\"x\":0.05},\"mapbox\":{\"style\":\"light\"}}},\"xaxis\":{\"anchor\":\"y\",\"domain\":[0.0,1.0]},\"yaxis\":{\"anchor\":\"x\",\"domain\":[0.0,1.0],\"title\":{\"text\":\"BPM\"}},\"legend\":{\"tracegroupgap\":0},\"margin\":{\"t\":60},\"boxmode\":\"group\",\"height\":400,\"width\":500},                        {\"responsive\": true}                    ).then(function(){\n",
              "                            \n",
              "var gd = document.getElementById('9444dbbb-31d4-47d7-af0a-7965eeb42807');\n",
              "var x = new MutationObserver(function (mutations, observer) {{\n",
              "        var display = window.getComputedStyle(gd).display;\n",
              "        if (!display || display === 'none') {{\n",
              "            console.log([gd, 'removed!']);\n",
              "            Plotly.purge(gd);\n",
              "            observer.disconnect();\n",
              "        }}\n",
              "}});\n",
              "\n",
              "// Listen for the removal of the full notebook cells\n",
              "var notebookContainer = gd.closest('#notebook-container');\n",
              "if (notebookContainer) {{\n",
              "    x.observe(notebookContainer, {childList: true});\n",
              "}}\n",
              "\n",
              "// Listen for the clearing of the current output cell\n",
              "var outputEl = gd.closest('.output');\n",
              "if (outputEl) {{\n",
              "    x.observe(outputEl, {childList: true});\n",
              "}}\n",
              "\n",
              "                        })                };                            </script>        </div>\n",
              "</body>\n",
              "</html>"
            ]
          },
          "metadata": {}
        }
      ]
    },
    {
      "cell_type": "code",
      "source": [
        "df['BPM'].mean()"
      ],
      "metadata": {
        "colab": {
          "base_uri": "https://localhost:8080/"
        },
        "id": "aOln38hBcrfz",
        "outputId": "039cbd4f-43d3-4d00-c4e8-a3717ee1cbaa"
      },
      "execution_count": 90,
      "outputs": [
        {
          "output_type": "execute_result",
          "data": {
            "text/plain": [
              "1360668.0353741497"
            ]
          },
          "metadata": {},
          "execution_count": 90
        }
      ]
    },
    {
      "cell_type": "code",
      "source": [
        "def remove_outlier(column):\n",
        "  Q1 = column.quantile(0.25)\n",
        "  Q3 = column.quantile(0.75)\n",
        "\n",
        "  IQR = Q3 - Q1\n",
        "  max_value = Q3 + 1.5 * IQR\n",
        "  min_value = Q1 - 1.5 * IQR\n",
        "\n",
        "  return column.apply(lambda v: min_value if v < min_value else max_value if v > max_value else v)"
      ],
      "metadata": {
        "id": "-rnuy4GWLM16"
      },
      "execution_count": 91,
      "outputs": []
    },
    {
      "cell_type": "code",
      "source": [
        "df['BPM'] = remove_outlier(df['BPM'])\n",
        "\n",
        "df['BPM'] = df['BPM'].astype('int64') #kastuje na int ponieważ nie potrzebujemy zmiennoprzycinowej liczby do BPM"
      ],
      "metadata": {
        "id": "7NMqpcohan9E"
      },
      "execution_count": 92,
      "outputs": []
    },
    {
      "cell_type": "code",
      "source": [
        "df['BPM'].mean()"
      ],
      "metadata": {
        "colab": {
          "base_uri": "https://localhost:8080/"
        },
        "id": "2yKtrT1Bcz8S",
        "outputId": "f3adc613-2fb1-431a-92d5-823da6941168"
      },
      "execution_count": 93,
      "outputs": [
        {
          "output_type": "execute_result",
          "data": {
            "text/plain": [
              "123.71156462585034"
            ]
          },
          "metadata": {},
          "execution_count": 93
        }
      ]
    },
    {
      "cell_type": "code",
      "source": [
        "bpm_box = px.box(\n",
        "    df,\n",
        "    y=\"BPM\",\n",
        "    width=500,\n",
        "    height=400)\n",
        "\n",
        "bpm_box.show()"
      ],
      "metadata": {
        "colab": {
          "base_uri": "https://localhost:8080/",
          "height": 0
        },
        "id": "4MRDRkbYIZcQ",
        "outputId": "5d2be197-5e01-4b4d-918d-03809965831e"
      },
      "execution_count": 94,
      "outputs": [
        {
          "output_type": "display_data",
          "data": {
            "text/html": [
              "<html>\n",
              "<head><meta charset=\"utf-8\" /></head>\n",
              "<body>\n",
              "    <div>            <script src=\"https://cdnjs.cloudflare.com/ajax/libs/mathjax/2.7.5/MathJax.js?config=TeX-AMS-MML_SVG\"></script><script type=\"text/javascript\">if (window.MathJax && window.MathJax.Hub && window.MathJax.Hub.Config) {window.MathJax.Hub.Config({SVG: {font: \"STIX-Web\"}});}</script>                <script type=\"text/javascript\">window.PlotlyConfig = {MathJaxConfig: 'local'};</script>\n",
              "        <script charset=\"utf-8\" src=\"https://cdn.plot.ly/plotly-2.35.2.min.js\"></script>                <div id=\"7ec7e2ee-e6b9-40eb-9fcf-51bedbd933af\" class=\"plotly-graph-div\" style=\"height:400px; width:500px;\"></div>            <script type=\"text/javascript\">                                    window.PLOTLYENV=window.PLOTLYENV || {};                                    if (document.getElementById(\"7ec7e2ee-e6b9-40eb-9fcf-51bedbd933af\")) {                    Plotly.newPlot(                        \"7ec7e2ee-e6b9-40eb-9fcf-51bedbd933af\",                        [{\"alignmentgroup\":\"True\",\"hovertemplate\":\"BPM=%{y}\\u003cextra\\u003e\\u003c\\u002fextra\\u003e\",\"legendgroup\":\"\",\"marker\":{\"color\":\"#636efa\"},\"name\":\"\",\"notched\":false,\"offsetgroup\":\"\",\"orientation\":\"v\",\"showlegend\":false,\"x0\":\" \",\"xaxis\":\"x\",\"y\":[156,119,132,84,107,86,66,95,94,155,155,125,88,148,148,103,120,99,120,120,125,118,79,84,169,136,101,126,183,183,120,120,142,75,120,89,89,140,161,80,130,147,120,77,118,132,115,157,90,128,169,140,96,126,126,91,91,55,85,160,108,156,170,91,174,130,140,130,127,160,160,165,165,113,167,95,110,150,93,90,118,126,103,77,115,110,110,113,157,160,109,175,110,162,189,121,200,105,193,149,140,134,120,170,107,113,126,161,161,100,140,156,98,100,78,117,128,130,130,130,126,122,179,200,128,130,120,86,166,110,144,120,120,160,101,122,122,61,61,79,126,185,92,107,120,140,94,160,174,136,144,77,120,120,120,194,194,60,190,87,122,156,150,194,160,171,95,114,148,119,136,141,146,146,164,164,128,128,128,128,101,101,101,98,145,94,103,103,112,112,118,118,113,162,162,111,85,134,172,180,120,76,130,130,109,96,148,148,129,81,136,155,155,52,97,92,100,120,143,118,130,120,126,158,160,160,119,120,200,136,104,90,120,89,95,140,92,120,128,140,140,136,136,132,107,135,171,211,171,85,174,87,77,126,136,80,92,120,120,138,150,108,119,125,125,85,85,113,86,141,97,97,120,144,84,84,60,81,150,95,138,138,140,139,100,100,120,120,178,178,100,110,108,108,161,200,200,156,120,120,90,85,171,108,105,76,108,140,200,147,120,158,110,103,93,62,180,150,105,140,140,161,120,103,72,113,120,95,97,140,120,118,91,128,86,107,180,180,33,150,112,112,66,118,110,80,90,120,100,66,158,105,208,91,171,150,180,180,85,150,104,104,85,85,147,120,134,134,112,200,75,33,140,111,150,150,114,93,145,100,114,109,109,72,72,89,140,84,132,132,124,181,126,109,106,140,170,87,87,117,105,105,160,160,141,105,158,80,118,125,109,156,105,105,72,148,200,113,191,140,40,173,180,100,123,145,55,77,33,150,73,155,155,89,110,140,135,125,110,140,105,112,96,96,155,174,93,78,78,174,120,75,94,180,115,128,112,140,143,72,100,120,120,105,105,119,119,137,178,133,72,72,133,80,146,88,132,102,91,127,82,141,114,148,156,185,114,120,80,80,116,116,99,129,131,95,80,204,128,140,159,104,97,80,134,134,135,129,129,110,110,180,70,70,103,103,99,117,102,127,93,93,146,33,150,85,122,122,120,120,150,150,174,112,180,121,98,118,118,135,135,105,122,122,136,165,130,130,115,140,95,150,97,97,122,122,150,150,125,96,96,137,174,210,129,112,33,211,81,153,120,89,89,169,138,124,124,192,76,119,172,79,112,130,116,165,110,174,180,171,171,70,120,56,162,101,110,172,90,135,81,170,120,90,115,115,115,211,211,211,160,121,105,110,134,148,120,122,90,122,129,132,178,178,115,137,92,140,130,130,63,119,119,180,68,85,128,150,33,92,121,155,150,211,136,121,113,80,140,100,92,120,93,93,136,108,147,93,98,120,130,211,123,135,105,132,132,115,120,120,149,125,132,110,110,116,145,145,105,80,100,73,80,80,120,120,117,117,89,115,144,105,114,145,143,128,90,110,130,130,115,186,99,150,149,149,120,140,90,120,210,210,95,163,97,137,137,70,150,168,163,140,105,78,128,90,136,108,95,147,120,160,120,170,98],\"y0\":\" \",\"yaxis\":\"y\",\"type\":\"box\"}],                        {\"template\":{\"data\":{\"histogram2dcontour\":[{\"type\":\"histogram2dcontour\",\"colorbar\":{\"outlinewidth\":0,\"ticks\":\"\"},\"colorscale\":[[0.0,\"#0d0887\"],[0.1111111111111111,\"#46039f\"],[0.2222222222222222,\"#7201a8\"],[0.3333333333333333,\"#9c179e\"],[0.4444444444444444,\"#bd3786\"],[0.5555555555555556,\"#d8576b\"],[0.6666666666666666,\"#ed7953\"],[0.7777777777777778,\"#fb9f3a\"],[0.8888888888888888,\"#fdca26\"],[1.0,\"#f0f921\"]]}],\"choropleth\":[{\"type\":\"choropleth\",\"colorbar\":{\"outlinewidth\":0,\"ticks\":\"\"}}],\"histogram2d\":[{\"type\":\"histogram2d\",\"colorbar\":{\"outlinewidth\":0,\"ticks\":\"\"},\"colorscale\":[[0.0,\"#0d0887\"],[0.1111111111111111,\"#46039f\"],[0.2222222222222222,\"#7201a8\"],[0.3333333333333333,\"#9c179e\"],[0.4444444444444444,\"#bd3786\"],[0.5555555555555556,\"#d8576b\"],[0.6666666666666666,\"#ed7953\"],[0.7777777777777778,\"#fb9f3a\"],[0.8888888888888888,\"#fdca26\"],[1.0,\"#f0f921\"]]}],\"heatmap\":[{\"type\":\"heatmap\",\"colorbar\":{\"outlinewidth\":0,\"ticks\":\"\"},\"colorscale\":[[0.0,\"#0d0887\"],[0.1111111111111111,\"#46039f\"],[0.2222222222222222,\"#7201a8\"],[0.3333333333333333,\"#9c179e\"],[0.4444444444444444,\"#bd3786\"],[0.5555555555555556,\"#d8576b\"],[0.6666666666666666,\"#ed7953\"],[0.7777777777777778,\"#fb9f3a\"],[0.8888888888888888,\"#fdca26\"],[1.0,\"#f0f921\"]]}],\"heatmapgl\":[{\"type\":\"heatmapgl\",\"colorbar\":{\"outlinewidth\":0,\"ticks\":\"\"},\"colorscale\":[[0.0,\"#0d0887\"],[0.1111111111111111,\"#46039f\"],[0.2222222222222222,\"#7201a8\"],[0.3333333333333333,\"#9c179e\"],[0.4444444444444444,\"#bd3786\"],[0.5555555555555556,\"#d8576b\"],[0.6666666666666666,\"#ed7953\"],[0.7777777777777778,\"#fb9f3a\"],[0.8888888888888888,\"#fdca26\"],[1.0,\"#f0f921\"]]}],\"contourcarpet\":[{\"type\":\"contourcarpet\",\"colorbar\":{\"outlinewidth\":0,\"ticks\":\"\"}}],\"contour\":[{\"type\":\"contour\",\"colorbar\":{\"outlinewidth\":0,\"ticks\":\"\"},\"colorscale\":[[0.0,\"#0d0887\"],[0.1111111111111111,\"#46039f\"],[0.2222222222222222,\"#7201a8\"],[0.3333333333333333,\"#9c179e\"],[0.4444444444444444,\"#bd3786\"],[0.5555555555555556,\"#d8576b\"],[0.6666666666666666,\"#ed7953\"],[0.7777777777777778,\"#fb9f3a\"],[0.8888888888888888,\"#fdca26\"],[1.0,\"#f0f921\"]]}],\"surface\":[{\"type\":\"surface\",\"colorbar\":{\"outlinewidth\":0,\"ticks\":\"\"},\"colorscale\":[[0.0,\"#0d0887\"],[0.1111111111111111,\"#46039f\"],[0.2222222222222222,\"#7201a8\"],[0.3333333333333333,\"#9c179e\"],[0.4444444444444444,\"#bd3786\"],[0.5555555555555556,\"#d8576b\"],[0.6666666666666666,\"#ed7953\"],[0.7777777777777778,\"#fb9f3a\"],[0.8888888888888888,\"#fdca26\"],[1.0,\"#f0f921\"]]}],\"mesh3d\":[{\"type\":\"mesh3d\",\"colorbar\":{\"outlinewidth\":0,\"ticks\":\"\"}}],\"scatter\":[{\"fillpattern\":{\"fillmode\":\"overlay\",\"size\":10,\"solidity\":0.2},\"type\":\"scatter\"}],\"parcoords\":[{\"type\":\"parcoords\",\"line\":{\"colorbar\":{\"outlinewidth\":0,\"ticks\":\"\"}}}],\"scatterpolargl\":[{\"type\":\"scatterpolargl\",\"marker\":{\"colorbar\":{\"outlinewidth\":0,\"ticks\":\"\"}}}],\"bar\":[{\"error_x\":{\"color\":\"#2a3f5f\"},\"error_y\":{\"color\":\"#2a3f5f\"},\"marker\":{\"line\":{\"color\":\"#E5ECF6\",\"width\":0.5},\"pattern\":{\"fillmode\":\"overlay\",\"size\":10,\"solidity\":0.2}},\"type\":\"bar\"}],\"scattergeo\":[{\"type\":\"scattergeo\",\"marker\":{\"colorbar\":{\"outlinewidth\":0,\"ticks\":\"\"}}}],\"scatterpolar\":[{\"type\":\"scatterpolar\",\"marker\":{\"colorbar\":{\"outlinewidth\":0,\"ticks\":\"\"}}}],\"histogram\":[{\"marker\":{\"pattern\":{\"fillmode\":\"overlay\",\"size\":10,\"solidity\":0.2}},\"type\":\"histogram\"}],\"scattergl\":[{\"type\":\"scattergl\",\"marker\":{\"colorbar\":{\"outlinewidth\":0,\"ticks\":\"\"}}}],\"scatter3d\":[{\"type\":\"scatter3d\",\"line\":{\"colorbar\":{\"outlinewidth\":0,\"ticks\":\"\"}},\"marker\":{\"colorbar\":{\"outlinewidth\":0,\"ticks\":\"\"}}}],\"scattermapbox\":[{\"type\":\"scattermapbox\",\"marker\":{\"colorbar\":{\"outlinewidth\":0,\"ticks\":\"\"}}}],\"scatterternary\":[{\"type\":\"scatterternary\",\"marker\":{\"colorbar\":{\"outlinewidth\":0,\"ticks\":\"\"}}}],\"scattercarpet\":[{\"type\":\"scattercarpet\",\"marker\":{\"colorbar\":{\"outlinewidth\":0,\"ticks\":\"\"}}}],\"carpet\":[{\"aaxis\":{\"endlinecolor\":\"#2a3f5f\",\"gridcolor\":\"white\",\"linecolor\":\"white\",\"minorgridcolor\":\"white\",\"startlinecolor\":\"#2a3f5f\"},\"baxis\":{\"endlinecolor\":\"#2a3f5f\",\"gridcolor\":\"white\",\"linecolor\":\"white\",\"minorgridcolor\":\"white\",\"startlinecolor\":\"#2a3f5f\"},\"type\":\"carpet\"}],\"table\":[{\"cells\":{\"fill\":{\"color\":\"#EBF0F8\"},\"line\":{\"color\":\"white\"}},\"header\":{\"fill\":{\"color\":\"#C8D4E3\"},\"line\":{\"color\":\"white\"}},\"type\":\"table\"}],\"barpolar\":[{\"marker\":{\"line\":{\"color\":\"#E5ECF6\",\"width\":0.5},\"pattern\":{\"fillmode\":\"overlay\",\"size\":10,\"solidity\":0.2}},\"type\":\"barpolar\"}],\"pie\":[{\"automargin\":true,\"type\":\"pie\"}]},\"layout\":{\"autotypenumbers\":\"strict\",\"colorway\":[\"#636efa\",\"#EF553B\",\"#00cc96\",\"#ab63fa\",\"#FFA15A\",\"#19d3f3\",\"#FF6692\",\"#B6E880\",\"#FF97FF\",\"#FECB52\"],\"font\":{\"color\":\"#2a3f5f\"},\"hovermode\":\"closest\",\"hoverlabel\":{\"align\":\"left\"},\"paper_bgcolor\":\"white\",\"plot_bgcolor\":\"#E5ECF6\",\"polar\":{\"bgcolor\":\"#E5ECF6\",\"angularaxis\":{\"gridcolor\":\"white\",\"linecolor\":\"white\",\"ticks\":\"\"},\"radialaxis\":{\"gridcolor\":\"white\",\"linecolor\":\"white\",\"ticks\":\"\"}},\"ternary\":{\"bgcolor\":\"#E5ECF6\",\"aaxis\":{\"gridcolor\":\"white\",\"linecolor\":\"white\",\"ticks\":\"\"},\"baxis\":{\"gridcolor\":\"white\",\"linecolor\":\"white\",\"ticks\":\"\"},\"caxis\":{\"gridcolor\":\"white\",\"linecolor\":\"white\",\"ticks\":\"\"}},\"coloraxis\":{\"colorbar\":{\"outlinewidth\":0,\"ticks\":\"\"}},\"colorscale\":{\"sequential\":[[0.0,\"#0d0887\"],[0.1111111111111111,\"#46039f\"],[0.2222222222222222,\"#7201a8\"],[0.3333333333333333,\"#9c179e\"],[0.4444444444444444,\"#bd3786\"],[0.5555555555555556,\"#d8576b\"],[0.6666666666666666,\"#ed7953\"],[0.7777777777777778,\"#fb9f3a\"],[0.8888888888888888,\"#fdca26\"],[1.0,\"#f0f921\"]],\"sequentialminus\":[[0.0,\"#0d0887\"],[0.1111111111111111,\"#46039f\"],[0.2222222222222222,\"#7201a8\"],[0.3333333333333333,\"#9c179e\"],[0.4444444444444444,\"#bd3786\"],[0.5555555555555556,\"#d8576b\"],[0.6666666666666666,\"#ed7953\"],[0.7777777777777778,\"#fb9f3a\"],[0.8888888888888888,\"#fdca26\"],[1.0,\"#f0f921\"]],\"diverging\":[[0,\"#8e0152\"],[0.1,\"#c51b7d\"],[0.2,\"#de77ae\"],[0.3,\"#f1b6da\"],[0.4,\"#fde0ef\"],[0.5,\"#f7f7f7\"],[0.6,\"#e6f5d0\"],[0.7,\"#b8e186\"],[0.8,\"#7fbc41\"],[0.9,\"#4d9221\"],[1,\"#276419\"]]},\"xaxis\":{\"gridcolor\":\"white\",\"linecolor\":\"white\",\"ticks\":\"\",\"title\":{\"standoff\":15},\"zerolinecolor\":\"white\",\"automargin\":true,\"zerolinewidth\":2},\"yaxis\":{\"gridcolor\":\"white\",\"linecolor\":\"white\",\"ticks\":\"\",\"title\":{\"standoff\":15},\"zerolinecolor\":\"white\",\"automargin\":true,\"zerolinewidth\":2},\"scene\":{\"xaxis\":{\"backgroundcolor\":\"#E5ECF6\",\"gridcolor\":\"white\",\"linecolor\":\"white\",\"showbackground\":true,\"ticks\":\"\",\"zerolinecolor\":\"white\",\"gridwidth\":2},\"yaxis\":{\"backgroundcolor\":\"#E5ECF6\",\"gridcolor\":\"white\",\"linecolor\":\"white\",\"showbackground\":true,\"ticks\":\"\",\"zerolinecolor\":\"white\",\"gridwidth\":2},\"zaxis\":{\"backgroundcolor\":\"#E5ECF6\",\"gridcolor\":\"white\",\"linecolor\":\"white\",\"showbackground\":true,\"ticks\":\"\",\"zerolinecolor\":\"white\",\"gridwidth\":2}},\"shapedefaults\":{\"line\":{\"color\":\"#2a3f5f\"}},\"annotationdefaults\":{\"arrowcolor\":\"#2a3f5f\",\"arrowhead\":0,\"arrowwidth\":1},\"geo\":{\"bgcolor\":\"white\",\"landcolor\":\"#E5ECF6\",\"subunitcolor\":\"white\",\"showland\":true,\"showlakes\":true,\"lakecolor\":\"white\"},\"title\":{\"x\":0.05},\"mapbox\":{\"style\":\"light\"}}},\"xaxis\":{\"anchor\":\"y\",\"domain\":[0.0,1.0]},\"yaxis\":{\"anchor\":\"x\",\"domain\":[0.0,1.0],\"title\":{\"text\":\"BPM\"}},\"legend\":{\"tracegroupgap\":0},\"margin\":{\"t\":60},\"boxmode\":\"group\",\"height\":400,\"width\":500},                        {\"responsive\": true}                    ).then(function(){\n",
              "                            \n",
              "var gd = document.getElementById('7ec7e2ee-e6b9-40eb-9fcf-51bedbd933af');\n",
              "var x = new MutationObserver(function (mutations, observer) {{\n",
              "        var display = window.getComputedStyle(gd).display;\n",
              "        if (!display || display === 'none') {{\n",
              "            console.log([gd, 'removed!']);\n",
              "            Plotly.purge(gd);\n",
              "            observer.disconnect();\n",
              "        }}\n",
              "}});\n",
              "\n",
              "// Listen for the removal of the full notebook cells\n",
              "var notebookContainer = gd.closest('#notebook-container');\n",
              "if (notebookContainer) {{\n",
              "    x.observe(notebookContainer, {childList: true});\n",
              "}}\n",
              "\n",
              "// Listen for the clearing of the current output cell\n",
              "var outputEl = gd.closest('.output');\n",
              "if (outputEl) {{\n",
              "    x.observe(outputEl, {childList: true});\n",
              "}}\n",
              "\n",
              "                        })                };                            </script>        </div>\n",
              "</body>\n",
              "</html>"
            ]
          },
          "metadata": {}
        }
      ]
    },
    {
      "cell_type": "markdown",
      "source": [
        "Patrząc na **maksymalną** wartość z kolumny **Hours per day** można zwątpić w to że ktokolwiek mógłby tyle słuchać muzykę więc uważam że tak samo jak z **BPM** powinniśmy **zastosować metodę opartą na IQR i wyrównać wartości**"
      ],
      "metadata": {
        "id": "y6K0pcK2Kbv-"
      }
    },
    {
      "cell_type": "code",
      "source": [
        "hours_box = px.box(\n",
        "    df,\n",
        "    y=\"Hours per day\",\n",
        "    width=500,\n",
        "    height=400)\n",
        "\n",
        "hours_box.show()"
      ],
      "metadata": {
        "colab": {
          "base_uri": "https://localhost:8080/",
          "height": 0
        },
        "id": "3bfuEGiiIhD6",
        "outputId": "f1578636-7e28-43b0-9c01-01aad6a0dbb3"
      },
      "execution_count": 95,
      "outputs": [
        {
          "output_type": "display_data",
          "data": {
            "text/html": [
              "<html>\n",
              "<head><meta charset=\"utf-8\" /></head>\n",
              "<body>\n",
              "    <div>            <script src=\"https://cdnjs.cloudflare.com/ajax/libs/mathjax/2.7.5/MathJax.js?config=TeX-AMS-MML_SVG\"></script><script type=\"text/javascript\">if (window.MathJax && window.MathJax.Hub && window.MathJax.Hub.Config) {window.MathJax.Hub.Config({SVG: {font: \"STIX-Web\"}});}</script>                <script type=\"text/javascript\">window.PlotlyConfig = {MathJaxConfig: 'local'};</script>\n",
              "        <script charset=\"utf-8\" src=\"https://cdn.plot.ly/plotly-2.35.2.min.js\"></script>                <div id=\"4431fb8f-551a-4497-8a95-91fa8bf75ccc\" class=\"plotly-graph-div\" style=\"height:400px; width:500px;\"></div>            <script type=\"text/javascript\">                                    window.PLOTLYENV=window.PLOTLYENV || {};                                    if (document.getElementById(\"4431fb8f-551a-4497-8a95-91fa8bf75ccc\")) {                    Plotly.newPlot(                        \"4431fb8f-551a-4497-8a95-91fa8bf75ccc\",                        [{\"alignmentgroup\":\"True\",\"hovertemplate\":\"Hours per day=%{y}\\u003cextra\\u003e\\u003c\\u002fextra\\u003e\",\"legendgroup\":\"\",\"marker\":{\"color\":\"#636efa\"},\"name\":\"\",\"notched\":false,\"offsetgroup\":\"\",\"orientation\":\"v\",\"showlegend\":false,\"x0\":\" \",\"xaxis\":\"x\",\"y\":[3.0,1.5,4.0,2.5,4.0,5.0,3.0,1.0,6.0,1.0,3.0,8.0,2.0,4.0,2.0,8.0,12.0,24.0,3.0,8.0,4.0,5.0,2.0,3.0,2.0,12.0,6.0,2.0,1.0,5.0,2.0,6.0,4.0,1.0,5.0,4.0,3.0,0.5,4.0,2.0,5.0,0.25,3.0,4.0,1.0,1.0,3.0,5.0,3.0,2.0,6.0,1.0,12.0,4.0,2.0,6.0,0.0,7.0,1.0,1.0,1.0,2.0,2.0,5.0,6.0,3.0,4.0,3.0,2.0,3.0,2.0,4.0,2.0,0.5,5.0,5.0,10.0,2.0,4.0,5.0,3.0,2.0,2.5,3.0,1.0,7.0,1.0,1.0,3.0,5.0,6.0,4.0,1.0,4.0,10.0,3.0,2.0,4.0,8.0,2.0,0.5,5.0,1.0,3.0,2.0,3.0,2.0,4.0,3.0,2.0,3.0,4.0,2.0,8.0,4.0,2.0,1.0,3.0,0.5,2.0,3.0,2.0,1.0,5.0,10.0,4.0,2.0,1.0,6.0,1.0,6.0,7.0,1.0,3.0,2.0,3.0,2.0,3.0,1.5,4.0,2.0,10.0,7.0,1.0,2.0,6.0,2.0,3.0,8.0,3.0,3.0,3.0,2.0,1.0,2.0,2.0,4.0,4.0,1.0,2.0,2.0,1.0,3.0,10.0,1.0,3.0,1.5,3.0,2.5,2.0,5.0,2.0,2.0,2.0,2.0,1.0,1.5,5.0,0.5,2.0,0.5,2.0,2.5,2.0,2.0,1.0,4.0,5.0,2.0,2.0,2.0,1.0,4.0,1.0,4.0,5.0,5.0,7.0,2.0,3.0,2.0,3.0,3.0,3.0,5.0,6.0,2.0,2.0,1.0,1.0,3.0,3.0,1.0,6.0,4.0,2.0,2.0,3.0,8.0,3.0,2.0,7.0,12.0,9.0,2.0,1.0,1.0,2.0,4.0,2.0,6.0,4.0,1.0,6.0,2.0,5.0,1.5,5.0,2.0,4.0,2.0,5.0,6.0,1.0,6.0,4.0,2.0,2.0,2.0,4.0,2.0,6.0,3.0,5.0,0.5,1.0,10.0,2.0,0.5,1.0,2.0,3.0,3.0,2.0,1.0,8.0,1.0,1.0,1.0,5.0,5.0,4.0,8.0,0.7,3.0,7.0,1.5,4.0,4.0,10.0,2.0,2.0,6.0,0.5,2.0,5.0,3.0,4.5,3.0,20.0,1.0,2.5,1.0,2.0,5.0,3.0,3.0,0.5,8.0,2.0,3.0,3.0,5.0,1.5,1.0,2.0,1.0,4.0,1.0,2.0,2.0,2.0,1.0,6.0,2.0,4.0,1.5,3.0,4.0,10.0,3.0,3.0,3.0,2.0,2.0,3.0,2.0,5.0,6.0,3.0,5.0,5.0,6.0,6.0,3.0,10.0,2.0,2.0,3.0,1.5,10.0,2.0,3.0,2.5,3.0,0.5,16.0,6.0,3.0,0.5,5.0,2.0,2.0,2.0,1.5,1.0,10.0,2.0,15.0,0.5,3.0,2.0,4.0,2.0,1.0,24.0,1.0,2.0,2.0,3.0,3.0,2.0,7.0,6.0,3.0,5.0,4.0,3.0,2.0,3.0,2.0,2.0,3.0,2.0,3.0,0.0,1.0,2.0,2.0,6.0,5.0,2.0,4.0,8.0,4.0,1.5,2.0,5.0,6.0,2.0,2.0,1.0,1.0,2.0,2.0,1.0,14.0,3.0,3.0,2.0,0.5,6.0,1.0,2.0,4.0,3.0,12.0,3.0,1.0,10.0,5.0,0.5,5.0,3.0,2.0,13.0,4.0,6.0,3.0,4.0,3.0,2.0,2.0,1.0,6.0,9.0,1.0,1.0,0.5,1.0,1.5,6.0,4.0,6.0,4.0,1.5,2.0,2.0,4.0,3.0,4.0,2.0,2.0,6.0,0.0,1.0,4.0,2.0,3.0,4.0,2.0,3.0,1.0,10.0,10.0,10.0,4.0,4.0,3.0,2.0,1.0,6.0,1.0,1.0,4.0,2.0,2.0,2.0,6.0,3.0,1.0,4.0,0.5,8.0,15.0,1.5,2.0,3.0,1.0,0.25,1.0,1.0,5.0,1.0,1.0,7.0,3.0,3.0,7.0,8.0,2.0,2.0,2.0,2.0,4.0,8.0,4.0,1.0,5.0,2.0,1.0,5.0,8.0,2.0,2.0,1.0,8.0,8.0,1.0,1.0,8.0,2.0,6.0,3.0,4.0,2.0,3.0,4.0,2.0,1.0,1.0,1.0,2.0,7.0,5.0,3.0,1.0,6.0,2.0,3.0,1.5,4.0,2.0,2.0,2.0,1.0,3.0,3.0,2.0,6.0,3.0,3.0,2.0,2.0,2.0,3.0,4.0,2.0,5.0,2.0,1.0,7.0,3.0,3.0,4.0,3.0,1.0,7.0,1.0,4.0,4.0,3.0,2.0,4.0,5.0,6.0,1.0,1.0,3.0,1.0,8.0,1.0,8.0,1.0,1.0,10.0,10.0,5.0,10.0,2.0,6.0,2.0,3.0,8.0,8.0,8.0,8.0,12.0,6.0,4.0,8.0,2.0,1.0,2.0,3.0,1.0,0.0,2.0,0.1,2.0,12.0,1.0,1.0,3.0,2.0,2.0,3.0,1.0,3.0,3.0,5.0,8.0,4.0,5.0,3.0,4.0,1.0,4.0,1.0,2.0,6.0,2.0,1.0,4.0,8.0,2.0,2.0,10.0,0.0,6.0,3.0,2.0,0.25,4.0,2.0,2.0,3.0,6.0,3.0,2.0,5.0,4.0,4.0,0.0,12.0,0.5,1.0,3.0,12.0,4.0,3.0,1.0,4.0,2.0,3.0,3.0,1.0,2.0,1.0,0.5,2.0,11.0,10.0,5.0,1.5,2.0,3.0,2.0,3.0,4.0,1.0,5.0,2.0,7.0,2.0,1.0,1.0,4.0,6.0,3.0,4.0,4.0,1.0,2.0,24.0,5.0,3.0,4.0,9.0,1.0,1.0,2.0,1.5,2.0,4.0,1.0,1.0,3.0,4.0,8.0,5.0,3.0,8.0,1.0,4.0,1.0,2.0,1.0,3.0,5.0,5.0,4.0,6.0,6.0,1.0,18.0,1.0,7.0,0.5,2.0,2.0,1.0,6.0,5.0,2.0],\"y0\":\" \",\"yaxis\":\"y\",\"type\":\"box\"}],                        {\"template\":{\"data\":{\"histogram2dcontour\":[{\"type\":\"histogram2dcontour\",\"colorbar\":{\"outlinewidth\":0,\"ticks\":\"\"},\"colorscale\":[[0.0,\"#0d0887\"],[0.1111111111111111,\"#46039f\"],[0.2222222222222222,\"#7201a8\"],[0.3333333333333333,\"#9c179e\"],[0.4444444444444444,\"#bd3786\"],[0.5555555555555556,\"#d8576b\"],[0.6666666666666666,\"#ed7953\"],[0.7777777777777778,\"#fb9f3a\"],[0.8888888888888888,\"#fdca26\"],[1.0,\"#f0f921\"]]}],\"choropleth\":[{\"type\":\"choropleth\",\"colorbar\":{\"outlinewidth\":0,\"ticks\":\"\"}}],\"histogram2d\":[{\"type\":\"histogram2d\",\"colorbar\":{\"outlinewidth\":0,\"ticks\":\"\"},\"colorscale\":[[0.0,\"#0d0887\"],[0.1111111111111111,\"#46039f\"],[0.2222222222222222,\"#7201a8\"],[0.3333333333333333,\"#9c179e\"],[0.4444444444444444,\"#bd3786\"],[0.5555555555555556,\"#d8576b\"],[0.6666666666666666,\"#ed7953\"],[0.7777777777777778,\"#fb9f3a\"],[0.8888888888888888,\"#fdca26\"],[1.0,\"#f0f921\"]]}],\"heatmap\":[{\"type\":\"heatmap\",\"colorbar\":{\"outlinewidth\":0,\"ticks\":\"\"},\"colorscale\":[[0.0,\"#0d0887\"],[0.1111111111111111,\"#46039f\"],[0.2222222222222222,\"#7201a8\"],[0.3333333333333333,\"#9c179e\"],[0.4444444444444444,\"#bd3786\"],[0.5555555555555556,\"#d8576b\"],[0.6666666666666666,\"#ed7953\"],[0.7777777777777778,\"#fb9f3a\"],[0.8888888888888888,\"#fdca26\"],[1.0,\"#f0f921\"]]}],\"heatmapgl\":[{\"type\":\"heatmapgl\",\"colorbar\":{\"outlinewidth\":0,\"ticks\":\"\"},\"colorscale\":[[0.0,\"#0d0887\"],[0.1111111111111111,\"#46039f\"],[0.2222222222222222,\"#7201a8\"],[0.3333333333333333,\"#9c179e\"],[0.4444444444444444,\"#bd3786\"],[0.5555555555555556,\"#d8576b\"],[0.6666666666666666,\"#ed7953\"],[0.7777777777777778,\"#fb9f3a\"],[0.8888888888888888,\"#fdca26\"],[1.0,\"#f0f921\"]]}],\"contourcarpet\":[{\"type\":\"contourcarpet\",\"colorbar\":{\"outlinewidth\":0,\"ticks\":\"\"}}],\"contour\":[{\"type\":\"contour\",\"colorbar\":{\"outlinewidth\":0,\"ticks\":\"\"},\"colorscale\":[[0.0,\"#0d0887\"],[0.1111111111111111,\"#46039f\"],[0.2222222222222222,\"#7201a8\"],[0.3333333333333333,\"#9c179e\"],[0.4444444444444444,\"#bd3786\"],[0.5555555555555556,\"#d8576b\"],[0.6666666666666666,\"#ed7953\"],[0.7777777777777778,\"#fb9f3a\"],[0.8888888888888888,\"#fdca26\"],[1.0,\"#f0f921\"]]}],\"surface\":[{\"type\":\"surface\",\"colorbar\":{\"outlinewidth\":0,\"ticks\":\"\"},\"colorscale\":[[0.0,\"#0d0887\"],[0.1111111111111111,\"#46039f\"],[0.2222222222222222,\"#7201a8\"],[0.3333333333333333,\"#9c179e\"],[0.4444444444444444,\"#bd3786\"],[0.5555555555555556,\"#d8576b\"],[0.6666666666666666,\"#ed7953\"],[0.7777777777777778,\"#fb9f3a\"],[0.8888888888888888,\"#fdca26\"],[1.0,\"#f0f921\"]]}],\"mesh3d\":[{\"type\":\"mesh3d\",\"colorbar\":{\"outlinewidth\":0,\"ticks\":\"\"}}],\"scatter\":[{\"fillpattern\":{\"fillmode\":\"overlay\",\"size\":10,\"solidity\":0.2},\"type\":\"scatter\"}],\"parcoords\":[{\"type\":\"parcoords\",\"line\":{\"colorbar\":{\"outlinewidth\":0,\"ticks\":\"\"}}}],\"scatterpolargl\":[{\"type\":\"scatterpolargl\",\"marker\":{\"colorbar\":{\"outlinewidth\":0,\"ticks\":\"\"}}}],\"bar\":[{\"error_x\":{\"color\":\"#2a3f5f\"},\"error_y\":{\"color\":\"#2a3f5f\"},\"marker\":{\"line\":{\"color\":\"#E5ECF6\",\"width\":0.5},\"pattern\":{\"fillmode\":\"overlay\",\"size\":10,\"solidity\":0.2}},\"type\":\"bar\"}],\"scattergeo\":[{\"type\":\"scattergeo\",\"marker\":{\"colorbar\":{\"outlinewidth\":0,\"ticks\":\"\"}}}],\"scatterpolar\":[{\"type\":\"scatterpolar\",\"marker\":{\"colorbar\":{\"outlinewidth\":0,\"ticks\":\"\"}}}],\"histogram\":[{\"marker\":{\"pattern\":{\"fillmode\":\"overlay\",\"size\":10,\"solidity\":0.2}},\"type\":\"histogram\"}],\"scattergl\":[{\"type\":\"scattergl\",\"marker\":{\"colorbar\":{\"outlinewidth\":0,\"ticks\":\"\"}}}],\"scatter3d\":[{\"type\":\"scatter3d\",\"line\":{\"colorbar\":{\"outlinewidth\":0,\"ticks\":\"\"}},\"marker\":{\"colorbar\":{\"outlinewidth\":0,\"ticks\":\"\"}}}],\"scattermapbox\":[{\"type\":\"scattermapbox\",\"marker\":{\"colorbar\":{\"outlinewidth\":0,\"ticks\":\"\"}}}],\"scatterternary\":[{\"type\":\"scatterternary\",\"marker\":{\"colorbar\":{\"outlinewidth\":0,\"ticks\":\"\"}}}],\"scattercarpet\":[{\"type\":\"scattercarpet\",\"marker\":{\"colorbar\":{\"outlinewidth\":0,\"ticks\":\"\"}}}],\"carpet\":[{\"aaxis\":{\"endlinecolor\":\"#2a3f5f\",\"gridcolor\":\"white\",\"linecolor\":\"white\",\"minorgridcolor\":\"white\",\"startlinecolor\":\"#2a3f5f\"},\"baxis\":{\"endlinecolor\":\"#2a3f5f\",\"gridcolor\":\"white\",\"linecolor\":\"white\",\"minorgridcolor\":\"white\",\"startlinecolor\":\"#2a3f5f\"},\"type\":\"carpet\"}],\"table\":[{\"cells\":{\"fill\":{\"color\":\"#EBF0F8\"},\"line\":{\"color\":\"white\"}},\"header\":{\"fill\":{\"color\":\"#C8D4E3\"},\"line\":{\"color\":\"white\"}},\"type\":\"table\"}],\"barpolar\":[{\"marker\":{\"line\":{\"color\":\"#E5ECF6\",\"width\":0.5},\"pattern\":{\"fillmode\":\"overlay\",\"size\":10,\"solidity\":0.2}},\"type\":\"barpolar\"}],\"pie\":[{\"automargin\":true,\"type\":\"pie\"}]},\"layout\":{\"autotypenumbers\":\"strict\",\"colorway\":[\"#636efa\",\"#EF553B\",\"#00cc96\",\"#ab63fa\",\"#FFA15A\",\"#19d3f3\",\"#FF6692\",\"#B6E880\",\"#FF97FF\",\"#FECB52\"],\"font\":{\"color\":\"#2a3f5f\"},\"hovermode\":\"closest\",\"hoverlabel\":{\"align\":\"left\"},\"paper_bgcolor\":\"white\",\"plot_bgcolor\":\"#E5ECF6\",\"polar\":{\"bgcolor\":\"#E5ECF6\",\"angularaxis\":{\"gridcolor\":\"white\",\"linecolor\":\"white\",\"ticks\":\"\"},\"radialaxis\":{\"gridcolor\":\"white\",\"linecolor\":\"white\",\"ticks\":\"\"}},\"ternary\":{\"bgcolor\":\"#E5ECF6\",\"aaxis\":{\"gridcolor\":\"white\",\"linecolor\":\"white\",\"ticks\":\"\"},\"baxis\":{\"gridcolor\":\"white\",\"linecolor\":\"white\",\"ticks\":\"\"},\"caxis\":{\"gridcolor\":\"white\",\"linecolor\":\"white\",\"ticks\":\"\"}},\"coloraxis\":{\"colorbar\":{\"outlinewidth\":0,\"ticks\":\"\"}},\"colorscale\":{\"sequential\":[[0.0,\"#0d0887\"],[0.1111111111111111,\"#46039f\"],[0.2222222222222222,\"#7201a8\"],[0.3333333333333333,\"#9c179e\"],[0.4444444444444444,\"#bd3786\"],[0.5555555555555556,\"#d8576b\"],[0.6666666666666666,\"#ed7953\"],[0.7777777777777778,\"#fb9f3a\"],[0.8888888888888888,\"#fdca26\"],[1.0,\"#f0f921\"]],\"sequentialminus\":[[0.0,\"#0d0887\"],[0.1111111111111111,\"#46039f\"],[0.2222222222222222,\"#7201a8\"],[0.3333333333333333,\"#9c179e\"],[0.4444444444444444,\"#bd3786\"],[0.5555555555555556,\"#d8576b\"],[0.6666666666666666,\"#ed7953\"],[0.7777777777777778,\"#fb9f3a\"],[0.8888888888888888,\"#fdca26\"],[1.0,\"#f0f921\"]],\"diverging\":[[0,\"#8e0152\"],[0.1,\"#c51b7d\"],[0.2,\"#de77ae\"],[0.3,\"#f1b6da\"],[0.4,\"#fde0ef\"],[0.5,\"#f7f7f7\"],[0.6,\"#e6f5d0\"],[0.7,\"#b8e186\"],[0.8,\"#7fbc41\"],[0.9,\"#4d9221\"],[1,\"#276419\"]]},\"xaxis\":{\"gridcolor\":\"white\",\"linecolor\":\"white\",\"ticks\":\"\",\"title\":{\"standoff\":15},\"zerolinecolor\":\"white\",\"automargin\":true,\"zerolinewidth\":2},\"yaxis\":{\"gridcolor\":\"white\",\"linecolor\":\"white\",\"ticks\":\"\",\"title\":{\"standoff\":15},\"zerolinecolor\":\"white\",\"automargin\":true,\"zerolinewidth\":2},\"scene\":{\"xaxis\":{\"backgroundcolor\":\"#E5ECF6\",\"gridcolor\":\"white\",\"linecolor\":\"white\",\"showbackground\":true,\"ticks\":\"\",\"zerolinecolor\":\"white\",\"gridwidth\":2},\"yaxis\":{\"backgroundcolor\":\"#E5ECF6\",\"gridcolor\":\"white\",\"linecolor\":\"white\",\"showbackground\":true,\"ticks\":\"\",\"zerolinecolor\":\"white\",\"gridwidth\":2},\"zaxis\":{\"backgroundcolor\":\"#E5ECF6\",\"gridcolor\":\"white\",\"linecolor\":\"white\",\"showbackground\":true,\"ticks\":\"\",\"zerolinecolor\":\"white\",\"gridwidth\":2}},\"shapedefaults\":{\"line\":{\"color\":\"#2a3f5f\"}},\"annotationdefaults\":{\"arrowcolor\":\"#2a3f5f\",\"arrowhead\":0,\"arrowwidth\":1},\"geo\":{\"bgcolor\":\"white\",\"landcolor\":\"#E5ECF6\",\"subunitcolor\":\"white\",\"showland\":true,\"showlakes\":true,\"lakecolor\":\"white\"},\"title\":{\"x\":0.05},\"mapbox\":{\"style\":\"light\"}}},\"xaxis\":{\"anchor\":\"y\",\"domain\":[0.0,1.0]},\"yaxis\":{\"anchor\":\"x\",\"domain\":[0.0,1.0],\"title\":{\"text\":\"Hours per day\"}},\"legend\":{\"tracegroupgap\":0},\"margin\":{\"t\":60},\"boxmode\":\"group\",\"height\":400,\"width\":500},                        {\"responsive\": true}                    ).then(function(){\n",
              "                            \n",
              "var gd = document.getElementById('4431fb8f-551a-4497-8a95-91fa8bf75ccc');\n",
              "var x = new MutationObserver(function (mutations, observer) {{\n",
              "        var display = window.getComputedStyle(gd).display;\n",
              "        if (!display || display === 'none') {{\n",
              "            console.log([gd, 'removed!']);\n",
              "            Plotly.purge(gd);\n",
              "            observer.disconnect();\n",
              "        }}\n",
              "}});\n",
              "\n",
              "// Listen for the removal of the full notebook cells\n",
              "var notebookContainer = gd.closest('#notebook-container');\n",
              "if (notebookContainer) {{\n",
              "    x.observe(notebookContainer, {childList: true});\n",
              "}}\n",
              "\n",
              "// Listen for the clearing of the current output cell\n",
              "var outputEl = gd.closest('.output');\n",
              "if (outputEl) {{\n",
              "    x.observe(outputEl, {childList: true});\n",
              "}}\n",
              "\n",
              "                        })                };                            </script>        </div>\n",
              "</body>\n",
              "</html>"
            ]
          },
          "metadata": {}
        }
      ]
    },
    {
      "cell_type": "code",
      "source": [
        "df['Hours per day'] = remove_outlier(df['Hours per day'])\n",
        "\n",
        "df['Hours per day'].describe()"
      ],
      "metadata": {
        "colab": {
          "base_uri": "https://localhost:8080/",
          "height": 0
        },
        "id": "57UZ_fXzK79a",
        "outputId": "71ccfca5-6bb5-40d9-8b0f-17fef23bbf89"
      },
      "execution_count": 96,
      "outputs": [
        {
          "output_type": "execute_result",
          "data": {
            "text/plain": [
              "count    735.000000\n",
              "mean       3.407551\n",
              "std        2.409480\n",
              "min        0.000000\n",
              "25%        2.000000\n",
              "50%        3.000000\n",
              "75%        5.000000\n",
              "max        9.500000\n",
              "Name: Hours per day, dtype: float64"
            ],
            "text/html": [
              "<div>\n",
              "<style scoped>\n",
              "    .dataframe tbody tr th:only-of-type {\n",
              "        vertical-align: middle;\n",
              "    }\n",
              "\n",
              "    .dataframe tbody tr th {\n",
              "        vertical-align: top;\n",
              "    }\n",
              "\n",
              "    .dataframe thead th {\n",
              "        text-align: right;\n",
              "    }\n",
              "</style>\n",
              "<table border=\"1\" class=\"dataframe\">\n",
              "  <thead>\n",
              "    <tr style=\"text-align: right;\">\n",
              "      <th></th>\n",
              "      <th>Hours per day</th>\n",
              "    </tr>\n",
              "  </thead>\n",
              "  <tbody>\n",
              "    <tr>\n",
              "      <th>count</th>\n",
              "      <td>735.000000</td>\n",
              "    </tr>\n",
              "    <tr>\n",
              "      <th>mean</th>\n",
              "      <td>3.407551</td>\n",
              "    </tr>\n",
              "    <tr>\n",
              "      <th>std</th>\n",
              "      <td>2.409480</td>\n",
              "    </tr>\n",
              "    <tr>\n",
              "      <th>min</th>\n",
              "      <td>0.000000</td>\n",
              "    </tr>\n",
              "    <tr>\n",
              "      <th>25%</th>\n",
              "      <td>2.000000</td>\n",
              "    </tr>\n",
              "    <tr>\n",
              "      <th>50%</th>\n",
              "      <td>3.000000</td>\n",
              "    </tr>\n",
              "    <tr>\n",
              "      <th>75%</th>\n",
              "      <td>5.000000</td>\n",
              "    </tr>\n",
              "    <tr>\n",
              "      <th>max</th>\n",
              "      <td>9.500000</td>\n",
              "    </tr>\n",
              "  </tbody>\n",
              "</table>\n",
              "</div><br><label><b>dtype:</b> float64</label>"
            ]
          },
          "metadata": {},
          "execution_count": 96
        }
      ]
    },
    {
      "cell_type": "markdown",
      "source": [
        "## Koniec czyszczenia\n",
        "Końcowy efekt:"
      ],
      "metadata": {
        "id": "YpHKzTR5gI3p"
      }
    },
    {
      "cell_type": "code",
      "source": [
        "df.info()"
      ],
      "metadata": {
        "colab": {
          "base_uri": "https://localhost:8080/"
        },
        "id": "kaKBjNmBfHjj",
        "outputId": "6b8d1210-e471-4e3e-caee-45821c06620d"
      },
      "execution_count": 97,
      "outputs": [
        {
          "output_type": "stream",
          "name": "stdout",
          "text": [
            "<class 'pandas.core.frame.DataFrame'>\n",
            "Index: 735 entries, 0 to 735\n",
            "Data columns (total 31 columns):\n",
            " #   Column                        Non-Null Count  Dtype   \n",
            "---  ------                        --------------  -----   \n",
            " 0   Age                           735 non-null    int64   \n",
            " 1   Primary streaming service     735 non-null    category\n",
            " 2   Hours per day                 735 non-null    float64 \n",
            " 3   While working                 735 non-null    category\n",
            " 4   Instrumentalist               735 non-null    category\n",
            " 5   Composer                      735 non-null    category\n",
            " 6   Fav genre                     735 non-null    category\n",
            " 7   Exploratory                   735 non-null    category\n",
            " 8   Foreign languages             735 non-null    category\n",
            " 9   BPM                           735 non-null    int64   \n",
            " 10  Frequency [Classical]         735 non-null    category\n",
            " 11  Frequency [Country]           735 non-null    category\n",
            " 12  Frequency [EDM]               735 non-null    category\n",
            " 13  Frequency [Folk]              735 non-null    category\n",
            " 14  Frequency [Gospel]            735 non-null    category\n",
            " 15  Frequency [Hip hop]           735 non-null    category\n",
            " 16  Frequency [Jazz]              735 non-null    category\n",
            " 17  Frequency [K pop]             735 non-null    category\n",
            " 18  Frequency [Latin]             735 non-null    category\n",
            " 19  Frequency [Lofi]              735 non-null    category\n",
            " 20  Frequency [Metal]             735 non-null    category\n",
            " 21  Frequency [Pop]               735 non-null    category\n",
            " 22  Frequency [R&B]               735 non-null    category\n",
            " 23  Frequency [Rap]               735 non-null    category\n",
            " 24  Frequency [Rock]              735 non-null    category\n",
            " 25  Frequency [Video game music]  735 non-null    category\n",
            " 26  Anxiety                       735 non-null    float64 \n",
            " 27  Depression                    735 non-null    float64 \n",
            " 28  Insomnia                      735 non-null    float64 \n",
            " 29  OCD                           735 non-null    float64 \n",
            " 30  Music effects                 735 non-null    category\n",
            "dtypes: category(24), float64(5), int64(2)\n",
            "memory usage: 68.0 KB\n"
          ]
        }
      ]
    },
    {
      "cell_type": "markdown",
      "source": [
        "# EDA"
      ],
      "metadata": {
        "id": "WpC9BtR0c-F_"
      }
    },
    {
      "cell_type": "markdown",
      "source": [
        "## Ogólna charakterystyka osób\n"
      ],
      "metadata": {
        "id": "h9sVseOCkc4y"
      }
    },
    {
      "cell_type": "markdown",
      "source": [
        "### Wiek"
      ],
      "metadata": {
        "id": "PFpe0_iNhmrv"
      }
    },
    {
      "cell_type": "code",
      "source": [
        "age_hist = px.histogram(df, x='Age', nbins=20)\n",
        "\n",
        "age_charts = make_subplots(rows=2, cols=2, subplot_titles=['Age', 'Hours per day', 'Hours per day by Age'])\n",
        "\n",
        "age_charts.add_trace(go.Histogram(x=df['Age'], name='Age', nbinsx=20),row=1,col=1)\n",
        "age_charts.add_trace(go.Histogram(x=df['Hours per day'], name='Hours per day', nbinsx=10, ),row=1,col=2)\n",
        "\n",
        "age_charts.add_trace(go.Histogram(x=df['Age'], y=df['Hours per day'], name='age vs hours', histfunc='avg', nbinsx=20),row=2,col=1)\n",
        "age_charts.update_xaxes(title_text=\"Age\", row=2, col=1)\n",
        "age_charts.update_yaxes(title_text=\"Mean listen time\", row=2, col=1)\n",
        "\n",
        "age_charts.update_layout(\n",
        "    showlegend=False,\n",
        "    height = 650,\n",
        "    width = 800\n",
        ")\n",
        "\n",
        "age_charts.show()"
      ],
      "metadata": {
        "colab": {
          "base_uri": "https://localhost:8080/",
          "height": 667
        },
        "id": "d-xBe7BYvqkz",
        "outputId": "04b6c65a-d1a8-49b8-9f1a-39e4aa35beab"
      },
      "execution_count": 98,
      "outputs": [
        {
          "output_type": "display_data",
          "data": {
            "text/html": [
              "<html>\n",
              "<head><meta charset=\"utf-8\" /></head>\n",
              "<body>\n",
              "    <div>            <script src=\"https://cdnjs.cloudflare.com/ajax/libs/mathjax/2.7.5/MathJax.js?config=TeX-AMS-MML_SVG\"></script><script type=\"text/javascript\">if (window.MathJax && window.MathJax.Hub && window.MathJax.Hub.Config) {window.MathJax.Hub.Config({SVG: {font: \"STIX-Web\"}});}</script>                <script type=\"text/javascript\">window.PlotlyConfig = {MathJaxConfig: 'local'};</script>\n",
              "        <script charset=\"utf-8\" src=\"https://cdn.plot.ly/plotly-2.35.2.min.js\"></script>                <div id=\"bbf75581-3ded-48cd-94dc-67f0d3693a44\" class=\"plotly-graph-div\" style=\"height:650px; width:800px;\"></div>            <script type=\"text/javascript\">                                    window.PLOTLYENV=window.PLOTLYENV || {};                                    if (document.getElementById(\"bbf75581-3ded-48cd-94dc-67f0d3693a44\")) {                    Plotly.newPlot(                        \"bbf75581-3ded-48cd-94dc-67f0d3693a44\",                        [{\"name\":\"Age\",\"nbinsx\":20,\"x\":[18,63,18,61,18,18,18,21,19,18,18,19,19,18,17,16,16,17,15,15,17,19,18,16,18,14,18,17,17,20,19,19,17,16,18,21,17,26,20,23,18,37,17,18,17,36,24,18,19,17,16,23,23,22,16,18,42,23,23,19,22,15,25,32,36,24,29,41,36,19,31,16,26,22,16,17,19,18,18,19,19,22,16,19,37,14,33,26,32,30,43,24,36,19,22,20,31,19,15,18,25,17,28,20,21,41,20,34,21,23,16,19,22,19,23,23,22,17,28,23,19,17,21,29,22,18,13,24,35,29,28,32,32,21,18,19,18,16,25,17,16,27,53,25,34,22,17,26,19,21,32,21,25,26,21,17,28,41,18,22,18,49,21,27,19,27,27,19,42,60,19,20,28,16,18,34,18,21,38,17,35,21,25,18,16,19,31,26,16,26,17,22,20,30,26,19,21,33,28,25,22,19,44,22,26,23,17,42,30,35,20,18,21,19,37,31,29,20,36,18,18,25,18,31,17,21,30,40,64,14,26,35,33,30,31,27,53,23,25,16,18,29,31,31,38,17,25,20,15,16,20,23,22,15,17,22,21,19,32,34,18,21,20,19,25,31,21,31,20,19,19,23,24,20,15,17,20,14,24,14,23,28,22,25,27,18,17,23,40,27,18,16,18,23,15,20,16,16,20,33,22,21,21,29,56,17,22,26,30,49,22,32,32,22,17,21,17,25,15,13,38,23,17,59,22,17,27,23,15,22,23,19,32,40,21,21,23,21,35,18,21,22,23,13,19,33,18,17,16,18,19,15,17,25,24,23,16,25,16,20,17,29,20,16,21,16,43,32,10,27,24,18,17,19,16,64,33,32,15,27,20,23,19,12,16,17,14,32,20,54,18,14,13,19,14,14,18,15,24,17,44,23,21,57,23,18,26,13,15,57,12,26,17,17,69,17,32,22,38,18,14,14,19,20,18,30,31,72,73,16,19,16,12,39,15,14,21,38,23,16,21,13,16,18,21,17,24,14,25,22,20,23,61,24,34,49,33,22,38,23,34,40,27,54,16,23,35,22,41,63,28,22,58,58,67,70,60,15,18,58,28,22,49,20,55,48,14,18,25,71,60,18,19,74,36,14,20,15,19,29,24,18,21,19,25,28,27,60,25,60,43,51,63,64,22,24,19,56,20,19,20,60,65,28,18,42,80,22,56,20,15,67,57,22,17,19,50,24,67,18,20,15,17,32,18,18,18,19,18,17,34,18,18,22,18,19,25,17,25,18,21,24,16,18,18,16,68,16,21,53,29,18,29,18,22,19,13,26,14,27,26,59,30,27,18,23,18,40,24,23,56,29,16,18,21,32,22,17,18,18,24,21,46,18,16,21,19,20,21,56,21,20,21,25,33,20,17,24,26,17,16,27,28,48,19,21,21,15,20,21,22,22,31,20,49,42,26,17,30,23,30,31,42,16,34,21,27,18,26,37,26,19,22,43,24,21,28,23,20,17,19,32,18,20,27,15,26,24,20,21,16,21,27,17,21,17,21,17,36,18,18,18,18,18,18,18,18,18,20,19,17,23,18,19,89,20,16,17,16,20,30,37,44,21,19,23,26,18,35,16,19,23,17,29,21,17,23,17,22,17,19,19,16,19,13,18,26,14,21,21,17,18,19,19,29],\"type\":\"histogram\",\"xaxis\":\"x\",\"yaxis\":\"y\"},{\"name\":\"Hours per day\",\"nbinsx\":10,\"x\":[3.0,1.5,4.0,2.5,4.0,5.0,3.0,1.0,6.0,1.0,3.0,8.0,2.0,4.0,2.0,8.0,9.5,9.5,3.0,8.0,4.0,5.0,2.0,3.0,2.0,9.5,6.0,2.0,1.0,5.0,2.0,6.0,4.0,1.0,5.0,4.0,3.0,0.5,4.0,2.0,5.0,0.25,3.0,4.0,1.0,1.0,3.0,5.0,3.0,2.0,6.0,1.0,9.5,4.0,2.0,6.0,0.0,7.0,1.0,1.0,1.0,2.0,2.0,5.0,6.0,3.0,4.0,3.0,2.0,3.0,2.0,4.0,2.0,0.5,5.0,5.0,9.5,2.0,4.0,5.0,3.0,2.0,2.5,3.0,1.0,7.0,1.0,1.0,3.0,5.0,6.0,4.0,1.0,4.0,9.5,3.0,2.0,4.0,8.0,2.0,0.5,5.0,1.0,3.0,2.0,3.0,2.0,4.0,3.0,2.0,3.0,4.0,2.0,8.0,4.0,2.0,1.0,3.0,0.5,2.0,3.0,2.0,1.0,5.0,9.5,4.0,2.0,1.0,6.0,1.0,6.0,7.0,1.0,3.0,2.0,3.0,2.0,3.0,1.5,4.0,2.0,9.5,7.0,1.0,2.0,6.0,2.0,3.0,8.0,3.0,3.0,3.0,2.0,1.0,2.0,2.0,4.0,4.0,1.0,2.0,2.0,1.0,3.0,9.5,1.0,3.0,1.5,3.0,2.5,2.0,5.0,2.0,2.0,2.0,2.0,1.0,1.5,5.0,0.5,2.0,0.5,2.0,2.5,2.0,2.0,1.0,4.0,5.0,2.0,2.0,2.0,1.0,4.0,1.0,4.0,5.0,5.0,7.0,2.0,3.0,2.0,3.0,3.0,3.0,5.0,6.0,2.0,2.0,1.0,1.0,3.0,3.0,1.0,6.0,4.0,2.0,2.0,3.0,8.0,3.0,2.0,7.0,9.5,9.0,2.0,1.0,1.0,2.0,4.0,2.0,6.0,4.0,1.0,6.0,2.0,5.0,1.5,5.0,2.0,4.0,2.0,5.0,6.0,1.0,6.0,4.0,2.0,2.0,2.0,4.0,2.0,6.0,3.0,5.0,0.5,1.0,9.5,2.0,0.5,1.0,2.0,3.0,3.0,2.0,1.0,8.0,1.0,1.0,1.0,5.0,5.0,4.0,8.0,0.7,3.0,7.0,1.5,4.0,4.0,9.5,2.0,2.0,6.0,0.5,2.0,5.0,3.0,4.5,3.0,9.5,1.0,2.5,1.0,2.0,5.0,3.0,3.0,0.5,8.0,2.0,3.0,3.0,5.0,1.5,1.0,2.0,1.0,4.0,1.0,2.0,2.0,2.0,1.0,6.0,2.0,4.0,1.5,3.0,4.0,9.5,3.0,3.0,3.0,2.0,2.0,3.0,2.0,5.0,6.0,3.0,5.0,5.0,6.0,6.0,3.0,9.5,2.0,2.0,3.0,1.5,9.5,2.0,3.0,2.5,3.0,0.5,9.5,6.0,3.0,0.5,5.0,2.0,2.0,2.0,1.5,1.0,9.5,2.0,9.5,0.5,3.0,2.0,4.0,2.0,1.0,9.5,1.0,2.0,2.0,3.0,3.0,2.0,7.0,6.0,3.0,5.0,4.0,3.0,2.0,3.0,2.0,2.0,3.0,2.0,3.0,0.0,1.0,2.0,2.0,6.0,5.0,2.0,4.0,8.0,4.0,1.5,2.0,5.0,6.0,2.0,2.0,1.0,1.0,2.0,2.0,1.0,9.5,3.0,3.0,2.0,0.5,6.0,1.0,2.0,4.0,3.0,9.5,3.0,1.0,9.5,5.0,0.5,5.0,3.0,2.0,9.5,4.0,6.0,3.0,4.0,3.0,2.0,2.0,1.0,6.0,9.0,1.0,1.0,0.5,1.0,1.5,6.0,4.0,6.0,4.0,1.5,2.0,2.0,4.0,3.0,4.0,2.0,2.0,6.0,0.0,1.0,4.0,2.0,3.0,4.0,2.0,3.0,1.0,9.5,9.5,9.5,4.0,4.0,3.0,2.0,1.0,6.0,1.0,1.0,4.0,2.0,2.0,2.0,6.0,3.0,1.0,4.0,0.5,8.0,9.5,1.5,2.0,3.0,1.0,0.25,1.0,1.0,5.0,1.0,1.0,7.0,3.0,3.0,7.0,8.0,2.0,2.0,2.0,2.0,4.0,8.0,4.0,1.0,5.0,2.0,1.0,5.0,8.0,2.0,2.0,1.0,8.0,8.0,1.0,1.0,8.0,2.0,6.0,3.0,4.0,2.0,3.0,4.0,2.0,1.0,1.0,1.0,2.0,7.0,5.0,3.0,1.0,6.0,2.0,3.0,1.5,4.0,2.0,2.0,2.0,1.0,3.0,3.0,2.0,6.0,3.0,3.0,2.0,2.0,2.0,3.0,4.0,2.0,5.0,2.0,1.0,7.0,3.0,3.0,4.0,3.0,1.0,7.0,1.0,4.0,4.0,3.0,2.0,4.0,5.0,6.0,1.0,1.0,3.0,1.0,8.0,1.0,8.0,1.0,1.0,9.5,9.5,5.0,9.5,2.0,6.0,2.0,3.0,8.0,8.0,8.0,8.0,9.5,6.0,4.0,8.0,2.0,1.0,2.0,3.0,1.0,0.0,2.0,0.1,2.0,9.5,1.0,1.0,3.0,2.0,2.0,3.0,1.0,3.0,3.0,5.0,8.0,4.0,5.0,3.0,4.0,1.0,4.0,1.0,2.0,6.0,2.0,1.0,4.0,8.0,2.0,2.0,9.5,0.0,6.0,3.0,2.0,0.25,4.0,2.0,2.0,3.0,6.0,3.0,2.0,5.0,4.0,4.0,0.0,9.5,0.5,1.0,3.0,9.5,4.0,3.0,1.0,4.0,2.0,3.0,3.0,1.0,2.0,1.0,0.5,2.0,9.5,9.5,5.0,1.5,2.0,3.0,2.0,3.0,4.0,1.0,5.0,2.0,7.0,2.0,1.0,1.0,4.0,6.0,3.0,4.0,4.0,1.0,2.0,9.5,5.0,3.0,4.0,9.0,1.0,1.0,2.0,1.5,2.0,4.0,1.0,1.0,3.0,4.0,8.0,5.0,3.0,8.0,1.0,4.0,1.0,2.0,1.0,3.0,5.0,5.0,4.0,6.0,6.0,1.0,9.5,1.0,7.0,0.5,2.0,2.0,1.0,6.0,5.0,2.0],\"type\":\"histogram\",\"xaxis\":\"x2\",\"yaxis\":\"y2\"},{\"histfunc\":\"avg\",\"name\":\"age vs hours\",\"nbinsx\":20,\"x\":[18,63,18,61,18,18,18,21,19,18,18,19,19,18,17,16,16,17,15,15,17,19,18,16,18,14,18,17,17,20,19,19,17,16,18,21,17,26,20,23,18,37,17,18,17,36,24,18,19,17,16,23,23,22,16,18,42,23,23,19,22,15,25,32,36,24,29,41,36,19,31,16,26,22,16,17,19,18,18,19,19,22,16,19,37,14,33,26,32,30,43,24,36,19,22,20,31,19,15,18,25,17,28,20,21,41,20,34,21,23,16,19,22,19,23,23,22,17,28,23,19,17,21,29,22,18,13,24,35,29,28,32,32,21,18,19,18,16,25,17,16,27,53,25,34,22,17,26,19,21,32,21,25,26,21,17,28,41,18,22,18,49,21,27,19,27,27,19,42,60,19,20,28,16,18,34,18,21,38,17,35,21,25,18,16,19,31,26,16,26,17,22,20,30,26,19,21,33,28,25,22,19,44,22,26,23,17,42,30,35,20,18,21,19,37,31,29,20,36,18,18,25,18,31,17,21,30,40,64,14,26,35,33,30,31,27,53,23,25,16,18,29,31,31,38,17,25,20,15,16,20,23,22,15,17,22,21,19,32,34,18,21,20,19,25,31,21,31,20,19,19,23,24,20,15,17,20,14,24,14,23,28,22,25,27,18,17,23,40,27,18,16,18,23,15,20,16,16,20,33,22,21,21,29,56,17,22,26,30,49,22,32,32,22,17,21,17,25,15,13,38,23,17,59,22,17,27,23,15,22,23,19,32,40,21,21,23,21,35,18,21,22,23,13,19,33,18,17,16,18,19,15,17,25,24,23,16,25,16,20,17,29,20,16,21,16,43,32,10,27,24,18,17,19,16,64,33,32,15,27,20,23,19,12,16,17,14,32,20,54,18,14,13,19,14,14,18,15,24,17,44,23,21,57,23,18,26,13,15,57,12,26,17,17,69,17,32,22,38,18,14,14,19,20,18,30,31,72,73,16,19,16,12,39,15,14,21,38,23,16,21,13,16,18,21,17,24,14,25,22,20,23,61,24,34,49,33,22,38,23,34,40,27,54,16,23,35,22,41,63,28,22,58,58,67,70,60,15,18,58,28,22,49,20,55,48,14,18,25,71,60,18,19,74,36,14,20,15,19,29,24,18,21,19,25,28,27,60,25,60,43,51,63,64,22,24,19,56,20,19,20,60,65,28,18,42,80,22,56,20,15,67,57,22,17,19,50,24,67,18,20,15,17,32,18,18,18,19,18,17,34,18,18,22,18,19,25,17,25,18,21,24,16,18,18,16,68,16,21,53,29,18,29,18,22,19,13,26,14,27,26,59,30,27,18,23,18,40,24,23,56,29,16,18,21,32,22,17,18,18,24,21,46,18,16,21,19,20,21,56,21,20,21,25,33,20,17,24,26,17,16,27,28,48,19,21,21,15,20,21,22,22,31,20,49,42,26,17,30,23,30,31,42,16,34,21,27,18,26,37,26,19,22,43,24,21,28,23,20,17,19,32,18,20,27,15,26,24,20,21,16,21,27,17,21,17,21,17,36,18,18,18,18,18,18,18,18,18,20,19,17,23,18,19,89,20,16,17,16,20,30,37,44,21,19,23,26,18,35,16,19,23,17,29,21,17,23,17,22,17,19,19,16,19,13,18,26,14,21,21,17,18,19,19,29],\"y\":[3.0,1.5,4.0,2.5,4.0,5.0,3.0,1.0,6.0,1.0,3.0,8.0,2.0,4.0,2.0,8.0,9.5,9.5,3.0,8.0,4.0,5.0,2.0,3.0,2.0,9.5,6.0,2.0,1.0,5.0,2.0,6.0,4.0,1.0,5.0,4.0,3.0,0.5,4.0,2.0,5.0,0.25,3.0,4.0,1.0,1.0,3.0,5.0,3.0,2.0,6.0,1.0,9.5,4.0,2.0,6.0,0.0,7.0,1.0,1.0,1.0,2.0,2.0,5.0,6.0,3.0,4.0,3.0,2.0,3.0,2.0,4.0,2.0,0.5,5.0,5.0,9.5,2.0,4.0,5.0,3.0,2.0,2.5,3.0,1.0,7.0,1.0,1.0,3.0,5.0,6.0,4.0,1.0,4.0,9.5,3.0,2.0,4.0,8.0,2.0,0.5,5.0,1.0,3.0,2.0,3.0,2.0,4.0,3.0,2.0,3.0,4.0,2.0,8.0,4.0,2.0,1.0,3.0,0.5,2.0,3.0,2.0,1.0,5.0,9.5,4.0,2.0,1.0,6.0,1.0,6.0,7.0,1.0,3.0,2.0,3.0,2.0,3.0,1.5,4.0,2.0,9.5,7.0,1.0,2.0,6.0,2.0,3.0,8.0,3.0,3.0,3.0,2.0,1.0,2.0,2.0,4.0,4.0,1.0,2.0,2.0,1.0,3.0,9.5,1.0,3.0,1.5,3.0,2.5,2.0,5.0,2.0,2.0,2.0,2.0,1.0,1.5,5.0,0.5,2.0,0.5,2.0,2.5,2.0,2.0,1.0,4.0,5.0,2.0,2.0,2.0,1.0,4.0,1.0,4.0,5.0,5.0,7.0,2.0,3.0,2.0,3.0,3.0,3.0,5.0,6.0,2.0,2.0,1.0,1.0,3.0,3.0,1.0,6.0,4.0,2.0,2.0,3.0,8.0,3.0,2.0,7.0,9.5,9.0,2.0,1.0,1.0,2.0,4.0,2.0,6.0,4.0,1.0,6.0,2.0,5.0,1.5,5.0,2.0,4.0,2.0,5.0,6.0,1.0,6.0,4.0,2.0,2.0,2.0,4.0,2.0,6.0,3.0,5.0,0.5,1.0,9.5,2.0,0.5,1.0,2.0,3.0,3.0,2.0,1.0,8.0,1.0,1.0,1.0,5.0,5.0,4.0,8.0,0.7,3.0,7.0,1.5,4.0,4.0,9.5,2.0,2.0,6.0,0.5,2.0,5.0,3.0,4.5,3.0,9.5,1.0,2.5,1.0,2.0,5.0,3.0,3.0,0.5,8.0,2.0,3.0,3.0,5.0,1.5,1.0,2.0,1.0,4.0,1.0,2.0,2.0,2.0,1.0,6.0,2.0,4.0,1.5,3.0,4.0,9.5,3.0,3.0,3.0,2.0,2.0,3.0,2.0,5.0,6.0,3.0,5.0,5.0,6.0,6.0,3.0,9.5,2.0,2.0,3.0,1.5,9.5,2.0,3.0,2.5,3.0,0.5,9.5,6.0,3.0,0.5,5.0,2.0,2.0,2.0,1.5,1.0,9.5,2.0,9.5,0.5,3.0,2.0,4.0,2.0,1.0,9.5,1.0,2.0,2.0,3.0,3.0,2.0,7.0,6.0,3.0,5.0,4.0,3.0,2.0,3.0,2.0,2.0,3.0,2.0,3.0,0.0,1.0,2.0,2.0,6.0,5.0,2.0,4.0,8.0,4.0,1.5,2.0,5.0,6.0,2.0,2.0,1.0,1.0,2.0,2.0,1.0,9.5,3.0,3.0,2.0,0.5,6.0,1.0,2.0,4.0,3.0,9.5,3.0,1.0,9.5,5.0,0.5,5.0,3.0,2.0,9.5,4.0,6.0,3.0,4.0,3.0,2.0,2.0,1.0,6.0,9.0,1.0,1.0,0.5,1.0,1.5,6.0,4.0,6.0,4.0,1.5,2.0,2.0,4.0,3.0,4.0,2.0,2.0,6.0,0.0,1.0,4.0,2.0,3.0,4.0,2.0,3.0,1.0,9.5,9.5,9.5,4.0,4.0,3.0,2.0,1.0,6.0,1.0,1.0,4.0,2.0,2.0,2.0,6.0,3.0,1.0,4.0,0.5,8.0,9.5,1.5,2.0,3.0,1.0,0.25,1.0,1.0,5.0,1.0,1.0,7.0,3.0,3.0,7.0,8.0,2.0,2.0,2.0,2.0,4.0,8.0,4.0,1.0,5.0,2.0,1.0,5.0,8.0,2.0,2.0,1.0,8.0,8.0,1.0,1.0,8.0,2.0,6.0,3.0,4.0,2.0,3.0,4.0,2.0,1.0,1.0,1.0,2.0,7.0,5.0,3.0,1.0,6.0,2.0,3.0,1.5,4.0,2.0,2.0,2.0,1.0,3.0,3.0,2.0,6.0,3.0,3.0,2.0,2.0,2.0,3.0,4.0,2.0,5.0,2.0,1.0,7.0,3.0,3.0,4.0,3.0,1.0,7.0,1.0,4.0,4.0,3.0,2.0,4.0,5.0,6.0,1.0,1.0,3.0,1.0,8.0,1.0,8.0,1.0,1.0,9.5,9.5,5.0,9.5,2.0,6.0,2.0,3.0,8.0,8.0,8.0,8.0,9.5,6.0,4.0,8.0,2.0,1.0,2.0,3.0,1.0,0.0,2.0,0.1,2.0,9.5,1.0,1.0,3.0,2.0,2.0,3.0,1.0,3.0,3.0,5.0,8.0,4.0,5.0,3.0,4.0,1.0,4.0,1.0,2.0,6.0,2.0,1.0,4.0,8.0,2.0,2.0,9.5,0.0,6.0,3.0,2.0,0.25,4.0,2.0,2.0,3.0,6.0,3.0,2.0,5.0,4.0,4.0,0.0,9.5,0.5,1.0,3.0,9.5,4.0,3.0,1.0,4.0,2.0,3.0,3.0,1.0,2.0,1.0,0.5,2.0,9.5,9.5,5.0,1.5,2.0,3.0,2.0,3.0,4.0,1.0,5.0,2.0,7.0,2.0,1.0,1.0,4.0,6.0,3.0,4.0,4.0,1.0,2.0,9.5,5.0,3.0,4.0,9.0,1.0,1.0,2.0,1.5,2.0,4.0,1.0,1.0,3.0,4.0,8.0,5.0,3.0,8.0,1.0,4.0,1.0,2.0,1.0,3.0,5.0,5.0,4.0,6.0,6.0,1.0,9.5,1.0,7.0,0.5,2.0,2.0,1.0,6.0,5.0,2.0],\"type\":\"histogram\",\"xaxis\":\"x3\",\"yaxis\":\"y3\"}],                        {\"template\":{\"data\":{\"histogram2dcontour\":[{\"type\":\"histogram2dcontour\",\"colorbar\":{\"outlinewidth\":0,\"ticks\":\"\"},\"colorscale\":[[0.0,\"#0d0887\"],[0.1111111111111111,\"#46039f\"],[0.2222222222222222,\"#7201a8\"],[0.3333333333333333,\"#9c179e\"],[0.4444444444444444,\"#bd3786\"],[0.5555555555555556,\"#d8576b\"],[0.6666666666666666,\"#ed7953\"],[0.7777777777777778,\"#fb9f3a\"],[0.8888888888888888,\"#fdca26\"],[1.0,\"#f0f921\"]]}],\"choropleth\":[{\"type\":\"choropleth\",\"colorbar\":{\"outlinewidth\":0,\"ticks\":\"\"}}],\"histogram2d\":[{\"type\":\"histogram2d\",\"colorbar\":{\"outlinewidth\":0,\"ticks\":\"\"},\"colorscale\":[[0.0,\"#0d0887\"],[0.1111111111111111,\"#46039f\"],[0.2222222222222222,\"#7201a8\"],[0.3333333333333333,\"#9c179e\"],[0.4444444444444444,\"#bd3786\"],[0.5555555555555556,\"#d8576b\"],[0.6666666666666666,\"#ed7953\"],[0.7777777777777778,\"#fb9f3a\"],[0.8888888888888888,\"#fdca26\"],[1.0,\"#f0f921\"]]}],\"heatmap\":[{\"type\":\"heatmap\",\"colorbar\":{\"outlinewidth\":0,\"ticks\":\"\"},\"colorscale\":[[0.0,\"#0d0887\"],[0.1111111111111111,\"#46039f\"],[0.2222222222222222,\"#7201a8\"],[0.3333333333333333,\"#9c179e\"],[0.4444444444444444,\"#bd3786\"],[0.5555555555555556,\"#d8576b\"],[0.6666666666666666,\"#ed7953\"],[0.7777777777777778,\"#fb9f3a\"],[0.8888888888888888,\"#fdca26\"],[1.0,\"#f0f921\"]]}],\"heatmapgl\":[{\"type\":\"heatmapgl\",\"colorbar\":{\"outlinewidth\":0,\"ticks\":\"\"},\"colorscale\":[[0.0,\"#0d0887\"],[0.1111111111111111,\"#46039f\"],[0.2222222222222222,\"#7201a8\"],[0.3333333333333333,\"#9c179e\"],[0.4444444444444444,\"#bd3786\"],[0.5555555555555556,\"#d8576b\"],[0.6666666666666666,\"#ed7953\"],[0.7777777777777778,\"#fb9f3a\"],[0.8888888888888888,\"#fdca26\"],[1.0,\"#f0f921\"]]}],\"contourcarpet\":[{\"type\":\"contourcarpet\",\"colorbar\":{\"outlinewidth\":0,\"ticks\":\"\"}}],\"contour\":[{\"type\":\"contour\",\"colorbar\":{\"outlinewidth\":0,\"ticks\":\"\"},\"colorscale\":[[0.0,\"#0d0887\"],[0.1111111111111111,\"#46039f\"],[0.2222222222222222,\"#7201a8\"],[0.3333333333333333,\"#9c179e\"],[0.4444444444444444,\"#bd3786\"],[0.5555555555555556,\"#d8576b\"],[0.6666666666666666,\"#ed7953\"],[0.7777777777777778,\"#fb9f3a\"],[0.8888888888888888,\"#fdca26\"],[1.0,\"#f0f921\"]]}],\"surface\":[{\"type\":\"surface\",\"colorbar\":{\"outlinewidth\":0,\"ticks\":\"\"},\"colorscale\":[[0.0,\"#0d0887\"],[0.1111111111111111,\"#46039f\"],[0.2222222222222222,\"#7201a8\"],[0.3333333333333333,\"#9c179e\"],[0.4444444444444444,\"#bd3786\"],[0.5555555555555556,\"#d8576b\"],[0.6666666666666666,\"#ed7953\"],[0.7777777777777778,\"#fb9f3a\"],[0.8888888888888888,\"#fdca26\"],[1.0,\"#f0f921\"]]}],\"mesh3d\":[{\"type\":\"mesh3d\",\"colorbar\":{\"outlinewidth\":0,\"ticks\":\"\"}}],\"scatter\":[{\"fillpattern\":{\"fillmode\":\"overlay\",\"size\":10,\"solidity\":0.2},\"type\":\"scatter\"}],\"parcoords\":[{\"type\":\"parcoords\",\"line\":{\"colorbar\":{\"outlinewidth\":0,\"ticks\":\"\"}}}],\"scatterpolargl\":[{\"type\":\"scatterpolargl\",\"marker\":{\"colorbar\":{\"outlinewidth\":0,\"ticks\":\"\"}}}],\"bar\":[{\"error_x\":{\"color\":\"#2a3f5f\"},\"error_y\":{\"color\":\"#2a3f5f\"},\"marker\":{\"line\":{\"color\":\"#E5ECF6\",\"width\":0.5},\"pattern\":{\"fillmode\":\"overlay\",\"size\":10,\"solidity\":0.2}},\"type\":\"bar\"}],\"scattergeo\":[{\"type\":\"scattergeo\",\"marker\":{\"colorbar\":{\"outlinewidth\":0,\"ticks\":\"\"}}}],\"scatterpolar\":[{\"type\":\"scatterpolar\",\"marker\":{\"colorbar\":{\"outlinewidth\":0,\"ticks\":\"\"}}}],\"histogram\":[{\"marker\":{\"pattern\":{\"fillmode\":\"overlay\",\"size\":10,\"solidity\":0.2}},\"type\":\"histogram\"}],\"scattergl\":[{\"type\":\"scattergl\",\"marker\":{\"colorbar\":{\"outlinewidth\":0,\"ticks\":\"\"}}}],\"scatter3d\":[{\"type\":\"scatter3d\",\"line\":{\"colorbar\":{\"outlinewidth\":0,\"ticks\":\"\"}},\"marker\":{\"colorbar\":{\"outlinewidth\":0,\"ticks\":\"\"}}}],\"scattermapbox\":[{\"type\":\"scattermapbox\",\"marker\":{\"colorbar\":{\"outlinewidth\":0,\"ticks\":\"\"}}}],\"scatterternary\":[{\"type\":\"scatterternary\",\"marker\":{\"colorbar\":{\"outlinewidth\":0,\"ticks\":\"\"}}}],\"scattercarpet\":[{\"type\":\"scattercarpet\",\"marker\":{\"colorbar\":{\"outlinewidth\":0,\"ticks\":\"\"}}}],\"carpet\":[{\"aaxis\":{\"endlinecolor\":\"#2a3f5f\",\"gridcolor\":\"white\",\"linecolor\":\"white\",\"minorgridcolor\":\"white\",\"startlinecolor\":\"#2a3f5f\"},\"baxis\":{\"endlinecolor\":\"#2a3f5f\",\"gridcolor\":\"white\",\"linecolor\":\"white\",\"minorgridcolor\":\"white\",\"startlinecolor\":\"#2a3f5f\"},\"type\":\"carpet\"}],\"table\":[{\"cells\":{\"fill\":{\"color\":\"#EBF0F8\"},\"line\":{\"color\":\"white\"}},\"header\":{\"fill\":{\"color\":\"#C8D4E3\"},\"line\":{\"color\":\"white\"}},\"type\":\"table\"}],\"barpolar\":[{\"marker\":{\"line\":{\"color\":\"#E5ECF6\",\"width\":0.5},\"pattern\":{\"fillmode\":\"overlay\",\"size\":10,\"solidity\":0.2}},\"type\":\"barpolar\"}],\"pie\":[{\"automargin\":true,\"type\":\"pie\"}]},\"layout\":{\"autotypenumbers\":\"strict\",\"colorway\":[\"#636efa\",\"#EF553B\",\"#00cc96\",\"#ab63fa\",\"#FFA15A\",\"#19d3f3\",\"#FF6692\",\"#B6E880\",\"#FF97FF\",\"#FECB52\"],\"font\":{\"color\":\"#2a3f5f\"},\"hovermode\":\"closest\",\"hoverlabel\":{\"align\":\"left\"},\"paper_bgcolor\":\"white\",\"plot_bgcolor\":\"#E5ECF6\",\"polar\":{\"bgcolor\":\"#E5ECF6\",\"angularaxis\":{\"gridcolor\":\"white\",\"linecolor\":\"white\",\"ticks\":\"\"},\"radialaxis\":{\"gridcolor\":\"white\",\"linecolor\":\"white\",\"ticks\":\"\"}},\"ternary\":{\"bgcolor\":\"#E5ECF6\",\"aaxis\":{\"gridcolor\":\"white\",\"linecolor\":\"white\",\"ticks\":\"\"},\"baxis\":{\"gridcolor\":\"white\",\"linecolor\":\"white\",\"ticks\":\"\"},\"caxis\":{\"gridcolor\":\"white\",\"linecolor\":\"white\",\"ticks\":\"\"}},\"coloraxis\":{\"colorbar\":{\"outlinewidth\":0,\"ticks\":\"\"}},\"colorscale\":{\"sequential\":[[0.0,\"#0d0887\"],[0.1111111111111111,\"#46039f\"],[0.2222222222222222,\"#7201a8\"],[0.3333333333333333,\"#9c179e\"],[0.4444444444444444,\"#bd3786\"],[0.5555555555555556,\"#d8576b\"],[0.6666666666666666,\"#ed7953\"],[0.7777777777777778,\"#fb9f3a\"],[0.8888888888888888,\"#fdca26\"],[1.0,\"#f0f921\"]],\"sequentialminus\":[[0.0,\"#0d0887\"],[0.1111111111111111,\"#46039f\"],[0.2222222222222222,\"#7201a8\"],[0.3333333333333333,\"#9c179e\"],[0.4444444444444444,\"#bd3786\"],[0.5555555555555556,\"#d8576b\"],[0.6666666666666666,\"#ed7953\"],[0.7777777777777778,\"#fb9f3a\"],[0.8888888888888888,\"#fdca26\"],[1.0,\"#f0f921\"]],\"diverging\":[[0,\"#8e0152\"],[0.1,\"#c51b7d\"],[0.2,\"#de77ae\"],[0.3,\"#f1b6da\"],[0.4,\"#fde0ef\"],[0.5,\"#f7f7f7\"],[0.6,\"#e6f5d0\"],[0.7,\"#b8e186\"],[0.8,\"#7fbc41\"],[0.9,\"#4d9221\"],[1,\"#276419\"]]},\"xaxis\":{\"gridcolor\":\"white\",\"linecolor\":\"white\",\"ticks\":\"\",\"title\":{\"standoff\":15},\"zerolinecolor\":\"white\",\"automargin\":true,\"zerolinewidth\":2},\"yaxis\":{\"gridcolor\":\"white\",\"linecolor\":\"white\",\"ticks\":\"\",\"title\":{\"standoff\":15},\"zerolinecolor\":\"white\",\"automargin\":true,\"zerolinewidth\":2},\"scene\":{\"xaxis\":{\"backgroundcolor\":\"#E5ECF6\",\"gridcolor\":\"white\",\"linecolor\":\"white\",\"showbackground\":true,\"ticks\":\"\",\"zerolinecolor\":\"white\",\"gridwidth\":2},\"yaxis\":{\"backgroundcolor\":\"#E5ECF6\",\"gridcolor\":\"white\",\"linecolor\":\"white\",\"showbackground\":true,\"ticks\":\"\",\"zerolinecolor\":\"white\",\"gridwidth\":2},\"zaxis\":{\"backgroundcolor\":\"#E5ECF6\",\"gridcolor\":\"white\",\"linecolor\":\"white\",\"showbackground\":true,\"ticks\":\"\",\"zerolinecolor\":\"white\",\"gridwidth\":2}},\"shapedefaults\":{\"line\":{\"color\":\"#2a3f5f\"}},\"annotationdefaults\":{\"arrowcolor\":\"#2a3f5f\",\"arrowhead\":0,\"arrowwidth\":1},\"geo\":{\"bgcolor\":\"white\",\"landcolor\":\"#E5ECF6\",\"subunitcolor\":\"white\",\"showland\":true,\"showlakes\":true,\"lakecolor\":\"white\"},\"title\":{\"x\":0.05},\"mapbox\":{\"style\":\"light\"}}},\"xaxis\":{\"anchor\":\"y\",\"domain\":[0.0,0.45]},\"yaxis\":{\"anchor\":\"x\",\"domain\":[0.625,1.0]},\"xaxis2\":{\"anchor\":\"y2\",\"domain\":[0.55,1.0]},\"yaxis2\":{\"anchor\":\"x2\",\"domain\":[0.625,1.0]},\"xaxis3\":{\"anchor\":\"y3\",\"domain\":[0.0,0.45],\"title\":{\"text\":\"Age\"}},\"yaxis3\":{\"anchor\":\"x3\",\"domain\":[0.0,0.375],\"title\":{\"text\":\"Mean listen time\"}},\"xaxis4\":{\"anchor\":\"y4\",\"domain\":[0.55,1.0]},\"yaxis4\":{\"anchor\":\"x4\",\"domain\":[0.0,0.375]},\"annotations\":[{\"font\":{\"size\":16},\"showarrow\":false,\"text\":\"Age\",\"x\":0.225,\"xanchor\":\"center\",\"xref\":\"paper\",\"y\":1.0,\"yanchor\":\"bottom\",\"yref\":\"paper\"},{\"font\":{\"size\":16},\"showarrow\":false,\"text\":\"Hours per day\",\"x\":0.775,\"xanchor\":\"center\",\"xref\":\"paper\",\"y\":1.0,\"yanchor\":\"bottom\",\"yref\":\"paper\"},{\"font\":{\"size\":16},\"showarrow\":false,\"text\":\"Hours per day by Age\",\"x\":0.225,\"xanchor\":\"center\",\"xref\":\"paper\",\"y\":0.375,\"yanchor\":\"bottom\",\"yref\":\"paper\"}],\"showlegend\":false,\"height\":650,\"width\":800},                        {\"responsive\": true}                    ).then(function(){\n",
              "                            \n",
              "var gd = document.getElementById('bbf75581-3ded-48cd-94dc-67f0d3693a44');\n",
              "var x = new MutationObserver(function (mutations, observer) {{\n",
              "        var display = window.getComputedStyle(gd).display;\n",
              "        if (!display || display === 'none') {{\n",
              "            console.log([gd, 'removed!']);\n",
              "            Plotly.purge(gd);\n",
              "            observer.disconnect();\n",
              "        }}\n",
              "}});\n",
              "\n",
              "// Listen for the removal of the full notebook cells\n",
              "var notebookContainer = gd.closest('#notebook-container');\n",
              "if (notebookContainer) {{\n",
              "    x.observe(notebookContainer, {childList: true});\n",
              "}}\n",
              "\n",
              "// Listen for the clearing of the current output cell\n",
              "var outputEl = gd.closest('.output');\n",
              "if (outputEl) {{\n",
              "    x.observe(outputEl, {childList: true});\n",
              "}}\n",
              "\n",
              "                        })                };                            </script>        </div>\n",
              "</body>\n",
              "</html>"
            ]
          },
          "metadata": {}
        }
      ]
    },
    {
      "cell_type": "markdown",
      "source": [
        "### Cechy"
      ],
      "metadata": {
        "id": "kb1bVHQchr_c"
      }
    },
    {
      "cell_type": "code",
      "source": [
        "person_info = df[['Instrumentalist','Composer','While working', 'Exploratory', 'Foreign languages']]\n",
        "\n",
        "figure = make_subplots(rows=2, cols=3, subplot_titles=person_info.columns)\n",
        "\n",
        "for i, col_name in enumerate(person_info.columns):\n",
        "  row = i // 3 + 1\n",
        "  column = i % 3 + 1\n",
        "  figure.add_trace(\n",
        "    go.Histogram(x=person_info[col_name],name=col_name),\n",
        "    row=row, col=column)\n",
        "\n",
        "figure.update_layout(\n",
        "    title='Histogram cech',\n",
        "    showlegend=False,\n",
        "    height=600,\n",
        "    width=800\n",
        ")"
      ],
      "metadata": {
        "colab": {
          "base_uri": "https://localhost:8080/",
          "height": 617
        },
        "id": "gw5FjOwDKvkr",
        "outputId": "2f7c0abb-e87d-4fda-bf42-2974347e192d"
      },
      "execution_count": 99,
      "outputs": [
        {
          "output_type": "display_data",
          "data": {
            "text/html": [
              "<html>\n",
              "<head><meta charset=\"utf-8\" /></head>\n",
              "<body>\n",
              "    <div>            <script src=\"https://cdnjs.cloudflare.com/ajax/libs/mathjax/2.7.5/MathJax.js?config=TeX-AMS-MML_SVG\"></script><script type=\"text/javascript\">if (window.MathJax && window.MathJax.Hub && window.MathJax.Hub.Config) {window.MathJax.Hub.Config({SVG: {font: \"STIX-Web\"}});}</script>                <script type=\"text/javascript\">window.PlotlyConfig = {MathJaxConfig: 'local'};</script>\n",
              "        <script charset=\"utf-8\" src=\"https://cdn.plot.ly/plotly-2.35.2.min.js\"></script>                <div id=\"cc148aa8-9608-41f8-ac36-cb917128377d\" class=\"plotly-graph-div\" style=\"height:600px; width:800px;\"></div>            <script type=\"text/javascript\">                                    window.PLOTLYENV=window.PLOTLYENV || {};                                    if (document.getElementById(\"cc148aa8-9608-41f8-ac36-cb917128377d\")) {                    Plotly.newPlot(                        \"cc148aa8-9608-41f8-ac36-cb917128377d\",                        [{\"name\":\"Instrumentalist\",\"x\":[\"Yes\",\"No\",\"No\",\"No\",\"No\",\"Yes\",\"Yes\",\"No\",\"No\",\"No\",\"Yes\",\"No\",\"No\",\"Yes\",\"No\",\"No\",\"No\",\"No\",\"No\",\"No\",\"No\",\"No\",\"No\",\"Yes\",\"No\",\"Yes\",\"Yes\",\"Yes\",\"No\",\"Yes\",\"No\",\"Yes\",\"No\",\"No\",\"Yes\",\"No\",\"No\",\"No\",\"No\",\"Yes\",\"Yes\",\"No\",\"No\",\"No\",\"Yes\",\"Yes\",\"No\",\"No\",\"No\",\"Yes\",\"No\",\"No\",\"No\",\"No\",\"Yes\",\"No\",\"No\",\"No\",\"Yes\",\"Yes\",\"Yes\",\"Yes\",\"No\",\"No\",\"No\",\"No\",\"No\",\"Yes\",\"Yes\",\"No\",\"No\",\"No\",\"Yes\",\"No\",\"Yes\",\"No\",\"No\",\"No\",\"No\",\"Yes\",\"No\",\"No\",\"Yes\",\"No\",\"No\",\"Yes\",\"No\",\"No\",\"No\",\"Yes\",\"Yes\",\"No\",\"No\",\"No\",\"No\",\"No\",\"No\",\"No\",\"No\",\"Yes\",\"Yes\",\"No\",\"No\",\"No\",\"Yes\",\"No\",\"Yes\",\"No\",\"No\",\"No\",\"No\",\"No\",\"Yes\",\"No\",\"No\",\"Yes\",\"No\",\"No\",\"No\",\"No\",\"No\",\"Yes\",\"No\",\"No\",\"Yes\",\"Yes\",\"Yes\",\"No\",\"No\",\"Yes\",\"No\",\"No\",\"No\",\"Yes\",\"Yes\",\"Yes\",\"Yes\",\"No\",\"No\",\"No\",\"No\",\"No\",\"No\",\"No\",\"No\",\"Yes\",\"Yes\",\"Yes\",\"No\",\"No\",\"Yes\",\"No\",\"Yes\",\"No\",\"Yes\",\"Yes\",\"No\",\"No\",\"Yes\",\"No\",\"No\",\"No\",\"Yes\",\"No\",\"No\",\"No\",\"No\",\"Yes\",\"Yes\",\"No\",\"No\",\"No\",\"No\",\"Yes\",\"No\",\"No\",\"No\",\"Yes\",\"No\",\"No\",\"No\",\"No\",\"No\",\"Yes\",\"No\",\"No\",\"Yes\",\"No\",\"Yes\",\"Yes\",\"No\",\"Yes\",\"No\",\"Yes\",\"No\",\"No\",\"No\",\"No\",\"No\",\"No\",\"No\",\"No\",\"No\",\"No\",\"Yes\",\"No\",\"No\",\"No\",\"Yes\",\"No\",\"No\",\"No\",\"No\",\"No\",\"No\",\"No\",\"Yes\",\"No\",\"Yes\",\"Yes\",\"No\",\"No\",\"No\",\"No\",\"No\",\"No\",\"No\",\"No\",\"No\",\"Yes\",\"No\",\"Yes\",\"No\",\"No\",\"Yes\",\"No\",\"No\",\"Yes\",\"No\",\"Yes\",\"Yes\",\"Yes\",\"No\",\"No\",\"Yes\",\"Yes\",\"No\",\"Yes\",\"No\",\"No\",\"Yes\",\"No\",\"No\",\"No\",\"Yes\",\"No\",\"No\",\"No\",\"No\",\"No\",\"Yes\",\"No\",\"No\",\"No\",\"No\",\"Yes\",\"Yes\",\"No\",\"No\",\"Yes\",\"No\",\"No\",\"No\",\"No\",\"No\",\"No\",\"Yes\",\"Yes\",\"No\",\"No\",\"Yes\",\"No\",\"No\",\"Yes\",\"Yes\",\"No\",\"Yes\",\"No\",\"No\",\"No\",\"No\",\"Yes\",\"No\",\"Yes\",\"Yes\",\"Yes\",\"Yes\",\"No\",\"Yes\",\"No\",\"Yes\",\"No\",\"Yes\",\"No\",\"No\",\"Yes\",\"No\",\"No\",\"No\",\"No\",\"Yes\",\"No\",\"No\",\"No\",\"No\",\"Yes\",\"No\",\"No\",\"No\",\"No\",\"No\",\"No\",\"No\",\"No\",\"Yes\",\"No\",\"No\",\"Yes\",\"No\",\"Yes\",\"No\",\"No\",\"No\",\"No\",\"No\",\"No\",\"No\",\"No\",\"Yes\",\"No\",\"No\",\"No\",\"Yes\",\"No\",\"No\",\"Yes\",\"No\",\"Yes\",\"No\",\"No\",\"No\",\"Yes\",\"No\",\"No\",\"No\",\"Yes\",\"Yes\",\"No\",\"Yes\",\"No\",\"No\",\"No\",\"No\",\"No\",\"No\",\"No\",\"No\",\"Yes\",\"Yes\",\"No\",\"Yes\",\"No\",\"No\",\"No\",\"No\",\"No\",\"Yes\",\"Yes\",\"Yes\",\"No\",\"No\",\"No\",\"Yes\",\"Yes\",\"Yes\",\"No\",\"Yes\",\"No\",\"Yes\",\"No\",\"No\",\"Yes\",\"Yes\",\"No\",\"Yes\",\"Yes\",\"Yes\",\"No\",\"Yes\",\"No\",\"No\",\"Yes\",\"No\",\"No\",\"Yes\",\"Yes\",\"No\",\"No\",\"Yes\",\"Yes\",\"Yes\",\"No\",\"Yes\",\"Yes\",\"Yes\",\"Yes\",\"Yes\",\"Yes\",\"No\",\"No\",\"Yes\",\"Yes\",\"Yes\",\"Yes\",\"No\",\"No\",\"Yes\",\"Yes\",\"No\",\"No\",\"Yes\",\"Yes\",\"Yes\",\"No\",\"Yes\",\"No\",\"No\",\"No\",\"No\",\"No\",\"Yes\",\"No\",\"No\",\"No\",\"No\",\"No\",\"No\",\"No\",\"No\",\"No\",\"No\",\"No\",\"No\",\"No\",\"Yes\",\"No\",\"Yes\",\"Yes\",\"No\",\"No\",\"No\",\"No\",\"No\",\"No\",\"No\",\"No\",\"No\",\"No\",\"No\",\"No\",\"Yes\",\"Yes\",\"No\",\"Yes\",\"No\",\"No\",\"No\",\"Yes\",\"No\",\"No\",\"No\",\"Yes\",\"No\",\"No\",\"No\",\"Yes\",\"Yes\",\"Yes\",\"No\",\"No\",\"Yes\",\"No\",\"No\",\"No\",\"No\",\"No\",\"Yes\",\"No\",\"No\",\"No\",\"No\",\"No\",\"No\",\"No\",\"No\",\"No\",\"No\",\"No\",\"No\",\"No\",\"No\",\"No\",\"No\",\"No\",\"No\",\"No\",\"No\",\"No\",\"No\",\"Yes\",\"No\",\"No\",\"No\",\"Yes\",\"Yes\",\"No\",\"Yes\",\"No\",\"No\",\"No\",\"No\",\"No\",\"Yes\",\"No\",\"No\",\"No\",\"No\",\"Yes\",\"No\",\"Yes\",\"No\",\"Yes\",\"Yes\",\"No\",\"No\",\"Yes\",\"No\",\"No\",\"Yes\",\"No\",\"No\",\"No\",\"No\",\"No\",\"No\",\"No\",\"No\",\"Yes\",\"Yes\",\"No\",\"No\",\"No\",\"Yes\",\"Yes\",\"No\",\"No\",\"No\",\"No\",\"No\",\"No\",\"No\",\"No\",\"No\",\"Yes\",\"No\",\"No\",\"No\",\"No\",\"No\",\"No\",\"No\",\"Yes\",\"Yes\",\"No\",\"Yes\",\"Yes\",\"Yes\",\"No\",\"No\",\"Yes\",\"No\",\"No\",\"No\",\"Yes\",\"No\",\"No\",\"Yes\",\"Yes\",\"No\",\"Yes\",\"No\",\"No\",\"No\",\"Yes\",\"Yes\",\"No\",\"No\",\"Yes\",\"Yes\",\"No\",\"No\",\"No\",\"No\",\"No\",\"No\",\"No\",\"Yes\",\"No\",\"Yes\",\"No\",\"Yes\",\"No\",\"No\",\"No\",\"No\",\"No\",\"Yes\",\"No\",\"No\",\"Yes\",\"No\",\"No\",\"No\",\"Yes\",\"Yes\",\"No\",\"No\",\"No\",\"No\",\"No\",\"No\",\"No\",\"Yes\",\"No\",\"No\",\"No\",\"No\",\"No\",\"No\",\"No\",\"Yes\",\"No\",\"No\",\"No\",\"Yes\",\"No\",\"No\",\"No\",\"No\",\"Yes\",\"No\",\"No\",\"No\",\"Yes\",\"No\",\"Yes\",\"No\",\"No\",\"No\",\"No\",\"No\",\"Yes\",\"Yes\",\"Yes\",\"Yes\",\"No\",\"No\",\"No\",\"No\",\"No\",\"No\",\"Yes\",\"No\",\"No\",\"No\",\"No\",\"Yes\",\"No\",\"No\",\"No\",\"No\",\"No\",\"Yes\",\"Yes\",\"Yes\",\"Yes\",\"Yes\",\"Yes\",\"No\",\"No\",\"Yes\",\"No\",\"No\",\"Yes\",\"Yes\",\"Yes\",\"No\",\"No\",\"Yes\",\"Yes\",\"No\",\"No\",\"No\",\"No\",\"Yes\",\"No\",\"No\",\"Yes\",\"No\",\"No\",\"Yes\",\"No\",\"No\",\"No\",\"No\",\"No\",\"No\",\"Yes\",\"No\",\"No\",\"Yes\",\"Yes\",\"No\",\"Yes\",\"No\"],\"type\":\"histogram\",\"xaxis\":\"x\",\"yaxis\":\"y\"},{\"name\":\"Composer\",\"x\":[\"Yes\",\"No\",\"No\",\"Yes\",\"No\",\"Yes\",\"No\",\"No\",\"No\",\"No\",\"No\",\"No\",\"No\",\"No\",\"No\",\"No\",\"Yes\",\"No\",\"No\",\"No\",\"No\",\"No\",\"No\",\"Yes\",\"No\",\"Yes\",\"Yes\",\"No\",\"No\",\"No\",\"No\",\"No\",\"No\",\"No\",\"No\",\"No\",\"No\",\"No\",\"No\",\"Yes\",\"No\",\"No\",\"No\",\"No\",\"Yes\",\"Yes\",\"No\",\"Yes\",\"No\",\"No\",\"No\",\"No\",\"No\",\"Yes\",\"No\",\"No\",\"No\",\"No\",\"No\",\"No\",\"No\",\"No\",\"No\",\"No\",\"No\",\"No\",\"No\",\"Yes\",\"Yes\",\"No\",\"No\",\"No\",\"Yes\",\"No\",\"Yes\",\"No\",\"No\",\"No\",\"No\",\"Yes\",\"No\",\"No\",\"Yes\",\"No\",\"No\",\"No\",\"No\",\"No\",\"No\",\"No\",\"Yes\",\"No\",\"No\",\"No\",\"No\",\"Yes\",\"No\",\"No\",\"No\",\"Yes\",\"No\",\"No\",\"No\",\"No\",\"No\",\"No\",\"No\",\"No\",\"Yes\",\"No\",\"No\",\"No\",\"No\",\"No\",\"No\",\"No\",\"Yes\",\"No\",\"No\",\"No\",\"No\",\"Yes\",\"No\",\"No\",\"Yes\",\"Yes\",\"Yes\",\"No\",\"No\",\"No\",\"No\",\"No\",\"No\",\"No\",\"No\",\"No\",\"No\",\"Yes\",\"No\",\"No\",\"No\",\"No\",\"No\",\"No\",\"No\",\"Yes\",\"Yes\",\"No\",\"No\",\"No\",\"Yes\",\"No\",\"No\",\"No\",\"No\",\"No\",\"No\",\"No\",\"No\",\"No\",\"No\",\"No\",\"Yes\",\"No\",\"Yes\",\"No\",\"No\",\"No\",\"No\",\"No\",\"No\",\"No\",\"Yes\",\"Yes\",\"No\",\"No\",\"No\",\"Yes\",\"No\",\"No\",\"No\",\"No\",\"No\",\"No\",\"No\",\"No\",\"No\",\"No\",\"Yes\",\"No\",\"No\",\"No\",\"No\",\"No\",\"No\",\"No\",\"No\",\"No\",\"No\",\"No\",\"No\",\"Yes\",\"No\",\"No\",\"Yes\",\"Yes\",\"No\",\"No\",\"No\",\"No\",\"No\",\"No\",\"No\",\"No\",\"No\",\"No\",\"No\",\"No\",\"Yes\",\"No\",\"No\",\"No\",\"No\",\"No\",\"No\",\"No\",\"No\",\"No\",\"No\",\"No\",\"No\",\"Yes\",\"No\",\"No\",\"No\",\"Yes\",\"No\",\"Yes\",\"Yes\",\"No\",\"Yes\",\"Yes\",\"No\",\"No\",\"No\",\"No\",\"No\",\"Yes\",\"No\",\"Yes\",\"No\",\"No\",\"No\",\"No\",\"No\",\"No\",\"No\",\"No\",\"No\",\"No\",\"No\",\"No\",\"No\",\"No\",\"No\",\"No\",\"No\",\"Yes\",\"No\",\"No\",\"No\",\"No\",\"Yes\",\"No\",\"No\",\"No\",\"Yes\",\"Yes\",\"No\",\"Yes\",\"Yes\",\"No\",\"No\",\"No\",\"Yes\",\"No\",\"Yes\",\"No\",\"No\",\"No\",\"No\",\"Yes\",\"No\",\"No\",\"No\",\"No\",\"No\",\"No\",\"Yes\",\"No\",\"Yes\",\"No\",\"No\",\"Yes\",\"No\",\"No\",\"No\",\"No\",\"No\",\"No\",\"Yes\",\"No\",\"No\",\"No\",\"No\",\"No\",\"No\",\"No\",\"Yes\",\"No\",\"No\",\"No\",\"No\",\"No\",\"Yes\",\"No\",\"No\",\"No\",\"No\",\"Yes\",\"No\",\"No\",\"No\",\"No\",\"No\",\"No\",\"No\",\"No\",\"No\",\"No\",\"No\",\"No\",\"Yes\",\"No\",\"No\",\"No\",\"Yes\",\"No\",\"No\",\"No\",\"No\",\"No\",\"No\",\"No\",\"No\",\"No\",\"No\",\"No\",\"Yes\",\"No\",\"No\",\"No\",\"No\",\"No\",\"No\",\"No\",\"No\",\"No\",\"No\",\"No\",\"No\",\"No\",\"No\",\"No\",\"No\",\"Yes\",\"Yes\",\"No\",\"No\",\"No\",\"No\",\"No\",\"No\",\"Yes\",\"Yes\",\"No\",\"No\",\"No\",\"No\",\"No\",\"No\",\"No\",\"Yes\",\"Yes\",\"No\",\"No\",\"No\",\"No\",\"No\",\"No\",\"No\",\"No\",\"No\",\"No\",\"No\",\"No\",\"No\",\"Yes\",\"Yes\",\"Yes\",\"Yes\",\"No\",\"No\",\"No\",\"Yes\",\"Yes\",\"Yes\",\"No\",\"No\",\"No\",\"No\",\"No\",\"Yes\",\"Yes\",\"No\",\"No\",\"No\",\"Yes\",\"No\",\"No\",\"No\",\"No\",\"Yes\",\"No\",\"No\",\"No\",\"No\",\"No\",\"Yes\",\"No\",\"No\",\"No\",\"No\",\"Yes\",\"No\",\"No\",\"No\",\"No\",\"No\",\"No\",\"No\",\"No\",\"No\",\"No\",\"No\",\"No\",\"No\",\"Yes\",\"No\",\"No\",\"No\",\"No\",\"No\",\"No\",\"No\",\"No\",\"No\",\"No\",\"No\",\"No\",\"No\",\"No\",\"No\",\"Yes\",\"No\",\"No\",\"No\",\"Yes\",\"No\",\"No\",\"No\",\"No\",\"No\",\"No\",\"No\",\"No\",\"No\",\"No\",\"No\",\"No\",\"Yes\",\"Yes\",\"No\",\"No\",\"No\",\"No\",\"Yes\",\"No\",\"No\",\"No\",\"No\",\"No\",\"No\",\"No\",\"No\",\"No\",\"No\",\"No\",\"No\",\"No\",\"No\",\"No\",\"No\",\"No\",\"No\",\"No\",\"No\",\"No\",\"No\",\"No\",\"No\",\"No\",\"No\",\"Yes\",\"No\",\"No\",\"No\",\"Yes\",\"No\",\"No\",\"No\",\"No\",\"No\",\"No\",\"No\",\"No\",\"No\",\"Yes\",\"No\",\"Yes\",\"No\",\"No\",\"No\",\"No\",\"No\",\"Yes\",\"No\",\"No\",\"No\",\"Yes\",\"No\",\"No\",\"No\",\"No\",\"Yes\",\"No\",\"No\",\"Yes\",\"No\",\"No\",\"No\",\"No\",\"No\",\"Yes\",\"No\",\"No\",\"No\",\"No\",\"No\",\"No\",\"No\",\"No\",\"No\",\"No\",\"No\",\"No\",\"No\",\"No\",\"No\",\"No\",\"No\",\"No\",\"Yes\",\"No\",\"No\",\"Yes\",\"Yes\",\"No\",\"No\",\"No\",\"No\",\"No\",\"No\",\"Yes\",\"No\",\"No\",\"No\",\"No\",\"No\",\"No\",\"No\",\"No\",\"No\",\"No\",\"No\",\"No\",\"No\",\"Yes\",\"No\",\"No\",\"No\",\"No\",\"No\",\"No\",\"No\",\"No\",\"No\",\"No\",\"Yes\",\"No\",\"Yes\",\"No\",\"No\",\"Yes\",\"No\",\"No\",\"No\",\"No\",\"No\",\"No\",\"No\",\"No\",\"No\",\"No\",\"Yes\",\"No\",\"No\",\"Yes\",\"No\",\"No\",\"No\",\"No\",\"No\",\"No\",\"No\",\"No\",\"No\",\"No\",\"No\",\"No\",\"No\",\"No\",\"No\",\"No\",\"Yes\",\"No\",\"No\",\"No\",\"No\",\"Yes\",\"No\",\"No\",\"No\",\"Yes\",\"No\",\"No\",\"No\",\"No\",\"No\",\"No\",\"No\",\"Yes\",\"Yes\",\"No\",\"No\",\"No\",\"No\",\"Yes\",\"No\",\"No\",\"No\",\"No\",\"No\",\"No\",\"No\",\"No\",\"No\",\"No\",\"No\",\"No\",\"No\",\"No\",\"Yes\",\"No\",\"Yes\",\"Yes\",\"No\",\"Yes\",\"No\",\"No\",\"No\",\"No\",\"No\",\"No\",\"No\",\"No\",\"No\",\"No\",\"Yes\",\"Yes\",\"No\",\"No\",\"No\",\"No\",\"Yes\",\"No\",\"No\",\"No\",\"No\",\"No\",\"No\",\"No\",\"No\",\"No\",\"No\",\"No\",\"No\",\"No\",\"No\",\"No\",\"No\",\"No\",\"Yes\",\"No\",\"No\"],\"type\":\"histogram\",\"xaxis\":\"x2\",\"yaxis\":\"y2\"},{\"name\":\"While working\",\"x\":[\"Yes\",\"Yes\",\"No\",\"Yes\",\"Yes\",\"Yes\",\"Yes\",\"Yes\",\"Yes\",\"Yes\",\"Yes\",\"Yes\",\"Yes\",\"Yes\",\"No\",\"Yes\",\"Yes\",\"Yes\",\"No\",\"Yes\",\"Yes\",\"Yes\",\"Yes\",\"Yes\",\"No\",\"Yes\",\"Yes\",\"Yes\",\"Yes\",\"Yes\",\"Yes\",\"Yes\",\"No\",\"Yes\",\"Yes\",\"Yes\",\"Yes\",\"No\",\"Yes\",\"Yes\",\"Yes\",\"No\",\"Yes\",\"Yes\",\"Yes\",\"No\",\"Yes\",\"Yes\",\"Yes\",\"Yes\",\"Yes\",\"No\",\"Yes\",\"Yes\",\"Yes\",\"Yes\",\"Yes\",\"Yes\",\"Yes\",\"No\",\"No\",\"Yes\",\"No\",\"Yes\",\"Yes\",\"No\",\"No\",\"Yes\",\"Yes\",\"Yes\",\"Yes\",\"Yes\",\"Yes\",\"No\",\"Yes\",\"Yes\",\"Yes\",\"No\",\"Yes\",\"No\",\"Yes\",\"Yes\",\"Yes\",\"Yes\",\"Yes\",\"Yes\",\"No\",\"No\",\"Yes\",\"Yes\",\"Yes\",\"Yes\",\"Yes\",\"Yes\",\"Yes\",\"No\",\"No\",\"Yes\",\"Yes\",\"No\",\"No\",\"Yes\",\"No\",\"Yes\",\"Yes\",\"Yes\",\"Yes\",\"Yes\",\"Yes\",\"Yes\",\"No\",\"Yes\",\"Yes\",\"Yes\",\"Yes\",\"No\",\"No\",\"Yes\",\"No\",\"No\",\"Yes\",\"Yes\",\"No\",\"Yes\",\"No\",\"Yes\",\"Yes\",\"No\",\"Yes\",\"Yes\",\"Yes\",\"Yes\",\"No\",\"Yes\",\"Yes\",\"Yes\",\"Yes\",\"Yes\",\"Yes\",\"Yes\",\"Yes\",\"Yes\",\"Yes\",\"Yes\",\"No\",\"Yes\",\"Yes\",\"Yes\",\"Yes\",\"Yes\",\"Yes\",\"Yes\",\"No\",\"No\",\"Yes\",\"Yes\",\"Yes\",\"Yes\",\"Yes\",\"No\",\"Yes\",\"Yes\",\"Yes\",\"Yes\",\"No\",\"Yes\",\"Yes\",\"Yes\",\"Yes\",\"Yes\",\"Yes\",\"Yes\",\"No\",\"No\",\"Yes\",\"Yes\",\"Yes\",\"Yes\",\"No\",\"Yes\",\"No\",\"Yes\",\"Yes\",\"Yes\",\"No\",\"Yes\",\"Yes\",\"Yes\",\"Yes\",\"Yes\",\"Yes\",\"Yes\",\"Yes\",\"No\",\"Yes\",\"Yes\",\"Yes\",\"Yes\",\"Yes\",\"Yes\",\"Yes\",\"Yes\",\"Yes\",\"Yes\",\"Yes\",\"Yes\",\"No\",\"No\",\"No\",\"Yes\",\"No\",\"Yes\",\"No\",\"Yes\",\"Yes\",\"Yes\",\"Yes\",\"Yes\",\"Yes\",\"Yes\",\"Yes\",\"Yes\",\"Yes\",\"Yes\",\"Yes\",\"Yes\",\"No\",\"Yes\",\"Yes\",\"Yes\",\"Yes\",\"Yes\",\"No\",\"Yes\",\"No\",\"Yes\",\"No\",\"Yes\",\"Yes\",\"Yes\",\"Yes\",\"Yes\",\"Yes\",\"No\",\"Yes\",\"No\",\"No\",\"No\",\"Yes\",\"Yes\",\"Yes\",\"Yes\",\"Yes\",\"Yes\",\"Yes\",\"Yes\",\"Yes\",\"Yes\",\"No\",\"No\",\"Yes\",\"Yes\",\"No\",\"Yes\",\"No\",\"Yes\",\"Yes\",\"No\",\"No\",\"Yes\",\"Yes\",\"Yes\",\"Yes\",\"No\",\"No\",\"Yes\",\"No\",\"Yes\",\"Yes\",\"Yes\",\"Yes\",\"Yes\",\"Yes\",\"Yes\",\"Yes\",\"Yes\",\"Yes\",\"Yes\",\"Yes\",\"Yes\",\"No\",\"No\",\"No\",\"No\",\"Yes\",\"Yes\",\"Yes\",\"No\",\"Yes\",\"Yes\",\"Yes\",\"Yes\",\"Yes\",\"Yes\",\"Yes\",\"Yes\",\"Yes\",\"Yes\",\"Yes\",\"Yes\",\"Yes\",\"No\",\"No\",\"Yes\",\"Yes\",\"Yes\",\"Yes\",\"Yes\",\"Yes\",\"Yes\",\"Yes\",\"No\",\"Yes\",\"Yes\",\"Yes\",\"Yes\",\"No\",\"Yes\",\"Yes\",\"Yes\",\"Yes\",\"Yes\",\"Yes\",\"Yes\",\"Yes\",\"Yes\",\"Yes\",\"Yes\",\"No\",\"No\",\"Yes\",\"Yes\",\"Yes\",\"Yes\",\"Yes\",\"Yes\",\"Yes\",\"Yes\",\"Yes\",\"No\",\"Yes\",\"No\",\"Yes\",\"Yes\",\"Yes\",\"Yes\",\"Yes\",\"Yes\",\"Yes\",\"No\",\"Yes\",\"Yes\",\"Yes\",\"Yes\",\"Yes\",\"Yes\",\"Yes\",\"Yes\",\"Yes\",\"Yes\",\"Yes\",\"Yes\",\"Yes\",\"Yes\",\"Yes\",\"Yes\",\"Yes\",\"Yes\",\"Yes\",\"Yes\",\"Yes\",\"Yes\",\"No\",\"Yes\",\"Yes\",\"No\",\"Yes\",\"Yes\",\"Yes\",\"Yes\",\"Yes\",\"Yes\",\"Yes\",\"Yes\",\"Yes\",\"No\",\"Yes\",\"Yes\",\"Yes\",\"Yes\",\"No\",\"No\",\"No\",\"No\",\"Yes\",\"Yes\",\"Yes\",\"Yes\",\"Yes\",\"Yes\",\"Yes\",\"Yes\",\"Yes\",\"Yes\",\"Yes\",\"Yes\",\"Yes\",\"No\",\"No\",\"Yes\",\"Yes\",\"Yes\",\"Yes\",\"Yes\",\"No\",\"Yes\",\"Yes\",\"Yes\",\"Yes\",\"Yes\",\"No\",\"Yes\",\"Yes\",\"Yes\",\"Yes\",\"Yes\",\"No\",\"Yes\",\"No\",\"No\",\"Yes\",\"Yes\",\"Yes\",\"Yes\",\"Yes\",\"Yes\",\"Yes\",\"Yes\",\"Yes\",\"Yes\",\"Yes\",\"Yes\",\"Yes\",\"Yes\",\"No\",\"No\",\"Yes\",\"No\",\"Yes\",\"No\",\"No\",\"Yes\",\"No\",\"Yes\",\"No\",\"Yes\",\"No\",\"Yes\",\"No\",\"Yes\",\"No\",\"Yes\",\"Yes\",\"Yes\",\"Yes\",\"Yes\",\"Yes\",\"Yes\",\"Yes\",\"Yes\",\"Yes\",\"Yes\",\"No\",\"Yes\",\"Yes\",\"Yes\",\"Yes\",\"Yes\",\"Yes\",\"Yes\",\"No\",\"Yes\",\"Yes\",\"No\",\"Yes\",\"Yes\",\"No\",\"Yes\",\"Yes\",\"Yes\",\"Yes\",\"Yes\",\"Yes\",\"Yes\",\"No\",\"Yes\",\"Yes\",\"No\",\"No\",\"Yes\",\"No\",\"Yes\",\"Yes\",\"Yes\",\"Yes\",\"Yes\",\"Yes\",\"Yes\",\"No\",\"Yes\",\"Yes\",\"Yes\",\"Yes\",\"No\",\"Yes\",\"Yes\",\"Yes\",\"No\",\"No\",\"Yes\",\"Yes\",\"No\",\"Yes\",\"Yes\",\"Yes\",\"Yes\",\"No\",\"Yes\",\"No\",\"Yes\",\"Yes\",\"Yes\",\"Yes\",\"Yes\",\"No\",\"Yes\",\"Yes\",\"Yes\",\"No\",\"Yes\",\"Yes\",\"Yes\",\"Yes\",\"Yes\",\"Yes\",\"Yes\",\"Yes\",\"Yes\",\"Yes\",\"Yes\",\"Yes\",\"Yes\",\"Yes\",\"No\",\"Yes\",\"Yes\",\"Yes\",\"Yes\",\"No\",\"Yes\",\"Yes\",\"Yes\",\"Yes\",\"Yes\",\"Yes\",\"Yes\",\"Yes\",\"No\",\"Yes\",\"Yes\",\"No\",\"No\",\"Yes\",\"Yes\",\"No\",\"Yes\",\"Yes\",\"Yes\",\"Yes\",\"Yes\",\"Yes\",\"Yes\",\"Yes\",\"Yes\",\"Yes\",\"Yes\",\"Yes\",\"Yes\",\"Yes\",\"Yes\",\"Yes\",\"No\",\"No\",\"Yes\",\"Yes\",\"Yes\",\"No\",\"Yes\",\"Yes\",\"Yes\",\"Yes\",\"Yes\",\"Yes\",\"Yes\",\"Yes\",\"Yes\",\"Yes\",\"No\",\"Yes\",\"Yes\",\"Yes\",\"Yes\",\"Yes\",\"Yes\",\"Yes\",\"Yes\",\"Yes\",\"Yes\",\"No\",\"Yes\",\"Yes\",\"No\",\"Yes\",\"Yes\",\"Yes\",\"Yes\",\"Yes\",\"Yes\",\"No\",\"Yes\",\"Yes\",\"Yes\",\"No\",\"Yes\",\"No\",\"Yes\",\"Yes\",\"Yes\",\"No\",\"Yes\",\"Yes\",\"No\",\"Yes\",\"No\",\"Yes\",\"No\",\"Yes\",\"Yes\",\"No\",\"Yes\",\"Yes\",\"Yes\",\"No\",\"Yes\",\"Yes\",\"Yes\",\"Yes\",\"Yes\",\"Yes\",\"Yes\",\"Yes\",\"Yes\",\"Yes\",\"Yes\",\"Yes\",\"Yes\",\"No\",\"No\",\"Yes\",\"No\",\"No\",\"Yes\",\"Yes\",\"Yes\",\"Yes\",\"Yes\",\"No\",\"Yes\",\"Yes\",\"Yes\",\"Yes\",\"Yes\",\"Yes\",\"Yes\",\"Yes\",\"Yes\",\"No\",\"Yes\",\"Yes\",\"Yes\",\"Yes\",\"Yes\",\"No\",\"Yes\",\"Yes\",\"Yes\",\"No\",\"Yes\",\"Yes\",\"Yes\",\"Yes\",\"Yes\",\"Yes\",\"No\",\"Yes\",\"No\",\"No\",\"Yes\",\"Yes\",\"Yes\",\"Yes\",\"Yes\",\"Yes\",\"Yes\",\"Yes\",\"Yes\",\"Yes\",\"Yes\",\"No\",\"Yes\",\"Yes\",\"Yes\",\"Yes\",\"Yes\",\"Yes\"],\"type\":\"histogram\",\"xaxis\":\"x3\",\"yaxis\":\"y3\"},{\"name\":\"Exploratory\",\"x\":[\"Yes\",\"Yes\",\"No\",\"Yes\",\"Yes\",\"Yes\",\"Yes\",\"Yes\",\"No\",\"Yes\",\"Yes\",\"Yes\",\"Yes\",\"Yes\",\"Yes\",\"Yes\",\"Yes\",\"Yes\",\"No\",\"Yes\",\"Yes\",\"Yes\",\"No\",\"Yes\",\"Yes\",\"Yes\",\"No\",\"Yes\",\"Yes\",\"Yes\",\"No\",\"Yes\",\"Yes\",\"No\",\"Yes\",\"No\",\"Yes\",\"No\",\"Yes\",\"Yes\",\"Yes\",\"Yes\",\"Yes\",\"Yes\",\"No\",\"No\",\"Yes\",\"Yes\",\"No\",\"Yes\",\"Yes\",\"No\",\"Yes\",\"Yes\",\"Yes\",\"Yes\",\"No\",\"Yes\",\"No\",\"Yes\",\"Yes\",\"No\",\"No\",\"No\",\"Yes\",\"Yes\",\"Yes\",\"Yes\",\"Yes\",\"Yes\",\"Yes\",\"No\",\"Yes\",\"No\",\"Yes\",\"Yes\",\"Yes\",\"No\",\"Yes\",\"Yes\",\"Yes\",\"Yes\",\"Yes\",\"Yes\",\"No\",\"No\",\"No\",\"No\",\"No\",\"Yes\",\"Yes\",\"Yes\",\"Yes\",\"Yes\",\"Yes\",\"Yes\",\"Yes\",\"Yes\",\"No\",\"Yes\",\"No\",\"Yes\",\"Yes\",\"Yes\",\"Yes\",\"No\",\"Yes\",\"Yes\",\"Yes\",\"Yes\",\"No\",\"Yes\",\"Yes\",\"Yes\",\"Yes\",\"No\",\"Yes\",\"Yes\",\"Yes\",\"Yes\",\"Yes\",\"Yes\",\"Yes\",\"Yes\",\"No\",\"Yes\",\"Yes\",\"Yes\",\"Yes\",\"Yes\",\"No\",\"Yes\",\"Yes\",\"Yes\",\"No\",\"Yes\",\"Yes\",\"No\",\"No\",\"Yes\",\"Yes\",\"Yes\",\"Yes\",\"No\",\"No\",\"Yes\",\"Yes\",\"Yes\",\"Yes\",\"Yes\",\"Yes\",\"No\",\"No\",\"No\",\"Yes\",\"No\",\"Yes\",\"Yes\",\"Yes\",\"No\",\"No\",\"Yes\",\"Yes\",\"Yes\",\"Yes\",\"Yes\",\"No\",\"Yes\",\"No\",\"No\",\"No\",\"Yes\",\"No\",\"Yes\",\"No\",\"Yes\",\"Yes\",\"Yes\",\"Yes\",\"No\",\"No\",\"No\",\"No\",\"Yes\",\"Yes\",\"Yes\",\"No\",\"No\",\"No\",\"Yes\",\"Yes\",\"Yes\",\"Yes\",\"Yes\",\"No\",\"Yes\",\"Yes\",\"Yes\",\"Yes\",\"Yes\",\"No\",\"Yes\",\"Yes\",\"No\",\"Yes\",\"No\",\"No\",\"Yes\",\"Yes\",\"Yes\",\"Yes\",\"Yes\",\"No\",\"Yes\",\"Yes\",\"Yes\",\"Yes\",\"Yes\",\"No\",\"Yes\",\"Yes\",\"No\",\"Yes\",\"Yes\",\"Yes\",\"No\",\"No\",\"Yes\",\"No\",\"Yes\",\"Yes\",\"Yes\",\"No\",\"Yes\",\"Yes\",\"Yes\",\"Yes\",\"Yes\",\"Yes\",\"Yes\",\"Yes\",\"Yes\",\"Yes\",\"No\",\"Yes\",\"Yes\",\"No\",\"No\",\"No\",\"Yes\",\"No\",\"Yes\",\"Yes\",\"Yes\",\"No\",\"Yes\",\"Yes\",\"No\",\"Yes\",\"No\",\"Yes\",\"Yes\",\"Yes\",\"Yes\",\"No\",\"Yes\",\"Yes\",\"Yes\",\"Yes\",\"Yes\",\"Yes\",\"Yes\",\"Yes\",\"No\",\"No\",\"No\",\"No\",\"Yes\",\"Yes\",\"No\",\"Yes\",\"No\",\"Yes\",\"Yes\",\"Yes\",\"Yes\",\"Yes\",\"No\",\"Yes\",\"Yes\",\"Yes\",\"Yes\",\"Yes\",\"No\",\"Yes\",\"Yes\",\"Yes\",\"No\",\"Yes\",\"Yes\",\"Yes\",\"Yes\",\"Yes\",\"Yes\",\"No\",\"Yes\",\"No\",\"Yes\",\"Yes\",\"Yes\",\"Yes\",\"Yes\",\"No\",\"Yes\",\"Yes\",\"Yes\",\"Yes\",\"No\",\"Yes\",\"Yes\",\"No\",\"Yes\",\"Yes\",\"Yes\",\"Yes\",\"Yes\",\"No\",\"No\",\"No\",\"Yes\",\"Yes\",\"Yes\",\"No\",\"Yes\",\"Yes\",\"Yes\",\"Yes\",\"No\",\"Yes\",\"No\",\"Yes\",\"No\",\"Yes\",\"No\",\"Yes\",\"No\",\"Yes\",\"Yes\",\"Yes\",\"Yes\",\"Yes\",\"Yes\",\"Yes\",\"Yes\",\"No\",\"Yes\",\"Yes\",\"Yes\",\"Yes\",\"Yes\",\"Yes\",\"Yes\",\"Yes\",\"Yes\",\"Yes\",\"Yes\",\"Yes\",\"Yes\",\"Yes\",\"Yes\",\"No\",\"Yes\",\"No\",\"Yes\",\"Yes\",\"Yes\",\"Yes\",\"No\",\"Yes\",\"Yes\",\"Yes\",\"Yes\",\"Yes\",\"No\",\"No\",\"No\",\"Yes\",\"Yes\",\"No\",\"No\",\"Yes\",\"Yes\",\"Yes\",\"Yes\",\"Yes\",\"Yes\",\"Yes\",\"Yes\",\"No\",\"No\",\"Yes\",\"Yes\",\"No\",\"Yes\",\"Yes\",\"No\",\"Yes\",\"No\",\"Yes\",\"Yes\",\"Yes\",\"No\",\"No\",\"Yes\",\"Yes\",\"Yes\",\"Yes\",\"Yes\",\"Yes\",\"Yes\",\"Yes\",\"Yes\",\"Yes\",\"Yes\",\"Yes\",\"Yes\",\"Yes\",\"No\",\"Yes\",\"Yes\",\"Yes\",\"No\",\"Yes\",\"Yes\",\"Yes\",\"Yes\",\"No\",\"No\",\"Yes\",\"Yes\",\"No\",\"Yes\",\"Yes\",\"Yes\",\"Yes\",\"Yes\",\"Yes\",\"Yes\",\"Yes\",\"Yes\",\"Yes\",\"No\",\"Yes\",\"No\",\"No\",\"Yes\",\"Yes\",\"No\",\"Yes\",\"Yes\",\"No\",\"Yes\",\"Yes\",\"Yes\",\"Yes\",\"No\",\"Yes\",\"Yes\",\"Yes\",\"Yes\",\"Yes\",\"Yes\",\"Yes\",\"Yes\",\"No\",\"No\",\"No\",\"Yes\",\"Yes\",\"Yes\",\"Yes\",\"Yes\",\"No\",\"Yes\",\"No\",\"No\",\"Yes\",\"Yes\",\"Yes\",\"No\",\"No\",\"No\",\"No\",\"No\",\"No\",\"Yes\",\"Yes\",\"Yes\",\"No\",\"No\",\"Yes\",\"Yes\",\"Yes\",\"Yes\",\"Yes\",\"Yes\",\"Yes\",\"Yes\",\"No\",\"No\",\"No\",\"No\",\"Yes\",\"No\",\"No\",\"No\",\"Yes\",\"Yes\",\"Yes\",\"No\",\"Yes\",\"No\",\"No\",\"Yes\",\"No\",\"No\",\"No\",\"Yes\",\"Yes\",\"No\",\"Yes\",\"No\",\"No\",\"Yes\",\"Yes\",\"No\",\"No\",\"Yes\",\"Yes\",\"Yes\",\"No\",\"Yes\",\"Yes\",\"Yes\",\"Yes\",\"Yes\",\"Yes\",\"Yes\",\"Yes\",\"Yes\",\"No\",\"No\",\"Yes\",\"No\",\"Yes\",\"Yes\",\"Yes\",\"Yes\",\"Yes\",\"No\",\"Yes\",\"Yes\",\"No\",\"Yes\",\"Yes\",\"Yes\",\"No\",\"Yes\",\"Yes\",\"Yes\",\"Yes\",\"Yes\",\"No\",\"Yes\",\"Yes\",\"No\",\"Yes\",\"No\",\"Yes\",\"Yes\",\"No\",\"No\",\"Yes\",\"Yes\",\"Yes\",\"No\",\"Yes\",\"Yes\",\"Yes\",\"Yes\",\"No\",\"Yes\",\"No\",\"Yes\",\"Yes\",\"Yes\",\"Yes\",\"Yes\",\"Yes\",\"No\",\"Yes\",\"No\",\"No\",\"Yes\",\"Yes\",\"Yes\",\"Yes\",\"Yes\",\"No\",\"No\",\"Yes\",\"Yes\",\"No\",\"No\",\"Yes\",\"Yes\",\"Yes\",\"Yes\",\"Yes\",\"No\",\"Yes\",\"Yes\",\"Yes\",\"Yes\",\"No\",\"Yes\",\"No\",\"Yes\",\"Yes\",\"No\",\"Yes\",\"No\",\"Yes\",\"Yes\",\"No\",\"Yes\",\"Yes\",\"Yes\",\"No\",\"Yes\",\"Yes\",\"No\",\"Yes\",\"Yes\",\"Yes\",\"Yes\",\"No\",\"Yes\",\"Yes\",\"Yes\",\"Yes\",\"No\",\"Yes\",\"No\",\"Yes\",\"No\",\"No\",\"Yes\",\"Yes\",\"No\",\"No\",\"Yes\",\"Yes\",\"Yes\",\"Yes\",\"No\",\"Yes\",\"Yes\",\"Yes\",\"Yes\",\"No\",\"Yes\",\"Yes\",\"Yes\",\"Yes\",\"Yes\",\"Yes\",\"Yes\",\"No\",\"Yes\",\"No\",\"Yes\",\"Yes\",\"Yes\",\"Yes\",\"No\",\"No\",\"No\",\"Yes\",\"Yes\",\"Yes\",\"Yes\",\"Yes\",\"Yes\",\"No\",\"Yes\",\"Yes\",\"Yes\",\"No\",\"No\",\"Yes\",\"Yes\",\"No\",\"Yes\",\"Yes\",\"Yes\",\"Yes\",\"Yes\",\"Yes\",\"Yes\",\"Yes\",\"No\",\"Yes\",\"Yes\",\"No\",\"Yes\",\"Yes\",\"Yes\",\"Yes\",\"Yes\",\"Yes\",\"Yes\",\"Yes\",\"Yes\",\"Yes\",\"Yes\",\"Yes\",\"Yes\",\"Yes\",\"Yes\",\"Yes\",\"Yes\",\"Yes\",\"No\",\"Yes\"],\"type\":\"histogram\",\"xaxis\":\"x4\",\"yaxis\":\"y4\"},{\"name\":\"Foreign languages\",\"x\":[\"Yes\",\"No\",\"Yes\",\"Yes\",\"No\",\"Yes\",\"Yes\",\"Yes\",\"No\",\"Yes\",\"No\",\"No\",\"No\",\"Yes\",\"Yes\",\"Yes\",\"Yes\",\"No\",\"No\",\"Yes\",\"No\",\"Yes\",\"Yes\",\"Yes\",\"Yes\",\"Yes\",\"Yes\",\"Yes\",\"No\",\"Yes\",\"No\",\"Yes\",\"Yes\",\"No\",\"No\",\"Yes\",\"No\",\"Yes\",\"No\",\"No\",\"No\",\"No\",\"Yes\",\"Yes\",\"No\",\"No\",\"Yes\",\"Yes\",\"Yes\",\"No\",\"Yes\",\"Yes\",\"Yes\",\"Yes\",\"No\",\"No\",\"Yes\",\"Yes\",\"No\",\"Yes\",\"No\",\"No\",\"Yes\",\"Yes\",\"Yes\",\"Yes\",\"No\",\"Yes\",\"No\",\"No\",\"Yes\",\"Yes\",\"Yes\",\"No\",\"Yes\",\"Yes\",\"Yes\",\"Yes\",\"Yes\",\"Yes\",\"No\",\"Yes\",\"Yes\",\"Yes\",\"No\",\"No\",\"Yes\",\"No\",\"No\",\"No\",\"Yes\",\"Yes\",\"No\",\"No\",\"Yes\",\"Yes\",\"No\",\"Yes\",\"No\",\"Yes\",\"No\",\"No\",\"No\",\"Yes\",\"Yes\",\"Yes\",\"No\",\"Yes\",\"No\",\"Yes\",\"No\",\"No\",\"Yes\",\"Yes\",\"Yes\",\"Yes\",\"No\",\"No\",\"No\",\"Yes\",\"Yes\",\"Yes\",\"No\",\"Yes\",\"Yes\",\"Yes\",\"No\",\"No\",\"Yes\",\"No\",\"No\",\"Yes\",\"No\",\"No\",\"Yes\",\"No\",\"Yes\",\"No\",\"No\",\"Yes\",\"Yes\",\"Yes\",\"Yes\",\"No\",\"No\",\"Yes\",\"No\",\"No\",\"No\",\"Yes\",\"Yes\",\"No\",\"No\",\"No\",\"Yes\",\"Yes\",\"Yes\",\"No\",\"Yes\",\"Yes\",\"Yes\",\"No\",\"No\",\"Yes\",\"Yes\",\"Yes\",\"No\",\"Yes\",\"Yes\",\"No\",\"Yes\",\"No\",\"No\",\"No\",\"Yes\",\"Yes\",\"No\",\"Yes\",\"Yes\",\"Yes\",\"No\",\"Yes\",\"No\",\"Yes\",\"No\",\"Yes\",\"Yes\",\"No\",\"No\",\"Yes\",\"Yes\",\"Yes\",\"Yes\",\"No\",\"No\",\"Yes\",\"No\",\"Yes\",\"No\",\"Yes\",\"No\",\"Yes\",\"Yes\",\"No\",\"Yes\",\"Yes\",\"Yes\",\"No\",\"No\",\"Yes\",\"No\",\"Yes\",\"Yes\",\"Yes\",\"No\",\"Yes\",\"Yes\",\"Yes\",\"Yes\",\"No\",\"Yes\",\"Yes\",\"Yes\",\"Yes\",\"Yes\",\"Yes\",\"No\",\"Yes\",\"No\",\"Yes\",\"No\",\"Yes\",\"No\",\"Yes\",\"Yes\",\"Yes\",\"Yes\",\"Yes\",\"No\",\"Yes\",\"No\",\"Yes\",\"Yes\",\"Yes\",\"Yes\",\"Yes\",\"Yes\",\"Yes\",\"No\",\"No\",\"Yes\",\"Yes\",\"Yes\",\"Yes\",\"Yes\",\"Yes\",\"Yes\",\"Yes\",\"No\",\"Yes\",\"Yes\",\"No\",\"Yes\",\"No\",\"Yes\",\"Yes\",\"Yes\",\"Yes\",\"No\",\"No\",\"Yes\",\"Yes\",\"No\",\"No\",\"No\",\"Yes\",\"Yes\",\"Yes\",\"Yes\",\"No\",\"No\",\"No\",\"Yes\",\"Yes\",\"Yes\",\"Yes\",\"No\",\"Yes\",\"Yes\",\"Yes\",\"No\",\"No\",\"Yes\",\"Yes\",\"No\",\"No\",\"No\",\"Yes\",\"No\",\"Yes\",\"Yes\",\"Yes\",\"Yes\",\"Yes\",\"No\",\"No\",\"No\",\"Yes\",\"Yes\",\"No\",\"Yes\",\"No\",\"No\",\"No\",\"Yes\",\"No\",\"Yes\",\"No\",\"No\",\"No\",\"Yes\",\"No\",\"Yes\",\"No\",\"No\",\"Yes\",\"No\",\"No\",\"No\",\"No\",\"Yes\",\"Yes\",\"No\",\"Yes\",\"No\",\"Yes\",\"Yes\",\"Yes\",\"No\",\"No\",\"No\",\"Yes\",\"Yes\",\"No\",\"Yes\",\"No\",\"Yes\",\"Yes\",\"Yes\",\"No\",\"Yes\",\"Yes\",\"Yes\",\"Yes\",\"Yes\",\"No\",\"Yes\",\"Yes\",\"No\",\"Yes\",\"No\",\"No\",\"No\",\"No\",\"No\",\"Yes\",\"No\",\"No\",\"Yes\",\"Yes\",\"Yes\",\"Yes\",\"No\",\"No\",\"Yes\",\"No\",\"Yes\",\"Yes\",\"No\",\"Yes\",\"No\",\"Yes\",\"No\",\"No\",\"No\",\"Yes\",\"No\",\"No\",\"Yes\",\"No\",\"Yes\",\"No\",\"No\",\"No\",\"No\",\"Yes\",\"Yes\",\"Yes\",\"No\",\"Yes\",\"No\",\"No\",\"No\",\"No\",\"Yes\",\"Yes\",\"Yes\",\"No\",\"No\",\"No\",\"Yes\",\"Yes\",\"No\",\"Yes\",\"Yes\",\"Yes\",\"Yes\",\"No\",\"Yes\",\"No\",\"Yes\",\"Yes\",\"Yes\",\"No\",\"No\",\"Yes\",\"Yes\",\"No\",\"Yes\",\"Yes\",\"Yes\",\"No\",\"Yes\",\"Yes\",\"Yes\",\"Yes\",\"No\",\"No\",\"Yes\",\"No\",\"No\",\"No\",\"No\",\"No\",\"Yes\",\"Yes\",\"Yes\",\"No\",\"Yes\",\"Yes\",\"Yes\",\"No\",\"No\",\"Yes\",\"Yes\",\"No\",\"Yes\",\"No\",\"Yes\",\"No\",\"Yes\",\"Yes\",\"No\",\"No\",\"No\",\"Yes\",\"No\",\"Yes\",\"Yes\",\"No\",\"No\",\"No\",\"No\",\"No\",\"No\",\"No\",\"Yes\",\"No\",\"Yes\",\"Yes\",\"Yes\",\"No\",\"No\",\"Yes\",\"No\",\"No\",\"Yes\",\"Yes\",\"Yes\",\"Yes\",\"No\",\"No\",\"Yes\",\"No\",\"No\",\"Yes\",\"Yes\",\"Yes\",\"No\",\"Yes\",\"No\",\"Yes\",\"Yes\",\"Yes\",\"Yes\",\"Yes\",\"No\",\"No\",\"Yes\",\"No\",\"No\",\"No\",\"No\",\"No\",\"No\",\"Yes\",\"Yes\",\"No\",\"No\",\"No\",\"Yes\",\"No\",\"Yes\",\"Yes\",\"Yes\",\"Yes\",\"No\",\"No\",\"Yes\",\"Yes\",\"Yes\",\"No\",\"No\",\"Yes\",\"Yes\",\"No\",\"No\",\"Yes\",\"No\",\"No\",\"No\",\"No\",\"Yes\",\"No\",\"Yes\",\"No\",\"Yes\",\"No\",\"No\",\"No\",\"Yes\",\"No\",\"No\",\"No\",\"No\",\"Yes\",\"Yes\",\"No\",\"No\",\"No\",\"Yes\",\"Yes\",\"Yes\",\"No\",\"Yes\",\"No\",\"No\",\"No\",\"Yes\",\"Yes\",\"No\",\"Yes\",\"No\",\"Yes\",\"Yes\",\"No\",\"No\",\"No\",\"No\",\"Yes\",\"Yes\",\"No\",\"No\",\"Yes\",\"Yes\",\"Yes\",\"No\",\"Yes\",\"Yes\",\"Yes\",\"No\",\"No\",\"Yes\",\"Yes\",\"Yes\",\"No\",\"No\",\"No\",\"Yes\",\"Yes\",\"No\",\"No\",\"No\",\"No\",\"Yes\",\"Yes\",\"Yes\",\"Yes\",\"Yes\",\"Yes\",\"Yes\",\"No\",\"No\",\"No\",\"Yes\",\"Yes\",\"No\",\"Yes\",\"Yes\",\"No\",\"Yes\",\"No\",\"Yes\",\"Yes\",\"Yes\",\"Yes\",\"No\",\"Yes\",\"Yes\",\"Yes\",\"No\",\"No\",\"No\",\"No\",\"No\",\"Yes\",\"Yes\",\"Yes\",\"No\",\"Yes\",\"Yes\",\"Yes\",\"Yes\",\"Yes\",\"No\",\"No\",\"No\",\"Yes\",\"No\",\"No\",\"Yes\",\"Yes\",\"No\",\"No\",\"No\",\"No\",\"No\",\"Yes\",\"Yes\",\"No\",\"No\",\"Yes\",\"Yes\",\"No\",\"Yes\",\"Yes\",\"Yes\",\"Yes\",\"Yes\",\"Yes\",\"No\",\"Yes\",\"Yes\",\"No\",\"Yes\",\"Yes\",\"Yes\",\"No\",\"Yes\",\"Yes\",\"Yes\",\"Yes\",\"No\",\"Yes\",\"Yes\",\"No\",\"No\",\"No\",\"Yes\",\"No\",\"No\",\"Yes\",\"No\",\"Yes\",\"No\",\"Yes\",\"Yes\",\"Yes\",\"Yes\",\"Yes\",\"Yes\",\"No\",\"No\",\"Yes\",\"No\",\"Yes\",\"No\",\"Yes\",\"No\",\"No\",\"Yes\",\"No\",\"Yes\",\"No\",\"No\",\"Yes\",\"Yes\",\"Yes\",\"Yes\",\"No\",\"Yes\",\"Yes\",\"Yes\",\"Yes\",\"No\",\"No\",\"Yes\",\"No\",\"No\",\"Yes\",\"Yes\",\"Yes\",\"No\",\"No\",\"Yes\"],\"type\":\"histogram\",\"xaxis\":\"x5\",\"yaxis\":\"y5\"}],                        {\"template\":{\"data\":{\"histogram2dcontour\":[{\"type\":\"histogram2dcontour\",\"colorbar\":{\"outlinewidth\":0,\"ticks\":\"\"},\"colorscale\":[[0.0,\"#0d0887\"],[0.1111111111111111,\"#46039f\"],[0.2222222222222222,\"#7201a8\"],[0.3333333333333333,\"#9c179e\"],[0.4444444444444444,\"#bd3786\"],[0.5555555555555556,\"#d8576b\"],[0.6666666666666666,\"#ed7953\"],[0.7777777777777778,\"#fb9f3a\"],[0.8888888888888888,\"#fdca26\"],[1.0,\"#f0f921\"]]}],\"choropleth\":[{\"type\":\"choropleth\",\"colorbar\":{\"outlinewidth\":0,\"ticks\":\"\"}}],\"histogram2d\":[{\"type\":\"histogram2d\",\"colorbar\":{\"outlinewidth\":0,\"ticks\":\"\"},\"colorscale\":[[0.0,\"#0d0887\"],[0.1111111111111111,\"#46039f\"],[0.2222222222222222,\"#7201a8\"],[0.3333333333333333,\"#9c179e\"],[0.4444444444444444,\"#bd3786\"],[0.5555555555555556,\"#d8576b\"],[0.6666666666666666,\"#ed7953\"],[0.7777777777777778,\"#fb9f3a\"],[0.8888888888888888,\"#fdca26\"],[1.0,\"#f0f921\"]]}],\"heatmap\":[{\"type\":\"heatmap\",\"colorbar\":{\"outlinewidth\":0,\"ticks\":\"\"},\"colorscale\":[[0.0,\"#0d0887\"],[0.1111111111111111,\"#46039f\"],[0.2222222222222222,\"#7201a8\"],[0.3333333333333333,\"#9c179e\"],[0.4444444444444444,\"#bd3786\"],[0.5555555555555556,\"#d8576b\"],[0.6666666666666666,\"#ed7953\"],[0.7777777777777778,\"#fb9f3a\"],[0.8888888888888888,\"#fdca26\"],[1.0,\"#f0f921\"]]}],\"heatmapgl\":[{\"type\":\"heatmapgl\",\"colorbar\":{\"outlinewidth\":0,\"ticks\":\"\"},\"colorscale\":[[0.0,\"#0d0887\"],[0.1111111111111111,\"#46039f\"],[0.2222222222222222,\"#7201a8\"],[0.3333333333333333,\"#9c179e\"],[0.4444444444444444,\"#bd3786\"],[0.5555555555555556,\"#d8576b\"],[0.6666666666666666,\"#ed7953\"],[0.7777777777777778,\"#fb9f3a\"],[0.8888888888888888,\"#fdca26\"],[1.0,\"#f0f921\"]]}],\"contourcarpet\":[{\"type\":\"contourcarpet\",\"colorbar\":{\"outlinewidth\":0,\"ticks\":\"\"}}],\"contour\":[{\"type\":\"contour\",\"colorbar\":{\"outlinewidth\":0,\"ticks\":\"\"},\"colorscale\":[[0.0,\"#0d0887\"],[0.1111111111111111,\"#46039f\"],[0.2222222222222222,\"#7201a8\"],[0.3333333333333333,\"#9c179e\"],[0.4444444444444444,\"#bd3786\"],[0.5555555555555556,\"#d8576b\"],[0.6666666666666666,\"#ed7953\"],[0.7777777777777778,\"#fb9f3a\"],[0.8888888888888888,\"#fdca26\"],[1.0,\"#f0f921\"]]}],\"surface\":[{\"type\":\"surface\",\"colorbar\":{\"outlinewidth\":0,\"ticks\":\"\"},\"colorscale\":[[0.0,\"#0d0887\"],[0.1111111111111111,\"#46039f\"],[0.2222222222222222,\"#7201a8\"],[0.3333333333333333,\"#9c179e\"],[0.4444444444444444,\"#bd3786\"],[0.5555555555555556,\"#d8576b\"],[0.6666666666666666,\"#ed7953\"],[0.7777777777777778,\"#fb9f3a\"],[0.8888888888888888,\"#fdca26\"],[1.0,\"#f0f921\"]]}],\"mesh3d\":[{\"type\":\"mesh3d\",\"colorbar\":{\"outlinewidth\":0,\"ticks\":\"\"}}],\"scatter\":[{\"fillpattern\":{\"fillmode\":\"overlay\",\"size\":10,\"solidity\":0.2},\"type\":\"scatter\"}],\"parcoords\":[{\"type\":\"parcoords\",\"line\":{\"colorbar\":{\"outlinewidth\":0,\"ticks\":\"\"}}}],\"scatterpolargl\":[{\"type\":\"scatterpolargl\",\"marker\":{\"colorbar\":{\"outlinewidth\":0,\"ticks\":\"\"}}}],\"bar\":[{\"error_x\":{\"color\":\"#2a3f5f\"},\"error_y\":{\"color\":\"#2a3f5f\"},\"marker\":{\"line\":{\"color\":\"#E5ECF6\",\"width\":0.5},\"pattern\":{\"fillmode\":\"overlay\",\"size\":10,\"solidity\":0.2}},\"type\":\"bar\"}],\"scattergeo\":[{\"type\":\"scattergeo\",\"marker\":{\"colorbar\":{\"outlinewidth\":0,\"ticks\":\"\"}}}],\"scatterpolar\":[{\"type\":\"scatterpolar\",\"marker\":{\"colorbar\":{\"outlinewidth\":0,\"ticks\":\"\"}}}],\"histogram\":[{\"marker\":{\"pattern\":{\"fillmode\":\"overlay\",\"size\":10,\"solidity\":0.2}},\"type\":\"histogram\"}],\"scattergl\":[{\"type\":\"scattergl\",\"marker\":{\"colorbar\":{\"outlinewidth\":0,\"ticks\":\"\"}}}],\"scatter3d\":[{\"type\":\"scatter3d\",\"line\":{\"colorbar\":{\"outlinewidth\":0,\"ticks\":\"\"}},\"marker\":{\"colorbar\":{\"outlinewidth\":0,\"ticks\":\"\"}}}],\"scattermapbox\":[{\"type\":\"scattermapbox\",\"marker\":{\"colorbar\":{\"outlinewidth\":0,\"ticks\":\"\"}}}],\"scatterternary\":[{\"type\":\"scatterternary\",\"marker\":{\"colorbar\":{\"outlinewidth\":0,\"ticks\":\"\"}}}],\"scattercarpet\":[{\"type\":\"scattercarpet\",\"marker\":{\"colorbar\":{\"outlinewidth\":0,\"ticks\":\"\"}}}],\"carpet\":[{\"aaxis\":{\"endlinecolor\":\"#2a3f5f\",\"gridcolor\":\"white\",\"linecolor\":\"white\",\"minorgridcolor\":\"white\",\"startlinecolor\":\"#2a3f5f\"},\"baxis\":{\"endlinecolor\":\"#2a3f5f\",\"gridcolor\":\"white\",\"linecolor\":\"white\",\"minorgridcolor\":\"white\",\"startlinecolor\":\"#2a3f5f\"},\"type\":\"carpet\"}],\"table\":[{\"cells\":{\"fill\":{\"color\":\"#EBF0F8\"},\"line\":{\"color\":\"white\"}},\"header\":{\"fill\":{\"color\":\"#C8D4E3\"},\"line\":{\"color\":\"white\"}},\"type\":\"table\"}],\"barpolar\":[{\"marker\":{\"line\":{\"color\":\"#E5ECF6\",\"width\":0.5},\"pattern\":{\"fillmode\":\"overlay\",\"size\":10,\"solidity\":0.2}},\"type\":\"barpolar\"}],\"pie\":[{\"automargin\":true,\"type\":\"pie\"}]},\"layout\":{\"autotypenumbers\":\"strict\",\"colorway\":[\"#636efa\",\"#EF553B\",\"#00cc96\",\"#ab63fa\",\"#FFA15A\",\"#19d3f3\",\"#FF6692\",\"#B6E880\",\"#FF97FF\",\"#FECB52\"],\"font\":{\"color\":\"#2a3f5f\"},\"hovermode\":\"closest\",\"hoverlabel\":{\"align\":\"left\"},\"paper_bgcolor\":\"white\",\"plot_bgcolor\":\"#E5ECF6\",\"polar\":{\"bgcolor\":\"#E5ECF6\",\"angularaxis\":{\"gridcolor\":\"white\",\"linecolor\":\"white\",\"ticks\":\"\"},\"radialaxis\":{\"gridcolor\":\"white\",\"linecolor\":\"white\",\"ticks\":\"\"}},\"ternary\":{\"bgcolor\":\"#E5ECF6\",\"aaxis\":{\"gridcolor\":\"white\",\"linecolor\":\"white\",\"ticks\":\"\"},\"baxis\":{\"gridcolor\":\"white\",\"linecolor\":\"white\",\"ticks\":\"\"},\"caxis\":{\"gridcolor\":\"white\",\"linecolor\":\"white\",\"ticks\":\"\"}},\"coloraxis\":{\"colorbar\":{\"outlinewidth\":0,\"ticks\":\"\"}},\"colorscale\":{\"sequential\":[[0.0,\"#0d0887\"],[0.1111111111111111,\"#46039f\"],[0.2222222222222222,\"#7201a8\"],[0.3333333333333333,\"#9c179e\"],[0.4444444444444444,\"#bd3786\"],[0.5555555555555556,\"#d8576b\"],[0.6666666666666666,\"#ed7953\"],[0.7777777777777778,\"#fb9f3a\"],[0.8888888888888888,\"#fdca26\"],[1.0,\"#f0f921\"]],\"sequentialminus\":[[0.0,\"#0d0887\"],[0.1111111111111111,\"#46039f\"],[0.2222222222222222,\"#7201a8\"],[0.3333333333333333,\"#9c179e\"],[0.4444444444444444,\"#bd3786\"],[0.5555555555555556,\"#d8576b\"],[0.6666666666666666,\"#ed7953\"],[0.7777777777777778,\"#fb9f3a\"],[0.8888888888888888,\"#fdca26\"],[1.0,\"#f0f921\"]],\"diverging\":[[0,\"#8e0152\"],[0.1,\"#c51b7d\"],[0.2,\"#de77ae\"],[0.3,\"#f1b6da\"],[0.4,\"#fde0ef\"],[0.5,\"#f7f7f7\"],[0.6,\"#e6f5d0\"],[0.7,\"#b8e186\"],[0.8,\"#7fbc41\"],[0.9,\"#4d9221\"],[1,\"#276419\"]]},\"xaxis\":{\"gridcolor\":\"white\",\"linecolor\":\"white\",\"ticks\":\"\",\"title\":{\"standoff\":15},\"zerolinecolor\":\"white\",\"automargin\":true,\"zerolinewidth\":2},\"yaxis\":{\"gridcolor\":\"white\",\"linecolor\":\"white\",\"ticks\":\"\",\"title\":{\"standoff\":15},\"zerolinecolor\":\"white\",\"automargin\":true,\"zerolinewidth\":2},\"scene\":{\"xaxis\":{\"backgroundcolor\":\"#E5ECF6\",\"gridcolor\":\"white\",\"linecolor\":\"white\",\"showbackground\":true,\"ticks\":\"\",\"zerolinecolor\":\"white\",\"gridwidth\":2},\"yaxis\":{\"backgroundcolor\":\"#E5ECF6\",\"gridcolor\":\"white\",\"linecolor\":\"white\",\"showbackground\":true,\"ticks\":\"\",\"zerolinecolor\":\"white\",\"gridwidth\":2},\"zaxis\":{\"backgroundcolor\":\"#E5ECF6\",\"gridcolor\":\"white\",\"linecolor\":\"white\",\"showbackground\":true,\"ticks\":\"\",\"zerolinecolor\":\"white\",\"gridwidth\":2}},\"shapedefaults\":{\"line\":{\"color\":\"#2a3f5f\"}},\"annotationdefaults\":{\"arrowcolor\":\"#2a3f5f\",\"arrowhead\":0,\"arrowwidth\":1},\"geo\":{\"bgcolor\":\"white\",\"landcolor\":\"#E5ECF6\",\"subunitcolor\":\"white\",\"showland\":true,\"showlakes\":true,\"lakecolor\":\"white\"},\"title\":{\"x\":0.05},\"mapbox\":{\"style\":\"light\"}}},\"xaxis\":{\"anchor\":\"y\",\"domain\":[0.0,0.2888888888888889]},\"yaxis\":{\"anchor\":\"x\",\"domain\":[0.625,1.0]},\"xaxis2\":{\"anchor\":\"y2\",\"domain\":[0.35555555555555557,0.6444444444444445]},\"yaxis2\":{\"anchor\":\"x2\",\"domain\":[0.625,1.0]},\"xaxis3\":{\"anchor\":\"y3\",\"domain\":[0.7111111111111111,1.0]},\"yaxis3\":{\"anchor\":\"x3\",\"domain\":[0.625,1.0]},\"xaxis4\":{\"anchor\":\"y4\",\"domain\":[0.0,0.2888888888888889]},\"yaxis4\":{\"anchor\":\"x4\",\"domain\":[0.0,0.375]},\"xaxis5\":{\"anchor\":\"y5\",\"domain\":[0.35555555555555557,0.6444444444444445]},\"yaxis5\":{\"anchor\":\"x5\",\"domain\":[0.0,0.375]},\"xaxis6\":{\"anchor\":\"y6\",\"domain\":[0.7111111111111111,1.0]},\"yaxis6\":{\"anchor\":\"x6\",\"domain\":[0.0,0.375]},\"annotations\":[{\"font\":{\"size\":16},\"showarrow\":false,\"text\":\"Instrumentalist\",\"x\":0.14444444444444446,\"xanchor\":\"center\",\"xref\":\"paper\",\"y\":1.0,\"yanchor\":\"bottom\",\"yref\":\"paper\"},{\"font\":{\"size\":16},\"showarrow\":false,\"text\":\"Composer\",\"x\":0.5,\"xanchor\":\"center\",\"xref\":\"paper\",\"y\":1.0,\"yanchor\":\"bottom\",\"yref\":\"paper\"},{\"font\":{\"size\":16},\"showarrow\":false,\"text\":\"While working\",\"x\":0.8555555555555556,\"xanchor\":\"center\",\"xref\":\"paper\",\"y\":1.0,\"yanchor\":\"bottom\",\"yref\":\"paper\"},{\"font\":{\"size\":16},\"showarrow\":false,\"text\":\"Exploratory\",\"x\":0.14444444444444446,\"xanchor\":\"center\",\"xref\":\"paper\",\"y\":0.375,\"yanchor\":\"bottom\",\"yref\":\"paper\"},{\"font\":{\"size\":16},\"showarrow\":false,\"text\":\"Foreign languages\",\"x\":0.5,\"xanchor\":\"center\",\"xref\":\"paper\",\"y\":0.375,\"yanchor\":\"bottom\",\"yref\":\"paper\"}],\"title\":{\"text\":\"Histogram cech\"},\"showlegend\":false,\"height\":600,\"width\":800},                        {\"responsive\": true}                    ).then(function(){\n",
              "                            \n",
              "var gd = document.getElementById('cc148aa8-9608-41f8-ac36-cb917128377d');\n",
              "var x = new MutationObserver(function (mutations, observer) {{\n",
              "        var display = window.getComputedStyle(gd).display;\n",
              "        if (!display || display === 'none') {{\n",
              "            console.log([gd, 'removed!']);\n",
              "            Plotly.purge(gd);\n",
              "            observer.disconnect();\n",
              "        }}\n",
              "}});\n",
              "\n",
              "// Listen for the removal of the full notebook cells\n",
              "var notebookContainer = gd.closest('#notebook-container');\n",
              "if (notebookContainer) {{\n",
              "    x.observe(notebookContainer, {childList: true});\n",
              "}}\n",
              "\n",
              "// Listen for the clearing of the current output cell\n",
              "var outputEl = gd.closest('.output');\n",
              "if (outputEl) {{\n",
              "    x.observe(outputEl, {childList: true});\n",
              "}}\n",
              "\n",
              "                        })                };                            </script>        </div>\n",
              "</body>\n",
              "</html>"
            ]
          },
          "metadata": {}
        }
      ]
    },
    {
      "cell_type": "markdown",
      "source": [
        "## Muzyka\n"
      ],
      "metadata": {
        "id": "pZXorqxBJchr"
      }
    },
    {
      "cell_type": "markdown",
      "source": [
        "### Serwisy streamingowe"
      ],
      "metadata": {
        "id": "MjhTVghzh7WV"
      }
    },
    {
      "cell_type": "code",
      "source": [
        "streaming_services = df['Primary streaming service'].value_counts().reset_index()\n",
        "streaming_services.columns = ['service', 'count']\n",
        "\n",
        "services_pie = px.pie(\n",
        "    streaming_services,\n",
        "    values='count',\n",
        "    names='service',\n",
        "    title='Popularność serwisów streamingowych',\n",
        "    hole=0.2,\n",
        "    height=400,\n",
        "    width=600)\n",
        "\n",
        "age_services_hist = px.histogram(\n",
        "    df,\n",
        "    x='Primary streaming service',\n",
        "    y='Age',\n",
        "    histfunc='avg',\n",
        "    title='Statystyka używania serwisów streamingowych oparta o wiek',\n",
        "    height=500,\n",
        "    width=600)\n",
        "\n",
        "age_services_hist.update_layout(\n",
        "    yaxis=dict(\n",
        "        tickformat='d'\n",
        "    )\n",
        ")\n",
        "\n",
        "services_pie.show()\n",
        "age_services_hist.show()"
      ],
      "metadata": {
        "colab": {
          "base_uri": "https://localhost:8080/",
          "height": 917
        },
        "id": "w0wjOD2EJm8n",
        "outputId": "62600f3b-971e-4146-b5fd-1f52c7e8e5a1"
      },
      "execution_count": 100,
      "outputs": [
        {
          "output_type": "display_data",
          "data": {
            "text/html": [
              "<html>\n",
              "<head><meta charset=\"utf-8\" /></head>\n",
              "<body>\n",
              "    <div>            <script src=\"https://cdnjs.cloudflare.com/ajax/libs/mathjax/2.7.5/MathJax.js?config=TeX-AMS-MML_SVG\"></script><script type=\"text/javascript\">if (window.MathJax && window.MathJax.Hub && window.MathJax.Hub.Config) {window.MathJax.Hub.Config({SVG: {font: \"STIX-Web\"}});}</script>                <script type=\"text/javascript\">window.PlotlyConfig = {MathJaxConfig: 'local'};</script>\n",
              "        <script charset=\"utf-8\" src=\"https://cdn.plot.ly/plotly-2.35.2.min.js\"></script>                <div id=\"b19f3930-7fc5-47ab-9c4f-3663ff16099f\" class=\"plotly-graph-div\" style=\"height:400px; width:600px;\"></div>            <script type=\"text/javascript\">                                    window.PLOTLYENV=window.PLOTLYENV || {};                                    if (document.getElementById(\"b19f3930-7fc5-47ab-9c4f-3663ff16099f\")) {                    Plotly.newPlot(                        \"b19f3930-7fc5-47ab-9c4f-3663ff16099f\",                        [{\"domain\":{\"x\":[0.0,1.0],\"y\":[0.0,1.0]},\"hole\":0.2,\"hovertemplate\":\"service=%{label}\\u003cbr\\u003ecount=%{value}\\u003cextra\\u003e\\u003c\\u002fextra\\u003e\",\"labels\":[\"Spotify\",\"YouTube Music\",\"I do not use a streaming service.\",\"Apple Music\",\"Other streaming service\",\"Pandora\"],\"legendgroup\":\"\",\"name\":\"\",\"showlegend\":true,\"values\":[458,94,71,51,50,11],\"type\":\"pie\"}],                        {\"template\":{\"data\":{\"histogram2dcontour\":[{\"type\":\"histogram2dcontour\",\"colorbar\":{\"outlinewidth\":0,\"ticks\":\"\"},\"colorscale\":[[0.0,\"#0d0887\"],[0.1111111111111111,\"#46039f\"],[0.2222222222222222,\"#7201a8\"],[0.3333333333333333,\"#9c179e\"],[0.4444444444444444,\"#bd3786\"],[0.5555555555555556,\"#d8576b\"],[0.6666666666666666,\"#ed7953\"],[0.7777777777777778,\"#fb9f3a\"],[0.8888888888888888,\"#fdca26\"],[1.0,\"#f0f921\"]]}],\"choropleth\":[{\"type\":\"choropleth\",\"colorbar\":{\"outlinewidth\":0,\"ticks\":\"\"}}],\"histogram2d\":[{\"type\":\"histogram2d\",\"colorbar\":{\"outlinewidth\":0,\"ticks\":\"\"},\"colorscale\":[[0.0,\"#0d0887\"],[0.1111111111111111,\"#46039f\"],[0.2222222222222222,\"#7201a8\"],[0.3333333333333333,\"#9c179e\"],[0.4444444444444444,\"#bd3786\"],[0.5555555555555556,\"#d8576b\"],[0.6666666666666666,\"#ed7953\"],[0.7777777777777778,\"#fb9f3a\"],[0.8888888888888888,\"#fdca26\"],[1.0,\"#f0f921\"]]}],\"heatmap\":[{\"type\":\"heatmap\",\"colorbar\":{\"outlinewidth\":0,\"ticks\":\"\"},\"colorscale\":[[0.0,\"#0d0887\"],[0.1111111111111111,\"#46039f\"],[0.2222222222222222,\"#7201a8\"],[0.3333333333333333,\"#9c179e\"],[0.4444444444444444,\"#bd3786\"],[0.5555555555555556,\"#d8576b\"],[0.6666666666666666,\"#ed7953\"],[0.7777777777777778,\"#fb9f3a\"],[0.8888888888888888,\"#fdca26\"],[1.0,\"#f0f921\"]]}],\"heatmapgl\":[{\"type\":\"heatmapgl\",\"colorbar\":{\"outlinewidth\":0,\"ticks\":\"\"},\"colorscale\":[[0.0,\"#0d0887\"],[0.1111111111111111,\"#46039f\"],[0.2222222222222222,\"#7201a8\"],[0.3333333333333333,\"#9c179e\"],[0.4444444444444444,\"#bd3786\"],[0.5555555555555556,\"#d8576b\"],[0.6666666666666666,\"#ed7953\"],[0.7777777777777778,\"#fb9f3a\"],[0.8888888888888888,\"#fdca26\"],[1.0,\"#f0f921\"]]}],\"contourcarpet\":[{\"type\":\"contourcarpet\",\"colorbar\":{\"outlinewidth\":0,\"ticks\":\"\"}}],\"contour\":[{\"type\":\"contour\",\"colorbar\":{\"outlinewidth\":0,\"ticks\":\"\"},\"colorscale\":[[0.0,\"#0d0887\"],[0.1111111111111111,\"#46039f\"],[0.2222222222222222,\"#7201a8\"],[0.3333333333333333,\"#9c179e\"],[0.4444444444444444,\"#bd3786\"],[0.5555555555555556,\"#d8576b\"],[0.6666666666666666,\"#ed7953\"],[0.7777777777777778,\"#fb9f3a\"],[0.8888888888888888,\"#fdca26\"],[1.0,\"#f0f921\"]]}],\"surface\":[{\"type\":\"surface\",\"colorbar\":{\"outlinewidth\":0,\"ticks\":\"\"},\"colorscale\":[[0.0,\"#0d0887\"],[0.1111111111111111,\"#46039f\"],[0.2222222222222222,\"#7201a8\"],[0.3333333333333333,\"#9c179e\"],[0.4444444444444444,\"#bd3786\"],[0.5555555555555556,\"#d8576b\"],[0.6666666666666666,\"#ed7953\"],[0.7777777777777778,\"#fb9f3a\"],[0.8888888888888888,\"#fdca26\"],[1.0,\"#f0f921\"]]}],\"mesh3d\":[{\"type\":\"mesh3d\",\"colorbar\":{\"outlinewidth\":0,\"ticks\":\"\"}}],\"scatter\":[{\"fillpattern\":{\"fillmode\":\"overlay\",\"size\":10,\"solidity\":0.2},\"type\":\"scatter\"}],\"parcoords\":[{\"type\":\"parcoords\",\"line\":{\"colorbar\":{\"outlinewidth\":0,\"ticks\":\"\"}}}],\"scatterpolargl\":[{\"type\":\"scatterpolargl\",\"marker\":{\"colorbar\":{\"outlinewidth\":0,\"ticks\":\"\"}}}],\"bar\":[{\"error_x\":{\"color\":\"#2a3f5f\"},\"error_y\":{\"color\":\"#2a3f5f\"},\"marker\":{\"line\":{\"color\":\"#E5ECF6\",\"width\":0.5},\"pattern\":{\"fillmode\":\"overlay\",\"size\":10,\"solidity\":0.2}},\"type\":\"bar\"}],\"scattergeo\":[{\"type\":\"scattergeo\",\"marker\":{\"colorbar\":{\"outlinewidth\":0,\"ticks\":\"\"}}}],\"scatterpolar\":[{\"type\":\"scatterpolar\",\"marker\":{\"colorbar\":{\"outlinewidth\":0,\"ticks\":\"\"}}}],\"histogram\":[{\"marker\":{\"pattern\":{\"fillmode\":\"overlay\",\"size\":10,\"solidity\":0.2}},\"type\":\"histogram\"}],\"scattergl\":[{\"type\":\"scattergl\",\"marker\":{\"colorbar\":{\"outlinewidth\":0,\"ticks\":\"\"}}}],\"scatter3d\":[{\"type\":\"scatter3d\",\"line\":{\"colorbar\":{\"outlinewidth\":0,\"ticks\":\"\"}},\"marker\":{\"colorbar\":{\"outlinewidth\":0,\"ticks\":\"\"}}}],\"scattermapbox\":[{\"type\":\"scattermapbox\",\"marker\":{\"colorbar\":{\"outlinewidth\":0,\"ticks\":\"\"}}}],\"scatterternary\":[{\"type\":\"scatterternary\",\"marker\":{\"colorbar\":{\"outlinewidth\":0,\"ticks\":\"\"}}}],\"scattercarpet\":[{\"type\":\"scattercarpet\",\"marker\":{\"colorbar\":{\"outlinewidth\":0,\"ticks\":\"\"}}}],\"carpet\":[{\"aaxis\":{\"endlinecolor\":\"#2a3f5f\",\"gridcolor\":\"white\",\"linecolor\":\"white\",\"minorgridcolor\":\"white\",\"startlinecolor\":\"#2a3f5f\"},\"baxis\":{\"endlinecolor\":\"#2a3f5f\",\"gridcolor\":\"white\",\"linecolor\":\"white\",\"minorgridcolor\":\"white\",\"startlinecolor\":\"#2a3f5f\"},\"type\":\"carpet\"}],\"table\":[{\"cells\":{\"fill\":{\"color\":\"#EBF0F8\"},\"line\":{\"color\":\"white\"}},\"header\":{\"fill\":{\"color\":\"#C8D4E3\"},\"line\":{\"color\":\"white\"}},\"type\":\"table\"}],\"barpolar\":[{\"marker\":{\"line\":{\"color\":\"#E5ECF6\",\"width\":0.5},\"pattern\":{\"fillmode\":\"overlay\",\"size\":10,\"solidity\":0.2}},\"type\":\"barpolar\"}],\"pie\":[{\"automargin\":true,\"type\":\"pie\"}]},\"layout\":{\"autotypenumbers\":\"strict\",\"colorway\":[\"#636efa\",\"#EF553B\",\"#00cc96\",\"#ab63fa\",\"#FFA15A\",\"#19d3f3\",\"#FF6692\",\"#B6E880\",\"#FF97FF\",\"#FECB52\"],\"font\":{\"color\":\"#2a3f5f\"},\"hovermode\":\"closest\",\"hoverlabel\":{\"align\":\"left\"},\"paper_bgcolor\":\"white\",\"plot_bgcolor\":\"#E5ECF6\",\"polar\":{\"bgcolor\":\"#E5ECF6\",\"angularaxis\":{\"gridcolor\":\"white\",\"linecolor\":\"white\",\"ticks\":\"\"},\"radialaxis\":{\"gridcolor\":\"white\",\"linecolor\":\"white\",\"ticks\":\"\"}},\"ternary\":{\"bgcolor\":\"#E5ECF6\",\"aaxis\":{\"gridcolor\":\"white\",\"linecolor\":\"white\",\"ticks\":\"\"},\"baxis\":{\"gridcolor\":\"white\",\"linecolor\":\"white\",\"ticks\":\"\"},\"caxis\":{\"gridcolor\":\"white\",\"linecolor\":\"white\",\"ticks\":\"\"}},\"coloraxis\":{\"colorbar\":{\"outlinewidth\":0,\"ticks\":\"\"}},\"colorscale\":{\"sequential\":[[0.0,\"#0d0887\"],[0.1111111111111111,\"#46039f\"],[0.2222222222222222,\"#7201a8\"],[0.3333333333333333,\"#9c179e\"],[0.4444444444444444,\"#bd3786\"],[0.5555555555555556,\"#d8576b\"],[0.6666666666666666,\"#ed7953\"],[0.7777777777777778,\"#fb9f3a\"],[0.8888888888888888,\"#fdca26\"],[1.0,\"#f0f921\"]],\"sequentialminus\":[[0.0,\"#0d0887\"],[0.1111111111111111,\"#46039f\"],[0.2222222222222222,\"#7201a8\"],[0.3333333333333333,\"#9c179e\"],[0.4444444444444444,\"#bd3786\"],[0.5555555555555556,\"#d8576b\"],[0.6666666666666666,\"#ed7953\"],[0.7777777777777778,\"#fb9f3a\"],[0.8888888888888888,\"#fdca26\"],[1.0,\"#f0f921\"]],\"diverging\":[[0,\"#8e0152\"],[0.1,\"#c51b7d\"],[0.2,\"#de77ae\"],[0.3,\"#f1b6da\"],[0.4,\"#fde0ef\"],[0.5,\"#f7f7f7\"],[0.6,\"#e6f5d0\"],[0.7,\"#b8e186\"],[0.8,\"#7fbc41\"],[0.9,\"#4d9221\"],[1,\"#276419\"]]},\"xaxis\":{\"gridcolor\":\"white\",\"linecolor\":\"white\",\"ticks\":\"\",\"title\":{\"standoff\":15},\"zerolinecolor\":\"white\",\"automargin\":true,\"zerolinewidth\":2},\"yaxis\":{\"gridcolor\":\"white\",\"linecolor\":\"white\",\"ticks\":\"\",\"title\":{\"standoff\":15},\"zerolinecolor\":\"white\",\"automargin\":true,\"zerolinewidth\":2},\"scene\":{\"xaxis\":{\"backgroundcolor\":\"#E5ECF6\",\"gridcolor\":\"white\",\"linecolor\":\"white\",\"showbackground\":true,\"ticks\":\"\",\"zerolinecolor\":\"white\",\"gridwidth\":2},\"yaxis\":{\"backgroundcolor\":\"#E5ECF6\",\"gridcolor\":\"white\",\"linecolor\":\"white\",\"showbackground\":true,\"ticks\":\"\",\"zerolinecolor\":\"white\",\"gridwidth\":2},\"zaxis\":{\"backgroundcolor\":\"#E5ECF6\",\"gridcolor\":\"white\",\"linecolor\":\"white\",\"showbackground\":true,\"ticks\":\"\",\"zerolinecolor\":\"white\",\"gridwidth\":2}},\"shapedefaults\":{\"line\":{\"color\":\"#2a3f5f\"}},\"annotationdefaults\":{\"arrowcolor\":\"#2a3f5f\",\"arrowhead\":0,\"arrowwidth\":1},\"geo\":{\"bgcolor\":\"white\",\"landcolor\":\"#E5ECF6\",\"subunitcolor\":\"white\",\"showland\":true,\"showlakes\":true,\"lakecolor\":\"white\"},\"title\":{\"x\":0.05},\"mapbox\":{\"style\":\"light\"}}},\"legend\":{\"tracegroupgap\":0},\"title\":{\"text\":\"Popularność serwisów streamingowych\"},\"height\":400,\"width\":600},                        {\"responsive\": true}                    ).then(function(){\n",
              "                            \n",
              "var gd = document.getElementById('b19f3930-7fc5-47ab-9c4f-3663ff16099f');\n",
              "var x = new MutationObserver(function (mutations, observer) {{\n",
              "        var display = window.getComputedStyle(gd).display;\n",
              "        if (!display || display === 'none') {{\n",
              "            console.log([gd, 'removed!']);\n",
              "            Plotly.purge(gd);\n",
              "            observer.disconnect();\n",
              "        }}\n",
              "}});\n",
              "\n",
              "// Listen for the removal of the full notebook cells\n",
              "var notebookContainer = gd.closest('#notebook-container');\n",
              "if (notebookContainer) {{\n",
              "    x.observe(notebookContainer, {childList: true});\n",
              "}}\n",
              "\n",
              "// Listen for the clearing of the current output cell\n",
              "var outputEl = gd.closest('.output');\n",
              "if (outputEl) {{\n",
              "    x.observe(outputEl, {childList: true});\n",
              "}}\n",
              "\n",
              "                        })                };                            </script>        </div>\n",
              "</body>\n",
              "</html>"
            ]
          },
          "metadata": {}
        },
        {
          "output_type": "display_data",
          "data": {
            "text/html": [
              "<html>\n",
              "<head><meta charset=\"utf-8\" /></head>\n",
              "<body>\n",
              "    <div>            <script src=\"https://cdnjs.cloudflare.com/ajax/libs/mathjax/2.7.5/MathJax.js?config=TeX-AMS-MML_SVG\"></script><script type=\"text/javascript\">if (window.MathJax && window.MathJax.Hub && window.MathJax.Hub.Config) {window.MathJax.Hub.Config({SVG: {font: \"STIX-Web\"}});}</script>                <script type=\"text/javascript\">window.PlotlyConfig = {MathJaxConfig: 'local'};</script>\n",
              "        <script charset=\"utf-8\" src=\"https://cdn.plot.ly/plotly-2.35.2.min.js\"></script>                <div id=\"1c3090cb-6a60-4531-b049-9bd62f69a83d\" class=\"plotly-graph-div\" style=\"height:500px; width:600px;\"></div>            <script type=\"text/javascript\">                                    window.PLOTLYENV=window.PLOTLYENV || {};                                    if (document.getElementById(\"1c3090cb-6a60-4531-b049-9bd62f69a83d\")) {                    Plotly.newPlot(                        \"1c3090cb-6a60-4531-b049-9bd62f69a83d\",                        [{\"alignmentgroup\":\"True\",\"bingroup\":\"x\",\"histfunc\":\"avg\",\"hovertemplate\":\"Primary streaming service=%{x}\\u003cbr\\u003eavg of Age=%{y}\\u003cextra\\u003e\\u003c\\u002fextra\\u003e\",\"legendgroup\":\"\",\"marker\":{\"color\":\"#636efa\",\"pattern\":{\"shape\":\"\"}},\"name\":\"\",\"offsetgroup\":\"\",\"orientation\":\"v\",\"showlegend\":false,\"x\":[\"Spotify\",\"Pandora\",\"Spotify\",\"YouTube Music\",\"Spotify\",\"Spotify\",\"YouTube Music\",\"Spotify\",\"Spotify\",\"I do not use a streaming service.\",\"Spotify\",\"YouTube Music\",\"Spotify\",\"Spotify\",\"Spotify\",\"Spotify\",\"Spotify\",\"Spotify\",\"Spotify\",\"Apple Music\",\"Spotify\",\"I do not use a streaming service.\",\"Spotify\",\"Other streaming service\",\"Spotify\",\"Spotify\",\"YouTube Music\",\"Spotify\",\"Apple Music\",\"Apple Music\",\"Spotify\",\"Spotify\",\"Spotify\",\"Spotify\",\"Spotify\",\"Spotify\",\"Other streaming service\",\"Other streaming service\",\"Spotify\",\"YouTube Music\",\"Spotify\",\"YouTube Music\",\"Spotify\",\"Spotify\",\"I do not use a streaming service.\",\"Spotify\",\"Spotify\",\"Spotify\",\"Spotify\",\"Apple Music\",\"Spotify\",\"Apple Music\",\"Spotify\",\"Spotify\",\"Apple Music\",\"Spotify\",\"I do not use a streaming service.\",\"Spotify\",\"I do not use a streaming service.\",\"YouTube Music\",\"Pandora\",\"Other streaming service\",\"Spotify\",\"Spotify\",\"Spotify\",\"Spotify\",\"Spotify\",\"Apple Music\",\"I do not use a streaming service.\",\"YouTube Music\",\"Spotify\",\"Spotify\",\"Spotify\",\"Apple Music\",\"Spotify\",\"Spotify\",\"Spotify\",\"YouTube Music\",\"YouTube Music\",\"Spotify\",\"Spotify\",\"Spotify\",\"Spotify\",\"Spotify\",\"Spotify\",\"Spotify\",\"I do not use a streaming service.\",\"Spotify\",\"Spotify\",\"Spotify\",\"I do not use a streaming service.\",\"Spotify\",\"YouTube Music\",\"YouTube Music\",\"Spotify\",\"Spotify\",\"Spotify\",\"Spotify\",\"Spotify\",\"Spotify\",\"I do not use a streaming service.\",\"Apple Music\",\"YouTube Music\",\"Spotify\",\"YouTube Music\",\"Spotify\",\"Spotify\",\"Other streaming service\",\"YouTube Music\",\"Spotify\",\"Spotify\",\"YouTube Music\",\"Spotify\",\"Spotify\",\"Spotify\",\"Spotify\",\"Spotify\",\"Spotify\",\"Spotify\",\"Spotify\",\"Apple Music\",\"Spotify\",\"YouTube Music\",\"Other streaming service\",\"Spotify\",\"Spotify\",\"Spotify\",\"Spotify\",\"Spotify\",\"YouTube Music\",\"Spotify\",\"Spotify\",\"Other streaming service\",\"Spotify\",\"Spotify\",\"Spotify\",\"Apple Music\",\"YouTube Music\",\"Spotify\",\"Spotify\",\"Spotify\",\"Spotify\",\"Spotify\",\"Spotify\",\"Spotify\",\"Other streaming service\",\"Spotify\",\"Spotify\",\"Spotify\",\"Spotify\",\"Spotify\",\"I do not use a streaming service.\",\"Spotify\",\"Spotify\",\"Spotify\",\"Spotify\",\"I do not use a streaming service.\",\"YouTube Music\",\"Spotify\",\"Spotify\",\"Other streaming service\",\"Other streaming service\",\"Spotify\",\"Spotify\",\"Spotify\",\"Spotify\",\"Spotify\",\"Spotify\",\"YouTube Music\",\"Pandora\",\"YouTube Music\",\"Apple Music\",\"Spotify\",\"I do not use a streaming service.\",\"Spotify\",\"Spotify\",\"YouTube Music\",\"Spotify\",\"Spotify\",\"Spotify\",\"Other streaming service\",\"I do not use a streaming service.\",\"Apple Music\",\"Spotify\",\"Apple Music\",\"Spotify\",\"Spotify\",\"Spotify\",\"Spotify\",\"Spotify\",\"Spotify\",\"Spotify\",\"Apple Music\",\"Spotify\",\"Other streaming service\",\"Spotify\",\"Spotify\",\"Spotify\",\"YouTube Music\",\"Spotify\",\"YouTube Music\",\"Spotify\",\"Other streaming service\",\"Spotify\",\"Spotify\",\"I do not use a streaming service.\",\"Spotify\",\"YouTube Music\",\"Spotify\",\"Spotify\",\"Spotify\",\"Spotify\",\"Spotify\",\"Spotify\",\"Spotify\",\"Spotify\",\"Spotify\",\"Spotify\",\"I do not use a streaming service.\",\"Spotify\",\"Spotify\",\"Spotify\",\"YouTube Music\",\"YouTube Music\",\"Spotify\",\"Spotify\",\"Other streaming service\",\"Apple Music\",\"I do not use a streaming service.\",\"Spotify\",\"YouTube Music\",\"Spotify\",\"Other streaming service\",\"Spotify\",\"Spotify\",\"Spotify\",\"I do not use a streaming service.\",\"Spotify\",\"Spotify\",\"Apple Music\",\"Spotify\",\"Spotify\",\"YouTube Music\",\"Spotify\",\"Spotify\",\"Spotify\",\"Apple Music\",\"Spotify\",\"Spotify\",\"Spotify\",\"Spotify\",\"Other streaming service\",\"Spotify\",\"I do not use a streaming service.\",\"I do not use a streaming service.\",\"YouTube Music\",\"Spotify\",\"Spotify\",\"Apple Music\",\"YouTube Music\",\"I do not use a streaming service.\",\"Spotify\",\"Spotify\",\"Spotify\",\"I do not use a streaming service.\",\"Spotify\",\"Spotify\",\"YouTube Music\",\"YouTube Music\",\"Spotify\",\"Other streaming service\",\"Spotify\",\"I do not use a streaming service.\",\"Other streaming service\",\"Spotify\",\"Spotify\",\"I do not use a streaming service.\",\"Spotify\",\"Spotify\",\"Other streaming service\",\"Spotify\",\"Apple Music\",\"Spotify\",\"Spotify\",\"Spotify\",\"Spotify\",\"Apple Music\",\"Other streaming service\",\"Other streaming service\",\"Spotify\",\"Spotify\",\"Spotify\",\"Spotify\",\"Spotify\",\"I do not use a streaming service.\",\"Apple Music\",\"Spotify\",\"Spotify\",\"Apple Music\",\"Spotify\",\"Spotify\",\"Spotify\",\"Apple Music\",\"Apple Music\",\"I do not use a streaming service.\",\"Spotify\",\"Spotify\",\"Spotify\",\"Spotify\",\"Spotify\",\"Spotify\",\"Spotify\",\"I do not use a streaming service.\",\"YouTube Music\",\"Spotify\",\"Spotify\",\"Spotify\",\"Spotify\",\"Spotify\",\"Spotify\",\"Spotify\",\"Apple Music\",\"Spotify\",\"YouTube Music\",\"Spotify\",\"Apple Music\",\"Spotify\",\"Spotify\",\"Spotify\",\"Spotify\",\"Spotify\",\"Spotify\",\"Spotify\",\"Spotify\",\"Spotify\",\"Spotify\",\"Spotify\",\"YouTube Music\",\"Spotify\",\"Spotify\",\"I do not use a streaming service.\",\"I do not use a streaming service.\",\"Spotify\",\"Spotify\",\"Spotify\",\"YouTube Music\",\"Spotify\",\"YouTube Music\",\"Spotify\",\"YouTube Music\",\"Spotify\",\"YouTube Music\",\"Spotify\",\"Spotify\",\"Other streaming service\",\"Spotify\",\"Spotify\",\"YouTube Music\",\"Spotify\",\"I do not use a streaming service.\",\"Spotify\",\"I do not use a streaming service.\",\"Spotify\",\"Spotify\",\"Spotify\",\"Spotify\",\"Spotify\",\"Pandora\",\"YouTube Music\",\"Spotify\",\"Spotify\",\"Spotify\",\"Apple Music\",\"Spotify\",\"YouTube Music\",\"Other streaming service\",\"Apple Music\",\"I do not use a streaming service.\",\"Pandora\",\"YouTube Music\",\"I do not use a streaming service.\",\"I do not use a streaming service.\",\"Apple Music\",\"YouTube Music\",\"Other streaming service\",\"Other streaming service\",\"Spotify\",\"Spotify\",\"Spotify\",\"I do not use a streaming service.\",\"Spotify\",\"Spotify\",\"Other streaming service\",\"Apple Music\",\"Spotify\",\"YouTube Music\",\"Apple Music\",\"Spotify\",\"YouTube Music\",\"Apple Music\",\"Spotify\",\"Spotify\",\"Apple Music\",\"Other streaming service\",\"Spotify\",\"Spotify\",\"Spotify\",\"YouTube Music\",\"Spotify\",\"YouTube Music\",\"Spotify\",\"Spotify\",\"Spotify\",\"Spotify\",\"Pandora\",\"Spotify\",\"Spotify\",\"YouTube Music\",\"Spotify\",\"YouTube Music\",\"Spotify\",\"Other streaming service\",\"Spotify\",\"YouTube Music\",\"Spotify\",\"Spotify\",\"I do not use a streaming service.\",\"Spotify\",\"Pandora\",\"Spotify\",\"YouTube Music\",\"Spotify\",\"Spotify\",\"Spotify\",\"Spotify\",\"Spotify\",\"Spotify\",\"Apple Music\",\"Spotify\",\"Other streaming service\",\"Apple Music\",\"Spotify\",\"Spotify\",\"Spotify\",\"Spotify\",\"Spotify\",\"Apple Music\",\"Apple Music\",\"Spotify\",\"Spotify\",\"I do not use a streaming service.\",\"Spotify\",\"Pandora\",\"Spotify\",\"Spotify\",\"Spotify\",\"I do not use a streaming service.\",\"I do not use a streaming service.\",\"Spotify\",\"YouTube Music\",\"I do not use a streaming service.\",\"Other streaming service\",\"Spotify\",\"YouTube Music\",\"Spotify\",\"I do not use a streaming service.\",\"Spotify\",\"YouTube Music\",\"Spotify\",\"Spotify\",\"Spotify\",\"Spotify\",\"YouTube Music\",\"YouTube Music\",\"Other streaming service\",\"I do not use a streaming service.\",\"YouTube Music\",\"Spotify\",\"YouTube Music\",\"Other streaming service\",\"Other streaming service\",\"Spotify\",\"YouTube Music\",\"YouTube Music\",\"YouTube Music\",\"Spotify\",\"Spotify\",\"Spotify\",\"Spotify\",\"I do not use a streaming service.\",\"YouTube Music\",\"I do not use a streaming service.\",\"Spotify\",\"I do not use a streaming service.\",\"Pandora\",\"Spotify\",\"Spotify\",\"Spotify\",\"I do not use a streaming service.\",\"Spotify\",\"Spotify\",\"Apple Music\",\"Spotify\",\"Spotify\",\"Spotify\",\"Spotify\",\"Other streaming service\",\"Spotify\",\"YouTube Music\",\"Other streaming service\",\"Other streaming service\",\"I do not use a streaming service.\",\"YouTube Music\",\"YouTube Music\",\"Spotify\",\"YouTube Music\",\"Spotify\",\"Apple Music\",\"Spotify\",\"I do not use a streaming service.\",\"Spotify\",\"Spotify\",\"Apple Music\",\"Spotify\",\"I do not use a streaming service.\",\"Spotify\",\"I do not use a streaming service.\",\"I do not use a streaming service.\",\"Other streaming service\",\"YouTube Music\",\"Spotify\",\"I do not use a streaming service.\",\"Spotify\",\"Apple Music\",\"Spotify\",\"Spotify\",\"I do not use a streaming service.\",\"Spotify\",\"Apple Music\",\"Other streaming service\",\"Spotify\",\"Spotify\",\"Spotify\",\"YouTube Music\",\"Spotify\",\"Spotify\",\"Spotify\",\"Spotify\",\"Spotify\",\"Other streaming service\",\"Spotify\",\"YouTube Music\",\"Spotify\",\"I do not use a streaming service.\",\"Spotify\",\"Spotify\",\"I do not use a streaming service.\",\"Spotify\",\"Spotify\",\"Spotify\",\"Spotify\",\"Spotify\",\"Spotify\",\"Spotify\",\"Spotify\",\"Spotify\",\"Pandora\",\"Spotify\",\"Spotify\",\"Pandora\",\"Spotify\",\"Spotify\",\"Spotify\",\"Spotify\",\"Spotify\",\"Other streaming service\",\"YouTube Music\",\"I do not use a streaming service.\",\"Spotify\",\"Spotify\",\"Spotify\",\"Other streaming service\",\"Spotify\",\"Spotify\",\"Apple Music\",\"I do not use a streaming service.\",\"Spotify\",\"Spotify\",\"Spotify\",\"Spotify\",\"Other streaming service\",\"Other streaming service\",\"Other streaming service\",\"Spotify\",\"Spotify\",\"Spotify\",\"YouTube Music\",\"Spotify\",\"Spotify\",\"Spotify\",\"Spotify\",\"Spotify\",\"I do not use a streaming service.\",\"Spotify\",\"Spotify\",\"Spotify\",\"I do not use a streaming service.\",\"Spotify\",\"Other streaming service\",\"I do not use a streaming service.\",\"Spotify\",\"Spotify\",\"Apple Music\",\"Spotify\",\"Spotify\",\"Spotify\",\"Spotify\",\"YouTube Music\",\"Spotify\",\"YouTube Music\",\"Spotify\",\"Spotify\",\"Spotify\",\"I do not use a streaming service.\",\"Spotify\",\"YouTube Music\",\"I do not use a streaming service.\",\"Spotify\",\"Spotify\",\"YouTube Music\",\"Spotify\",\"Spotify\",\"Spotify\",\"YouTube Music\",\"I do not use a streaming service.\",\"Spotify\",\"Spotify\",\"Spotify\",\"I do not use a streaming service.\",\"Spotify\",\"Apple Music\",\"Spotify\",\"Other streaming service\",\"Other streaming service\",\"YouTube Music\",\"YouTube Music\",\"YouTube Music\",\"Spotify\",\"Spotify\",\"Spotify\",\"Spotify\",\"Spotify\",\"Spotify\",\"I do not use a streaming service.\",\"I do not use a streaming service.\",\"I do not use a streaming service.\",\"I do not use a streaming service.\",\"YouTube Music\",\"Apple Music\",\"Spotify\",\"Spotify\",\"Spotify\",\"YouTube Music\",\"Other streaming service\",\"Spotify\",\"Spotify\",\"Spotify\",\"Spotify\",\"Spotify\",\"YouTube Music\",\"Spotify\",\"Spotify\",\"Spotify\",\"Spotify\",\"Spotify\",\"Spotify\",\"Spotify\",\"YouTube Music\",\"YouTube Music\",\"Spotify\",\"Spotify\",\"Apple Music\",\"Apple Music\",\"Spotify\",\"Spotify\",\"I do not use a streaming service.\",\"I do not use a streaming service.\",\"Spotify\",\"Spotify\",\"Spotify\",\"Spotify\",\"Spotify\",\"YouTube Music\",\"Spotify\",\"Spotify\",\"Spotify\",\"Spotify\",\"Spotify\",\"Spotify\",\"YouTube Music\",\"YouTube Music\",\"Spotify\",\"YouTube Music\",\"Spotify\",\"Spotify\",\"Spotify\",\"Spotify\",\"Spotify\",\"Spotify\",\"Spotify\",\"Spotify\",\"I do not use a streaming service.\",\"YouTube Music\",\"Apple Music\",\"Spotify\",\"Spotify\",\"Spotify\",\"Spotify\",\"Spotify\",\"Spotify\",\"Spotify\",\"Spotify\",\"Spotify\",\"Spotify\",\"Spotify\",\"Apple Music\",\"YouTube Music\",\"Other streaming service\",\"I do not use a streaming service.\",\"Spotify\",\"Spotify\",\"Spotify\",\"Other streaming service\",\"Spotify\",\"YouTube Music\"],\"xaxis\":\"x\",\"y\":[18,63,18,61,18,18,18,21,19,18,18,19,19,18,17,16,16,17,15,15,17,19,18,16,18,14,18,17,17,20,19,19,17,16,18,21,17,26,20,23,18,37,17,18,17,36,24,18,19,17,16,23,23,22,16,18,42,23,23,19,22,15,25,32,36,24,29,41,36,19,31,16,26,22,16,17,19,18,18,19,19,22,16,19,37,14,33,26,32,30,43,24,36,19,22,20,31,19,15,18,25,17,28,20,21,41,20,34,21,23,16,19,22,19,23,23,22,17,28,23,19,17,21,29,22,18,13,24,35,29,28,32,32,21,18,19,18,16,25,17,16,27,53,25,34,22,17,26,19,21,32,21,25,26,21,17,28,41,18,22,18,49,21,27,19,27,27,19,42,60,19,20,28,16,18,34,18,21,38,17,35,21,25,18,16,19,31,26,16,26,17,22,20,30,26,19,21,33,28,25,22,19,44,22,26,23,17,42,30,35,20,18,21,19,37,31,29,20,36,18,18,25,18,31,17,21,30,40,64,14,26,35,33,30,31,27,53,23,25,16,18,29,31,31,38,17,25,20,15,16,20,23,22,15,17,22,21,19,32,34,18,21,20,19,25,31,21,31,20,19,19,23,24,20,15,17,20,14,24,14,23,28,22,25,27,18,17,23,40,27,18,16,18,23,15,20,16,16,20,33,22,21,21,29,56,17,22,26,30,49,22,32,32,22,17,21,17,25,15,13,38,23,17,59,22,17,27,23,15,22,23,19,32,40,21,21,23,21,35,18,21,22,23,13,19,33,18,17,16,18,19,15,17,25,24,23,16,25,16,20,17,29,20,16,21,16,43,32,10,27,24,18,17,19,16,64,33,32,15,27,20,23,19,12,16,17,14,32,20,54,18,14,13,19,14,14,18,15,24,17,44,23,21,57,23,18,26,13,15,57,12,26,17,17,69,17,32,22,38,18,14,14,19,20,18,30,31,72,73,16,19,16,12,39,15,14,21,38,23,16,21,13,16,18,21,17,24,14,25,22,20,23,61,24,34,49,33,22,38,23,34,40,27,54,16,23,35,22,41,63,28,22,58,58,67,70,60,15,18,58,28,22,49,20,55,48,14,18,25,71,60,18,19,74,36,14,20,15,19,29,24,18,21,19,25,28,27,60,25,60,43,51,63,64,22,24,19,56,20,19,20,60,65,28,18,42,80,22,56,20,15,67,57,22,17,19,50,24,67,18,20,15,17,32,18,18,18,19,18,17,34,18,18,22,18,19,25,17,25,18,21,24,16,18,18,16,68,16,21,53,29,18,29,18,22,19,13,26,14,27,26,59,30,27,18,23,18,40,24,23,56,29,16,18,21,32,22,17,18,18,24,21,46,18,16,21,19,20,21,56,21,20,21,25,33,20,17,24,26,17,16,27,28,48,19,21,21,15,20,21,22,22,31,20,49,42,26,17,30,23,30,31,42,16,34,21,27,18,26,37,26,19,22,43,24,21,28,23,20,17,19,32,18,20,27,15,26,24,20,21,16,21,27,17,21,17,21,17,36,18,18,18,18,18,18,18,18,18,20,19,17,23,18,19,89,20,16,17,16,20,30,37,44,21,19,23,26,18,35,16,19,23,17,29,21,17,23,17,22,17,19,19,16,19,13,18,26,14,21,21,17,18,19,19,29],\"yaxis\":\"y\",\"type\":\"histogram\"}],                        {\"template\":{\"data\":{\"histogram2dcontour\":[{\"type\":\"histogram2dcontour\",\"colorbar\":{\"outlinewidth\":0,\"ticks\":\"\"},\"colorscale\":[[0.0,\"#0d0887\"],[0.1111111111111111,\"#46039f\"],[0.2222222222222222,\"#7201a8\"],[0.3333333333333333,\"#9c179e\"],[0.4444444444444444,\"#bd3786\"],[0.5555555555555556,\"#d8576b\"],[0.6666666666666666,\"#ed7953\"],[0.7777777777777778,\"#fb9f3a\"],[0.8888888888888888,\"#fdca26\"],[1.0,\"#f0f921\"]]}],\"choropleth\":[{\"type\":\"choropleth\",\"colorbar\":{\"outlinewidth\":0,\"ticks\":\"\"}}],\"histogram2d\":[{\"type\":\"histogram2d\",\"colorbar\":{\"outlinewidth\":0,\"ticks\":\"\"},\"colorscale\":[[0.0,\"#0d0887\"],[0.1111111111111111,\"#46039f\"],[0.2222222222222222,\"#7201a8\"],[0.3333333333333333,\"#9c179e\"],[0.4444444444444444,\"#bd3786\"],[0.5555555555555556,\"#d8576b\"],[0.6666666666666666,\"#ed7953\"],[0.7777777777777778,\"#fb9f3a\"],[0.8888888888888888,\"#fdca26\"],[1.0,\"#f0f921\"]]}],\"heatmap\":[{\"type\":\"heatmap\",\"colorbar\":{\"outlinewidth\":0,\"ticks\":\"\"},\"colorscale\":[[0.0,\"#0d0887\"],[0.1111111111111111,\"#46039f\"],[0.2222222222222222,\"#7201a8\"],[0.3333333333333333,\"#9c179e\"],[0.4444444444444444,\"#bd3786\"],[0.5555555555555556,\"#d8576b\"],[0.6666666666666666,\"#ed7953\"],[0.7777777777777778,\"#fb9f3a\"],[0.8888888888888888,\"#fdca26\"],[1.0,\"#f0f921\"]]}],\"heatmapgl\":[{\"type\":\"heatmapgl\",\"colorbar\":{\"outlinewidth\":0,\"ticks\":\"\"},\"colorscale\":[[0.0,\"#0d0887\"],[0.1111111111111111,\"#46039f\"],[0.2222222222222222,\"#7201a8\"],[0.3333333333333333,\"#9c179e\"],[0.4444444444444444,\"#bd3786\"],[0.5555555555555556,\"#d8576b\"],[0.6666666666666666,\"#ed7953\"],[0.7777777777777778,\"#fb9f3a\"],[0.8888888888888888,\"#fdca26\"],[1.0,\"#f0f921\"]]}],\"contourcarpet\":[{\"type\":\"contourcarpet\",\"colorbar\":{\"outlinewidth\":0,\"ticks\":\"\"}}],\"contour\":[{\"type\":\"contour\",\"colorbar\":{\"outlinewidth\":0,\"ticks\":\"\"},\"colorscale\":[[0.0,\"#0d0887\"],[0.1111111111111111,\"#46039f\"],[0.2222222222222222,\"#7201a8\"],[0.3333333333333333,\"#9c179e\"],[0.4444444444444444,\"#bd3786\"],[0.5555555555555556,\"#d8576b\"],[0.6666666666666666,\"#ed7953\"],[0.7777777777777778,\"#fb9f3a\"],[0.8888888888888888,\"#fdca26\"],[1.0,\"#f0f921\"]]}],\"surface\":[{\"type\":\"surface\",\"colorbar\":{\"outlinewidth\":0,\"ticks\":\"\"},\"colorscale\":[[0.0,\"#0d0887\"],[0.1111111111111111,\"#46039f\"],[0.2222222222222222,\"#7201a8\"],[0.3333333333333333,\"#9c179e\"],[0.4444444444444444,\"#bd3786\"],[0.5555555555555556,\"#d8576b\"],[0.6666666666666666,\"#ed7953\"],[0.7777777777777778,\"#fb9f3a\"],[0.8888888888888888,\"#fdca26\"],[1.0,\"#f0f921\"]]}],\"mesh3d\":[{\"type\":\"mesh3d\",\"colorbar\":{\"outlinewidth\":0,\"ticks\":\"\"}}],\"scatter\":[{\"fillpattern\":{\"fillmode\":\"overlay\",\"size\":10,\"solidity\":0.2},\"type\":\"scatter\"}],\"parcoords\":[{\"type\":\"parcoords\",\"line\":{\"colorbar\":{\"outlinewidth\":0,\"ticks\":\"\"}}}],\"scatterpolargl\":[{\"type\":\"scatterpolargl\",\"marker\":{\"colorbar\":{\"outlinewidth\":0,\"ticks\":\"\"}}}],\"bar\":[{\"error_x\":{\"color\":\"#2a3f5f\"},\"error_y\":{\"color\":\"#2a3f5f\"},\"marker\":{\"line\":{\"color\":\"#E5ECF6\",\"width\":0.5},\"pattern\":{\"fillmode\":\"overlay\",\"size\":10,\"solidity\":0.2}},\"type\":\"bar\"}],\"scattergeo\":[{\"type\":\"scattergeo\",\"marker\":{\"colorbar\":{\"outlinewidth\":0,\"ticks\":\"\"}}}],\"scatterpolar\":[{\"type\":\"scatterpolar\",\"marker\":{\"colorbar\":{\"outlinewidth\":0,\"ticks\":\"\"}}}],\"histogram\":[{\"marker\":{\"pattern\":{\"fillmode\":\"overlay\",\"size\":10,\"solidity\":0.2}},\"type\":\"histogram\"}],\"scattergl\":[{\"type\":\"scattergl\",\"marker\":{\"colorbar\":{\"outlinewidth\":0,\"ticks\":\"\"}}}],\"scatter3d\":[{\"type\":\"scatter3d\",\"line\":{\"colorbar\":{\"outlinewidth\":0,\"ticks\":\"\"}},\"marker\":{\"colorbar\":{\"outlinewidth\":0,\"ticks\":\"\"}}}],\"scattermapbox\":[{\"type\":\"scattermapbox\",\"marker\":{\"colorbar\":{\"outlinewidth\":0,\"ticks\":\"\"}}}],\"scatterternary\":[{\"type\":\"scatterternary\",\"marker\":{\"colorbar\":{\"outlinewidth\":0,\"ticks\":\"\"}}}],\"scattercarpet\":[{\"type\":\"scattercarpet\",\"marker\":{\"colorbar\":{\"outlinewidth\":0,\"ticks\":\"\"}}}],\"carpet\":[{\"aaxis\":{\"endlinecolor\":\"#2a3f5f\",\"gridcolor\":\"white\",\"linecolor\":\"white\",\"minorgridcolor\":\"white\",\"startlinecolor\":\"#2a3f5f\"},\"baxis\":{\"endlinecolor\":\"#2a3f5f\",\"gridcolor\":\"white\",\"linecolor\":\"white\",\"minorgridcolor\":\"white\",\"startlinecolor\":\"#2a3f5f\"},\"type\":\"carpet\"}],\"table\":[{\"cells\":{\"fill\":{\"color\":\"#EBF0F8\"},\"line\":{\"color\":\"white\"}},\"header\":{\"fill\":{\"color\":\"#C8D4E3\"},\"line\":{\"color\":\"white\"}},\"type\":\"table\"}],\"barpolar\":[{\"marker\":{\"line\":{\"color\":\"#E5ECF6\",\"width\":0.5},\"pattern\":{\"fillmode\":\"overlay\",\"size\":10,\"solidity\":0.2}},\"type\":\"barpolar\"}],\"pie\":[{\"automargin\":true,\"type\":\"pie\"}]},\"layout\":{\"autotypenumbers\":\"strict\",\"colorway\":[\"#636efa\",\"#EF553B\",\"#00cc96\",\"#ab63fa\",\"#FFA15A\",\"#19d3f3\",\"#FF6692\",\"#B6E880\",\"#FF97FF\",\"#FECB52\"],\"font\":{\"color\":\"#2a3f5f\"},\"hovermode\":\"closest\",\"hoverlabel\":{\"align\":\"left\"},\"paper_bgcolor\":\"white\",\"plot_bgcolor\":\"#E5ECF6\",\"polar\":{\"bgcolor\":\"#E5ECF6\",\"angularaxis\":{\"gridcolor\":\"white\",\"linecolor\":\"white\",\"ticks\":\"\"},\"radialaxis\":{\"gridcolor\":\"white\",\"linecolor\":\"white\",\"ticks\":\"\"}},\"ternary\":{\"bgcolor\":\"#E5ECF6\",\"aaxis\":{\"gridcolor\":\"white\",\"linecolor\":\"white\",\"ticks\":\"\"},\"baxis\":{\"gridcolor\":\"white\",\"linecolor\":\"white\",\"ticks\":\"\"},\"caxis\":{\"gridcolor\":\"white\",\"linecolor\":\"white\",\"ticks\":\"\"}},\"coloraxis\":{\"colorbar\":{\"outlinewidth\":0,\"ticks\":\"\"}},\"colorscale\":{\"sequential\":[[0.0,\"#0d0887\"],[0.1111111111111111,\"#46039f\"],[0.2222222222222222,\"#7201a8\"],[0.3333333333333333,\"#9c179e\"],[0.4444444444444444,\"#bd3786\"],[0.5555555555555556,\"#d8576b\"],[0.6666666666666666,\"#ed7953\"],[0.7777777777777778,\"#fb9f3a\"],[0.8888888888888888,\"#fdca26\"],[1.0,\"#f0f921\"]],\"sequentialminus\":[[0.0,\"#0d0887\"],[0.1111111111111111,\"#46039f\"],[0.2222222222222222,\"#7201a8\"],[0.3333333333333333,\"#9c179e\"],[0.4444444444444444,\"#bd3786\"],[0.5555555555555556,\"#d8576b\"],[0.6666666666666666,\"#ed7953\"],[0.7777777777777778,\"#fb9f3a\"],[0.8888888888888888,\"#fdca26\"],[1.0,\"#f0f921\"]],\"diverging\":[[0,\"#8e0152\"],[0.1,\"#c51b7d\"],[0.2,\"#de77ae\"],[0.3,\"#f1b6da\"],[0.4,\"#fde0ef\"],[0.5,\"#f7f7f7\"],[0.6,\"#e6f5d0\"],[0.7,\"#b8e186\"],[0.8,\"#7fbc41\"],[0.9,\"#4d9221\"],[1,\"#276419\"]]},\"xaxis\":{\"gridcolor\":\"white\",\"linecolor\":\"white\",\"ticks\":\"\",\"title\":{\"standoff\":15},\"zerolinecolor\":\"white\",\"automargin\":true,\"zerolinewidth\":2},\"yaxis\":{\"gridcolor\":\"white\",\"linecolor\":\"white\",\"ticks\":\"\",\"title\":{\"standoff\":15},\"zerolinecolor\":\"white\",\"automargin\":true,\"zerolinewidth\":2},\"scene\":{\"xaxis\":{\"backgroundcolor\":\"#E5ECF6\",\"gridcolor\":\"white\",\"linecolor\":\"white\",\"showbackground\":true,\"ticks\":\"\",\"zerolinecolor\":\"white\",\"gridwidth\":2},\"yaxis\":{\"backgroundcolor\":\"#E5ECF6\",\"gridcolor\":\"white\",\"linecolor\":\"white\",\"showbackground\":true,\"ticks\":\"\",\"zerolinecolor\":\"white\",\"gridwidth\":2},\"zaxis\":{\"backgroundcolor\":\"#E5ECF6\",\"gridcolor\":\"white\",\"linecolor\":\"white\",\"showbackground\":true,\"ticks\":\"\",\"zerolinecolor\":\"white\",\"gridwidth\":2}},\"shapedefaults\":{\"line\":{\"color\":\"#2a3f5f\"}},\"annotationdefaults\":{\"arrowcolor\":\"#2a3f5f\",\"arrowhead\":0,\"arrowwidth\":1},\"geo\":{\"bgcolor\":\"white\",\"landcolor\":\"#E5ECF6\",\"subunitcolor\":\"white\",\"showland\":true,\"showlakes\":true,\"lakecolor\":\"white\"},\"title\":{\"x\":0.05},\"mapbox\":{\"style\":\"light\"}}},\"xaxis\":{\"anchor\":\"y\",\"domain\":[0.0,1.0],\"title\":{\"text\":\"Primary streaming service\"}},\"yaxis\":{\"anchor\":\"x\",\"domain\":[0.0,1.0],\"title\":{\"text\":\"avg of Age\"},\"tickformat\":\"d\"},\"legend\":{\"tracegroupgap\":0},\"title\":{\"text\":\"Statystyka używania serwisów streamingowych oparta o wiek\"},\"barmode\":\"relative\",\"height\":500,\"width\":600},                        {\"responsive\": true}                    ).then(function(){\n",
              "                            \n",
              "var gd = document.getElementById('1c3090cb-6a60-4531-b049-9bd62f69a83d');\n",
              "var x = new MutationObserver(function (mutations, observer) {{\n",
              "        var display = window.getComputedStyle(gd).display;\n",
              "        if (!display || display === 'none') {{\n",
              "            console.log([gd, 'removed!']);\n",
              "            Plotly.purge(gd);\n",
              "            observer.disconnect();\n",
              "        }}\n",
              "}});\n",
              "\n",
              "// Listen for the removal of the full notebook cells\n",
              "var notebookContainer = gd.closest('#notebook-container');\n",
              "if (notebookContainer) {{\n",
              "    x.observe(notebookContainer, {childList: true});\n",
              "}}\n",
              "\n",
              "// Listen for the clearing of the current output cell\n",
              "var outputEl = gd.closest('.output');\n",
              "if (outputEl) {{\n",
              "    x.observe(outputEl, {childList: true});\n",
              "}}\n",
              "\n",
              "                        })                };                            </script>        </div>\n",
              "</body>\n",
              "</html>"
            ]
          },
          "metadata": {}
        }
      ]
    },
    {
      "cell_type": "markdown",
      "source": [
        "### Gatunki muzyczne"
      ],
      "metadata": {
        "id": "GV9kor48oN7p"
      }
    },
    {
      "cell_type": "code",
      "source": [
        "fav_genres = df.groupby('Fav genre').size().reset_index(name='count')\n",
        "\n",
        "genres_pie = px.pie(\n",
        "    fav_genres,\n",
        "    values='count',\n",
        "    names='Fav genre',\n",
        "    hole=0.2,\n",
        "    title='Najpopularniejszy gatunek muzyki',\n",
        "    height=500,\n",
        "    width=800)\n",
        "\n",
        "genres_pie.show()"
      ],
      "metadata": {
        "colab": {
          "base_uri": "https://localhost:8080/",
          "height": 606
        },
        "id": "DQlVpHyzJwcV",
        "outputId": "b14c6b81-1abc-46ef-a4fb-b2e4a86ca845"
      },
      "execution_count": 101,
      "outputs": [
        {
          "output_type": "stream",
          "name": "stderr",
          "text": [
            "<ipython-input-101-23dc7b3659cc>:1: FutureWarning:\n",
            "\n",
            "The default of observed=False is deprecated and will be changed to True in a future version of pandas. Pass observed=False to retain current behavior or observed=True to adopt the future default and silence this warning.\n",
            "\n"
          ]
        },
        {
          "output_type": "display_data",
          "data": {
            "text/html": [
              "<html>\n",
              "<head><meta charset=\"utf-8\" /></head>\n",
              "<body>\n",
              "    <div>            <script src=\"https://cdnjs.cloudflare.com/ajax/libs/mathjax/2.7.5/MathJax.js?config=TeX-AMS-MML_SVG\"></script><script type=\"text/javascript\">if (window.MathJax && window.MathJax.Hub && window.MathJax.Hub.Config) {window.MathJax.Hub.Config({SVG: {font: \"STIX-Web\"}});}</script>                <script type=\"text/javascript\">window.PlotlyConfig = {MathJaxConfig: 'local'};</script>\n",
              "        <script charset=\"utf-8\" src=\"https://cdn.plot.ly/plotly-2.35.2.min.js\"></script>                <div id=\"62834d8c-c344-4de8-8394-466f8cb4ca3e\" class=\"plotly-graph-div\" style=\"height:500px; width:800px;\"></div>            <script type=\"text/javascript\">                                    window.PLOTLYENV=window.PLOTLYENV || {};                                    if (document.getElementById(\"62834d8c-c344-4de8-8394-466f8cb4ca3e\")) {                    Plotly.newPlot(                        \"62834d8c-c344-4de8-8394-466f8cb4ca3e\",                        [{\"domain\":{\"x\":[0.0,1.0],\"y\":[0.0,1.0]},\"hole\":0.2,\"hovertemplate\":\"Fav genre=%{label}\\u003cbr\\u003ecount=%{value}\\u003cextra\\u003e\\u003c\\u002fextra\\u003e\",\"labels\":[\"Classical\",\"Country\",\"EDM\",\"Folk\",\"Gospel\",\"Hip hop\",\"Jazz\",\"K pop\",\"Latin\",\"Lofi\",\"Metal\",\"Pop\",\"R&B\",\"Rap\",\"Rock\",\"Video game music\"],\"legendgroup\":\"\",\"name\":\"\",\"showlegend\":true,\"values\":[53,25,37,30,6,34,20,26,3,10,88,114,35,22,188,44],\"type\":\"pie\"}],                        {\"template\":{\"data\":{\"histogram2dcontour\":[{\"type\":\"histogram2dcontour\",\"colorbar\":{\"outlinewidth\":0,\"ticks\":\"\"},\"colorscale\":[[0.0,\"#0d0887\"],[0.1111111111111111,\"#46039f\"],[0.2222222222222222,\"#7201a8\"],[0.3333333333333333,\"#9c179e\"],[0.4444444444444444,\"#bd3786\"],[0.5555555555555556,\"#d8576b\"],[0.6666666666666666,\"#ed7953\"],[0.7777777777777778,\"#fb9f3a\"],[0.8888888888888888,\"#fdca26\"],[1.0,\"#f0f921\"]]}],\"choropleth\":[{\"type\":\"choropleth\",\"colorbar\":{\"outlinewidth\":0,\"ticks\":\"\"}}],\"histogram2d\":[{\"type\":\"histogram2d\",\"colorbar\":{\"outlinewidth\":0,\"ticks\":\"\"},\"colorscale\":[[0.0,\"#0d0887\"],[0.1111111111111111,\"#46039f\"],[0.2222222222222222,\"#7201a8\"],[0.3333333333333333,\"#9c179e\"],[0.4444444444444444,\"#bd3786\"],[0.5555555555555556,\"#d8576b\"],[0.6666666666666666,\"#ed7953\"],[0.7777777777777778,\"#fb9f3a\"],[0.8888888888888888,\"#fdca26\"],[1.0,\"#f0f921\"]]}],\"heatmap\":[{\"type\":\"heatmap\",\"colorbar\":{\"outlinewidth\":0,\"ticks\":\"\"},\"colorscale\":[[0.0,\"#0d0887\"],[0.1111111111111111,\"#46039f\"],[0.2222222222222222,\"#7201a8\"],[0.3333333333333333,\"#9c179e\"],[0.4444444444444444,\"#bd3786\"],[0.5555555555555556,\"#d8576b\"],[0.6666666666666666,\"#ed7953\"],[0.7777777777777778,\"#fb9f3a\"],[0.8888888888888888,\"#fdca26\"],[1.0,\"#f0f921\"]]}],\"heatmapgl\":[{\"type\":\"heatmapgl\",\"colorbar\":{\"outlinewidth\":0,\"ticks\":\"\"},\"colorscale\":[[0.0,\"#0d0887\"],[0.1111111111111111,\"#46039f\"],[0.2222222222222222,\"#7201a8\"],[0.3333333333333333,\"#9c179e\"],[0.4444444444444444,\"#bd3786\"],[0.5555555555555556,\"#d8576b\"],[0.6666666666666666,\"#ed7953\"],[0.7777777777777778,\"#fb9f3a\"],[0.8888888888888888,\"#fdca26\"],[1.0,\"#f0f921\"]]}],\"contourcarpet\":[{\"type\":\"contourcarpet\",\"colorbar\":{\"outlinewidth\":0,\"ticks\":\"\"}}],\"contour\":[{\"type\":\"contour\",\"colorbar\":{\"outlinewidth\":0,\"ticks\":\"\"},\"colorscale\":[[0.0,\"#0d0887\"],[0.1111111111111111,\"#46039f\"],[0.2222222222222222,\"#7201a8\"],[0.3333333333333333,\"#9c179e\"],[0.4444444444444444,\"#bd3786\"],[0.5555555555555556,\"#d8576b\"],[0.6666666666666666,\"#ed7953\"],[0.7777777777777778,\"#fb9f3a\"],[0.8888888888888888,\"#fdca26\"],[1.0,\"#f0f921\"]]}],\"surface\":[{\"type\":\"surface\",\"colorbar\":{\"outlinewidth\":0,\"ticks\":\"\"},\"colorscale\":[[0.0,\"#0d0887\"],[0.1111111111111111,\"#46039f\"],[0.2222222222222222,\"#7201a8\"],[0.3333333333333333,\"#9c179e\"],[0.4444444444444444,\"#bd3786\"],[0.5555555555555556,\"#d8576b\"],[0.6666666666666666,\"#ed7953\"],[0.7777777777777778,\"#fb9f3a\"],[0.8888888888888888,\"#fdca26\"],[1.0,\"#f0f921\"]]}],\"mesh3d\":[{\"type\":\"mesh3d\",\"colorbar\":{\"outlinewidth\":0,\"ticks\":\"\"}}],\"scatter\":[{\"fillpattern\":{\"fillmode\":\"overlay\",\"size\":10,\"solidity\":0.2},\"type\":\"scatter\"}],\"parcoords\":[{\"type\":\"parcoords\",\"line\":{\"colorbar\":{\"outlinewidth\":0,\"ticks\":\"\"}}}],\"scatterpolargl\":[{\"type\":\"scatterpolargl\",\"marker\":{\"colorbar\":{\"outlinewidth\":0,\"ticks\":\"\"}}}],\"bar\":[{\"error_x\":{\"color\":\"#2a3f5f\"},\"error_y\":{\"color\":\"#2a3f5f\"},\"marker\":{\"line\":{\"color\":\"#E5ECF6\",\"width\":0.5},\"pattern\":{\"fillmode\":\"overlay\",\"size\":10,\"solidity\":0.2}},\"type\":\"bar\"}],\"scattergeo\":[{\"type\":\"scattergeo\",\"marker\":{\"colorbar\":{\"outlinewidth\":0,\"ticks\":\"\"}}}],\"scatterpolar\":[{\"type\":\"scatterpolar\",\"marker\":{\"colorbar\":{\"outlinewidth\":0,\"ticks\":\"\"}}}],\"histogram\":[{\"marker\":{\"pattern\":{\"fillmode\":\"overlay\",\"size\":10,\"solidity\":0.2}},\"type\":\"histogram\"}],\"scattergl\":[{\"type\":\"scattergl\",\"marker\":{\"colorbar\":{\"outlinewidth\":0,\"ticks\":\"\"}}}],\"scatter3d\":[{\"type\":\"scatter3d\",\"line\":{\"colorbar\":{\"outlinewidth\":0,\"ticks\":\"\"}},\"marker\":{\"colorbar\":{\"outlinewidth\":0,\"ticks\":\"\"}}}],\"scattermapbox\":[{\"type\":\"scattermapbox\",\"marker\":{\"colorbar\":{\"outlinewidth\":0,\"ticks\":\"\"}}}],\"scatterternary\":[{\"type\":\"scatterternary\",\"marker\":{\"colorbar\":{\"outlinewidth\":0,\"ticks\":\"\"}}}],\"scattercarpet\":[{\"type\":\"scattercarpet\",\"marker\":{\"colorbar\":{\"outlinewidth\":0,\"ticks\":\"\"}}}],\"carpet\":[{\"aaxis\":{\"endlinecolor\":\"#2a3f5f\",\"gridcolor\":\"white\",\"linecolor\":\"white\",\"minorgridcolor\":\"white\",\"startlinecolor\":\"#2a3f5f\"},\"baxis\":{\"endlinecolor\":\"#2a3f5f\",\"gridcolor\":\"white\",\"linecolor\":\"white\",\"minorgridcolor\":\"white\",\"startlinecolor\":\"#2a3f5f\"},\"type\":\"carpet\"}],\"table\":[{\"cells\":{\"fill\":{\"color\":\"#EBF0F8\"},\"line\":{\"color\":\"white\"}},\"header\":{\"fill\":{\"color\":\"#C8D4E3\"},\"line\":{\"color\":\"white\"}},\"type\":\"table\"}],\"barpolar\":[{\"marker\":{\"line\":{\"color\":\"#E5ECF6\",\"width\":0.5},\"pattern\":{\"fillmode\":\"overlay\",\"size\":10,\"solidity\":0.2}},\"type\":\"barpolar\"}],\"pie\":[{\"automargin\":true,\"type\":\"pie\"}]},\"layout\":{\"autotypenumbers\":\"strict\",\"colorway\":[\"#636efa\",\"#EF553B\",\"#00cc96\",\"#ab63fa\",\"#FFA15A\",\"#19d3f3\",\"#FF6692\",\"#B6E880\",\"#FF97FF\",\"#FECB52\"],\"font\":{\"color\":\"#2a3f5f\"},\"hovermode\":\"closest\",\"hoverlabel\":{\"align\":\"left\"},\"paper_bgcolor\":\"white\",\"plot_bgcolor\":\"#E5ECF6\",\"polar\":{\"bgcolor\":\"#E5ECF6\",\"angularaxis\":{\"gridcolor\":\"white\",\"linecolor\":\"white\",\"ticks\":\"\"},\"radialaxis\":{\"gridcolor\":\"white\",\"linecolor\":\"white\",\"ticks\":\"\"}},\"ternary\":{\"bgcolor\":\"#E5ECF6\",\"aaxis\":{\"gridcolor\":\"white\",\"linecolor\":\"white\",\"ticks\":\"\"},\"baxis\":{\"gridcolor\":\"white\",\"linecolor\":\"white\",\"ticks\":\"\"},\"caxis\":{\"gridcolor\":\"white\",\"linecolor\":\"white\",\"ticks\":\"\"}},\"coloraxis\":{\"colorbar\":{\"outlinewidth\":0,\"ticks\":\"\"}},\"colorscale\":{\"sequential\":[[0.0,\"#0d0887\"],[0.1111111111111111,\"#46039f\"],[0.2222222222222222,\"#7201a8\"],[0.3333333333333333,\"#9c179e\"],[0.4444444444444444,\"#bd3786\"],[0.5555555555555556,\"#d8576b\"],[0.6666666666666666,\"#ed7953\"],[0.7777777777777778,\"#fb9f3a\"],[0.8888888888888888,\"#fdca26\"],[1.0,\"#f0f921\"]],\"sequentialminus\":[[0.0,\"#0d0887\"],[0.1111111111111111,\"#46039f\"],[0.2222222222222222,\"#7201a8\"],[0.3333333333333333,\"#9c179e\"],[0.4444444444444444,\"#bd3786\"],[0.5555555555555556,\"#d8576b\"],[0.6666666666666666,\"#ed7953\"],[0.7777777777777778,\"#fb9f3a\"],[0.8888888888888888,\"#fdca26\"],[1.0,\"#f0f921\"]],\"diverging\":[[0,\"#8e0152\"],[0.1,\"#c51b7d\"],[0.2,\"#de77ae\"],[0.3,\"#f1b6da\"],[0.4,\"#fde0ef\"],[0.5,\"#f7f7f7\"],[0.6,\"#e6f5d0\"],[0.7,\"#b8e186\"],[0.8,\"#7fbc41\"],[0.9,\"#4d9221\"],[1,\"#276419\"]]},\"xaxis\":{\"gridcolor\":\"white\",\"linecolor\":\"white\",\"ticks\":\"\",\"title\":{\"standoff\":15},\"zerolinecolor\":\"white\",\"automargin\":true,\"zerolinewidth\":2},\"yaxis\":{\"gridcolor\":\"white\",\"linecolor\":\"white\",\"ticks\":\"\",\"title\":{\"standoff\":15},\"zerolinecolor\":\"white\",\"automargin\":true,\"zerolinewidth\":2},\"scene\":{\"xaxis\":{\"backgroundcolor\":\"#E5ECF6\",\"gridcolor\":\"white\",\"linecolor\":\"white\",\"showbackground\":true,\"ticks\":\"\",\"zerolinecolor\":\"white\",\"gridwidth\":2},\"yaxis\":{\"backgroundcolor\":\"#E5ECF6\",\"gridcolor\":\"white\",\"linecolor\":\"white\",\"showbackground\":true,\"ticks\":\"\",\"zerolinecolor\":\"white\",\"gridwidth\":2},\"zaxis\":{\"backgroundcolor\":\"#E5ECF6\",\"gridcolor\":\"white\",\"linecolor\":\"white\",\"showbackground\":true,\"ticks\":\"\",\"zerolinecolor\":\"white\",\"gridwidth\":2}},\"shapedefaults\":{\"line\":{\"color\":\"#2a3f5f\"}},\"annotationdefaults\":{\"arrowcolor\":\"#2a3f5f\",\"arrowhead\":0,\"arrowwidth\":1},\"geo\":{\"bgcolor\":\"white\",\"landcolor\":\"#E5ECF6\",\"subunitcolor\":\"white\",\"showland\":true,\"showlakes\":true,\"lakecolor\":\"white\"},\"title\":{\"x\":0.05},\"mapbox\":{\"style\":\"light\"}}},\"legend\":{\"tracegroupgap\":0},\"title\":{\"text\":\"Najpopularniejszy gatunek muzyki\"},\"height\":500,\"width\":800},                        {\"responsive\": true}                    ).then(function(){\n",
              "                            \n",
              "var gd = document.getElementById('62834d8c-c344-4de8-8394-466f8cb4ca3e');\n",
              "var x = new MutationObserver(function (mutations, observer) {{\n",
              "        var display = window.getComputedStyle(gd).display;\n",
              "        if (!display || display === 'none') {{\n",
              "            console.log([gd, 'removed!']);\n",
              "            Plotly.purge(gd);\n",
              "            observer.disconnect();\n",
              "        }}\n",
              "}});\n",
              "\n",
              "// Listen for the removal of the full notebook cells\n",
              "var notebookContainer = gd.closest('#notebook-container');\n",
              "if (notebookContainer) {{\n",
              "    x.observe(notebookContainer, {childList: true});\n",
              "}}\n",
              "\n",
              "// Listen for the clearing of the current output cell\n",
              "var outputEl = gd.closest('.output');\n",
              "if (outputEl) {{\n",
              "    x.observe(outputEl, {childList: true});\n",
              "}}\n",
              "\n",
              "                        })                };                            </script>        </div>\n",
              "</body>\n",
              "</html>"
            ]
          },
          "metadata": {}
        }
      ]
    },
    {
      "cell_type": "code",
      "source": [
        "genre_age_chart = px.scatter(\n",
        "    df,\n",
        "    x='Fav genre',\n",
        "    y='Age',\n",
        "    color='Fav genre',\n",
        "    title='Ulubione gatunki muzyki według wieku',\n",
        "    labels={'Fav genre': '', 'Age': 'Wiek'},\n",
        "    height=550,\n",
        "    width=800)\n",
        "\n",
        "genre_age_chart.update_traces(marker_size=8)\n",
        "genre_age_chart.update_layout(showlegend=False)\n",
        "\n",
        "genre_age_chart.show()"
      ],
      "metadata": {
        "colab": {
          "base_uri": "https://localhost:8080/",
          "height": 567
        },
        "id": "ol6mgJ37sgeu",
        "outputId": "349e2b13-a6a8-4d55-95b8-1467357cdda9"
      },
      "execution_count": 102,
      "outputs": [
        {
          "output_type": "display_data",
          "data": {
            "text/html": [
              "<html>\n",
              "<head><meta charset=\"utf-8\" /></head>\n",
              "<body>\n",
              "    <div>            <script src=\"https://cdnjs.cloudflare.com/ajax/libs/mathjax/2.7.5/MathJax.js?config=TeX-AMS-MML_SVG\"></script><script type=\"text/javascript\">if (window.MathJax && window.MathJax.Hub && window.MathJax.Hub.Config) {window.MathJax.Hub.Config({SVG: {font: \"STIX-Web\"}});}</script>                <script type=\"text/javascript\">window.PlotlyConfig = {MathJaxConfig: 'local'};</script>\n",
              "        <script charset=\"utf-8\" src=\"https://cdn.plot.ly/plotly-2.35.2.min.js\"></script>                <div id=\"c4a9f20b-3817-4080-94c1-1fd0e7622ae5\" class=\"plotly-graph-div\" style=\"height:550px; width:800px;\"></div>            <script type=\"text/javascript\">                                    window.PLOTLYENV=window.PLOTLYENV || {};                                    if (document.getElementById(\"c4a9f20b-3817-4080-94c1-1fd0e7622ae5\")) {                    Plotly.newPlot(                        \"c4a9f20b-3817-4080-94c1-1fd0e7622ae5\",                        [{\"hovertemplate\":\"=%{x}\\u003cbr\\u003eWiek=%{y}\\u003cextra\\u003e\\u003c\\u002fextra\\u003e\",\"legendgroup\":\"Latin\",\"marker\":{\"color\":\"#636efa\",\"symbol\":\"circle\",\"size\":8},\"mode\":\"markers\",\"name\":\"Latin\",\"orientation\":\"v\",\"showlegend\":true,\"x\":[\"Latin\",\"Latin\",\"Latin\"],\"xaxis\":\"x\",\"y\":[18,17,18],\"yaxis\":\"y\",\"type\":\"scatter\"},{\"hovertemplate\":\"=%{x}\\u003cbr\\u003eWiek=%{y}\\u003cextra\\u003e\\u003c\\u002fextra\\u003e\",\"legendgroup\":\"Rock\",\"marker\":{\"color\":\"#EF553B\",\"symbol\":\"circle\",\"size\":8},\"mode\":\"markers\",\"name\":\"Rock\",\"orientation\":\"v\",\"showlegend\":true,\"x\":[\"Rock\",\"Rock\",\"Rock\",\"Rock\",\"Rock\",\"Rock\",\"Rock\",\"Rock\",\"Rock\",\"Rock\",\"Rock\",\"Rock\",\"Rock\",\"Rock\",\"Rock\",\"Rock\",\"Rock\",\"Rock\",\"Rock\",\"Rock\",\"Rock\",\"Rock\",\"Rock\",\"Rock\",\"Rock\",\"Rock\",\"Rock\",\"Rock\",\"Rock\",\"Rock\",\"Rock\",\"Rock\",\"Rock\",\"Rock\",\"Rock\",\"Rock\",\"Rock\",\"Rock\",\"Rock\",\"Rock\",\"Rock\",\"Rock\",\"Rock\",\"Rock\",\"Rock\",\"Rock\",\"Rock\",\"Rock\",\"Rock\",\"Rock\",\"Rock\",\"Rock\",\"Rock\",\"Rock\",\"Rock\",\"Rock\",\"Rock\",\"Rock\",\"Rock\",\"Rock\",\"Rock\",\"Rock\",\"Rock\",\"Rock\",\"Rock\",\"Rock\",\"Rock\",\"Rock\",\"Rock\",\"Rock\",\"Rock\",\"Rock\",\"Rock\",\"Rock\",\"Rock\",\"Rock\",\"Rock\",\"Rock\",\"Rock\",\"Rock\",\"Rock\",\"Rock\",\"Rock\",\"Rock\",\"Rock\",\"Rock\",\"Rock\",\"Rock\",\"Rock\",\"Rock\",\"Rock\",\"Rock\",\"Rock\",\"Rock\",\"Rock\",\"Rock\",\"Rock\",\"Rock\",\"Rock\",\"Rock\",\"Rock\",\"Rock\",\"Rock\",\"Rock\",\"Rock\",\"Rock\",\"Rock\",\"Rock\",\"Rock\",\"Rock\",\"Rock\",\"Rock\",\"Rock\",\"Rock\",\"Rock\",\"Rock\",\"Rock\",\"Rock\",\"Rock\",\"Rock\",\"Rock\",\"Rock\",\"Rock\",\"Rock\",\"Rock\",\"Rock\",\"Rock\",\"Rock\",\"Rock\",\"Rock\",\"Rock\",\"Rock\",\"Rock\",\"Rock\",\"Rock\",\"Rock\",\"Rock\",\"Rock\",\"Rock\",\"Rock\",\"Rock\",\"Rock\",\"Rock\",\"Rock\",\"Rock\",\"Rock\",\"Rock\",\"Rock\",\"Rock\",\"Rock\",\"Rock\",\"Rock\",\"Rock\",\"Rock\",\"Rock\",\"Rock\",\"Rock\",\"Rock\",\"Rock\",\"Rock\",\"Rock\",\"Rock\",\"Rock\",\"Rock\",\"Rock\",\"Rock\",\"Rock\",\"Rock\",\"Rock\",\"Rock\",\"Rock\",\"Rock\",\"Rock\",\"Rock\",\"Rock\",\"Rock\",\"Rock\",\"Rock\",\"Rock\",\"Rock\",\"Rock\",\"Rock\",\"Rock\",\"Rock\",\"Rock\",\"Rock\",\"Rock\",\"Rock\"],\"xaxis\":\"x\",\"y\":[63,19,16,14,20,17,26,18,24,22,18,42,22,15,32,24,36,19,31,16,19,16,37,36,31,15,28,20,22,17,23,19,21,13,35,28,21,32,21,26,28,27,42,34,38,17,21,26,16,26,30,19,33,28,25,19,22,30,20,19,37,20,18,64,14,26,33,18,31,15,34,19,20,23,28,25,18,23,40,27,18,16,16,22,29,32,32,17,21,17,15,38,23,15,32,40,21,23,33,18,21,16,17,16,64,32,20,44,23,23,57,18,72,16,18,24,25,20,61,34,33,54,16,63,28,58,67,60,20,55,19,21,28,60,60,51,63,60,42,67,19,50,24,67,18,18,19,25,14,26,59,30,18,40,24,32,46,56,21,21,25,20,17,17,48,21,20,22,31,37,22,43,24,28,20,20,27,15,26,17,17,16,30,23,16,23,23,17],\"yaxis\":\"y\",\"type\":\"scatter\"},{\"hovertemplate\":\"=%{x}\\u003cbr\\u003eWiek=%{y}\\u003cextra\\u003e\\u003c\\u002fextra\\u003e\",\"legendgroup\":\"Video game music\",\"marker\":{\"color\":\"#00cc96\",\"symbol\":\"circle\",\"size\":8},\"mode\":\"markers\",\"name\":\"Video game music\",\"orientation\":\"v\",\"showlegend\":true,\"x\":[\"Video game music\",\"Video game music\",\"Video game music\",\"Video game music\",\"Video game music\",\"Video game music\",\"Video game music\",\"Video game music\",\"Video game music\",\"Video game music\",\"Video game music\",\"Video game music\",\"Video game music\",\"Video game music\",\"Video game music\",\"Video game music\",\"Video game music\",\"Video game music\",\"Video game music\",\"Video game music\",\"Video game music\",\"Video game music\",\"Video game music\",\"Video game music\",\"Video game music\",\"Video game music\",\"Video game music\",\"Video game music\",\"Video game music\",\"Video game music\",\"Video game music\",\"Video game music\",\"Video game music\",\"Video game music\",\"Video game music\",\"Video game music\",\"Video game music\",\"Video game music\",\"Video game music\",\"Video game music\",\"Video game music\",\"Video game music\",\"Video game music\",\"Video game music\"],\"xaxis\":\"x\",\"y\":[18,18,23,37,23,43,19,29,18,16,22,36,17,22,24,15,20,14,14,23,23,22,24,17,14,38,24,34,23,18,25,19,15,22,16,18,13,21,21,16,23,18,22,13],\"yaxis\":\"y\",\"type\":\"scatter\"},{\"hovertemplate\":\"=%{x}\\u003cbr\\u003eWiek=%{y}\\u003cextra\\u003e\\u003c\\u002fextra\\u003e\",\"legendgroup\":\"Jazz\",\"marker\":{\"color\":\"#ab63fa\",\"symbol\":\"circle\",\"size\":8},\"mode\":\"markers\",\"name\":\"Jazz\",\"orientation\":\"v\",\"showlegend\":true,\"x\":[\"Jazz\",\"Jazz\",\"Jazz\",\"Jazz\",\"Jazz\",\"Jazz\",\"Jazz\",\"Jazz\",\"Jazz\",\"Jazz\",\"Jazz\",\"Jazz\",\"Jazz\",\"Jazz\",\"Jazz\",\"Jazz\",\"Jazz\",\"Jazz\",\"Jazz\",\"Jazz\"],\"xaxis\":\"x\",\"y\":[61,18,18,16,19,14,29,22,17,22,23,18,23,32,20,56,24,24,26,27],\"yaxis\":\"y\",\"type\":\"scatter\"},{\"hovertemplate\":\"=%{x}\\u003cbr\\u003eWiek=%{y}\\u003cextra\\u003e\\u003c\\u002fextra\\u003e\",\"legendgroup\":\"R&B\",\"marker\":{\"color\":\"#FFA15A\",\"symbol\":\"circle\",\"size\":8},\"mode\":\"markers\",\"name\":\"R&B\",\"orientation\":\"v\",\"showlegend\":true,\"x\":[\"R&B\",\"R&B\",\"R&B\",\"R&B\",\"R&B\",\"R&B\",\"R&B\",\"R&B\",\"R&B\",\"R&B\",\"R&B\",\"R&B\",\"R&B\",\"R&B\",\"R&B\",\"R&B\",\"R&B\",\"R&B\",\"R&B\",\"R&B\",\"R&B\",\"R&B\",\"R&B\",\"R&B\",\"R&B\",\"R&B\",\"R&B\",\"R&B\",\"R&B\",\"R&B\",\"R&B\",\"R&B\",\"R&B\",\"R&B\",\"R&B\"],\"xaxis\":\"x\",\"y\":[18,18,19,19,19,26,22,18,25,17,20,17,57,17,73,14,65,18,17,18,18,21,53,18,56,29,18,23,19,18,18,18,20,20,21],\"yaxis\":\"y\",\"type\":\"scatter\"},{\"hovertemplate\":\"=%{x}\\u003cbr\\u003eWiek=%{y}\\u003cextra\\u003e\\u003c\\u002fextra\\u003e\",\"legendgroup\":\"K pop\",\"marker\":{\"color\":\"#19d3f3\",\"symbol\":\"circle\",\"size\":8},\"mode\":\"markers\",\"name\":\"K pop\",\"orientation\":\"v\",\"showlegend\":true,\"x\":[\"K pop\",\"K pop\",\"K pop\",\"K pop\",\"K pop\",\"K pop\",\"K pop\",\"K pop\",\"K pop\",\"K pop\",\"K pop\",\"K pop\",\"K pop\",\"K pop\",\"K pop\",\"K pop\",\"K pop\",\"K pop\",\"K pop\",\"K pop\",\"K pop\",\"K pop\",\"K pop\",\"K pop\",\"K pop\",\"K pop\"],\"xaxis\":\"x\",\"y\":[21,16,19,22,19,18,19,18,18,18,16,19,19,18,30,15,14,15,19,18,21,16,16,17,20,18],\"yaxis\":\"y\",\"type\":\"scatter\"},{\"hovertemplate\":\"=%{x}\\u003cbr\\u003eWiek=%{y}\\u003cextra\\u003e\\u003c\\u002fextra\\u003e\",\"legendgroup\":\"Country\",\"marker\":{\"color\":\"#FF6692\",\"symbol\":\"circle\",\"size\":8},\"mode\":\"markers\",\"name\":\"Country\",\"orientation\":\"v\",\"showlegend\":true,\"x\":[\"Country\",\"Country\",\"Country\",\"Country\",\"Country\",\"Country\",\"Country\",\"Country\",\"Country\",\"Country\",\"Country\",\"Country\",\"Country\",\"Country\",\"Country\",\"Country\",\"Country\",\"Country\",\"Country\",\"Country\",\"Country\",\"Country\",\"Country\",\"Country\",\"Country\"],\"xaxis\":\"x\",\"y\":[18,19,21,30,35,21,20,19,20,22,19,21,19,17,21,35,22,70,43,20,36,17,26,29,14],\"yaxis\":\"y\",\"type\":\"scatter\"},{\"hovertemplate\":\"=%{x}\\u003cbr\\u003eWiek=%{y}\\u003cextra\\u003e\\u003c\\u002fextra\\u003e\",\"legendgroup\":\"EDM\",\"marker\":{\"color\":\"#B6E880\",\"symbol\":\"circle\",\"size\":8},\"mode\":\"markers\",\"name\":\"EDM\",\"orientation\":\"v\",\"showlegend\":true,\"x\":[\"EDM\",\"EDM\",\"EDM\",\"EDM\",\"EDM\",\"EDM\",\"EDM\",\"EDM\",\"EDM\",\"EDM\",\"EDM\",\"EDM\",\"EDM\",\"EDM\",\"EDM\",\"EDM\",\"EDM\",\"EDM\",\"EDM\",\"EDM\",\"EDM\",\"EDM\",\"EDM\",\"EDM\",\"EDM\",\"EDM\",\"EDM\",\"EDM\",\"EDM\",\"EDM\",\"EDM\",\"EDM\",\"EDM\",\"EDM\",\"EDM\",\"EDM\",\"EDM\"],\"xaxis\":\"x\",\"y\":[19,20,17,18,20,22,22,32,25,19,49,25,31,25,15,20,19,30,22,22,21,16,16,16,26,18,16,18,29,20,18,22,18,26,30,16,18],\"yaxis\":\"y\",\"type\":\"scatter\"},{\"hovertemplate\":\"=%{x}\\u003cbr\\u003eWiek=%{y}\\u003cextra\\u003e\\u003c\\u002fextra\\u003e\",\"legendgroup\":\"Pop\",\"marker\":{\"color\":\"#FF97FF\",\"symbol\":\"circle\",\"size\":8},\"mode\":\"markers\",\"name\":\"Pop\",\"orientation\":\"v\",\"showlegend\":true,\"x\":[\"Pop\",\"Pop\",\"Pop\",\"Pop\",\"Pop\",\"Pop\",\"Pop\",\"Pop\",\"Pop\",\"Pop\",\"Pop\",\"Pop\",\"Pop\",\"Pop\",\"Pop\",\"Pop\",\"Pop\",\"Pop\",\"Pop\",\"Pop\",\"Pop\",\"Pop\",\"Pop\",\"Pop\",\"Pop\",\"Pop\",\"Pop\",\"Pop\",\"Pop\",\"Pop\",\"Pop\",\"Pop\",\"Pop\",\"Pop\",\"Pop\",\"Pop\",\"Pop\",\"Pop\",\"Pop\",\"Pop\",\"Pop\",\"Pop\",\"Pop\",\"Pop\",\"Pop\",\"Pop\",\"Pop\",\"Pop\",\"Pop\",\"Pop\",\"Pop\",\"Pop\",\"Pop\",\"Pop\",\"Pop\",\"Pop\",\"Pop\",\"Pop\",\"Pop\",\"Pop\",\"Pop\",\"Pop\",\"Pop\",\"Pop\",\"Pop\",\"Pop\",\"Pop\",\"Pop\",\"Pop\",\"Pop\",\"Pop\",\"Pop\",\"Pop\",\"Pop\",\"Pop\",\"Pop\",\"Pop\",\"Pop\",\"Pop\",\"Pop\",\"Pop\",\"Pop\",\"Pop\",\"Pop\",\"Pop\",\"Pop\",\"Pop\",\"Pop\",\"Pop\",\"Pop\",\"Pop\",\"Pop\",\"Pop\",\"Pop\",\"Pop\",\"Pop\",\"Pop\",\"Pop\",\"Pop\",\"Pop\",\"Pop\",\"Pop\",\"Pop\",\"Pop\",\"Pop\",\"Pop\",\"Pop\",\"Pop\",\"Pop\",\"Pop\",\"Pop\",\"Pop\",\"Pop\",\"Pop\"],\"xaxis\":\"x\",\"y\":[17,18,18,18,17,17,18,21,17,19,23,41,20,16,19,18,32,18,16,25,53,21,25,17,41,20,18,35,16,19,26,22,35,21,25,31,17,53,38,19,25,21,20,27,17,18,56,17,22,26,17,59,22,17,27,21,17,43,10,15,23,14,20,17,18,16,14,23,49,15,18,25,74,18,22,19,56,22,20,22,17,15,17,19,18,18,25,16,29,19,26,27,27,16,21,20,21,27,19,21,24,21,18,19,20,19,17,21,19,19,16,19,21,18],\"yaxis\":\"y\",\"type\":\"scatter\"},{\"hovertemplate\":\"=%{x}\\u003cbr\\u003eWiek=%{y}\\u003cextra\\u003e\\u003c\\u002fextra\\u003e\",\"legendgroup\":\"Hip hop\",\"marker\":{\"color\":\"#FECB52\",\"symbol\":\"circle\",\"size\":8},\"mode\":\"markers\",\"name\":\"Hip hop\",\"orientation\":\"v\",\"showlegend\":true,\"x\":[\"Hip hop\",\"Hip hop\",\"Hip hop\",\"Hip hop\",\"Hip hop\",\"Hip hop\",\"Hip hop\",\"Hip hop\",\"Hip hop\",\"Hip hop\",\"Hip hop\",\"Hip hop\",\"Hip hop\",\"Hip hop\",\"Hip hop\",\"Hip hop\",\"Hip hop\",\"Hip hop\",\"Hip hop\",\"Hip hop\",\"Hip hop\",\"Hip hop\",\"Hip hop\",\"Hip hop\",\"Hip hop\",\"Hip hop\",\"Hip hop\",\"Hip hop\",\"Hip hop\",\"Hip hop\",\"Hip hop\",\"Hip hop\",\"Hip hop\",\"Hip hop\"],\"xaxis\":\"x\",\"y\":[16,16,15,15,29,26,22,18,32,23,17,22,17,21,18,20,18,26,39,23,23,27,58,19,36,20,18,28,18,19,17,35,17,29],\"yaxis\":\"y\",\"type\":\"scatter\"},{\"hovertemplate\":\"=%{x}\\u003cbr\\u003eWiek=%{y}\\u003cextra\\u003e\\u003c\\u002fextra\\u003e\",\"legendgroup\":\"Rap\",\"marker\":{\"color\":\"#636efa\",\"symbol\":\"circle\",\"size\":8},\"mode\":\"markers\",\"name\":\"Rap\",\"orientation\":\"v\",\"showlegend\":true,\"x\":[\"Rap\",\"Rap\",\"Rap\",\"Rap\",\"Rap\",\"Rap\",\"Rap\",\"Rap\",\"Rap\",\"Rap\",\"Rap\",\"Rap\",\"Rap\",\"Rap\",\"Rap\",\"Rap\",\"Rap\",\"Rap\",\"Rap\",\"Rap\",\"Rap\",\"Rap\"],\"xaxis\":\"x\",\"y\":[17,17,23,16,18,23,13,15,18,21,19,13,27,18,17,18,20,19,21,18,89,19],\"yaxis\":\"y\",\"type\":\"scatter\"},{\"hovertemplate\":\"=%{x}\\u003cbr\\u003eWiek=%{y}\\u003cextra\\u003e\\u003c\\u002fextra\\u003e\",\"legendgroup\":\"Classical\",\"marker\":{\"color\":\"#EF553B\",\"symbol\":\"circle\",\"size\":8},\"mode\":\"markers\",\"name\":\"Classical\",\"orientation\":\"v\",\"showlegend\":true,\"x\":[\"Classical\",\"Classical\",\"Classical\",\"Classical\",\"Classical\",\"Classical\",\"Classical\",\"Classical\",\"Classical\",\"Classical\",\"Classical\",\"Classical\",\"Classical\",\"Classical\",\"Classical\",\"Classical\",\"Classical\",\"Classical\",\"Classical\",\"Classical\",\"Classical\",\"Classical\",\"Classical\",\"Classical\",\"Classical\",\"Classical\",\"Classical\",\"Classical\",\"Classical\",\"Classical\",\"Classical\",\"Classical\",\"Classical\",\"Classical\",\"Classical\",\"Classical\",\"Classical\",\"Classical\",\"Classical\",\"Classical\",\"Classical\",\"Classical\",\"Classical\",\"Classical\",\"Classical\",\"Classical\",\"Classical\",\"Classical\",\"Classical\",\"Classical\",\"Classical\",\"Classical\",\"Classical\"],\"xaxis\":\"x\",\"y\":[19,16,17,36,16,24,25,19,31,23,29,17,32,31,17,32,24,19,12,16,54,14,13,14,14,24,13,15,12,17,69,22,14,20,31,16,12,17,58,49,64,80,34,29,23,19,21,49,42,21,18,18,19],\"yaxis\":\"y\",\"type\":\"scatter\"},{\"hovertemplate\":\"=%{x}\\u003cbr\\u003eWiek=%{y}\\u003cextra\\u003e\\u003c\\u002fextra\\u003e\",\"legendgroup\":\"Metal\",\"marker\":{\"color\":\"#00cc96\",\"symbol\":\"circle\",\"size\":8},\"mode\":\"markers\",\"name\":\"Metal\",\"orientation\":\"v\",\"showlegend\":true,\"x\":[\"Metal\",\"Metal\",\"Metal\",\"Metal\",\"Metal\",\"Metal\",\"Metal\",\"Metal\",\"Metal\",\"Metal\",\"Metal\",\"Metal\",\"Metal\",\"Metal\",\"Metal\",\"Metal\",\"Metal\",\"Metal\",\"Metal\",\"Metal\",\"Metal\",\"Metal\",\"Metal\",\"Metal\",\"Metal\",\"Metal\",\"Metal\",\"Metal\",\"Metal\",\"Metal\",\"Metal\",\"Metal\",\"Metal\",\"Metal\",\"Metal\",\"Metal\",\"Metal\",\"Metal\",\"Metal\",\"Metal\",\"Metal\",\"Metal\",\"Metal\",\"Metal\",\"Metal\",\"Metal\",\"Metal\",\"Metal\",\"Metal\",\"Metal\",\"Metal\",\"Metal\",\"Metal\",\"Metal\",\"Metal\",\"Metal\",\"Metal\",\"Metal\",\"Metal\",\"Metal\",\"Metal\",\"Metal\",\"Metal\",\"Metal\",\"Metal\",\"Metal\",\"Metal\",\"Metal\",\"Metal\",\"Metal\",\"Metal\",\"Metal\",\"Metal\",\"Metal\",\"Metal\",\"Metal\",\"Metal\",\"Metal\",\"Metal\",\"Metal\",\"Metal\",\"Metal\",\"Metal\",\"Metal\",\"Metal\",\"Metal\",\"Metal\",\"Metal\"],\"xaxis\":\"x\",\"y\":[19,18,18,25,36,41,17,33,30,22,19,18,17,21,34,21,23,23,24,27,34,21,18,21,27,19,27,19,28,26,42,31,40,31,23,20,21,18,23,24,16,15,20,33,21,25,25,20,17,29,27,19,27,32,38,19,21,22,38,40,41,48,24,25,28,18,18,23,22,33,16,27,15,20,42,30,31,34,26,17,32,21,16,21,19,17,17,26],\"yaxis\":\"y\",\"type\":\"scatter\"},{\"hovertemplate\":\"=%{x}\\u003cbr\\u003eWiek=%{y}\\u003cextra\\u003e\\u003c\\u002fextra\\u003e\",\"legendgroup\":\"Folk\",\"marker\":{\"color\":\"#ab63fa\",\"symbol\":\"circle\",\"size\":8},\"mode\":\"markers\",\"name\":\"Folk\",\"orientation\":\"v\",\"showlegend\":true,\"x\":[\"Folk\",\"Folk\",\"Folk\",\"Folk\",\"Folk\",\"Folk\",\"Folk\",\"Folk\",\"Folk\",\"Folk\",\"Folk\",\"Folk\",\"Folk\",\"Folk\",\"Folk\",\"Folk\",\"Folk\",\"Folk\",\"Folk\",\"Folk\",\"Folk\",\"Folk\",\"Folk\",\"Folk\",\"Folk\",\"Folk\",\"Folk\",\"Folk\",\"Folk\",\"Folk\"],\"xaxis\":\"x\",\"y\":[17,23,28,26,21,44,29,21,30,27,31,49,35,13,16,15,21,22,24,32,24,21,22,23,18,26,18,17,37,44],\"yaxis\":\"y\",\"type\":\"scatter\"},{\"hovertemplate\":\"=%{x}\\u003cbr\\u003eWiek=%{y}\\u003cextra\\u003e\\u003c\\u002fextra\\u003e\",\"legendgroup\":\"Lofi\",\"marker\":{\"color\":\"#FFA15A\",\"symbol\":\"circle\",\"size\":8},\"mode\":\"markers\",\"name\":\"Lofi\",\"orientation\":\"v\",\"showlegend\":true,\"x\":[\"Lofi\",\"Lofi\",\"Lofi\",\"Lofi\",\"Lofi\",\"Lofi\",\"Lofi\",\"Lofi\",\"Lofi\",\"Lofi\"],\"xaxis\":\"x\",\"y\":[17,16,23,25,33,22,28,22,14,21],\"yaxis\":\"y\",\"type\":\"scatter\"},{\"hovertemplate\":\"=%{x}\\u003cbr\\u003eWiek=%{y}\\u003cextra\\u003e\\u003c\\u002fextra\\u003e\",\"legendgroup\":\"Gospel\",\"marker\":{\"color\":\"#19d3f3\",\"symbol\":\"circle\",\"size\":8},\"mode\":\"markers\",\"name\":\"Gospel\",\"orientation\":\"v\",\"showlegend\":true,\"x\":[\"Gospel\",\"Gospel\",\"Gospel\",\"Gospel\",\"Gospel\",\"Gospel\"],\"xaxis\":\"x\",\"y\":[60,71,60,57,68,18],\"yaxis\":\"y\",\"type\":\"scatter\"}],                        {\"template\":{\"data\":{\"histogram2dcontour\":[{\"type\":\"histogram2dcontour\",\"colorbar\":{\"outlinewidth\":0,\"ticks\":\"\"},\"colorscale\":[[0.0,\"#0d0887\"],[0.1111111111111111,\"#46039f\"],[0.2222222222222222,\"#7201a8\"],[0.3333333333333333,\"#9c179e\"],[0.4444444444444444,\"#bd3786\"],[0.5555555555555556,\"#d8576b\"],[0.6666666666666666,\"#ed7953\"],[0.7777777777777778,\"#fb9f3a\"],[0.8888888888888888,\"#fdca26\"],[1.0,\"#f0f921\"]]}],\"choropleth\":[{\"type\":\"choropleth\",\"colorbar\":{\"outlinewidth\":0,\"ticks\":\"\"}}],\"histogram2d\":[{\"type\":\"histogram2d\",\"colorbar\":{\"outlinewidth\":0,\"ticks\":\"\"},\"colorscale\":[[0.0,\"#0d0887\"],[0.1111111111111111,\"#46039f\"],[0.2222222222222222,\"#7201a8\"],[0.3333333333333333,\"#9c179e\"],[0.4444444444444444,\"#bd3786\"],[0.5555555555555556,\"#d8576b\"],[0.6666666666666666,\"#ed7953\"],[0.7777777777777778,\"#fb9f3a\"],[0.8888888888888888,\"#fdca26\"],[1.0,\"#f0f921\"]]}],\"heatmap\":[{\"type\":\"heatmap\",\"colorbar\":{\"outlinewidth\":0,\"ticks\":\"\"},\"colorscale\":[[0.0,\"#0d0887\"],[0.1111111111111111,\"#46039f\"],[0.2222222222222222,\"#7201a8\"],[0.3333333333333333,\"#9c179e\"],[0.4444444444444444,\"#bd3786\"],[0.5555555555555556,\"#d8576b\"],[0.6666666666666666,\"#ed7953\"],[0.7777777777777778,\"#fb9f3a\"],[0.8888888888888888,\"#fdca26\"],[1.0,\"#f0f921\"]]}],\"heatmapgl\":[{\"type\":\"heatmapgl\",\"colorbar\":{\"outlinewidth\":0,\"ticks\":\"\"},\"colorscale\":[[0.0,\"#0d0887\"],[0.1111111111111111,\"#46039f\"],[0.2222222222222222,\"#7201a8\"],[0.3333333333333333,\"#9c179e\"],[0.4444444444444444,\"#bd3786\"],[0.5555555555555556,\"#d8576b\"],[0.6666666666666666,\"#ed7953\"],[0.7777777777777778,\"#fb9f3a\"],[0.8888888888888888,\"#fdca26\"],[1.0,\"#f0f921\"]]}],\"contourcarpet\":[{\"type\":\"contourcarpet\",\"colorbar\":{\"outlinewidth\":0,\"ticks\":\"\"}}],\"contour\":[{\"type\":\"contour\",\"colorbar\":{\"outlinewidth\":0,\"ticks\":\"\"},\"colorscale\":[[0.0,\"#0d0887\"],[0.1111111111111111,\"#46039f\"],[0.2222222222222222,\"#7201a8\"],[0.3333333333333333,\"#9c179e\"],[0.4444444444444444,\"#bd3786\"],[0.5555555555555556,\"#d8576b\"],[0.6666666666666666,\"#ed7953\"],[0.7777777777777778,\"#fb9f3a\"],[0.8888888888888888,\"#fdca26\"],[1.0,\"#f0f921\"]]}],\"surface\":[{\"type\":\"surface\",\"colorbar\":{\"outlinewidth\":0,\"ticks\":\"\"},\"colorscale\":[[0.0,\"#0d0887\"],[0.1111111111111111,\"#46039f\"],[0.2222222222222222,\"#7201a8\"],[0.3333333333333333,\"#9c179e\"],[0.4444444444444444,\"#bd3786\"],[0.5555555555555556,\"#d8576b\"],[0.6666666666666666,\"#ed7953\"],[0.7777777777777778,\"#fb9f3a\"],[0.8888888888888888,\"#fdca26\"],[1.0,\"#f0f921\"]]}],\"mesh3d\":[{\"type\":\"mesh3d\",\"colorbar\":{\"outlinewidth\":0,\"ticks\":\"\"}}],\"scatter\":[{\"fillpattern\":{\"fillmode\":\"overlay\",\"size\":10,\"solidity\":0.2},\"type\":\"scatter\"}],\"parcoords\":[{\"type\":\"parcoords\",\"line\":{\"colorbar\":{\"outlinewidth\":0,\"ticks\":\"\"}}}],\"scatterpolargl\":[{\"type\":\"scatterpolargl\",\"marker\":{\"colorbar\":{\"outlinewidth\":0,\"ticks\":\"\"}}}],\"bar\":[{\"error_x\":{\"color\":\"#2a3f5f\"},\"error_y\":{\"color\":\"#2a3f5f\"},\"marker\":{\"line\":{\"color\":\"#E5ECF6\",\"width\":0.5},\"pattern\":{\"fillmode\":\"overlay\",\"size\":10,\"solidity\":0.2}},\"type\":\"bar\"}],\"scattergeo\":[{\"type\":\"scattergeo\",\"marker\":{\"colorbar\":{\"outlinewidth\":0,\"ticks\":\"\"}}}],\"scatterpolar\":[{\"type\":\"scatterpolar\",\"marker\":{\"colorbar\":{\"outlinewidth\":0,\"ticks\":\"\"}}}],\"histogram\":[{\"marker\":{\"pattern\":{\"fillmode\":\"overlay\",\"size\":10,\"solidity\":0.2}},\"type\":\"histogram\"}],\"scattergl\":[{\"type\":\"scattergl\",\"marker\":{\"colorbar\":{\"outlinewidth\":0,\"ticks\":\"\"}}}],\"scatter3d\":[{\"type\":\"scatter3d\",\"line\":{\"colorbar\":{\"outlinewidth\":0,\"ticks\":\"\"}},\"marker\":{\"colorbar\":{\"outlinewidth\":0,\"ticks\":\"\"}}}],\"scattermapbox\":[{\"type\":\"scattermapbox\",\"marker\":{\"colorbar\":{\"outlinewidth\":0,\"ticks\":\"\"}}}],\"scatterternary\":[{\"type\":\"scatterternary\",\"marker\":{\"colorbar\":{\"outlinewidth\":0,\"ticks\":\"\"}}}],\"scattercarpet\":[{\"type\":\"scattercarpet\",\"marker\":{\"colorbar\":{\"outlinewidth\":0,\"ticks\":\"\"}}}],\"carpet\":[{\"aaxis\":{\"endlinecolor\":\"#2a3f5f\",\"gridcolor\":\"white\",\"linecolor\":\"white\",\"minorgridcolor\":\"white\",\"startlinecolor\":\"#2a3f5f\"},\"baxis\":{\"endlinecolor\":\"#2a3f5f\",\"gridcolor\":\"white\",\"linecolor\":\"white\",\"minorgridcolor\":\"white\",\"startlinecolor\":\"#2a3f5f\"},\"type\":\"carpet\"}],\"table\":[{\"cells\":{\"fill\":{\"color\":\"#EBF0F8\"},\"line\":{\"color\":\"white\"}},\"header\":{\"fill\":{\"color\":\"#C8D4E3\"},\"line\":{\"color\":\"white\"}},\"type\":\"table\"}],\"barpolar\":[{\"marker\":{\"line\":{\"color\":\"#E5ECF6\",\"width\":0.5},\"pattern\":{\"fillmode\":\"overlay\",\"size\":10,\"solidity\":0.2}},\"type\":\"barpolar\"}],\"pie\":[{\"automargin\":true,\"type\":\"pie\"}]},\"layout\":{\"autotypenumbers\":\"strict\",\"colorway\":[\"#636efa\",\"#EF553B\",\"#00cc96\",\"#ab63fa\",\"#FFA15A\",\"#19d3f3\",\"#FF6692\",\"#B6E880\",\"#FF97FF\",\"#FECB52\"],\"font\":{\"color\":\"#2a3f5f\"},\"hovermode\":\"closest\",\"hoverlabel\":{\"align\":\"left\"},\"paper_bgcolor\":\"white\",\"plot_bgcolor\":\"#E5ECF6\",\"polar\":{\"bgcolor\":\"#E5ECF6\",\"angularaxis\":{\"gridcolor\":\"white\",\"linecolor\":\"white\",\"ticks\":\"\"},\"radialaxis\":{\"gridcolor\":\"white\",\"linecolor\":\"white\",\"ticks\":\"\"}},\"ternary\":{\"bgcolor\":\"#E5ECF6\",\"aaxis\":{\"gridcolor\":\"white\",\"linecolor\":\"white\",\"ticks\":\"\"},\"baxis\":{\"gridcolor\":\"white\",\"linecolor\":\"white\",\"ticks\":\"\"},\"caxis\":{\"gridcolor\":\"white\",\"linecolor\":\"white\",\"ticks\":\"\"}},\"coloraxis\":{\"colorbar\":{\"outlinewidth\":0,\"ticks\":\"\"}},\"colorscale\":{\"sequential\":[[0.0,\"#0d0887\"],[0.1111111111111111,\"#46039f\"],[0.2222222222222222,\"#7201a8\"],[0.3333333333333333,\"#9c179e\"],[0.4444444444444444,\"#bd3786\"],[0.5555555555555556,\"#d8576b\"],[0.6666666666666666,\"#ed7953\"],[0.7777777777777778,\"#fb9f3a\"],[0.8888888888888888,\"#fdca26\"],[1.0,\"#f0f921\"]],\"sequentialminus\":[[0.0,\"#0d0887\"],[0.1111111111111111,\"#46039f\"],[0.2222222222222222,\"#7201a8\"],[0.3333333333333333,\"#9c179e\"],[0.4444444444444444,\"#bd3786\"],[0.5555555555555556,\"#d8576b\"],[0.6666666666666666,\"#ed7953\"],[0.7777777777777778,\"#fb9f3a\"],[0.8888888888888888,\"#fdca26\"],[1.0,\"#f0f921\"]],\"diverging\":[[0,\"#8e0152\"],[0.1,\"#c51b7d\"],[0.2,\"#de77ae\"],[0.3,\"#f1b6da\"],[0.4,\"#fde0ef\"],[0.5,\"#f7f7f7\"],[0.6,\"#e6f5d0\"],[0.7,\"#b8e186\"],[0.8,\"#7fbc41\"],[0.9,\"#4d9221\"],[1,\"#276419\"]]},\"xaxis\":{\"gridcolor\":\"white\",\"linecolor\":\"white\",\"ticks\":\"\",\"title\":{\"standoff\":15},\"zerolinecolor\":\"white\",\"automargin\":true,\"zerolinewidth\":2},\"yaxis\":{\"gridcolor\":\"white\",\"linecolor\":\"white\",\"ticks\":\"\",\"title\":{\"standoff\":15},\"zerolinecolor\":\"white\",\"automargin\":true,\"zerolinewidth\":2},\"scene\":{\"xaxis\":{\"backgroundcolor\":\"#E5ECF6\",\"gridcolor\":\"white\",\"linecolor\":\"white\",\"showbackground\":true,\"ticks\":\"\",\"zerolinecolor\":\"white\",\"gridwidth\":2},\"yaxis\":{\"backgroundcolor\":\"#E5ECF6\",\"gridcolor\":\"white\",\"linecolor\":\"white\",\"showbackground\":true,\"ticks\":\"\",\"zerolinecolor\":\"white\",\"gridwidth\":2},\"zaxis\":{\"backgroundcolor\":\"#E5ECF6\",\"gridcolor\":\"white\",\"linecolor\":\"white\",\"showbackground\":true,\"ticks\":\"\",\"zerolinecolor\":\"white\",\"gridwidth\":2}},\"shapedefaults\":{\"line\":{\"color\":\"#2a3f5f\"}},\"annotationdefaults\":{\"arrowcolor\":\"#2a3f5f\",\"arrowhead\":0,\"arrowwidth\":1},\"geo\":{\"bgcolor\":\"white\",\"landcolor\":\"#E5ECF6\",\"subunitcolor\":\"white\",\"showland\":true,\"showlakes\":true,\"lakecolor\":\"white\"},\"title\":{\"x\":0.05},\"mapbox\":{\"style\":\"light\"}}},\"xaxis\":{\"anchor\":\"y\",\"domain\":[0.0,1.0],\"title\":{\"text\":\"\"},\"categoryorder\":\"array\",\"categoryarray\":[\"Latin\",\"Rock\",\"Video game music\",\"Jazz\",\"R&B\",\"K pop\",\"Country\",\"EDM\",\"Pop\",\"Hip hop\",\"Rap\",\"Classical\",\"Metal\",\"Folk\",\"Lofi\",\"Gospel\"]},\"yaxis\":{\"anchor\":\"x\",\"domain\":[0.0,1.0],\"title\":{\"text\":\"Wiek\"}},\"legend\":{\"title\":{\"text\":\"\"},\"tracegroupgap\":0},\"title\":{\"text\":\"Ulubione gatunki muzyki według wieku\"},\"height\":550,\"width\":800,\"showlegend\":false},                        {\"responsive\": true}                    ).then(function(){\n",
              "                            \n",
              "var gd = document.getElementById('c4a9f20b-3817-4080-94c1-1fd0e7622ae5');\n",
              "var x = new MutationObserver(function (mutations, observer) {{\n",
              "        var display = window.getComputedStyle(gd).display;\n",
              "        if (!display || display === 'none') {{\n",
              "            console.log([gd, 'removed!']);\n",
              "            Plotly.purge(gd);\n",
              "            observer.disconnect();\n",
              "        }}\n",
              "}});\n",
              "\n",
              "// Listen for the removal of the full notebook cells\n",
              "var notebookContainer = gd.closest('#notebook-container');\n",
              "if (notebookContainer) {{\n",
              "    x.observe(notebookContainer, {childList: true});\n",
              "}}\n",
              "\n",
              "// Listen for the clearing of the current output cell\n",
              "var outputEl = gd.closest('.output');\n",
              "if (outputEl) {{\n",
              "    x.observe(outputEl, {childList: true});\n",
              "}}\n",
              "\n",
              "                        })                };                            </script>        </div>\n",
              "</body>\n",
              "</html>"
            ]
          },
          "metadata": {}
        }
      ]
    },
    {
      "cell_type": "code",
      "source": [
        "avg_bpm = df.groupby('Fav genre')['BPM'].mean().sort_values().reset_index()\n",
        "\n",
        "genre_bpm_chart = px.scatter(\n",
        "    avg_bpm,\n",
        "    x='Fav genre',\n",
        "    y='BPM',\n",
        "    color='Fav genre',\n",
        "    title='Średni BPM podczas słuchania poszczególnych gatunków muzyki',\n",
        "    labels={'Fav genre': '', 'BPM': 'BPM'},\n",
        "    height=550,\n",
        "    width=800)\n",
        "\n",
        "genre_bpm_chart.update_traces(marker_size=15)\n",
        "\n",
        "genre_bpm_chart.update_layout(\n",
        "    yaxis=dict(\n",
        "        tickformat='d'\n",
        "    )\n",
        ")\n",
        "\n",
        "genre_bpm_chart.show()"
      ],
      "metadata": {
        "colab": {
          "base_uri": "https://localhost:8080/",
          "height": 656
        },
        "id": "5pMRxuVUJy6x",
        "outputId": "67346386-35ee-40fa-fa84-11f58908de32"
      },
      "execution_count": 103,
      "outputs": [
        {
          "output_type": "stream",
          "name": "stderr",
          "text": [
            "<ipython-input-103-fad8d166887e>:1: FutureWarning:\n",
            "\n",
            "The default of observed=False is deprecated and will be changed to True in a future version of pandas. Pass observed=False to retain current behavior or observed=True to adopt the future default and silence this warning.\n",
            "\n"
          ]
        },
        {
          "output_type": "display_data",
          "data": {
            "text/html": [
              "<html>\n",
              "<head><meta charset=\"utf-8\" /></head>\n",
              "<body>\n",
              "    <div>            <script src=\"https://cdnjs.cloudflare.com/ajax/libs/mathjax/2.7.5/MathJax.js?config=TeX-AMS-MML_SVG\"></script><script type=\"text/javascript\">if (window.MathJax && window.MathJax.Hub && window.MathJax.Hub.Config) {window.MathJax.Hub.Config({SVG: {font: \"STIX-Web\"}});}</script>                <script type=\"text/javascript\">window.PlotlyConfig = {MathJaxConfig: 'local'};</script>\n",
              "        <script charset=\"utf-8\" src=\"https://cdn.plot.ly/plotly-2.35.2.min.js\"></script>                <div id=\"57af66f6-9da1-4bd8-b732-a4b09fc8f7b5\" class=\"plotly-graph-div\" style=\"height:550px; width:800px;\"></div>            <script type=\"text/javascript\">                                    window.PLOTLYENV=window.PLOTLYENV || {};                                    if (document.getElementById(\"57af66f6-9da1-4bd8-b732-a4b09fc8f7b5\")) {                    Plotly.newPlot(                        \"57af66f6-9da1-4bd8-b732-a4b09fc8f7b5\",                        [{\"hovertemplate\":\"=%{x}\\u003cbr\\u003eBPM=%{y}\\u003cextra\\u003e\\u003c\\u002fextra\\u003e\",\"legendgroup\":\"Gospel\",\"marker\":{\"color\":\"#636efa\",\"symbol\":\"circle\",\"size\":15},\"mode\":\"markers\",\"name\":\"Gospel\",\"orientation\":\"v\",\"showlegend\":true,\"x\":[\"Gospel\"],\"xaxis\":\"x\",\"y\":[96.33333333333333],\"yaxis\":\"y\",\"type\":\"scatter\"},{\"hovertemplate\":\"=%{x}\\u003cbr\\u003eBPM=%{y}\\u003cextra\\u003e\\u003c\\u002fextra\\u003e\",\"legendgroup\":\"Hip hop\",\"marker\":{\"color\":\"#EF553B\",\"symbol\":\"circle\",\"size\":15},\"mode\":\"markers\",\"name\":\"Hip hop\",\"orientation\":\"v\",\"showlegend\":true,\"x\":[\"Hip hop\"],\"xaxis\":\"x\",\"y\":[111.58823529411765],\"yaxis\":\"y\",\"type\":\"scatter\"},{\"hovertemplate\":\"=%{x}\\u003cbr\\u003eBPM=%{y}\\u003cextra\\u003e\\u003c\\u002fextra\\u003e\",\"legendgroup\":\"Country\",\"marker\":{\"color\":\"#00cc96\",\"symbol\":\"circle\",\"size\":15},\"mode\":\"markers\",\"name\":\"Country\",\"orientation\":\"v\",\"showlegend\":true,\"x\":[\"Country\"],\"xaxis\":\"x\",\"y\":[111.8],\"yaxis\":\"y\",\"type\":\"scatter\"},{\"hovertemplate\":\"=%{x}\\u003cbr\\u003eBPM=%{y}\\u003cextra\\u003e\\u003c\\u002fextra\\u003e\",\"legendgroup\":\"Classical\",\"marker\":{\"color\":\"#ab63fa\",\"symbol\":\"circle\",\"size\":15},\"mode\":\"markers\",\"name\":\"Classical\",\"orientation\":\"v\",\"showlegend\":true,\"x\":[\"Classical\"],\"xaxis\":\"x\",\"y\":[113.75471698113208],\"yaxis\":\"y\",\"type\":\"scatter\"},{\"hovertemplate\":\"=%{x}\\u003cbr\\u003eBPM=%{y}\\u003cextra\\u003e\\u003c\\u002fextra\\u003e\",\"legendgroup\":\"Lofi\",\"marker\":{\"color\":\"#FFA15A\",\"symbol\":\"circle\",\"size\":15},\"mode\":\"markers\",\"name\":\"Lofi\",\"orientation\":\"v\",\"showlegend\":true,\"x\":[\"Lofi\"],\"xaxis\":\"x\",\"y\":[114.3],\"yaxis\":\"y\",\"type\":\"scatter\"},{\"hovertemplate\":\"=%{x}\\u003cbr\\u003eBPM=%{y}\\u003cextra\\u003e\\u003c\\u002fextra\\u003e\",\"legendgroup\":\"Folk\",\"marker\":{\"color\":\"#19d3f3\",\"symbol\":\"circle\",\"size\":15},\"mode\":\"markers\",\"name\":\"Folk\",\"orientation\":\"v\",\"showlegend\":true,\"x\":[\"Folk\"],\"xaxis\":\"x\",\"y\":[115.3],\"yaxis\":\"y\",\"type\":\"scatter\"},{\"hovertemplate\":\"=%{x}\\u003cbr\\u003eBPM=%{y}\\u003cextra\\u003e\\u003c\\u002fextra\\u003e\",\"legendgroup\":\"R&B\",\"marker\":{\"color\":\"#FF6692\",\"symbol\":\"circle\",\"size\":15},\"mode\":\"markers\",\"name\":\"R&B\",\"orientation\":\"v\",\"showlegend\":true,\"x\":[\"R&B\"],\"xaxis\":\"x\",\"y\":[118.65714285714286],\"yaxis\":\"y\",\"type\":\"scatter\"},{\"hovertemplate\":\"=%{x}\\u003cbr\\u003eBPM=%{y}\\u003cextra\\u003e\\u003c\\u002fextra\\u003e\",\"legendgroup\":\"Pop\",\"marker\":{\"color\":\"#B6E880\",\"symbol\":\"circle\",\"size\":15},\"mode\":\"markers\",\"name\":\"Pop\",\"orientation\":\"v\",\"showlegend\":true,\"x\":[\"Pop\"],\"xaxis\":\"x\",\"y\":[119.60526315789474],\"yaxis\":\"y\",\"type\":\"scatter\"},{\"hovertemplate\":\"=%{x}\\u003cbr\\u003eBPM=%{y}\\u003cextra\\u003e\\u003c\\u002fextra\\u003e\",\"legendgroup\":\"Video game music\",\"marker\":{\"color\":\"#FF97FF\",\"symbol\":\"circle\",\"size\":15},\"mode\":\"markers\",\"name\":\"Video game music\",\"orientation\":\"v\",\"showlegend\":true,\"x\":[\"Video game music\"],\"xaxis\":\"x\",\"y\":[121.9090909090909],\"yaxis\":\"y\",\"type\":\"scatter\"},{\"hovertemplate\":\"=%{x}\\u003cbr\\u003eBPM=%{y}\\u003cextra\\u003e\\u003c\\u002fextra\\u003e\",\"legendgroup\":\"Jazz\",\"marker\":{\"color\":\"#FECB52\",\"symbol\":\"circle\",\"size\":15},\"mode\":\"markers\",\"name\":\"Jazz\",\"orientation\":\"v\",\"showlegend\":true,\"x\":[\"Jazz\"],\"xaxis\":\"x\",\"y\":[123.65],\"yaxis\":\"y\",\"type\":\"scatter\"},{\"hovertemplate\":\"=%{x}\\u003cbr\\u003eBPM=%{y}\\u003cextra\\u003e\\u003c\\u002fextra\\u003e\",\"legendgroup\":\"Rock\",\"marker\":{\"color\":\"#636efa\",\"symbol\":\"circle\",\"size\":15},\"mode\":\"markers\",\"name\":\"Rock\",\"orientation\":\"v\",\"showlegend\":true,\"x\":[\"Rock\"],\"xaxis\":\"x\",\"y\":[125.82446808510639],\"yaxis\":\"y\",\"type\":\"scatter\"},{\"hovertemplate\":\"=%{x}\\u003cbr\\u003eBPM=%{y}\\u003cextra\\u003e\\u003c\\u002fextra\\u003e\",\"legendgroup\":\"K pop\",\"marker\":{\"color\":\"#EF553B\",\"symbol\":\"circle\",\"size\":15},\"mode\":\"markers\",\"name\":\"K pop\",\"orientation\":\"v\",\"showlegend\":true,\"x\":[\"K pop\"],\"xaxis\":\"x\",\"y\":[127.3076923076923],\"yaxis\":\"y\",\"type\":\"scatter\"},{\"hovertemplate\":\"=%{x}\\u003cbr\\u003eBPM=%{y}\\u003cextra\\u003e\\u003c\\u002fextra\\u003e\",\"legendgroup\":\"Rap\",\"marker\":{\"color\":\"#00cc96\",\"symbol\":\"circle\",\"size\":15},\"mode\":\"markers\",\"name\":\"Rap\",\"orientation\":\"v\",\"showlegend\":true,\"x\":[\"Rap\"],\"xaxis\":\"x\",\"y\":[130.5909090909091],\"yaxis\":\"y\",\"type\":\"scatter\"},{\"hovertemplate\":\"=%{x}\\u003cbr\\u003eBPM=%{y}\\u003cextra\\u003e\\u003c\\u002fextra\\u003e\",\"legendgroup\":\"Latin\",\"marker\":{\"color\":\"#ab63fa\",\"symbol\":\"circle\",\"size\":15},\"mode\":\"markers\",\"name\":\"Latin\",\"orientation\":\"v\",\"showlegend\":true,\"x\":[\"Latin\"],\"xaxis\":\"x\",\"y\":[133.66666666666666],\"yaxis\":\"y\",\"type\":\"scatter\"},{\"hovertemplate\":\"=%{x}\\u003cbr\\u003eBPM=%{y}\\u003cextra\\u003e\\u003c\\u002fextra\\u003e\",\"legendgroup\":\"EDM\",\"marker\":{\"color\":\"#FFA15A\",\"symbol\":\"circle\",\"size\":15},\"mode\":\"markers\",\"name\":\"EDM\",\"orientation\":\"v\",\"showlegend\":true,\"x\":[\"EDM\"],\"xaxis\":\"x\",\"y\":[137.21621621621622],\"yaxis\":\"y\",\"type\":\"scatter\"},{\"hovertemplate\":\"=%{x}\\u003cbr\\u003eBPM=%{y}\\u003cextra\\u003e\\u003c\\u002fextra\\u003e\",\"legendgroup\":\"Metal\",\"marker\":{\"color\":\"#19d3f3\",\"symbol\":\"circle\",\"size\":15},\"mode\":\"markers\",\"name\":\"Metal\",\"orientation\":\"v\",\"showlegend\":true,\"x\":[\"Metal\"],\"xaxis\":\"x\",\"y\":[138.51136363636363],\"yaxis\":\"y\",\"type\":\"scatter\"}],                        {\"template\":{\"data\":{\"histogram2dcontour\":[{\"type\":\"histogram2dcontour\",\"colorbar\":{\"outlinewidth\":0,\"ticks\":\"\"},\"colorscale\":[[0.0,\"#0d0887\"],[0.1111111111111111,\"#46039f\"],[0.2222222222222222,\"#7201a8\"],[0.3333333333333333,\"#9c179e\"],[0.4444444444444444,\"#bd3786\"],[0.5555555555555556,\"#d8576b\"],[0.6666666666666666,\"#ed7953\"],[0.7777777777777778,\"#fb9f3a\"],[0.8888888888888888,\"#fdca26\"],[1.0,\"#f0f921\"]]}],\"choropleth\":[{\"type\":\"choropleth\",\"colorbar\":{\"outlinewidth\":0,\"ticks\":\"\"}}],\"histogram2d\":[{\"type\":\"histogram2d\",\"colorbar\":{\"outlinewidth\":0,\"ticks\":\"\"},\"colorscale\":[[0.0,\"#0d0887\"],[0.1111111111111111,\"#46039f\"],[0.2222222222222222,\"#7201a8\"],[0.3333333333333333,\"#9c179e\"],[0.4444444444444444,\"#bd3786\"],[0.5555555555555556,\"#d8576b\"],[0.6666666666666666,\"#ed7953\"],[0.7777777777777778,\"#fb9f3a\"],[0.8888888888888888,\"#fdca26\"],[1.0,\"#f0f921\"]]}],\"heatmap\":[{\"type\":\"heatmap\",\"colorbar\":{\"outlinewidth\":0,\"ticks\":\"\"},\"colorscale\":[[0.0,\"#0d0887\"],[0.1111111111111111,\"#46039f\"],[0.2222222222222222,\"#7201a8\"],[0.3333333333333333,\"#9c179e\"],[0.4444444444444444,\"#bd3786\"],[0.5555555555555556,\"#d8576b\"],[0.6666666666666666,\"#ed7953\"],[0.7777777777777778,\"#fb9f3a\"],[0.8888888888888888,\"#fdca26\"],[1.0,\"#f0f921\"]]}],\"heatmapgl\":[{\"type\":\"heatmapgl\",\"colorbar\":{\"outlinewidth\":0,\"ticks\":\"\"},\"colorscale\":[[0.0,\"#0d0887\"],[0.1111111111111111,\"#46039f\"],[0.2222222222222222,\"#7201a8\"],[0.3333333333333333,\"#9c179e\"],[0.4444444444444444,\"#bd3786\"],[0.5555555555555556,\"#d8576b\"],[0.6666666666666666,\"#ed7953\"],[0.7777777777777778,\"#fb9f3a\"],[0.8888888888888888,\"#fdca26\"],[1.0,\"#f0f921\"]]}],\"contourcarpet\":[{\"type\":\"contourcarpet\",\"colorbar\":{\"outlinewidth\":0,\"ticks\":\"\"}}],\"contour\":[{\"type\":\"contour\",\"colorbar\":{\"outlinewidth\":0,\"ticks\":\"\"},\"colorscale\":[[0.0,\"#0d0887\"],[0.1111111111111111,\"#46039f\"],[0.2222222222222222,\"#7201a8\"],[0.3333333333333333,\"#9c179e\"],[0.4444444444444444,\"#bd3786\"],[0.5555555555555556,\"#d8576b\"],[0.6666666666666666,\"#ed7953\"],[0.7777777777777778,\"#fb9f3a\"],[0.8888888888888888,\"#fdca26\"],[1.0,\"#f0f921\"]]}],\"surface\":[{\"type\":\"surface\",\"colorbar\":{\"outlinewidth\":0,\"ticks\":\"\"},\"colorscale\":[[0.0,\"#0d0887\"],[0.1111111111111111,\"#46039f\"],[0.2222222222222222,\"#7201a8\"],[0.3333333333333333,\"#9c179e\"],[0.4444444444444444,\"#bd3786\"],[0.5555555555555556,\"#d8576b\"],[0.6666666666666666,\"#ed7953\"],[0.7777777777777778,\"#fb9f3a\"],[0.8888888888888888,\"#fdca26\"],[1.0,\"#f0f921\"]]}],\"mesh3d\":[{\"type\":\"mesh3d\",\"colorbar\":{\"outlinewidth\":0,\"ticks\":\"\"}}],\"scatter\":[{\"fillpattern\":{\"fillmode\":\"overlay\",\"size\":10,\"solidity\":0.2},\"type\":\"scatter\"}],\"parcoords\":[{\"type\":\"parcoords\",\"line\":{\"colorbar\":{\"outlinewidth\":0,\"ticks\":\"\"}}}],\"scatterpolargl\":[{\"type\":\"scatterpolargl\",\"marker\":{\"colorbar\":{\"outlinewidth\":0,\"ticks\":\"\"}}}],\"bar\":[{\"error_x\":{\"color\":\"#2a3f5f\"},\"error_y\":{\"color\":\"#2a3f5f\"},\"marker\":{\"line\":{\"color\":\"#E5ECF6\",\"width\":0.5},\"pattern\":{\"fillmode\":\"overlay\",\"size\":10,\"solidity\":0.2}},\"type\":\"bar\"}],\"scattergeo\":[{\"type\":\"scattergeo\",\"marker\":{\"colorbar\":{\"outlinewidth\":0,\"ticks\":\"\"}}}],\"scatterpolar\":[{\"type\":\"scatterpolar\",\"marker\":{\"colorbar\":{\"outlinewidth\":0,\"ticks\":\"\"}}}],\"histogram\":[{\"marker\":{\"pattern\":{\"fillmode\":\"overlay\",\"size\":10,\"solidity\":0.2}},\"type\":\"histogram\"}],\"scattergl\":[{\"type\":\"scattergl\",\"marker\":{\"colorbar\":{\"outlinewidth\":0,\"ticks\":\"\"}}}],\"scatter3d\":[{\"type\":\"scatter3d\",\"line\":{\"colorbar\":{\"outlinewidth\":0,\"ticks\":\"\"}},\"marker\":{\"colorbar\":{\"outlinewidth\":0,\"ticks\":\"\"}}}],\"scattermapbox\":[{\"type\":\"scattermapbox\",\"marker\":{\"colorbar\":{\"outlinewidth\":0,\"ticks\":\"\"}}}],\"scatterternary\":[{\"type\":\"scatterternary\",\"marker\":{\"colorbar\":{\"outlinewidth\":0,\"ticks\":\"\"}}}],\"scattercarpet\":[{\"type\":\"scattercarpet\",\"marker\":{\"colorbar\":{\"outlinewidth\":0,\"ticks\":\"\"}}}],\"carpet\":[{\"aaxis\":{\"endlinecolor\":\"#2a3f5f\",\"gridcolor\":\"white\",\"linecolor\":\"white\",\"minorgridcolor\":\"white\",\"startlinecolor\":\"#2a3f5f\"},\"baxis\":{\"endlinecolor\":\"#2a3f5f\",\"gridcolor\":\"white\",\"linecolor\":\"white\",\"minorgridcolor\":\"white\",\"startlinecolor\":\"#2a3f5f\"},\"type\":\"carpet\"}],\"table\":[{\"cells\":{\"fill\":{\"color\":\"#EBF0F8\"},\"line\":{\"color\":\"white\"}},\"header\":{\"fill\":{\"color\":\"#C8D4E3\"},\"line\":{\"color\":\"white\"}},\"type\":\"table\"}],\"barpolar\":[{\"marker\":{\"line\":{\"color\":\"#E5ECF6\",\"width\":0.5},\"pattern\":{\"fillmode\":\"overlay\",\"size\":10,\"solidity\":0.2}},\"type\":\"barpolar\"}],\"pie\":[{\"automargin\":true,\"type\":\"pie\"}]},\"layout\":{\"autotypenumbers\":\"strict\",\"colorway\":[\"#636efa\",\"#EF553B\",\"#00cc96\",\"#ab63fa\",\"#FFA15A\",\"#19d3f3\",\"#FF6692\",\"#B6E880\",\"#FF97FF\",\"#FECB52\"],\"font\":{\"color\":\"#2a3f5f\"},\"hovermode\":\"closest\",\"hoverlabel\":{\"align\":\"left\"},\"paper_bgcolor\":\"white\",\"plot_bgcolor\":\"#E5ECF6\",\"polar\":{\"bgcolor\":\"#E5ECF6\",\"angularaxis\":{\"gridcolor\":\"white\",\"linecolor\":\"white\",\"ticks\":\"\"},\"radialaxis\":{\"gridcolor\":\"white\",\"linecolor\":\"white\",\"ticks\":\"\"}},\"ternary\":{\"bgcolor\":\"#E5ECF6\",\"aaxis\":{\"gridcolor\":\"white\",\"linecolor\":\"white\",\"ticks\":\"\"},\"baxis\":{\"gridcolor\":\"white\",\"linecolor\":\"white\",\"ticks\":\"\"},\"caxis\":{\"gridcolor\":\"white\",\"linecolor\":\"white\",\"ticks\":\"\"}},\"coloraxis\":{\"colorbar\":{\"outlinewidth\":0,\"ticks\":\"\"}},\"colorscale\":{\"sequential\":[[0.0,\"#0d0887\"],[0.1111111111111111,\"#46039f\"],[0.2222222222222222,\"#7201a8\"],[0.3333333333333333,\"#9c179e\"],[0.4444444444444444,\"#bd3786\"],[0.5555555555555556,\"#d8576b\"],[0.6666666666666666,\"#ed7953\"],[0.7777777777777778,\"#fb9f3a\"],[0.8888888888888888,\"#fdca26\"],[1.0,\"#f0f921\"]],\"sequentialminus\":[[0.0,\"#0d0887\"],[0.1111111111111111,\"#46039f\"],[0.2222222222222222,\"#7201a8\"],[0.3333333333333333,\"#9c179e\"],[0.4444444444444444,\"#bd3786\"],[0.5555555555555556,\"#d8576b\"],[0.6666666666666666,\"#ed7953\"],[0.7777777777777778,\"#fb9f3a\"],[0.8888888888888888,\"#fdca26\"],[1.0,\"#f0f921\"]],\"diverging\":[[0,\"#8e0152\"],[0.1,\"#c51b7d\"],[0.2,\"#de77ae\"],[0.3,\"#f1b6da\"],[0.4,\"#fde0ef\"],[0.5,\"#f7f7f7\"],[0.6,\"#e6f5d0\"],[0.7,\"#b8e186\"],[0.8,\"#7fbc41\"],[0.9,\"#4d9221\"],[1,\"#276419\"]]},\"xaxis\":{\"gridcolor\":\"white\",\"linecolor\":\"white\",\"ticks\":\"\",\"title\":{\"standoff\":15},\"zerolinecolor\":\"white\",\"automargin\":true,\"zerolinewidth\":2},\"yaxis\":{\"gridcolor\":\"white\",\"linecolor\":\"white\",\"ticks\":\"\",\"title\":{\"standoff\":15},\"zerolinecolor\":\"white\",\"automargin\":true,\"zerolinewidth\":2},\"scene\":{\"xaxis\":{\"backgroundcolor\":\"#E5ECF6\",\"gridcolor\":\"white\",\"linecolor\":\"white\",\"showbackground\":true,\"ticks\":\"\",\"zerolinecolor\":\"white\",\"gridwidth\":2},\"yaxis\":{\"backgroundcolor\":\"#E5ECF6\",\"gridcolor\":\"white\",\"linecolor\":\"white\",\"showbackground\":true,\"ticks\":\"\",\"zerolinecolor\":\"white\",\"gridwidth\":2},\"zaxis\":{\"backgroundcolor\":\"#E5ECF6\",\"gridcolor\":\"white\",\"linecolor\":\"white\",\"showbackground\":true,\"ticks\":\"\",\"zerolinecolor\":\"white\",\"gridwidth\":2}},\"shapedefaults\":{\"line\":{\"color\":\"#2a3f5f\"}},\"annotationdefaults\":{\"arrowcolor\":\"#2a3f5f\",\"arrowhead\":0,\"arrowwidth\":1},\"geo\":{\"bgcolor\":\"white\",\"landcolor\":\"#E5ECF6\",\"subunitcolor\":\"white\",\"showland\":true,\"showlakes\":true,\"lakecolor\":\"white\"},\"title\":{\"x\":0.05},\"mapbox\":{\"style\":\"light\"}}},\"xaxis\":{\"anchor\":\"y\",\"domain\":[0.0,1.0],\"title\":{\"text\":\"\"},\"categoryorder\":\"array\",\"categoryarray\":[\"Gospel\",\"Hip hop\",\"Country\",\"Classical\",\"Lofi\",\"Folk\",\"R&B\",\"Pop\",\"Video game music\",\"Jazz\",\"Rock\",\"K pop\",\"Rap\",\"Latin\",\"EDM\",\"Metal\"]},\"yaxis\":{\"anchor\":\"x\",\"domain\":[0.0,1.0],\"title\":{\"text\":\"BPM\"},\"tickformat\":\"d\"},\"legend\":{\"title\":{\"text\":\"\"},\"tracegroupgap\":0},\"title\":{\"text\":\"Średni BPM podczas słuchania poszczególnych gatunków muzyki\"},\"height\":550,\"width\":800},                        {\"responsive\": true}                    ).then(function(){\n",
              "                            \n",
              "var gd = document.getElementById('57af66f6-9da1-4bd8-b732-a4b09fc8f7b5');\n",
              "var x = new MutationObserver(function (mutations, observer) {{\n",
              "        var display = window.getComputedStyle(gd).display;\n",
              "        if (!display || display === 'none') {{\n",
              "            console.log([gd, 'removed!']);\n",
              "            Plotly.purge(gd);\n",
              "            observer.disconnect();\n",
              "        }}\n",
              "}});\n",
              "\n",
              "// Listen for the removal of the full notebook cells\n",
              "var notebookContainer = gd.closest('#notebook-container');\n",
              "if (notebookContainer) {{\n",
              "    x.observe(notebookContainer, {childList: true});\n",
              "}}\n",
              "\n",
              "// Listen for the clearing of the current output cell\n",
              "var outputEl = gd.closest('.output');\n",
              "if (outputEl) {{\n",
              "    x.observe(outputEl, {childList: true});\n",
              "}}\n",
              "\n",
              "                        })                };                            </script>        </div>\n",
              "</body>\n",
              "</html>"
            ]
          },
          "metadata": {}
        }
      ]
    },
    {
      "cell_type": "markdown",
      "source": [
        "### Częstotliwość słuchania poszczególnych gatunków"
      ],
      "metadata": {
        "id": "qtW2ea3VLoz0"
      }
    },
    {
      "cell_type": "code",
      "source": [
        "freq_df = df.filter(like='Frequency', axis=1)\n",
        "\n",
        "freq_df = freq_df.melt(var_name='genre', value_name='frequency')\n",
        "freq_df['genre'] = freq_df['genre'].apply(lambda g: re.search(r'Frequency \\[(.*?)\\]', str(g)).group(1))\n",
        "\n",
        "freq_hist = px.histogram(\n",
        "    freq_df,\n",
        "    x='genre',\n",
        "    color='frequency',\n",
        "    title='Częstotliwość słuchania poszczególnych gatunków',\n",
        ")\n",
        "\n",
        "freq_hist.update_xaxes(title='')\n",
        "freq_hist.update_yaxes(title='Ilość osób')\n",
        "freq_hist.update_layout(barmode='group', bargap=0.35, legend_title='Częstotliwość')\n",
        "\n",
        "freq_hist.show()"
      ],
      "metadata": {
        "colab": {
          "base_uri": "https://localhost:8080/",
          "height": 542
        },
        "id": "3_spILLGLvVW",
        "outputId": "9390f4a2-30bb-4ca4-aa13-de7c52cb6e7e"
      },
      "execution_count": 104,
      "outputs": [
        {
          "output_type": "display_data",
          "data": {
            "text/html": [
              "<html>\n",
              "<head><meta charset=\"utf-8\" /></head>\n",
              "<body>\n",
              "    <div>            <script src=\"https://cdnjs.cloudflare.com/ajax/libs/mathjax/2.7.5/MathJax.js?config=TeX-AMS-MML_SVG\"></script><script type=\"text/javascript\">if (window.MathJax && window.MathJax.Hub && window.MathJax.Hub.Config) {window.MathJax.Hub.Config({SVG: {font: \"STIX-Web\"}});}</script>                <script type=\"text/javascript\">window.PlotlyConfig = {MathJaxConfig: 'local'};</script>\n",
              "        <script charset=\"utf-8\" src=\"https://cdn.plot.ly/plotly-2.35.2.min.js\"></script>                <div id=\"b23a2ab9-79d8-4197-9881-ad86493623ef\" class=\"plotly-graph-div\" style=\"height:525px; width:100%;\"></div>            <script type=\"text/javascript\">                                    window.PLOTLYENV=window.PLOTLYENV || {};                                    if (document.getElementById(\"b23a2ab9-79d8-4197-9881-ad86493623ef\")) {                    Plotly.newPlot(                        \"b23a2ab9-79d8-4197-9881-ad86493623ef\",                        [{\"alignmentgroup\":\"True\",\"bingroup\":\"x\",\"hovertemplate\":\"frequency=Rarely\\u003cbr\\u003egenre=%{x}\\u003cbr\\u003ecount=%{y}\\u003cextra\\u003e\\u003c\\u002fextra\\u003e\",\"legendgroup\":\"Rarely\",\"marker\":{\"color\":\"#636efa\",\"pattern\":{\"shape\":\"\"}},\"name\":\"Rarely\",\"offsetgroup\":\"Rarely\",\"orientation\":\"v\",\"showlegend\":true,\"x\":[\"Classical\",\"Classical\",\"Classical\",\"Classical\",\"Classical\",\"Classical\",\"Classical\",\"Classical\",\"Classical\",\"Classical\",\"Classical\",\"Classical\",\"Classical\",\"Classical\",\"Classical\",\"Classical\",\"Classical\",\"Classical\",\"Classical\",\"Classical\",\"Classical\",\"Classical\",\"Classical\",\"Classical\",\"Classical\",\"Classical\",\"Classical\",\"Classical\",\"Classical\",\"Classical\",\"Classical\",\"Classical\",\"Classical\",\"Classical\",\"Classical\",\"Classical\",\"Classical\",\"Classical\",\"Classical\",\"Classical\",\"Classical\",\"Classical\",\"Classical\",\"Classical\",\"Classical\",\"Classical\",\"Classical\",\"Classical\",\"Classical\",\"Classical\",\"Classical\",\"Classical\",\"Classical\",\"Classical\",\"Classical\",\"Classical\",\"Classical\",\"Classical\",\"Classical\",\"Classical\",\"Classical\",\"Classical\",\"Classical\",\"Classical\",\"Classical\",\"Classical\",\"Classical\",\"Classical\",\"Classical\",\"Classical\",\"Classical\",\"Classical\",\"Classical\",\"Classical\",\"Classical\",\"Classical\",\"Classical\",\"Classical\",\"Classical\",\"Classical\",\"Classical\",\"Classical\",\"Classical\",\"Classical\",\"Classical\",\"Classical\",\"Classical\",\"Classical\",\"Classical\",\"Classical\",\"Classical\",\"Classical\",\"Classical\",\"Classical\",\"Classical\",\"Classical\",\"Classical\",\"Classical\",\"Classical\",\"Classical\",\"Classical\",\"Classical\",\"Classical\",\"Classical\",\"Classical\",\"Classical\",\"Classical\",\"Classical\",\"Classical\",\"Classical\",\"Classical\",\"Classical\",\"Classical\",\"Classical\",\"Classical\",\"Classical\",\"Classical\",\"Classical\",\"Classical\",\"Classical\",\"Classical\",\"Classical\",\"Classical\",\"Classical\",\"Classical\",\"Classical\",\"Classical\",\"Classical\",\"Classical\",\"Classical\",\"Classical\",\"Classical\",\"Classical\",\"Classical\",\"Classical\",\"Classical\",\"Classical\",\"Classical\",\"Classical\",\"Classical\",\"Classical\",\"Classical\",\"Classical\",\"Classical\",\"Classical\",\"Classical\",\"Classical\",\"Classical\",\"Classical\",\"Classical\",\"Classical\",\"Classical\",\"Classical\",\"Classical\",\"Classical\",\"Classical\",\"Classical\",\"Classical\",\"Classical\",\"Classical\",\"Classical\",\"Classical\",\"Classical\",\"Classical\",\"Classical\",\"Classical\",\"Classical\",\"Classical\",\"Classical\",\"Classical\",\"Classical\",\"Classical\",\"Classical\",\"Classical\",\"Classical\",\"Classical\",\"Classical\",\"Classical\",\"Classical\",\"Classical\",\"Classical\",\"Classical\",\"Classical\",\"Classical\",\"Classical\",\"Classical\",\"Classical\",\"Classical\",\"Classical\",\"Classical\",\"Classical\",\"Classical\",\"Classical\",\"Classical\",\"Classical\",\"Classical\",\"Classical\",\"Classical\",\"Classical\",\"Classical\",\"Classical\",\"Classical\",\"Classical\",\"Classical\",\"Classical\",\"Classical\",\"Classical\",\"Classical\",\"Classical\",\"Classical\",\"Classical\",\"Classical\",\"Classical\",\"Classical\",\"Classical\",\"Classical\",\"Classical\",\"Classical\",\"Classical\",\"Classical\",\"Classical\",\"Classical\",\"Classical\",\"Classical\",\"Classical\",\"Classical\",\"Classical\",\"Classical\",\"Classical\",\"Classical\",\"Classical\",\"Classical\",\"Classical\",\"Classical\",\"Classical\",\"Classical\",\"Classical\",\"Classical\",\"Classical\",\"Classical\",\"Classical\",\"Classical\",\"Classical\",\"Classical\",\"Classical\",\"Classical\",\"Classical\",\"Classical\",\"Classical\",\"Classical\",\"Classical\",\"Classical\",\"Classical\",\"Classical\",\"Classical\",\"Classical\",\"Classical\",\"Classical\",\"Country\",\"Country\",\"Country\",\"Country\",\"Country\",\"Country\",\"Country\",\"Country\",\"Country\",\"Country\",\"Country\",\"Country\",\"Country\",\"Country\",\"Country\",\"Country\",\"Country\",\"Country\",\"Country\",\"Country\",\"Country\",\"Country\",\"Country\",\"Country\",\"Country\",\"Country\",\"Country\",\"Country\",\"Country\",\"Country\",\"Country\",\"Country\",\"Country\",\"Country\",\"Country\",\"Country\",\"Country\",\"Country\",\"Country\",\"Country\",\"Country\",\"Country\",\"Country\",\"Country\",\"Country\",\"Country\",\"Country\",\"Country\",\"Country\",\"Country\",\"Country\",\"Country\",\"Country\",\"Country\",\"Country\",\"Country\",\"Country\",\"Country\",\"Country\",\"Country\",\"Country\",\"Country\",\"Country\",\"Country\",\"Country\",\"Country\",\"Country\",\"Country\",\"Country\",\"Country\",\"Country\",\"Country\",\"Country\",\"Country\",\"Country\",\"Country\",\"Country\",\"Country\",\"Country\",\"Country\",\"Country\",\"Country\",\"Country\",\"Country\",\"Country\",\"Country\",\"Country\",\"Country\",\"Country\",\"Country\",\"Country\",\"Country\",\"Country\",\"Country\",\"Country\",\"Country\",\"Country\",\"Country\",\"Country\",\"Country\",\"Country\",\"Country\",\"Country\",\"Country\",\"Country\",\"Country\",\"Country\",\"Country\",\"Country\",\"Country\",\"Country\",\"Country\",\"Country\",\"Country\",\"Country\",\"Country\",\"Country\",\"Country\",\"Country\",\"Country\",\"Country\",\"Country\",\"Country\",\"Country\",\"Country\",\"Country\",\"Country\",\"Country\",\"Country\",\"Country\",\"Country\",\"Country\",\"Country\",\"Country\",\"Country\",\"Country\",\"Country\",\"Country\",\"Country\",\"Country\",\"Country\",\"Country\",\"Country\",\"Country\",\"Country\",\"Country\",\"Country\",\"Country\",\"Country\",\"Country\",\"Country\",\"Country\",\"Country\",\"Country\",\"Country\",\"Country\",\"Country\",\"Country\",\"Country\",\"Country\",\"Country\",\"Country\",\"Country\",\"Country\",\"Country\",\"Country\",\"Country\",\"Country\",\"Country\",\"Country\",\"Country\",\"Country\",\"Country\",\"Country\",\"Country\",\"Country\",\"Country\",\"Country\",\"Country\",\"Country\",\"Country\",\"Country\",\"Country\",\"Country\",\"Country\",\"Country\",\"Country\",\"Country\",\"Country\",\"Country\",\"Country\",\"Country\",\"Country\",\"Country\",\"Country\",\"Country\",\"Country\",\"Country\",\"Country\",\"Country\",\"Country\",\"Country\",\"Country\",\"Country\",\"Country\",\"Country\",\"Country\",\"Country\",\"Country\",\"Country\",\"Country\",\"Country\",\"Country\",\"Country\",\"Country\",\"Country\",\"Country\",\"Country\",\"Country\",\"Country\",\"Country\",\"Country\",\"Country\",\"Country\",\"Country\",\"Country\",\"Country\",\"Country\",\"Country\",\"Country\",\"Country\",\"Country\",\"Country\",\"EDM\",\"EDM\",\"EDM\",\"EDM\",\"EDM\",\"EDM\",\"EDM\",\"EDM\",\"EDM\",\"EDM\",\"EDM\",\"EDM\",\"EDM\",\"EDM\",\"EDM\",\"EDM\",\"EDM\",\"EDM\",\"EDM\",\"EDM\",\"EDM\",\"EDM\",\"EDM\",\"EDM\",\"EDM\",\"EDM\",\"EDM\",\"EDM\",\"EDM\",\"EDM\",\"EDM\",\"EDM\",\"EDM\",\"EDM\",\"EDM\",\"EDM\",\"EDM\",\"EDM\",\"EDM\",\"EDM\",\"EDM\",\"EDM\",\"EDM\",\"EDM\",\"EDM\",\"EDM\",\"EDM\",\"EDM\",\"EDM\",\"EDM\",\"EDM\",\"EDM\",\"EDM\",\"EDM\",\"EDM\",\"EDM\",\"EDM\",\"EDM\",\"EDM\",\"EDM\",\"EDM\",\"EDM\",\"EDM\",\"EDM\",\"EDM\",\"EDM\",\"EDM\",\"EDM\",\"EDM\",\"EDM\",\"EDM\",\"EDM\",\"EDM\",\"EDM\",\"EDM\",\"EDM\",\"EDM\",\"EDM\",\"EDM\",\"EDM\",\"EDM\",\"EDM\",\"EDM\",\"EDM\",\"EDM\",\"EDM\",\"EDM\",\"EDM\",\"EDM\",\"EDM\",\"EDM\",\"EDM\",\"EDM\",\"EDM\",\"EDM\",\"EDM\",\"EDM\",\"EDM\",\"EDM\",\"EDM\",\"EDM\",\"EDM\",\"EDM\",\"EDM\",\"EDM\",\"EDM\",\"EDM\",\"EDM\",\"EDM\",\"EDM\",\"EDM\",\"EDM\",\"EDM\",\"EDM\",\"EDM\",\"EDM\",\"EDM\",\"EDM\",\"EDM\",\"EDM\",\"EDM\",\"EDM\",\"EDM\",\"EDM\",\"EDM\",\"EDM\",\"EDM\",\"EDM\",\"EDM\",\"EDM\",\"EDM\",\"EDM\",\"EDM\",\"EDM\",\"EDM\",\"EDM\",\"EDM\",\"EDM\",\"EDM\",\"EDM\",\"EDM\",\"EDM\",\"EDM\",\"EDM\",\"EDM\",\"EDM\",\"EDM\",\"EDM\",\"EDM\",\"EDM\",\"EDM\",\"EDM\",\"EDM\",\"EDM\",\"EDM\",\"EDM\",\"EDM\",\"EDM\",\"EDM\",\"EDM\",\"EDM\",\"EDM\",\"EDM\",\"EDM\",\"EDM\",\"EDM\",\"EDM\",\"EDM\",\"EDM\",\"EDM\",\"EDM\",\"EDM\",\"EDM\",\"EDM\",\"EDM\",\"EDM\",\"EDM\",\"EDM\",\"EDM\",\"EDM\",\"EDM\",\"EDM\",\"EDM\",\"EDM\",\"EDM\",\"EDM\",\"EDM\",\"EDM\",\"EDM\",\"EDM\",\"EDM\",\"EDM\",\"EDM\",\"Folk\",\"Folk\",\"Folk\",\"Folk\",\"Folk\",\"Folk\",\"Folk\",\"Folk\",\"Folk\",\"Folk\",\"Folk\",\"Folk\",\"Folk\",\"Folk\",\"Folk\",\"Folk\",\"Folk\",\"Folk\",\"Folk\",\"Folk\",\"Folk\",\"Folk\",\"Folk\",\"Folk\",\"Folk\",\"Folk\",\"Folk\",\"Folk\",\"Folk\",\"Folk\",\"Folk\",\"Folk\",\"Folk\",\"Folk\",\"Folk\",\"Folk\",\"Folk\",\"Folk\",\"Folk\",\"Folk\",\"Folk\",\"Folk\",\"Folk\",\"Folk\",\"Folk\",\"Folk\",\"Folk\",\"Folk\",\"Folk\",\"Folk\",\"Folk\",\"Folk\",\"Folk\",\"Folk\",\"Folk\",\"Folk\",\"Folk\",\"Folk\",\"Folk\",\"Folk\",\"Folk\",\"Folk\",\"Folk\",\"Folk\",\"Folk\",\"Folk\",\"Folk\",\"Folk\",\"Folk\",\"Folk\",\"Folk\",\"Folk\",\"Folk\",\"Folk\",\"Folk\",\"Folk\",\"Folk\",\"Folk\",\"Folk\",\"Folk\",\"Folk\",\"Folk\",\"Folk\",\"Folk\",\"Folk\",\"Folk\",\"Folk\",\"Folk\",\"Folk\",\"Folk\",\"Folk\",\"Folk\",\"Folk\",\"Folk\",\"Folk\",\"Folk\",\"Folk\",\"Folk\",\"Folk\",\"Folk\",\"Folk\",\"Folk\",\"Folk\",\"Folk\",\"Folk\",\"Folk\",\"Folk\",\"Folk\",\"Folk\",\"Folk\",\"Folk\",\"Folk\",\"Folk\",\"Folk\",\"Folk\",\"Folk\",\"Folk\",\"Folk\",\"Folk\",\"Folk\",\"Folk\",\"Folk\",\"Folk\",\"Folk\",\"Folk\",\"Folk\",\"Folk\",\"Folk\",\"Folk\",\"Folk\",\"Folk\",\"Folk\",\"Folk\",\"Folk\",\"Folk\",\"Folk\",\"Folk\",\"Folk\",\"Folk\",\"Folk\",\"Folk\",\"Folk\",\"Folk\",\"Folk\",\"Folk\",\"Folk\",\"Folk\",\"Folk\",\"Folk\",\"Folk\",\"Folk\",\"Folk\",\"Folk\",\"Folk\",\"Folk\",\"Folk\",\"Folk\",\"Folk\",\"Folk\",\"Folk\",\"Folk\",\"Folk\",\"Folk\",\"Folk\",\"Folk\",\"Folk\",\"Folk\",\"Folk\",\"Folk\",\"Folk\",\"Folk\",\"Folk\",\"Folk\",\"Folk\",\"Folk\",\"Folk\",\"Folk\",\"Folk\",\"Folk\",\"Folk\",\"Folk\",\"Folk\",\"Folk\",\"Folk\",\"Folk\",\"Folk\",\"Folk\",\"Folk\",\"Folk\",\"Folk\",\"Folk\",\"Folk\",\"Folk\",\"Folk\",\"Folk\",\"Folk\",\"Folk\",\"Folk\",\"Folk\",\"Folk\",\"Folk\",\"Folk\",\"Folk\",\"Folk\",\"Folk\",\"Folk\",\"Folk\",\"Folk\",\"Folk\",\"Folk\",\"Folk\",\"Folk\",\"Folk\",\"Folk\",\"Folk\",\"Folk\",\"Folk\",\"Folk\",\"Folk\",\"Folk\",\"Folk\",\"Gospel\",\"Gospel\",\"Gospel\",\"Gospel\",\"Gospel\",\"Gospel\",\"Gospel\",\"Gospel\",\"Gospel\",\"Gospel\",\"Gospel\",\"Gospel\",\"Gospel\",\"Gospel\",\"Gospel\",\"Gospel\",\"Gospel\",\"Gospel\",\"Gospel\",\"Gospel\",\"Gospel\",\"Gospel\",\"Gospel\",\"Gospel\",\"Gospel\",\"Gospel\",\"Gospel\",\"Gospel\",\"Gospel\",\"Gospel\",\"Gospel\",\"Gospel\",\"Gospel\",\"Gospel\",\"Gospel\",\"Gospel\",\"Gospel\",\"Gospel\",\"Gospel\",\"Gospel\",\"Gospel\",\"Gospel\",\"Gospel\",\"Gospel\",\"Gospel\",\"Gospel\",\"Gospel\",\"Gospel\",\"Gospel\",\"Gospel\",\"Gospel\",\"Gospel\",\"Gospel\",\"Gospel\",\"Gospel\",\"Gospel\",\"Gospel\",\"Gospel\",\"Gospel\",\"Gospel\",\"Gospel\",\"Gospel\",\"Gospel\",\"Gospel\",\"Gospel\",\"Gospel\",\"Gospel\",\"Gospel\",\"Gospel\",\"Gospel\",\"Gospel\",\"Gospel\",\"Gospel\",\"Gospel\",\"Gospel\",\"Gospel\",\"Gospel\",\"Gospel\",\"Gospel\",\"Gospel\",\"Gospel\",\"Gospel\",\"Gospel\",\"Gospel\",\"Gospel\",\"Gospel\",\"Gospel\",\"Gospel\",\"Gospel\",\"Gospel\",\"Gospel\",\"Gospel\",\"Gospel\",\"Gospel\",\"Gospel\",\"Gospel\",\"Gospel\",\"Gospel\",\"Gospel\",\"Gospel\",\"Gospel\",\"Gospel\",\"Gospel\",\"Gospel\",\"Gospel\",\"Gospel\",\"Gospel\",\"Gospel\",\"Gospel\",\"Gospel\",\"Gospel\",\"Gospel\",\"Gospel\",\"Gospel\",\"Gospel\",\"Gospel\",\"Gospel\",\"Gospel\",\"Gospel\",\"Gospel\",\"Gospel\",\"Gospel\",\"Gospel\",\"Gospel\",\"Gospel\",\"Gospel\",\"Gospel\",\"Gospel\",\"Gospel\",\"Gospel\",\"Gospel\",\"Gospel\",\"Gospel\",\"Gospel\",\"Gospel\",\"Hip hop\",\"Hip hop\",\"Hip hop\",\"Hip hop\",\"Hip hop\",\"Hip hop\",\"Hip hop\",\"Hip hop\",\"Hip hop\",\"Hip hop\",\"Hip hop\",\"Hip hop\",\"Hip hop\",\"Hip hop\",\"Hip hop\",\"Hip hop\",\"Hip hop\",\"Hip hop\",\"Hip hop\",\"Hip hop\",\"Hip hop\",\"Hip hop\",\"Hip hop\",\"Hip hop\",\"Hip hop\",\"Hip hop\",\"Hip hop\",\"Hip hop\",\"Hip hop\",\"Hip hop\",\"Hip hop\",\"Hip hop\",\"Hip hop\",\"Hip hop\",\"Hip hop\",\"Hip hop\",\"Hip hop\",\"Hip hop\",\"Hip hop\",\"Hip hop\",\"Hip hop\",\"Hip hop\",\"Hip hop\",\"Hip hop\",\"Hip hop\",\"Hip hop\",\"Hip hop\",\"Hip hop\",\"Hip hop\",\"Hip hop\",\"Hip hop\",\"Hip hop\",\"Hip hop\",\"Hip hop\",\"Hip hop\",\"Hip hop\",\"Hip hop\",\"Hip hop\",\"Hip hop\",\"Hip hop\",\"Hip hop\",\"Hip hop\",\"Hip hop\",\"Hip hop\",\"Hip hop\",\"Hip hop\",\"Hip hop\",\"Hip hop\",\"Hip hop\",\"Hip hop\",\"Hip hop\",\"Hip hop\",\"Hip hop\",\"Hip hop\",\"Hip hop\",\"Hip hop\",\"Hip hop\",\"Hip hop\",\"Hip hop\",\"Hip hop\",\"Hip hop\",\"Hip hop\",\"Hip hop\",\"Hip hop\",\"Hip hop\",\"Hip hop\",\"Hip hop\",\"Hip hop\",\"Hip hop\",\"Hip hop\",\"Hip hop\",\"Hip hop\",\"Hip hop\",\"Hip hop\",\"Hip hop\",\"Hip hop\",\"Hip hop\",\"Hip hop\",\"Hip hop\",\"Hip hop\",\"Hip hop\",\"Hip hop\",\"Hip hop\",\"Hip hop\",\"Hip hop\",\"Hip hop\",\"Hip hop\",\"Hip hop\",\"Hip hop\",\"Hip hop\",\"Hip hop\",\"Hip hop\",\"Hip hop\",\"Hip hop\",\"Hip hop\",\"Hip hop\",\"Hip hop\",\"Hip hop\",\"Hip hop\",\"Hip hop\",\"Hip hop\",\"Hip hop\",\"Hip hop\",\"Hip hop\",\"Hip hop\",\"Hip hop\",\"Hip hop\",\"Hip hop\",\"Hip hop\",\"Hip hop\",\"Hip hop\",\"Hip hop\",\"Hip hop\",\"Hip hop\",\"Hip hop\",\"Hip hop\",\"Hip hop\",\"Hip hop\",\"Hip hop\",\"Hip hop\",\"Hip hop\",\"Hip hop\",\"Hip hop\",\"Hip hop\",\"Hip hop\",\"Hip hop\",\"Hip hop\",\"Hip hop\",\"Hip hop\",\"Hip hop\",\"Hip hop\",\"Hip hop\",\"Hip hop\",\"Hip hop\",\"Hip hop\",\"Hip hop\",\"Hip hop\",\"Hip hop\",\"Hip hop\",\"Hip hop\",\"Hip hop\",\"Hip hop\",\"Hip hop\",\"Hip hop\",\"Hip hop\",\"Hip hop\",\"Hip hop\",\"Hip hop\",\"Hip hop\",\"Hip hop\",\"Hip hop\",\"Hip hop\",\"Hip hop\",\"Hip hop\",\"Hip hop\",\"Hip hop\",\"Hip hop\",\"Hip hop\",\"Hip hop\",\"Hip hop\",\"Hip hop\",\"Hip hop\",\"Hip hop\",\"Hip hop\",\"Hip hop\",\"Hip hop\",\"Hip hop\",\"Hip hop\",\"Hip hop\",\"Hip hop\",\"Hip hop\",\"Hip hop\",\"Hip hop\",\"Hip hop\",\"Hip hop\",\"Hip hop\",\"Hip hop\",\"Hip hop\",\"Hip hop\",\"Hip hop\",\"Hip hop\",\"Hip hop\",\"Hip hop\",\"Hip hop\",\"Hip hop\",\"Hip hop\",\"Hip hop\",\"Hip hop\",\"Hip hop\",\"Hip hop\",\"Hip hop\",\"Hip hop\",\"Hip hop\",\"Hip hop\",\"Jazz\",\"Jazz\",\"Jazz\",\"Jazz\",\"Jazz\",\"Jazz\",\"Jazz\",\"Jazz\",\"Jazz\",\"Jazz\",\"Jazz\",\"Jazz\",\"Jazz\",\"Jazz\",\"Jazz\",\"Jazz\",\"Jazz\",\"Jazz\",\"Jazz\",\"Jazz\",\"Jazz\",\"Jazz\",\"Jazz\",\"Jazz\",\"Jazz\",\"Jazz\",\"Jazz\",\"Jazz\",\"Jazz\",\"Jazz\",\"Jazz\",\"Jazz\",\"Jazz\",\"Jazz\",\"Jazz\",\"Jazz\",\"Jazz\",\"Jazz\",\"Jazz\",\"Jazz\",\"Jazz\",\"Jazz\",\"Jazz\",\"Jazz\",\"Jazz\",\"Jazz\",\"Jazz\",\"Jazz\",\"Jazz\",\"Jazz\",\"Jazz\",\"Jazz\",\"Jazz\",\"Jazz\",\"Jazz\",\"Jazz\",\"Jazz\",\"Jazz\",\"Jazz\",\"Jazz\",\"Jazz\",\"Jazz\",\"Jazz\",\"Jazz\",\"Jazz\",\"Jazz\",\"Jazz\",\"Jazz\",\"Jazz\",\"Jazz\",\"Jazz\",\"Jazz\",\"Jazz\",\"Jazz\",\"Jazz\",\"Jazz\",\"Jazz\",\"Jazz\",\"Jazz\",\"Jazz\",\"Jazz\",\"Jazz\",\"Jazz\",\"Jazz\",\"Jazz\",\"Jazz\",\"Jazz\",\"Jazz\",\"Jazz\",\"Jazz\",\"Jazz\",\"Jazz\",\"Jazz\",\"Jazz\",\"Jazz\",\"Jazz\",\"Jazz\",\"Jazz\",\"Jazz\",\"Jazz\",\"Jazz\",\"Jazz\",\"Jazz\",\"Jazz\",\"Jazz\",\"Jazz\",\"Jazz\",\"Jazz\",\"Jazz\",\"Jazz\",\"Jazz\",\"Jazz\",\"Jazz\",\"Jazz\",\"Jazz\",\"Jazz\",\"Jazz\",\"Jazz\",\"Jazz\",\"Jazz\",\"Jazz\",\"Jazz\",\"Jazz\",\"Jazz\",\"Jazz\",\"Jazz\",\"Jazz\",\"Jazz\",\"Jazz\",\"Jazz\",\"Jazz\",\"Jazz\",\"Jazz\",\"Jazz\",\"Jazz\",\"Jazz\",\"Jazz\",\"Jazz\",\"Jazz\",\"Jazz\",\"Jazz\",\"Jazz\",\"Jazz\",\"Jazz\",\"Jazz\",\"Jazz\",\"Jazz\",\"Jazz\",\"Jazz\",\"Jazz\",\"Jazz\",\"Jazz\",\"Jazz\",\"Jazz\",\"Jazz\",\"Jazz\",\"Jazz\",\"Jazz\",\"Jazz\",\"Jazz\",\"Jazz\",\"Jazz\",\"Jazz\",\"Jazz\",\"Jazz\",\"Jazz\",\"Jazz\",\"Jazz\",\"Jazz\",\"Jazz\",\"Jazz\",\"Jazz\",\"Jazz\",\"Jazz\",\"Jazz\",\"Jazz\",\"Jazz\",\"Jazz\",\"Jazz\",\"Jazz\",\"Jazz\",\"Jazz\",\"Jazz\",\"Jazz\",\"Jazz\",\"Jazz\",\"Jazz\",\"Jazz\",\"Jazz\",\"Jazz\",\"Jazz\",\"Jazz\",\"Jazz\",\"Jazz\",\"Jazz\",\"Jazz\",\"Jazz\",\"Jazz\",\"Jazz\",\"Jazz\",\"Jazz\",\"Jazz\",\"Jazz\",\"Jazz\",\"Jazz\",\"Jazz\",\"Jazz\",\"Jazz\",\"Jazz\",\"Jazz\",\"Jazz\",\"Jazz\",\"Jazz\",\"Jazz\",\"Jazz\",\"Jazz\",\"Jazz\",\"Jazz\",\"Jazz\",\"Jazz\",\"Jazz\",\"Jazz\",\"Jazz\",\"Jazz\",\"Jazz\",\"Jazz\",\"Jazz\",\"Jazz\",\"Jazz\",\"Jazz\",\"Jazz\",\"Jazz\",\"Jazz\",\"Jazz\",\"Jazz\",\"Jazz\",\"Jazz\",\"Jazz\",\"Jazz\",\"Jazz\",\"Jazz\",\"Jazz\",\"Jazz\",\"Jazz\",\"Jazz\",\"Jazz\",\"Jazz\",\"K pop\",\"K pop\",\"K pop\",\"K pop\",\"K pop\",\"K pop\",\"K pop\",\"K pop\",\"K pop\",\"K pop\",\"K pop\",\"K pop\",\"K pop\",\"K pop\",\"K pop\",\"K pop\",\"K pop\",\"K pop\",\"K pop\",\"K pop\",\"K pop\",\"K pop\",\"K pop\",\"K pop\",\"K pop\",\"K pop\",\"K pop\",\"K pop\",\"K pop\",\"K pop\",\"K pop\",\"K pop\",\"K pop\",\"K pop\",\"K pop\",\"K pop\",\"K pop\",\"K pop\",\"K pop\",\"K pop\",\"K pop\",\"K pop\",\"K pop\",\"K pop\",\"K pop\",\"K pop\",\"K pop\",\"K pop\",\"K pop\",\"K pop\",\"K pop\",\"K pop\",\"K pop\",\"K pop\",\"K pop\",\"K pop\",\"K pop\",\"K pop\",\"K pop\",\"K pop\",\"K pop\",\"K pop\",\"K pop\",\"K pop\",\"K pop\",\"K pop\",\"K pop\",\"K pop\",\"K pop\",\"K pop\",\"K pop\",\"K pop\",\"K pop\",\"K pop\",\"K pop\",\"K pop\",\"K pop\",\"K pop\",\"K pop\",\"K pop\",\"K pop\",\"K pop\",\"K pop\",\"K pop\",\"K pop\",\"K pop\",\"K pop\",\"K pop\",\"K pop\",\"K pop\",\"K pop\",\"K pop\",\"K pop\",\"K pop\",\"K pop\",\"K pop\",\"K pop\",\"K pop\",\"K pop\",\"K pop\",\"K pop\",\"K pop\",\"K pop\",\"K pop\",\"K pop\",\"K pop\",\"K pop\",\"K pop\",\"K pop\",\"K pop\",\"K pop\",\"K pop\",\"K pop\",\"K pop\",\"K pop\",\"K pop\",\"K pop\",\"K pop\",\"K pop\",\"K pop\",\"K pop\",\"K pop\",\"K pop\",\"K pop\",\"K pop\",\"K pop\",\"K pop\",\"K pop\",\"K pop\",\"K pop\",\"K pop\",\"K pop\",\"K pop\",\"K pop\",\"K pop\",\"K pop\",\"K pop\",\"K pop\",\"K pop\",\"K pop\",\"K pop\",\"K pop\",\"K pop\",\"K pop\",\"K pop\",\"K pop\",\"K pop\",\"K pop\",\"K pop\",\"K pop\",\"K pop\",\"K pop\",\"K pop\",\"K pop\",\"K pop\",\"K pop\",\"K pop\",\"K pop\",\"K pop\",\"K pop\",\"K pop\",\"K pop\",\"K pop\",\"K pop\",\"K pop\",\"K pop\",\"K pop\",\"K pop\",\"K pop\",\"K pop\",\"K pop\",\"K pop\",\"K pop\",\"K pop\",\"K pop\",\"K pop\",\"Latin\",\"Latin\",\"Latin\",\"Latin\",\"Latin\",\"Latin\",\"Latin\",\"Latin\",\"Latin\",\"Latin\",\"Latin\",\"Latin\",\"Latin\",\"Latin\",\"Latin\",\"Latin\",\"Latin\",\"Latin\",\"Latin\",\"Latin\",\"Latin\",\"Latin\",\"Latin\",\"Latin\",\"Latin\",\"Latin\",\"Latin\",\"Latin\",\"Latin\",\"Latin\",\"Latin\",\"Latin\",\"Latin\",\"Latin\",\"Latin\",\"Latin\",\"Latin\",\"Latin\",\"Latin\",\"Latin\",\"Latin\",\"Latin\",\"Latin\",\"Latin\",\"Latin\",\"Latin\",\"Latin\",\"Latin\",\"Latin\",\"Latin\",\"Latin\",\"Latin\",\"Latin\",\"Latin\",\"Latin\",\"Latin\",\"Latin\",\"Latin\",\"Latin\",\"Latin\",\"Latin\",\"Latin\",\"Latin\",\"Latin\",\"Latin\",\"Latin\",\"Latin\",\"Latin\",\"Latin\",\"Latin\",\"Latin\",\"Latin\",\"Latin\",\"Latin\",\"Latin\",\"Latin\",\"Latin\",\"Latin\",\"Latin\",\"Latin\",\"Latin\",\"Latin\",\"Latin\",\"Latin\",\"Latin\",\"Latin\",\"Latin\",\"Latin\",\"Latin\",\"Latin\",\"Latin\",\"Latin\",\"Latin\",\"Latin\",\"Latin\",\"Latin\",\"Latin\",\"Latin\",\"Latin\",\"Latin\",\"Latin\",\"Latin\",\"Latin\",\"Latin\",\"Latin\",\"Latin\",\"Latin\",\"Latin\",\"Latin\",\"Latin\",\"Latin\",\"Latin\",\"Latin\",\"Latin\",\"Latin\",\"Latin\",\"Latin\",\"Latin\",\"Latin\",\"Latin\",\"Latin\",\"Latin\",\"Latin\",\"Latin\",\"Latin\",\"Latin\",\"Latin\",\"Latin\",\"Latin\",\"Latin\",\"Latin\",\"Latin\",\"Latin\",\"Latin\",\"Latin\",\"Latin\",\"Latin\",\"Latin\",\"Latin\",\"Latin\",\"Latin\",\"Latin\",\"Latin\",\"Latin\",\"Latin\",\"Latin\",\"Latin\",\"Latin\",\"Latin\",\"Latin\",\"Latin\",\"Latin\",\"Latin\",\"Latin\",\"Latin\",\"Latin\",\"Latin\",\"Latin\",\"Latin\",\"Latin\",\"Latin\",\"Latin\",\"Latin\",\"Latin\",\"Latin\",\"Latin\",\"Latin\",\"Latin\",\"Latin\",\"Latin\",\"Latin\",\"Latin\",\"Lofi\",\"Lofi\",\"Lofi\",\"Lofi\",\"Lofi\",\"Lofi\",\"Lofi\",\"Lofi\",\"Lofi\",\"Lofi\",\"Lofi\",\"Lofi\",\"Lofi\",\"Lofi\",\"Lofi\",\"Lofi\",\"Lofi\",\"Lofi\",\"Lofi\",\"Lofi\",\"Lofi\",\"Lofi\",\"Lofi\",\"Lofi\",\"Lofi\",\"Lofi\",\"Lofi\",\"Lofi\",\"Lofi\",\"Lofi\",\"Lofi\",\"Lofi\",\"Lofi\",\"Lofi\",\"Lofi\",\"Lofi\",\"Lofi\",\"Lofi\",\"Lofi\",\"Lofi\",\"Lofi\",\"Lofi\",\"Lofi\",\"Lofi\",\"Lofi\",\"Lofi\",\"Lofi\",\"Lofi\",\"Lofi\",\"Lofi\",\"Lofi\",\"Lofi\",\"Lofi\",\"Lofi\",\"Lofi\",\"Lofi\",\"Lofi\",\"Lofi\",\"Lofi\",\"Lofi\",\"Lofi\",\"Lofi\",\"Lofi\",\"Lofi\",\"Lofi\",\"Lofi\",\"Lofi\",\"Lofi\",\"Lofi\",\"Lofi\",\"Lofi\",\"Lofi\",\"Lofi\",\"Lofi\",\"Lofi\",\"Lofi\",\"Lofi\",\"Lofi\",\"Lofi\",\"Lofi\",\"Lofi\",\"Lofi\",\"Lofi\",\"Lofi\",\"Lofi\",\"Lofi\",\"Lofi\",\"Lofi\",\"Lofi\",\"Lofi\",\"Lofi\",\"Lofi\",\"Lofi\",\"Lofi\",\"Lofi\",\"Lofi\",\"Lofi\",\"Lofi\",\"Lofi\",\"Lofi\",\"Lofi\",\"Lofi\",\"Lofi\",\"Lofi\",\"Lofi\",\"Lofi\",\"Lofi\",\"Lofi\",\"Lofi\",\"Lofi\",\"Lofi\",\"Lofi\",\"Lofi\",\"Lofi\",\"Lofi\",\"Lofi\",\"Lofi\",\"Lofi\",\"Lofi\",\"Lofi\",\"Lofi\",\"Lofi\",\"Lofi\",\"Lofi\",\"Lofi\",\"Lofi\",\"Lofi\",\"Lofi\",\"Lofi\",\"Lofi\",\"Lofi\",\"Lofi\",\"Lofi\",\"Lofi\",\"Lofi\",\"Lofi\",\"Lofi\",\"Lofi\",\"Lofi\",\"Lofi\",\"Lofi\",\"Lofi\",\"Lofi\",\"Lofi\",\"Lofi\",\"Lofi\",\"Lofi\",\"Lofi\",\"Lofi\",\"Lofi\",\"Lofi\",\"Lofi\",\"Lofi\",\"Lofi\",\"Lofi\",\"Lofi\",\"Lofi\",\"Lofi\",\"Lofi\",\"Lofi\",\"Lofi\",\"Lofi\",\"Lofi\",\"Lofi\",\"Lofi\",\"Lofi\",\"Lofi\",\"Lofi\",\"Lofi\",\"Lofi\",\"Lofi\",\"Lofi\",\"Lofi\",\"Lofi\",\"Lofi\",\"Lofi\",\"Lofi\",\"Lofi\",\"Lofi\",\"Lofi\",\"Lofi\",\"Lofi\",\"Lofi\",\"Lofi\",\"Lofi\",\"Lofi\",\"Lofi\",\"Lofi\",\"Lofi\",\"Lofi\",\"Lofi\",\"Lofi\",\"Lofi\",\"Lofi\",\"Lofi\",\"Lofi\",\"Lofi\",\"Lofi\",\"Lofi\",\"Lofi\",\"Lofi\",\"Lofi\",\"Lofi\",\"Lofi\",\"Lofi\",\"Lofi\",\"Lofi\",\"Lofi\",\"Lofi\",\"Lofi\",\"Lofi\",\"Metal\",\"Metal\",\"Metal\",\"Metal\",\"Metal\",\"Metal\",\"Metal\",\"Metal\",\"Metal\",\"Metal\",\"Metal\",\"Metal\",\"Metal\",\"Metal\",\"Metal\",\"Metal\",\"Metal\",\"Metal\",\"Metal\",\"Metal\",\"Metal\",\"Metal\",\"Metal\",\"Metal\",\"Metal\",\"Metal\",\"Metal\",\"Metal\",\"Metal\",\"Metal\",\"Metal\",\"Metal\",\"Metal\",\"Metal\",\"Metal\",\"Metal\",\"Metal\",\"Metal\",\"Metal\",\"Metal\",\"Metal\",\"Metal\",\"Metal\",\"Metal\",\"Metal\",\"Metal\",\"Metal\",\"Metal\",\"Metal\",\"Metal\",\"Metal\",\"Metal\",\"Metal\",\"Metal\",\"Metal\",\"Metal\",\"Metal\",\"Metal\",\"Metal\",\"Metal\",\"Metal\",\"Metal\",\"Metal\",\"Metal\",\"Metal\",\"Metal\",\"Metal\",\"Metal\",\"Metal\",\"Metal\",\"Metal\",\"Metal\",\"Metal\",\"Metal\",\"Metal\",\"Metal\",\"Metal\",\"Metal\",\"Metal\",\"Metal\",\"Metal\",\"Metal\",\"Metal\",\"Metal\",\"Metal\",\"Metal\",\"Metal\",\"Metal\",\"Metal\",\"Metal\",\"Metal\",\"Metal\",\"Metal\",\"Metal\",\"Metal\",\"Metal\",\"Metal\",\"Metal\",\"Metal\",\"Metal\",\"Metal\",\"Metal\",\"Metal\",\"Metal\",\"Metal\",\"Metal\",\"Metal\",\"Metal\",\"Metal\",\"Metal\",\"Metal\",\"Metal\",\"Metal\",\"Metal\",\"Metal\",\"Metal\",\"Metal\",\"Metal\",\"Metal\",\"Metal\",\"Metal\",\"Metal\",\"Metal\",\"Metal\",\"Metal\",\"Metal\",\"Metal\",\"Metal\",\"Metal\",\"Metal\",\"Metal\",\"Metal\",\"Metal\",\"Metal\",\"Metal\",\"Metal\",\"Metal\",\"Metal\",\"Metal\",\"Metal\",\"Metal\",\"Metal\",\"Metal\",\"Metal\",\"Metal\",\"Metal\",\"Metal\",\"Metal\",\"Metal\",\"Metal\",\"Metal\",\"Metal\",\"Metal\",\"Metal\",\"Metal\",\"Metal\",\"Metal\",\"Metal\",\"Metal\",\"Metal\",\"Metal\",\"Metal\",\"Metal\",\"Metal\",\"Metal\",\"Metal\",\"Metal\",\"Metal\",\"Metal\",\"Metal\",\"Metal\",\"Metal\",\"Metal\",\"Metal\",\"Metal\",\"Metal\",\"Metal\",\"Metal\",\"Metal\",\"Metal\",\"Metal\",\"Metal\",\"Metal\",\"Metal\",\"Metal\",\"Metal\",\"Metal\",\"Metal\",\"Metal\",\"Metal\",\"Metal\",\"Metal\",\"Pop\",\"Pop\",\"Pop\",\"Pop\",\"Pop\",\"Pop\",\"Pop\",\"Pop\",\"Pop\",\"Pop\",\"Pop\",\"Pop\",\"Pop\",\"Pop\",\"Pop\",\"Pop\",\"Pop\",\"Pop\",\"Pop\",\"Pop\",\"Pop\",\"Pop\",\"Pop\",\"Pop\",\"Pop\",\"Pop\",\"Pop\",\"Pop\",\"Pop\",\"Pop\",\"Pop\",\"Pop\",\"Pop\",\"Pop\",\"Pop\",\"Pop\",\"Pop\",\"Pop\",\"Pop\",\"Pop\",\"Pop\",\"Pop\",\"Pop\",\"Pop\",\"Pop\",\"Pop\",\"Pop\",\"Pop\",\"Pop\",\"Pop\",\"Pop\",\"Pop\",\"Pop\",\"Pop\",\"Pop\",\"Pop\",\"Pop\",\"Pop\",\"Pop\",\"Pop\",\"Pop\",\"Pop\",\"Pop\",\"Pop\",\"Pop\",\"Pop\",\"Pop\",\"Pop\",\"Pop\",\"Pop\",\"Pop\",\"Pop\",\"Pop\",\"Pop\",\"Pop\",\"Pop\",\"Pop\",\"Pop\",\"Pop\",\"Pop\",\"Pop\",\"Pop\",\"Pop\",\"Pop\",\"Pop\",\"Pop\",\"Pop\",\"Pop\",\"Pop\",\"Pop\",\"Pop\",\"Pop\",\"Pop\",\"Pop\",\"Pop\",\"Pop\",\"Pop\",\"Pop\",\"Pop\",\"Pop\",\"Pop\",\"Pop\",\"Pop\",\"Pop\",\"Pop\",\"Pop\",\"Pop\",\"Pop\",\"Pop\",\"Pop\",\"Pop\",\"Pop\",\"Pop\",\"Pop\",\"Pop\",\"Pop\",\"Pop\",\"Pop\",\"Pop\",\"Pop\",\"Pop\",\"Pop\",\"Pop\",\"Pop\",\"Pop\",\"Pop\",\"Pop\",\"Pop\",\"Pop\",\"Pop\",\"Pop\",\"Pop\",\"Pop\",\"Pop\",\"Pop\",\"Pop\",\"Pop\",\"Pop\",\"Pop\",\"Pop\",\"Pop\",\"Pop\",\"R&B\",\"R&B\",\"R&B\",\"R&B\",\"R&B\",\"R&B\",\"R&B\",\"R&B\",\"R&B\",\"R&B\",\"R&B\",\"R&B\",\"R&B\",\"R&B\",\"R&B\",\"R&B\",\"R&B\",\"R&B\",\"R&B\",\"R&B\",\"R&B\",\"R&B\",\"R&B\",\"R&B\",\"R&B\",\"R&B\",\"R&B\",\"R&B\",\"R&B\",\"R&B\",\"R&B\",\"R&B\",\"R&B\",\"R&B\",\"R&B\",\"R&B\",\"R&B\",\"R&B\",\"R&B\",\"R&B\",\"R&B\",\"R&B\",\"R&B\",\"R&B\",\"R&B\",\"R&B\",\"R&B\",\"R&B\",\"R&B\",\"R&B\",\"R&B\",\"R&B\",\"R&B\",\"R&B\",\"R&B\",\"R&B\",\"R&B\",\"R&B\",\"R&B\",\"R&B\",\"R&B\",\"R&B\",\"R&B\",\"R&B\",\"R&B\",\"R&B\",\"R&B\",\"R&B\",\"R&B\",\"R&B\",\"R&B\",\"R&B\",\"R&B\",\"R&B\",\"R&B\",\"R&B\",\"R&B\",\"R&B\",\"R&B\",\"R&B\",\"R&B\",\"R&B\",\"R&B\",\"R&B\",\"R&B\",\"R&B\",\"R&B\",\"R&B\",\"R&B\",\"R&B\",\"R&B\",\"R&B\",\"R&B\",\"R&B\",\"R&B\",\"R&B\",\"R&B\",\"R&B\",\"R&B\",\"R&B\",\"R&B\",\"R&B\",\"R&B\",\"R&B\",\"R&B\",\"R&B\",\"R&B\",\"R&B\",\"R&B\",\"R&B\",\"R&B\",\"R&B\",\"R&B\",\"R&B\",\"R&B\",\"R&B\",\"R&B\",\"R&B\",\"R&B\",\"R&B\",\"R&B\",\"R&B\",\"R&B\",\"R&B\",\"R&B\",\"R&B\",\"R&B\",\"R&B\",\"R&B\",\"R&B\",\"R&B\",\"R&B\",\"R&B\",\"R&B\",\"R&B\",\"R&B\",\"R&B\",\"R&B\",\"R&B\",\"R&B\",\"R&B\",\"R&B\",\"R&B\",\"R&B\",\"R&B\",\"R&B\",\"R&B\",\"R&B\",\"R&B\",\"R&B\",\"R&B\",\"R&B\",\"R&B\",\"R&B\",\"R&B\",\"R&B\",\"R&B\",\"R&B\",\"R&B\",\"R&B\",\"R&B\",\"R&B\",\"R&B\",\"R&B\",\"R&B\",\"R&B\",\"R&B\",\"R&B\",\"R&B\",\"R&B\",\"R&B\",\"R&B\",\"R&B\",\"R&B\",\"R&B\",\"R&B\",\"R&B\",\"R&B\",\"R&B\",\"R&B\",\"R&B\",\"R&B\",\"R&B\",\"R&B\",\"R&B\",\"R&B\",\"R&B\",\"R&B\",\"R&B\",\"R&B\",\"R&B\",\"R&B\",\"R&B\",\"R&B\",\"R&B\",\"R&B\",\"R&B\",\"R&B\",\"R&B\",\"R&B\",\"R&B\",\"R&B\",\"R&B\",\"R&B\",\"R&B\",\"R&B\",\"R&B\",\"R&B\",\"R&B\",\"R&B\",\"R&B\",\"Rap\",\"Rap\",\"Rap\",\"Rap\",\"Rap\",\"Rap\",\"Rap\",\"Rap\",\"Rap\",\"Rap\",\"Rap\",\"Rap\",\"Rap\",\"Rap\",\"Rap\",\"Rap\",\"Rap\",\"Rap\",\"Rap\",\"Rap\",\"Rap\",\"Rap\",\"Rap\",\"Rap\",\"Rap\",\"Rap\",\"Rap\",\"Rap\",\"Rap\",\"Rap\",\"Rap\",\"Rap\",\"Rap\",\"Rap\",\"Rap\",\"Rap\",\"Rap\",\"Rap\",\"Rap\",\"Rap\",\"Rap\",\"Rap\",\"Rap\",\"Rap\",\"Rap\",\"Rap\",\"Rap\",\"Rap\",\"Rap\",\"Rap\",\"Rap\",\"Rap\",\"Rap\",\"Rap\",\"Rap\",\"Rap\",\"Rap\",\"Rap\",\"Rap\",\"Rap\",\"Rap\",\"Rap\",\"Rap\",\"Rap\",\"Rap\",\"Rap\",\"Rap\",\"Rap\",\"Rap\",\"Rap\",\"Rap\",\"Rap\",\"Rap\",\"Rap\",\"Rap\",\"Rap\",\"Rap\",\"Rap\",\"Rap\",\"Rap\",\"Rap\",\"Rap\",\"Rap\",\"Rap\",\"Rap\",\"Rap\",\"Rap\",\"Rap\",\"Rap\",\"Rap\",\"Rap\",\"Rap\",\"Rap\",\"Rap\",\"Rap\",\"Rap\",\"Rap\",\"Rap\",\"Rap\",\"Rap\",\"Rap\",\"Rap\",\"Rap\",\"Rap\",\"Rap\",\"Rap\",\"Rap\",\"Rap\",\"Rap\",\"Rap\",\"Rap\",\"Rap\",\"Rap\",\"Rap\",\"Rap\",\"Rap\",\"Rap\",\"Rap\",\"Rap\",\"Rap\",\"Rap\",\"Rap\",\"Rap\",\"Rap\",\"Rap\",\"Rap\",\"Rap\",\"Rap\",\"Rap\",\"Rap\",\"Rap\",\"Rap\",\"Rap\",\"Rap\",\"Rap\",\"Rap\",\"Rap\",\"Rap\",\"Rap\",\"Rap\",\"Rap\",\"Rap\",\"Rap\",\"Rap\",\"Rap\",\"Rap\",\"Rap\",\"Rap\",\"Rap\",\"Rap\",\"Rap\",\"Rap\",\"Rap\",\"Rap\",\"Rap\",\"Rap\",\"Rap\",\"Rap\",\"Rap\",\"Rap\",\"Rap\",\"Rap\",\"Rap\",\"Rap\",\"Rap\",\"Rap\",\"Rap\",\"Rap\",\"Rap\",\"Rap\",\"Rap\",\"Rap\",\"Rap\",\"Rap\",\"Rap\",\"Rap\",\"Rap\",\"Rap\",\"Rap\",\"Rap\",\"Rap\",\"Rap\",\"Rap\",\"Rap\",\"Rap\",\"Rap\",\"Rap\",\"Rap\",\"Rap\",\"Rap\",\"Rap\",\"Rap\",\"Rap\",\"Rap\",\"Rap\",\"Rap\",\"Rap\",\"Rap\",\"Rap\",\"Rap\",\"Rap\",\"Rap\",\"Rap\",\"Rap\",\"Rap\",\"Rap\",\"Rap\",\"Rap\",\"Rap\",\"Rap\",\"Rap\",\"Rap\",\"Rap\",\"Rap\",\"Rock\",\"Rock\",\"Rock\",\"Rock\",\"Rock\",\"Rock\",\"Rock\",\"Rock\",\"Rock\",\"Rock\",\"Rock\",\"Rock\",\"Rock\",\"Rock\",\"Rock\",\"Rock\",\"Rock\",\"Rock\",\"Rock\",\"Rock\",\"Rock\",\"Rock\",\"Rock\",\"Rock\",\"Rock\",\"Rock\",\"Rock\",\"Rock\",\"Rock\",\"Rock\",\"Rock\",\"Rock\",\"Rock\",\"Rock\",\"Rock\",\"Rock\",\"Rock\",\"Rock\",\"Rock\",\"Rock\",\"Rock\",\"Rock\",\"Rock\",\"Rock\",\"Rock\",\"Rock\",\"Rock\",\"Rock\",\"Rock\",\"Rock\",\"Rock\",\"Rock\",\"Rock\",\"Rock\",\"Rock\",\"Rock\",\"Rock\",\"Rock\",\"Rock\",\"Rock\",\"Rock\",\"Rock\",\"Rock\",\"Rock\",\"Rock\",\"Rock\",\"Rock\",\"Rock\",\"Rock\",\"Rock\",\"Rock\",\"Rock\",\"Rock\",\"Rock\",\"Rock\",\"Rock\",\"Rock\",\"Rock\",\"Rock\",\"Rock\",\"Rock\",\"Rock\",\"Rock\",\"Rock\",\"Rock\",\"Rock\",\"Rock\",\"Rock\",\"Rock\",\"Rock\",\"Rock\",\"Rock\",\"Rock\",\"Rock\",\"Rock\",\"Video game music\",\"Video game music\",\"Video game music\",\"Video game music\",\"Video game music\",\"Video game music\",\"Video game music\",\"Video game music\",\"Video game music\",\"Video game music\",\"Video game music\",\"Video game music\",\"Video game music\",\"Video game music\",\"Video game music\",\"Video game music\",\"Video game music\",\"Video game music\",\"Video game music\",\"Video game music\",\"Video game music\",\"Video game music\",\"Video game music\",\"Video game music\",\"Video game music\",\"Video game music\",\"Video game music\",\"Video game music\",\"Video game music\",\"Video game music\",\"Video game music\",\"Video game music\",\"Video game music\",\"Video game music\",\"Video game music\",\"Video game music\",\"Video game music\",\"Video game music\",\"Video game music\",\"Video game music\",\"Video game music\",\"Video game music\",\"Video game music\",\"Video game music\",\"Video game music\",\"Video game music\",\"Video game music\",\"Video game music\",\"Video game music\",\"Video game music\",\"Video game music\",\"Video game music\",\"Video game music\",\"Video game music\",\"Video game music\",\"Video game music\",\"Video game music\",\"Video game music\",\"Video game music\",\"Video game music\",\"Video game music\",\"Video game music\",\"Video game music\",\"Video game music\",\"Video game music\",\"Video game music\",\"Video game music\",\"Video game music\",\"Video game music\",\"Video game music\",\"Video game music\",\"Video game music\",\"Video game music\",\"Video game music\",\"Video game music\",\"Video game music\",\"Video game music\",\"Video game music\",\"Video game music\",\"Video game music\",\"Video game music\",\"Video game music\",\"Video game music\",\"Video game music\",\"Video game music\",\"Video game music\",\"Video game music\",\"Video game music\",\"Video game music\",\"Video game music\",\"Video game music\",\"Video game music\",\"Video game music\",\"Video game music\",\"Video game music\",\"Video game music\",\"Video game music\",\"Video game music\",\"Video game music\",\"Video game music\",\"Video game music\",\"Video game music\",\"Video game music\",\"Video game music\",\"Video game music\",\"Video game music\",\"Video game music\",\"Video game music\",\"Video game music\",\"Video game music\",\"Video game music\",\"Video game music\",\"Video game music\",\"Video game music\",\"Video game music\",\"Video game music\",\"Video game music\",\"Video game music\",\"Video game music\",\"Video game music\",\"Video game music\",\"Video game music\",\"Video game music\",\"Video game music\",\"Video game music\",\"Video game music\",\"Video game music\",\"Video game music\",\"Video game music\",\"Video game music\",\"Video game music\",\"Video game music\",\"Video game music\",\"Video game music\",\"Video game music\",\"Video game music\",\"Video game music\",\"Video game music\",\"Video game music\",\"Video game music\",\"Video game music\",\"Video game music\",\"Video game music\",\"Video game music\",\"Video game music\",\"Video game music\",\"Video game music\",\"Video game music\",\"Video game music\",\"Video game music\",\"Video game music\",\"Video game music\",\"Video game music\",\"Video game music\",\"Video game music\",\"Video game music\",\"Video game music\",\"Video game music\",\"Video game music\",\"Video game music\",\"Video game music\",\"Video game music\",\"Video game music\",\"Video game music\",\"Video game music\",\"Video game music\",\"Video game music\",\"Video game music\",\"Video game music\",\"Video game music\",\"Video game music\",\"Video game music\",\"Video game music\",\"Video game music\",\"Video game music\",\"Video game music\",\"Video game music\",\"Video game music\",\"Video game music\",\"Video game music\",\"Video game music\",\"Video game music\",\"Video game music\",\"Video game music\",\"Video game music\",\"Video game music\",\"Video game music\",\"Video game music\",\"Video game music\",\"Video game music\",\"Video game music\",\"Video game music\",\"Video game music\",\"Video game music\",\"Video game music\",\"Video game music\",\"Video game music\"],\"xaxis\":\"x\",\"yaxis\":\"y\",\"type\":\"histogram\"},{\"alignmentgroup\":\"True\",\"bingroup\":\"x\",\"hovertemplate\":\"frequency=Sometimes\\u003cbr\\u003egenre=%{x}\\u003cbr\\u003ecount=%{y}\\u003cextra\\u003e\\u003c\\u002fextra\\u003e\",\"legendgroup\":\"Sometimes\",\"marker\":{\"color\":\"#EF553B\",\"pattern\":{\"shape\":\"\"}},\"name\":\"Sometimes\",\"offsetgroup\":\"Sometimes\",\"orientation\":\"v\",\"showlegend\":true,\"x\":[\"Classical\",\"Classical\",\"Classical\",\"Classical\",\"Classical\",\"Classical\",\"Classical\",\"Classical\",\"Classical\",\"Classical\",\"Classical\",\"Classical\",\"Classical\",\"Classical\",\"Classical\",\"Classical\",\"Classical\",\"Classical\",\"Classical\",\"Classical\",\"Classical\",\"Classical\",\"Classical\",\"Classical\",\"Classical\",\"Classical\",\"Classical\",\"Classical\",\"Classical\",\"Classical\",\"Classical\",\"Classical\",\"Classical\",\"Classical\",\"Classical\",\"Classical\",\"Classical\",\"Classical\",\"Classical\",\"Classical\",\"Classical\",\"Classical\",\"Classical\",\"Classical\",\"Classical\",\"Classical\",\"Classical\",\"Classical\",\"Classical\",\"Classical\",\"Classical\",\"Classical\",\"Classical\",\"Classical\",\"Classical\",\"Classical\",\"Classical\",\"Classical\",\"Classical\",\"Classical\",\"Classical\",\"Classical\",\"Classical\",\"Classical\",\"Classical\",\"Classical\",\"Classical\",\"Classical\",\"Classical\",\"Classical\",\"Classical\",\"Classical\",\"Classical\",\"Classical\",\"Classical\",\"Classical\",\"Classical\",\"Classical\",\"Classical\",\"Classical\",\"Classical\",\"Classical\",\"Classical\",\"Classical\",\"Classical\",\"Classical\",\"Classical\",\"Classical\",\"Classical\",\"Classical\",\"Classical\",\"Classical\",\"Classical\",\"Classical\",\"Classical\",\"Classical\",\"Classical\",\"Classical\",\"Classical\",\"Classical\",\"Classical\",\"Classical\",\"Classical\",\"Classical\",\"Classical\",\"Classical\",\"Classical\",\"Classical\",\"Classical\",\"Classical\",\"Classical\",\"Classical\",\"Classical\",\"Classical\",\"Classical\",\"Classical\",\"Classical\",\"Classical\",\"Classical\",\"Classical\",\"Classical\",\"Classical\",\"Classical\",\"Classical\",\"Classical\",\"Classical\",\"Classical\",\"Classical\",\"Classical\",\"Classical\",\"Classical\",\"Classical\",\"Classical\",\"Classical\",\"Classical\",\"Classical\",\"Classical\",\"Classical\",\"Classical\",\"Classical\",\"Classical\",\"Classical\",\"Classical\",\"Classical\",\"Classical\",\"Classical\",\"Classical\",\"Classical\",\"Classical\",\"Classical\",\"Classical\",\"Classical\",\"Classical\",\"Classical\",\"Classical\",\"Classical\",\"Classical\",\"Classical\",\"Classical\",\"Classical\",\"Classical\",\"Classical\",\"Classical\",\"Classical\",\"Classical\",\"Classical\",\"Classical\",\"Classical\",\"Classical\",\"Classical\",\"Classical\",\"Classical\",\"Classical\",\"Classical\",\"Classical\",\"Classical\",\"Classical\",\"Classical\",\"Classical\",\"Classical\",\"Classical\",\"Classical\",\"Classical\",\"Classical\",\"Classical\",\"Classical\",\"Classical\",\"Classical\",\"Classical\",\"Classical\",\"Classical\",\"Classical\",\"Classical\",\"Classical\",\"Classical\",\"Classical\",\"Classical\",\"Classical\",\"Classical\",\"Classical\",\"Country\",\"Country\",\"Country\",\"Country\",\"Country\",\"Country\",\"Country\",\"Country\",\"Country\",\"Country\",\"Country\",\"Country\",\"Country\",\"Country\",\"Country\",\"Country\",\"Country\",\"Country\",\"Country\",\"Country\",\"Country\",\"Country\",\"Country\",\"Country\",\"Country\",\"Country\",\"Country\",\"Country\",\"Country\",\"Country\",\"Country\",\"Country\",\"Country\",\"Country\",\"Country\",\"Country\",\"Country\",\"Country\",\"Country\",\"Country\",\"Country\",\"Country\",\"Country\",\"Country\",\"Country\",\"Country\",\"Country\",\"Country\",\"Country\",\"Country\",\"Country\",\"Country\",\"Country\",\"Country\",\"Country\",\"Country\",\"Country\",\"Country\",\"Country\",\"Country\",\"Country\",\"Country\",\"Country\",\"Country\",\"Country\",\"Country\",\"Country\",\"Country\",\"Country\",\"Country\",\"Country\",\"Country\",\"Country\",\"Country\",\"Country\",\"Country\",\"Country\",\"Country\",\"Country\",\"Country\",\"Country\",\"Country\",\"Country\",\"Country\",\"Country\",\"Country\",\"Country\",\"Country\",\"Country\",\"Country\",\"Country\",\"Country\",\"Country\",\"Country\",\"Country\",\"Country\",\"Country\",\"Country\",\"Country\",\"Country\",\"Country\",\"Country\",\"Country\",\"Country\",\"Country\",\"Country\",\"Country\",\"Country\",\"Country\",\"Country\",\"Country\",\"EDM\",\"EDM\",\"EDM\",\"EDM\",\"EDM\",\"EDM\",\"EDM\",\"EDM\",\"EDM\",\"EDM\",\"EDM\",\"EDM\",\"EDM\",\"EDM\",\"EDM\",\"EDM\",\"EDM\",\"EDM\",\"EDM\",\"EDM\",\"EDM\",\"EDM\",\"EDM\",\"EDM\",\"EDM\",\"EDM\",\"EDM\",\"EDM\",\"EDM\",\"EDM\",\"EDM\",\"EDM\",\"EDM\",\"EDM\",\"EDM\",\"EDM\",\"EDM\",\"EDM\",\"EDM\",\"EDM\",\"EDM\",\"EDM\",\"EDM\",\"EDM\",\"EDM\",\"EDM\",\"EDM\",\"EDM\",\"EDM\",\"EDM\",\"EDM\",\"EDM\",\"EDM\",\"EDM\",\"EDM\",\"EDM\",\"EDM\",\"EDM\",\"EDM\",\"EDM\",\"EDM\",\"EDM\",\"EDM\",\"EDM\",\"EDM\",\"EDM\",\"EDM\",\"EDM\",\"EDM\",\"EDM\",\"EDM\",\"EDM\",\"EDM\",\"EDM\",\"EDM\",\"EDM\",\"EDM\",\"EDM\",\"EDM\",\"EDM\",\"EDM\",\"EDM\",\"EDM\",\"EDM\",\"EDM\",\"EDM\",\"EDM\",\"EDM\",\"EDM\",\"EDM\",\"EDM\",\"EDM\",\"EDM\",\"EDM\",\"EDM\",\"EDM\",\"EDM\",\"EDM\",\"EDM\",\"EDM\",\"EDM\",\"EDM\",\"EDM\",\"EDM\",\"EDM\",\"EDM\",\"EDM\",\"EDM\",\"EDM\",\"EDM\",\"EDM\",\"EDM\",\"EDM\",\"EDM\",\"EDM\",\"EDM\",\"EDM\",\"EDM\",\"EDM\",\"EDM\",\"EDM\",\"EDM\",\"EDM\",\"EDM\",\"EDM\",\"EDM\",\"EDM\",\"EDM\",\"EDM\",\"EDM\",\"EDM\",\"EDM\",\"EDM\",\"EDM\",\"EDM\",\"EDM\",\"EDM\",\"EDM\",\"EDM\",\"EDM\",\"EDM\",\"EDM\",\"EDM\",\"EDM\",\"EDM\",\"EDM\",\"Folk\",\"Folk\",\"Folk\",\"Folk\",\"Folk\",\"Folk\",\"Folk\",\"Folk\",\"Folk\",\"Folk\",\"Folk\",\"Folk\",\"Folk\",\"Folk\",\"Folk\",\"Folk\",\"Folk\",\"Folk\",\"Folk\",\"Folk\",\"Folk\",\"Folk\",\"Folk\",\"Folk\",\"Folk\",\"Folk\",\"Folk\",\"Folk\",\"Folk\",\"Folk\",\"Folk\",\"Folk\",\"Folk\",\"Folk\",\"Folk\",\"Folk\",\"Folk\",\"Folk\",\"Folk\",\"Folk\",\"Folk\",\"Folk\",\"Folk\",\"Folk\",\"Folk\",\"Folk\",\"Folk\",\"Folk\",\"Folk\",\"Folk\",\"Folk\",\"Folk\",\"Folk\",\"Folk\",\"Folk\",\"Folk\",\"Folk\",\"Folk\",\"Folk\",\"Folk\",\"Folk\",\"Folk\",\"Folk\",\"Folk\",\"Folk\",\"Folk\",\"Folk\",\"Folk\",\"Folk\",\"Folk\",\"Folk\",\"Folk\",\"Folk\",\"Folk\",\"Folk\",\"Folk\",\"Folk\",\"Folk\",\"Folk\",\"Folk\",\"Folk\",\"Folk\",\"Folk\",\"Folk\",\"Folk\",\"Folk\",\"Folk\",\"Folk\",\"Folk\",\"Folk\",\"Folk\",\"Folk\",\"Folk\",\"Folk\",\"Folk\",\"Folk\",\"Folk\",\"Folk\",\"Folk\",\"Folk\",\"Folk\",\"Folk\",\"Folk\",\"Folk\",\"Folk\",\"Folk\",\"Folk\",\"Folk\",\"Folk\",\"Folk\",\"Folk\",\"Folk\",\"Folk\",\"Folk\",\"Folk\",\"Folk\",\"Folk\",\"Folk\",\"Folk\",\"Folk\",\"Folk\",\"Folk\",\"Folk\",\"Folk\",\"Folk\",\"Folk\",\"Folk\",\"Folk\",\"Folk\",\"Folk\",\"Folk\",\"Folk\",\"Folk\",\"Folk\",\"Folk\",\"Folk\",\"Folk\",\"Folk\",\"Folk\",\"Folk\",\"Folk\",\"Folk\",\"Folk\",\"Folk\",\"Folk\",\"Gospel\",\"Gospel\",\"Gospel\",\"Gospel\",\"Gospel\",\"Gospel\",\"Gospel\",\"Gospel\",\"Gospel\",\"Gospel\",\"Gospel\",\"Gospel\",\"Gospel\",\"Gospel\",\"Gospel\",\"Gospel\",\"Gospel\",\"Gospel\",\"Gospel\",\"Gospel\",\"Gospel\",\"Gospel\",\"Gospel\",\"Gospel\",\"Gospel\",\"Gospel\",\"Gospel\",\"Gospel\",\"Gospel\",\"Gospel\",\"Gospel\",\"Gospel\",\"Gospel\",\"Gospel\",\"Gospel\",\"Gospel\",\"Gospel\",\"Gospel\",\"Gospel\",\"Gospel\",\"Gospel\",\"Gospel\",\"Gospel\",\"Gospel\",\"Gospel\",\"Gospel\",\"Gospel\",\"Gospel\",\"Gospel\",\"Gospel\",\"Gospel\",\"Gospel\",\"Hip hop\",\"Hip hop\",\"Hip hop\",\"Hip hop\",\"Hip hop\",\"Hip hop\",\"Hip hop\",\"Hip hop\",\"Hip hop\",\"Hip hop\",\"Hip hop\",\"Hip hop\",\"Hip hop\",\"Hip hop\",\"Hip hop\",\"Hip hop\",\"Hip hop\",\"Hip hop\",\"Hip hop\",\"Hip hop\",\"Hip hop\",\"Hip hop\",\"Hip hop\",\"Hip hop\",\"Hip hop\",\"Hip hop\",\"Hip hop\",\"Hip hop\",\"Hip hop\",\"Hip hop\",\"Hip hop\",\"Hip hop\",\"Hip hop\",\"Hip hop\",\"Hip hop\",\"Hip hop\",\"Hip hop\",\"Hip hop\",\"Hip hop\",\"Hip hop\",\"Hip hop\",\"Hip hop\",\"Hip hop\",\"Hip hop\",\"Hip hop\",\"Hip hop\",\"Hip hop\",\"Hip hop\",\"Hip hop\",\"Hip hop\",\"Hip hop\",\"Hip hop\",\"Hip hop\",\"Hip hop\",\"Hip hop\",\"Hip hop\",\"Hip hop\",\"Hip hop\",\"Hip hop\",\"Hip hop\",\"Hip hop\",\"Hip hop\",\"Hip hop\",\"Hip hop\",\"Hip hop\",\"Hip hop\",\"Hip hop\",\"Hip hop\",\"Hip hop\",\"Hip hop\",\"Hip hop\",\"Hip hop\",\"Hip hop\",\"Hip hop\",\"Hip hop\",\"Hip hop\",\"Hip hop\",\"Hip hop\",\"Hip hop\",\"Hip hop\",\"Hip hop\",\"Hip hop\",\"Hip hop\",\"Hip hop\",\"Hip hop\",\"Hip hop\",\"Hip hop\",\"Hip hop\",\"Hip hop\",\"Hip hop\",\"Hip hop\",\"Hip hop\",\"Hip hop\",\"Hip hop\",\"Hip hop\",\"Hip hop\",\"Hip hop\",\"Hip hop\",\"Hip hop\",\"Hip hop\",\"Hip hop\",\"Hip hop\",\"Hip hop\",\"Hip hop\",\"Hip hop\",\"Hip hop\",\"Hip hop\",\"Hip hop\",\"Hip hop\",\"Hip hop\",\"Hip hop\",\"Hip hop\",\"Hip hop\",\"Hip hop\",\"Hip hop\",\"Hip hop\",\"Hip hop\",\"Hip hop\",\"Hip hop\",\"Hip hop\",\"Hip hop\",\"Hip hop\",\"Hip hop\",\"Hip hop\",\"Hip hop\",\"Hip hop\",\"Hip hop\",\"Hip hop\",\"Hip hop\",\"Hip hop\",\"Hip hop\",\"Hip hop\",\"Hip hop\",\"Hip hop\",\"Hip hop\",\"Hip hop\",\"Hip hop\",\"Hip hop\",\"Hip hop\",\"Hip hop\",\"Hip hop\",\"Hip hop\",\"Hip hop\",\"Hip hop\",\"Hip hop\",\"Hip hop\",\"Hip hop\",\"Hip hop\",\"Hip hop\",\"Hip hop\",\"Hip hop\",\"Hip hop\",\"Hip hop\",\"Hip hop\",\"Hip hop\",\"Hip hop\",\"Hip hop\",\"Hip hop\",\"Hip hop\",\"Hip hop\",\"Hip hop\",\"Hip hop\",\"Hip hop\",\"Hip hop\",\"Hip hop\",\"Hip hop\",\"Hip hop\",\"Hip hop\",\"Hip hop\",\"Hip hop\",\"Hip hop\",\"Hip hop\",\"Hip hop\",\"Hip hop\",\"Hip hop\",\"Hip hop\",\"Hip hop\",\"Hip hop\",\"Hip hop\",\"Hip hop\",\"Hip hop\",\"Hip hop\",\"Hip hop\",\"Hip hop\",\"Hip hop\",\"Hip hop\",\"Hip hop\",\"Hip hop\",\"Hip hop\",\"Hip hop\",\"Hip hop\",\"Hip hop\",\"Hip hop\",\"Hip hop\",\"Hip hop\",\"Hip hop\",\"Hip hop\",\"Hip hop\",\"Hip hop\",\"Hip hop\",\"Hip hop\",\"Hip hop\",\"Hip hop\",\"Hip hop\",\"Hip hop\",\"Hip hop\",\"Hip hop\",\"Hip hop\",\"Hip hop\",\"Hip hop\",\"Hip hop\",\"Hip hop\",\"Hip hop\",\"Hip hop\",\"Hip hop\",\"Hip hop\",\"Hip hop\",\"Hip hop\",\"Jazz\",\"Jazz\",\"Jazz\",\"Jazz\",\"Jazz\",\"Jazz\",\"Jazz\",\"Jazz\",\"Jazz\",\"Jazz\",\"Jazz\",\"Jazz\",\"Jazz\",\"Jazz\",\"Jazz\",\"Jazz\",\"Jazz\",\"Jazz\",\"Jazz\",\"Jazz\",\"Jazz\",\"Jazz\",\"Jazz\",\"Jazz\",\"Jazz\",\"Jazz\",\"Jazz\",\"Jazz\",\"Jazz\",\"Jazz\",\"Jazz\",\"Jazz\",\"Jazz\",\"Jazz\",\"Jazz\",\"Jazz\",\"Jazz\",\"Jazz\",\"Jazz\",\"Jazz\",\"Jazz\",\"Jazz\",\"Jazz\",\"Jazz\",\"Jazz\",\"Jazz\",\"Jazz\",\"Jazz\",\"Jazz\",\"Jazz\",\"Jazz\",\"Jazz\",\"Jazz\",\"Jazz\",\"Jazz\",\"Jazz\",\"Jazz\",\"Jazz\",\"Jazz\",\"Jazz\",\"Jazz\",\"Jazz\",\"Jazz\",\"Jazz\",\"Jazz\",\"Jazz\",\"Jazz\",\"Jazz\",\"Jazz\",\"Jazz\",\"Jazz\",\"Jazz\",\"Jazz\",\"Jazz\",\"Jazz\",\"Jazz\",\"Jazz\",\"Jazz\",\"Jazz\",\"Jazz\",\"Jazz\",\"Jazz\",\"Jazz\",\"Jazz\",\"Jazz\",\"Jazz\",\"Jazz\",\"Jazz\",\"Jazz\",\"Jazz\",\"Jazz\",\"Jazz\",\"Jazz\",\"Jazz\",\"Jazz\",\"Jazz\",\"Jazz\",\"Jazz\",\"Jazz\",\"Jazz\",\"Jazz\",\"Jazz\",\"Jazz\",\"Jazz\",\"Jazz\",\"Jazz\",\"Jazz\",\"Jazz\",\"Jazz\",\"Jazz\",\"Jazz\",\"Jazz\",\"Jazz\",\"Jazz\",\"Jazz\",\"Jazz\",\"Jazz\",\"Jazz\",\"Jazz\",\"Jazz\",\"Jazz\",\"Jazz\",\"Jazz\",\"Jazz\",\"Jazz\",\"Jazz\",\"Jazz\",\"Jazz\",\"Jazz\",\"Jazz\",\"Jazz\",\"Jazz\",\"Jazz\",\"Jazz\",\"Jazz\",\"Jazz\",\"Jazz\",\"Jazz\",\"Jazz\",\"Jazz\",\"Jazz\",\"Jazz\",\"Jazz\",\"Jazz\",\"Jazz\",\"Jazz\",\"Jazz\",\"Jazz\",\"Jazz\",\"Jazz\",\"Jazz\",\"Jazz\",\"Jazz\",\"Jazz\",\"Jazz\",\"Jazz\",\"Jazz\",\"Jazz\",\"Jazz\",\"Jazz\",\"Jazz\",\"Jazz\",\"Jazz\",\"Jazz\",\"Jazz\",\"Jazz\",\"Jazz\",\"Jazz\",\"Jazz\",\"Jazz\",\"Jazz\",\"Jazz\",\"Jazz\",\"Jazz\",\"Jazz\",\"K pop\",\"K pop\",\"K pop\",\"K pop\",\"K pop\",\"K pop\",\"K pop\",\"K pop\",\"K pop\",\"K pop\",\"K pop\",\"K pop\",\"K pop\",\"K pop\",\"K pop\",\"K pop\",\"K pop\",\"K pop\",\"K pop\",\"K pop\",\"K pop\",\"K pop\",\"K pop\",\"K pop\",\"K pop\",\"K pop\",\"K pop\",\"K pop\",\"K pop\",\"K pop\",\"K pop\",\"K pop\",\"K pop\",\"K pop\",\"K pop\",\"K pop\",\"K pop\",\"K pop\",\"K pop\",\"K pop\",\"K pop\",\"K pop\",\"K pop\",\"K pop\",\"K pop\",\"K pop\",\"K pop\",\"K pop\",\"K pop\",\"K pop\",\"K pop\",\"K pop\",\"K pop\",\"K pop\",\"K pop\",\"K pop\",\"K pop\",\"K pop\",\"K pop\",\"K pop\",\"K pop\",\"K pop\",\"K pop\",\"K pop\",\"K pop\",\"K pop\",\"Latin\",\"Latin\",\"Latin\",\"Latin\",\"Latin\",\"Latin\",\"Latin\",\"Latin\",\"Latin\",\"Latin\",\"Latin\",\"Latin\",\"Latin\",\"Latin\",\"Latin\",\"Latin\",\"Latin\",\"Latin\",\"Latin\",\"Latin\",\"Latin\",\"Latin\",\"Latin\",\"Latin\",\"Latin\",\"Latin\",\"Latin\",\"Latin\",\"Latin\",\"Latin\",\"Latin\",\"Latin\",\"Latin\",\"Latin\",\"Latin\",\"Latin\",\"Latin\",\"Latin\",\"Latin\",\"Latin\",\"Latin\",\"Latin\",\"Latin\",\"Latin\",\"Latin\",\"Latin\",\"Latin\",\"Latin\",\"Latin\",\"Latin\",\"Latin\",\"Latin\",\"Latin\",\"Latin\",\"Latin\",\"Latin\",\"Latin\",\"Latin\",\"Latin\",\"Latin\",\"Latin\",\"Latin\",\"Latin\",\"Latin\",\"Latin\",\"Latin\",\"Latin\",\"Latin\",\"Latin\",\"Latin\",\"Latin\",\"Latin\",\"Latin\",\"Latin\",\"Latin\",\"Latin\",\"Latin\",\"Latin\",\"Latin\",\"Latin\",\"Latin\",\"Latin\",\"Latin\",\"Latin\",\"Latin\",\"Latin\",\"Latin\",\"Latin\",\"Lofi\",\"Lofi\",\"Lofi\",\"Lofi\",\"Lofi\",\"Lofi\",\"Lofi\",\"Lofi\",\"Lofi\",\"Lofi\",\"Lofi\",\"Lofi\",\"Lofi\",\"Lofi\",\"Lofi\",\"Lofi\",\"Lofi\",\"Lofi\",\"Lofi\",\"Lofi\",\"Lofi\",\"Lofi\",\"Lofi\",\"Lofi\",\"Lofi\",\"Lofi\",\"Lofi\",\"Lofi\",\"Lofi\",\"Lofi\",\"Lofi\",\"Lofi\",\"Lofi\",\"Lofi\",\"Lofi\",\"Lofi\",\"Lofi\",\"Lofi\",\"Lofi\",\"Lofi\",\"Lofi\",\"Lofi\",\"Lofi\",\"Lofi\",\"Lofi\",\"Lofi\",\"Lofi\",\"Lofi\",\"Lofi\",\"Lofi\",\"Lofi\",\"Lofi\",\"Lofi\",\"Lofi\",\"Lofi\",\"Lofi\",\"Lofi\",\"Lofi\",\"Lofi\",\"Lofi\",\"Lofi\",\"Lofi\",\"Lofi\",\"Lofi\",\"Lofi\",\"Lofi\",\"Lofi\",\"Lofi\",\"Lofi\",\"Lofi\",\"Lofi\",\"Lofi\",\"Lofi\",\"Lofi\",\"Lofi\",\"Lofi\",\"Lofi\",\"Lofi\",\"Lofi\",\"Lofi\",\"Lofi\",\"Lofi\",\"Lofi\",\"Lofi\",\"Lofi\",\"Lofi\",\"Lofi\",\"Lofi\",\"Lofi\",\"Lofi\",\"Lofi\",\"Lofi\",\"Lofi\",\"Lofi\",\"Lofi\",\"Lofi\",\"Lofi\",\"Lofi\",\"Lofi\",\"Lofi\",\"Lofi\",\"Lofi\",\"Lofi\",\"Lofi\",\"Lofi\",\"Lofi\",\"Lofi\",\"Lofi\",\"Lofi\",\"Lofi\",\"Lofi\",\"Lofi\",\"Lofi\",\"Lofi\",\"Lofi\",\"Lofi\",\"Lofi\",\"Lofi\",\"Lofi\",\"Lofi\",\"Lofi\",\"Lofi\",\"Lofi\",\"Lofi\",\"Lofi\",\"Lofi\",\"Lofi\",\"Lofi\",\"Lofi\",\"Lofi\",\"Lofi\",\"Lofi\",\"Lofi\",\"Lofi\",\"Lofi\",\"Lofi\",\"Lofi\",\"Lofi\",\"Lofi\",\"Lofi\",\"Lofi\",\"Lofi\",\"Lofi\",\"Lofi\",\"Lofi\",\"Lofi\",\"Lofi\",\"Lofi\",\"Lofi\",\"Lofi\",\"Lofi\",\"Lofi\",\"Lofi\",\"Lofi\",\"Lofi\",\"Lofi\",\"Lofi\",\"Lofi\",\"Lofi\",\"Lofi\",\"Metal\",\"Metal\",\"Metal\",\"Metal\",\"Metal\",\"Metal\",\"Metal\",\"Metal\",\"Metal\",\"Metal\",\"Metal\",\"Metal\",\"Metal\",\"Metal\",\"Metal\",\"Metal\",\"Metal\",\"Metal\",\"Metal\",\"Metal\",\"Metal\",\"Metal\",\"Metal\",\"Metal\",\"Metal\",\"Metal\",\"Metal\",\"Metal\",\"Metal\",\"Metal\",\"Metal\",\"Metal\",\"Metal\",\"Metal\",\"Metal\",\"Metal\",\"Metal\",\"Metal\",\"Metal\",\"Metal\",\"Metal\",\"Metal\",\"Metal\",\"Metal\",\"Metal\",\"Metal\",\"Metal\",\"Metal\",\"Metal\",\"Metal\",\"Metal\",\"Metal\",\"Metal\",\"Metal\",\"Metal\",\"Metal\",\"Metal\",\"Metal\",\"Metal\",\"Metal\",\"Metal\",\"Metal\",\"Metal\",\"Metal\",\"Metal\",\"Metal\",\"Metal\",\"Metal\",\"Metal\",\"Metal\",\"Metal\",\"Metal\",\"Metal\",\"Metal\",\"Metal\",\"Metal\",\"Metal\",\"Metal\",\"Metal\",\"Metal\",\"Metal\",\"Metal\",\"Metal\",\"Metal\",\"Metal\",\"Metal\",\"Metal\",\"Metal\",\"Metal\",\"Metal\",\"Metal\",\"Metal\",\"Metal\",\"Metal\",\"Metal\",\"Metal\",\"Metal\",\"Metal\",\"Metal\",\"Metal\",\"Metal\",\"Metal\",\"Metal\",\"Metal\",\"Metal\",\"Metal\",\"Metal\",\"Metal\",\"Metal\",\"Metal\",\"Metal\",\"Metal\",\"Metal\",\"Metal\",\"Metal\",\"Metal\",\"Metal\",\"Metal\",\"Metal\",\"Metal\",\"Metal\",\"Metal\",\"Metal\",\"Metal\",\"Metal\",\"Metal\",\"Metal\",\"Metal\",\"Metal\",\"Metal\",\"Metal\",\"Metal\",\"Metal\",\"Metal\",\"Pop\",\"Pop\",\"Pop\",\"Pop\",\"Pop\",\"Pop\",\"Pop\",\"Pop\",\"Pop\",\"Pop\",\"Pop\",\"Pop\",\"Pop\",\"Pop\",\"Pop\",\"Pop\",\"Pop\",\"Pop\",\"Pop\",\"Pop\",\"Pop\",\"Pop\",\"Pop\",\"Pop\",\"Pop\",\"Pop\",\"Pop\",\"Pop\",\"Pop\",\"Pop\",\"Pop\",\"Pop\",\"Pop\",\"Pop\",\"Pop\",\"Pop\",\"Pop\",\"Pop\",\"Pop\",\"Pop\",\"Pop\",\"Pop\",\"Pop\",\"Pop\",\"Pop\",\"Pop\",\"Pop\",\"Pop\",\"Pop\",\"Pop\",\"Pop\",\"Pop\",\"Pop\",\"Pop\",\"Pop\",\"Pop\",\"Pop\",\"Pop\",\"Pop\",\"Pop\",\"Pop\",\"Pop\",\"Pop\",\"Pop\",\"Pop\",\"Pop\",\"Pop\",\"Pop\",\"Pop\",\"Pop\",\"Pop\",\"Pop\",\"Pop\",\"Pop\",\"Pop\",\"Pop\",\"Pop\",\"Pop\",\"Pop\",\"Pop\",\"Pop\",\"Pop\",\"Pop\",\"Pop\",\"Pop\",\"Pop\",\"Pop\",\"Pop\",\"Pop\",\"Pop\",\"Pop\",\"Pop\",\"Pop\",\"Pop\",\"Pop\",\"Pop\",\"Pop\",\"Pop\",\"Pop\",\"Pop\",\"Pop\",\"Pop\",\"Pop\",\"Pop\",\"Pop\",\"Pop\",\"Pop\",\"Pop\",\"Pop\",\"Pop\",\"Pop\",\"Pop\",\"Pop\",\"Pop\",\"Pop\",\"Pop\",\"Pop\",\"Pop\",\"Pop\",\"Pop\",\"Pop\",\"Pop\",\"Pop\",\"Pop\",\"Pop\",\"Pop\",\"Pop\",\"Pop\",\"Pop\",\"Pop\",\"Pop\",\"Pop\",\"Pop\",\"Pop\",\"Pop\",\"Pop\",\"Pop\",\"Pop\",\"Pop\",\"Pop\",\"Pop\",\"Pop\",\"Pop\",\"Pop\",\"Pop\",\"Pop\",\"Pop\",\"Pop\",\"Pop\",\"Pop\",\"Pop\",\"Pop\",\"Pop\",\"Pop\",\"Pop\",\"Pop\",\"Pop\",\"Pop\",\"Pop\",\"Pop\",\"Pop\",\"Pop\",\"Pop\",\"Pop\",\"Pop\",\"Pop\",\"Pop\",\"Pop\",\"Pop\",\"Pop\",\"Pop\",\"Pop\",\"Pop\",\"Pop\",\"Pop\",\"Pop\",\"Pop\",\"Pop\",\"Pop\",\"Pop\",\"Pop\",\"Pop\",\"Pop\",\"Pop\",\"Pop\",\"Pop\",\"Pop\",\"Pop\",\"Pop\",\"Pop\",\"Pop\",\"Pop\",\"Pop\",\"Pop\",\"Pop\",\"Pop\",\"Pop\",\"Pop\",\"Pop\",\"Pop\",\"Pop\",\"Pop\",\"Pop\",\"Pop\",\"Pop\",\"Pop\",\"Pop\",\"Pop\",\"Pop\",\"Pop\",\"Pop\",\"Pop\",\"Pop\",\"Pop\",\"Pop\",\"Pop\",\"Pop\",\"Pop\",\"Pop\",\"Pop\",\"Pop\",\"Pop\",\"Pop\",\"Pop\",\"Pop\",\"Pop\",\"Pop\",\"Pop\",\"Pop\",\"Pop\",\"Pop\",\"Pop\",\"Pop\",\"Pop\",\"Pop\",\"Pop\",\"Pop\",\"Pop\",\"Pop\",\"Pop\",\"Pop\",\"Pop\",\"Pop\",\"Pop\",\"Pop\",\"Pop\",\"Pop\",\"Pop\",\"Pop\",\"Pop\",\"Pop\",\"Pop\",\"Pop\",\"Pop\",\"Pop\",\"Pop\",\"Pop\",\"Pop\",\"Pop\",\"Pop\",\"R&B\",\"R&B\",\"R&B\",\"R&B\",\"R&B\",\"R&B\",\"R&B\",\"R&B\",\"R&B\",\"R&B\",\"R&B\",\"R&B\",\"R&B\",\"R&B\",\"R&B\",\"R&B\",\"R&B\",\"R&B\",\"R&B\",\"R&B\",\"R&B\",\"R&B\",\"R&B\",\"R&B\",\"R&B\",\"R&B\",\"R&B\",\"R&B\",\"R&B\",\"R&B\",\"R&B\",\"R&B\",\"R&B\",\"R&B\",\"R&B\",\"R&B\",\"R&B\",\"R&B\",\"R&B\",\"R&B\",\"R&B\",\"R&B\",\"R&B\",\"R&B\",\"R&B\",\"R&B\",\"R&B\",\"R&B\",\"R&B\",\"R&B\",\"R&B\",\"R&B\",\"R&B\",\"R&B\",\"R&B\",\"R&B\",\"R&B\",\"R&B\",\"R&B\",\"R&B\",\"R&B\",\"R&B\",\"R&B\",\"R&B\",\"R&B\",\"R&B\",\"R&B\",\"R&B\",\"R&B\",\"R&B\",\"R&B\",\"R&B\",\"R&B\",\"R&B\",\"R&B\",\"R&B\",\"R&B\",\"R&B\",\"R&B\",\"R&B\",\"R&B\",\"R&B\",\"R&B\",\"R&B\",\"R&B\",\"R&B\",\"R&B\",\"R&B\",\"R&B\",\"R&B\",\"R&B\",\"R&B\",\"R&B\",\"R&B\",\"R&B\",\"R&B\",\"R&B\",\"R&B\",\"R&B\",\"R&B\",\"R&B\",\"R&B\",\"R&B\",\"R&B\",\"R&B\",\"R&B\",\"R&B\",\"R&B\",\"R&B\",\"R&B\",\"R&B\",\"R&B\",\"R&B\",\"R&B\",\"R&B\",\"R&B\",\"R&B\",\"R&B\",\"R&B\",\"R&B\",\"R&B\",\"R&B\",\"R&B\",\"R&B\",\"R&B\",\"R&B\",\"R&B\",\"R&B\",\"R&B\",\"R&B\",\"R&B\",\"R&B\",\"R&B\",\"R&B\",\"R&B\",\"R&B\",\"R&B\",\"R&B\",\"R&B\",\"R&B\",\"R&B\",\"R&B\",\"R&B\",\"R&B\",\"R&B\",\"R&B\",\"R&B\",\"R&B\",\"R&B\",\"R&B\",\"R&B\",\"R&B\",\"R&B\",\"R&B\",\"R&B\",\"R&B\",\"R&B\",\"R&B\",\"R&B\",\"R&B\",\"R&B\",\"R&B\",\"R&B\",\"R&B\",\"R&B\",\"R&B\",\"R&B\",\"R&B\",\"R&B\",\"R&B\",\"R&B\",\"R&B\",\"R&B\",\"R&B\",\"R&B\",\"R&B\",\"R&B\",\"R&B\",\"R&B\",\"R&B\",\"R&B\",\"R&B\",\"R&B\",\"Rap\",\"Rap\",\"Rap\",\"Rap\",\"Rap\",\"Rap\",\"Rap\",\"Rap\",\"Rap\",\"Rap\",\"Rap\",\"Rap\",\"Rap\",\"Rap\",\"Rap\",\"Rap\",\"Rap\",\"Rap\",\"Rap\",\"Rap\",\"Rap\",\"Rap\",\"Rap\",\"Rap\",\"Rap\",\"Rap\",\"Rap\",\"Rap\",\"Rap\",\"Rap\",\"Rap\",\"Rap\",\"Rap\",\"Rap\",\"Rap\",\"Rap\",\"Rap\",\"Rap\",\"Rap\",\"Rap\",\"Rap\",\"Rap\",\"Rap\",\"Rap\",\"Rap\",\"Rap\",\"Rap\",\"Rap\",\"Rap\",\"Rap\",\"Rap\",\"Rap\",\"Rap\",\"Rap\",\"Rap\",\"Rap\",\"Rap\",\"Rap\",\"Rap\",\"Rap\",\"Rap\",\"Rap\",\"Rap\",\"Rap\",\"Rap\",\"Rap\",\"Rap\",\"Rap\",\"Rap\",\"Rap\",\"Rap\",\"Rap\",\"Rap\",\"Rap\",\"Rap\",\"Rap\",\"Rap\",\"Rap\",\"Rap\",\"Rap\",\"Rap\",\"Rap\",\"Rap\",\"Rap\",\"Rap\",\"Rap\",\"Rap\",\"Rap\",\"Rap\",\"Rap\",\"Rap\",\"Rap\",\"Rap\",\"Rap\",\"Rap\",\"Rap\",\"Rap\",\"Rap\",\"Rap\",\"Rap\",\"Rap\",\"Rap\",\"Rap\",\"Rap\",\"Rap\",\"Rap\",\"Rap\",\"Rap\",\"Rap\",\"Rap\",\"Rap\",\"Rap\",\"Rap\",\"Rap\",\"Rap\",\"Rap\",\"Rap\",\"Rap\",\"Rap\",\"Rap\",\"Rap\",\"Rap\",\"Rap\",\"Rap\",\"Rap\",\"Rap\",\"Rap\",\"Rap\",\"Rap\",\"Rap\",\"Rap\",\"Rap\",\"Rap\",\"Rap\",\"Rap\",\"Rap\",\"Rap\",\"Rap\",\"Rap\",\"Rap\",\"Rap\",\"Rap\",\"Rap\",\"Rap\",\"Rap\",\"Rap\",\"Rap\",\"Rap\",\"Rap\",\"Rap\",\"Rap\",\"Rap\",\"Rap\",\"Rap\",\"Rap\",\"Rap\",\"Rap\",\"Rap\",\"Rap\",\"Rap\",\"Rap\",\"Rap\",\"Rap\",\"Rap\",\"Rap\",\"Rap\",\"Rap\",\"Rap\",\"Rap\",\"Rap\",\"Rap\",\"Rap\",\"Rap\",\"Rap\",\"Rap\",\"Rap\",\"Rap\",\"Rap\",\"Rap\",\"Rap\",\"Rap\",\"Rap\",\"Rap\",\"Rap\",\"Rap\",\"Rap\",\"Rap\",\"Rap\",\"Rap\",\"Rap\",\"Rap\",\"Rap\",\"Rap\",\"Rap\",\"Rap\",\"Rock\",\"Rock\",\"Rock\",\"Rock\",\"Rock\",\"Rock\",\"Rock\",\"Rock\",\"Rock\",\"Rock\",\"Rock\",\"Rock\",\"Rock\",\"Rock\",\"Rock\",\"Rock\",\"Rock\",\"Rock\",\"Rock\",\"Rock\",\"Rock\",\"Rock\",\"Rock\",\"Rock\",\"Rock\",\"Rock\",\"Rock\",\"Rock\",\"Rock\",\"Rock\",\"Rock\",\"Rock\",\"Rock\",\"Rock\",\"Rock\",\"Rock\",\"Rock\",\"Rock\",\"Rock\",\"Rock\",\"Rock\",\"Rock\",\"Rock\",\"Rock\",\"Rock\",\"Rock\",\"Rock\",\"Rock\",\"Rock\",\"Rock\",\"Rock\",\"Rock\",\"Rock\",\"Rock\",\"Rock\",\"Rock\",\"Rock\",\"Rock\",\"Rock\",\"Rock\",\"Rock\",\"Rock\",\"Rock\",\"Rock\",\"Rock\",\"Rock\",\"Rock\",\"Rock\",\"Rock\",\"Rock\",\"Rock\",\"Rock\",\"Rock\",\"Rock\",\"Rock\",\"Rock\",\"Rock\",\"Rock\",\"Rock\",\"Rock\",\"Rock\",\"Rock\",\"Rock\",\"Rock\",\"Rock\",\"Rock\",\"Rock\",\"Rock\",\"Rock\",\"Rock\",\"Rock\",\"Rock\",\"Rock\",\"Rock\",\"Rock\",\"Rock\",\"Rock\",\"Rock\",\"Rock\",\"Rock\",\"Rock\",\"Rock\",\"Rock\",\"Rock\",\"Rock\",\"Rock\",\"Rock\",\"Rock\",\"Rock\",\"Rock\",\"Rock\",\"Rock\",\"Rock\",\"Rock\",\"Rock\",\"Rock\",\"Rock\",\"Rock\",\"Rock\",\"Rock\",\"Rock\",\"Rock\",\"Rock\",\"Rock\",\"Rock\",\"Rock\",\"Rock\",\"Rock\",\"Rock\",\"Rock\",\"Rock\",\"Rock\",\"Rock\",\"Rock\",\"Rock\",\"Rock\",\"Rock\",\"Rock\",\"Rock\",\"Rock\",\"Rock\",\"Rock\",\"Rock\",\"Rock\",\"Rock\",\"Rock\",\"Rock\",\"Rock\",\"Rock\",\"Rock\",\"Rock\",\"Rock\",\"Rock\",\"Rock\",\"Rock\",\"Rock\",\"Rock\",\"Rock\",\"Rock\",\"Rock\",\"Rock\",\"Rock\",\"Rock\",\"Rock\",\"Rock\",\"Rock\",\"Rock\",\"Rock\",\"Rock\",\"Rock\",\"Rock\",\"Rock\",\"Rock\",\"Rock\",\"Rock\",\"Rock\",\"Rock\",\"Rock\",\"Rock\",\"Rock\",\"Rock\",\"Rock\",\"Rock\",\"Rock\",\"Rock\",\"Rock\",\"Rock\",\"Rock\",\"Rock\",\"Rock\",\"Rock\",\"Rock\",\"Rock\",\"Rock\",\"Rock\",\"Rock\",\"Rock\",\"Rock\",\"Rock\",\"Rock\",\"Rock\",\"Rock\",\"Rock\",\"Rock\",\"Rock\",\"Rock\",\"Rock\",\"Rock\",\"Rock\",\"Rock\",\"Rock\",\"Rock\",\"Rock\",\"Rock\",\"Rock\",\"Rock\",\"Rock\",\"Rock\",\"Rock\",\"Video game music\",\"Video game music\",\"Video game music\",\"Video game music\",\"Video game music\",\"Video game music\",\"Video game music\",\"Video game music\",\"Video game music\",\"Video game music\",\"Video game music\",\"Video game music\",\"Video game music\",\"Video game music\",\"Video game music\",\"Video game music\",\"Video game music\",\"Video game music\",\"Video game music\",\"Video game music\",\"Video game music\",\"Video game music\",\"Video game music\",\"Video game music\",\"Video game music\",\"Video game music\",\"Video game music\",\"Video game music\",\"Video game music\",\"Video game music\",\"Video game music\",\"Video game music\",\"Video game music\",\"Video game music\",\"Video game music\",\"Video game music\",\"Video game music\",\"Video game music\",\"Video game music\",\"Video game music\",\"Video game music\",\"Video game music\",\"Video game music\",\"Video game music\",\"Video game music\",\"Video game music\",\"Video game music\",\"Video game music\",\"Video game music\",\"Video game music\",\"Video game music\",\"Video game music\",\"Video game music\",\"Video game music\",\"Video game music\",\"Video game music\",\"Video game music\",\"Video game music\",\"Video game music\",\"Video game music\",\"Video game music\",\"Video game music\",\"Video game music\",\"Video game music\",\"Video game music\",\"Video game music\",\"Video game music\",\"Video game music\",\"Video game music\",\"Video game music\",\"Video game music\",\"Video game music\",\"Video game music\",\"Video game music\",\"Video game music\",\"Video game music\",\"Video game music\",\"Video game music\",\"Video game music\",\"Video game music\",\"Video game music\",\"Video game music\",\"Video game music\",\"Video game music\",\"Video game music\",\"Video game music\",\"Video game music\",\"Video game music\",\"Video game music\",\"Video game music\",\"Video game music\",\"Video game music\",\"Video game music\",\"Video game music\",\"Video game music\",\"Video game music\",\"Video game music\",\"Video game music\",\"Video game music\",\"Video game music\",\"Video game music\",\"Video game music\",\"Video game music\",\"Video game music\",\"Video game music\",\"Video game music\",\"Video game music\",\"Video game music\",\"Video game music\",\"Video game music\",\"Video game music\",\"Video game music\",\"Video game music\",\"Video game music\",\"Video game music\",\"Video game music\",\"Video game music\",\"Video game music\",\"Video game music\",\"Video game music\",\"Video game music\",\"Video game music\",\"Video game music\",\"Video game music\",\"Video game music\",\"Video game music\",\"Video game music\",\"Video game music\",\"Video game music\",\"Video game music\",\"Video game music\",\"Video game music\",\"Video game music\",\"Video game music\",\"Video game music\",\"Video game music\",\"Video game music\",\"Video game music\",\"Video game music\",\"Video game music\",\"Video game music\",\"Video game music\",\"Video game music\",\"Video game music\",\"Video game music\",\"Video game music\",\"Video game music\",\"Video game music\",\"Video game music\",\"Video game music\",\"Video game music\",\"Video game music\",\"Video game music\",\"Video game music\",\"Video game music\",\"Video game music\",\"Video game music\",\"Video game music\",\"Video game music\",\"Video game music\",\"Video game music\",\"Video game music\",\"Video game music\",\"Video game music\",\"Video game music\",\"Video game music\",\"Video game music\",\"Video game music\",\"Video game music\",\"Video game music\",\"Video game music\",\"Video game music\",\"Video game music\",\"Video game music\",\"Video game music\",\"Video game music\",\"Video game music\",\"Video game music\",\"Video game music\",\"Video game music\",\"Video game music\",\"Video game music\",\"Video game music\",\"Video game music\",\"Video game music\",\"Video game music\"],\"xaxis\":\"x\",\"yaxis\":\"y\",\"type\":\"histogram\"},{\"alignmentgroup\":\"True\",\"bingroup\":\"x\",\"hovertemplate\":\"frequency=Never\\u003cbr\\u003egenre=%{x}\\u003cbr\\u003ecount=%{y}\\u003cextra\\u003e\\u003c\\u002fextra\\u003e\",\"legendgroup\":\"Never\",\"marker\":{\"color\":\"#00cc96\",\"pattern\":{\"shape\":\"\"}},\"name\":\"Never\",\"offsetgroup\":\"Never\",\"orientation\":\"v\",\"showlegend\":true,\"x\":[\"Classical\",\"Classical\",\"Classical\",\"Classical\",\"Classical\",\"Classical\",\"Classical\",\"Classical\",\"Classical\",\"Classical\",\"Classical\",\"Classical\",\"Classical\",\"Classical\",\"Classical\",\"Classical\",\"Classical\",\"Classical\",\"Classical\",\"Classical\",\"Classical\",\"Classical\",\"Classical\",\"Classical\",\"Classical\",\"Classical\",\"Classical\",\"Classical\",\"Classical\",\"Classical\",\"Classical\",\"Classical\",\"Classical\",\"Classical\",\"Classical\",\"Classical\",\"Classical\",\"Classical\",\"Classical\",\"Classical\",\"Classical\",\"Classical\",\"Classical\",\"Classical\",\"Classical\",\"Classical\",\"Classical\",\"Classical\",\"Classical\",\"Classical\",\"Classical\",\"Classical\",\"Classical\",\"Classical\",\"Classical\",\"Classical\",\"Classical\",\"Classical\",\"Classical\",\"Classical\",\"Classical\",\"Classical\",\"Classical\",\"Classical\",\"Classical\",\"Classical\",\"Classical\",\"Classical\",\"Classical\",\"Classical\",\"Classical\",\"Classical\",\"Classical\",\"Classical\",\"Classical\",\"Classical\",\"Classical\",\"Classical\",\"Classical\",\"Classical\",\"Classical\",\"Classical\",\"Classical\",\"Classical\",\"Classical\",\"Classical\",\"Classical\",\"Classical\",\"Classical\",\"Classical\",\"Classical\",\"Classical\",\"Classical\",\"Classical\",\"Classical\",\"Classical\",\"Classical\",\"Classical\",\"Classical\",\"Classical\",\"Classical\",\"Classical\",\"Classical\",\"Classical\",\"Classical\",\"Classical\",\"Classical\",\"Classical\",\"Classical\",\"Classical\",\"Classical\",\"Classical\",\"Classical\",\"Classical\",\"Classical\",\"Classical\",\"Classical\",\"Classical\",\"Classical\",\"Classical\",\"Classical\",\"Classical\",\"Classical\",\"Classical\",\"Classical\",\"Classical\",\"Classical\",\"Classical\",\"Classical\",\"Classical\",\"Classical\",\"Classical\",\"Classical\",\"Classical\",\"Classical\",\"Classical\",\"Classical\",\"Classical\",\"Classical\",\"Classical\",\"Classical\",\"Classical\",\"Classical\",\"Classical\",\"Classical\",\"Classical\",\"Classical\",\"Classical\",\"Classical\",\"Classical\",\"Classical\",\"Classical\",\"Classical\",\"Classical\",\"Classical\",\"Classical\",\"Classical\",\"Classical\",\"Classical\",\"Classical\",\"Classical\",\"Classical\",\"Classical\",\"Classical\",\"Classical\",\"Classical\",\"Classical\",\"Classical\",\"Classical\",\"Country\",\"Country\",\"Country\",\"Country\",\"Country\",\"Country\",\"Country\",\"Country\",\"Country\",\"Country\",\"Country\",\"Country\",\"Country\",\"Country\",\"Country\",\"Country\",\"Country\",\"Country\",\"Country\",\"Country\",\"Country\",\"Country\",\"Country\",\"Country\",\"Country\",\"Country\",\"Country\",\"Country\",\"Country\",\"Country\",\"Country\",\"Country\",\"Country\",\"Country\",\"Country\",\"Country\",\"Country\",\"Country\",\"Country\",\"Country\",\"Country\",\"Country\",\"Country\",\"Country\",\"Country\",\"Country\",\"Country\",\"Country\",\"Country\",\"Country\",\"Country\",\"Country\",\"Country\",\"Country\",\"Country\",\"Country\",\"Country\",\"Country\",\"Country\",\"Country\",\"Country\",\"Country\",\"Country\",\"Country\",\"Country\",\"Country\",\"Country\",\"Country\",\"Country\",\"Country\",\"Country\",\"Country\",\"Country\",\"Country\",\"Country\",\"Country\",\"Country\",\"Country\",\"Country\",\"Country\",\"Country\",\"Country\",\"Country\",\"Country\",\"Country\",\"Country\",\"Country\",\"Country\",\"Country\",\"Country\",\"Country\",\"Country\",\"Country\",\"Country\",\"Country\",\"Country\",\"Country\",\"Country\",\"Country\",\"Country\",\"Country\",\"Country\",\"Country\",\"Country\",\"Country\",\"Country\",\"Country\",\"Country\",\"Country\",\"Country\",\"Country\",\"Country\",\"Country\",\"Country\",\"Country\",\"Country\",\"Country\",\"Country\",\"Country\",\"Country\",\"Country\",\"Country\",\"Country\",\"Country\",\"Country\",\"Country\",\"Country\",\"Country\",\"Country\",\"Country\",\"Country\",\"Country\",\"Country\",\"Country\",\"Country\",\"Country\",\"Country\",\"Country\",\"Country\",\"Country\",\"Country\",\"Country\",\"Country\",\"Country\",\"Country\",\"Country\",\"Country\",\"Country\",\"Country\",\"Country\",\"Country\",\"Country\",\"Country\",\"Country\",\"Country\",\"Country\",\"Country\",\"Country\",\"Country\",\"Country\",\"Country\",\"Country\",\"Country\",\"Country\",\"Country\",\"Country\",\"Country\",\"Country\",\"Country\",\"Country\",\"Country\",\"Country\",\"Country\",\"Country\",\"Country\",\"Country\",\"Country\",\"Country\",\"Country\",\"Country\",\"Country\",\"Country\",\"Country\",\"Country\",\"Country\",\"Country\",\"Country\",\"Country\",\"Country\",\"Country\",\"Country\",\"Country\",\"Country\",\"Country\",\"Country\",\"Country\",\"Country\",\"Country\",\"Country\",\"Country\",\"Country\",\"Country\",\"Country\",\"Country\",\"Country\",\"Country\",\"Country\",\"Country\",\"Country\",\"Country\",\"Country\",\"Country\",\"Country\",\"Country\",\"Country\",\"Country\",\"Country\",\"Country\",\"Country\",\"Country\",\"Country\",\"Country\",\"Country\",\"Country\",\"Country\",\"Country\",\"Country\",\"Country\",\"Country\",\"Country\",\"Country\",\"Country\",\"Country\",\"Country\",\"Country\",\"Country\",\"Country\",\"Country\",\"Country\",\"Country\",\"Country\",\"Country\",\"Country\",\"Country\",\"Country\",\"Country\",\"Country\",\"Country\",\"Country\",\"Country\",\"Country\",\"Country\",\"Country\",\"Country\",\"Country\",\"Country\",\"Country\",\"Country\",\"Country\",\"Country\",\"Country\",\"Country\",\"Country\",\"Country\",\"Country\",\"Country\",\"Country\",\"Country\",\"Country\",\"Country\",\"Country\",\"Country\",\"Country\",\"Country\",\"Country\",\"Country\",\"Country\",\"Country\",\"Country\",\"Country\",\"Country\",\"Country\",\"Country\",\"Country\",\"Country\",\"Country\",\"Country\",\"Country\",\"Country\",\"Country\",\"Country\",\"Country\",\"Country\",\"Country\",\"Country\",\"Country\",\"Country\",\"Country\",\"Country\",\"Country\",\"Country\",\"Country\",\"Country\",\"Country\",\"Country\",\"Country\",\"Country\",\"Country\",\"Country\",\"Country\",\"Country\",\"Country\",\"Country\",\"Country\",\"Country\",\"Country\",\"Country\",\"Country\",\"Country\",\"Country\",\"Country\",\"Country\",\"Country\",\"Country\",\"Country\",\"Country\",\"Country\",\"Country\",\"Country\",\"Country\",\"Country\",\"Country\",\"Country\",\"Country\",\"Country\",\"Country\",\"Country\",\"Country\",\"Country\",\"Country\",\"Country\",\"Country\",\"EDM\",\"EDM\",\"EDM\",\"EDM\",\"EDM\",\"EDM\",\"EDM\",\"EDM\",\"EDM\",\"EDM\",\"EDM\",\"EDM\",\"EDM\",\"EDM\",\"EDM\",\"EDM\",\"EDM\",\"EDM\",\"EDM\",\"EDM\",\"EDM\",\"EDM\",\"EDM\",\"EDM\",\"EDM\",\"EDM\",\"EDM\",\"EDM\",\"EDM\",\"EDM\",\"EDM\",\"EDM\",\"EDM\",\"EDM\",\"EDM\",\"EDM\",\"EDM\",\"EDM\",\"EDM\",\"EDM\",\"EDM\",\"EDM\",\"EDM\",\"EDM\",\"EDM\",\"EDM\",\"EDM\",\"EDM\",\"EDM\",\"EDM\",\"EDM\",\"EDM\",\"EDM\",\"EDM\",\"EDM\",\"EDM\",\"EDM\",\"EDM\",\"EDM\",\"EDM\",\"EDM\",\"EDM\",\"EDM\",\"EDM\",\"EDM\",\"EDM\",\"EDM\",\"EDM\",\"EDM\",\"EDM\",\"EDM\",\"EDM\",\"EDM\",\"EDM\",\"EDM\",\"EDM\",\"EDM\",\"EDM\",\"EDM\",\"EDM\",\"EDM\",\"EDM\",\"EDM\",\"EDM\",\"EDM\",\"EDM\",\"EDM\",\"EDM\",\"EDM\",\"EDM\",\"EDM\",\"EDM\",\"EDM\",\"EDM\",\"EDM\",\"EDM\",\"EDM\",\"EDM\",\"EDM\",\"EDM\",\"EDM\",\"EDM\",\"EDM\",\"EDM\",\"EDM\",\"EDM\",\"EDM\",\"EDM\",\"EDM\",\"EDM\",\"EDM\",\"EDM\",\"EDM\",\"EDM\",\"EDM\",\"EDM\",\"EDM\",\"EDM\",\"EDM\",\"EDM\",\"EDM\",\"EDM\",\"EDM\",\"EDM\",\"EDM\",\"EDM\",\"EDM\",\"EDM\",\"EDM\",\"EDM\",\"EDM\",\"EDM\",\"EDM\",\"EDM\",\"EDM\",\"EDM\",\"EDM\",\"EDM\",\"EDM\",\"EDM\",\"EDM\",\"EDM\",\"EDM\",\"EDM\",\"EDM\",\"EDM\",\"EDM\",\"EDM\",\"EDM\",\"EDM\",\"EDM\",\"EDM\",\"EDM\",\"EDM\",\"EDM\",\"EDM\",\"EDM\",\"EDM\",\"EDM\",\"EDM\",\"EDM\",\"EDM\",\"EDM\",\"EDM\",\"EDM\",\"EDM\",\"EDM\",\"EDM\",\"EDM\",\"EDM\",\"EDM\",\"EDM\",\"EDM\",\"EDM\",\"EDM\",\"EDM\",\"EDM\",\"EDM\",\"EDM\",\"EDM\",\"EDM\",\"EDM\",\"EDM\",\"EDM\",\"EDM\",\"EDM\",\"EDM\",\"EDM\",\"EDM\",\"EDM\",\"EDM\",\"EDM\",\"EDM\",\"EDM\",\"EDM\",\"EDM\",\"EDM\",\"EDM\",\"EDM\",\"EDM\",\"EDM\",\"EDM\",\"EDM\",\"EDM\",\"EDM\",\"EDM\",\"EDM\",\"EDM\",\"EDM\",\"EDM\",\"EDM\",\"EDM\",\"EDM\",\"EDM\",\"EDM\",\"EDM\",\"EDM\",\"EDM\",\"EDM\",\"EDM\",\"EDM\",\"EDM\",\"EDM\",\"EDM\",\"EDM\",\"EDM\",\"EDM\",\"EDM\",\"EDM\",\"EDM\",\"EDM\",\"EDM\",\"EDM\",\"EDM\",\"EDM\",\"EDM\",\"EDM\",\"EDM\",\"EDM\",\"EDM\",\"EDM\",\"EDM\",\"EDM\",\"EDM\",\"EDM\",\"EDM\",\"EDM\",\"EDM\",\"EDM\",\"EDM\",\"EDM\",\"EDM\",\"EDM\",\"EDM\",\"EDM\",\"EDM\",\"EDM\",\"EDM\",\"EDM\",\"EDM\",\"EDM\",\"EDM\",\"EDM\",\"EDM\",\"EDM\",\"EDM\",\"EDM\",\"EDM\",\"EDM\",\"EDM\",\"EDM\",\"EDM\",\"EDM\",\"EDM\",\"EDM\",\"EDM\",\"EDM\",\"EDM\",\"EDM\",\"EDM\",\"EDM\",\"EDM\",\"EDM\",\"EDM\",\"EDM\",\"EDM\",\"EDM\",\"EDM\",\"EDM\",\"EDM\",\"EDM\",\"EDM\",\"EDM\",\"EDM\",\"EDM\",\"EDM\",\"EDM\",\"EDM\",\"EDM\",\"EDM\",\"EDM\",\"EDM\",\"EDM\",\"EDM\",\"EDM\",\"EDM\",\"EDM\",\"Folk\",\"Folk\",\"Folk\",\"Folk\",\"Folk\",\"Folk\",\"Folk\",\"Folk\",\"Folk\",\"Folk\",\"Folk\",\"Folk\",\"Folk\",\"Folk\",\"Folk\",\"Folk\",\"Folk\",\"Folk\",\"Folk\",\"Folk\",\"Folk\",\"Folk\",\"Folk\",\"Folk\",\"Folk\",\"Folk\",\"Folk\",\"Folk\",\"Folk\",\"Folk\",\"Folk\",\"Folk\",\"Folk\",\"Folk\",\"Folk\",\"Folk\",\"Folk\",\"Folk\",\"Folk\",\"Folk\",\"Folk\",\"Folk\",\"Folk\",\"Folk\",\"Folk\",\"Folk\",\"Folk\",\"Folk\",\"Folk\",\"Folk\",\"Folk\",\"Folk\",\"Folk\",\"Folk\",\"Folk\",\"Folk\",\"Folk\",\"Folk\",\"Folk\",\"Folk\",\"Folk\",\"Folk\",\"Folk\",\"Folk\",\"Folk\",\"Folk\",\"Folk\",\"Folk\",\"Folk\",\"Folk\",\"Folk\",\"Folk\",\"Folk\",\"Folk\",\"Folk\",\"Folk\",\"Folk\",\"Folk\",\"Folk\",\"Folk\",\"Folk\",\"Folk\",\"Folk\",\"Folk\",\"Folk\",\"Folk\",\"Folk\",\"Folk\",\"Folk\",\"Folk\",\"Folk\",\"Folk\",\"Folk\",\"Folk\",\"Folk\",\"Folk\",\"Folk\",\"Folk\",\"Folk\",\"Folk\",\"Folk\",\"Folk\",\"Folk\",\"Folk\",\"Folk\",\"Folk\",\"Folk\",\"Folk\",\"Folk\",\"Folk\",\"Folk\",\"Folk\",\"Folk\",\"Folk\",\"Folk\",\"Folk\",\"Folk\",\"Folk\",\"Folk\",\"Folk\",\"Folk\",\"Folk\",\"Folk\",\"Folk\",\"Folk\",\"Folk\",\"Folk\",\"Folk\",\"Folk\",\"Folk\",\"Folk\",\"Folk\",\"Folk\",\"Folk\",\"Folk\",\"Folk\",\"Folk\",\"Folk\",\"Folk\",\"Folk\",\"Folk\",\"Folk\",\"Folk\",\"Folk\",\"Folk\",\"Folk\",\"Folk\",\"Folk\",\"Folk\",\"Folk\",\"Folk\",\"Folk\",\"Folk\",\"Folk\",\"Folk\",\"Folk\",\"Folk\",\"Folk\",\"Folk\",\"Folk\",\"Folk\",\"Folk\",\"Folk\",\"Folk\",\"Folk\",\"Folk\",\"Folk\",\"Folk\",\"Folk\",\"Folk\",\"Folk\",\"Folk\",\"Folk\",\"Folk\",\"Folk\",\"Folk\",\"Folk\",\"Folk\",\"Folk\",\"Folk\",\"Folk\",\"Folk\",\"Folk\",\"Folk\",\"Folk\",\"Folk\",\"Folk\",\"Folk\",\"Folk\",\"Folk\",\"Folk\",\"Folk\",\"Folk\",\"Folk\",\"Folk\",\"Folk\",\"Folk\",\"Folk\",\"Folk\",\"Folk\",\"Folk\",\"Folk\",\"Folk\",\"Folk\",\"Folk\",\"Folk\",\"Folk\",\"Folk\",\"Folk\",\"Folk\",\"Folk\",\"Folk\",\"Folk\",\"Folk\",\"Folk\",\"Folk\",\"Folk\",\"Folk\",\"Folk\",\"Folk\",\"Folk\",\"Folk\",\"Folk\",\"Folk\",\"Folk\",\"Folk\",\"Folk\",\"Folk\",\"Folk\",\"Folk\",\"Folk\",\"Folk\",\"Folk\",\"Folk\",\"Folk\",\"Folk\",\"Folk\",\"Folk\",\"Folk\",\"Folk\",\"Folk\",\"Folk\",\"Folk\",\"Folk\",\"Folk\",\"Folk\",\"Folk\",\"Folk\",\"Folk\",\"Folk\",\"Folk\",\"Folk\",\"Folk\",\"Folk\",\"Folk\",\"Folk\",\"Folk\",\"Folk\",\"Folk\",\"Folk\",\"Folk\",\"Folk\",\"Folk\",\"Folk\",\"Folk\",\"Folk\",\"Folk\",\"Folk\",\"Folk\",\"Folk\",\"Folk\",\"Folk\",\"Folk\",\"Folk\",\"Folk\",\"Folk\",\"Folk\",\"Folk\",\"Folk\",\"Folk\",\"Folk\",\"Folk\",\"Folk\",\"Folk\",\"Folk\",\"Folk\",\"Folk\",\"Folk\",\"Folk\",\"Folk\",\"Folk\",\"Gospel\",\"Gospel\",\"Gospel\",\"Gospel\",\"Gospel\",\"Gospel\",\"Gospel\",\"Gospel\",\"Gospel\",\"Gospel\",\"Gospel\",\"Gospel\",\"Gospel\",\"Gospel\",\"Gospel\",\"Gospel\",\"Gospel\",\"Gospel\",\"Gospel\",\"Gospel\",\"Gospel\",\"Gospel\",\"Gospel\",\"Gospel\",\"Gospel\",\"Gospel\",\"Gospel\",\"Gospel\",\"Gospel\",\"Gospel\",\"Gospel\",\"Gospel\",\"Gospel\",\"Gospel\",\"Gospel\",\"Gospel\",\"Gospel\",\"Gospel\",\"Gospel\",\"Gospel\",\"Gospel\",\"Gospel\",\"Gospel\",\"Gospel\",\"Gospel\",\"Gospel\",\"Gospel\",\"Gospel\",\"Gospel\",\"Gospel\",\"Gospel\",\"Gospel\",\"Gospel\",\"Gospel\",\"Gospel\",\"Gospel\",\"Gospel\",\"Gospel\",\"Gospel\",\"Gospel\",\"Gospel\",\"Gospel\",\"Gospel\",\"Gospel\",\"Gospel\",\"Gospel\",\"Gospel\",\"Gospel\",\"Gospel\",\"Gospel\",\"Gospel\",\"Gospel\",\"Gospel\",\"Gospel\",\"Gospel\",\"Gospel\",\"Gospel\",\"Gospel\",\"Gospel\",\"Gospel\",\"Gospel\",\"Gospel\",\"Gospel\",\"Gospel\",\"Gospel\",\"Gospel\",\"Gospel\",\"Gospel\",\"Gospel\",\"Gospel\",\"Gospel\",\"Gospel\",\"Gospel\",\"Gospel\",\"Gospel\",\"Gospel\",\"Gospel\",\"Gospel\",\"Gospel\",\"Gospel\",\"Gospel\",\"Gospel\",\"Gospel\",\"Gospel\",\"Gospel\",\"Gospel\",\"Gospel\",\"Gospel\",\"Gospel\",\"Gospel\",\"Gospel\",\"Gospel\",\"Gospel\",\"Gospel\",\"Gospel\",\"Gospel\",\"Gospel\",\"Gospel\",\"Gospel\",\"Gospel\",\"Gospel\",\"Gospel\",\"Gospel\",\"Gospel\",\"Gospel\",\"Gospel\",\"Gospel\",\"Gospel\",\"Gospel\",\"Gospel\",\"Gospel\",\"Gospel\",\"Gospel\",\"Gospel\",\"Gospel\",\"Gospel\",\"Gospel\",\"Gospel\",\"Gospel\",\"Gospel\",\"Gospel\",\"Gospel\",\"Gospel\",\"Gospel\",\"Gospel\",\"Gospel\",\"Gospel\",\"Gospel\",\"Gospel\",\"Gospel\",\"Gospel\",\"Gospel\",\"Gospel\",\"Gospel\",\"Gospel\",\"Gospel\",\"Gospel\",\"Gospel\",\"Gospel\",\"Gospel\",\"Gospel\",\"Gospel\",\"Gospel\",\"Gospel\",\"Gospel\",\"Gospel\",\"Gospel\",\"Gospel\",\"Gospel\",\"Gospel\",\"Gospel\",\"Gospel\",\"Gospel\",\"Gospel\",\"Gospel\",\"Gospel\",\"Gospel\",\"Gospel\",\"Gospel\",\"Gospel\",\"Gospel\",\"Gospel\",\"Gospel\",\"Gospel\",\"Gospel\",\"Gospel\",\"Gospel\",\"Gospel\",\"Gospel\",\"Gospel\",\"Gospel\",\"Gospel\",\"Gospel\",\"Gospel\",\"Gospel\",\"Gospel\",\"Gospel\",\"Gospel\",\"Gospel\",\"Gospel\",\"Gospel\",\"Gospel\",\"Gospel\",\"Gospel\",\"Gospel\",\"Gospel\",\"Gospel\",\"Gospel\",\"Gospel\",\"Gospel\",\"Gospel\",\"Gospel\",\"Gospel\",\"Gospel\",\"Gospel\",\"Gospel\",\"Gospel\",\"Gospel\",\"Gospel\",\"Gospel\",\"Gospel\",\"Gospel\",\"Gospel\",\"Gospel\",\"Gospel\",\"Gospel\",\"Gospel\",\"Gospel\",\"Gospel\",\"Gospel\",\"Gospel\",\"Gospel\",\"Gospel\",\"Gospel\",\"Gospel\",\"Gospel\",\"Gospel\",\"Gospel\",\"Gospel\",\"Gospel\",\"Gospel\",\"Gospel\",\"Gospel\",\"Gospel\",\"Gospel\",\"Gospel\",\"Gospel\",\"Gospel\",\"Gospel\",\"Gospel\",\"Gospel\",\"Gospel\",\"Gospel\",\"Gospel\",\"Gospel\",\"Gospel\",\"Gospel\",\"Gospel\",\"Gospel\",\"Gospel\",\"Gospel\",\"Gospel\",\"Gospel\",\"Gospel\",\"Gospel\",\"Gospel\",\"Gospel\",\"Gospel\",\"Gospel\",\"Gospel\",\"Gospel\",\"Gospel\",\"Gospel\",\"Gospel\",\"Gospel\",\"Gospel\",\"Gospel\",\"Gospel\",\"Gospel\",\"Gospel\",\"Gospel\",\"Gospel\",\"Gospel\",\"Gospel\",\"Gospel\",\"Gospel\",\"Gospel\",\"Gospel\",\"Gospel\",\"Gospel\",\"Gospel\",\"Gospel\",\"Gospel\",\"Gospel\",\"Gospel\",\"Gospel\",\"Gospel\",\"Gospel\",\"Gospel\",\"Gospel\",\"Gospel\",\"Gospel\",\"Gospel\",\"Gospel\",\"Gospel\",\"Gospel\",\"Gospel\",\"Gospel\",\"Gospel\",\"Gospel\",\"Gospel\",\"Gospel\",\"Gospel\",\"Gospel\",\"Gospel\",\"Gospel\",\"Gospel\",\"Gospel\",\"Gospel\",\"Gospel\",\"Gospel\",\"Gospel\",\"Gospel\",\"Gospel\",\"Gospel\",\"Gospel\",\"Gospel\",\"Gospel\",\"Gospel\",\"Gospel\",\"Gospel\",\"Gospel\",\"Gospel\",\"Gospel\",\"Gospel\",\"Gospel\",\"Gospel\",\"Gospel\",\"Gospel\",\"Gospel\",\"Gospel\",\"Gospel\",\"Gospel\",\"Gospel\",\"Gospel\",\"Gospel\",\"Gospel\",\"Gospel\",\"Gospel\",\"Gospel\",\"Gospel\",\"Gospel\",\"Gospel\",\"Gospel\",\"Gospel\",\"Gospel\",\"Gospel\",\"Gospel\",\"Gospel\",\"Gospel\",\"Gospel\",\"Gospel\",\"Gospel\",\"Gospel\",\"Gospel\",\"Gospel\",\"Gospel\",\"Gospel\",\"Gospel\",\"Gospel\",\"Gospel\",\"Gospel\",\"Gospel\",\"Gospel\",\"Gospel\",\"Gospel\",\"Gospel\",\"Gospel\",\"Gospel\",\"Gospel\",\"Gospel\",\"Gospel\",\"Gospel\",\"Gospel\",\"Gospel\",\"Gospel\",\"Gospel\",\"Gospel\",\"Gospel\",\"Gospel\",\"Gospel\",\"Gospel\",\"Gospel\",\"Gospel\",\"Gospel\",\"Gospel\",\"Gospel\",\"Gospel\",\"Gospel\",\"Gospel\",\"Gospel\",\"Gospel\",\"Gospel\",\"Gospel\",\"Gospel\",\"Gospel\",\"Gospel\",\"Gospel\",\"Gospel\",\"Gospel\",\"Gospel\",\"Gospel\",\"Gospel\",\"Gospel\",\"Gospel\",\"Gospel\",\"Gospel\",\"Gospel\",\"Gospel\",\"Gospel\",\"Gospel\",\"Gospel\",\"Gospel\",\"Gospel\",\"Gospel\",\"Gospel\",\"Gospel\",\"Gospel\",\"Gospel\",\"Gospel\",\"Gospel\",\"Gospel\",\"Gospel\",\"Gospel\",\"Gospel\",\"Gospel\",\"Gospel\",\"Gospel\",\"Gospel\",\"Gospel\",\"Gospel\",\"Gospel\",\"Gospel\",\"Gospel\",\"Gospel\",\"Gospel\",\"Gospel\",\"Gospel\",\"Gospel\",\"Gospel\",\"Gospel\",\"Gospel\",\"Gospel\",\"Gospel\",\"Gospel\",\"Gospel\",\"Gospel\",\"Gospel\",\"Gospel\",\"Gospel\",\"Gospel\",\"Gospel\",\"Gospel\",\"Gospel\",\"Gospel\",\"Gospel\",\"Gospel\",\"Gospel\",\"Gospel\",\"Gospel\",\"Gospel\",\"Gospel\",\"Gospel\",\"Gospel\",\"Gospel\",\"Gospel\",\"Gospel\",\"Gospel\",\"Gospel\",\"Gospel\",\"Gospel\",\"Gospel\",\"Gospel\",\"Gospel\",\"Gospel\",\"Gospel\",\"Gospel\",\"Gospel\",\"Gospel\",\"Gospel\",\"Gospel\",\"Gospel\",\"Gospel\",\"Gospel\",\"Gospel\",\"Gospel\",\"Gospel\",\"Gospel\",\"Gospel\",\"Gospel\",\"Gospel\",\"Gospel\",\"Gospel\",\"Gospel\",\"Gospel\",\"Gospel\",\"Gospel\",\"Gospel\",\"Gospel\",\"Gospel\",\"Gospel\",\"Gospel\",\"Gospel\",\"Gospel\",\"Gospel\",\"Gospel\",\"Gospel\",\"Gospel\",\"Gospel\",\"Gospel\",\"Gospel\",\"Gospel\",\"Gospel\",\"Gospel\",\"Gospel\",\"Gospel\",\"Gospel\",\"Gospel\",\"Gospel\",\"Gospel\",\"Gospel\",\"Gospel\",\"Gospel\",\"Gospel\",\"Hip hop\",\"Hip hop\",\"Hip hop\",\"Hip hop\",\"Hip hop\",\"Hip hop\",\"Hip hop\",\"Hip hop\",\"Hip hop\",\"Hip hop\",\"Hip hop\",\"Hip hop\",\"Hip hop\",\"Hip hop\",\"Hip hop\",\"Hip hop\",\"Hip hop\",\"Hip hop\",\"Hip hop\",\"Hip hop\",\"Hip hop\",\"Hip hop\",\"Hip hop\",\"Hip hop\",\"Hip hop\",\"Hip hop\",\"Hip hop\",\"Hip hop\",\"Hip hop\",\"Hip hop\",\"Hip hop\",\"Hip hop\",\"Hip hop\",\"Hip hop\",\"Hip hop\",\"Hip hop\",\"Hip hop\",\"Hip hop\",\"Hip hop\",\"Hip hop\",\"Hip hop\",\"Hip hop\",\"Hip hop\",\"Hip hop\",\"Hip hop\",\"Hip hop\",\"Hip hop\",\"Hip hop\",\"Hip hop\",\"Hip hop\",\"Hip hop\",\"Hip hop\",\"Hip hop\",\"Hip hop\",\"Hip hop\",\"Hip hop\",\"Hip hop\",\"Hip hop\",\"Hip hop\",\"Hip hop\",\"Hip hop\",\"Hip hop\",\"Hip hop\",\"Hip hop\",\"Hip hop\",\"Hip hop\",\"Hip hop\",\"Hip hop\",\"Hip hop\",\"Hip hop\",\"Hip hop\",\"Hip hop\",\"Hip hop\",\"Hip hop\",\"Hip hop\",\"Hip hop\",\"Hip hop\",\"Hip hop\",\"Hip hop\",\"Hip hop\",\"Hip hop\",\"Hip hop\",\"Hip hop\",\"Hip hop\",\"Hip hop\",\"Hip hop\",\"Hip hop\",\"Hip hop\",\"Hip hop\",\"Hip hop\",\"Hip hop\",\"Hip hop\",\"Hip hop\",\"Hip hop\",\"Hip hop\",\"Hip hop\",\"Hip hop\",\"Hip hop\",\"Hip hop\",\"Hip hop\",\"Hip hop\",\"Hip hop\",\"Hip hop\",\"Hip hop\",\"Hip hop\",\"Hip hop\",\"Hip hop\",\"Hip hop\",\"Hip hop\",\"Hip hop\",\"Hip hop\",\"Hip hop\",\"Hip hop\",\"Hip hop\",\"Hip hop\",\"Hip hop\",\"Hip hop\",\"Hip hop\",\"Hip hop\",\"Hip hop\",\"Hip hop\",\"Hip hop\",\"Hip hop\",\"Hip hop\",\"Hip hop\",\"Hip hop\",\"Hip hop\",\"Hip hop\",\"Hip hop\",\"Hip hop\",\"Hip hop\",\"Hip hop\",\"Hip hop\",\"Hip hop\",\"Hip hop\",\"Hip hop\",\"Hip hop\",\"Hip hop\",\"Hip hop\",\"Hip hop\",\"Hip hop\",\"Hip hop\",\"Hip hop\",\"Hip hop\",\"Hip hop\",\"Hip hop\",\"Hip hop\",\"Hip hop\",\"Hip hop\",\"Hip hop\",\"Hip hop\",\"Hip hop\",\"Hip hop\",\"Hip hop\",\"Hip hop\",\"Hip hop\",\"Hip hop\",\"Hip hop\",\"Hip hop\",\"Hip hop\",\"Hip hop\",\"Hip hop\",\"Hip hop\",\"Hip hop\",\"Hip hop\",\"Hip hop\",\"Hip hop\",\"Hip hop\",\"Hip hop\",\"Hip hop\",\"Hip hop\",\"Hip hop\",\"Hip hop\",\"Hip hop\",\"Hip hop\",\"Hip hop\",\"Hip hop\",\"Hip hop\",\"Hip hop\",\"Hip hop\",\"Hip hop\",\"Jazz\",\"Jazz\",\"Jazz\",\"Jazz\",\"Jazz\",\"Jazz\",\"Jazz\",\"Jazz\",\"Jazz\",\"Jazz\",\"Jazz\",\"Jazz\",\"Jazz\",\"Jazz\",\"Jazz\",\"Jazz\",\"Jazz\",\"Jazz\",\"Jazz\",\"Jazz\",\"Jazz\",\"Jazz\",\"Jazz\",\"Jazz\",\"Jazz\",\"Jazz\",\"Jazz\",\"Jazz\",\"Jazz\",\"Jazz\",\"Jazz\",\"Jazz\",\"Jazz\",\"Jazz\",\"Jazz\",\"Jazz\",\"Jazz\",\"Jazz\",\"Jazz\",\"Jazz\",\"Jazz\",\"Jazz\",\"Jazz\",\"Jazz\",\"Jazz\",\"Jazz\",\"Jazz\",\"Jazz\",\"Jazz\",\"Jazz\",\"Jazz\",\"Jazz\",\"Jazz\",\"Jazz\",\"Jazz\",\"Jazz\",\"Jazz\",\"Jazz\",\"Jazz\",\"Jazz\",\"Jazz\",\"Jazz\",\"Jazz\",\"Jazz\",\"Jazz\",\"Jazz\",\"Jazz\",\"Jazz\",\"Jazz\",\"Jazz\",\"Jazz\",\"Jazz\",\"Jazz\",\"Jazz\",\"Jazz\",\"Jazz\",\"Jazz\",\"Jazz\",\"Jazz\",\"Jazz\",\"Jazz\",\"Jazz\",\"Jazz\",\"Jazz\",\"Jazz\",\"Jazz\",\"Jazz\",\"Jazz\",\"Jazz\",\"Jazz\",\"Jazz\",\"Jazz\",\"Jazz\",\"Jazz\",\"Jazz\",\"Jazz\",\"Jazz\",\"Jazz\",\"Jazz\",\"Jazz\",\"Jazz\",\"Jazz\",\"Jazz\",\"Jazz\",\"Jazz\",\"Jazz\",\"Jazz\",\"Jazz\",\"Jazz\",\"Jazz\",\"Jazz\",\"Jazz\",\"Jazz\",\"Jazz\",\"Jazz\",\"Jazz\",\"Jazz\",\"Jazz\",\"Jazz\",\"Jazz\",\"Jazz\",\"Jazz\",\"Jazz\",\"Jazz\",\"Jazz\",\"Jazz\",\"Jazz\",\"Jazz\",\"Jazz\",\"Jazz\",\"Jazz\",\"Jazz\",\"Jazz\",\"Jazz\",\"Jazz\",\"Jazz\",\"Jazz\",\"Jazz\",\"Jazz\",\"Jazz\",\"Jazz\",\"Jazz\",\"Jazz\",\"Jazz\",\"Jazz\",\"Jazz\",\"Jazz\",\"Jazz\",\"Jazz\",\"Jazz\",\"Jazz\",\"Jazz\",\"Jazz\",\"Jazz\",\"Jazz\",\"Jazz\",\"Jazz\",\"Jazz\",\"Jazz\",\"Jazz\",\"Jazz\",\"Jazz\",\"Jazz\",\"Jazz\",\"Jazz\",\"Jazz\",\"Jazz\",\"Jazz\",\"Jazz\",\"Jazz\",\"Jazz\",\"Jazz\",\"Jazz\",\"Jazz\",\"Jazz\",\"Jazz\",\"Jazz\",\"Jazz\",\"Jazz\",\"Jazz\",\"Jazz\",\"Jazz\",\"Jazz\",\"Jazz\",\"Jazz\",\"Jazz\",\"Jazz\",\"Jazz\",\"Jazz\",\"Jazz\",\"Jazz\",\"Jazz\",\"Jazz\",\"Jazz\",\"Jazz\",\"Jazz\",\"Jazz\",\"Jazz\",\"Jazz\",\"Jazz\",\"Jazz\",\"Jazz\",\"Jazz\",\"Jazz\",\"Jazz\",\"Jazz\",\"Jazz\",\"Jazz\",\"Jazz\",\"Jazz\",\"Jazz\",\"Jazz\",\"Jazz\",\"Jazz\",\"Jazz\",\"Jazz\",\"Jazz\",\"Jazz\",\"Jazz\",\"Jazz\",\"Jazz\",\"Jazz\",\"Jazz\",\"Jazz\",\"Jazz\",\"Jazz\",\"Jazz\",\"Jazz\",\"Jazz\",\"Jazz\",\"Jazz\",\"Jazz\",\"Jazz\",\"Jazz\",\"Jazz\",\"Jazz\",\"Jazz\",\"Jazz\",\"Jazz\",\"Jazz\",\"Jazz\",\"Jazz\",\"Jazz\",\"Jazz\",\"Jazz\",\"Jazz\",\"Jazz\",\"Jazz\",\"Jazz\",\"Jazz\",\"Jazz\",\"Jazz\",\"Jazz\",\"Jazz\",\"Jazz\",\"Jazz\",\"Jazz\",\"Jazz\",\"Jazz\",\"Jazz\",\"K pop\",\"K pop\",\"K pop\",\"K pop\",\"K pop\",\"K pop\",\"K pop\",\"K pop\",\"K pop\",\"K pop\",\"K pop\",\"K pop\",\"K pop\",\"K pop\",\"K pop\",\"K pop\",\"K pop\",\"K pop\",\"K pop\",\"K pop\",\"K pop\",\"K pop\",\"K pop\",\"K pop\",\"K pop\",\"K pop\",\"K pop\",\"K pop\",\"K pop\",\"K pop\",\"K pop\",\"K pop\",\"K pop\",\"K pop\",\"K pop\",\"K pop\",\"K pop\",\"K pop\",\"K pop\",\"K pop\",\"K pop\",\"K pop\",\"K pop\",\"K pop\",\"K pop\",\"K pop\",\"K pop\",\"K pop\",\"K pop\",\"K pop\",\"K pop\",\"K pop\",\"K pop\",\"K pop\",\"K pop\",\"K pop\",\"K pop\",\"K pop\",\"K pop\",\"K pop\",\"K pop\",\"K pop\",\"K pop\",\"K pop\",\"K pop\",\"K pop\",\"K pop\",\"K pop\",\"K pop\",\"K pop\",\"K pop\",\"K pop\",\"K pop\",\"K pop\",\"K pop\",\"K pop\",\"K pop\",\"K pop\",\"K pop\",\"K pop\",\"K pop\",\"K pop\",\"K pop\",\"K pop\",\"K pop\",\"K pop\",\"K pop\",\"K pop\",\"K pop\",\"K pop\",\"K pop\",\"K pop\",\"K pop\",\"K pop\",\"K pop\",\"K pop\",\"K pop\",\"K pop\",\"K pop\",\"K pop\",\"K pop\",\"K pop\",\"K pop\",\"K pop\",\"K pop\",\"K pop\",\"K pop\",\"K pop\",\"K pop\",\"K pop\",\"K pop\",\"K pop\",\"K pop\",\"K pop\",\"K pop\",\"K pop\",\"K pop\",\"K pop\",\"K pop\",\"K pop\",\"K pop\",\"K pop\",\"K pop\",\"K pop\",\"K pop\",\"K pop\",\"K pop\",\"K pop\",\"K pop\",\"K pop\",\"K pop\",\"K pop\",\"K pop\",\"K pop\",\"K pop\",\"K pop\",\"K pop\",\"K pop\",\"K pop\",\"K pop\",\"K pop\",\"K pop\",\"K pop\",\"K pop\",\"K pop\",\"K pop\",\"K pop\",\"K pop\",\"K pop\",\"K pop\",\"K pop\",\"K pop\",\"K pop\",\"K pop\",\"K pop\",\"K pop\",\"K pop\",\"K pop\",\"K pop\",\"K pop\",\"K pop\",\"K pop\",\"K pop\",\"K pop\",\"K pop\",\"K pop\",\"K pop\",\"K pop\",\"K pop\",\"K pop\",\"K pop\",\"K pop\",\"K pop\",\"K pop\",\"K pop\",\"K pop\",\"K pop\",\"K pop\",\"K pop\",\"K pop\",\"K pop\",\"K pop\",\"K pop\",\"K pop\",\"K pop\",\"K pop\",\"K pop\",\"K pop\",\"K pop\",\"K pop\",\"K pop\",\"K pop\",\"K pop\",\"K pop\",\"K pop\",\"K pop\",\"K pop\",\"K pop\",\"K pop\",\"K pop\",\"K pop\",\"K pop\",\"K pop\",\"K pop\",\"K pop\",\"K pop\",\"K pop\",\"K pop\",\"K pop\",\"K pop\",\"K pop\",\"K pop\",\"K pop\",\"K pop\",\"K pop\",\"K pop\",\"K pop\",\"K pop\",\"K pop\",\"K pop\",\"K pop\",\"K pop\",\"K pop\",\"K pop\",\"K pop\",\"K pop\",\"K pop\",\"K pop\",\"K pop\",\"K pop\",\"K pop\",\"K pop\",\"K pop\",\"K pop\",\"K pop\",\"K pop\",\"K pop\",\"K pop\",\"K pop\",\"K pop\",\"K pop\",\"K pop\",\"K pop\",\"K pop\",\"K pop\",\"K pop\",\"K pop\",\"K pop\",\"K pop\",\"K pop\",\"K pop\",\"K pop\",\"K pop\",\"K pop\",\"K pop\",\"K pop\",\"K pop\",\"K pop\",\"K pop\",\"K pop\",\"K pop\",\"K pop\",\"K pop\",\"K pop\",\"K pop\",\"K pop\",\"K pop\",\"K pop\",\"K pop\",\"K pop\",\"K pop\",\"K pop\",\"K pop\",\"K pop\",\"K pop\",\"K pop\",\"K pop\",\"K pop\",\"K pop\",\"K pop\",\"K pop\",\"K pop\",\"K pop\",\"K pop\",\"K pop\",\"K pop\",\"K pop\",\"K pop\",\"K pop\",\"K pop\",\"K pop\",\"K pop\",\"K pop\",\"K pop\",\"K pop\",\"K pop\",\"K pop\",\"K pop\",\"K pop\",\"K pop\",\"K pop\",\"K pop\",\"K pop\",\"K pop\",\"K pop\",\"K pop\",\"K pop\",\"K pop\",\"K pop\",\"K pop\",\"K pop\",\"K pop\",\"K pop\",\"K pop\",\"K pop\",\"K pop\",\"K pop\",\"K pop\",\"K pop\",\"K pop\",\"K pop\",\"K pop\",\"K pop\",\"K pop\",\"K pop\",\"K pop\",\"K pop\",\"K pop\",\"K pop\",\"K pop\",\"K pop\",\"K pop\",\"K pop\",\"K pop\",\"K pop\",\"K pop\",\"K pop\",\"K pop\",\"K pop\",\"K pop\",\"K pop\",\"K pop\",\"K pop\",\"K pop\",\"K pop\",\"K pop\",\"K pop\",\"K pop\",\"K pop\",\"K pop\",\"K pop\",\"K pop\",\"K pop\",\"K pop\",\"K pop\",\"K pop\",\"K pop\",\"K pop\",\"K pop\",\"K pop\",\"K pop\",\"K pop\",\"K pop\",\"K pop\",\"K pop\",\"K pop\",\"K pop\",\"K pop\",\"K pop\",\"K pop\",\"K pop\",\"K pop\",\"K pop\",\"K pop\",\"K pop\",\"K pop\",\"K pop\",\"K pop\",\"K pop\",\"K pop\",\"K pop\",\"K pop\",\"K pop\",\"K pop\",\"K pop\",\"K pop\",\"K pop\",\"K pop\",\"K pop\",\"K pop\",\"K pop\",\"K pop\",\"K pop\",\"K pop\",\"K pop\",\"K pop\",\"K pop\",\"K pop\",\"K pop\",\"K pop\",\"K pop\",\"K pop\",\"K pop\",\"K pop\",\"K pop\",\"K pop\",\"K pop\",\"K pop\",\"K pop\",\"K pop\",\"K pop\",\"K pop\",\"K pop\",\"K pop\",\"K pop\",\"K pop\",\"Latin\",\"Latin\",\"Latin\",\"Latin\",\"Latin\",\"Latin\",\"Latin\",\"Latin\",\"Latin\",\"Latin\",\"Latin\",\"Latin\",\"Latin\",\"Latin\",\"Latin\",\"Latin\",\"Latin\",\"Latin\",\"Latin\",\"Latin\",\"Latin\",\"Latin\",\"Latin\",\"Latin\",\"Latin\",\"Latin\",\"Latin\",\"Latin\",\"Latin\",\"Latin\",\"Latin\",\"Latin\",\"Latin\",\"Latin\",\"Latin\",\"Latin\",\"Latin\",\"Latin\",\"Latin\",\"Latin\",\"Latin\",\"Latin\",\"Latin\",\"Latin\",\"Latin\",\"Latin\",\"Latin\",\"Latin\",\"Latin\",\"Latin\",\"Latin\",\"Latin\",\"Latin\",\"Latin\",\"Latin\",\"Latin\",\"Latin\",\"Latin\",\"Latin\",\"Latin\",\"Latin\",\"Latin\",\"Latin\",\"Latin\",\"Latin\",\"Latin\",\"Latin\",\"Latin\",\"Latin\",\"Latin\",\"Latin\",\"Latin\",\"Latin\",\"Latin\",\"Latin\",\"Latin\",\"Latin\",\"Latin\",\"Latin\",\"Latin\",\"Latin\",\"Latin\",\"Latin\",\"Latin\",\"Latin\",\"Latin\",\"Latin\",\"Latin\",\"Latin\",\"Latin\",\"Latin\",\"Latin\",\"Latin\",\"Latin\",\"Latin\",\"Latin\",\"Latin\",\"Latin\",\"Latin\",\"Latin\",\"Latin\",\"Latin\",\"Latin\",\"Latin\",\"Latin\",\"Latin\",\"Latin\",\"Latin\",\"Latin\",\"Latin\",\"Latin\",\"Latin\",\"Latin\",\"Latin\",\"Latin\",\"Latin\",\"Latin\",\"Latin\",\"Latin\",\"Latin\",\"Latin\",\"Latin\",\"Latin\",\"Latin\",\"Latin\",\"Latin\",\"Latin\",\"Latin\",\"Latin\",\"Latin\",\"Latin\",\"Latin\",\"Latin\",\"Latin\",\"Latin\",\"Latin\",\"Latin\",\"Latin\",\"Latin\",\"Latin\",\"Latin\",\"Latin\",\"Latin\",\"Latin\",\"Latin\",\"Latin\",\"Latin\",\"Latin\",\"Latin\",\"Latin\",\"Latin\",\"Latin\",\"Latin\",\"Latin\",\"Latin\",\"Latin\",\"Latin\",\"Latin\",\"Latin\",\"Latin\",\"Latin\",\"Latin\",\"Latin\",\"Latin\",\"Latin\",\"Latin\",\"Latin\",\"Latin\",\"Latin\",\"Latin\",\"Latin\",\"Latin\",\"Latin\",\"Latin\",\"Latin\",\"Latin\",\"Latin\",\"Latin\",\"Latin\",\"Latin\",\"Latin\",\"Latin\",\"Latin\",\"Latin\",\"Latin\",\"Latin\",\"Latin\",\"Latin\",\"Latin\",\"Latin\",\"Latin\",\"Latin\",\"Latin\",\"Latin\",\"Latin\",\"Latin\",\"Latin\",\"Latin\",\"Latin\",\"Latin\",\"Latin\",\"Latin\",\"Latin\",\"Latin\",\"Latin\",\"Latin\",\"Latin\",\"Latin\",\"Latin\",\"Latin\",\"Latin\",\"Latin\",\"Latin\",\"Latin\",\"Latin\",\"Latin\",\"Latin\",\"Latin\",\"Latin\",\"Latin\",\"Latin\",\"Latin\",\"Latin\",\"Latin\",\"Latin\",\"Latin\",\"Latin\",\"Latin\",\"Latin\",\"Latin\",\"Latin\",\"Latin\",\"Latin\",\"Latin\",\"Latin\",\"Latin\",\"Latin\",\"Latin\",\"Latin\",\"Latin\",\"Latin\",\"Latin\",\"Latin\",\"Latin\",\"Latin\",\"Latin\",\"Latin\",\"Latin\",\"Latin\",\"Latin\",\"Latin\",\"Latin\",\"Latin\",\"Latin\",\"Latin\",\"Latin\",\"Latin\",\"Latin\",\"Latin\",\"Latin\",\"Latin\",\"Latin\",\"Latin\",\"Latin\",\"Latin\",\"Latin\",\"Latin\",\"Latin\",\"Latin\",\"Latin\",\"Latin\",\"Latin\",\"Latin\",\"Latin\",\"Latin\",\"Latin\",\"Latin\",\"Latin\",\"Latin\",\"Latin\",\"Latin\",\"Latin\",\"Latin\",\"Latin\",\"Latin\",\"Latin\",\"Latin\",\"Latin\",\"Latin\",\"Latin\",\"Latin\",\"Latin\",\"Latin\",\"Latin\",\"Latin\",\"Latin\",\"Latin\",\"Latin\",\"Latin\",\"Latin\",\"Latin\",\"Latin\",\"Latin\",\"Latin\",\"Latin\",\"Latin\",\"Latin\",\"Latin\",\"Latin\",\"Latin\",\"Latin\",\"Latin\",\"Latin\",\"Latin\",\"Latin\",\"Latin\",\"Latin\",\"Latin\",\"Latin\",\"Latin\",\"Latin\",\"Latin\",\"Latin\",\"Latin\",\"Latin\",\"Latin\",\"Latin\",\"Latin\",\"Latin\",\"Latin\",\"Latin\",\"Latin\",\"Latin\",\"Latin\",\"Latin\",\"Latin\",\"Latin\",\"Latin\",\"Latin\",\"Latin\",\"Latin\",\"Latin\",\"Latin\",\"Latin\",\"Latin\",\"Latin\",\"Latin\",\"Latin\",\"Latin\",\"Latin\",\"Latin\",\"Latin\",\"Latin\",\"Latin\",\"Latin\",\"Latin\",\"Latin\",\"Latin\",\"Latin\",\"Latin\",\"Latin\",\"Latin\",\"Latin\",\"Latin\",\"Latin\",\"Latin\",\"Latin\",\"Latin\",\"Latin\",\"Latin\",\"Latin\",\"Latin\",\"Latin\",\"Latin\",\"Latin\",\"Latin\",\"Latin\",\"Latin\",\"Latin\",\"Latin\",\"Latin\",\"Latin\",\"Latin\",\"Latin\",\"Latin\",\"Latin\",\"Latin\",\"Latin\",\"Latin\",\"Latin\",\"Latin\",\"Latin\",\"Latin\",\"Latin\",\"Latin\",\"Latin\",\"Latin\",\"Latin\",\"Latin\",\"Latin\",\"Latin\",\"Latin\",\"Latin\",\"Latin\",\"Latin\",\"Latin\",\"Latin\",\"Latin\",\"Latin\",\"Latin\",\"Latin\",\"Latin\",\"Latin\",\"Latin\",\"Latin\",\"Latin\",\"Latin\",\"Latin\",\"Latin\",\"Latin\",\"Latin\",\"Latin\",\"Latin\",\"Latin\",\"Latin\",\"Latin\",\"Latin\",\"Latin\",\"Latin\",\"Latin\",\"Latin\",\"Latin\",\"Latin\",\"Latin\",\"Latin\",\"Latin\",\"Latin\",\"Latin\",\"Latin\",\"Latin\",\"Latin\",\"Latin\",\"Lofi\",\"Lofi\",\"Lofi\",\"Lofi\",\"Lofi\",\"Lofi\",\"Lofi\",\"Lofi\",\"Lofi\",\"Lofi\",\"Lofi\",\"Lofi\",\"Lofi\",\"Lofi\",\"Lofi\",\"Lofi\",\"Lofi\",\"Lofi\",\"Lofi\",\"Lofi\",\"Lofi\",\"Lofi\",\"Lofi\",\"Lofi\",\"Lofi\",\"Lofi\",\"Lofi\",\"Lofi\",\"Lofi\",\"Lofi\",\"Lofi\",\"Lofi\",\"Lofi\",\"Lofi\",\"Lofi\",\"Lofi\",\"Lofi\",\"Lofi\",\"Lofi\",\"Lofi\",\"Lofi\",\"Lofi\",\"Lofi\",\"Lofi\",\"Lofi\",\"Lofi\",\"Lofi\",\"Lofi\",\"Lofi\",\"Lofi\",\"Lofi\",\"Lofi\",\"Lofi\",\"Lofi\",\"Lofi\",\"Lofi\",\"Lofi\",\"Lofi\",\"Lofi\",\"Lofi\",\"Lofi\",\"Lofi\",\"Lofi\",\"Lofi\",\"Lofi\",\"Lofi\",\"Lofi\",\"Lofi\",\"Lofi\",\"Lofi\",\"Lofi\",\"Lofi\",\"Lofi\",\"Lofi\",\"Lofi\",\"Lofi\",\"Lofi\",\"Lofi\",\"Lofi\",\"Lofi\",\"Lofi\",\"Lofi\",\"Lofi\",\"Lofi\",\"Lofi\",\"Lofi\",\"Lofi\",\"Lofi\",\"Lofi\",\"Lofi\",\"Lofi\",\"Lofi\",\"Lofi\",\"Lofi\",\"Lofi\",\"Lofi\",\"Lofi\",\"Lofi\",\"Lofi\",\"Lofi\",\"Lofi\",\"Lofi\",\"Lofi\",\"Lofi\",\"Lofi\",\"Lofi\",\"Lofi\",\"Lofi\",\"Lofi\",\"Lofi\",\"Lofi\",\"Lofi\",\"Lofi\",\"Lofi\",\"Lofi\",\"Lofi\",\"Lofi\",\"Lofi\",\"Lofi\",\"Lofi\",\"Lofi\",\"Lofi\",\"Lofi\",\"Lofi\",\"Lofi\",\"Lofi\",\"Lofi\",\"Lofi\",\"Lofi\",\"Lofi\",\"Lofi\",\"Lofi\",\"Lofi\",\"Lofi\",\"Lofi\",\"Lofi\",\"Lofi\",\"Lofi\",\"Lofi\",\"Lofi\",\"Lofi\",\"Lofi\",\"Lofi\",\"Lofi\",\"Lofi\",\"Lofi\",\"Lofi\",\"Lofi\",\"Lofi\",\"Lofi\",\"Lofi\",\"Lofi\",\"Lofi\",\"Lofi\",\"Lofi\",\"Lofi\",\"Lofi\",\"Lofi\",\"Lofi\",\"Lofi\",\"Lofi\",\"Lofi\",\"Lofi\",\"Lofi\",\"Lofi\",\"Lofi\",\"Lofi\",\"Lofi\",\"Lofi\",\"Lofi\",\"Lofi\",\"Lofi\",\"Lofi\",\"Lofi\",\"Lofi\",\"Lofi\",\"Lofi\",\"Lofi\",\"Lofi\",\"Lofi\",\"Lofi\",\"Lofi\",\"Lofi\",\"Lofi\",\"Lofi\",\"Lofi\",\"Lofi\",\"Lofi\",\"Lofi\",\"Lofi\",\"Lofi\",\"Lofi\",\"Lofi\",\"Lofi\",\"Lofi\",\"Lofi\",\"Lofi\",\"Lofi\",\"Lofi\",\"Lofi\",\"Lofi\",\"Lofi\",\"Lofi\",\"Lofi\",\"Lofi\",\"Lofi\",\"Lofi\",\"Lofi\",\"Lofi\",\"Lofi\",\"Lofi\",\"Lofi\",\"Lofi\",\"Lofi\",\"Lofi\",\"Lofi\",\"Lofi\",\"Lofi\",\"Lofi\",\"Lofi\",\"Lofi\",\"Lofi\",\"Lofi\",\"Lofi\",\"Lofi\",\"Lofi\",\"Lofi\",\"Lofi\",\"Lofi\",\"Lofi\",\"Lofi\",\"Lofi\",\"Lofi\",\"Lofi\",\"Lofi\",\"Lofi\",\"Lofi\",\"Lofi\",\"Lofi\",\"Lofi\",\"Lofi\",\"Lofi\",\"Lofi\",\"Lofi\",\"Lofi\",\"Lofi\",\"Lofi\",\"Lofi\",\"Lofi\",\"Lofi\",\"Lofi\",\"Lofi\",\"Lofi\",\"Lofi\",\"Lofi\",\"Lofi\",\"Lofi\",\"Lofi\",\"Lofi\",\"Lofi\",\"Lofi\",\"Lofi\",\"Lofi\",\"Lofi\",\"Lofi\",\"Lofi\",\"Lofi\",\"Lofi\",\"Lofi\",\"Lofi\",\"Lofi\",\"Lofi\",\"Lofi\",\"Lofi\",\"Lofi\",\"Lofi\",\"Lofi\",\"Lofi\",\"Lofi\",\"Lofi\",\"Metal\",\"Metal\",\"Metal\",\"Metal\",\"Metal\",\"Metal\",\"Metal\",\"Metal\",\"Metal\",\"Metal\",\"Metal\",\"Metal\",\"Metal\",\"Metal\",\"Metal\",\"Metal\",\"Metal\",\"Metal\",\"Metal\",\"Metal\",\"Metal\",\"Metal\",\"Metal\",\"Metal\",\"Metal\",\"Metal\",\"Metal\",\"Metal\",\"Metal\",\"Metal\",\"Metal\",\"Metal\",\"Metal\",\"Metal\",\"Metal\",\"Metal\",\"Metal\",\"Metal\",\"Metal\",\"Metal\",\"Metal\",\"Metal\",\"Metal\",\"Metal\",\"Metal\",\"Metal\",\"Metal\",\"Metal\",\"Metal\",\"Metal\",\"Metal\",\"Metal\",\"Metal\",\"Metal\",\"Metal\",\"Metal\",\"Metal\",\"Metal\",\"Metal\",\"Metal\",\"Metal\",\"Metal\",\"Metal\",\"Metal\",\"Metal\",\"Metal\",\"Metal\",\"Metal\",\"Metal\",\"Metal\",\"Metal\",\"Metal\",\"Metal\",\"Metal\",\"Metal\",\"Metal\",\"Metal\",\"Metal\",\"Metal\",\"Metal\",\"Metal\",\"Metal\",\"Metal\",\"Metal\",\"Metal\",\"Metal\",\"Metal\",\"Metal\",\"Metal\",\"Metal\",\"Metal\",\"Metal\",\"Metal\",\"Metal\",\"Metal\",\"Metal\",\"Metal\",\"Metal\",\"Metal\",\"Metal\",\"Metal\",\"Metal\",\"Metal\",\"Metal\",\"Metal\",\"Metal\",\"Metal\",\"Metal\",\"Metal\",\"Metal\",\"Metal\",\"Metal\",\"Metal\",\"Metal\",\"Metal\",\"Metal\",\"Metal\",\"Metal\",\"Metal\",\"Metal\",\"Metal\",\"Metal\",\"Metal\",\"Metal\",\"Metal\",\"Metal\",\"Metal\",\"Metal\",\"Metal\",\"Metal\",\"Metal\",\"Metal\",\"Metal\",\"Metal\",\"Metal\",\"Metal\",\"Metal\",\"Metal\",\"Metal\",\"Metal\",\"Metal\",\"Metal\",\"Metal\",\"Metal\",\"Metal\",\"Metal\",\"Metal\",\"Metal\",\"Metal\",\"Metal\",\"Metal\",\"Metal\",\"Metal\",\"Metal\",\"Metal\",\"Metal\",\"Metal\",\"Metal\",\"Metal\",\"Metal\",\"Metal\",\"Metal\",\"Metal\",\"Metal\",\"Metal\",\"Metal\",\"Metal\",\"Metal\",\"Metal\",\"Metal\",\"Metal\",\"Metal\",\"Metal\",\"Metal\",\"Metal\",\"Metal\",\"Metal\",\"Metal\",\"Metal\",\"Metal\",\"Metal\",\"Metal\",\"Metal\",\"Metal\",\"Metal\",\"Metal\",\"Metal\",\"Metal\",\"Metal\",\"Metal\",\"Metal\",\"Metal\",\"Metal\",\"Metal\",\"Metal\",\"Metal\",\"Metal\",\"Metal\",\"Metal\",\"Metal\",\"Metal\",\"Metal\",\"Metal\",\"Metal\",\"Metal\",\"Metal\",\"Metal\",\"Metal\",\"Metal\",\"Metal\",\"Metal\",\"Metal\",\"Metal\",\"Metal\",\"Metal\",\"Metal\",\"Metal\",\"Metal\",\"Metal\",\"Metal\",\"Metal\",\"Metal\",\"Metal\",\"Metal\",\"Metal\",\"Metal\",\"Metal\",\"Metal\",\"Metal\",\"Metal\",\"Metal\",\"Metal\",\"Metal\",\"Metal\",\"Metal\",\"Metal\",\"Metal\",\"Metal\",\"Metal\",\"Metal\",\"Metal\",\"Metal\",\"Metal\",\"Metal\",\"Metal\",\"Metal\",\"Metal\",\"Metal\",\"Metal\",\"Metal\",\"Metal\",\"Metal\",\"Metal\",\"Metal\",\"Metal\",\"Metal\",\"Metal\",\"Metal\",\"Metal\",\"Metal\",\"Metal\",\"Metal\",\"Metal\",\"Pop\",\"Pop\",\"Pop\",\"Pop\",\"Pop\",\"Pop\",\"Pop\",\"Pop\",\"Pop\",\"Pop\",\"Pop\",\"Pop\",\"Pop\",\"Pop\",\"Pop\",\"Pop\",\"Pop\",\"Pop\",\"Pop\",\"Pop\",\"Pop\",\"Pop\",\"Pop\",\"Pop\",\"Pop\",\"Pop\",\"Pop\",\"Pop\",\"Pop\",\"Pop\",\"Pop\",\"Pop\",\"Pop\",\"Pop\",\"Pop\",\"Pop\",\"Pop\",\"Pop\",\"Pop\",\"Pop\",\"Pop\",\"Pop\",\"Pop\",\"Pop\",\"Pop\",\"Pop\",\"Pop\",\"Pop\",\"Pop\",\"Pop\",\"Pop\",\"Pop\",\"Pop\",\"Pop\",\"Pop\",\"Pop\",\"R&B\",\"R&B\",\"R&B\",\"R&B\",\"R&B\",\"R&B\",\"R&B\",\"R&B\",\"R&B\",\"R&B\",\"R&B\",\"R&B\",\"R&B\",\"R&B\",\"R&B\",\"R&B\",\"R&B\",\"R&B\",\"R&B\",\"R&B\",\"R&B\",\"R&B\",\"R&B\",\"R&B\",\"R&B\",\"R&B\",\"R&B\",\"R&B\",\"R&B\",\"R&B\",\"R&B\",\"R&B\",\"R&B\",\"R&B\",\"R&B\",\"R&B\",\"R&B\",\"R&B\",\"R&B\",\"R&B\",\"R&B\",\"R&B\",\"R&B\",\"R&B\",\"R&B\",\"R&B\",\"R&B\",\"R&B\",\"R&B\",\"R&B\",\"R&B\",\"R&B\",\"R&B\",\"R&B\",\"R&B\",\"R&B\",\"R&B\",\"R&B\",\"R&B\",\"R&B\",\"R&B\",\"R&B\",\"R&B\",\"R&B\",\"R&B\",\"R&B\",\"R&B\",\"R&B\",\"R&B\",\"R&B\",\"R&B\",\"R&B\",\"R&B\",\"R&B\",\"R&B\",\"R&B\",\"R&B\",\"R&B\",\"R&B\",\"R&B\",\"R&B\",\"R&B\",\"R&B\",\"R&B\",\"R&B\",\"R&B\",\"R&B\",\"R&B\",\"R&B\",\"R&B\",\"R&B\",\"R&B\",\"R&B\",\"R&B\",\"R&B\",\"R&B\",\"R&B\",\"R&B\",\"R&B\",\"R&B\",\"R&B\",\"R&B\",\"R&B\",\"R&B\",\"R&B\",\"R&B\",\"R&B\",\"R&B\",\"R&B\",\"R&B\",\"R&B\",\"R&B\",\"R&B\",\"R&B\",\"R&B\",\"R&B\",\"R&B\",\"R&B\",\"R&B\",\"R&B\",\"R&B\",\"R&B\",\"R&B\",\"R&B\",\"R&B\",\"R&B\",\"R&B\",\"R&B\",\"R&B\",\"R&B\",\"R&B\",\"R&B\",\"R&B\",\"R&B\",\"R&B\",\"R&B\",\"R&B\",\"R&B\",\"R&B\",\"R&B\",\"R&B\",\"R&B\",\"R&B\",\"R&B\",\"R&B\",\"R&B\",\"R&B\",\"R&B\",\"R&B\",\"R&B\",\"R&B\",\"R&B\",\"R&B\",\"R&B\",\"R&B\",\"R&B\",\"R&B\",\"R&B\",\"R&B\",\"R&B\",\"R&B\",\"R&B\",\"R&B\",\"R&B\",\"R&B\",\"R&B\",\"R&B\",\"R&B\",\"R&B\",\"R&B\",\"R&B\",\"R&B\",\"R&B\",\"R&B\",\"R&B\",\"R&B\",\"R&B\",\"R&B\",\"R&B\",\"R&B\",\"R&B\",\"R&B\",\"R&B\",\"R&B\",\"R&B\",\"R&B\",\"R&B\",\"R&B\",\"R&B\",\"R&B\",\"R&B\",\"R&B\",\"R&B\",\"R&B\",\"R&B\",\"R&B\",\"R&B\",\"R&B\",\"R&B\",\"R&B\",\"R&B\",\"R&B\",\"R&B\",\"R&B\",\"R&B\",\"R&B\",\"R&B\",\"R&B\",\"R&B\",\"R&B\",\"R&B\",\"R&B\",\"R&B\",\"R&B\",\"R&B\",\"R&B\",\"R&B\",\"R&B\",\"R&B\",\"R&B\",\"R&B\",\"R&B\",\"R&B\",\"R&B\",\"R&B\",\"Rap\",\"Rap\",\"Rap\",\"Rap\",\"Rap\",\"Rap\",\"Rap\",\"Rap\",\"Rap\",\"Rap\",\"Rap\",\"Rap\",\"Rap\",\"Rap\",\"Rap\",\"Rap\",\"Rap\",\"Rap\",\"Rap\",\"Rap\",\"Rap\",\"Rap\",\"Rap\",\"Rap\",\"Rap\",\"Rap\",\"Rap\",\"Rap\",\"Rap\",\"Rap\",\"Rap\",\"Rap\",\"Rap\",\"Rap\",\"Rap\",\"Rap\",\"Rap\",\"Rap\",\"Rap\",\"Rap\",\"Rap\",\"Rap\",\"Rap\",\"Rap\",\"Rap\",\"Rap\",\"Rap\",\"Rap\",\"Rap\",\"Rap\",\"Rap\",\"Rap\",\"Rap\",\"Rap\",\"Rap\",\"Rap\",\"Rap\",\"Rap\",\"Rap\",\"Rap\",\"Rap\",\"Rap\",\"Rap\",\"Rap\",\"Rap\",\"Rap\",\"Rap\",\"Rap\",\"Rap\",\"Rap\",\"Rap\",\"Rap\",\"Rap\",\"Rap\",\"Rap\",\"Rap\",\"Rap\",\"Rap\",\"Rap\",\"Rap\",\"Rap\",\"Rap\",\"Rap\",\"Rap\",\"Rap\",\"Rap\",\"Rap\",\"Rap\",\"Rap\",\"Rap\",\"Rap\",\"Rap\",\"Rap\",\"Rap\",\"Rap\",\"Rap\",\"Rap\",\"Rap\",\"Rap\",\"Rap\",\"Rap\",\"Rap\",\"Rap\",\"Rap\",\"Rap\",\"Rap\",\"Rap\",\"Rap\",\"Rap\",\"Rap\",\"Rap\",\"Rap\",\"Rap\",\"Rap\",\"Rap\",\"Rap\",\"Rap\",\"Rap\",\"Rap\",\"Rap\",\"Rap\",\"Rap\",\"Rap\",\"Rap\",\"Rap\",\"Rap\",\"Rap\",\"Rap\",\"Rap\",\"Rap\",\"Rap\",\"Rap\",\"Rap\",\"Rap\",\"Rap\",\"Rap\",\"Rap\",\"Rap\",\"Rap\",\"Rap\",\"Rap\",\"Rap\",\"Rap\",\"Rap\",\"Rap\",\"Rap\",\"Rap\",\"Rap\",\"Rap\",\"Rap\",\"Rap\",\"Rap\",\"Rap\",\"Rap\",\"Rap\",\"Rap\",\"Rap\",\"Rap\",\"Rap\",\"Rap\",\"Rap\",\"Rap\",\"Rap\",\"Rap\",\"Rap\",\"Rap\",\"Rap\",\"Rap\",\"Rap\",\"Rap\",\"Rap\",\"Rap\",\"Rap\",\"Rap\",\"Rap\",\"Rap\",\"Rap\",\"Rap\",\"Rap\",\"Rap\",\"Rap\",\"Rap\",\"Rap\",\"Rap\",\"Rap\",\"Rap\",\"Rap\",\"Rap\",\"Rap\",\"Rap\",\"Rap\",\"Rap\",\"Rap\",\"Rap\",\"Rap\",\"Rap\",\"Rap\",\"Rap\",\"Rap\",\"Rap\",\"Rock\",\"Rock\",\"Rock\",\"Rock\",\"Rock\",\"Rock\",\"Rock\",\"Rock\",\"Rock\",\"Rock\",\"Rock\",\"Rock\",\"Rock\",\"Rock\",\"Rock\",\"Rock\",\"Rock\",\"Rock\",\"Rock\",\"Rock\",\"Rock\",\"Rock\",\"Rock\",\"Rock\",\"Rock\",\"Rock\",\"Rock\",\"Rock\",\"Rock\",\"Rock\",\"Rock\",\"Rock\",\"Rock\",\"Rock\",\"Rock\",\"Rock\",\"Rock\",\"Rock\",\"Rock\",\"Rock\",\"Rock\",\"Rock\",\"Rock\",\"Rock\",\"Rock\",\"Rock\",\"Rock\",\"Rock\",\"Rock\",\"Rock\",\"Rock\",\"Rock\",\"Rock\",\"Rock\",\"Rock\",\"Rock\",\"Rock\",\"Rock\",\"Rock\",\"Rock\",\"Rock\",\"Rock\",\"Rock\",\"Rock\",\"Rock\",\"Rock\",\"Rock\",\"Rock\",\"Rock\",\"Rock\",\"Rock\",\"Rock\",\"Rock\",\"Rock\",\"Rock\",\"Rock\",\"Rock\",\"Rock\",\"Rock\",\"Rock\",\"Rock\",\"Rock\",\"Rock\",\"Rock\",\"Rock\",\"Rock\",\"Rock\",\"Rock\",\"Rock\",\"Rock\",\"Rock\",\"Video game music\",\"Video game music\",\"Video game music\",\"Video game music\",\"Video game music\",\"Video game music\",\"Video game music\",\"Video game music\",\"Video game music\",\"Video game music\",\"Video game music\",\"Video game music\",\"Video game music\",\"Video game music\",\"Video game music\",\"Video game music\",\"Video game music\",\"Video game music\",\"Video game music\",\"Video game music\",\"Video game music\",\"Video game music\",\"Video game music\",\"Video game music\",\"Video game music\",\"Video game music\",\"Video game music\",\"Video game music\",\"Video game music\",\"Video game music\",\"Video game music\",\"Video game music\",\"Video game music\",\"Video game music\",\"Video game music\",\"Video game music\",\"Video game music\",\"Video game music\",\"Video game music\",\"Video game music\",\"Video game music\",\"Video game music\",\"Video game music\",\"Video game music\",\"Video game music\",\"Video game music\",\"Video game music\",\"Video game music\",\"Video game music\",\"Video game music\",\"Video game music\",\"Video game music\",\"Video game music\",\"Video game music\",\"Video game music\",\"Video game music\",\"Video game music\",\"Video game music\",\"Video game music\",\"Video game music\",\"Video game music\",\"Video game music\",\"Video game music\",\"Video game music\",\"Video game music\",\"Video game music\",\"Video game music\",\"Video game music\",\"Video game music\",\"Video game music\",\"Video game music\",\"Video game music\",\"Video game music\",\"Video game music\",\"Video game music\",\"Video game music\",\"Video game music\",\"Video game music\",\"Video game music\",\"Video game music\",\"Video game music\",\"Video game music\",\"Video game music\",\"Video game music\",\"Video game music\",\"Video game music\",\"Video game music\",\"Video game music\",\"Video game music\",\"Video game music\",\"Video game music\",\"Video game music\",\"Video game music\",\"Video game music\",\"Video game music\",\"Video game music\",\"Video game music\",\"Video game music\",\"Video game music\",\"Video game music\",\"Video game music\",\"Video game music\",\"Video game music\",\"Video game music\",\"Video game music\",\"Video game music\",\"Video game music\",\"Video game music\",\"Video game music\",\"Video game music\",\"Video game music\",\"Video game music\",\"Video game music\",\"Video game music\",\"Video game music\",\"Video game music\",\"Video game music\",\"Video game music\",\"Video game music\",\"Video game music\",\"Video game music\",\"Video game music\",\"Video game music\",\"Video game music\",\"Video game music\",\"Video game music\",\"Video game music\",\"Video game music\",\"Video game music\",\"Video game music\",\"Video game music\",\"Video game music\",\"Video game music\",\"Video game music\",\"Video game music\",\"Video game music\",\"Video game music\",\"Video game music\",\"Video game music\",\"Video game music\",\"Video game music\",\"Video game music\",\"Video game music\",\"Video game music\",\"Video game music\",\"Video game music\",\"Video game music\",\"Video game music\",\"Video game music\",\"Video game music\",\"Video game music\",\"Video game music\",\"Video game music\",\"Video game music\",\"Video game music\",\"Video game music\",\"Video game music\",\"Video game music\",\"Video game music\",\"Video game music\",\"Video game music\",\"Video game music\",\"Video game music\",\"Video game music\",\"Video game music\",\"Video game music\",\"Video game music\",\"Video game music\",\"Video game music\",\"Video game music\",\"Video game music\",\"Video game music\",\"Video game music\",\"Video game music\",\"Video game music\",\"Video game music\",\"Video game music\",\"Video game music\",\"Video game music\",\"Video game music\",\"Video game music\",\"Video game music\",\"Video game music\",\"Video game music\",\"Video game music\",\"Video game music\",\"Video game music\",\"Video game music\",\"Video game music\",\"Video game music\",\"Video game music\",\"Video game music\",\"Video game music\",\"Video game music\",\"Video game music\",\"Video game music\",\"Video game music\",\"Video game music\",\"Video game music\",\"Video game music\",\"Video game music\",\"Video game music\",\"Video game music\",\"Video game music\",\"Video game music\",\"Video game music\",\"Video game music\",\"Video game music\",\"Video game music\",\"Video game music\",\"Video game music\",\"Video game music\",\"Video game music\",\"Video game music\",\"Video game music\",\"Video game music\",\"Video game music\",\"Video game music\",\"Video game music\",\"Video game music\",\"Video game music\",\"Video game music\",\"Video game music\",\"Video game music\",\"Video game music\",\"Video game music\",\"Video game music\",\"Video game music\",\"Video game music\",\"Video game music\",\"Video game music\",\"Video game music\",\"Video game music\",\"Video game music\",\"Video game music\"],\"xaxis\":\"x\",\"yaxis\":\"y\",\"type\":\"histogram\"},{\"alignmentgroup\":\"True\",\"bingroup\":\"x\",\"hovertemplate\":\"frequency=Very frequently\\u003cbr\\u003egenre=%{x}\\u003cbr\\u003ecount=%{y}\\u003cextra\\u003e\\u003c\\u002fextra\\u003e\",\"legendgroup\":\"Very frequently\",\"marker\":{\"color\":\"#ab63fa\",\"pattern\":{\"shape\":\"\"}},\"name\":\"Very frequently\",\"offsetgroup\":\"Very frequently\",\"orientation\":\"v\",\"showlegend\":true,\"x\":[\"Classical\",\"Classical\",\"Classical\",\"Classical\",\"Classical\",\"Classical\",\"Classical\",\"Classical\",\"Classical\",\"Classical\",\"Classical\",\"Classical\",\"Classical\",\"Classical\",\"Classical\",\"Classical\",\"Classical\",\"Classical\",\"Classical\",\"Classical\",\"Classical\",\"Classical\",\"Classical\",\"Classical\",\"Classical\",\"Classical\",\"Classical\",\"Classical\",\"Classical\",\"Classical\",\"Classical\",\"Classical\",\"Classical\",\"Classical\",\"Classical\",\"Classical\",\"Classical\",\"Classical\",\"Classical\",\"Classical\",\"Classical\",\"Classical\",\"Classical\",\"Classical\",\"Classical\",\"Classical\",\"Classical\",\"Classical\",\"Classical\",\"Classical\",\"Classical\",\"Classical\",\"Classical\",\"Classical\",\"Classical\",\"Classical\",\"Classical\",\"Classical\",\"Classical\",\"Classical\",\"Classical\",\"Classical\",\"Classical\",\"Classical\",\"Classical\",\"Classical\",\"Classical\",\"Classical\",\"Classical\",\"Classical\",\"Classical\",\"Classical\",\"Classical\",\"Classical\",\"Classical\",\"Classical\",\"Classical\",\"Classical\",\"Classical\",\"Classical\",\"Classical\",\"Classical\",\"Classical\",\"Classical\",\"Classical\",\"Classical\",\"Classical\",\"Classical\",\"Classical\",\"Classical\",\"Classical\",\"Classical\",\"Classical\",\"Classical\",\"Classical\",\"Classical\",\"Classical\",\"Classical\",\"Classical\",\"Classical\",\"Classical\",\"Classical\",\"Classical\",\"Classical\",\"Classical\",\"Classical\",\"Classical\",\"Classical\",\"Country\",\"Country\",\"Country\",\"Country\",\"Country\",\"Country\",\"Country\",\"Country\",\"Country\",\"Country\",\"Country\",\"Country\",\"Country\",\"Country\",\"Country\",\"Country\",\"Country\",\"Country\",\"Country\",\"Country\",\"Country\",\"Country\",\"Country\",\"Country\",\"Country\",\"Country\",\"Country\",\"Country\",\"Country\",\"Country\",\"Country\",\"Country\",\"Country\",\"Country\",\"Country\",\"Country\",\"Country\",\"Country\",\"Country\",\"Country\",\"Country\",\"Country\",\"Country\",\"Country\",\"Country\",\"Country\",\"Country\",\"Country\",\"Country\",\"EDM\",\"EDM\",\"EDM\",\"EDM\",\"EDM\",\"EDM\",\"EDM\",\"EDM\",\"EDM\",\"EDM\",\"EDM\",\"EDM\",\"EDM\",\"EDM\",\"EDM\",\"EDM\",\"EDM\",\"EDM\",\"EDM\",\"EDM\",\"EDM\",\"EDM\",\"EDM\",\"EDM\",\"EDM\",\"EDM\",\"EDM\",\"EDM\",\"EDM\",\"EDM\",\"EDM\",\"EDM\",\"EDM\",\"EDM\",\"EDM\",\"EDM\",\"EDM\",\"EDM\",\"EDM\",\"EDM\",\"EDM\",\"EDM\",\"EDM\",\"EDM\",\"EDM\",\"EDM\",\"EDM\",\"EDM\",\"EDM\",\"EDM\",\"EDM\",\"EDM\",\"EDM\",\"EDM\",\"EDM\",\"EDM\",\"EDM\",\"EDM\",\"EDM\",\"EDM\",\"EDM\",\"EDM\",\"EDM\",\"EDM\",\"EDM\",\"EDM\",\"EDM\",\"EDM\",\"EDM\",\"EDM\",\"EDM\",\"EDM\",\"EDM\",\"EDM\",\"EDM\",\"EDM\",\"EDM\",\"EDM\",\"EDM\",\"EDM\",\"EDM\",\"EDM\",\"EDM\",\"EDM\",\"EDM\",\"EDM\",\"EDM\",\"EDM\",\"EDM\",\"Folk\",\"Folk\",\"Folk\",\"Folk\",\"Folk\",\"Folk\",\"Folk\",\"Folk\",\"Folk\",\"Folk\",\"Folk\",\"Folk\",\"Folk\",\"Folk\",\"Folk\",\"Folk\",\"Folk\",\"Folk\",\"Folk\",\"Folk\",\"Folk\",\"Folk\",\"Folk\",\"Folk\",\"Folk\",\"Folk\",\"Folk\",\"Folk\",\"Folk\",\"Folk\",\"Folk\",\"Folk\",\"Folk\",\"Folk\",\"Folk\",\"Folk\",\"Folk\",\"Folk\",\"Folk\",\"Folk\",\"Folk\",\"Folk\",\"Folk\",\"Folk\",\"Folk\",\"Folk\",\"Folk\",\"Folk\",\"Folk\",\"Folk\",\"Folk\",\"Folk\",\"Folk\",\"Folk\",\"Folk\",\"Folk\",\"Folk\",\"Folk\",\"Folk\",\"Folk\",\"Folk\",\"Folk\",\"Folk\",\"Folk\",\"Folk\",\"Folk\",\"Folk\",\"Folk\",\"Folk\",\"Folk\",\"Folk\",\"Folk\",\"Folk\",\"Folk\",\"Folk\",\"Folk\",\"Folk\",\"Folk\",\"Gospel\",\"Gospel\",\"Gospel\",\"Gospel\",\"Gospel\",\"Gospel\",\"Gospel\",\"Gospel\",\"Gospel\",\"Gospel\",\"Gospel\",\"Gospel\",\"Gospel\",\"Gospel\",\"Hip hop\",\"Hip hop\",\"Hip hop\",\"Hip hop\",\"Hip hop\",\"Hip hop\",\"Hip hop\",\"Hip hop\",\"Hip hop\",\"Hip hop\",\"Hip hop\",\"Hip hop\",\"Hip hop\",\"Hip hop\",\"Hip hop\",\"Hip hop\",\"Hip hop\",\"Hip hop\",\"Hip hop\",\"Hip hop\",\"Hip hop\",\"Hip hop\",\"Hip hop\",\"Hip hop\",\"Hip hop\",\"Hip hop\",\"Hip hop\",\"Hip hop\",\"Hip hop\",\"Hip hop\",\"Hip hop\",\"Hip hop\",\"Hip hop\",\"Hip hop\",\"Hip hop\",\"Hip hop\",\"Hip hop\",\"Hip hop\",\"Hip hop\",\"Hip hop\",\"Hip hop\",\"Hip hop\",\"Hip hop\",\"Hip hop\",\"Hip hop\",\"Hip hop\",\"Hip hop\",\"Hip hop\",\"Hip hop\",\"Hip hop\",\"Hip hop\",\"Hip hop\",\"Hip hop\",\"Hip hop\",\"Hip hop\",\"Hip hop\",\"Hip hop\",\"Hip hop\",\"Hip hop\",\"Hip hop\",\"Hip hop\",\"Hip hop\",\"Hip hop\",\"Hip hop\",\"Hip hop\",\"Hip hop\",\"Hip hop\",\"Hip hop\",\"Hip hop\",\"Hip hop\",\"Hip hop\",\"Hip hop\",\"Hip hop\",\"Hip hop\",\"Hip hop\",\"Hip hop\",\"Hip hop\",\"Hip hop\",\"Hip hop\",\"Hip hop\",\"Hip hop\",\"Hip hop\",\"Hip hop\",\"Hip hop\",\"Hip hop\",\"Hip hop\",\"Hip hop\",\"Hip hop\",\"Hip hop\",\"Hip hop\",\"Hip hop\",\"Hip hop\",\"Hip hop\",\"Hip hop\",\"Hip hop\",\"Hip hop\",\"Hip hop\",\"Hip hop\",\"Hip hop\",\"Hip hop\",\"Hip hop\",\"Hip hop\",\"Hip hop\",\"Hip hop\",\"Hip hop\",\"Hip hop\",\"Hip hop\",\"Hip hop\",\"Hip hop\",\"Hip hop\",\"Hip hop\",\"Hip hop\",\"Hip hop\",\"Hip hop\",\"Hip hop\",\"Hip hop\",\"Hip hop\",\"Hip hop\",\"Hip hop\",\"Hip hop\",\"Hip hop\",\"Hip hop\",\"Jazz\",\"Jazz\",\"Jazz\",\"Jazz\",\"Jazz\",\"Jazz\",\"Jazz\",\"Jazz\",\"Jazz\",\"Jazz\",\"Jazz\",\"Jazz\",\"Jazz\",\"Jazz\",\"Jazz\",\"Jazz\",\"Jazz\",\"Jazz\",\"Jazz\",\"Jazz\",\"Jazz\",\"Jazz\",\"Jazz\",\"Jazz\",\"Jazz\",\"Jazz\",\"Jazz\",\"Jazz\",\"Jazz\",\"Jazz\",\"Jazz\",\"Jazz\",\"Jazz\",\"Jazz\",\"Jazz\",\"Jazz\",\"Jazz\",\"Jazz\",\"Jazz\",\"Jazz\",\"Jazz\",\"Jazz\",\"Jazz\",\"Jazz\",\"Jazz\",\"Jazz\",\"Jazz\",\"Jazz\",\"Jazz\",\"Jazz\",\"Jazz\",\"Jazz\",\"Jazz\",\"K pop\",\"K pop\",\"K pop\",\"K pop\",\"K pop\",\"K pop\",\"K pop\",\"K pop\",\"K pop\",\"K pop\",\"K pop\",\"K pop\",\"K pop\",\"K pop\",\"K pop\",\"K pop\",\"K pop\",\"K pop\",\"K pop\",\"K pop\",\"K pop\",\"K pop\",\"K pop\",\"K pop\",\"K pop\",\"K pop\",\"K pop\",\"K pop\",\"K pop\",\"K pop\",\"K pop\",\"K pop\",\"K pop\",\"K pop\",\"K pop\",\"K pop\",\"K pop\",\"K pop\",\"K pop\",\"K pop\",\"K pop\",\"K pop\",\"K pop\",\"K pop\",\"K pop\",\"K pop\",\"K pop\",\"K pop\",\"K pop\",\"K pop\",\"K pop\",\"K pop\",\"K pop\",\"K pop\",\"K pop\",\"K pop\",\"K pop\",\"K pop\",\"K pop\",\"K pop\",\"K pop\",\"K pop\",\"K pop\",\"K pop\",\"K pop\",\"K pop\",\"K pop\",\"K pop\",\"K pop\",\"K pop\",\"K pop\",\"K pop\",\"K pop\",\"K pop\",\"K pop\",\"K pop\",\"K pop\",\"Latin\",\"Latin\",\"Latin\",\"Latin\",\"Latin\",\"Latin\",\"Latin\",\"Latin\",\"Latin\",\"Latin\",\"Latin\",\"Latin\",\"Latin\",\"Latin\",\"Latin\",\"Latin\",\"Latin\",\"Latin\",\"Latin\",\"Latin\",\"Latin\",\"Latin\",\"Latin\",\"Latin\",\"Latin\",\"Latin\",\"Latin\",\"Latin\",\"Latin\",\"Latin\",\"Latin\",\"Latin\",\"Latin\",\"Lofi\",\"Lofi\",\"Lofi\",\"Lofi\",\"Lofi\",\"Lofi\",\"Lofi\",\"Lofi\",\"Lofi\",\"Lofi\",\"Lofi\",\"Lofi\",\"Lofi\",\"Lofi\",\"Lofi\",\"Lofi\",\"Lofi\",\"Lofi\",\"Lofi\",\"Lofi\",\"Lofi\",\"Lofi\",\"Lofi\",\"Lofi\",\"Lofi\",\"Lofi\",\"Lofi\",\"Lofi\",\"Lofi\",\"Lofi\",\"Lofi\",\"Lofi\",\"Lofi\",\"Lofi\",\"Lofi\",\"Lofi\",\"Lofi\",\"Lofi\",\"Lofi\",\"Lofi\",\"Lofi\",\"Lofi\",\"Lofi\",\"Lofi\",\"Lofi\",\"Lofi\",\"Lofi\",\"Lofi\",\"Lofi\",\"Lofi\",\"Lofi\",\"Lofi\",\"Lofi\",\"Lofi\",\"Lofi\",\"Lofi\",\"Lofi\",\"Lofi\",\"Lofi\",\"Lofi\",\"Lofi\",\"Lofi\",\"Lofi\",\"Lofi\",\"Lofi\",\"Lofi\",\"Lofi\",\"Lofi\",\"Lofi\",\"Lofi\",\"Lofi\",\"Lofi\",\"Lofi\",\"Lofi\",\"Lofi\",\"Lofi\",\"Lofi\",\"Lofi\",\"Lofi\",\"Lofi\",\"Lofi\",\"Lofi\",\"Lofi\",\"Lofi\",\"Metal\",\"Metal\",\"Metal\",\"Metal\",\"Metal\",\"Metal\",\"Metal\",\"Metal\",\"Metal\",\"Metal\",\"Metal\",\"Metal\",\"Metal\",\"Metal\",\"Metal\",\"Metal\",\"Metal\",\"Metal\",\"Metal\",\"Metal\",\"Metal\",\"Metal\",\"Metal\",\"Metal\",\"Metal\",\"Metal\",\"Metal\",\"Metal\",\"Metal\",\"Metal\",\"Metal\",\"Metal\",\"Metal\",\"Metal\",\"Metal\",\"Metal\",\"Metal\",\"Metal\",\"Metal\",\"Metal\",\"Metal\",\"Metal\",\"Metal\",\"Metal\",\"Metal\",\"Metal\",\"Metal\",\"Metal\",\"Metal\",\"Metal\",\"Metal\",\"Metal\",\"Metal\",\"Metal\",\"Metal\",\"Metal\",\"Metal\",\"Metal\",\"Metal\",\"Metal\",\"Metal\",\"Metal\",\"Metal\",\"Metal\",\"Metal\",\"Metal\",\"Metal\",\"Metal\",\"Metal\",\"Metal\",\"Metal\",\"Metal\",\"Metal\",\"Metal\",\"Metal\",\"Metal\",\"Metal\",\"Metal\",\"Metal\",\"Metal\",\"Metal\",\"Metal\",\"Metal\",\"Metal\",\"Metal\",\"Metal\",\"Metal\",\"Metal\",\"Metal\",\"Metal\",\"Metal\",\"Metal\",\"Metal\",\"Metal\",\"Metal\",\"Metal\",\"Metal\",\"Metal\",\"Metal\",\"Metal\",\"Metal\",\"Metal\",\"Metal\",\"Metal\",\"Metal\",\"Metal\",\"Metal\",\"Metal\",\"Metal\",\"Metal\",\"Metal\",\"Metal\",\"Metal\",\"Metal\",\"Metal\",\"Metal\",\"Metal\",\"Metal\",\"Metal\",\"Metal\",\"Metal\",\"Metal\",\"Metal\",\"Metal\",\"Metal\",\"Metal\",\"Metal\",\"Metal\",\"Metal\",\"Metal\",\"Metal\",\"Metal\",\"Metal\",\"Metal\",\"Metal\",\"Metal\",\"Metal\",\"Metal\",\"Metal\",\"Metal\",\"Metal\",\"Metal\",\"Metal\",\"Metal\",\"Metal\",\"Metal\",\"Pop\",\"Pop\",\"Pop\",\"Pop\",\"Pop\",\"Pop\",\"Pop\",\"Pop\",\"Pop\",\"Pop\",\"Pop\",\"Pop\",\"Pop\",\"Pop\",\"Pop\",\"Pop\",\"Pop\",\"Pop\",\"Pop\",\"Pop\",\"Pop\",\"Pop\",\"Pop\",\"Pop\",\"Pop\",\"Pop\",\"Pop\",\"Pop\",\"Pop\",\"Pop\",\"Pop\",\"Pop\",\"Pop\",\"Pop\",\"Pop\",\"Pop\",\"Pop\",\"Pop\",\"Pop\",\"Pop\",\"Pop\",\"Pop\",\"Pop\",\"Pop\",\"Pop\",\"Pop\",\"Pop\",\"Pop\",\"Pop\",\"Pop\",\"Pop\",\"Pop\",\"Pop\",\"Pop\",\"Pop\",\"Pop\",\"Pop\",\"Pop\",\"Pop\",\"Pop\",\"Pop\",\"Pop\",\"Pop\",\"Pop\",\"Pop\",\"Pop\",\"Pop\",\"Pop\",\"Pop\",\"Pop\",\"Pop\",\"Pop\",\"Pop\",\"Pop\",\"Pop\",\"Pop\",\"Pop\",\"Pop\",\"Pop\",\"Pop\",\"Pop\",\"Pop\",\"Pop\",\"Pop\",\"Pop\",\"Pop\",\"Pop\",\"Pop\",\"Pop\",\"Pop\",\"Pop\",\"Pop\",\"Pop\",\"Pop\",\"Pop\",\"Pop\",\"Pop\",\"Pop\",\"Pop\",\"Pop\",\"Pop\",\"Pop\",\"Pop\",\"Pop\",\"Pop\",\"Pop\",\"Pop\",\"Pop\",\"Pop\",\"Pop\",\"Pop\",\"Pop\",\"Pop\",\"Pop\",\"Pop\",\"Pop\",\"Pop\",\"Pop\",\"Pop\",\"Pop\",\"Pop\",\"Pop\",\"Pop\",\"Pop\",\"Pop\",\"Pop\",\"Pop\",\"Pop\",\"Pop\",\"Pop\",\"Pop\",\"Pop\",\"Pop\",\"Pop\",\"Pop\",\"Pop\",\"Pop\",\"Pop\",\"Pop\",\"Pop\",\"Pop\",\"Pop\",\"Pop\",\"Pop\",\"Pop\",\"Pop\",\"Pop\",\"Pop\",\"Pop\",\"Pop\",\"Pop\",\"Pop\",\"Pop\",\"Pop\",\"Pop\",\"Pop\",\"Pop\",\"Pop\",\"Pop\",\"Pop\",\"Pop\",\"Pop\",\"Pop\",\"Pop\",\"Pop\",\"Pop\",\"Pop\",\"Pop\",\"Pop\",\"Pop\",\"Pop\",\"Pop\",\"Pop\",\"Pop\",\"Pop\",\"Pop\",\"Pop\",\"Pop\",\"Pop\",\"Pop\",\"Pop\",\"Pop\",\"Pop\",\"Pop\",\"Pop\",\"Pop\",\"Pop\",\"Pop\",\"Pop\",\"Pop\",\"Pop\",\"Pop\",\"Pop\",\"Pop\",\"Pop\",\"Pop\",\"Pop\",\"Pop\",\"Pop\",\"Pop\",\"Pop\",\"Pop\",\"Pop\",\"Pop\",\"Pop\",\"Pop\",\"Pop\",\"Pop\",\"Pop\",\"Pop\",\"Pop\",\"Pop\",\"Pop\",\"Pop\",\"Pop\",\"Pop\",\"Pop\",\"Pop\",\"Pop\",\"Pop\",\"Pop\",\"Pop\",\"Pop\",\"Pop\",\"Pop\",\"Pop\",\"Pop\",\"Pop\",\"Pop\",\"Pop\",\"Pop\",\"Pop\",\"Pop\",\"Pop\",\"Pop\",\"Pop\",\"Pop\",\"Pop\",\"Pop\",\"Pop\",\"Pop\",\"Pop\",\"Pop\",\"Pop\",\"Pop\",\"Pop\",\"Pop\",\"Pop\",\"Pop\",\"Pop\",\"Pop\",\"Pop\",\"Pop\",\"Pop\",\"Pop\",\"Pop\",\"Pop\",\"Pop\",\"Pop\",\"Pop\",\"Pop\",\"Pop\",\"Pop\",\"Pop\",\"Pop\",\"Pop\",\"Pop\",\"Pop\",\"Pop\",\"Pop\",\"Pop\",\"Pop\",\"Pop\",\"Pop\",\"Pop\",\"Pop\",\"Pop\",\"R&B\",\"R&B\",\"R&B\",\"R&B\",\"R&B\",\"R&B\",\"R&B\",\"R&B\",\"R&B\",\"R&B\",\"R&B\",\"R&B\",\"R&B\",\"R&B\",\"R&B\",\"R&B\",\"R&B\",\"R&B\",\"R&B\",\"R&B\",\"R&B\",\"R&B\",\"R&B\",\"R&B\",\"R&B\",\"R&B\",\"R&B\",\"R&B\",\"R&B\",\"R&B\",\"R&B\",\"R&B\",\"R&B\",\"R&B\",\"R&B\",\"R&B\",\"R&B\",\"R&B\",\"R&B\",\"R&B\",\"R&B\",\"R&B\",\"R&B\",\"R&B\",\"R&B\",\"R&B\",\"R&B\",\"R&B\",\"R&B\",\"R&B\",\"R&B\",\"R&B\",\"R&B\",\"R&B\",\"R&B\",\"R&B\",\"R&B\",\"R&B\",\"R&B\",\"R&B\",\"R&B\",\"R&B\",\"R&B\",\"R&B\",\"R&B\",\"R&B\",\"R&B\",\"R&B\",\"R&B\",\"R&B\",\"R&B\",\"R&B\",\"R&B\",\"R&B\",\"R&B\",\"R&B\",\"R&B\",\"R&B\",\"R&B\",\"R&B\",\"R&B\",\"R&B\",\"R&B\",\"R&B\",\"R&B\",\"R&B\",\"R&B\",\"R&B\",\"R&B\",\"R&B\",\"R&B\",\"R&B\",\"R&B\",\"R&B\",\"R&B\",\"R&B\",\"R&B\",\"R&B\",\"R&B\",\"R&B\",\"R&B\",\"R&B\",\"R&B\",\"R&B\",\"R&B\",\"R&B\",\"R&B\",\"R&B\",\"R&B\",\"R&B\",\"R&B\",\"R&B\",\"R&B\",\"R&B\",\"R&B\",\"R&B\",\"Rap\",\"Rap\",\"Rap\",\"Rap\",\"Rap\",\"Rap\",\"Rap\",\"Rap\",\"Rap\",\"Rap\",\"Rap\",\"Rap\",\"Rap\",\"Rap\",\"Rap\",\"Rap\",\"Rap\",\"Rap\",\"Rap\",\"Rap\",\"Rap\",\"Rap\",\"Rap\",\"Rap\",\"Rap\",\"Rap\",\"Rap\",\"Rap\",\"Rap\",\"Rap\",\"Rap\",\"Rap\",\"Rap\",\"Rap\",\"Rap\",\"Rap\",\"Rap\",\"Rap\",\"Rap\",\"Rap\",\"Rap\",\"Rap\",\"Rap\",\"Rap\",\"Rap\",\"Rap\",\"Rap\",\"Rap\",\"Rap\",\"Rap\",\"Rap\",\"Rap\",\"Rap\",\"Rap\",\"Rap\",\"Rap\",\"Rap\",\"Rap\",\"Rap\",\"Rap\",\"Rap\",\"Rap\",\"Rap\",\"Rap\",\"Rap\",\"Rap\",\"Rap\",\"Rap\",\"Rap\",\"Rap\",\"Rap\",\"Rap\",\"Rap\",\"Rap\",\"Rap\",\"Rap\",\"Rap\",\"Rap\",\"Rap\",\"Rap\",\"Rap\",\"Rap\",\"Rap\",\"Rap\",\"Rap\",\"Rap\",\"Rap\",\"Rap\",\"Rap\",\"Rap\",\"Rap\",\"Rap\",\"Rap\",\"Rap\",\"Rap\",\"Rap\",\"Rap\",\"Rap\",\"Rap\",\"Rap\",\"Rap\",\"Rap\",\"Rap\",\"Rap\",\"Rap\",\"Rap\",\"Rap\",\"Rap\",\"Rap\",\"Rap\",\"Rap\",\"Rap\",\"Rap\",\"Rap\",\"Rap\",\"Rap\",\"Rap\",\"Rap\",\"Rap\",\"Rap\",\"Rap\",\"Rap\",\"Rap\",\"Rap\",\"Rap\",\"Rap\",\"Rock\",\"Rock\",\"Rock\",\"Rock\",\"Rock\",\"Rock\",\"Rock\",\"Rock\",\"Rock\",\"Rock\",\"Rock\",\"Rock\",\"Rock\",\"Rock\",\"Rock\",\"Rock\",\"Rock\",\"Rock\",\"Rock\",\"Rock\",\"Rock\",\"Rock\",\"Rock\",\"Rock\",\"Rock\",\"Rock\",\"Rock\",\"Rock\",\"Rock\",\"Rock\",\"Rock\",\"Rock\",\"Rock\",\"Rock\",\"Rock\",\"Rock\",\"Rock\",\"Rock\",\"Rock\",\"Rock\",\"Rock\",\"Rock\",\"Rock\",\"Rock\",\"Rock\",\"Rock\",\"Rock\",\"Rock\",\"Rock\",\"Rock\",\"Rock\",\"Rock\",\"Rock\",\"Rock\",\"Rock\",\"Rock\",\"Rock\",\"Rock\",\"Rock\",\"Rock\",\"Rock\",\"Rock\",\"Rock\",\"Rock\",\"Rock\",\"Rock\",\"Rock\",\"Rock\",\"Rock\",\"Rock\",\"Rock\",\"Rock\",\"Rock\",\"Rock\",\"Rock\",\"Rock\",\"Rock\",\"Rock\",\"Rock\",\"Rock\",\"Rock\",\"Rock\",\"Rock\",\"Rock\",\"Rock\",\"Rock\",\"Rock\",\"Rock\",\"Rock\",\"Rock\",\"Rock\",\"Rock\",\"Rock\",\"Rock\",\"Rock\",\"Rock\",\"Rock\",\"Rock\",\"Rock\",\"Rock\",\"Rock\",\"Rock\",\"Rock\",\"Rock\",\"Rock\",\"Rock\",\"Rock\",\"Rock\",\"Rock\",\"Rock\",\"Rock\",\"Rock\",\"Rock\",\"Rock\",\"Rock\",\"Rock\",\"Rock\",\"Rock\",\"Rock\",\"Rock\",\"Rock\",\"Rock\",\"Rock\",\"Rock\",\"Rock\",\"Rock\",\"Rock\",\"Rock\",\"Rock\",\"Rock\",\"Rock\",\"Rock\",\"Rock\",\"Rock\",\"Rock\",\"Rock\",\"Rock\",\"Rock\",\"Rock\",\"Rock\",\"Rock\",\"Rock\",\"Rock\",\"Rock\",\"Rock\",\"Rock\",\"Rock\",\"Rock\",\"Rock\",\"Rock\",\"Rock\",\"Rock\",\"Rock\",\"Rock\",\"Rock\",\"Rock\",\"Rock\",\"Rock\",\"Rock\",\"Rock\",\"Rock\",\"Rock\",\"Rock\",\"Rock\",\"Rock\",\"Rock\",\"Rock\",\"Rock\",\"Rock\",\"Rock\",\"Rock\",\"Rock\",\"Rock\",\"Rock\",\"Rock\",\"Rock\",\"Rock\",\"Rock\",\"Rock\",\"Rock\",\"Rock\",\"Rock\",\"Rock\",\"Rock\",\"Rock\",\"Rock\",\"Rock\",\"Rock\",\"Rock\",\"Rock\",\"Rock\",\"Rock\",\"Rock\",\"Rock\",\"Rock\",\"Rock\",\"Rock\",\"Rock\",\"Rock\",\"Rock\",\"Rock\",\"Rock\",\"Rock\",\"Rock\",\"Rock\",\"Rock\",\"Rock\",\"Rock\",\"Rock\",\"Rock\",\"Rock\",\"Rock\",\"Rock\",\"Rock\",\"Rock\",\"Rock\",\"Rock\",\"Rock\",\"Rock\",\"Rock\",\"Rock\",\"Rock\",\"Rock\",\"Rock\",\"Rock\",\"Rock\",\"Rock\",\"Rock\",\"Rock\",\"Rock\",\"Rock\",\"Rock\",\"Rock\",\"Rock\",\"Rock\",\"Rock\",\"Rock\",\"Rock\",\"Rock\",\"Rock\",\"Rock\",\"Rock\",\"Rock\",\"Rock\",\"Rock\",\"Rock\",\"Rock\",\"Rock\",\"Rock\",\"Rock\",\"Rock\",\"Rock\",\"Rock\",\"Rock\",\"Rock\",\"Rock\",\"Rock\",\"Rock\",\"Rock\",\"Rock\",\"Rock\",\"Rock\",\"Rock\",\"Rock\",\"Rock\",\"Rock\",\"Rock\",\"Rock\",\"Rock\",\"Rock\",\"Rock\",\"Rock\",\"Rock\",\"Rock\",\"Rock\",\"Rock\",\"Rock\",\"Rock\",\"Rock\",\"Rock\",\"Rock\",\"Rock\",\"Rock\",\"Rock\",\"Rock\",\"Rock\",\"Rock\",\"Rock\",\"Rock\",\"Rock\",\"Rock\",\"Rock\",\"Rock\",\"Rock\",\"Rock\",\"Rock\",\"Rock\",\"Rock\",\"Rock\",\"Rock\",\"Rock\",\"Rock\",\"Rock\",\"Rock\",\"Rock\",\"Rock\",\"Rock\",\"Rock\",\"Rock\",\"Rock\",\"Rock\",\"Rock\",\"Rock\",\"Rock\",\"Rock\",\"Rock\",\"Rock\",\"Rock\",\"Rock\",\"Rock\",\"Rock\",\"Rock\",\"Rock\",\"Rock\",\"Rock\",\"Rock\",\"Rock\",\"Rock\",\"Rock\",\"Rock\",\"Video game music\",\"Video game music\",\"Video game music\",\"Video game music\",\"Video game music\",\"Video game music\",\"Video game music\",\"Video game music\",\"Video game music\",\"Video game music\",\"Video game music\",\"Video game music\",\"Video game music\",\"Video game music\",\"Video game music\",\"Video game music\",\"Video game music\",\"Video game music\",\"Video game music\",\"Video game music\",\"Video game music\",\"Video game music\",\"Video game music\",\"Video game music\",\"Video game music\",\"Video game music\",\"Video game music\",\"Video game music\",\"Video game music\",\"Video game music\",\"Video game music\",\"Video game music\",\"Video game music\",\"Video game music\",\"Video game music\",\"Video game music\",\"Video game music\",\"Video game music\",\"Video game music\",\"Video game music\",\"Video game music\",\"Video game music\",\"Video game music\",\"Video game music\",\"Video game music\",\"Video game music\",\"Video game music\",\"Video game music\",\"Video game music\",\"Video game music\",\"Video game music\",\"Video game music\",\"Video game music\",\"Video game music\",\"Video game music\",\"Video game music\",\"Video game music\",\"Video game music\",\"Video game music\",\"Video game music\",\"Video game music\",\"Video game music\",\"Video game music\",\"Video game music\",\"Video game music\",\"Video game music\",\"Video game music\",\"Video game music\",\"Video game music\",\"Video game music\",\"Video game music\",\"Video game music\",\"Video game music\",\"Video game music\",\"Video game music\",\"Video game music\",\"Video game music\",\"Video game music\",\"Video game music\",\"Video game music\",\"Video game music\",\"Video game music\",\"Video game music\",\"Video game music\",\"Video game music\",\"Video game music\",\"Video game music\",\"Video game music\",\"Video game music\",\"Video game music\",\"Video game music\",\"Video game music\",\"Video game music\",\"Video game music\",\"Video game music\",\"Video game music\",\"Video game music\",\"Video game music\",\"Video game music\",\"Video game music\",\"Video game music\",\"Video game music\",\"Video game music\",\"Video game music\",\"Video game music\",\"Video game music\",\"Video game music\",\"Video game music\",\"Video game music\",\"Video game music\",\"Video game music\",\"Video game music\",\"Video game music\",\"Video game music\",\"Video game music\",\"Video game music\",\"Video game music\"],\"xaxis\":\"x\",\"yaxis\":\"y\",\"type\":\"histogram\"}],                        {\"template\":{\"data\":{\"histogram2dcontour\":[{\"type\":\"histogram2dcontour\",\"colorbar\":{\"outlinewidth\":0,\"ticks\":\"\"},\"colorscale\":[[0.0,\"#0d0887\"],[0.1111111111111111,\"#46039f\"],[0.2222222222222222,\"#7201a8\"],[0.3333333333333333,\"#9c179e\"],[0.4444444444444444,\"#bd3786\"],[0.5555555555555556,\"#d8576b\"],[0.6666666666666666,\"#ed7953\"],[0.7777777777777778,\"#fb9f3a\"],[0.8888888888888888,\"#fdca26\"],[1.0,\"#f0f921\"]]}],\"choropleth\":[{\"type\":\"choropleth\",\"colorbar\":{\"outlinewidth\":0,\"ticks\":\"\"}}],\"histogram2d\":[{\"type\":\"histogram2d\",\"colorbar\":{\"outlinewidth\":0,\"ticks\":\"\"},\"colorscale\":[[0.0,\"#0d0887\"],[0.1111111111111111,\"#46039f\"],[0.2222222222222222,\"#7201a8\"],[0.3333333333333333,\"#9c179e\"],[0.4444444444444444,\"#bd3786\"],[0.5555555555555556,\"#d8576b\"],[0.6666666666666666,\"#ed7953\"],[0.7777777777777778,\"#fb9f3a\"],[0.8888888888888888,\"#fdca26\"],[1.0,\"#f0f921\"]]}],\"heatmap\":[{\"type\":\"heatmap\",\"colorbar\":{\"outlinewidth\":0,\"ticks\":\"\"},\"colorscale\":[[0.0,\"#0d0887\"],[0.1111111111111111,\"#46039f\"],[0.2222222222222222,\"#7201a8\"],[0.3333333333333333,\"#9c179e\"],[0.4444444444444444,\"#bd3786\"],[0.5555555555555556,\"#d8576b\"],[0.6666666666666666,\"#ed7953\"],[0.7777777777777778,\"#fb9f3a\"],[0.8888888888888888,\"#fdca26\"],[1.0,\"#f0f921\"]]}],\"heatmapgl\":[{\"type\":\"heatmapgl\",\"colorbar\":{\"outlinewidth\":0,\"ticks\":\"\"},\"colorscale\":[[0.0,\"#0d0887\"],[0.1111111111111111,\"#46039f\"],[0.2222222222222222,\"#7201a8\"],[0.3333333333333333,\"#9c179e\"],[0.4444444444444444,\"#bd3786\"],[0.5555555555555556,\"#d8576b\"],[0.6666666666666666,\"#ed7953\"],[0.7777777777777778,\"#fb9f3a\"],[0.8888888888888888,\"#fdca26\"],[1.0,\"#f0f921\"]]}],\"contourcarpet\":[{\"type\":\"contourcarpet\",\"colorbar\":{\"outlinewidth\":0,\"ticks\":\"\"}}],\"contour\":[{\"type\":\"contour\",\"colorbar\":{\"outlinewidth\":0,\"ticks\":\"\"},\"colorscale\":[[0.0,\"#0d0887\"],[0.1111111111111111,\"#46039f\"],[0.2222222222222222,\"#7201a8\"],[0.3333333333333333,\"#9c179e\"],[0.4444444444444444,\"#bd3786\"],[0.5555555555555556,\"#d8576b\"],[0.6666666666666666,\"#ed7953\"],[0.7777777777777778,\"#fb9f3a\"],[0.8888888888888888,\"#fdca26\"],[1.0,\"#f0f921\"]]}],\"surface\":[{\"type\":\"surface\",\"colorbar\":{\"outlinewidth\":0,\"ticks\":\"\"},\"colorscale\":[[0.0,\"#0d0887\"],[0.1111111111111111,\"#46039f\"],[0.2222222222222222,\"#7201a8\"],[0.3333333333333333,\"#9c179e\"],[0.4444444444444444,\"#bd3786\"],[0.5555555555555556,\"#d8576b\"],[0.6666666666666666,\"#ed7953\"],[0.7777777777777778,\"#fb9f3a\"],[0.8888888888888888,\"#fdca26\"],[1.0,\"#f0f921\"]]}],\"mesh3d\":[{\"type\":\"mesh3d\",\"colorbar\":{\"outlinewidth\":0,\"ticks\":\"\"}}],\"scatter\":[{\"fillpattern\":{\"fillmode\":\"overlay\",\"size\":10,\"solidity\":0.2},\"type\":\"scatter\"}],\"parcoords\":[{\"type\":\"parcoords\",\"line\":{\"colorbar\":{\"outlinewidth\":0,\"ticks\":\"\"}}}],\"scatterpolargl\":[{\"type\":\"scatterpolargl\",\"marker\":{\"colorbar\":{\"outlinewidth\":0,\"ticks\":\"\"}}}],\"bar\":[{\"error_x\":{\"color\":\"#2a3f5f\"},\"error_y\":{\"color\":\"#2a3f5f\"},\"marker\":{\"line\":{\"color\":\"#E5ECF6\",\"width\":0.5},\"pattern\":{\"fillmode\":\"overlay\",\"size\":10,\"solidity\":0.2}},\"type\":\"bar\"}],\"scattergeo\":[{\"type\":\"scattergeo\",\"marker\":{\"colorbar\":{\"outlinewidth\":0,\"ticks\":\"\"}}}],\"scatterpolar\":[{\"type\":\"scatterpolar\",\"marker\":{\"colorbar\":{\"outlinewidth\":0,\"ticks\":\"\"}}}],\"histogram\":[{\"marker\":{\"pattern\":{\"fillmode\":\"overlay\",\"size\":10,\"solidity\":0.2}},\"type\":\"histogram\"}],\"scattergl\":[{\"type\":\"scattergl\",\"marker\":{\"colorbar\":{\"outlinewidth\":0,\"ticks\":\"\"}}}],\"scatter3d\":[{\"type\":\"scatter3d\",\"line\":{\"colorbar\":{\"outlinewidth\":0,\"ticks\":\"\"}},\"marker\":{\"colorbar\":{\"outlinewidth\":0,\"ticks\":\"\"}}}],\"scattermapbox\":[{\"type\":\"scattermapbox\",\"marker\":{\"colorbar\":{\"outlinewidth\":0,\"ticks\":\"\"}}}],\"scatterternary\":[{\"type\":\"scatterternary\",\"marker\":{\"colorbar\":{\"outlinewidth\":0,\"ticks\":\"\"}}}],\"scattercarpet\":[{\"type\":\"scattercarpet\",\"marker\":{\"colorbar\":{\"outlinewidth\":0,\"ticks\":\"\"}}}],\"carpet\":[{\"aaxis\":{\"endlinecolor\":\"#2a3f5f\",\"gridcolor\":\"white\",\"linecolor\":\"white\",\"minorgridcolor\":\"white\",\"startlinecolor\":\"#2a3f5f\"},\"baxis\":{\"endlinecolor\":\"#2a3f5f\",\"gridcolor\":\"white\",\"linecolor\":\"white\",\"minorgridcolor\":\"white\",\"startlinecolor\":\"#2a3f5f\"},\"type\":\"carpet\"}],\"table\":[{\"cells\":{\"fill\":{\"color\":\"#EBF0F8\"},\"line\":{\"color\":\"white\"}},\"header\":{\"fill\":{\"color\":\"#C8D4E3\"},\"line\":{\"color\":\"white\"}},\"type\":\"table\"}],\"barpolar\":[{\"marker\":{\"line\":{\"color\":\"#E5ECF6\",\"width\":0.5},\"pattern\":{\"fillmode\":\"overlay\",\"size\":10,\"solidity\":0.2}},\"type\":\"barpolar\"}],\"pie\":[{\"automargin\":true,\"type\":\"pie\"}]},\"layout\":{\"autotypenumbers\":\"strict\",\"colorway\":[\"#636efa\",\"#EF553B\",\"#00cc96\",\"#ab63fa\",\"#FFA15A\",\"#19d3f3\",\"#FF6692\",\"#B6E880\",\"#FF97FF\",\"#FECB52\"],\"font\":{\"color\":\"#2a3f5f\"},\"hovermode\":\"closest\",\"hoverlabel\":{\"align\":\"left\"},\"paper_bgcolor\":\"white\",\"plot_bgcolor\":\"#E5ECF6\",\"polar\":{\"bgcolor\":\"#E5ECF6\",\"angularaxis\":{\"gridcolor\":\"white\",\"linecolor\":\"white\",\"ticks\":\"\"},\"radialaxis\":{\"gridcolor\":\"white\",\"linecolor\":\"white\",\"ticks\":\"\"}},\"ternary\":{\"bgcolor\":\"#E5ECF6\",\"aaxis\":{\"gridcolor\":\"white\",\"linecolor\":\"white\",\"ticks\":\"\"},\"baxis\":{\"gridcolor\":\"white\",\"linecolor\":\"white\",\"ticks\":\"\"},\"caxis\":{\"gridcolor\":\"white\",\"linecolor\":\"white\",\"ticks\":\"\"}},\"coloraxis\":{\"colorbar\":{\"outlinewidth\":0,\"ticks\":\"\"}},\"colorscale\":{\"sequential\":[[0.0,\"#0d0887\"],[0.1111111111111111,\"#46039f\"],[0.2222222222222222,\"#7201a8\"],[0.3333333333333333,\"#9c179e\"],[0.4444444444444444,\"#bd3786\"],[0.5555555555555556,\"#d8576b\"],[0.6666666666666666,\"#ed7953\"],[0.7777777777777778,\"#fb9f3a\"],[0.8888888888888888,\"#fdca26\"],[1.0,\"#f0f921\"]],\"sequentialminus\":[[0.0,\"#0d0887\"],[0.1111111111111111,\"#46039f\"],[0.2222222222222222,\"#7201a8\"],[0.3333333333333333,\"#9c179e\"],[0.4444444444444444,\"#bd3786\"],[0.5555555555555556,\"#d8576b\"],[0.6666666666666666,\"#ed7953\"],[0.7777777777777778,\"#fb9f3a\"],[0.8888888888888888,\"#fdca26\"],[1.0,\"#f0f921\"]],\"diverging\":[[0,\"#8e0152\"],[0.1,\"#c51b7d\"],[0.2,\"#de77ae\"],[0.3,\"#f1b6da\"],[0.4,\"#fde0ef\"],[0.5,\"#f7f7f7\"],[0.6,\"#e6f5d0\"],[0.7,\"#b8e186\"],[0.8,\"#7fbc41\"],[0.9,\"#4d9221\"],[1,\"#276419\"]]},\"xaxis\":{\"gridcolor\":\"white\",\"linecolor\":\"white\",\"ticks\":\"\",\"title\":{\"standoff\":15},\"zerolinecolor\":\"white\",\"automargin\":true,\"zerolinewidth\":2},\"yaxis\":{\"gridcolor\":\"white\",\"linecolor\":\"white\",\"ticks\":\"\",\"title\":{\"standoff\":15},\"zerolinecolor\":\"white\",\"automargin\":true,\"zerolinewidth\":2},\"scene\":{\"xaxis\":{\"backgroundcolor\":\"#E5ECF6\",\"gridcolor\":\"white\",\"linecolor\":\"white\",\"showbackground\":true,\"ticks\":\"\",\"zerolinecolor\":\"white\",\"gridwidth\":2},\"yaxis\":{\"backgroundcolor\":\"#E5ECF6\",\"gridcolor\":\"white\",\"linecolor\":\"white\",\"showbackground\":true,\"ticks\":\"\",\"zerolinecolor\":\"white\",\"gridwidth\":2},\"zaxis\":{\"backgroundcolor\":\"#E5ECF6\",\"gridcolor\":\"white\",\"linecolor\":\"white\",\"showbackground\":true,\"ticks\":\"\",\"zerolinecolor\":\"white\",\"gridwidth\":2}},\"shapedefaults\":{\"line\":{\"color\":\"#2a3f5f\"}},\"annotationdefaults\":{\"arrowcolor\":\"#2a3f5f\",\"arrowhead\":0,\"arrowwidth\":1},\"geo\":{\"bgcolor\":\"white\",\"landcolor\":\"#E5ECF6\",\"subunitcolor\":\"white\",\"showland\":true,\"showlakes\":true,\"lakecolor\":\"white\"},\"title\":{\"x\":0.05},\"mapbox\":{\"style\":\"light\"}}},\"xaxis\":{\"anchor\":\"y\",\"domain\":[0.0,1.0],\"title\":{\"text\":\"\"}},\"yaxis\":{\"anchor\":\"x\",\"domain\":[0.0,1.0],\"title\":{\"text\":\"Ilość osób\"}},\"legend\":{\"title\":{\"text\":\"Częstotliwość\"},\"tracegroupgap\":0},\"title\":{\"text\":\"Częstotliwość słuchania poszczególnych gatunków\"},\"barmode\":\"group\",\"bargap\":0.35},                        {\"responsive\": true}                    ).then(function(){\n",
              "                            \n",
              "var gd = document.getElementById('b23a2ab9-79d8-4197-9881-ad86493623ef');\n",
              "var x = new MutationObserver(function (mutations, observer) {{\n",
              "        var display = window.getComputedStyle(gd).display;\n",
              "        if (!display || display === 'none') {{\n",
              "            console.log([gd, 'removed!']);\n",
              "            Plotly.purge(gd);\n",
              "            observer.disconnect();\n",
              "        }}\n",
              "}});\n",
              "\n",
              "// Listen for the removal of the full notebook cells\n",
              "var notebookContainer = gd.closest('#notebook-container');\n",
              "if (notebookContainer) {{\n",
              "    x.observe(notebookContainer, {childList: true});\n",
              "}}\n",
              "\n",
              "// Listen for the clearing of the current output cell\n",
              "var outputEl = gd.closest('.output');\n",
              "if (outputEl) {{\n",
              "    x.observe(outputEl, {childList: true});\n",
              "}}\n",
              "\n",
              "                        })                };                            </script>        </div>\n",
              "</body>\n",
              "</html>"
            ]
          },
          "metadata": {}
        }
      ]
    },
    {
      "cell_type": "markdown",
      "source": [],
      "metadata": {
        "id": "g0H9LH0rYWeO"
      }
    },
    {
      "cell_type": "markdown",
      "source": [
        "## Choroby psychiczne\n",
        "\n"
      ],
      "metadata": {
        "id": "jydKcmKC9cyd"
      }
    },
    {
      "cell_type": "code",
      "source": [
        "mental_illness = df[['Anxiety','Depression','Insomnia', 'OCD']]\n",
        "\n",
        "illness_hists = make_subplots(rows=2, cols=2, subplot_titles=mental_illness.columns)\n",
        "\n",
        "for i, col_name in enumerate(mental_illness.columns):\n",
        "  row = i // 2 + 1\n",
        "  column = i % 2 + 1\n",
        "  illness_hists.add_trace(\n",
        "    go.Histogram(x=mental_illness[col_name],name=col_name,nbinsx=20),\n",
        "    row=row, col=column)\n",
        "\n",
        "illness_hists.update_layout(\n",
        "    title='Histogram chorób psychicznych',\n",
        "    showlegend=False,\n",
        "    width=800,\n",
        "    height=600\n",
        ")"
      ],
      "metadata": {
        "colab": {
          "base_uri": "https://localhost:8080/",
          "height": 617
        },
        "id": "PzUNKuyXlSse",
        "outputId": "556fe9e5-8ddd-4b71-a410-d1c738ab97ad"
      },
      "execution_count": 105,
      "outputs": [
        {
          "output_type": "display_data",
          "data": {
            "text/html": [
              "<html>\n",
              "<head><meta charset=\"utf-8\" /></head>\n",
              "<body>\n",
              "    <div>            <script src=\"https://cdnjs.cloudflare.com/ajax/libs/mathjax/2.7.5/MathJax.js?config=TeX-AMS-MML_SVG\"></script><script type=\"text/javascript\">if (window.MathJax && window.MathJax.Hub && window.MathJax.Hub.Config) {window.MathJax.Hub.Config({SVG: {font: \"STIX-Web\"}});}</script>                <script type=\"text/javascript\">window.PlotlyConfig = {MathJaxConfig: 'local'};</script>\n",
              "        <script charset=\"utf-8\" src=\"https://cdn.plot.ly/plotly-2.35.2.min.js\"></script>                <div id=\"e30b5a44-39a5-40ed-9e4f-365c58d46677\" class=\"plotly-graph-div\" style=\"height:600px; width:800px;\"></div>            <script type=\"text/javascript\">                                    window.PLOTLYENV=window.PLOTLYENV || {};                                    if (document.getElementById(\"e30b5a44-39a5-40ed-9e4f-365c58d46677\")) {                    Plotly.newPlot(                        \"e30b5a44-39a5-40ed-9e4f-365c58d46677\",                        [{\"name\":\"Anxiety\",\"nbinsx\":20,\"x\":[3.0,7.0,7.0,9.0,7.0,8.0,4.0,5.0,2.0,2.0,7.0,1.0,2.0,6.0,7.0,8.0,5.0,7.0,7.0,6.0,10.0,6.0,3.0,10.0,7.0,8.0,3.0,6.0,8.0,7.0,4.0,9.0,5.0,0.0,3.0,6.0,2.0,9.0,7.0,4.0,7.0,3.0,6.0,1.0,7.0,8.0,9.0,7.0,7.0,0.0,7.0,10.0,3.0,8.0,0.0,8.0,9.0,6.0,7.0,10.0,8.0,3.0,5.0,10.0,5.0,0.0,8.0,10.0,7.0,8.0,10.0,9.0,6.0,7.0,7.0,4.0,7.0,9.0,2.0,10.0,3.0,7.0,2.0,5.0,9.0,2.0,5.0,3.0,2.0,7.0,5.0,4.0,6.0,8.0,9.0,0.0,8.0,4.0,8.0,3.0,1.0,10.0,6.0,6.0,8.0,9.0,7.0,6.0,10.0,6.0,7.0,7.0,8.0,4.0,7.0,7.0,2.0,7.0,4.0,7.0,5.0,10.0,6.0,7.0,4.0,4.0,7.0,6.0,4.0,6.0,10.0,10.0,3.0,8.0,8.0,3.0,6.0,0.0,6.0,3.0,1.0,5.0,0.0,0.0,3.0,8.0,5.0,8.0,6.0,6.0,6.0,9.0,7.0,10.0,1.0,5.0,6.0,7.0,6.0,1.0,0.0,8.0,3.0,8.0,6.0,1.0,5.0,8.0,8.0,3.0,0.0,6.0,1.0,4.0,5.0,1.0,8.0,9.0,4.0,7.0,10.0,8.0,7.0,7.0,10.0,7.0,6.0,2.0,7.0,7.0,6.0,3.0,9.0,8.0,8.0,9.0,9.0,9.0,10.0,9.0,7.0,9.0,9.0,9.0,10.0,6.0,8.0,8.0,4.0,2.0,10.0,8.0,4.0,4.0,9.0,8.0,6.0,8.0,7.0,10.0,6.0,2.0,3.0,9.0,5.0,8.0,8.0,3.0,4.0,7.0,3.0,9.0,3.0,9.0,7.0,0.0,2.0,6.0,6.0,8.0,6.0,7.0,8.0,3.0,9.0,7.0,10.0,0.0,9.0,7.0,9.0,3.0,6.0,10.0,6.0,3.0,9.0,7.0,3.0,9.0,5.0,0.0,8.0,7.0,9.0,5.0,5.0,4.0,3.0,2.0,0.0,7.0,6.0,5.0,6.0,8.0,8.0,8.0,8.0,5.0,6.0,7.0,8.0,10.0,8.0,8.0,8.0,6.0,0.0,8.0,3.0,5.0,8.0,10.0,6.0,7.0,9.0,8.0,8.0,7.0,10.0,8.0,8.0,8.0,6.0,7.0,7.0,8.0,4.0,0.0,6.0,4.0,8.0,5.0,0.0,7.0,8.0,9.0,8.0,7.0,6.0,7.0,1.0,1.0,2.0,6.0,7.0,8.0,8.0,5.0,7.0,7.0,8.0,10.0,6.0,8.0,10.0,10.0,8.0,3.0,9.0,5.0,10.0,8.0,6.0,7.0,3.0,4.0,4.0,5.0,4.0,4.0,7.0,7.0,3.0,9.0,10.0,9.0,8.0,8.0,5.0,9.0,3.0,7.0,7.0,5.0,3.0,8.0,8.0,4.0,9.0,10.0,8.0,1.0,5.0,7.0,8.0,2.0,6.0,2.0,6.0,6.0,7.0,0.0,9.0,10.0,6.0,4.0,6.0,2.0,7.0,7.0,8.0,7.0,6.0,1.0,3.0,6.0,6.0,9.0,7.0,1.0,4.0,2.0,0.0,8.0,5.0,8.0,9.0,2.0,7.0,10.0,8.0,7.0,1.0,9.0,9.0,8.0,1.0,10.0,3.0,4.0,2.0,2.0,8.0,10.0,8.0,0.0,5.0,7.5,3.0,7.0,8.0,6.0,8.0,10.0,3.0,5.0,7.0,7.0,3.0,4.0,3.0,5.0,10.0,7.0,7.0,6.0,6.0,7.0,5.0,7.0,2.0,9.0,3.0,4.0,1.0,3.0,1.0,8.0,8.0,3.0,3.0,2.0,0.0,8.0,1.0,8.0,6.0,5.0,3.0,4.0,5.0,0.0,7.0,8.0,4.0,9.0,5.0,4.0,4.0,9.0,3.0,6.0,2.0,10.0,4.0,7.0,7.0,1.0,6.0,4.0,10.0,4.0,7.0,3.0,10.0,4.0,7.0,6.0,7.0,6.0,10.0,7.0,3.0,8.0,7.0,3.0,8.0,7.0,5.0,1.0,2.0,5.0,7.0,10.0,7.0,6.0,5.0,7.0,7.0,0.0,3.0,8.0,8.0,2.0,7.0,8.0,0.0,8.0,4.0,3.0,6.0,8.0,5.0,10.0,0.0,8.0,8.0,7.0,0.0,3.0,5.0,6.0,6.0,5.0,8.0,1.0,8.0,3.0,0.0,5.0,2.0,4.0,5.0,4.0,10.0,3.0,8.0,3.0,4.0,10.0,10.0,9.0,6.0,3.0,10.0,4.0,3.0,1.0,5.0,7.0,10.0,3.0,1.0,6.0,4.0,6.0,2.0,8.0,8.0,1.0,8.0,6.0,2.0,0.0,10.0,3.0,7.0,8.0,2.0,10.0,6.0,3.0,6.0,7.0,10.0,0.0,0.0,2.0,2.0,5.0,0.0,5.0,2.0,0.0,0.0,7.0,7.0,3.0,7.0,3.0,5.0,8.0,4.0,7.0,1.0,3.0,6.0,6.0,7.0,2.0,8.0,3.0,7.0,4.0,3.0,10.0,10.0,2.0,8.0,10.0,9.0,5.0,4.0,7.0,2.0,10.0,10.0,3.0,7.0,7.0,7.0,4.0,5.0,5.0,7.0,8.0,1.0,8.0,4.0,9.0,10.0,1.0,7.0,10.0,2.0,3.0,7.0,4.0,4.0,6.0,8.0,2.0,8.0,4.0,6.0,6.0,8.0,5.0,6.0,5.0,6.0,7.0,4.0,9.0,9.0,5.0,1.0,8.0,5.0,10.0,7.0,3.0,5.0,2.0,7.0,8.0,4.0,3.0,7.0,10.0,7.0,5.0,0.0,10.0,7.0,2.0,10.0,8.0,9.0,6.0,8.0,3.0,9.0,8.0,4.0,6.0,7.0,8.0,8.0,10.0,5.0,9.0,4.0,9.0,5.0,8.0,10.0,7.0,10.0,8.0,10.0,6.0,10.0,9.0,0.0,7.0,6.0,7.0,7.0,3.0,2.0,2.0,2.0],\"type\":\"histogram\",\"xaxis\":\"x\",\"yaxis\":\"y\"},{\"name\":\"Depression\",\"nbinsx\":20,\"x\":[0.0,2.0,7.0,7.0,2.0,8.0,8.0,3.0,0.0,2.0,7.0,0.0,1.0,4.0,5.0,8.0,7.0,5.0,3.0,9.0,10.0,7.0,3.0,6.0,4.0,6.0,2.0,6.0,2.0,7.0,4.0,8.0,6.0,0.0,2.0,8.0,0.0,8.0,2.0,2.0,6.0,2.0,6.0,0.0,3.0,9.0,6.0,9.0,4.0,0.0,8.0,6.0,7.0,7.0,0.0,6.0,0.0,4.0,0.0,1.0,7.0,2.0,5.0,10.0,4.0,0.0,8.0,7.0,3.0,7.0,2.0,8.0,3.0,7.0,7.0,1.0,2.0,0.0,7.0,8.0,0.0,8.0,1.0,4.0,10.0,0.0,2.0,2.0,0.0,6.0,4.0,6.0,2.0,2.0,6.0,3.0,9.0,1.0,7.0,4.0,1.0,8.0,6.0,7.0,4.0,7.0,4.0,7.0,0.0,3.0,5.0,10.0,6.0,3.0,6.0,3.0,7.0,8.0,7.0,8.0,2.0,7.0,5.0,2.0,7.0,5.0,10.0,4.0,1.0,6.0,8.0,8.0,6.0,9.0,3.0,3.0,5.0,0.0,5.0,8.0,8.0,6.0,0.0,8.0,7.0,8.0,2.0,8.0,8.0,8.0,6.0,10.0,7.0,7.0,3.0,3.0,8.0,2.0,9.0,1.0,2.0,8.0,3.0,8.0,4.0,0.0,5.0,9.0,8.0,0.0,5.0,3.0,7.0,2.0,6.0,0.0,6.0,4.0,6.0,3.0,3.0,8.0,6.0,2.0,3.5,5.0,8.0,9.0,4.0,5.0,1.0,6.0,10.0,5.0,7.0,9.0,8.0,3.0,8.0,6.0,7.0,10.0,9.0,10.0,9.0,5.0,6.0,3.0,2.0,1.0,10.0,9.0,9.0,2.0,2.0,6.0,5.0,5.0,6.0,2.0,0.0,0.0,7.0,0.0,4.0,4.0,10.0,6.0,4.0,5.0,2.0,9.0,10.0,0.0,6.0,9.0,2.0,9.0,4.0,9.0,7.0,2.0,6.0,10.0,4.0,9.0,3.0,0.0,6.0,1.0,7.0,1.0,6.0,6.0,3.0,3.0,10.0,5.0,0.0,9.0,7.0,8.0,4.0,2.0,9.0,7.0,1.0,1.0,5.0,2.0,1.0,8.0,4.0,6.0,6.0,9.0,4.0,6.0,8.0,2.0,8.0,5.0,8.0,2.0,7.0,8.0,10.0,1.0,4.0,10.0,2.0,3.0,9.0,3.0,7.0,4.0,8.0,0.0,9.0,2.0,10.0,8.0,7.0,7.0,5.0,6.0,4.0,7.0,4.0,0.0,4.0,7.0,4.0,5.0,8.0,4.0,7.0,8.0,6.0,2.0,7.0,6.0,1.0,1.0,7.0,2.0,7.0,7.0,3.0,4.0,10.0,6.0,7.0,7.0,5.0,7.0,7.0,10.0,2.0,7.0,7.0,3.0,7.0,0.0,0.0,9.0,2.0,2.0,2.0,3.0,2.0,0.0,6.0,8.0,4.0,7.0,9.0,9.0,10.0,9.0,6.0,3.0,2.0,7.0,9.0,1.0,3.0,7.0,2.0,0.0,6.0,7.0,7.0,0.0,7.0,6.0,8.0,2.0,0.0,0.0,2.0,1.0,6.0,0.0,7.0,0.0,6.0,3.0,2.0,2.0,4.0,5.0,5.0,5.0,8.0,2.0,2.0,7.0,7.0,8.0,7.0,0.0,3.0,0.0,5.0,7.0,10.0,7.0,6.0,2.0,8.0,10.0,5.0,8.0,1.0,10.0,4.0,2.0,1.0,9.0,0.0,0.0,3.0,3.0,4.0,10.0,8.0,1.0,4.0,5.0,3.0,5.0,0.0,4.0,8.0,8.0,0.0,5.0,7.0,4.0,3.0,0.0,0.0,1.0,6.0,5.0,7.0,0.0,2.0,6.0,7.0,6.0,2.0,5.0,7.0,5.0,0.0,2.0,6.0,10.0,10.0,0.0,4.0,1.0,0.0,8.0,1.0,7.0,5.0,4.0,1.0,8.0,6.0,0.0,6.0,5.0,4.0,8.0,5.0,6.0,8.0,10.0,2.0,2.0,0.0,8.0,4.0,8.0,6.0,0.0,2.0,5.0,7.0,2.0,6.0,2.0,7.0,0.0,7.0,7.0,6.0,5.0,10.0,6.0,0.0,2.0,6.0,2.0,2.0,7.0,1.0,2.0,1.0,2.0,2.0,10.0,2.0,4.0,9.0,5.0,6.0,0.0,5.0,8.0,7.0,4.0,3.0,7.0,0.0,6.0,2.0,2.0,4.0,8.0,5.0,8.0,0.0,8.0,2.0,8.0,2.0,5.0,2.0,1.0,3.0,6.0,4.0,1.0,3.0,3.0,0.0,4.0,4.0,6.0,7.0,0.0,8.0,3.0,7.0,3.0,5.0,10.0,2.0,6.0,4.0,4.0,10.0,8.0,0.0,0.0,6.0,0.0,8.0,0.0,0.0,6.0,3.0,4.0,6.0,3.0,10.0,0.0,6.0,3.0,0.0,0.0,10.0,0.0,9.0,7.0,0.0,7.0,0.0,0.0,5.0,6.0,7.0,3.0,2.0,0.0,2.0,6.0,0.0,4.0,7.0,6.0,0.0,5.0,5.0,3.0,10.0,2.0,1.0,9.0,8.0,9.0,5.0,2.0,8.0,3.0,4.0,6.0,5.0,3.0,5.0,8.0,0.0,7.0,4.0,2.0,7.0,5.0,10.0,2.0,8.0,8.0,2.0,3.0,10.0,7.0,5.0,4.0,9.0,7.0,9.0,4.0,2.0,6.0,3.0,10.0,7.0,6.0,7.0,2.0,10.0,2.0,1.0,10.0,10.0,2.0,2.0,8.0,6.0,2.0,7.0,3.0,1.0,6.0,7.0,3.0,2.0,6.0,10.0,3.0,6.0,4.0,7.0,10.0,0.0,7.0,1.0,6.0,5.0,1.0,8.0,0.0,0.0,0.0,1.0,8.0,0.0,8.0,1.0,9.0,0.0,6.0,3.5,0.0,10.0,9.0,7.0,4.0,5.0,7.0,1.0,6.0,1.0,5.0,8.0,9.0,6.0,5.0,2.0,3.0,6.0,8.0,7.0,3.0,10.0,7.0,8.0,6.0,7.0,6.0,10.0,8.0,0.0,3.0,2.0,6.0,6.0,2.0,2.0,3.0,2.0],\"type\":\"histogram\",\"xaxis\":\"x2\",\"yaxis\":\"y2\"},{\"name\":\"Insomnia\",\"nbinsx\":20,\"x\":[1.0,2.0,10.0,3.0,5.0,7.0,6.0,5.0,0.0,5.0,4.0,0.0,2.0,7.0,4.0,4.0,10.0,0.0,0.0,3.0,2.0,5.0,8.0,8.0,2.0,10.0,1.0,4.0,1.0,2.0,4.0,2.0,6.0,0.0,1.0,0.0,4.0,1.0,8.0,3.0,5.0,10.0,8.0,8.0,1.0,3.0,4.0,5.0,2.0,0.0,7.0,3.0,5.0,4.0,1.0,2.0,10.0,2.0,0.0,0.0,0.0,6.0,3.0,3.0,10.0,8.0,5.0,8.0,1.0,4.0,0.0,1.0,1.0,0.0,8.0,0.0,1.0,5.0,1.0,7.0,0.0,5.0,0.0,0.0,6.0,0.0,5.0,0.0,7.0,6.0,8.0,5.0,3.0,1.0,0.0,7.0,6.0,1.0,5.0,6.0,3.0,6.0,2.0,0.0,10.0,6.0,6.0,0.0,10.0,0.0,5.0,5.0,0.0,0.0,7.0,2.0,5.0,6.0,1.0,5.0,8.0,4.0,0.0,3.0,7.0,6.0,5.0,5.0,3.0,1.0,7.0,2.0,2.0,2.0,8.0,1.0,2.0,4.0,0.0,0.0,0.0,6.0,0.0,0.0,0.0,8.0,3.0,3.0,8.0,6.0,7.0,3.0,5.0,2.0,0.0,2.0,1.0,0.0,9.0,4.0,0.0,2.0,7.0,3.0,0.0,0.0,4.0,6.0,7.0,2.0,1.0,0.0,5.0,1.0,0.0,0.0,5.0,0.0,6.0,1.0,1.0,3.0,5.0,3.0,5.0,1.0,9.0,2.0,10.0,6.0,0.0,1.0,3.0,8.0,7.0,9.0,9.0,7.0,6.0,3.0,8.0,4.0,8.0,3.0,8.0,6.0,10.0,6.0,1.0,1.0,7.0,0.0,6.0,0.0,7.0,7.0,4.0,2.0,6.0,0.0,0.0,1.0,5.0,2.0,1.0,0.0,2.0,2.0,2.0,2.0,0.0,5.0,4.0,5.0,6.0,4.0,2.0,2.0,1.0,4.0,4.0,2.0,5.0,0.0,9.0,2.0,1.0,0.0,1.0,3.0,5.0,2.0,8.0,0.0,1.0,0.0,2.0,0.0,4.0,6.0,7.0,0.0,3.0,0.0,6.0,5.0,0.0,3.0,3.0,0.0,3.0,6.0,8.0,8.0,2.0,3.0,3.0,5.0,7.0,5.0,4.0,2.0,7.0,0.0,7.0,8.0,9.0,8.0,4.0,10.0,0.0,3.0,6.0,0.0,8.0,7.0,6.0,0.0,2.0,3.0,4.0,3.0,7.0,1.0,10.0,0.0,0.0,2.0,4.0,2.0,0.0,0.0,3.0,3.0,0.0,6.0,7.0,6.0,4.0,0.0,7.0,4.0,1.0,3.0,1.0,3.0,3.0,0.0,5.0,2.0,10.0,8.0,0.0,3.0,5.0,6.0,7.0,5.0,2.0,4.0,5.0,0.0,0.0,0.0,3.0,4.0,5.0,0.0,0.0,1.0,2.0,6.0,3.0,6.0,1.0,2.0,3.0,7.0,9.0,6.0,9.0,7.0,1.0,4.0,1.0,9.0,0.0,5.0,1.0,0.0,1.0,2.0,7.0,0.0,1.0,9.0,2.0,8.0,0.0,1.0,6.0,0.0,4.0,3.0,10.0,0.0,3.0,1.0,2.0,3.0,5.0,3.0,10.0,6.0,8.0,4.0,0.0,7.0,2.0,4.0,2.0,1.0,4.0,0.0,7.0,7.0,8.0,9.0,8.0,7.0,6.0,8.0,2.0,2.0,2.0,10.0,4.0,4.0,5.0,9.0,2.0,4.0,5.0,3.0,3.0,10.0,9.0,0.0,0.0,7.0,0.0,3.0,1.0,1.0,7.0,9.0,2.0,7.0,6.0,6.0,1.0,0.0,6.0,6.0,8.0,1.0,0.0,0.0,3.0,7.0,7.0,4.0,2.0,0.0,8.0,9.0,7.0,0.0,1.0,4.0,10.0,8.0,1.0,2.0,0.0,5.0,1.0,6.0,4.0,6.0,0.0,2.0,3.0,2.0,7.0,6.0,2.0,10.0,7.0,8.0,5.0,6.0,2.0,2.0,3.0,0.0,2.0,6.0,5.0,0.0,8.0,7.0,0.0,1.0,2.0,8.0,4.0,0.0,0.0,4.0,2.0,8.0,2.0,5.0,0.0,1.0,6.0,5.0,1.0,2.0,1.0,1.0,2.0,4.0,1.0,7.0,1.0,1.0,6.0,7.0,7.0,0.0,0.0,5.0,10.0,5.0,9.0,4.0,0.0,9.0,3.0,2.0,10.0,10.0,5.0,6.0,7.0,10.0,0.0,4.0,0.0,4.0,3.0,0.0,4.0,8.0,7.0,2.0,1.0,0.0,0.0,2.0,0.0,0.0,2.0,7.0,6.0,1.0,2.0,0.0,2.0,8.0,7.0,8.0,1.0,6.0,10.0,8.0,0.0,0.0,7.0,3.0,8.0,3.0,0.0,0.0,4.0,0.0,3.0,3.0,7.0,0.0,6.0,1.0,3.0,0.0,6.0,0.0,10.0,6.0,10.0,9.0,0.0,2.0,9.0,5.0,8.0,9.0,1.0,0.0,4.0,3.0,1.0,3.0,0.0,0.0,0.0,1.0,3.0,1.0,4.0,3.0,1.0,4.0,0.0,7.0,6.0,1.0,0.0,6.0,8.0,9.0,3.0,0.0,3.0,2.0,0.0,3.0,8.0,0.0,7.0,2.0,10.0,1.0,9.0,5.0,0.0,0.0,10.0,7.0,7.0,8.0,4.0,1.0,9.0,10.0,0.0,0.0,10.0,10.0,6.0,3.0,4.0,2.0,0.0,1.0,2.0,0.0,2.0,0.0,5.0,7.0,4.0,0.0,9.0,5.0,0.0,3.0,1.0,4.0,4.0,6.0,8.0,9.0,0.0,0.0,7.0,2.0,1.0,2.0,4.0,0.0,5.0,0.0,7.0,0.0,0.0,0.0,1.0,0.0,2.0,10.0,1.0,1.0,0.0,3.0,3.5,0.0,10.0,6.0,8.0,5.0,9.0,0.0,0.0,1.0,1.0,3.0,6.0,5.0,7.0,2.0,4.0,2.0,3.0,4.0,10.0,9.0,6.0,5.0,1.0,2.0,6.0,8.0,8.0,5.0,0.0,1.0,2.0,4.0,0.0,2.0,2.0,2.0,2.0],\"type\":\"histogram\",\"xaxis\":\"x3\",\"yaxis\":\"y3\"},{\"name\":\"OCD\",\"nbinsx\":20,\"x\":[0.0,1.0,2.0,3.0,9.0,7.0,0.0,3.0,0.0,1.0,7.0,1.0,0.0,0.0,1.0,3.0,0.0,3.0,2.0,0.0,4.0,4.0,6.0,10.0,5.0,5.0,2.0,5.0,5.0,0.0,3.0,3.0,1.0,0.0,1.0,2.0,0.0,0.0,6.0,4.0,0.0,0.0,2.0,2.0,5.0,0.0,3.0,0.0,4.0,0.0,5.0,10.0,5.0,3.0,3.0,10.0,0.0,3.0,2.0,0.0,5.0,7.0,1.0,1.0,2.0,0.0,10.0,0.0,1.0,0.0,5.0,2.0,1.0,1.0,4.0,0.0,5.0,10.0,1.0,0.0,0.0,1.0,0.0,1.0,10.0,0.0,1.0,0.0,0.0,2.0,3.0,3.0,1.0,6.0,6.0,0.0,2.0,1.0,0.0,1.0,1.0,7.0,0.0,0.0,0.0,2.0,5.0,0.0,10.0,1.0,3.0,0.0,0.0,0.0,5.0,3.0,0.0,5.0,0.0,1.0,6.0,2.0,0.0,1.0,3.0,5.0,6.0,0.0,1.0,2.0,1.0,8.0,0.0,0.0,7.0,2.0,0.0,0.0,2.0,0.0,0.0,3.0,0.0,0.0,0.0,5.0,4.0,0.0,0.0,0.0,5.0,0.0,0.0,8.0,6.0,1.0,6.0,7.0,0.0,1.0,0.0,0.0,0.0,0.0,3.0,0.0,4.0,0.0,6.0,0.0,0.0,0.0,1.0,1.0,1.0,0.0,2.0,3.0,4.0,5.0,0.0,0.0,4.0,5.0,10.0,2.0,5.0,1.0,2.0,0.0,0.0,1.0,0.0,9.0,3.0,3.0,7.0,8.0,2.0,0.0,3.0,0.0,2.0,9.0,8.0,8.0,3.0,4.0,3.0,1.0,3.0,0.0,2.0,0.0,7.0,5.0,2.0,3.0,1.0,0.0,0.0,0.0,2.0,0.0,1.0,1.0,0.0,1.0,1.0,6.0,0.0,1.0,1.0,0.0,5.0,0.0,1.0,1.0,0.0,0.0,3.0,0.0,6.0,0.0,7.0,8.0,4.0,1.0,7.0,5.0,7.0,7.0,0.0,4.0,1.0,7.0,2.0,2.0,4.0,4.0,2.0,5.0,4.0,7.0,9.0,4.0,0.0,0.0,0.0,6.0,5.0,2.0,8.0,2.0,6.0,4.0,3.0,7.0,7.0,0.0,2.0,1.0,1.0,0.0,5.0,6.0,2.0,4.0,0.0,8.0,1.0,1.0,1.0,10.0,2.0,0.0,2.0,0.0,5.0,0.0,0.0,3.0,4.0,2.0,2.0,4.0,0.0,10.0,0.0,0.0,1.0,0.0,0.0,3.0,0.0,1.0,3.0,2.0,0.0,8.0,7.0,2.0,0.0,0.0,2.0,1.0,2.0,3.0,2.0,0.0,1.0,4.0,9.0,3.0,3.0,8.0,3.0,7.0,8.0,0.0,5.0,0.0,10.0,3.0,0.0,6.0,6.0,0.0,0.0,0.0,1.0,5.0,1.0,2.0,1.0,1.0,2.0,3.0,2.0,4.0,9.0,2.0,6.0,0.0,2.0,1.0,0.0,4.0,1.0,0.0,1.0,0.0,4.0,0.0,4.0,2.0,2.0,0.0,2.0,0.0,7.0,5.0,0.0,0.0,6.0,0.0,0.0,6.0,1.0,2.0,6.0,2.0,3.0,5.0,2.0,3.0,2.0,4.0,0.0,8.0,1.0,0.0,5.0,0.0,0.0,0.0,0.0,2.0,5.0,0.0,2.0,2.0,3.0,5.0,0.0,3.0,4.0,0.0,1.0,8.0,3.0,0.0,2.0,0.0,0.0,7.0,3.0,2.0,1.0,8.5,0.0,1.0,6.0,1.0,10.0,5.0,0.0,1.0,5.0,3.0,0.0,2.0,9.0,0.0,0.0,2.0,4.0,0.0,2.0,9.0,0.0,3.0,0.0,7.0,0.0,1.0,0.0,2.0,2.0,0.0,0.0,1.0,0.0,2.0,0.0,0.0,0.0,2.0,0.0,2.0,2.0,2.0,1.0,1.0,4.0,1.0,0.0,9.0,0.0,1.0,0.0,7.0,2.0,1.0,0.0,4.0,2.0,2.0,5.0,0.0,0.0,0.0,0.0,0.0,3.0,0.0,3.0,0.0,0.0,1.0,7.0,0.0,3.0,1.0,0.0,0.0,5.0,0.0,0.0,4.0,1.0,0.0,2.0,0.0,0.0,8.0,6.0,0.0,1.0,0.0,4.0,0.0,2.0,2.0,6.0,2.0,2.0,4.0,5.0,8.0,2.0,2.0,0.0,0.0,5.0,2.0,0.0,0.0,0.0,10.0,1.0,0.0,1.0,0.0,2.0,2.0,5.0,3.0,3.0,0.0,0.0,0.0,0.0,2.0,0.0,0.0,2.0,0.0,1.0,3.0,5.0,10.0,8.0,5.0,6.0,8.0,0.0,4.0,0.0,0.0,7.0,1.0,9.0,4.0,1.0,0.0,0.0,0.0,0.0,3.0,3.0,1.0,8.0,7.0,0.0,0.0,6.0,1.0,0.0,2.0,10.0,3.0,0.0,2.0,8.0,8.0,6.0,5.0,5.0,0.0,0.0,4.0,0.0,7.0,0.0,4.0,0.0,3.0,1.0,8.0,7.0,0.0,9.0,10.0,0.0,0.0,4.0,0.0,0.0,0.0,0.0,1.0,8.0,0.0,3.0,3.0,5.0,2.0,0.0,0.0,3.0,8.0,6.0,6.0,1.0,3.0,3.0,4.0,9.0,4.0,7.0,8.0,5.0,3.0,6.0,7.0,1.0,2.0,0.0,2.0,0.0,0.0,4.0,0.0,8.0,10.0,2.0,0.0,0.0,0.0,3.0,0.0,0.0,0.0,3.0,0.0,4.0,6.0,1.0,1.0,3.0,0.0,1.0,7.0,0.0,1.0,5.0,7.0,0.0,6.0,0.0,0.0,5.0,3.0,4.0,5.0,0.0,2.0,0.0,2.0,2.0,0.0,1.0,7.0,0.0,8.0,5.5,2.0,8.0,5.0,4.0,0.0,4.0,0.0,9.0,4.0,6.0,1.0,5.0,10.0,0.0,0.0,7.0,0.0,4.0,0.0,2.0,2.0,8.0,5.0,0.0,0.0,10.0,0.0,4.0,10.0,0.0,2.0,0.0,6.0,9.0,5.0,2.0,1.0,5.0],\"type\":\"histogram\",\"xaxis\":\"x4\",\"yaxis\":\"y4\"}],                        {\"template\":{\"data\":{\"histogram2dcontour\":[{\"type\":\"histogram2dcontour\",\"colorbar\":{\"outlinewidth\":0,\"ticks\":\"\"},\"colorscale\":[[0.0,\"#0d0887\"],[0.1111111111111111,\"#46039f\"],[0.2222222222222222,\"#7201a8\"],[0.3333333333333333,\"#9c179e\"],[0.4444444444444444,\"#bd3786\"],[0.5555555555555556,\"#d8576b\"],[0.6666666666666666,\"#ed7953\"],[0.7777777777777778,\"#fb9f3a\"],[0.8888888888888888,\"#fdca26\"],[1.0,\"#f0f921\"]]}],\"choropleth\":[{\"type\":\"choropleth\",\"colorbar\":{\"outlinewidth\":0,\"ticks\":\"\"}}],\"histogram2d\":[{\"type\":\"histogram2d\",\"colorbar\":{\"outlinewidth\":0,\"ticks\":\"\"},\"colorscale\":[[0.0,\"#0d0887\"],[0.1111111111111111,\"#46039f\"],[0.2222222222222222,\"#7201a8\"],[0.3333333333333333,\"#9c179e\"],[0.4444444444444444,\"#bd3786\"],[0.5555555555555556,\"#d8576b\"],[0.6666666666666666,\"#ed7953\"],[0.7777777777777778,\"#fb9f3a\"],[0.8888888888888888,\"#fdca26\"],[1.0,\"#f0f921\"]]}],\"heatmap\":[{\"type\":\"heatmap\",\"colorbar\":{\"outlinewidth\":0,\"ticks\":\"\"},\"colorscale\":[[0.0,\"#0d0887\"],[0.1111111111111111,\"#46039f\"],[0.2222222222222222,\"#7201a8\"],[0.3333333333333333,\"#9c179e\"],[0.4444444444444444,\"#bd3786\"],[0.5555555555555556,\"#d8576b\"],[0.6666666666666666,\"#ed7953\"],[0.7777777777777778,\"#fb9f3a\"],[0.8888888888888888,\"#fdca26\"],[1.0,\"#f0f921\"]]}],\"heatmapgl\":[{\"type\":\"heatmapgl\",\"colorbar\":{\"outlinewidth\":0,\"ticks\":\"\"},\"colorscale\":[[0.0,\"#0d0887\"],[0.1111111111111111,\"#46039f\"],[0.2222222222222222,\"#7201a8\"],[0.3333333333333333,\"#9c179e\"],[0.4444444444444444,\"#bd3786\"],[0.5555555555555556,\"#d8576b\"],[0.6666666666666666,\"#ed7953\"],[0.7777777777777778,\"#fb9f3a\"],[0.8888888888888888,\"#fdca26\"],[1.0,\"#f0f921\"]]}],\"contourcarpet\":[{\"type\":\"contourcarpet\",\"colorbar\":{\"outlinewidth\":0,\"ticks\":\"\"}}],\"contour\":[{\"type\":\"contour\",\"colorbar\":{\"outlinewidth\":0,\"ticks\":\"\"},\"colorscale\":[[0.0,\"#0d0887\"],[0.1111111111111111,\"#46039f\"],[0.2222222222222222,\"#7201a8\"],[0.3333333333333333,\"#9c179e\"],[0.4444444444444444,\"#bd3786\"],[0.5555555555555556,\"#d8576b\"],[0.6666666666666666,\"#ed7953\"],[0.7777777777777778,\"#fb9f3a\"],[0.8888888888888888,\"#fdca26\"],[1.0,\"#f0f921\"]]}],\"surface\":[{\"type\":\"surface\",\"colorbar\":{\"outlinewidth\":0,\"ticks\":\"\"},\"colorscale\":[[0.0,\"#0d0887\"],[0.1111111111111111,\"#46039f\"],[0.2222222222222222,\"#7201a8\"],[0.3333333333333333,\"#9c179e\"],[0.4444444444444444,\"#bd3786\"],[0.5555555555555556,\"#d8576b\"],[0.6666666666666666,\"#ed7953\"],[0.7777777777777778,\"#fb9f3a\"],[0.8888888888888888,\"#fdca26\"],[1.0,\"#f0f921\"]]}],\"mesh3d\":[{\"type\":\"mesh3d\",\"colorbar\":{\"outlinewidth\":0,\"ticks\":\"\"}}],\"scatter\":[{\"fillpattern\":{\"fillmode\":\"overlay\",\"size\":10,\"solidity\":0.2},\"type\":\"scatter\"}],\"parcoords\":[{\"type\":\"parcoords\",\"line\":{\"colorbar\":{\"outlinewidth\":0,\"ticks\":\"\"}}}],\"scatterpolargl\":[{\"type\":\"scatterpolargl\",\"marker\":{\"colorbar\":{\"outlinewidth\":0,\"ticks\":\"\"}}}],\"bar\":[{\"error_x\":{\"color\":\"#2a3f5f\"},\"error_y\":{\"color\":\"#2a3f5f\"},\"marker\":{\"line\":{\"color\":\"#E5ECF6\",\"width\":0.5},\"pattern\":{\"fillmode\":\"overlay\",\"size\":10,\"solidity\":0.2}},\"type\":\"bar\"}],\"scattergeo\":[{\"type\":\"scattergeo\",\"marker\":{\"colorbar\":{\"outlinewidth\":0,\"ticks\":\"\"}}}],\"scatterpolar\":[{\"type\":\"scatterpolar\",\"marker\":{\"colorbar\":{\"outlinewidth\":0,\"ticks\":\"\"}}}],\"histogram\":[{\"marker\":{\"pattern\":{\"fillmode\":\"overlay\",\"size\":10,\"solidity\":0.2}},\"type\":\"histogram\"}],\"scattergl\":[{\"type\":\"scattergl\",\"marker\":{\"colorbar\":{\"outlinewidth\":0,\"ticks\":\"\"}}}],\"scatter3d\":[{\"type\":\"scatter3d\",\"line\":{\"colorbar\":{\"outlinewidth\":0,\"ticks\":\"\"}},\"marker\":{\"colorbar\":{\"outlinewidth\":0,\"ticks\":\"\"}}}],\"scattermapbox\":[{\"type\":\"scattermapbox\",\"marker\":{\"colorbar\":{\"outlinewidth\":0,\"ticks\":\"\"}}}],\"scatterternary\":[{\"type\":\"scatterternary\",\"marker\":{\"colorbar\":{\"outlinewidth\":0,\"ticks\":\"\"}}}],\"scattercarpet\":[{\"type\":\"scattercarpet\",\"marker\":{\"colorbar\":{\"outlinewidth\":0,\"ticks\":\"\"}}}],\"carpet\":[{\"aaxis\":{\"endlinecolor\":\"#2a3f5f\",\"gridcolor\":\"white\",\"linecolor\":\"white\",\"minorgridcolor\":\"white\",\"startlinecolor\":\"#2a3f5f\"},\"baxis\":{\"endlinecolor\":\"#2a3f5f\",\"gridcolor\":\"white\",\"linecolor\":\"white\",\"minorgridcolor\":\"white\",\"startlinecolor\":\"#2a3f5f\"},\"type\":\"carpet\"}],\"table\":[{\"cells\":{\"fill\":{\"color\":\"#EBF0F8\"},\"line\":{\"color\":\"white\"}},\"header\":{\"fill\":{\"color\":\"#C8D4E3\"},\"line\":{\"color\":\"white\"}},\"type\":\"table\"}],\"barpolar\":[{\"marker\":{\"line\":{\"color\":\"#E5ECF6\",\"width\":0.5},\"pattern\":{\"fillmode\":\"overlay\",\"size\":10,\"solidity\":0.2}},\"type\":\"barpolar\"}],\"pie\":[{\"automargin\":true,\"type\":\"pie\"}]},\"layout\":{\"autotypenumbers\":\"strict\",\"colorway\":[\"#636efa\",\"#EF553B\",\"#00cc96\",\"#ab63fa\",\"#FFA15A\",\"#19d3f3\",\"#FF6692\",\"#B6E880\",\"#FF97FF\",\"#FECB52\"],\"font\":{\"color\":\"#2a3f5f\"},\"hovermode\":\"closest\",\"hoverlabel\":{\"align\":\"left\"},\"paper_bgcolor\":\"white\",\"plot_bgcolor\":\"#E5ECF6\",\"polar\":{\"bgcolor\":\"#E5ECF6\",\"angularaxis\":{\"gridcolor\":\"white\",\"linecolor\":\"white\",\"ticks\":\"\"},\"radialaxis\":{\"gridcolor\":\"white\",\"linecolor\":\"white\",\"ticks\":\"\"}},\"ternary\":{\"bgcolor\":\"#E5ECF6\",\"aaxis\":{\"gridcolor\":\"white\",\"linecolor\":\"white\",\"ticks\":\"\"},\"baxis\":{\"gridcolor\":\"white\",\"linecolor\":\"white\",\"ticks\":\"\"},\"caxis\":{\"gridcolor\":\"white\",\"linecolor\":\"white\",\"ticks\":\"\"}},\"coloraxis\":{\"colorbar\":{\"outlinewidth\":0,\"ticks\":\"\"}},\"colorscale\":{\"sequential\":[[0.0,\"#0d0887\"],[0.1111111111111111,\"#46039f\"],[0.2222222222222222,\"#7201a8\"],[0.3333333333333333,\"#9c179e\"],[0.4444444444444444,\"#bd3786\"],[0.5555555555555556,\"#d8576b\"],[0.6666666666666666,\"#ed7953\"],[0.7777777777777778,\"#fb9f3a\"],[0.8888888888888888,\"#fdca26\"],[1.0,\"#f0f921\"]],\"sequentialminus\":[[0.0,\"#0d0887\"],[0.1111111111111111,\"#46039f\"],[0.2222222222222222,\"#7201a8\"],[0.3333333333333333,\"#9c179e\"],[0.4444444444444444,\"#bd3786\"],[0.5555555555555556,\"#d8576b\"],[0.6666666666666666,\"#ed7953\"],[0.7777777777777778,\"#fb9f3a\"],[0.8888888888888888,\"#fdca26\"],[1.0,\"#f0f921\"]],\"diverging\":[[0,\"#8e0152\"],[0.1,\"#c51b7d\"],[0.2,\"#de77ae\"],[0.3,\"#f1b6da\"],[0.4,\"#fde0ef\"],[0.5,\"#f7f7f7\"],[0.6,\"#e6f5d0\"],[0.7,\"#b8e186\"],[0.8,\"#7fbc41\"],[0.9,\"#4d9221\"],[1,\"#276419\"]]},\"xaxis\":{\"gridcolor\":\"white\",\"linecolor\":\"white\",\"ticks\":\"\",\"title\":{\"standoff\":15},\"zerolinecolor\":\"white\",\"automargin\":true,\"zerolinewidth\":2},\"yaxis\":{\"gridcolor\":\"white\",\"linecolor\":\"white\",\"ticks\":\"\",\"title\":{\"standoff\":15},\"zerolinecolor\":\"white\",\"automargin\":true,\"zerolinewidth\":2},\"scene\":{\"xaxis\":{\"backgroundcolor\":\"#E5ECF6\",\"gridcolor\":\"white\",\"linecolor\":\"white\",\"showbackground\":true,\"ticks\":\"\",\"zerolinecolor\":\"white\",\"gridwidth\":2},\"yaxis\":{\"backgroundcolor\":\"#E5ECF6\",\"gridcolor\":\"white\",\"linecolor\":\"white\",\"showbackground\":true,\"ticks\":\"\",\"zerolinecolor\":\"white\",\"gridwidth\":2},\"zaxis\":{\"backgroundcolor\":\"#E5ECF6\",\"gridcolor\":\"white\",\"linecolor\":\"white\",\"showbackground\":true,\"ticks\":\"\",\"zerolinecolor\":\"white\",\"gridwidth\":2}},\"shapedefaults\":{\"line\":{\"color\":\"#2a3f5f\"}},\"annotationdefaults\":{\"arrowcolor\":\"#2a3f5f\",\"arrowhead\":0,\"arrowwidth\":1},\"geo\":{\"bgcolor\":\"white\",\"landcolor\":\"#E5ECF6\",\"subunitcolor\":\"white\",\"showland\":true,\"showlakes\":true,\"lakecolor\":\"white\"},\"title\":{\"x\":0.05},\"mapbox\":{\"style\":\"light\"}}},\"xaxis\":{\"anchor\":\"y\",\"domain\":[0.0,0.45]},\"yaxis\":{\"anchor\":\"x\",\"domain\":[0.625,1.0]},\"xaxis2\":{\"anchor\":\"y2\",\"domain\":[0.55,1.0]},\"yaxis2\":{\"anchor\":\"x2\",\"domain\":[0.625,1.0]},\"xaxis3\":{\"anchor\":\"y3\",\"domain\":[0.0,0.45]},\"yaxis3\":{\"anchor\":\"x3\",\"domain\":[0.0,0.375]},\"xaxis4\":{\"anchor\":\"y4\",\"domain\":[0.55,1.0]},\"yaxis4\":{\"anchor\":\"x4\",\"domain\":[0.0,0.375]},\"annotations\":[{\"font\":{\"size\":16},\"showarrow\":false,\"text\":\"Anxiety\",\"x\":0.225,\"xanchor\":\"center\",\"xref\":\"paper\",\"y\":1.0,\"yanchor\":\"bottom\",\"yref\":\"paper\"},{\"font\":{\"size\":16},\"showarrow\":false,\"text\":\"Depression\",\"x\":0.775,\"xanchor\":\"center\",\"xref\":\"paper\",\"y\":1.0,\"yanchor\":\"bottom\",\"yref\":\"paper\"},{\"font\":{\"size\":16},\"showarrow\":false,\"text\":\"Insomnia\",\"x\":0.225,\"xanchor\":\"center\",\"xref\":\"paper\",\"y\":0.375,\"yanchor\":\"bottom\",\"yref\":\"paper\"},{\"font\":{\"size\":16},\"showarrow\":false,\"text\":\"OCD\",\"x\":0.775,\"xanchor\":\"center\",\"xref\":\"paper\",\"y\":0.375,\"yanchor\":\"bottom\",\"yref\":\"paper\"}],\"title\":{\"text\":\"Histogram chorób psychicznych\"},\"showlegend\":false,\"width\":800,\"height\":600},                        {\"responsive\": true}                    ).then(function(){\n",
              "                            \n",
              "var gd = document.getElementById('e30b5a44-39a5-40ed-9e4f-365c58d46677');\n",
              "var x = new MutationObserver(function (mutations, observer) {{\n",
              "        var display = window.getComputedStyle(gd).display;\n",
              "        if (!display || display === 'none') {{\n",
              "            console.log([gd, 'removed!']);\n",
              "            Plotly.purge(gd);\n",
              "            observer.disconnect();\n",
              "        }}\n",
              "}});\n",
              "\n",
              "// Listen for the removal of the full notebook cells\n",
              "var notebookContainer = gd.closest('#notebook-container');\n",
              "if (notebookContainer) {{\n",
              "    x.observe(notebookContainer, {childList: true});\n",
              "}}\n",
              "\n",
              "// Listen for the clearing of the current output cell\n",
              "var outputEl = gd.closest('.output');\n",
              "if (outputEl) {{\n",
              "    x.observe(outputEl, {childList: true});\n",
              "}}\n",
              "\n",
              "                        })                };                            </script>        </div>\n",
              "</body>\n",
              "</html>"
            ]
          },
          "metadata": {}
        }
      ]
    },
    {
      "cell_type": "markdown",
      "source": [
        "#### Choroby psychiczne a wiek"
      ],
      "metadata": {
        "id": "Tmmrn9fIEZEj"
      }
    },
    {
      "cell_type": "code",
      "source": [
        "illness_age = make_subplots(rows=2, cols=2, vertical_spacing=0.2)\n",
        "\n",
        "for i, col_name in enumerate(mental_illness.columns):\n",
        "  row = i // 2 + 1\n",
        "  column = i % 2 + 1\n",
        "  illness_age.add_trace(\n",
        "    go.Scatter(x=df['Age'], y=df[col_name], mode='markers'),\n",
        "    row=row, col=column)\n",
        "  illness_age.update_yaxes(row=row, col=column, title=col_name)\n",
        "\n",
        "\n",
        "illness_age.update_xaxes(title='Age')\n",
        "illness_age.update_traces(marker_size=5)\n",
        "illness_age.update_layout(\n",
        "    title='Poziom poszczególnych chorób według wieku',\n",
        "    showlegend=False,\n",
        "    height=600,\n",
        "    width=900\n",
        ")\n",
        "illness_age.show()"
      ],
      "metadata": {
        "colab": {
          "base_uri": "https://localhost:8080/",
          "height": 617
        },
        "id": "xV7kke10EWKP",
        "outputId": "211f0881-5b36-43f5-9b5f-eebc5f266d76"
      },
      "execution_count": 106,
      "outputs": [
        {
          "output_type": "display_data",
          "data": {
            "text/html": [
              "<html>\n",
              "<head><meta charset=\"utf-8\" /></head>\n",
              "<body>\n",
              "    <div>            <script src=\"https://cdnjs.cloudflare.com/ajax/libs/mathjax/2.7.5/MathJax.js?config=TeX-AMS-MML_SVG\"></script><script type=\"text/javascript\">if (window.MathJax && window.MathJax.Hub && window.MathJax.Hub.Config) {window.MathJax.Hub.Config({SVG: {font: \"STIX-Web\"}});}</script>                <script type=\"text/javascript\">window.PlotlyConfig = {MathJaxConfig: 'local'};</script>\n",
              "        <script charset=\"utf-8\" src=\"https://cdn.plot.ly/plotly-2.35.2.min.js\"></script>                <div id=\"490f3fc2-5e86-45a8-ae08-6b4588a0371d\" class=\"plotly-graph-div\" style=\"height:600px; width:900px;\"></div>            <script type=\"text/javascript\">                                    window.PLOTLYENV=window.PLOTLYENV || {};                                    if (document.getElementById(\"490f3fc2-5e86-45a8-ae08-6b4588a0371d\")) {                    Plotly.newPlot(                        \"490f3fc2-5e86-45a8-ae08-6b4588a0371d\",                        [{\"mode\":\"markers\",\"x\":[18,63,18,61,18,18,18,21,19,18,18,19,19,18,17,16,16,17,15,15,17,19,18,16,18,14,18,17,17,20,19,19,17,16,18,21,17,26,20,23,18,37,17,18,17,36,24,18,19,17,16,23,23,22,16,18,42,23,23,19,22,15,25,32,36,24,29,41,36,19,31,16,26,22,16,17,19,18,18,19,19,22,16,19,37,14,33,26,32,30,43,24,36,19,22,20,31,19,15,18,25,17,28,20,21,41,20,34,21,23,16,19,22,19,23,23,22,17,28,23,19,17,21,29,22,18,13,24,35,29,28,32,32,21,18,19,18,16,25,17,16,27,53,25,34,22,17,26,19,21,32,21,25,26,21,17,28,41,18,22,18,49,21,27,19,27,27,19,42,60,19,20,28,16,18,34,18,21,38,17,35,21,25,18,16,19,31,26,16,26,17,22,20,30,26,19,21,33,28,25,22,19,44,22,26,23,17,42,30,35,20,18,21,19,37,31,29,20,36,18,18,25,18,31,17,21,30,40,64,14,26,35,33,30,31,27,53,23,25,16,18,29,31,31,38,17,25,20,15,16,20,23,22,15,17,22,21,19,32,34,18,21,20,19,25,31,21,31,20,19,19,23,24,20,15,17,20,14,24,14,23,28,22,25,27,18,17,23,40,27,18,16,18,23,15,20,16,16,20,33,22,21,21,29,56,17,22,26,30,49,22,32,32,22,17,21,17,25,15,13,38,23,17,59,22,17,27,23,15,22,23,19,32,40,21,21,23,21,35,18,21,22,23,13,19,33,18,17,16,18,19,15,17,25,24,23,16,25,16,20,17,29,20,16,21,16,43,32,10,27,24,18,17,19,16,64,33,32,15,27,20,23,19,12,16,17,14,32,20,54,18,14,13,19,14,14,18,15,24,17,44,23,21,57,23,18,26,13,15,57,12,26,17,17,69,17,32,22,38,18,14,14,19,20,18,30,31,72,73,16,19,16,12,39,15,14,21,38,23,16,21,13,16,18,21,17,24,14,25,22,20,23,61,24,34,49,33,22,38,23,34,40,27,54,16,23,35,22,41,63,28,22,58,58,67,70,60,15,18,58,28,22,49,20,55,48,14,18,25,71,60,18,19,74,36,14,20,15,19,29,24,18,21,19,25,28,27,60,25,60,43,51,63,64,22,24,19,56,20,19,20,60,65,28,18,42,80,22,56,20,15,67,57,22,17,19,50,24,67,18,20,15,17,32,18,18,18,19,18,17,34,18,18,22,18,19,25,17,25,18,21,24,16,18,18,16,68,16,21,53,29,18,29,18,22,19,13,26,14,27,26,59,30,27,18,23,18,40,24,23,56,29,16,18,21,32,22,17,18,18,24,21,46,18,16,21,19,20,21,56,21,20,21,25,33,20,17,24,26,17,16,27,28,48,19,21,21,15,20,21,22,22,31,20,49,42,26,17,30,23,30,31,42,16,34,21,27,18,26,37,26,19,22,43,24,21,28,23,20,17,19,32,18,20,27,15,26,24,20,21,16,21,27,17,21,17,21,17,36,18,18,18,18,18,18,18,18,18,20,19,17,23,18,19,89,20,16,17,16,20,30,37,44,21,19,23,26,18,35,16,19,23,17,29,21,17,23,17,22,17,19,19,16,19,13,18,26,14,21,21,17,18,19,19,29],\"y\":[3.0,7.0,7.0,9.0,7.0,8.0,4.0,5.0,2.0,2.0,7.0,1.0,2.0,6.0,7.0,8.0,5.0,7.0,7.0,6.0,10.0,6.0,3.0,10.0,7.0,8.0,3.0,6.0,8.0,7.0,4.0,9.0,5.0,0.0,3.0,6.0,2.0,9.0,7.0,4.0,7.0,3.0,6.0,1.0,7.0,8.0,9.0,7.0,7.0,0.0,7.0,10.0,3.0,8.0,0.0,8.0,9.0,6.0,7.0,10.0,8.0,3.0,5.0,10.0,5.0,0.0,8.0,10.0,7.0,8.0,10.0,9.0,6.0,7.0,7.0,4.0,7.0,9.0,2.0,10.0,3.0,7.0,2.0,5.0,9.0,2.0,5.0,3.0,2.0,7.0,5.0,4.0,6.0,8.0,9.0,0.0,8.0,4.0,8.0,3.0,1.0,10.0,6.0,6.0,8.0,9.0,7.0,6.0,10.0,6.0,7.0,7.0,8.0,4.0,7.0,7.0,2.0,7.0,4.0,7.0,5.0,10.0,6.0,7.0,4.0,4.0,7.0,6.0,4.0,6.0,10.0,10.0,3.0,8.0,8.0,3.0,6.0,0.0,6.0,3.0,1.0,5.0,0.0,0.0,3.0,8.0,5.0,8.0,6.0,6.0,6.0,9.0,7.0,10.0,1.0,5.0,6.0,7.0,6.0,1.0,0.0,8.0,3.0,8.0,6.0,1.0,5.0,8.0,8.0,3.0,0.0,6.0,1.0,4.0,5.0,1.0,8.0,9.0,4.0,7.0,10.0,8.0,7.0,7.0,10.0,7.0,6.0,2.0,7.0,7.0,6.0,3.0,9.0,8.0,8.0,9.0,9.0,9.0,10.0,9.0,7.0,9.0,9.0,9.0,10.0,6.0,8.0,8.0,4.0,2.0,10.0,8.0,4.0,4.0,9.0,8.0,6.0,8.0,7.0,10.0,6.0,2.0,3.0,9.0,5.0,8.0,8.0,3.0,4.0,7.0,3.0,9.0,3.0,9.0,7.0,0.0,2.0,6.0,6.0,8.0,6.0,7.0,8.0,3.0,9.0,7.0,10.0,0.0,9.0,7.0,9.0,3.0,6.0,10.0,6.0,3.0,9.0,7.0,3.0,9.0,5.0,0.0,8.0,7.0,9.0,5.0,5.0,4.0,3.0,2.0,0.0,7.0,6.0,5.0,6.0,8.0,8.0,8.0,8.0,5.0,6.0,7.0,8.0,10.0,8.0,8.0,8.0,6.0,0.0,8.0,3.0,5.0,8.0,10.0,6.0,7.0,9.0,8.0,8.0,7.0,10.0,8.0,8.0,8.0,6.0,7.0,7.0,8.0,4.0,0.0,6.0,4.0,8.0,5.0,0.0,7.0,8.0,9.0,8.0,7.0,6.0,7.0,1.0,1.0,2.0,6.0,7.0,8.0,8.0,5.0,7.0,7.0,8.0,10.0,6.0,8.0,10.0,10.0,8.0,3.0,9.0,5.0,10.0,8.0,6.0,7.0,3.0,4.0,4.0,5.0,4.0,4.0,7.0,7.0,3.0,9.0,10.0,9.0,8.0,8.0,5.0,9.0,3.0,7.0,7.0,5.0,3.0,8.0,8.0,4.0,9.0,10.0,8.0,1.0,5.0,7.0,8.0,2.0,6.0,2.0,6.0,6.0,7.0,0.0,9.0,10.0,6.0,4.0,6.0,2.0,7.0,7.0,8.0,7.0,6.0,1.0,3.0,6.0,6.0,9.0,7.0,1.0,4.0,2.0,0.0,8.0,5.0,8.0,9.0,2.0,7.0,10.0,8.0,7.0,1.0,9.0,9.0,8.0,1.0,10.0,3.0,4.0,2.0,2.0,8.0,10.0,8.0,0.0,5.0,7.5,3.0,7.0,8.0,6.0,8.0,10.0,3.0,5.0,7.0,7.0,3.0,4.0,3.0,5.0,10.0,7.0,7.0,6.0,6.0,7.0,5.0,7.0,2.0,9.0,3.0,4.0,1.0,3.0,1.0,8.0,8.0,3.0,3.0,2.0,0.0,8.0,1.0,8.0,6.0,5.0,3.0,4.0,5.0,0.0,7.0,8.0,4.0,9.0,5.0,4.0,4.0,9.0,3.0,6.0,2.0,10.0,4.0,7.0,7.0,1.0,6.0,4.0,10.0,4.0,7.0,3.0,10.0,4.0,7.0,6.0,7.0,6.0,10.0,7.0,3.0,8.0,7.0,3.0,8.0,7.0,5.0,1.0,2.0,5.0,7.0,10.0,7.0,6.0,5.0,7.0,7.0,0.0,3.0,8.0,8.0,2.0,7.0,8.0,0.0,8.0,4.0,3.0,6.0,8.0,5.0,10.0,0.0,8.0,8.0,7.0,0.0,3.0,5.0,6.0,6.0,5.0,8.0,1.0,8.0,3.0,0.0,5.0,2.0,4.0,5.0,4.0,10.0,3.0,8.0,3.0,4.0,10.0,10.0,9.0,6.0,3.0,10.0,4.0,3.0,1.0,5.0,7.0,10.0,3.0,1.0,6.0,4.0,6.0,2.0,8.0,8.0,1.0,8.0,6.0,2.0,0.0,10.0,3.0,7.0,8.0,2.0,10.0,6.0,3.0,6.0,7.0,10.0,0.0,0.0,2.0,2.0,5.0,0.0,5.0,2.0,0.0,0.0,7.0,7.0,3.0,7.0,3.0,5.0,8.0,4.0,7.0,1.0,3.0,6.0,6.0,7.0,2.0,8.0,3.0,7.0,4.0,3.0,10.0,10.0,2.0,8.0,10.0,9.0,5.0,4.0,7.0,2.0,10.0,10.0,3.0,7.0,7.0,7.0,4.0,5.0,5.0,7.0,8.0,1.0,8.0,4.0,9.0,10.0,1.0,7.0,10.0,2.0,3.0,7.0,4.0,4.0,6.0,8.0,2.0,8.0,4.0,6.0,6.0,8.0,5.0,6.0,5.0,6.0,7.0,4.0,9.0,9.0,5.0,1.0,8.0,5.0,10.0,7.0,3.0,5.0,2.0,7.0,8.0,4.0,3.0,7.0,10.0,7.0,5.0,0.0,10.0,7.0,2.0,10.0,8.0,9.0,6.0,8.0,3.0,9.0,8.0,4.0,6.0,7.0,8.0,8.0,10.0,5.0,9.0,4.0,9.0,5.0,8.0,10.0,7.0,10.0,8.0,10.0,6.0,10.0,9.0,0.0,7.0,6.0,7.0,7.0,3.0,2.0,2.0,2.0],\"type\":\"scatter\",\"xaxis\":\"x\",\"yaxis\":\"y\",\"marker\":{\"size\":5}},{\"mode\":\"markers\",\"x\":[18,63,18,61,18,18,18,21,19,18,18,19,19,18,17,16,16,17,15,15,17,19,18,16,18,14,18,17,17,20,19,19,17,16,18,21,17,26,20,23,18,37,17,18,17,36,24,18,19,17,16,23,23,22,16,18,42,23,23,19,22,15,25,32,36,24,29,41,36,19,31,16,26,22,16,17,19,18,18,19,19,22,16,19,37,14,33,26,32,30,43,24,36,19,22,20,31,19,15,18,25,17,28,20,21,41,20,34,21,23,16,19,22,19,23,23,22,17,28,23,19,17,21,29,22,18,13,24,35,29,28,32,32,21,18,19,18,16,25,17,16,27,53,25,34,22,17,26,19,21,32,21,25,26,21,17,28,41,18,22,18,49,21,27,19,27,27,19,42,60,19,20,28,16,18,34,18,21,38,17,35,21,25,18,16,19,31,26,16,26,17,22,20,30,26,19,21,33,28,25,22,19,44,22,26,23,17,42,30,35,20,18,21,19,37,31,29,20,36,18,18,25,18,31,17,21,30,40,64,14,26,35,33,30,31,27,53,23,25,16,18,29,31,31,38,17,25,20,15,16,20,23,22,15,17,22,21,19,32,34,18,21,20,19,25,31,21,31,20,19,19,23,24,20,15,17,20,14,24,14,23,28,22,25,27,18,17,23,40,27,18,16,18,23,15,20,16,16,20,33,22,21,21,29,56,17,22,26,30,49,22,32,32,22,17,21,17,25,15,13,38,23,17,59,22,17,27,23,15,22,23,19,32,40,21,21,23,21,35,18,21,22,23,13,19,33,18,17,16,18,19,15,17,25,24,23,16,25,16,20,17,29,20,16,21,16,43,32,10,27,24,18,17,19,16,64,33,32,15,27,20,23,19,12,16,17,14,32,20,54,18,14,13,19,14,14,18,15,24,17,44,23,21,57,23,18,26,13,15,57,12,26,17,17,69,17,32,22,38,18,14,14,19,20,18,30,31,72,73,16,19,16,12,39,15,14,21,38,23,16,21,13,16,18,21,17,24,14,25,22,20,23,61,24,34,49,33,22,38,23,34,40,27,54,16,23,35,22,41,63,28,22,58,58,67,70,60,15,18,58,28,22,49,20,55,48,14,18,25,71,60,18,19,74,36,14,20,15,19,29,24,18,21,19,25,28,27,60,25,60,43,51,63,64,22,24,19,56,20,19,20,60,65,28,18,42,80,22,56,20,15,67,57,22,17,19,50,24,67,18,20,15,17,32,18,18,18,19,18,17,34,18,18,22,18,19,25,17,25,18,21,24,16,18,18,16,68,16,21,53,29,18,29,18,22,19,13,26,14,27,26,59,30,27,18,23,18,40,24,23,56,29,16,18,21,32,22,17,18,18,24,21,46,18,16,21,19,20,21,56,21,20,21,25,33,20,17,24,26,17,16,27,28,48,19,21,21,15,20,21,22,22,31,20,49,42,26,17,30,23,30,31,42,16,34,21,27,18,26,37,26,19,22,43,24,21,28,23,20,17,19,32,18,20,27,15,26,24,20,21,16,21,27,17,21,17,21,17,36,18,18,18,18,18,18,18,18,18,20,19,17,23,18,19,89,20,16,17,16,20,30,37,44,21,19,23,26,18,35,16,19,23,17,29,21,17,23,17,22,17,19,19,16,19,13,18,26,14,21,21,17,18,19,19,29],\"y\":[0.0,2.0,7.0,7.0,2.0,8.0,8.0,3.0,0.0,2.0,7.0,0.0,1.0,4.0,5.0,8.0,7.0,5.0,3.0,9.0,10.0,7.0,3.0,6.0,4.0,6.0,2.0,6.0,2.0,7.0,4.0,8.0,6.0,0.0,2.0,8.0,0.0,8.0,2.0,2.0,6.0,2.0,6.0,0.0,3.0,9.0,6.0,9.0,4.0,0.0,8.0,6.0,7.0,7.0,0.0,6.0,0.0,4.0,0.0,1.0,7.0,2.0,5.0,10.0,4.0,0.0,8.0,7.0,3.0,7.0,2.0,8.0,3.0,7.0,7.0,1.0,2.0,0.0,7.0,8.0,0.0,8.0,1.0,4.0,10.0,0.0,2.0,2.0,0.0,6.0,4.0,6.0,2.0,2.0,6.0,3.0,9.0,1.0,7.0,4.0,1.0,8.0,6.0,7.0,4.0,7.0,4.0,7.0,0.0,3.0,5.0,10.0,6.0,3.0,6.0,3.0,7.0,8.0,7.0,8.0,2.0,7.0,5.0,2.0,7.0,5.0,10.0,4.0,1.0,6.0,8.0,8.0,6.0,9.0,3.0,3.0,5.0,0.0,5.0,8.0,8.0,6.0,0.0,8.0,7.0,8.0,2.0,8.0,8.0,8.0,6.0,10.0,7.0,7.0,3.0,3.0,8.0,2.0,9.0,1.0,2.0,8.0,3.0,8.0,4.0,0.0,5.0,9.0,8.0,0.0,5.0,3.0,7.0,2.0,6.0,0.0,6.0,4.0,6.0,3.0,3.0,8.0,6.0,2.0,3.5,5.0,8.0,9.0,4.0,5.0,1.0,6.0,10.0,5.0,7.0,9.0,8.0,3.0,8.0,6.0,7.0,10.0,9.0,10.0,9.0,5.0,6.0,3.0,2.0,1.0,10.0,9.0,9.0,2.0,2.0,6.0,5.0,5.0,6.0,2.0,0.0,0.0,7.0,0.0,4.0,4.0,10.0,6.0,4.0,5.0,2.0,9.0,10.0,0.0,6.0,9.0,2.0,9.0,4.0,9.0,7.0,2.0,6.0,10.0,4.0,9.0,3.0,0.0,6.0,1.0,7.0,1.0,6.0,6.0,3.0,3.0,10.0,5.0,0.0,9.0,7.0,8.0,4.0,2.0,9.0,7.0,1.0,1.0,5.0,2.0,1.0,8.0,4.0,6.0,6.0,9.0,4.0,6.0,8.0,2.0,8.0,5.0,8.0,2.0,7.0,8.0,10.0,1.0,4.0,10.0,2.0,3.0,9.0,3.0,7.0,4.0,8.0,0.0,9.0,2.0,10.0,8.0,7.0,7.0,5.0,6.0,4.0,7.0,4.0,0.0,4.0,7.0,4.0,5.0,8.0,4.0,7.0,8.0,6.0,2.0,7.0,6.0,1.0,1.0,7.0,2.0,7.0,7.0,3.0,4.0,10.0,6.0,7.0,7.0,5.0,7.0,7.0,10.0,2.0,7.0,7.0,3.0,7.0,0.0,0.0,9.0,2.0,2.0,2.0,3.0,2.0,0.0,6.0,8.0,4.0,7.0,9.0,9.0,10.0,9.0,6.0,3.0,2.0,7.0,9.0,1.0,3.0,7.0,2.0,0.0,6.0,7.0,7.0,0.0,7.0,6.0,8.0,2.0,0.0,0.0,2.0,1.0,6.0,0.0,7.0,0.0,6.0,3.0,2.0,2.0,4.0,5.0,5.0,5.0,8.0,2.0,2.0,7.0,7.0,8.0,7.0,0.0,3.0,0.0,5.0,7.0,10.0,7.0,6.0,2.0,8.0,10.0,5.0,8.0,1.0,10.0,4.0,2.0,1.0,9.0,0.0,0.0,3.0,3.0,4.0,10.0,8.0,1.0,4.0,5.0,3.0,5.0,0.0,4.0,8.0,8.0,0.0,5.0,7.0,4.0,3.0,0.0,0.0,1.0,6.0,5.0,7.0,0.0,2.0,6.0,7.0,6.0,2.0,5.0,7.0,5.0,0.0,2.0,6.0,10.0,10.0,0.0,4.0,1.0,0.0,8.0,1.0,7.0,5.0,4.0,1.0,8.0,6.0,0.0,6.0,5.0,4.0,8.0,5.0,6.0,8.0,10.0,2.0,2.0,0.0,8.0,4.0,8.0,6.0,0.0,2.0,5.0,7.0,2.0,6.0,2.0,7.0,0.0,7.0,7.0,6.0,5.0,10.0,6.0,0.0,2.0,6.0,2.0,2.0,7.0,1.0,2.0,1.0,2.0,2.0,10.0,2.0,4.0,9.0,5.0,6.0,0.0,5.0,8.0,7.0,4.0,3.0,7.0,0.0,6.0,2.0,2.0,4.0,8.0,5.0,8.0,0.0,8.0,2.0,8.0,2.0,5.0,2.0,1.0,3.0,6.0,4.0,1.0,3.0,3.0,0.0,4.0,4.0,6.0,7.0,0.0,8.0,3.0,7.0,3.0,5.0,10.0,2.0,6.0,4.0,4.0,10.0,8.0,0.0,0.0,6.0,0.0,8.0,0.0,0.0,6.0,3.0,4.0,6.0,3.0,10.0,0.0,6.0,3.0,0.0,0.0,10.0,0.0,9.0,7.0,0.0,7.0,0.0,0.0,5.0,6.0,7.0,3.0,2.0,0.0,2.0,6.0,0.0,4.0,7.0,6.0,0.0,5.0,5.0,3.0,10.0,2.0,1.0,9.0,8.0,9.0,5.0,2.0,8.0,3.0,4.0,6.0,5.0,3.0,5.0,8.0,0.0,7.0,4.0,2.0,7.0,5.0,10.0,2.0,8.0,8.0,2.0,3.0,10.0,7.0,5.0,4.0,9.0,7.0,9.0,4.0,2.0,6.0,3.0,10.0,7.0,6.0,7.0,2.0,10.0,2.0,1.0,10.0,10.0,2.0,2.0,8.0,6.0,2.0,7.0,3.0,1.0,6.0,7.0,3.0,2.0,6.0,10.0,3.0,6.0,4.0,7.0,10.0,0.0,7.0,1.0,6.0,5.0,1.0,8.0,0.0,0.0,0.0,1.0,8.0,0.0,8.0,1.0,9.0,0.0,6.0,3.5,0.0,10.0,9.0,7.0,4.0,5.0,7.0,1.0,6.0,1.0,5.0,8.0,9.0,6.0,5.0,2.0,3.0,6.0,8.0,7.0,3.0,10.0,7.0,8.0,6.0,7.0,6.0,10.0,8.0,0.0,3.0,2.0,6.0,6.0,2.0,2.0,3.0,2.0],\"type\":\"scatter\",\"xaxis\":\"x2\",\"yaxis\":\"y2\",\"marker\":{\"size\":5}},{\"mode\":\"markers\",\"x\":[18,63,18,61,18,18,18,21,19,18,18,19,19,18,17,16,16,17,15,15,17,19,18,16,18,14,18,17,17,20,19,19,17,16,18,21,17,26,20,23,18,37,17,18,17,36,24,18,19,17,16,23,23,22,16,18,42,23,23,19,22,15,25,32,36,24,29,41,36,19,31,16,26,22,16,17,19,18,18,19,19,22,16,19,37,14,33,26,32,30,43,24,36,19,22,20,31,19,15,18,25,17,28,20,21,41,20,34,21,23,16,19,22,19,23,23,22,17,28,23,19,17,21,29,22,18,13,24,35,29,28,32,32,21,18,19,18,16,25,17,16,27,53,25,34,22,17,26,19,21,32,21,25,26,21,17,28,41,18,22,18,49,21,27,19,27,27,19,42,60,19,20,28,16,18,34,18,21,38,17,35,21,25,18,16,19,31,26,16,26,17,22,20,30,26,19,21,33,28,25,22,19,44,22,26,23,17,42,30,35,20,18,21,19,37,31,29,20,36,18,18,25,18,31,17,21,30,40,64,14,26,35,33,30,31,27,53,23,25,16,18,29,31,31,38,17,25,20,15,16,20,23,22,15,17,22,21,19,32,34,18,21,20,19,25,31,21,31,20,19,19,23,24,20,15,17,20,14,24,14,23,28,22,25,27,18,17,23,40,27,18,16,18,23,15,20,16,16,20,33,22,21,21,29,56,17,22,26,30,49,22,32,32,22,17,21,17,25,15,13,38,23,17,59,22,17,27,23,15,22,23,19,32,40,21,21,23,21,35,18,21,22,23,13,19,33,18,17,16,18,19,15,17,25,24,23,16,25,16,20,17,29,20,16,21,16,43,32,10,27,24,18,17,19,16,64,33,32,15,27,20,23,19,12,16,17,14,32,20,54,18,14,13,19,14,14,18,15,24,17,44,23,21,57,23,18,26,13,15,57,12,26,17,17,69,17,32,22,38,18,14,14,19,20,18,30,31,72,73,16,19,16,12,39,15,14,21,38,23,16,21,13,16,18,21,17,24,14,25,22,20,23,61,24,34,49,33,22,38,23,34,40,27,54,16,23,35,22,41,63,28,22,58,58,67,70,60,15,18,58,28,22,49,20,55,48,14,18,25,71,60,18,19,74,36,14,20,15,19,29,24,18,21,19,25,28,27,60,25,60,43,51,63,64,22,24,19,56,20,19,20,60,65,28,18,42,80,22,56,20,15,67,57,22,17,19,50,24,67,18,20,15,17,32,18,18,18,19,18,17,34,18,18,22,18,19,25,17,25,18,21,24,16,18,18,16,68,16,21,53,29,18,29,18,22,19,13,26,14,27,26,59,30,27,18,23,18,40,24,23,56,29,16,18,21,32,22,17,18,18,24,21,46,18,16,21,19,20,21,56,21,20,21,25,33,20,17,24,26,17,16,27,28,48,19,21,21,15,20,21,22,22,31,20,49,42,26,17,30,23,30,31,42,16,34,21,27,18,26,37,26,19,22,43,24,21,28,23,20,17,19,32,18,20,27,15,26,24,20,21,16,21,27,17,21,17,21,17,36,18,18,18,18,18,18,18,18,18,20,19,17,23,18,19,89,20,16,17,16,20,30,37,44,21,19,23,26,18,35,16,19,23,17,29,21,17,23,17,22,17,19,19,16,19,13,18,26,14,21,21,17,18,19,19,29],\"y\":[1.0,2.0,10.0,3.0,5.0,7.0,6.0,5.0,0.0,5.0,4.0,0.0,2.0,7.0,4.0,4.0,10.0,0.0,0.0,3.0,2.0,5.0,8.0,8.0,2.0,10.0,1.0,4.0,1.0,2.0,4.0,2.0,6.0,0.0,1.0,0.0,4.0,1.0,8.0,3.0,5.0,10.0,8.0,8.0,1.0,3.0,4.0,5.0,2.0,0.0,7.0,3.0,5.0,4.0,1.0,2.0,10.0,2.0,0.0,0.0,0.0,6.0,3.0,3.0,10.0,8.0,5.0,8.0,1.0,4.0,0.0,1.0,1.0,0.0,8.0,0.0,1.0,5.0,1.0,7.0,0.0,5.0,0.0,0.0,6.0,0.0,5.0,0.0,7.0,6.0,8.0,5.0,3.0,1.0,0.0,7.0,6.0,1.0,5.0,6.0,3.0,6.0,2.0,0.0,10.0,6.0,6.0,0.0,10.0,0.0,5.0,5.0,0.0,0.0,7.0,2.0,5.0,6.0,1.0,5.0,8.0,4.0,0.0,3.0,7.0,6.0,5.0,5.0,3.0,1.0,7.0,2.0,2.0,2.0,8.0,1.0,2.0,4.0,0.0,0.0,0.0,6.0,0.0,0.0,0.0,8.0,3.0,3.0,8.0,6.0,7.0,3.0,5.0,2.0,0.0,2.0,1.0,0.0,9.0,4.0,0.0,2.0,7.0,3.0,0.0,0.0,4.0,6.0,7.0,2.0,1.0,0.0,5.0,1.0,0.0,0.0,5.0,0.0,6.0,1.0,1.0,3.0,5.0,3.0,5.0,1.0,9.0,2.0,10.0,6.0,0.0,1.0,3.0,8.0,7.0,9.0,9.0,7.0,6.0,3.0,8.0,4.0,8.0,3.0,8.0,6.0,10.0,6.0,1.0,1.0,7.0,0.0,6.0,0.0,7.0,7.0,4.0,2.0,6.0,0.0,0.0,1.0,5.0,2.0,1.0,0.0,2.0,2.0,2.0,2.0,0.0,5.0,4.0,5.0,6.0,4.0,2.0,2.0,1.0,4.0,4.0,2.0,5.0,0.0,9.0,2.0,1.0,0.0,1.0,3.0,5.0,2.0,8.0,0.0,1.0,0.0,2.0,0.0,4.0,6.0,7.0,0.0,3.0,0.0,6.0,5.0,0.0,3.0,3.0,0.0,3.0,6.0,8.0,8.0,2.0,3.0,3.0,5.0,7.0,5.0,4.0,2.0,7.0,0.0,7.0,8.0,9.0,8.0,4.0,10.0,0.0,3.0,6.0,0.0,8.0,7.0,6.0,0.0,2.0,3.0,4.0,3.0,7.0,1.0,10.0,0.0,0.0,2.0,4.0,2.0,0.0,0.0,3.0,3.0,0.0,6.0,7.0,6.0,4.0,0.0,7.0,4.0,1.0,3.0,1.0,3.0,3.0,0.0,5.0,2.0,10.0,8.0,0.0,3.0,5.0,6.0,7.0,5.0,2.0,4.0,5.0,0.0,0.0,0.0,3.0,4.0,5.0,0.0,0.0,1.0,2.0,6.0,3.0,6.0,1.0,2.0,3.0,7.0,9.0,6.0,9.0,7.0,1.0,4.0,1.0,9.0,0.0,5.0,1.0,0.0,1.0,2.0,7.0,0.0,1.0,9.0,2.0,8.0,0.0,1.0,6.0,0.0,4.0,3.0,10.0,0.0,3.0,1.0,2.0,3.0,5.0,3.0,10.0,6.0,8.0,4.0,0.0,7.0,2.0,4.0,2.0,1.0,4.0,0.0,7.0,7.0,8.0,9.0,8.0,7.0,6.0,8.0,2.0,2.0,2.0,10.0,4.0,4.0,5.0,9.0,2.0,4.0,5.0,3.0,3.0,10.0,9.0,0.0,0.0,7.0,0.0,3.0,1.0,1.0,7.0,9.0,2.0,7.0,6.0,6.0,1.0,0.0,6.0,6.0,8.0,1.0,0.0,0.0,3.0,7.0,7.0,4.0,2.0,0.0,8.0,9.0,7.0,0.0,1.0,4.0,10.0,8.0,1.0,2.0,0.0,5.0,1.0,6.0,4.0,6.0,0.0,2.0,3.0,2.0,7.0,6.0,2.0,10.0,7.0,8.0,5.0,6.0,2.0,2.0,3.0,0.0,2.0,6.0,5.0,0.0,8.0,7.0,0.0,1.0,2.0,8.0,4.0,0.0,0.0,4.0,2.0,8.0,2.0,5.0,0.0,1.0,6.0,5.0,1.0,2.0,1.0,1.0,2.0,4.0,1.0,7.0,1.0,1.0,6.0,7.0,7.0,0.0,0.0,5.0,10.0,5.0,9.0,4.0,0.0,9.0,3.0,2.0,10.0,10.0,5.0,6.0,7.0,10.0,0.0,4.0,0.0,4.0,3.0,0.0,4.0,8.0,7.0,2.0,1.0,0.0,0.0,2.0,0.0,0.0,2.0,7.0,6.0,1.0,2.0,0.0,2.0,8.0,7.0,8.0,1.0,6.0,10.0,8.0,0.0,0.0,7.0,3.0,8.0,3.0,0.0,0.0,4.0,0.0,3.0,3.0,7.0,0.0,6.0,1.0,3.0,0.0,6.0,0.0,10.0,6.0,10.0,9.0,0.0,2.0,9.0,5.0,8.0,9.0,1.0,0.0,4.0,3.0,1.0,3.0,0.0,0.0,0.0,1.0,3.0,1.0,4.0,3.0,1.0,4.0,0.0,7.0,6.0,1.0,0.0,6.0,8.0,9.0,3.0,0.0,3.0,2.0,0.0,3.0,8.0,0.0,7.0,2.0,10.0,1.0,9.0,5.0,0.0,0.0,10.0,7.0,7.0,8.0,4.0,1.0,9.0,10.0,0.0,0.0,10.0,10.0,6.0,3.0,4.0,2.0,0.0,1.0,2.0,0.0,2.0,0.0,5.0,7.0,4.0,0.0,9.0,5.0,0.0,3.0,1.0,4.0,4.0,6.0,8.0,9.0,0.0,0.0,7.0,2.0,1.0,2.0,4.0,0.0,5.0,0.0,7.0,0.0,0.0,0.0,1.0,0.0,2.0,10.0,1.0,1.0,0.0,3.0,3.5,0.0,10.0,6.0,8.0,5.0,9.0,0.0,0.0,1.0,1.0,3.0,6.0,5.0,7.0,2.0,4.0,2.0,3.0,4.0,10.0,9.0,6.0,5.0,1.0,2.0,6.0,8.0,8.0,5.0,0.0,1.0,2.0,4.0,0.0,2.0,2.0,2.0,2.0],\"type\":\"scatter\",\"xaxis\":\"x3\",\"yaxis\":\"y3\",\"marker\":{\"size\":5}},{\"mode\":\"markers\",\"x\":[18,63,18,61,18,18,18,21,19,18,18,19,19,18,17,16,16,17,15,15,17,19,18,16,18,14,18,17,17,20,19,19,17,16,18,21,17,26,20,23,18,37,17,18,17,36,24,18,19,17,16,23,23,22,16,18,42,23,23,19,22,15,25,32,36,24,29,41,36,19,31,16,26,22,16,17,19,18,18,19,19,22,16,19,37,14,33,26,32,30,43,24,36,19,22,20,31,19,15,18,25,17,28,20,21,41,20,34,21,23,16,19,22,19,23,23,22,17,28,23,19,17,21,29,22,18,13,24,35,29,28,32,32,21,18,19,18,16,25,17,16,27,53,25,34,22,17,26,19,21,32,21,25,26,21,17,28,41,18,22,18,49,21,27,19,27,27,19,42,60,19,20,28,16,18,34,18,21,38,17,35,21,25,18,16,19,31,26,16,26,17,22,20,30,26,19,21,33,28,25,22,19,44,22,26,23,17,42,30,35,20,18,21,19,37,31,29,20,36,18,18,25,18,31,17,21,30,40,64,14,26,35,33,30,31,27,53,23,25,16,18,29,31,31,38,17,25,20,15,16,20,23,22,15,17,22,21,19,32,34,18,21,20,19,25,31,21,31,20,19,19,23,24,20,15,17,20,14,24,14,23,28,22,25,27,18,17,23,40,27,18,16,18,23,15,20,16,16,20,33,22,21,21,29,56,17,22,26,30,49,22,32,32,22,17,21,17,25,15,13,38,23,17,59,22,17,27,23,15,22,23,19,32,40,21,21,23,21,35,18,21,22,23,13,19,33,18,17,16,18,19,15,17,25,24,23,16,25,16,20,17,29,20,16,21,16,43,32,10,27,24,18,17,19,16,64,33,32,15,27,20,23,19,12,16,17,14,32,20,54,18,14,13,19,14,14,18,15,24,17,44,23,21,57,23,18,26,13,15,57,12,26,17,17,69,17,32,22,38,18,14,14,19,20,18,30,31,72,73,16,19,16,12,39,15,14,21,38,23,16,21,13,16,18,21,17,24,14,25,22,20,23,61,24,34,49,33,22,38,23,34,40,27,54,16,23,35,22,41,63,28,22,58,58,67,70,60,15,18,58,28,22,49,20,55,48,14,18,25,71,60,18,19,74,36,14,20,15,19,29,24,18,21,19,25,28,27,60,25,60,43,51,63,64,22,24,19,56,20,19,20,60,65,28,18,42,80,22,56,20,15,67,57,22,17,19,50,24,67,18,20,15,17,32,18,18,18,19,18,17,34,18,18,22,18,19,25,17,25,18,21,24,16,18,18,16,68,16,21,53,29,18,29,18,22,19,13,26,14,27,26,59,30,27,18,23,18,40,24,23,56,29,16,18,21,32,22,17,18,18,24,21,46,18,16,21,19,20,21,56,21,20,21,25,33,20,17,24,26,17,16,27,28,48,19,21,21,15,20,21,22,22,31,20,49,42,26,17,30,23,30,31,42,16,34,21,27,18,26,37,26,19,22,43,24,21,28,23,20,17,19,32,18,20,27,15,26,24,20,21,16,21,27,17,21,17,21,17,36,18,18,18,18,18,18,18,18,18,20,19,17,23,18,19,89,20,16,17,16,20,30,37,44,21,19,23,26,18,35,16,19,23,17,29,21,17,23,17,22,17,19,19,16,19,13,18,26,14,21,21,17,18,19,19,29],\"y\":[0.0,1.0,2.0,3.0,9.0,7.0,0.0,3.0,0.0,1.0,7.0,1.0,0.0,0.0,1.0,3.0,0.0,3.0,2.0,0.0,4.0,4.0,6.0,10.0,5.0,5.0,2.0,5.0,5.0,0.0,3.0,3.0,1.0,0.0,1.0,2.0,0.0,0.0,6.0,4.0,0.0,0.0,2.0,2.0,5.0,0.0,3.0,0.0,4.0,0.0,5.0,10.0,5.0,3.0,3.0,10.0,0.0,3.0,2.0,0.0,5.0,7.0,1.0,1.0,2.0,0.0,10.0,0.0,1.0,0.0,5.0,2.0,1.0,1.0,4.0,0.0,5.0,10.0,1.0,0.0,0.0,1.0,0.0,1.0,10.0,0.0,1.0,0.0,0.0,2.0,3.0,3.0,1.0,6.0,6.0,0.0,2.0,1.0,0.0,1.0,1.0,7.0,0.0,0.0,0.0,2.0,5.0,0.0,10.0,1.0,3.0,0.0,0.0,0.0,5.0,3.0,0.0,5.0,0.0,1.0,6.0,2.0,0.0,1.0,3.0,5.0,6.0,0.0,1.0,2.0,1.0,8.0,0.0,0.0,7.0,2.0,0.0,0.0,2.0,0.0,0.0,3.0,0.0,0.0,0.0,5.0,4.0,0.0,0.0,0.0,5.0,0.0,0.0,8.0,6.0,1.0,6.0,7.0,0.0,1.0,0.0,0.0,0.0,0.0,3.0,0.0,4.0,0.0,6.0,0.0,0.0,0.0,1.0,1.0,1.0,0.0,2.0,3.0,4.0,5.0,0.0,0.0,4.0,5.0,10.0,2.0,5.0,1.0,2.0,0.0,0.0,1.0,0.0,9.0,3.0,3.0,7.0,8.0,2.0,0.0,3.0,0.0,2.0,9.0,8.0,8.0,3.0,4.0,3.0,1.0,3.0,0.0,2.0,0.0,7.0,5.0,2.0,3.0,1.0,0.0,0.0,0.0,2.0,0.0,1.0,1.0,0.0,1.0,1.0,6.0,0.0,1.0,1.0,0.0,5.0,0.0,1.0,1.0,0.0,0.0,3.0,0.0,6.0,0.0,7.0,8.0,4.0,1.0,7.0,5.0,7.0,7.0,0.0,4.0,1.0,7.0,2.0,2.0,4.0,4.0,2.0,5.0,4.0,7.0,9.0,4.0,0.0,0.0,0.0,6.0,5.0,2.0,8.0,2.0,6.0,4.0,3.0,7.0,7.0,0.0,2.0,1.0,1.0,0.0,5.0,6.0,2.0,4.0,0.0,8.0,1.0,1.0,1.0,10.0,2.0,0.0,2.0,0.0,5.0,0.0,0.0,3.0,4.0,2.0,2.0,4.0,0.0,10.0,0.0,0.0,1.0,0.0,0.0,3.0,0.0,1.0,3.0,2.0,0.0,8.0,7.0,2.0,0.0,0.0,2.0,1.0,2.0,3.0,2.0,0.0,1.0,4.0,9.0,3.0,3.0,8.0,3.0,7.0,8.0,0.0,5.0,0.0,10.0,3.0,0.0,6.0,6.0,0.0,0.0,0.0,1.0,5.0,1.0,2.0,1.0,1.0,2.0,3.0,2.0,4.0,9.0,2.0,6.0,0.0,2.0,1.0,0.0,4.0,1.0,0.0,1.0,0.0,4.0,0.0,4.0,2.0,2.0,0.0,2.0,0.0,7.0,5.0,0.0,0.0,6.0,0.0,0.0,6.0,1.0,2.0,6.0,2.0,3.0,5.0,2.0,3.0,2.0,4.0,0.0,8.0,1.0,0.0,5.0,0.0,0.0,0.0,0.0,2.0,5.0,0.0,2.0,2.0,3.0,5.0,0.0,3.0,4.0,0.0,1.0,8.0,3.0,0.0,2.0,0.0,0.0,7.0,3.0,2.0,1.0,8.5,0.0,1.0,6.0,1.0,10.0,5.0,0.0,1.0,5.0,3.0,0.0,2.0,9.0,0.0,0.0,2.0,4.0,0.0,2.0,9.0,0.0,3.0,0.0,7.0,0.0,1.0,0.0,2.0,2.0,0.0,0.0,1.0,0.0,2.0,0.0,0.0,0.0,2.0,0.0,2.0,2.0,2.0,1.0,1.0,4.0,1.0,0.0,9.0,0.0,1.0,0.0,7.0,2.0,1.0,0.0,4.0,2.0,2.0,5.0,0.0,0.0,0.0,0.0,0.0,3.0,0.0,3.0,0.0,0.0,1.0,7.0,0.0,3.0,1.0,0.0,0.0,5.0,0.0,0.0,4.0,1.0,0.0,2.0,0.0,0.0,8.0,6.0,0.0,1.0,0.0,4.0,0.0,2.0,2.0,6.0,2.0,2.0,4.0,5.0,8.0,2.0,2.0,0.0,0.0,5.0,2.0,0.0,0.0,0.0,10.0,1.0,0.0,1.0,0.0,2.0,2.0,5.0,3.0,3.0,0.0,0.0,0.0,0.0,2.0,0.0,0.0,2.0,0.0,1.0,3.0,5.0,10.0,8.0,5.0,6.0,8.0,0.0,4.0,0.0,0.0,7.0,1.0,9.0,4.0,1.0,0.0,0.0,0.0,0.0,3.0,3.0,1.0,8.0,7.0,0.0,0.0,6.0,1.0,0.0,2.0,10.0,3.0,0.0,2.0,8.0,8.0,6.0,5.0,5.0,0.0,0.0,4.0,0.0,7.0,0.0,4.0,0.0,3.0,1.0,8.0,7.0,0.0,9.0,10.0,0.0,0.0,4.0,0.0,0.0,0.0,0.0,1.0,8.0,0.0,3.0,3.0,5.0,2.0,0.0,0.0,3.0,8.0,6.0,6.0,1.0,3.0,3.0,4.0,9.0,4.0,7.0,8.0,5.0,3.0,6.0,7.0,1.0,2.0,0.0,2.0,0.0,0.0,4.0,0.0,8.0,10.0,2.0,0.0,0.0,0.0,3.0,0.0,0.0,0.0,3.0,0.0,4.0,6.0,1.0,1.0,3.0,0.0,1.0,7.0,0.0,1.0,5.0,7.0,0.0,6.0,0.0,0.0,5.0,3.0,4.0,5.0,0.0,2.0,0.0,2.0,2.0,0.0,1.0,7.0,0.0,8.0,5.5,2.0,8.0,5.0,4.0,0.0,4.0,0.0,9.0,4.0,6.0,1.0,5.0,10.0,0.0,0.0,7.0,0.0,4.0,0.0,2.0,2.0,8.0,5.0,0.0,0.0,10.0,0.0,4.0,10.0,0.0,2.0,0.0,6.0,9.0,5.0,2.0,1.0,5.0],\"type\":\"scatter\",\"xaxis\":\"x4\",\"yaxis\":\"y4\",\"marker\":{\"size\":5}}],                        {\"template\":{\"data\":{\"histogram2dcontour\":[{\"type\":\"histogram2dcontour\",\"colorbar\":{\"outlinewidth\":0,\"ticks\":\"\"},\"colorscale\":[[0.0,\"#0d0887\"],[0.1111111111111111,\"#46039f\"],[0.2222222222222222,\"#7201a8\"],[0.3333333333333333,\"#9c179e\"],[0.4444444444444444,\"#bd3786\"],[0.5555555555555556,\"#d8576b\"],[0.6666666666666666,\"#ed7953\"],[0.7777777777777778,\"#fb9f3a\"],[0.8888888888888888,\"#fdca26\"],[1.0,\"#f0f921\"]]}],\"choropleth\":[{\"type\":\"choropleth\",\"colorbar\":{\"outlinewidth\":0,\"ticks\":\"\"}}],\"histogram2d\":[{\"type\":\"histogram2d\",\"colorbar\":{\"outlinewidth\":0,\"ticks\":\"\"},\"colorscale\":[[0.0,\"#0d0887\"],[0.1111111111111111,\"#46039f\"],[0.2222222222222222,\"#7201a8\"],[0.3333333333333333,\"#9c179e\"],[0.4444444444444444,\"#bd3786\"],[0.5555555555555556,\"#d8576b\"],[0.6666666666666666,\"#ed7953\"],[0.7777777777777778,\"#fb9f3a\"],[0.8888888888888888,\"#fdca26\"],[1.0,\"#f0f921\"]]}],\"heatmap\":[{\"type\":\"heatmap\",\"colorbar\":{\"outlinewidth\":0,\"ticks\":\"\"},\"colorscale\":[[0.0,\"#0d0887\"],[0.1111111111111111,\"#46039f\"],[0.2222222222222222,\"#7201a8\"],[0.3333333333333333,\"#9c179e\"],[0.4444444444444444,\"#bd3786\"],[0.5555555555555556,\"#d8576b\"],[0.6666666666666666,\"#ed7953\"],[0.7777777777777778,\"#fb9f3a\"],[0.8888888888888888,\"#fdca26\"],[1.0,\"#f0f921\"]]}],\"heatmapgl\":[{\"type\":\"heatmapgl\",\"colorbar\":{\"outlinewidth\":0,\"ticks\":\"\"},\"colorscale\":[[0.0,\"#0d0887\"],[0.1111111111111111,\"#46039f\"],[0.2222222222222222,\"#7201a8\"],[0.3333333333333333,\"#9c179e\"],[0.4444444444444444,\"#bd3786\"],[0.5555555555555556,\"#d8576b\"],[0.6666666666666666,\"#ed7953\"],[0.7777777777777778,\"#fb9f3a\"],[0.8888888888888888,\"#fdca26\"],[1.0,\"#f0f921\"]]}],\"contourcarpet\":[{\"type\":\"contourcarpet\",\"colorbar\":{\"outlinewidth\":0,\"ticks\":\"\"}}],\"contour\":[{\"type\":\"contour\",\"colorbar\":{\"outlinewidth\":0,\"ticks\":\"\"},\"colorscale\":[[0.0,\"#0d0887\"],[0.1111111111111111,\"#46039f\"],[0.2222222222222222,\"#7201a8\"],[0.3333333333333333,\"#9c179e\"],[0.4444444444444444,\"#bd3786\"],[0.5555555555555556,\"#d8576b\"],[0.6666666666666666,\"#ed7953\"],[0.7777777777777778,\"#fb9f3a\"],[0.8888888888888888,\"#fdca26\"],[1.0,\"#f0f921\"]]}],\"surface\":[{\"type\":\"surface\",\"colorbar\":{\"outlinewidth\":0,\"ticks\":\"\"},\"colorscale\":[[0.0,\"#0d0887\"],[0.1111111111111111,\"#46039f\"],[0.2222222222222222,\"#7201a8\"],[0.3333333333333333,\"#9c179e\"],[0.4444444444444444,\"#bd3786\"],[0.5555555555555556,\"#d8576b\"],[0.6666666666666666,\"#ed7953\"],[0.7777777777777778,\"#fb9f3a\"],[0.8888888888888888,\"#fdca26\"],[1.0,\"#f0f921\"]]}],\"mesh3d\":[{\"type\":\"mesh3d\",\"colorbar\":{\"outlinewidth\":0,\"ticks\":\"\"}}],\"scatter\":[{\"fillpattern\":{\"fillmode\":\"overlay\",\"size\":10,\"solidity\":0.2},\"type\":\"scatter\"}],\"parcoords\":[{\"type\":\"parcoords\",\"line\":{\"colorbar\":{\"outlinewidth\":0,\"ticks\":\"\"}}}],\"scatterpolargl\":[{\"type\":\"scatterpolargl\",\"marker\":{\"colorbar\":{\"outlinewidth\":0,\"ticks\":\"\"}}}],\"bar\":[{\"error_x\":{\"color\":\"#2a3f5f\"},\"error_y\":{\"color\":\"#2a3f5f\"},\"marker\":{\"line\":{\"color\":\"#E5ECF6\",\"width\":0.5},\"pattern\":{\"fillmode\":\"overlay\",\"size\":10,\"solidity\":0.2}},\"type\":\"bar\"}],\"scattergeo\":[{\"type\":\"scattergeo\",\"marker\":{\"colorbar\":{\"outlinewidth\":0,\"ticks\":\"\"}}}],\"scatterpolar\":[{\"type\":\"scatterpolar\",\"marker\":{\"colorbar\":{\"outlinewidth\":0,\"ticks\":\"\"}}}],\"histogram\":[{\"marker\":{\"pattern\":{\"fillmode\":\"overlay\",\"size\":10,\"solidity\":0.2}},\"type\":\"histogram\"}],\"scattergl\":[{\"type\":\"scattergl\",\"marker\":{\"colorbar\":{\"outlinewidth\":0,\"ticks\":\"\"}}}],\"scatter3d\":[{\"type\":\"scatter3d\",\"line\":{\"colorbar\":{\"outlinewidth\":0,\"ticks\":\"\"}},\"marker\":{\"colorbar\":{\"outlinewidth\":0,\"ticks\":\"\"}}}],\"scattermapbox\":[{\"type\":\"scattermapbox\",\"marker\":{\"colorbar\":{\"outlinewidth\":0,\"ticks\":\"\"}}}],\"scatterternary\":[{\"type\":\"scatterternary\",\"marker\":{\"colorbar\":{\"outlinewidth\":0,\"ticks\":\"\"}}}],\"scattercarpet\":[{\"type\":\"scattercarpet\",\"marker\":{\"colorbar\":{\"outlinewidth\":0,\"ticks\":\"\"}}}],\"carpet\":[{\"aaxis\":{\"endlinecolor\":\"#2a3f5f\",\"gridcolor\":\"white\",\"linecolor\":\"white\",\"minorgridcolor\":\"white\",\"startlinecolor\":\"#2a3f5f\"},\"baxis\":{\"endlinecolor\":\"#2a3f5f\",\"gridcolor\":\"white\",\"linecolor\":\"white\",\"minorgridcolor\":\"white\",\"startlinecolor\":\"#2a3f5f\"},\"type\":\"carpet\"}],\"table\":[{\"cells\":{\"fill\":{\"color\":\"#EBF0F8\"},\"line\":{\"color\":\"white\"}},\"header\":{\"fill\":{\"color\":\"#C8D4E3\"},\"line\":{\"color\":\"white\"}},\"type\":\"table\"}],\"barpolar\":[{\"marker\":{\"line\":{\"color\":\"#E5ECF6\",\"width\":0.5},\"pattern\":{\"fillmode\":\"overlay\",\"size\":10,\"solidity\":0.2}},\"type\":\"barpolar\"}],\"pie\":[{\"automargin\":true,\"type\":\"pie\"}]},\"layout\":{\"autotypenumbers\":\"strict\",\"colorway\":[\"#636efa\",\"#EF553B\",\"#00cc96\",\"#ab63fa\",\"#FFA15A\",\"#19d3f3\",\"#FF6692\",\"#B6E880\",\"#FF97FF\",\"#FECB52\"],\"font\":{\"color\":\"#2a3f5f\"},\"hovermode\":\"closest\",\"hoverlabel\":{\"align\":\"left\"},\"paper_bgcolor\":\"white\",\"plot_bgcolor\":\"#E5ECF6\",\"polar\":{\"bgcolor\":\"#E5ECF6\",\"angularaxis\":{\"gridcolor\":\"white\",\"linecolor\":\"white\",\"ticks\":\"\"},\"radialaxis\":{\"gridcolor\":\"white\",\"linecolor\":\"white\",\"ticks\":\"\"}},\"ternary\":{\"bgcolor\":\"#E5ECF6\",\"aaxis\":{\"gridcolor\":\"white\",\"linecolor\":\"white\",\"ticks\":\"\"},\"baxis\":{\"gridcolor\":\"white\",\"linecolor\":\"white\",\"ticks\":\"\"},\"caxis\":{\"gridcolor\":\"white\",\"linecolor\":\"white\",\"ticks\":\"\"}},\"coloraxis\":{\"colorbar\":{\"outlinewidth\":0,\"ticks\":\"\"}},\"colorscale\":{\"sequential\":[[0.0,\"#0d0887\"],[0.1111111111111111,\"#46039f\"],[0.2222222222222222,\"#7201a8\"],[0.3333333333333333,\"#9c179e\"],[0.4444444444444444,\"#bd3786\"],[0.5555555555555556,\"#d8576b\"],[0.6666666666666666,\"#ed7953\"],[0.7777777777777778,\"#fb9f3a\"],[0.8888888888888888,\"#fdca26\"],[1.0,\"#f0f921\"]],\"sequentialminus\":[[0.0,\"#0d0887\"],[0.1111111111111111,\"#46039f\"],[0.2222222222222222,\"#7201a8\"],[0.3333333333333333,\"#9c179e\"],[0.4444444444444444,\"#bd3786\"],[0.5555555555555556,\"#d8576b\"],[0.6666666666666666,\"#ed7953\"],[0.7777777777777778,\"#fb9f3a\"],[0.8888888888888888,\"#fdca26\"],[1.0,\"#f0f921\"]],\"diverging\":[[0,\"#8e0152\"],[0.1,\"#c51b7d\"],[0.2,\"#de77ae\"],[0.3,\"#f1b6da\"],[0.4,\"#fde0ef\"],[0.5,\"#f7f7f7\"],[0.6,\"#e6f5d0\"],[0.7,\"#b8e186\"],[0.8,\"#7fbc41\"],[0.9,\"#4d9221\"],[1,\"#276419\"]]},\"xaxis\":{\"gridcolor\":\"white\",\"linecolor\":\"white\",\"ticks\":\"\",\"title\":{\"standoff\":15},\"zerolinecolor\":\"white\",\"automargin\":true,\"zerolinewidth\":2},\"yaxis\":{\"gridcolor\":\"white\",\"linecolor\":\"white\",\"ticks\":\"\",\"title\":{\"standoff\":15},\"zerolinecolor\":\"white\",\"automargin\":true,\"zerolinewidth\":2},\"scene\":{\"xaxis\":{\"backgroundcolor\":\"#E5ECF6\",\"gridcolor\":\"white\",\"linecolor\":\"white\",\"showbackground\":true,\"ticks\":\"\",\"zerolinecolor\":\"white\",\"gridwidth\":2},\"yaxis\":{\"backgroundcolor\":\"#E5ECF6\",\"gridcolor\":\"white\",\"linecolor\":\"white\",\"showbackground\":true,\"ticks\":\"\",\"zerolinecolor\":\"white\",\"gridwidth\":2},\"zaxis\":{\"backgroundcolor\":\"#E5ECF6\",\"gridcolor\":\"white\",\"linecolor\":\"white\",\"showbackground\":true,\"ticks\":\"\",\"zerolinecolor\":\"white\",\"gridwidth\":2}},\"shapedefaults\":{\"line\":{\"color\":\"#2a3f5f\"}},\"annotationdefaults\":{\"arrowcolor\":\"#2a3f5f\",\"arrowhead\":0,\"arrowwidth\":1},\"geo\":{\"bgcolor\":\"white\",\"landcolor\":\"#E5ECF6\",\"subunitcolor\":\"white\",\"showland\":true,\"showlakes\":true,\"lakecolor\":\"white\"},\"title\":{\"x\":0.05},\"mapbox\":{\"style\":\"light\"}}},\"xaxis\":{\"anchor\":\"y\",\"domain\":[0.0,0.45],\"title\":{\"text\":\"Age\"}},\"yaxis\":{\"anchor\":\"x\",\"domain\":[0.6000000000000001,1.0],\"title\":{\"text\":\"Anxiety\"}},\"xaxis2\":{\"anchor\":\"y2\",\"domain\":[0.55,1.0],\"title\":{\"text\":\"Age\"}},\"yaxis2\":{\"anchor\":\"x2\",\"domain\":[0.6000000000000001,1.0],\"title\":{\"text\":\"Depression\"}},\"xaxis3\":{\"anchor\":\"y3\",\"domain\":[0.0,0.45],\"title\":{\"text\":\"Age\"}},\"yaxis3\":{\"anchor\":\"x3\",\"domain\":[0.0,0.4],\"title\":{\"text\":\"Insomnia\"}},\"xaxis4\":{\"anchor\":\"y4\",\"domain\":[0.55,1.0],\"title\":{\"text\":\"Age\"}},\"yaxis4\":{\"anchor\":\"x4\",\"domain\":[0.0,0.4],\"title\":{\"text\":\"OCD\"}},\"title\":{\"text\":\"Poziom poszczególnych chorób według wieku\"},\"showlegend\":false,\"height\":600,\"width\":900},                        {\"responsive\": true}                    ).then(function(){\n",
              "                            \n",
              "var gd = document.getElementById('490f3fc2-5e86-45a8-ae08-6b4588a0371d');\n",
              "var x = new MutationObserver(function (mutations, observer) {{\n",
              "        var display = window.getComputedStyle(gd).display;\n",
              "        if (!display || display === 'none') {{\n",
              "            console.log([gd, 'removed!']);\n",
              "            Plotly.purge(gd);\n",
              "            observer.disconnect();\n",
              "        }}\n",
              "}});\n",
              "\n",
              "// Listen for the removal of the full notebook cells\n",
              "var notebookContainer = gd.closest('#notebook-container');\n",
              "if (notebookContainer) {{\n",
              "    x.observe(notebookContainer, {childList: true});\n",
              "}}\n",
              "\n",
              "// Listen for the clearing of the current output cell\n",
              "var outputEl = gd.closest('.output');\n",
              "if (outputEl) {{\n",
              "    x.observe(outputEl, {childList: true});\n",
              "}}\n",
              "\n",
              "                        })                };                            </script>        </div>\n",
              "</body>\n",
              "</html>"
            ]
          },
          "metadata": {}
        }
      ]
    },
    {
      "cell_type": "markdown",
      "source": [
        "### Korelacja między chorobami"
      ],
      "metadata": {
        "id": "mLo4ULxwRxmO"
      }
    },
    {
      "cell_type": "code",
      "source": [
        "illness_correlation = mental_illness.corr()\n",
        "\n",
        "illness_heatmap = px.imshow(illness_correlation,\n",
        "                text_auto=True,\n",
        "                color_continuous_scale='Burgyl',\n",
        "                title='Heatmapa korelacji między chorobami')\n",
        "\n",
        "illness_heatmap.show()"
      ],
      "metadata": {
        "colab": {
          "base_uri": "https://localhost:8080/",
          "height": 542
        },
        "id": "LLP67Fty2nWQ",
        "outputId": "f8123c12-5a6b-43bc-e083-3f2b6f932ac6"
      },
      "execution_count": 107,
      "outputs": [
        {
          "output_type": "display_data",
          "data": {
            "text/html": [
              "<html>\n",
              "<head><meta charset=\"utf-8\" /></head>\n",
              "<body>\n",
              "    <div>            <script src=\"https://cdnjs.cloudflare.com/ajax/libs/mathjax/2.7.5/MathJax.js?config=TeX-AMS-MML_SVG\"></script><script type=\"text/javascript\">if (window.MathJax && window.MathJax.Hub && window.MathJax.Hub.Config) {window.MathJax.Hub.Config({SVG: {font: \"STIX-Web\"}});}</script>                <script type=\"text/javascript\">window.PlotlyConfig = {MathJaxConfig: 'local'};</script>\n",
              "        <script charset=\"utf-8\" src=\"https://cdn.plot.ly/plotly-2.35.2.min.js\"></script>                <div id=\"6f580bc6-43d3-4ed7-a884-1385bb93d2b4\" class=\"plotly-graph-div\" style=\"height:525px; width:100%;\"></div>            <script type=\"text/javascript\">                                    window.PLOTLYENV=window.PLOTLYENV || {};                                    if (document.getElementById(\"6f580bc6-43d3-4ed7-a884-1385bb93d2b4\")) {                    Plotly.newPlot(                        \"6f580bc6-43d3-4ed7-a884-1385bb93d2b4\",                        [{\"coloraxis\":\"coloraxis\",\"name\":\"0\",\"texttemplate\":\"%{z}\",\"x\":[\"Anxiety\",\"Depression\",\"Insomnia\",\"OCD\"],\"y\":[\"Anxiety\",\"Depression\",\"Insomnia\",\"OCD\"],\"z\":[[1.0,0.5214646483511293,0.29385768160920095,0.34684154687609187],[0.5214646483511293,1.0,0.378714156099406,0.19859485849496797],[0.29385768160920095,0.378714156099406,1.0,0.22794660285587226],[0.34684154687609187,0.19859485849496797,0.22794660285587226,1.0]],\"type\":\"heatmap\",\"xaxis\":\"x\",\"yaxis\":\"y\",\"hovertemplate\":\"x: %{x}\\u003cbr\\u003ey: %{y}\\u003cbr\\u003ecolor: %{z}\\u003cextra\\u003e\\u003c\\u002fextra\\u003e\"}],                        {\"template\":{\"data\":{\"histogram2dcontour\":[{\"type\":\"histogram2dcontour\",\"colorbar\":{\"outlinewidth\":0,\"ticks\":\"\"},\"colorscale\":[[0.0,\"#0d0887\"],[0.1111111111111111,\"#46039f\"],[0.2222222222222222,\"#7201a8\"],[0.3333333333333333,\"#9c179e\"],[0.4444444444444444,\"#bd3786\"],[0.5555555555555556,\"#d8576b\"],[0.6666666666666666,\"#ed7953\"],[0.7777777777777778,\"#fb9f3a\"],[0.8888888888888888,\"#fdca26\"],[1.0,\"#f0f921\"]]}],\"choropleth\":[{\"type\":\"choropleth\",\"colorbar\":{\"outlinewidth\":0,\"ticks\":\"\"}}],\"histogram2d\":[{\"type\":\"histogram2d\",\"colorbar\":{\"outlinewidth\":0,\"ticks\":\"\"},\"colorscale\":[[0.0,\"#0d0887\"],[0.1111111111111111,\"#46039f\"],[0.2222222222222222,\"#7201a8\"],[0.3333333333333333,\"#9c179e\"],[0.4444444444444444,\"#bd3786\"],[0.5555555555555556,\"#d8576b\"],[0.6666666666666666,\"#ed7953\"],[0.7777777777777778,\"#fb9f3a\"],[0.8888888888888888,\"#fdca26\"],[1.0,\"#f0f921\"]]}],\"heatmap\":[{\"type\":\"heatmap\",\"colorbar\":{\"outlinewidth\":0,\"ticks\":\"\"},\"colorscale\":[[0.0,\"#0d0887\"],[0.1111111111111111,\"#46039f\"],[0.2222222222222222,\"#7201a8\"],[0.3333333333333333,\"#9c179e\"],[0.4444444444444444,\"#bd3786\"],[0.5555555555555556,\"#d8576b\"],[0.6666666666666666,\"#ed7953\"],[0.7777777777777778,\"#fb9f3a\"],[0.8888888888888888,\"#fdca26\"],[1.0,\"#f0f921\"]]}],\"heatmapgl\":[{\"type\":\"heatmapgl\",\"colorbar\":{\"outlinewidth\":0,\"ticks\":\"\"},\"colorscale\":[[0.0,\"#0d0887\"],[0.1111111111111111,\"#46039f\"],[0.2222222222222222,\"#7201a8\"],[0.3333333333333333,\"#9c179e\"],[0.4444444444444444,\"#bd3786\"],[0.5555555555555556,\"#d8576b\"],[0.6666666666666666,\"#ed7953\"],[0.7777777777777778,\"#fb9f3a\"],[0.8888888888888888,\"#fdca26\"],[1.0,\"#f0f921\"]]}],\"contourcarpet\":[{\"type\":\"contourcarpet\",\"colorbar\":{\"outlinewidth\":0,\"ticks\":\"\"}}],\"contour\":[{\"type\":\"contour\",\"colorbar\":{\"outlinewidth\":0,\"ticks\":\"\"},\"colorscale\":[[0.0,\"#0d0887\"],[0.1111111111111111,\"#46039f\"],[0.2222222222222222,\"#7201a8\"],[0.3333333333333333,\"#9c179e\"],[0.4444444444444444,\"#bd3786\"],[0.5555555555555556,\"#d8576b\"],[0.6666666666666666,\"#ed7953\"],[0.7777777777777778,\"#fb9f3a\"],[0.8888888888888888,\"#fdca26\"],[1.0,\"#f0f921\"]]}],\"surface\":[{\"type\":\"surface\",\"colorbar\":{\"outlinewidth\":0,\"ticks\":\"\"},\"colorscale\":[[0.0,\"#0d0887\"],[0.1111111111111111,\"#46039f\"],[0.2222222222222222,\"#7201a8\"],[0.3333333333333333,\"#9c179e\"],[0.4444444444444444,\"#bd3786\"],[0.5555555555555556,\"#d8576b\"],[0.6666666666666666,\"#ed7953\"],[0.7777777777777778,\"#fb9f3a\"],[0.8888888888888888,\"#fdca26\"],[1.0,\"#f0f921\"]]}],\"mesh3d\":[{\"type\":\"mesh3d\",\"colorbar\":{\"outlinewidth\":0,\"ticks\":\"\"}}],\"scatter\":[{\"fillpattern\":{\"fillmode\":\"overlay\",\"size\":10,\"solidity\":0.2},\"type\":\"scatter\"}],\"parcoords\":[{\"type\":\"parcoords\",\"line\":{\"colorbar\":{\"outlinewidth\":0,\"ticks\":\"\"}}}],\"scatterpolargl\":[{\"type\":\"scatterpolargl\",\"marker\":{\"colorbar\":{\"outlinewidth\":0,\"ticks\":\"\"}}}],\"bar\":[{\"error_x\":{\"color\":\"#2a3f5f\"},\"error_y\":{\"color\":\"#2a3f5f\"},\"marker\":{\"line\":{\"color\":\"#E5ECF6\",\"width\":0.5},\"pattern\":{\"fillmode\":\"overlay\",\"size\":10,\"solidity\":0.2}},\"type\":\"bar\"}],\"scattergeo\":[{\"type\":\"scattergeo\",\"marker\":{\"colorbar\":{\"outlinewidth\":0,\"ticks\":\"\"}}}],\"scatterpolar\":[{\"type\":\"scatterpolar\",\"marker\":{\"colorbar\":{\"outlinewidth\":0,\"ticks\":\"\"}}}],\"histogram\":[{\"marker\":{\"pattern\":{\"fillmode\":\"overlay\",\"size\":10,\"solidity\":0.2}},\"type\":\"histogram\"}],\"scattergl\":[{\"type\":\"scattergl\",\"marker\":{\"colorbar\":{\"outlinewidth\":0,\"ticks\":\"\"}}}],\"scatter3d\":[{\"type\":\"scatter3d\",\"line\":{\"colorbar\":{\"outlinewidth\":0,\"ticks\":\"\"}},\"marker\":{\"colorbar\":{\"outlinewidth\":0,\"ticks\":\"\"}}}],\"scattermapbox\":[{\"type\":\"scattermapbox\",\"marker\":{\"colorbar\":{\"outlinewidth\":0,\"ticks\":\"\"}}}],\"scatterternary\":[{\"type\":\"scatterternary\",\"marker\":{\"colorbar\":{\"outlinewidth\":0,\"ticks\":\"\"}}}],\"scattercarpet\":[{\"type\":\"scattercarpet\",\"marker\":{\"colorbar\":{\"outlinewidth\":0,\"ticks\":\"\"}}}],\"carpet\":[{\"aaxis\":{\"endlinecolor\":\"#2a3f5f\",\"gridcolor\":\"white\",\"linecolor\":\"white\",\"minorgridcolor\":\"white\",\"startlinecolor\":\"#2a3f5f\"},\"baxis\":{\"endlinecolor\":\"#2a3f5f\",\"gridcolor\":\"white\",\"linecolor\":\"white\",\"minorgridcolor\":\"white\",\"startlinecolor\":\"#2a3f5f\"},\"type\":\"carpet\"}],\"table\":[{\"cells\":{\"fill\":{\"color\":\"#EBF0F8\"},\"line\":{\"color\":\"white\"}},\"header\":{\"fill\":{\"color\":\"#C8D4E3\"},\"line\":{\"color\":\"white\"}},\"type\":\"table\"}],\"barpolar\":[{\"marker\":{\"line\":{\"color\":\"#E5ECF6\",\"width\":0.5},\"pattern\":{\"fillmode\":\"overlay\",\"size\":10,\"solidity\":0.2}},\"type\":\"barpolar\"}],\"pie\":[{\"automargin\":true,\"type\":\"pie\"}]},\"layout\":{\"autotypenumbers\":\"strict\",\"colorway\":[\"#636efa\",\"#EF553B\",\"#00cc96\",\"#ab63fa\",\"#FFA15A\",\"#19d3f3\",\"#FF6692\",\"#B6E880\",\"#FF97FF\",\"#FECB52\"],\"font\":{\"color\":\"#2a3f5f\"},\"hovermode\":\"closest\",\"hoverlabel\":{\"align\":\"left\"},\"paper_bgcolor\":\"white\",\"plot_bgcolor\":\"#E5ECF6\",\"polar\":{\"bgcolor\":\"#E5ECF6\",\"angularaxis\":{\"gridcolor\":\"white\",\"linecolor\":\"white\",\"ticks\":\"\"},\"radialaxis\":{\"gridcolor\":\"white\",\"linecolor\":\"white\",\"ticks\":\"\"}},\"ternary\":{\"bgcolor\":\"#E5ECF6\",\"aaxis\":{\"gridcolor\":\"white\",\"linecolor\":\"white\",\"ticks\":\"\"},\"baxis\":{\"gridcolor\":\"white\",\"linecolor\":\"white\",\"ticks\":\"\"},\"caxis\":{\"gridcolor\":\"white\",\"linecolor\":\"white\",\"ticks\":\"\"}},\"coloraxis\":{\"colorbar\":{\"outlinewidth\":0,\"ticks\":\"\"}},\"colorscale\":{\"sequential\":[[0.0,\"#0d0887\"],[0.1111111111111111,\"#46039f\"],[0.2222222222222222,\"#7201a8\"],[0.3333333333333333,\"#9c179e\"],[0.4444444444444444,\"#bd3786\"],[0.5555555555555556,\"#d8576b\"],[0.6666666666666666,\"#ed7953\"],[0.7777777777777778,\"#fb9f3a\"],[0.8888888888888888,\"#fdca26\"],[1.0,\"#f0f921\"]],\"sequentialminus\":[[0.0,\"#0d0887\"],[0.1111111111111111,\"#46039f\"],[0.2222222222222222,\"#7201a8\"],[0.3333333333333333,\"#9c179e\"],[0.4444444444444444,\"#bd3786\"],[0.5555555555555556,\"#d8576b\"],[0.6666666666666666,\"#ed7953\"],[0.7777777777777778,\"#fb9f3a\"],[0.8888888888888888,\"#fdca26\"],[1.0,\"#f0f921\"]],\"diverging\":[[0,\"#8e0152\"],[0.1,\"#c51b7d\"],[0.2,\"#de77ae\"],[0.3,\"#f1b6da\"],[0.4,\"#fde0ef\"],[0.5,\"#f7f7f7\"],[0.6,\"#e6f5d0\"],[0.7,\"#b8e186\"],[0.8,\"#7fbc41\"],[0.9,\"#4d9221\"],[1,\"#276419\"]]},\"xaxis\":{\"gridcolor\":\"white\",\"linecolor\":\"white\",\"ticks\":\"\",\"title\":{\"standoff\":15},\"zerolinecolor\":\"white\",\"automargin\":true,\"zerolinewidth\":2},\"yaxis\":{\"gridcolor\":\"white\",\"linecolor\":\"white\",\"ticks\":\"\",\"title\":{\"standoff\":15},\"zerolinecolor\":\"white\",\"automargin\":true,\"zerolinewidth\":2},\"scene\":{\"xaxis\":{\"backgroundcolor\":\"#E5ECF6\",\"gridcolor\":\"white\",\"linecolor\":\"white\",\"showbackground\":true,\"ticks\":\"\",\"zerolinecolor\":\"white\",\"gridwidth\":2},\"yaxis\":{\"backgroundcolor\":\"#E5ECF6\",\"gridcolor\":\"white\",\"linecolor\":\"white\",\"showbackground\":true,\"ticks\":\"\",\"zerolinecolor\":\"white\",\"gridwidth\":2},\"zaxis\":{\"backgroundcolor\":\"#E5ECF6\",\"gridcolor\":\"white\",\"linecolor\":\"white\",\"showbackground\":true,\"ticks\":\"\",\"zerolinecolor\":\"white\",\"gridwidth\":2}},\"shapedefaults\":{\"line\":{\"color\":\"#2a3f5f\"}},\"annotationdefaults\":{\"arrowcolor\":\"#2a3f5f\",\"arrowhead\":0,\"arrowwidth\":1},\"geo\":{\"bgcolor\":\"white\",\"landcolor\":\"#E5ECF6\",\"subunitcolor\":\"white\",\"showland\":true,\"showlakes\":true,\"lakecolor\":\"white\"},\"title\":{\"x\":0.05},\"mapbox\":{\"style\":\"light\"}}},\"xaxis\":{\"anchor\":\"y\",\"domain\":[0.0,1.0],\"scaleanchor\":\"y\",\"constrain\":\"domain\"},\"yaxis\":{\"anchor\":\"x\",\"domain\":[0.0,1.0],\"autorange\":\"reversed\",\"constrain\":\"domain\"},\"coloraxis\":{\"colorscale\":[[0.0,\"rgb(251, 230, 197)\"],[0.16666666666666666,\"rgb(245, 186, 152)\"],[0.3333333333333333,\"rgb(238, 138, 130)\"],[0.5,\"rgb(220, 113, 118)\"],[0.6666666666666666,\"rgb(200, 88, 108)\"],[0.8333333333333334,\"rgb(156, 63, 93)\"],[1.0,\"rgb(112, 40, 74)\"]]},\"title\":{\"text\":\"Heatmapa korelacji między chorobami\"}},                        {\"responsive\": true}                    ).then(function(){\n",
              "                            \n",
              "var gd = document.getElementById('6f580bc6-43d3-4ed7-a884-1385bb93d2b4');\n",
              "var x = new MutationObserver(function (mutations, observer) {{\n",
              "        var display = window.getComputedStyle(gd).display;\n",
              "        if (!display || display === 'none') {{\n",
              "            console.log([gd, 'removed!']);\n",
              "            Plotly.purge(gd);\n",
              "            observer.disconnect();\n",
              "        }}\n",
              "}});\n",
              "\n",
              "// Listen for the removal of the full notebook cells\n",
              "var notebookContainer = gd.closest('#notebook-container');\n",
              "if (notebookContainer) {{\n",
              "    x.observe(notebookContainer, {childList: true});\n",
              "}}\n",
              "\n",
              "// Listen for the clearing of the current output cell\n",
              "var outputEl = gd.closest('.output');\n",
              "if (outputEl) {{\n",
              "    x.observe(outputEl, {childList: true});\n",
              "}}\n",
              "\n",
              "                        })                };                            </script>        </div>\n",
              "</body>\n",
              "</html>"
            ]
          },
          "metadata": {}
        }
      ]
    },
    {
      "cell_type": "code",
      "source": [
        "mental_illness = df[['Anxiety','Depression', 'OCD']]\n",
        "\n",
        "insomnia_hists = make_subplots(rows=2, cols=2, horizontal_spacing=0.15, vertical_spacing=0.2)\n",
        "\n",
        "for i, column_name in enumerate(mental_illness.columns):\n",
        "    row = i // 2 + 1\n",
        "    column = i % 2 + 1\n",
        "\n",
        "    insomnia_hists.add_trace(go.Histogram(\n",
        "        x=df['Insomnia'],\n",
        "        y=mental_illness[column_name],\n",
        "        histfunc='avg',\n",
        "        nbinsx=10,\n",
        "        name=column_name), row=row, col=column)\n",
        "\n",
        "    insomnia_hists.update_xaxes(title_text=\"Poziom bezsenności\", row=row, col=column)\n",
        "    insomnia_hists.update_yaxes(title_text=f\"Poziom {column_name}\", row=row, col=column)\n",
        "\n",
        "insomnia_hists.update_layout(\n",
        "    title='Wpływ chorób psychicznych na sen',\n",
        "    showlegend=False,\n",
        "    width=800,\n",
        "    height=600\n",
        ")\n",
        "\n",
        "insomnia_hists.show()"
      ],
      "metadata": {
        "colab": {
          "base_uri": "https://localhost:8080/",
          "height": 617
        },
        "id": "G2XnGNZWdnvH",
        "outputId": "bf245d5a-8e99-4915-d9e5-bfd8acfc0a94"
      },
      "execution_count": 108,
      "outputs": [
        {
          "output_type": "display_data",
          "data": {
            "text/html": [
              "<html>\n",
              "<head><meta charset=\"utf-8\" /></head>\n",
              "<body>\n",
              "    <div>            <script src=\"https://cdnjs.cloudflare.com/ajax/libs/mathjax/2.7.5/MathJax.js?config=TeX-AMS-MML_SVG\"></script><script type=\"text/javascript\">if (window.MathJax && window.MathJax.Hub && window.MathJax.Hub.Config) {window.MathJax.Hub.Config({SVG: {font: \"STIX-Web\"}});}</script>                <script type=\"text/javascript\">window.PlotlyConfig = {MathJaxConfig: 'local'};</script>\n",
              "        <script charset=\"utf-8\" src=\"https://cdn.plot.ly/plotly-2.35.2.min.js\"></script>                <div id=\"0dbd949e-b3b8-431e-b266-450cf25b4109\" class=\"plotly-graph-div\" style=\"height:600px; width:800px;\"></div>            <script type=\"text/javascript\">                                    window.PLOTLYENV=window.PLOTLYENV || {};                                    if (document.getElementById(\"0dbd949e-b3b8-431e-b266-450cf25b4109\")) {                    Plotly.newPlot(                        \"0dbd949e-b3b8-431e-b266-450cf25b4109\",                        [{\"histfunc\":\"avg\",\"name\":\"Anxiety\",\"nbinsx\":10,\"x\":[1.0,2.0,10.0,3.0,5.0,7.0,6.0,5.0,0.0,5.0,4.0,0.0,2.0,7.0,4.0,4.0,10.0,0.0,0.0,3.0,2.0,5.0,8.0,8.0,2.0,10.0,1.0,4.0,1.0,2.0,4.0,2.0,6.0,0.0,1.0,0.0,4.0,1.0,8.0,3.0,5.0,10.0,8.0,8.0,1.0,3.0,4.0,5.0,2.0,0.0,7.0,3.0,5.0,4.0,1.0,2.0,10.0,2.0,0.0,0.0,0.0,6.0,3.0,3.0,10.0,8.0,5.0,8.0,1.0,4.0,0.0,1.0,1.0,0.0,8.0,0.0,1.0,5.0,1.0,7.0,0.0,5.0,0.0,0.0,6.0,0.0,5.0,0.0,7.0,6.0,8.0,5.0,3.0,1.0,0.0,7.0,6.0,1.0,5.0,6.0,3.0,6.0,2.0,0.0,10.0,6.0,6.0,0.0,10.0,0.0,5.0,5.0,0.0,0.0,7.0,2.0,5.0,6.0,1.0,5.0,8.0,4.0,0.0,3.0,7.0,6.0,5.0,5.0,3.0,1.0,7.0,2.0,2.0,2.0,8.0,1.0,2.0,4.0,0.0,0.0,0.0,6.0,0.0,0.0,0.0,8.0,3.0,3.0,8.0,6.0,7.0,3.0,5.0,2.0,0.0,2.0,1.0,0.0,9.0,4.0,0.0,2.0,7.0,3.0,0.0,0.0,4.0,6.0,7.0,2.0,1.0,0.0,5.0,1.0,0.0,0.0,5.0,0.0,6.0,1.0,1.0,3.0,5.0,3.0,5.0,1.0,9.0,2.0,10.0,6.0,0.0,1.0,3.0,8.0,7.0,9.0,9.0,7.0,6.0,3.0,8.0,4.0,8.0,3.0,8.0,6.0,10.0,6.0,1.0,1.0,7.0,0.0,6.0,0.0,7.0,7.0,4.0,2.0,6.0,0.0,0.0,1.0,5.0,2.0,1.0,0.0,2.0,2.0,2.0,2.0,0.0,5.0,4.0,5.0,6.0,4.0,2.0,2.0,1.0,4.0,4.0,2.0,5.0,0.0,9.0,2.0,1.0,0.0,1.0,3.0,5.0,2.0,8.0,0.0,1.0,0.0,2.0,0.0,4.0,6.0,7.0,0.0,3.0,0.0,6.0,5.0,0.0,3.0,3.0,0.0,3.0,6.0,8.0,8.0,2.0,3.0,3.0,5.0,7.0,5.0,4.0,2.0,7.0,0.0,7.0,8.0,9.0,8.0,4.0,10.0,0.0,3.0,6.0,0.0,8.0,7.0,6.0,0.0,2.0,3.0,4.0,3.0,7.0,1.0,10.0,0.0,0.0,2.0,4.0,2.0,0.0,0.0,3.0,3.0,0.0,6.0,7.0,6.0,4.0,0.0,7.0,4.0,1.0,3.0,1.0,3.0,3.0,0.0,5.0,2.0,10.0,8.0,0.0,3.0,5.0,6.0,7.0,5.0,2.0,4.0,5.0,0.0,0.0,0.0,3.0,4.0,5.0,0.0,0.0,1.0,2.0,6.0,3.0,6.0,1.0,2.0,3.0,7.0,9.0,6.0,9.0,7.0,1.0,4.0,1.0,9.0,0.0,5.0,1.0,0.0,1.0,2.0,7.0,0.0,1.0,9.0,2.0,8.0,0.0,1.0,6.0,0.0,4.0,3.0,10.0,0.0,3.0,1.0,2.0,3.0,5.0,3.0,10.0,6.0,8.0,4.0,0.0,7.0,2.0,4.0,2.0,1.0,4.0,0.0,7.0,7.0,8.0,9.0,8.0,7.0,6.0,8.0,2.0,2.0,2.0,10.0,4.0,4.0,5.0,9.0,2.0,4.0,5.0,3.0,3.0,10.0,9.0,0.0,0.0,7.0,0.0,3.0,1.0,1.0,7.0,9.0,2.0,7.0,6.0,6.0,1.0,0.0,6.0,6.0,8.0,1.0,0.0,0.0,3.0,7.0,7.0,4.0,2.0,0.0,8.0,9.0,7.0,0.0,1.0,4.0,10.0,8.0,1.0,2.0,0.0,5.0,1.0,6.0,4.0,6.0,0.0,2.0,3.0,2.0,7.0,6.0,2.0,10.0,7.0,8.0,5.0,6.0,2.0,2.0,3.0,0.0,2.0,6.0,5.0,0.0,8.0,7.0,0.0,1.0,2.0,8.0,4.0,0.0,0.0,4.0,2.0,8.0,2.0,5.0,0.0,1.0,6.0,5.0,1.0,2.0,1.0,1.0,2.0,4.0,1.0,7.0,1.0,1.0,6.0,7.0,7.0,0.0,0.0,5.0,10.0,5.0,9.0,4.0,0.0,9.0,3.0,2.0,10.0,10.0,5.0,6.0,7.0,10.0,0.0,4.0,0.0,4.0,3.0,0.0,4.0,8.0,7.0,2.0,1.0,0.0,0.0,2.0,0.0,0.0,2.0,7.0,6.0,1.0,2.0,0.0,2.0,8.0,7.0,8.0,1.0,6.0,10.0,8.0,0.0,0.0,7.0,3.0,8.0,3.0,0.0,0.0,4.0,0.0,3.0,3.0,7.0,0.0,6.0,1.0,3.0,0.0,6.0,0.0,10.0,6.0,10.0,9.0,0.0,2.0,9.0,5.0,8.0,9.0,1.0,0.0,4.0,3.0,1.0,3.0,0.0,0.0,0.0,1.0,3.0,1.0,4.0,3.0,1.0,4.0,0.0,7.0,6.0,1.0,0.0,6.0,8.0,9.0,3.0,0.0,3.0,2.0,0.0,3.0,8.0,0.0,7.0,2.0,10.0,1.0,9.0,5.0,0.0,0.0,10.0,7.0,7.0,8.0,4.0,1.0,9.0,10.0,0.0,0.0,10.0,10.0,6.0,3.0,4.0,2.0,0.0,1.0,2.0,0.0,2.0,0.0,5.0,7.0,4.0,0.0,9.0,5.0,0.0,3.0,1.0,4.0,4.0,6.0,8.0,9.0,0.0,0.0,7.0,2.0,1.0,2.0,4.0,0.0,5.0,0.0,7.0,0.0,0.0,0.0,1.0,0.0,2.0,10.0,1.0,1.0,0.0,3.0,3.5,0.0,10.0,6.0,8.0,5.0,9.0,0.0,0.0,1.0,1.0,3.0,6.0,5.0,7.0,2.0,4.0,2.0,3.0,4.0,10.0,9.0,6.0,5.0,1.0,2.0,6.0,8.0,8.0,5.0,0.0,1.0,2.0,4.0,0.0,2.0,2.0,2.0,2.0],\"y\":[3.0,7.0,7.0,9.0,7.0,8.0,4.0,5.0,2.0,2.0,7.0,1.0,2.0,6.0,7.0,8.0,5.0,7.0,7.0,6.0,10.0,6.0,3.0,10.0,7.0,8.0,3.0,6.0,8.0,7.0,4.0,9.0,5.0,0.0,3.0,6.0,2.0,9.0,7.0,4.0,7.0,3.0,6.0,1.0,7.0,8.0,9.0,7.0,7.0,0.0,7.0,10.0,3.0,8.0,0.0,8.0,9.0,6.0,7.0,10.0,8.0,3.0,5.0,10.0,5.0,0.0,8.0,10.0,7.0,8.0,10.0,9.0,6.0,7.0,7.0,4.0,7.0,9.0,2.0,10.0,3.0,7.0,2.0,5.0,9.0,2.0,5.0,3.0,2.0,7.0,5.0,4.0,6.0,8.0,9.0,0.0,8.0,4.0,8.0,3.0,1.0,10.0,6.0,6.0,8.0,9.0,7.0,6.0,10.0,6.0,7.0,7.0,8.0,4.0,7.0,7.0,2.0,7.0,4.0,7.0,5.0,10.0,6.0,7.0,4.0,4.0,7.0,6.0,4.0,6.0,10.0,10.0,3.0,8.0,8.0,3.0,6.0,0.0,6.0,3.0,1.0,5.0,0.0,0.0,3.0,8.0,5.0,8.0,6.0,6.0,6.0,9.0,7.0,10.0,1.0,5.0,6.0,7.0,6.0,1.0,0.0,8.0,3.0,8.0,6.0,1.0,5.0,8.0,8.0,3.0,0.0,6.0,1.0,4.0,5.0,1.0,8.0,9.0,4.0,7.0,10.0,8.0,7.0,7.0,10.0,7.0,6.0,2.0,7.0,7.0,6.0,3.0,9.0,8.0,8.0,9.0,9.0,9.0,10.0,9.0,7.0,9.0,9.0,9.0,10.0,6.0,8.0,8.0,4.0,2.0,10.0,8.0,4.0,4.0,9.0,8.0,6.0,8.0,7.0,10.0,6.0,2.0,3.0,9.0,5.0,8.0,8.0,3.0,4.0,7.0,3.0,9.0,3.0,9.0,7.0,0.0,2.0,6.0,6.0,8.0,6.0,7.0,8.0,3.0,9.0,7.0,10.0,0.0,9.0,7.0,9.0,3.0,6.0,10.0,6.0,3.0,9.0,7.0,3.0,9.0,5.0,0.0,8.0,7.0,9.0,5.0,5.0,4.0,3.0,2.0,0.0,7.0,6.0,5.0,6.0,8.0,8.0,8.0,8.0,5.0,6.0,7.0,8.0,10.0,8.0,8.0,8.0,6.0,0.0,8.0,3.0,5.0,8.0,10.0,6.0,7.0,9.0,8.0,8.0,7.0,10.0,8.0,8.0,8.0,6.0,7.0,7.0,8.0,4.0,0.0,6.0,4.0,8.0,5.0,0.0,7.0,8.0,9.0,8.0,7.0,6.0,7.0,1.0,1.0,2.0,6.0,7.0,8.0,8.0,5.0,7.0,7.0,8.0,10.0,6.0,8.0,10.0,10.0,8.0,3.0,9.0,5.0,10.0,8.0,6.0,7.0,3.0,4.0,4.0,5.0,4.0,4.0,7.0,7.0,3.0,9.0,10.0,9.0,8.0,8.0,5.0,9.0,3.0,7.0,7.0,5.0,3.0,8.0,8.0,4.0,9.0,10.0,8.0,1.0,5.0,7.0,8.0,2.0,6.0,2.0,6.0,6.0,7.0,0.0,9.0,10.0,6.0,4.0,6.0,2.0,7.0,7.0,8.0,7.0,6.0,1.0,3.0,6.0,6.0,9.0,7.0,1.0,4.0,2.0,0.0,8.0,5.0,8.0,9.0,2.0,7.0,10.0,8.0,7.0,1.0,9.0,9.0,8.0,1.0,10.0,3.0,4.0,2.0,2.0,8.0,10.0,8.0,0.0,5.0,7.5,3.0,7.0,8.0,6.0,8.0,10.0,3.0,5.0,7.0,7.0,3.0,4.0,3.0,5.0,10.0,7.0,7.0,6.0,6.0,7.0,5.0,7.0,2.0,9.0,3.0,4.0,1.0,3.0,1.0,8.0,8.0,3.0,3.0,2.0,0.0,8.0,1.0,8.0,6.0,5.0,3.0,4.0,5.0,0.0,7.0,8.0,4.0,9.0,5.0,4.0,4.0,9.0,3.0,6.0,2.0,10.0,4.0,7.0,7.0,1.0,6.0,4.0,10.0,4.0,7.0,3.0,10.0,4.0,7.0,6.0,7.0,6.0,10.0,7.0,3.0,8.0,7.0,3.0,8.0,7.0,5.0,1.0,2.0,5.0,7.0,10.0,7.0,6.0,5.0,7.0,7.0,0.0,3.0,8.0,8.0,2.0,7.0,8.0,0.0,8.0,4.0,3.0,6.0,8.0,5.0,10.0,0.0,8.0,8.0,7.0,0.0,3.0,5.0,6.0,6.0,5.0,8.0,1.0,8.0,3.0,0.0,5.0,2.0,4.0,5.0,4.0,10.0,3.0,8.0,3.0,4.0,10.0,10.0,9.0,6.0,3.0,10.0,4.0,3.0,1.0,5.0,7.0,10.0,3.0,1.0,6.0,4.0,6.0,2.0,8.0,8.0,1.0,8.0,6.0,2.0,0.0,10.0,3.0,7.0,8.0,2.0,10.0,6.0,3.0,6.0,7.0,10.0,0.0,0.0,2.0,2.0,5.0,0.0,5.0,2.0,0.0,0.0,7.0,7.0,3.0,7.0,3.0,5.0,8.0,4.0,7.0,1.0,3.0,6.0,6.0,7.0,2.0,8.0,3.0,7.0,4.0,3.0,10.0,10.0,2.0,8.0,10.0,9.0,5.0,4.0,7.0,2.0,10.0,10.0,3.0,7.0,7.0,7.0,4.0,5.0,5.0,7.0,8.0,1.0,8.0,4.0,9.0,10.0,1.0,7.0,10.0,2.0,3.0,7.0,4.0,4.0,6.0,8.0,2.0,8.0,4.0,6.0,6.0,8.0,5.0,6.0,5.0,6.0,7.0,4.0,9.0,9.0,5.0,1.0,8.0,5.0,10.0,7.0,3.0,5.0,2.0,7.0,8.0,4.0,3.0,7.0,10.0,7.0,5.0,0.0,10.0,7.0,2.0,10.0,8.0,9.0,6.0,8.0,3.0,9.0,8.0,4.0,6.0,7.0,8.0,8.0,10.0,5.0,9.0,4.0,9.0,5.0,8.0,10.0,7.0,10.0,8.0,10.0,6.0,10.0,9.0,0.0,7.0,6.0,7.0,7.0,3.0,2.0,2.0,2.0],\"type\":\"histogram\",\"xaxis\":\"x\",\"yaxis\":\"y\"},{\"histfunc\":\"avg\",\"name\":\"Depression\",\"nbinsx\":10,\"x\":[1.0,2.0,10.0,3.0,5.0,7.0,6.0,5.0,0.0,5.0,4.0,0.0,2.0,7.0,4.0,4.0,10.0,0.0,0.0,3.0,2.0,5.0,8.0,8.0,2.0,10.0,1.0,4.0,1.0,2.0,4.0,2.0,6.0,0.0,1.0,0.0,4.0,1.0,8.0,3.0,5.0,10.0,8.0,8.0,1.0,3.0,4.0,5.0,2.0,0.0,7.0,3.0,5.0,4.0,1.0,2.0,10.0,2.0,0.0,0.0,0.0,6.0,3.0,3.0,10.0,8.0,5.0,8.0,1.0,4.0,0.0,1.0,1.0,0.0,8.0,0.0,1.0,5.0,1.0,7.0,0.0,5.0,0.0,0.0,6.0,0.0,5.0,0.0,7.0,6.0,8.0,5.0,3.0,1.0,0.0,7.0,6.0,1.0,5.0,6.0,3.0,6.0,2.0,0.0,10.0,6.0,6.0,0.0,10.0,0.0,5.0,5.0,0.0,0.0,7.0,2.0,5.0,6.0,1.0,5.0,8.0,4.0,0.0,3.0,7.0,6.0,5.0,5.0,3.0,1.0,7.0,2.0,2.0,2.0,8.0,1.0,2.0,4.0,0.0,0.0,0.0,6.0,0.0,0.0,0.0,8.0,3.0,3.0,8.0,6.0,7.0,3.0,5.0,2.0,0.0,2.0,1.0,0.0,9.0,4.0,0.0,2.0,7.0,3.0,0.0,0.0,4.0,6.0,7.0,2.0,1.0,0.0,5.0,1.0,0.0,0.0,5.0,0.0,6.0,1.0,1.0,3.0,5.0,3.0,5.0,1.0,9.0,2.0,10.0,6.0,0.0,1.0,3.0,8.0,7.0,9.0,9.0,7.0,6.0,3.0,8.0,4.0,8.0,3.0,8.0,6.0,10.0,6.0,1.0,1.0,7.0,0.0,6.0,0.0,7.0,7.0,4.0,2.0,6.0,0.0,0.0,1.0,5.0,2.0,1.0,0.0,2.0,2.0,2.0,2.0,0.0,5.0,4.0,5.0,6.0,4.0,2.0,2.0,1.0,4.0,4.0,2.0,5.0,0.0,9.0,2.0,1.0,0.0,1.0,3.0,5.0,2.0,8.0,0.0,1.0,0.0,2.0,0.0,4.0,6.0,7.0,0.0,3.0,0.0,6.0,5.0,0.0,3.0,3.0,0.0,3.0,6.0,8.0,8.0,2.0,3.0,3.0,5.0,7.0,5.0,4.0,2.0,7.0,0.0,7.0,8.0,9.0,8.0,4.0,10.0,0.0,3.0,6.0,0.0,8.0,7.0,6.0,0.0,2.0,3.0,4.0,3.0,7.0,1.0,10.0,0.0,0.0,2.0,4.0,2.0,0.0,0.0,3.0,3.0,0.0,6.0,7.0,6.0,4.0,0.0,7.0,4.0,1.0,3.0,1.0,3.0,3.0,0.0,5.0,2.0,10.0,8.0,0.0,3.0,5.0,6.0,7.0,5.0,2.0,4.0,5.0,0.0,0.0,0.0,3.0,4.0,5.0,0.0,0.0,1.0,2.0,6.0,3.0,6.0,1.0,2.0,3.0,7.0,9.0,6.0,9.0,7.0,1.0,4.0,1.0,9.0,0.0,5.0,1.0,0.0,1.0,2.0,7.0,0.0,1.0,9.0,2.0,8.0,0.0,1.0,6.0,0.0,4.0,3.0,10.0,0.0,3.0,1.0,2.0,3.0,5.0,3.0,10.0,6.0,8.0,4.0,0.0,7.0,2.0,4.0,2.0,1.0,4.0,0.0,7.0,7.0,8.0,9.0,8.0,7.0,6.0,8.0,2.0,2.0,2.0,10.0,4.0,4.0,5.0,9.0,2.0,4.0,5.0,3.0,3.0,10.0,9.0,0.0,0.0,7.0,0.0,3.0,1.0,1.0,7.0,9.0,2.0,7.0,6.0,6.0,1.0,0.0,6.0,6.0,8.0,1.0,0.0,0.0,3.0,7.0,7.0,4.0,2.0,0.0,8.0,9.0,7.0,0.0,1.0,4.0,10.0,8.0,1.0,2.0,0.0,5.0,1.0,6.0,4.0,6.0,0.0,2.0,3.0,2.0,7.0,6.0,2.0,10.0,7.0,8.0,5.0,6.0,2.0,2.0,3.0,0.0,2.0,6.0,5.0,0.0,8.0,7.0,0.0,1.0,2.0,8.0,4.0,0.0,0.0,4.0,2.0,8.0,2.0,5.0,0.0,1.0,6.0,5.0,1.0,2.0,1.0,1.0,2.0,4.0,1.0,7.0,1.0,1.0,6.0,7.0,7.0,0.0,0.0,5.0,10.0,5.0,9.0,4.0,0.0,9.0,3.0,2.0,10.0,10.0,5.0,6.0,7.0,10.0,0.0,4.0,0.0,4.0,3.0,0.0,4.0,8.0,7.0,2.0,1.0,0.0,0.0,2.0,0.0,0.0,2.0,7.0,6.0,1.0,2.0,0.0,2.0,8.0,7.0,8.0,1.0,6.0,10.0,8.0,0.0,0.0,7.0,3.0,8.0,3.0,0.0,0.0,4.0,0.0,3.0,3.0,7.0,0.0,6.0,1.0,3.0,0.0,6.0,0.0,10.0,6.0,10.0,9.0,0.0,2.0,9.0,5.0,8.0,9.0,1.0,0.0,4.0,3.0,1.0,3.0,0.0,0.0,0.0,1.0,3.0,1.0,4.0,3.0,1.0,4.0,0.0,7.0,6.0,1.0,0.0,6.0,8.0,9.0,3.0,0.0,3.0,2.0,0.0,3.0,8.0,0.0,7.0,2.0,10.0,1.0,9.0,5.0,0.0,0.0,10.0,7.0,7.0,8.0,4.0,1.0,9.0,10.0,0.0,0.0,10.0,10.0,6.0,3.0,4.0,2.0,0.0,1.0,2.0,0.0,2.0,0.0,5.0,7.0,4.0,0.0,9.0,5.0,0.0,3.0,1.0,4.0,4.0,6.0,8.0,9.0,0.0,0.0,7.0,2.0,1.0,2.0,4.0,0.0,5.0,0.0,7.0,0.0,0.0,0.0,1.0,0.0,2.0,10.0,1.0,1.0,0.0,3.0,3.5,0.0,10.0,6.0,8.0,5.0,9.0,0.0,0.0,1.0,1.0,3.0,6.0,5.0,7.0,2.0,4.0,2.0,3.0,4.0,10.0,9.0,6.0,5.0,1.0,2.0,6.0,8.0,8.0,5.0,0.0,1.0,2.0,4.0,0.0,2.0,2.0,2.0,2.0],\"y\":[0.0,2.0,7.0,7.0,2.0,8.0,8.0,3.0,0.0,2.0,7.0,0.0,1.0,4.0,5.0,8.0,7.0,5.0,3.0,9.0,10.0,7.0,3.0,6.0,4.0,6.0,2.0,6.0,2.0,7.0,4.0,8.0,6.0,0.0,2.0,8.0,0.0,8.0,2.0,2.0,6.0,2.0,6.0,0.0,3.0,9.0,6.0,9.0,4.0,0.0,8.0,6.0,7.0,7.0,0.0,6.0,0.0,4.0,0.0,1.0,7.0,2.0,5.0,10.0,4.0,0.0,8.0,7.0,3.0,7.0,2.0,8.0,3.0,7.0,7.0,1.0,2.0,0.0,7.0,8.0,0.0,8.0,1.0,4.0,10.0,0.0,2.0,2.0,0.0,6.0,4.0,6.0,2.0,2.0,6.0,3.0,9.0,1.0,7.0,4.0,1.0,8.0,6.0,7.0,4.0,7.0,4.0,7.0,0.0,3.0,5.0,10.0,6.0,3.0,6.0,3.0,7.0,8.0,7.0,8.0,2.0,7.0,5.0,2.0,7.0,5.0,10.0,4.0,1.0,6.0,8.0,8.0,6.0,9.0,3.0,3.0,5.0,0.0,5.0,8.0,8.0,6.0,0.0,8.0,7.0,8.0,2.0,8.0,8.0,8.0,6.0,10.0,7.0,7.0,3.0,3.0,8.0,2.0,9.0,1.0,2.0,8.0,3.0,8.0,4.0,0.0,5.0,9.0,8.0,0.0,5.0,3.0,7.0,2.0,6.0,0.0,6.0,4.0,6.0,3.0,3.0,8.0,6.0,2.0,3.5,5.0,8.0,9.0,4.0,5.0,1.0,6.0,10.0,5.0,7.0,9.0,8.0,3.0,8.0,6.0,7.0,10.0,9.0,10.0,9.0,5.0,6.0,3.0,2.0,1.0,10.0,9.0,9.0,2.0,2.0,6.0,5.0,5.0,6.0,2.0,0.0,0.0,7.0,0.0,4.0,4.0,10.0,6.0,4.0,5.0,2.0,9.0,10.0,0.0,6.0,9.0,2.0,9.0,4.0,9.0,7.0,2.0,6.0,10.0,4.0,9.0,3.0,0.0,6.0,1.0,7.0,1.0,6.0,6.0,3.0,3.0,10.0,5.0,0.0,9.0,7.0,8.0,4.0,2.0,9.0,7.0,1.0,1.0,5.0,2.0,1.0,8.0,4.0,6.0,6.0,9.0,4.0,6.0,8.0,2.0,8.0,5.0,8.0,2.0,7.0,8.0,10.0,1.0,4.0,10.0,2.0,3.0,9.0,3.0,7.0,4.0,8.0,0.0,9.0,2.0,10.0,8.0,7.0,7.0,5.0,6.0,4.0,7.0,4.0,0.0,4.0,7.0,4.0,5.0,8.0,4.0,7.0,8.0,6.0,2.0,7.0,6.0,1.0,1.0,7.0,2.0,7.0,7.0,3.0,4.0,10.0,6.0,7.0,7.0,5.0,7.0,7.0,10.0,2.0,7.0,7.0,3.0,7.0,0.0,0.0,9.0,2.0,2.0,2.0,3.0,2.0,0.0,6.0,8.0,4.0,7.0,9.0,9.0,10.0,9.0,6.0,3.0,2.0,7.0,9.0,1.0,3.0,7.0,2.0,0.0,6.0,7.0,7.0,0.0,7.0,6.0,8.0,2.0,0.0,0.0,2.0,1.0,6.0,0.0,7.0,0.0,6.0,3.0,2.0,2.0,4.0,5.0,5.0,5.0,8.0,2.0,2.0,7.0,7.0,8.0,7.0,0.0,3.0,0.0,5.0,7.0,10.0,7.0,6.0,2.0,8.0,10.0,5.0,8.0,1.0,10.0,4.0,2.0,1.0,9.0,0.0,0.0,3.0,3.0,4.0,10.0,8.0,1.0,4.0,5.0,3.0,5.0,0.0,4.0,8.0,8.0,0.0,5.0,7.0,4.0,3.0,0.0,0.0,1.0,6.0,5.0,7.0,0.0,2.0,6.0,7.0,6.0,2.0,5.0,7.0,5.0,0.0,2.0,6.0,10.0,10.0,0.0,4.0,1.0,0.0,8.0,1.0,7.0,5.0,4.0,1.0,8.0,6.0,0.0,6.0,5.0,4.0,8.0,5.0,6.0,8.0,10.0,2.0,2.0,0.0,8.0,4.0,8.0,6.0,0.0,2.0,5.0,7.0,2.0,6.0,2.0,7.0,0.0,7.0,7.0,6.0,5.0,10.0,6.0,0.0,2.0,6.0,2.0,2.0,7.0,1.0,2.0,1.0,2.0,2.0,10.0,2.0,4.0,9.0,5.0,6.0,0.0,5.0,8.0,7.0,4.0,3.0,7.0,0.0,6.0,2.0,2.0,4.0,8.0,5.0,8.0,0.0,8.0,2.0,8.0,2.0,5.0,2.0,1.0,3.0,6.0,4.0,1.0,3.0,3.0,0.0,4.0,4.0,6.0,7.0,0.0,8.0,3.0,7.0,3.0,5.0,10.0,2.0,6.0,4.0,4.0,10.0,8.0,0.0,0.0,6.0,0.0,8.0,0.0,0.0,6.0,3.0,4.0,6.0,3.0,10.0,0.0,6.0,3.0,0.0,0.0,10.0,0.0,9.0,7.0,0.0,7.0,0.0,0.0,5.0,6.0,7.0,3.0,2.0,0.0,2.0,6.0,0.0,4.0,7.0,6.0,0.0,5.0,5.0,3.0,10.0,2.0,1.0,9.0,8.0,9.0,5.0,2.0,8.0,3.0,4.0,6.0,5.0,3.0,5.0,8.0,0.0,7.0,4.0,2.0,7.0,5.0,10.0,2.0,8.0,8.0,2.0,3.0,10.0,7.0,5.0,4.0,9.0,7.0,9.0,4.0,2.0,6.0,3.0,10.0,7.0,6.0,7.0,2.0,10.0,2.0,1.0,10.0,10.0,2.0,2.0,8.0,6.0,2.0,7.0,3.0,1.0,6.0,7.0,3.0,2.0,6.0,10.0,3.0,6.0,4.0,7.0,10.0,0.0,7.0,1.0,6.0,5.0,1.0,8.0,0.0,0.0,0.0,1.0,8.0,0.0,8.0,1.0,9.0,0.0,6.0,3.5,0.0,10.0,9.0,7.0,4.0,5.0,7.0,1.0,6.0,1.0,5.0,8.0,9.0,6.0,5.0,2.0,3.0,6.0,8.0,7.0,3.0,10.0,7.0,8.0,6.0,7.0,6.0,10.0,8.0,0.0,3.0,2.0,6.0,6.0,2.0,2.0,3.0,2.0],\"type\":\"histogram\",\"xaxis\":\"x2\",\"yaxis\":\"y2\"},{\"histfunc\":\"avg\",\"name\":\"OCD\",\"nbinsx\":10,\"x\":[1.0,2.0,10.0,3.0,5.0,7.0,6.0,5.0,0.0,5.0,4.0,0.0,2.0,7.0,4.0,4.0,10.0,0.0,0.0,3.0,2.0,5.0,8.0,8.0,2.0,10.0,1.0,4.0,1.0,2.0,4.0,2.0,6.0,0.0,1.0,0.0,4.0,1.0,8.0,3.0,5.0,10.0,8.0,8.0,1.0,3.0,4.0,5.0,2.0,0.0,7.0,3.0,5.0,4.0,1.0,2.0,10.0,2.0,0.0,0.0,0.0,6.0,3.0,3.0,10.0,8.0,5.0,8.0,1.0,4.0,0.0,1.0,1.0,0.0,8.0,0.0,1.0,5.0,1.0,7.0,0.0,5.0,0.0,0.0,6.0,0.0,5.0,0.0,7.0,6.0,8.0,5.0,3.0,1.0,0.0,7.0,6.0,1.0,5.0,6.0,3.0,6.0,2.0,0.0,10.0,6.0,6.0,0.0,10.0,0.0,5.0,5.0,0.0,0.0,7.0,2.0,5.0,6.0,1.0,5.0,8.0,4.0,0.0,3.0,7.0,6.0,5.0,5.0,3.0,1.0,7.0,2.0,2.0,2.0,8.0,1.0,2.0,4.0,0.0,0.0,0.0,6.0,0.0,0.0,0.0,8.0,3.0,3.0,8.0,6.0,7.0,3.0,5.0,2.0,0.0,2.0,1.0,0.0,9.0,4.0,0.0,2.0,7.0,3.0,0.0,0.0,4.0,6.0,7.0,2.0,1.0,0.0,5.0,1.0,0.0,0.0,5.0,0.0,6.0,1.0,1.0,3.0,5.0,3.0,5.0,1.0,9.0,2.0,10.0,6.0,0.0,1.0,3.0,8.0,7.0,9.0,9.0,7.0,6.0,3.0,8.0,4.0,8.0,3.0,8.0,6.0,10.0,6.0,1.0,1.0,7.0,0.0,6.0,0.0,7.0,7.0,4.0,2.0,6.0,0.0,0.0,1.0,5.0,2.0,1.0,0.0,2.0,2.0,2.0,2.0,0.0,5.0,4.0,5.0,6.0,4.0,2.0,2.0,1.0,4.0,4.0,2.0,5.0,0.0,9.0,2.0,1.0,0.0,1.0,3.0,5.0,2.0,8.0,0.0,1.0,0.0,2.0,0.0,4.0,6.0,7.0,0.0,3.0,0.0,6.0,5.0,0.0,3.0,3.0,0.0,3.0,6.0,8.0,8.0,2.0,3.0,3.0,5.0,7.0,5.0,4.0,2.0,7.0,0.0,7.0,8.0,9.0,8.0,4.0,10.0,0.0,3.0,6.0,0.0,8.0,7.0,6.0,0.0,2.0,3.0,4.0,3.0,7.0,1.0,10.0,0.0,0.0,2.0,4.0,2.0,0.0,0.0,3.0,3.0,0.0,6.0,7.0,6.0,4.0,0.0,7.0,4.0,1.0,3.0,1.0,3.0,3.0,0.0,5.0,2.0,10.0,8.0,0.0,3.0,5.0,6.0,7.0,5.0,2.0,4.0,5.0,0.0,0.0,0.0,3.0,4.0,5.0,0.0,0.0,1.0,2.0,6.0,3.0,6.0,1.0,2.0,3.0,7.0,9.0,6.0,9.0,7.0,1.0,4.0,1.0,9.0,0.0,5.0,1.0,0.0,1.0,2.0,7.0,0.0,1.0,9.0,2.0,8.0,0.0,1.0,6.0,0.0,4.0,3.0,10.0,0.0,3.0,1.0,2.0,3.0,5.0,3.0,10.0,6.0,8.0,4.0,0.0,7.0,2.0,4.0,2.0,1.0,4.0,0.0,7.0,7.0,8.0,9.0,8.0,7.0,6.0,8.0,2.0,2.0,2.0,10.0,4.0,4.0,5.0,9.0,2.0,4.0,5.0,3.0,3.0,10.0,9.0,0.0,0.0,7.0,0.0,3.0,1.0,1.0,7.0,9.0,2.0,7.0,6.0,6.0,1.0,0.0,6.0,6.0,8.0,1.0,0.0,0.0,3.0,7.0,7.0,4.0,2.0,0.0,8.0,9.0,7.0,0.0,1.0,4.0,10.0,8.0,1.0,2.0,0.0,5.0,1.0,6.0,4.0,6.0,0.0,2.0,3.0,2.0,7.0,6.0,2.0,10.0,7.0,8.0,5.0,6.0,2.0,2.0,3.0,0.0,2.0,6.0,5.0,0.0,8.0,7.0,0.0,1.0,2.0,8.0,4.0,0.0,0.0,4.0,2.0,8.0,2.0,5.0,0.0,1.0,6.0,5.0,1.0,2.0,1.0,1.0,2.0,4.0,1.0,7.0,1.0,1.0,6.0,7.0,7.0,0.0,0.0,5.0,10.0,5.0,9.0,4.0,0.0,9.0,3.0,2.0,10.0,10.0,5.0,6.0,7.0,10.0,0.0,4.0,0.0,4.0,3.0,0.0,4.0,8.0,7.0,2.0,1.0,0.0,0.0,2.0,0.0,0.0,2.0,7.0,6.0,1.0,2.0,0.0,2.0,8.0,7.0,8.0,1.0,6.0,10.0,8.0,0.0,0.0,7.0,3.0,8.0,3.0,0.0,0.0,4.0,0.0,3.0,3.0,7.0,0.0,6.0,1.0,3.0,0.0,6.0,0.0,10.0,6.0,10.0,9.0,0.0,2.0,9.0,5.0,8.0,9.0,1.0,0.0,4.0,3.0,1.0,3.0,0.0,0.0,0.0,1.0,3.0,1.0,4.0,3.0,1.0,4.0,0.0,7.0,6.0,1.0,0.0,6.0,8.0,9.0,3.0,0.0,3.0,2.0,0.0,3.0,8.0,0.0,7.0,2.0,10.0,1.0,9.0,5.0,0.0,0.0,10.0,7.0,7.0,8.0,4.0,1.0,9.0,10.0,0.0,0.0,10.0,10.0,6.0,3.0,4.0,2.0,0.0,1.0,2.0,0.0,2.0,0.0,5.0,7.0,4.0,0.0,9.0,5.0,0.0,3.0,1.0,4.0,4.0,6.0,8.0,9.0,0.0,0.0,7.0,2.0,1.0,2.0,4.0,0.0,5.0,0.0,7.0,0.0,0.0,0.0,1.0,0.0,2.0,10.0,1.0,1.0,0.0,3.0,3.5,0.0,10.0,6.0,8.0,5.0,9.0,0.0,0.0,1.0,1.0,3.0,6.0,5.0,7.0,2.0,4.0,2.0,3.0,4.0,10.0,9.0,6.0,5.0,1.0,2.0,6.0,8.0,8.0,5.0,0.0,1.0,2.0,4.0,0.0,2.0,2.0,2.0,2.0],\"y\":[0.0,1.0,2.0,3.0,9.0,7.0,0.0,3.0,0.0,1.0,7.0,1.0,0.0,0.0,1.0,3.0,0.0,3.0,2.0,0.0,4.0,4.0,6.0,10.0,5.0,5.0,2.0,5.0,5.0,0.0,3.0,3.0,1.0,0.0,1.0,2.0,0.0,0.0,6.0,4.0,0.0,0.0,2.0,2.0,5.0,0.0,3.0,0.0,4.0,0.0,5.0,10.0,5.0,3.0,3.0,10.0,0.0,3.0,2.0,0.0,5.0,7.0,1.0,1.0,2.0,0.0,10.0,0.0,1.0,0.0,5.0,2.0,1.0,1.0,4.0,0.0,5.0,10.0,1.0,0.0,0.0,1.0,0.0,1.0,10.0,0.0,1.0,0.0,0.0,2.0,3.0,3.0,1.0,6.0,6.0,0.0,2.0,1.0,0.0,1.0,1.0,7.0,0.0,0.0,0.0,2.0,5.0,0.0,10.0,1.0,3.0,0.0,0.0,0.0,5.0,3.0,0.0,5.0,0.0,1.0,6.0,2.0,0.0,1.0,3.0,5.0,6.0,0.0,1.0,2.0,1.0,8.0,0.0,0.0,7.0,2.0,0.0,0.0,2.0,0.0,0.0,3.0,0.0,0.0,0.0,5.0,4.0,0.0,0.0,0.0,5.0,0.0,0.0,8.0,6.0,1.0,6.0,7.0,0.0,1.0,0.0,0.0,0.0,0.0,3.0,0.0,4.0,0.0,6.0,0.0,0.0,0.0,1.0,1.0,1.0,0.0,2.0,3.0,4.0,5.0,0.0,0.0,4.0,5.0,10.0,2.0,5.0,1.0,2.0,0.0,0.0,1.0,0.0,9.0,3.0,3.0,7.0,8.0,2.0,0.0,3.0,0.0,2.0,9.0,8.0,8.0,3.0,4.0,3.0,1.0,3.0,0.0,2.0,0.0,7.0,5.0,2.0,3.0,1.0,0.0,0.0,0.0,2.0,0.0,1.0,1.0,0.0,1.0,1.0,6.0,0.0,1.0,1.0,0.0,5.0,0.0,1.0,1.0,0.0,0.0,3.0,0.0,6.0,0.0,7.0,8.0,4.0,1.0,7.0,5.0,7.0,7.0,0.0,4.0,1.0,7.0,2.0,2.0,4.0,4.0,2.0,5.0,4.0,7.0,9.0,4.0,0.0,0.0,0.0,6.0,5.0,2.0,8.0,2.0,6.0,4.0,3.0,7.0,7.0,0.0,2.0,1.0,1.0,0.0,5.0,6.0,2.0,4.0,0.0,8.0,1.0,1.0,1.0,10.0,2.0,0.0,2.0,0.0,5.0,0.0,0.0,3.0,4.0,2.0,2.0,4.0,0.0,10.0,0.0,0.0,1.0,0.0,0.0,3.0,0.0,1.0,3.0,2.0,0.0,8.0,7.0,2.0,0.0,0.0,2.0,1.0,2.0,3.0,2.0,0.0,1.0,4.0,9.0,3.0,3.0,8.0,3.0,7.0,8.0,0.0,5.0,0.0,10.0,3.0,0.0,6.0,6.0,0.0,0.0,0.0,1.0,5.0,1.0,2.0,1.0,1.0,2.0,3.0,2.0,4.0,9.0,2.0,6.0,0.0,2.0,1.0,0.0,4.0,1.0,0.0,1.0,0.0,4.0,0.0,4.0,2.0,2.0,0.0,2.0,0.0,7.0,5.0,0.0,0.0,6.0,0.0,0.0,6.0,1.0,2.0,6.0,2.0,3.0,5.0,2.0,3.0,2.0,4.0,0.0,8.0,1.0,0.0,5.0,0.0,0.0,0.0,0.0,2.0,5.0,0.0,2.0,2.0,3.0,5.0,0.0,3.0,4.0,0.0,1.0,8.0,3.0,0.0,2.0,0.0,0.0,7.0,3.0,2.0,1.0,8.5,0.0,1.0,6.0,1.0,10.0,5.0,0.0,1.0,5.0,3.0,0.0,2.0,9.0,0.0,0.0,2.0,4.0,0.0,2.0,9.0,0.0,3.0,0.0,7.0,0.0,1.0,0.0,2.0,2.0,0.0,0.0,1.0,0.0,2.0,0.0,0.0,0.0,2.0,0.0,2.0,2.0,2.0,1.0,1.0,4.0,1.0,0.0,9.0,0.0,1.0,0.0,7.0,2.0,1.0,0.0,4.0,2.0,2.0,5.0,0.0,0.0,0.0,0.0,0.0,3.0,0.0,3.0,0.0,0.0,1.0,7.0,0.0,3.0,1.0,0.0,0.0,5.0,0.0,0.0,4.0,1.0,0.0,2.0,0.0,0.0,8.0,6.0,0.0,1.0,0.0,4.0,0.0,2.0,2.0,6.0,2.0,2.0,4.0,5.0,8.0,2.0,2.0,0.0,0.0,5.0,2.0,0.0,0.0,0.0,10.0,1.0,0.0,1.0,0.0,2.0,2.0,5.0,3.0,3.0,0.0,0.0,0.0,0.0,2.0,0.0,0.0,2.0,0.0,1.0,3.0,5.0,10.0,8.0,5.0,6.0,8.0,0.0,4.0,0.0,0.0,7.0,1.0,9.0,4.0,1.0,0.0,0.0,0.0,0.0,3.0,3.0,1.0,8.0,7.0,0.0,0.0,6.0,1.0,0.0,2.0,10.0,3.0,0.0,2.0,8.0,8.0,6.0,5.0,5.0,0.0,0.0,4.0,0.0,7.0,0.0,4.0,0.0,3.0,1.0,8.0,7.0,0.0,9.0,10.0,0.0,0.0,4.0,0.0,0.0,0.0,0.0,1.0,8.0,0.0,3.0,3.0,5.0,2.0,0.0,0.0,3.0,8.0,6.0,6.0,1.0,3.0,3.0,4.0,9.0,4.0,7.0,8.0,5.0,3.0,6.0,7.0,1.0,2.0,0.0,2.0,0.0,0.0,4.0,0.0,8.0,10.0,2.0,0.0,0.0,0.0,3.0,0.0,0.0,0.0,3.0,0.0,4.0,6.0,1.0,1.0,3.0,0.0,1.0,7.0,0.0,1.0,5.0,7.0,0.0,6.0,0.0,0.0,5.0,3.0,4.0,5.0,0.0,2.0,0.0,2.0,2.0,0.0,1.0,7.0,0.0,8.0,5.5,2.0,8.0,5.0,4.0,0.0,4.0,0.0,9.0,4.0,6.0,1.0,5.0,10.0,0.0,0.0,7.0,0.0,4.0,0.0,2.0,2.0,8.0,5.0,0.0,0.0,10.0,0.0,4.0,10.0,0.0,2.0,0.0,6.0,9.0,5.0,2.0,1.0,5.0],\"type\":\"histogram\",\"xaxis\":\"x3\",\"yaxis\":\"y3\"}],                        {\"template\":{\"data\":{\"histogram2dcontour\":[{\"type\":\"histogram2dcontour\",\"colorbar\":{\"outlinewidth\":0,\"ticks\":\"\"},\"colorscale\":[[0.0,\"#0d0887\"],[0.1111111111111111,\"#46039f\"],[0.2222222222222222,\"#7201a8\"],[0.3333333333333333,\"#9c179e\"],[0.4444444444444444,\"#bd3786\"],[0.5555555555555556,\"#d8576b\"],[0.6666666666666666,\"#ed7953\"],[0.7777777777777778,\"#fb9f3a\"],[0.8888888888888888,\"#fdca26\"],[1.0,\"#f0f921\"]]}],\"choropleth\":[{\"type\":\"choropleth\",\"colorbar\":{\"outlinewidth\":0,\"ticks\":\"\"}}],\"histogram2d\":[{\"type\":\"histogram2d\",\"colorbar\":{\"outlinewidth\":0,\"ticks\":\"\"},\"colorscale\":[[0.0,\"#0d0887\"],[0.1111111111111111,\"#46039f\"],[0.2222222222222222,\"#7201a8\"],[0.3333333333333333,\"#9c179e\"],[0.4444444444444444,\"#bd3786\"],[0.5555555555555556,\"#d8576b\"],[0.6666666666666666,\"#ed7953\"],[0.7777777777777778,\"#fb9f3a\"],[0.8888888888888888,\"#fdca26\"],[1.0,\"#f0f921\"]]}],\"heatmap\":[{\"type\":\"heatmap\",\"colorbar\":{\"outlinewidth\":0,\"ticks\":\"\"},\"colorscale\":[[0.0,\"#0d0887\"],[0.1111111111111111,\"#46039f\"],[0.2222222222222222,\"#7201a8\"],[0.3333333333333333,\"#9c179e\"],[0.4444444444444444,\"#bd3786\"],[0.5555555555555556,\"#d8576b\"],[0.6666666666666666,\"#ed7953\"],[0.7777777777777778,\"#fb9f3a\"],[0.8888888888888888,\"#fdca26\"],[1.0,\"#f0f921\"]]}],\"heatmapgl\":[{\"type\":\"heatmapgl\",\"colorbar\":{\"outlinewidth\":0,\"ticks\":\"\"},\"colorscale\":[[0.0,\"#0d0887\"],[0.1111111111111111,\"#46039f\"],[0.2222222222222222,\"#7201a8\"],[0.3333333333333333,\"#9c179e\"],[0.4444444444444444,\"#bd3786\"],[0.5555555555555556,\"#d8576b\"],[0.6666666666666666,\"#ed7953\"],[0.7777777777777778,\"#fb9f3a\"],[0.8888888888888888,\"#fdca26\"],[1.0,\"#f0f921\"]]}],\"contourcarpet\":[{\"type\":\"contourcarpet\",\"colorbar\":{\"outlinewidth\":0,\"ticks\":\"\"}}],\"contour\":[{\"type\":\"contour\",\"colorbar\":{\"outlinewidth\":0,\"ticks\":\"\"},\"colorscale\":[[0.0,\"#0d0887\"],[0.1111111111111111,\"#46039f\"],[0.2222222222222222,\"#7201a8\"],[0.3333333333333333,\"#9c179e\"],[0.4444444444444444,\"#bd3786\"],[0.5555555555555556,\"#d8576b\"],[0.6666666666666666,\"#ed7953\"],[0.7777777777777778,\"#fb9f3a\"],[0.8888888888888888,\"#fdca26\"],[1.0,\"#f0f921\"]]}],\"surface\":[{\"type\":\"surface\",\"colorbar\":{\"outlinewidth\":0,\"ticks\":\"\"},\"colorscale\":[[0.0,\"#0d0887\"],[0.1111111111111111,\"#46039f\"],[0.2222222222222222,\"#7201a8\"],[0.3333333333333333,\"#9c179e\"],[0.4444444444444444,\"#bd3786\"],[0.5555555555555556,\"#d8576b\"],[0.6666666666666666,\"#ed7953\"],[0.7777777777777778,\"#fb9f3a\"],[0.8888888888888888,\"#fdca26\"],[1.0,\"#f0f921\"]]}],\"mesh3d\":[{\"type\":\"mesh3d\",\"colorbar\":{\"outlinewidth\":0,\"ticks\":\"\"}}],\"scatter\":[{\"fillpattern\":{\"fillmode\":\"overlay\",\"size\":10,\"solidity\":0.2},\"type\":\"scatter\"}],\"parcoords\":[{\"type\":\"parcoords\",\"line\":{\"colorbar\":{\"outlinewidth\":0,\"ticks\":\"\"}}}],\"scatterpolargl\":[{\"type\":\"scatterpolargl\",\"marker\":{\"colorbar\":{\"outlinewidth\":0,\"ticks\":\"\"}}}],\"bar\":[{\"error_x\":{\"color\":\"#2a3f5f\"},\"error_y\":{\"color\":\"#2a3f5f\"},\"marker\":{\"line\":{\"color\":\"#E5ECF6\",\"width\":0.5},\"pattern\":{\"fillmode\":\"overlay\",\"size\":10,\"solidity\":0.2}},\"type\":\"bar\"}],\"scattergeo\":[{\"type\":\"scattergeo\",\"marker\":{\"colorbar\":{\"outlinewidth\":0,\"ticks\":\"\"}}}],\"scatterpolar\":[{\"type\":\"scatterpolar\",\"marker\":{\"colorbar\":{\"outlinewidth\":0,\"ticks\":\"\"}}}],\"histogram\":[{\"marker\":{\"pattern\":{\"fillmode\":\"overlay\",\"size\":10,\"solidity\":0.2}},\"type\":\"histogram\"}],\"scattergl\":[{\"type\":\"scattergl\",\"marker\":{\"colorbar\":{\"outlinewidth\":0,\"ticks\":\"\"}}}],\"scatter3d\":[{\"type\":\"scatter3d\",\"line\":{\"colorbar\":{\"outlinewidth\":0,\"ticks\":\"\"}},\"marker\":{\"colorbar\":{\"outlinewidth\":0,\"ticks\":\"\"}}}],\"scattermapbox\":[{\"type\":\"scattermapbox\",\"marker\":{\"colorbar\":{\"outlinewidth\":0,\"ticks\":\"\"}}}],\"scatterternary\":[{\"type\":\"scatterternary\",\"marker\":{\"colorbar\":{\"outlinewidth\":0,\"ticks\":\"\"}}}],\"scattercarpet\":[{\"type\":\"scattercarpet\",\"marker\":{\"colorbar\":{\"outlinewidth\":0,\"ticks\":\"\"}}}],\"carpet\":[{\"aaxis\":{\"endlinecolor\":\"#2a3f5f\",\"gridcolor\":\"white\",\"linecolor\":\"white\",\"minorgridcolor\":\"white\",\"startlinecolor\":\"#2a3f5f\"},\"baxis\":{\"endlinecolor\":\"#2a3f5f\",\"gridcolor\":\"white\",\"linecolor\":\"white\",\"minorgridcolor\":\"white\",\"startlinecolor\":\"#2a3f5f\"},\"type\":\"carpet\"}],\"table\":[{\"cells\":{\"fill\":{\"color\":\"#EBF0F8\"},\"line\":{\"color\":\"white\"}},\"header\":{\"fill\":{\"color\":\"#C8D4E3\"},\"line\":{\"color\":\"white\"}},\"type\":\"table\"}],\"barpolar\":[{\"marker\":{\"line\":{\"color\":\"#E5ECF6\",\"width\":0.5},\"pattern\":{\"fillmode\":\"overlay\",\"size\":10,\"solidity\":0.2}},\"type\":\"barpolar\"}],\"pie\":[{\"automargin\":true,\"type\":\"pie\"}]},\"layout\":{\"autotypenumbers\":\"strict\",\"colorway\":[\"#636efa\",\"#EF553B\",\"#00cc96\",\"#ab63fa\",\"#FFA15A\",\"#19d3f3\",\"#FF6692\",\"#B6E880\",\"#FF97FF\",\"#FECB52\"],\"font\":{\"color\":\"#2a3f5f\"},\"hovermode\":\"closest\",\"hoverlabel\":{\"align\":\"left\"},\"paper_bgcolor\":\"white\",\"plot_bgcolor\":\"#E5ECF6\",\"polar\":{\"bgcolor\":\"#E5ECF6\",\"angularaxis\":{\"gridcolor\":\"white\",\"linecolor\":\"white\",\"ticks\":\"\"},\"radialaxis\":{\"gridcolor\":\"white\",\"linecolor\":\"white\",\"ticks\":\"\"}},\"ternary\":{\"bgcolor\":\"#E5ECF6\",\"aaxis\":{\"gridcolor\":\"white\",\"linecolor\":\"white\",\"ticks\":\"\"},\"baxis\":{\"gridcolor\":\"white\",\"linecolor\":\"white\",\"ticks\":\"\"},\"caxis\":{\"gridcolor\":\"white\",\"linecolor\":\"white\",\"ticks\":\"\"}},\"coloraxis\":{\"colorbar\":{\"outlinewidth\":0,\"ticks\":\"\"}},\"colorscale\":{\"sequential\":[[0.0,\"#0d0887\"],[0.1111111111111111,\"#46039f\"],[0.2222222222222222,\"#7201a8\"],[0.3333333333333333,\"#9c179e\"],[0.4444444444444444,\"#bd3786\"],[0.5555555555555556,\"#d8576b\"],[0.6666666666666666,\"#ed7953\"],[0.7777777777777778,\"#fb9f3a\"],[0.8888888888888888,\"#fdca26\"],[1.0,\"#f0f921\"]],\"sequentialminus\":[[0.0,\"#0d0887\"],[0.1111111111111111,\"#46039f\"],[0.2222222222222222,\"#7201a8\"],[0.3333333333333333,\"#9c179e\"],[0.4444444444444444,\"#bd3786\"],[0.5555555555555556,\"#d8576b\"],[0.6666666666666666,\"#ed7953\"],[0.7777777777777778,\"#fb9f3a\"],[0.8888888888888888,\"#fdca26\"],[1.0,\"#f0f921\"]],\"diverging\":[[0,\"#8e0152\"],[0.1,\"#c51b7d\"],[0.2,\"#de77ae\"],[0.3,\"#f1b6da\"],[0.4,\"#fde0ef\"],[0.5,\"#f7f7f7\"],[0.6,\"#e6f5d0\"],[0.7,\"#b8e186\"],[0.8,\"#7fbc41\"],[0.9,\"#4d9221\"],[1,\"#276419\"]]},\"xaxis\":{\"gridcolor\":\"white\",\"linecolor\":\"white\",\"ticks\":\"\",\"title\":{\"standoff\":15},\"zerolinecolor\":\"white\",\"automargin\":true,\"zerolinewidth\":2},\"yaxis\":{\"gridcolor\":\"white\",\"linecolor\":\"white\",\"ticks\":\"\",\"title\":{\"standoff\":15},\"zerolinecolor\":\"white\",\"automargin\":true,\"zerolinewidth\":2},\"scene\":{\"xaxis\":{\"backgroundcolor\":\"#E5ECF6\",\"gridcolor\":\"white\",\"linecolor\":\"white\",\"showbackground\":true,\"ticks\":\"\",\"zerolinecolor\":\"white\",\"gridwidth\":2},\"yaxis\":{\"backgroundcolor\":\"#E5ECF6\",\"gridcolor\":\"white\",\"linecolor\":\"white\",\"showbackground\":true,\"ticks\":\"\",\"zerolinecolor\":\"white\",\"gridwidth\":2},\"zaxis\":{\"backgroundcolor\":\"#E5ECF6\",\"gridcolor\":\"white\",\"linecolor\":\"white\",\"showbackground\":true,\"ticks\":\"\",\"zerolinecolor\":\"white\",\"gridwidth\":2}},\"shapedefaults\":{\"line\":{\"color\":\"#2a3f5f\"}},\"annotationdefaults\":{\"arrowcolor\":\"#2a3f5f\",\"arrowhead\":0,\"arrowwidth\":1},\"geo\":{\"bgcolor\":\"white\",\"landcolor\":\"#E5ECF6\",\"subunitcolor\":\"white\",\"showland\":true,\"showlakes\":true,\"lakecolor\":\"white\"},\"title\":{\"x\":0.05},\"mapbox\":{\"style\":\"light\"}}},\"xaxis\":{\"anchor\":\"y\",\"domain\":[0.0,0.425],\"title\":{\"text\":\"Poziom bezsenności\"}},\"yaxis\":{\"anchor\":\"x\",\"domain\":[0.6000000000000001,1.0],\"title\":{\"text\":\"Poziom Anxiety\"}},\"xaxis2\":{\"anchor\":\"y2\",\"domain\":[0.575,1.0],\"title\":{\"text\":\"Poziom bezsenności\"}},\"yaxis2\":{\"anchor\":\"x2\",\"domain\":[0.6000000000000001,1.0],\"title\":{\"text\":\"Poziom Depression\"}},\"xaxis3\":{\"anchor\":\"y3\",\"domain\":[0.0,0.425],\"title\":{\"text\":\"Poziom bezsenności\"}},\"yaxis3\":{\"anchor\":\"x3\",\"domain\":[0.0,0.4],\"title\":{\"text\":\"Poziom OCD\"}},\"xaxis4\":{\"anchor\":\"y4\",\"domain\":[0.575,1.0]},\"yaxis4\":{\"anchor\":\"x4\",\"domain\":[0.0,0.4]},\"title\":{\"text\":\"Wpływ chorób psychicznych na sen\"},\"showlegend\":false,\"width\":800,\"height\":600},                        {\"responsive\": true}                    ).then(function(){\n",
              "                            \n",
              "var gd = document.getElementById('0dbd949e-b3b8-431e-b266-450cf25b4109');\n",
              "var x = new MutationObserver(function (mutations, observer) {{\n",
              "        var display = window.getComputedStyle(gd).display;\n",
              "        if (!display || display === 'none') {{\n",
              "            console.log([gd, 'removed!']);\n",
              "            Plotly.purge(gd);\n",
              "            observer.disconnect();\n",
              "        }}\n",
              "}});\n",
              "\n",
              "// Listen for the removal of the full notebook cells\n",
              "var notebookContainer = gd.closest('#notebook-container');\n",
              "if (notebookContainer) {{\n",
              "    x.observe(notebookContainer, {childList: true});\n",
              "}}\n",
              "\n",
              "// Listen for the clearing of the current output cell\n",
              "var outputEl = gd.closest('.output');\n",
              "if (outputEl) {{\n",
              "    x.observe(outputEl, {childList: true});\n",
              "}}\n",
              "\n",
              "                        })                };                            </script>        </div>\n",
              "</body>\n",
              "</html>"
            ]
          },
          "metadata": {}
        }
      ]
    },
    {
      "cell_type": "markdown",
      "source": [
        "### Cechy a zdrowie psychiczne"
      ],
      "metadata": {
        "id": "Q74ImLKdLObY"
      }
    },
    {
      "cell_type": "code",
      "source": [
        "df['mean_mental_health'] = df['Anxiety'] + df['Depression'] + df['Insomnia'] + df['OCD']"
      ],
      "metadata": {
        "id": "d9FUBzL6LVam"
      },
      "execution_count": 109,
      "outputs": []
    },
    {
      "cell_type": "code",
      "source": [
        "health_map = px.density_heatmap(\n",
        "    df,\n",
        "    x='Age',\n",
        "    y='mean_mental_health',\n",
        "    color_continuous_scale=\"Sunsetdark\",\n",
        "    labels={'Age': 'Wiek', 'mean_mental_health': 'Poziom'})\n",
        "\n",
        "health_map.update_layout(\n",
        "    title='Poziom problemów ze zdrowiem psychicznym u osób według wieku',\n",
        ")\n",
        "health_map.update_xaxes(title='Wiek')\n",
        "health_map.update_yaxes(title='Problemy ze zdrowiem psychicznym')\n",
        "\n",
        "health_map.show()"
      ],
      "metadata": {
        "colab": {
          "base_uri": "https://localhost:8080/",
          "height": 542
        },
        "id": "p9iJbTVrPOWP",
        "outputId": "0591abc9-5ce2-42fc-fd75-0354073edbf7"
      },
      "execution_count": 110,
      "outputs": [
        {
          "output_type": "display_data",
          "data": {
            "text/html": [
              "<html>\n",
              "<head><meta charset=\"utf-8\" /></head>\n",
              "<body>\n",
              "    <div>            <script src=\"https://cdnjs.cloudflare.com/ajax/libs/mathjax/2.7.5/MathJax.js?config=TeX-AMS-MML_SVG\"></script><script type=\"text/javascript\">if (window.MathJax && window.MathJax.Hub && window.MathJax.Hub.Config) {window.MathJax.Hub.Config({SVG: {font: \"STIX-Web\"}});}</script>                <script type=\"text/javascript\">window.PlotlyConfig = {MathJaxConfig: 'local'};</script>\n",
              "        <script charset=\"utf-8\" src=\"https://cdn.plot.ly/plotly-2.35.2.min.js\"></script>                <div id=\"db63a172-8787-4901-9f68-f56080099b31\" class=\"plotly-graph-div\" style=\"height:525px; width:100%;\"></div>            <script type=\"text/javascript\">                                    window.PLOTLYENV=window.PLOTLYENV || {};                                    if (document.getElementById(\"db63a172-8787-4901-9f68-f56080099b31\")) {                    Plotly.newPlot(                        \"db63a172-8787-4901-9f68-f56080099b31\",                        [{\"coloraxis\":\"coloraxis\",\"hovertemplate\":\"Wiek=%{x}\\u003cbr\\u003ePoziom=%{y}\\u003cbr\\u003ecount=%{z}\\u003cextra\\u003e\\u003c\\u002fextra\\u003e\",\"name\":\"\",\"x\":[18,63,18,61,18,18,18,21,19,18,18,19,19,18,17,16,16,17,15,15,17,19,18,16,18,14,18,17,17,20,19,19,17,16,18,21,17,26,20,23,18,37,17,18,17,36,24,18,19,17,16,23,23,22,16,18,42,23,23,19,22,15,25,32,36,24,29,41,36,19,31,16,26,22,16,17,19,18,18,19,19,22,16,19,37,14,33,26,32,30,43,24,36,19,22,20,31,19,15,18,25,17,28,20,21,41,20,34,21,23,16,19,22,19,23,23,22,17,28,23,19,17,21,29,22,18,13,24,35,29,28,32,32,21,18,19,18,16,25,17,16,27,53,25,34,22,17,26,19,21,32,21,25,26,21,17,28,41,18,22,18,49,21,27,19,27,27,19,42,60,19,20,28,16,18,34,18,21,38,17,35,21,25,18,16,19,31,26,16,26,17,22,20,30,26,19,21,33,28,25,22,19,44,22,26,23,17,42,30,35,20,18,21,19,37,31,29,20,36,18,18,25,18,31,17,21,30,40,64,14,26,35,33,30,31,27,53,23,25,16,18,29,31,31,38,17,25,20,15,16,20,23,22,15,17,22,21,19,32,34,18,21,20,19,25,31,21,31,20,19,19,23,24,20,15,17,20,14,24,14,23,28,22,25,27,18,17,23,40,27,18,16,18,23,15,20,16,16,20,33,22,21,21,29,56,17,22,26,30,49,22,32,32,22,17,21,17,25,15,13,38,23,17,59,22,17,27,23,15,22,23,19,32,40,21,21,23,21,35,18,21,22,23,13,19,33,18,17,16,18,19,15,17,25,24,23,16,25,16,20,17,29,20,16,21,16,43,32,10,27,24,18,17,19,16,64,33,32,15,27,20,23,19,12,16,17,14,32,20,54,18,14,13,19,14,14,18,15,24,17,44,23,21,57,23,18,26,13,15,57,12,26,17,17,69,17,32,22,38,18,14,14,19,20,18,30,31,72,73,16,19,16,12,39,15,14,21,38,23,16,21,13,16,18,21,17,24,14,25,22,20,23,61,24,34,49,33,22,38,23,34,40,27,54,16,23,35,22,41,63,28,22,58,58,67,70,60,15,18,58,28,22,49,20,55,48,14,18,25,71,60,18,19,74,36,14,20,15,19,29,24,18,21,19,25,28,27,60,25,60,43,51,63,64,22,24,19,56,20,19,20,60,65,28,18,42,80,22,56,20,15,67,57,22,17,19,50,24,67,18,20,15,17,32,18,18,18,19,18,17,34,18,18,22,18,19,25,17,25,18,21,24,16,18,18,16,68,16,21,53,29,18,29,18,22,19,13,26,14,27,26,59,30,27,18,23,18,40,24,23,56,29,16,18,21,32,22,17,18,18,24,21,46,18,16,21,19,20,21,56,21,20,21,25,33,20,17,24,26,17,16,27,28,48,19,21,21,15,20,21,22,22,31,20,49,42,26,17,30,23,30,31,42,16,34,21,27,18,26,37,26,19,22,43,24,21,28,23,20,17,19,32,18,20,27,15,26,24,20,21,16,21,27,17,21,17,21,17,36,18,18,18,18,18,18,18,18,18,20,19,17,23,18,19,89,20,16,17,16,20,30,37,44,21,19,23,26,18,35,16,19,23,17,29,21,17,23,17,22,17,19,19,16,19,13,18,26,14,21,21,17,18,19,19,29],\"xaxis\":\"x\",\"xbingroup\":\"x\",\"y\":[4.0,12.0,26.0,22.0,23.0,30.0,18.0,16.0,2.0,10.0,25.0,2.0,5.0,17.0,17.0,23.0,22.0,15.0,12.0,18.0,26.0,22.0,20.0,34.0,18.0,29.0,8.0,21.0,16.0,16.0,15.0,22.0,18.0,0.0,7.0,16.0,6.0,18.0,23.0,13.0,18.0,15.0,22.0,11.0,16.0,20.0,22.0,21.0,17.0,0.0,27.0,29.0,20.0,22.0,4.0,26.0,19.0,15.0,9.0,11.0,20.0,18.0,14.0,24.0,21.0,8.0,31.0,25.0,12.0,19.0,17.0,20.0,11.0,15.0,26.0,5.0,15.0,24.0,11.0,25.0,3.0,21.0,3.0,10.0,35.0,2.0,13.0,5.0,9.0,21.0,20.0,18.0,12.0,17.0,21.0,10.0,25.0,7.0,20.0,14.0,6.0,31.0,14.0,13.0,22.0,24.0,22.0,13.0,30.0,10.0,20.0,22.0,14.0,7.0,25.0,15.0,14.0,26.0,12.0,21.0,21.0,23.0,11.0,13.0,21.0,20.0,28.0,15.0,9.0,15.0,26.0,28.0,11.0,19.0,26.0,9.0,13.0,4.0,13.0,11.0,9.0,20.0,0.0,8.0,10.0,29.0,14.0,19.0,22.0,20.0,24.0,22.0,19.0,27.0,10.0,11.0,21.0,16.0,24.0,7.0,2.0,18.0,13.0,19.0,13.0,1.0,18.0,23.0,29.0,5.0,6.0,9.0,14.0,8.0,12.0,1.0,21.0,16.0,20.0,16.0,14.0,19.0,22.0,17.0,28.5,15.0,28.0,14.0,23.0,18.0,7.0,11.0,22.0,30.0,25.0,30.0,33.0,27.0,26.0,18.0,25.0,23.0,28.0,31.0,35.0,25.0,27.0,21.0,10.0,5.0,30.0,17.0,21.0,6.0,25.0,26.0,17.0,18.0,20.0,12.0,6.0,3.0,17.0,11.0,11.0,13.0,20.0,12.0,11.0,20.0,5.0,24.0,18.0,14.0,24.0,13.0,7.0,18.0,11.0,21.0,20.0,11.0,25.0,13.0,29.0,26.0,18.0,1.0,23.0,16.0,28.0,13.0,20.0,20.0,11.0,13.0,23.0,14.0,11.0,28.0,21.0,13.0,19.0,16.0,33.0,21.0,6.0,8.0,11.0,10.0,9.0,23.0,26.0,21.0,20.0,24.0,18.0,26.0,30.0,12.0,20.0,15.0,24.0,12.0,27.0,30.0,29.0,19.0,8.0,36.0,6.0,12.0,24.0,23.0,23.0,18.0,25.0,8.0,24.0,12.0,24.0,22.0,26.0,18.0,23.0,17.0,11.0,27.0,12.0,2.0,11.0,11.0,15.0,16.0,8.0,18.0,25.0,25.0,18.0,17.0,27.0,19.0,3.0,5.0,12.0,12.0,19.0,18.0,18.0,11.0,28.0,25.0,24.0,23.0,19.0,29.0,27.0,32.0,20.0,14.0,26.0,8.0,27.0,11.0,9.0,26.0,16.0,6.0,6.0,9.0,9.0,15.0,17.0,23.0,9.0,19.0,24.0,28.0,29.0,27.0,29.0,21.0,12.0,18.0,19.0,16.0,6.0,24.0,12.0,4.0,17.0,19.0,26.0,1.0,17.0,24.0,20.0,12.0,8.0,3.0,21.0,12.0,17.0,3.0,32.0,10.0,15.0,14.0,11.0,9.0,22.0,17.0,26.0,23.0,24.0,10.0,7.0,24.0,15.0,29.0,17.0,2.0,16.0,2.0,12.0,22.0,23.0,26.0,28.0,11.0,23.0,30.0,18.0,22.0,4.0,32.0,21.0,14.0,8.0,36.0,8.0,8.0,12.0,8.0,15.0,37.0,28.0,3.0,10.0,28.0,6.0,16.0,15.0,12.0,33.0,32.0,5.0,18.0,25.0,20.0,7.0,6.0,18.0,12.0,24.0,15.0,18.0,6.0,13.0,29.0,19.0,20.0,6.0,21.0,18.0,19.0,8.0,7.0,10.0,22.0,28.0,12.0,8.0,7.0,0.0,21.0,3.0,23.0,15.0,17.0,6.0,16.0,15.0,3.0,24.0,20.0,10.0,36.0,17.0,19.0,17.0,32.0,9.0,11.0,5.0,22.0,12.0,23.0,23.0,1.0,16.0,16.0,17.0,7.0,18.0,13.0,24.0,4.0,14.0,18.0,22.0,19.0,25.0,19.0,3.0,11.0,24.0,10.0,11.0,20.0,8.0,4.0,7.0,11.0,10.0,35.0,16.0,11.0,21.0,19.0,24.0,0.0,10.0,23.0,31.0,13.0,21.0,23.0,5.0,31.0,11.0,9.0,20.0,26.0,20.0,26.0,7.0,26.0,10.0,29.0,3.0,12.0,11.0,7.0,15.0,21.0,24.0,7.0,15.0,6.0,0.0,11.0,6.0,12.0,14.0,11.0,26.0,7.0,18.0,9.0,16.0,38.0,27.0,28.0,17.0,21.0,30.0,24.0,3.0,1.0,25.0,11.0,35.0,10.0,2.0,12.0,11.0,10.0,11.0,17.0,28.0,2.0,28.0,17.0,5.0,0.0,32.0,4.0,26.0,23.0,22.0,29.0,6.0,7.0,28.0,26.0,31.0,17.0,8.0,2.0,8.0,18.0,1.0,19.0,9.0,10.0,0.0,16.0,16.0,15.0,28.0,8.0,16.0,31.0,12.0,23.0,16.0,6.0,14.0,15.0,19.0,18.0,24.0,6.0,18.0,17.0,8.0,22.0,22.0,4.0,25.0,25.0,35.0,14.0,22.0,23.0,7.0,17.0,39.0,21.0,26.0,27.0,25.0,15.0,29.0,26.0,10.0,16.0,14.0,30.0,17.0,18.0,25.0,5.0,25.0,23.0,7.0,13.0,19.0,6.0,14.0,21.0,18.0,4.0,27.0,12.0,11.0,21.0,17.0,13.0,15.0,17.0,25.0,26.0,10.0,14.0,28.0,24.0,2.0,23.0,10.0,16.0,22.0,7.0,24.0,7.0,7.0,10.0,6.0,13.0,11.0,28.0,10.0,22.0,0.0,27.0,19.5,4.0,38.0,28.0,28.0,15.0,26.0,10.0,19.0,19.0,12.0,15.0,26.0,32.0,21.0,17.0,18.0,14.0,17.0,21.0,24.0,22.0,34.0,24.0,19.0,16.0,33.0,20.0,32.0,32.0,0.0,13.0,10.0,23.0,22.0,12.0,8.0,8.0,11.0],\"yaxis\":\"y\",\"ybingroup\":\"y\",\"type\":\"histogram2d\"}],                        {\"template\":{\"data\":{\"histogram2dcontour\":[{\"type\":\"histogram2dcontour\",\"colorbar\":{\"outlinewidth\":0,\"ticks\":\"\"},\"colorscale\":[[0.0,\"#0d0887\"],[0.1111111111111111,\"#46039f\"],[0.2222222222222222,\"#7201a8\"],[0.3333333333333333,\"#9c179e\"],[0.4444444444444444,\"#bd3786\"],[0.5555555555555556,\"#d8576b\"],[0.6666666666666666,\"#ed7953\"],[0.7777777777777778,\"#fb9f3a\"],[0.8888888888888888,\"#fdca26\"],[1.0,\"#f0f921\"]]}],\"choropleth\":[{\"type\":\"choropleth\",\"colorbar\":{\"outlinewidth\":0,\"ticks\":\"\"}}],\"histogram2d\":[{\"type\":\"histogram2d\",\"colorbar\":{\"outlinewidth\":0,\"ticks\":\"\"},\"colorscale\":[[0.0,\"#0d0887\"],[0.1111111111111111,\"#46039f\"],[0.2222222222222222,\"#7201a8\"],[0.3333333333333333,\"#9c179e\"],[0.4444444444444444,\"#bd3786\"],[0.5555555555555556,\"#d8576b\"],[0.6666666666666666,\"#ed7953\"],[0.7777777777777778,\"#fb9f3a\"],[0.8888888888888888,\"#fdca26\"],[1.0,\"#f0f921\"]]}],\"heatmap\":[{\"type\":\"heatmap\",\"colorbar\":{\"outlinewidth\":0,\"ticks\":\"\"},\"colorscale\":[[0.0,\"#0d0887\"],[0.1111111111111111,\"#46039f\"],[0.2222222222222222,\"#7201a8\"],[0.3333333333333333,\"#9c179e\"],[0.4444444444444444,\"#bd3786\"],[0.5555555555555556,\"#d8576b\"],[0.6666666666666666,\"#ed7953\"],[0.7777777777777778,\"#fb9f3a\"],[0.8888888888888888,\"#fdca26\"],[1.0,\"#f0f921\"]]}],\"heatmapgl\":[{\"type\":\"heatmapgl\",\"colorbar\":{\"outlinewidth\":0,\"ticks\":\"\"},\"colorscale\":[[0.0,\"#0d0887\"],[0.1111111111111111,\"#46039f\"],[0.2222222222222222,\"#7201a8\"],[0.3333333333333333,\"#9c179e\"],[0.4444444444444444,\"#bd3786\"],[0.5555555555555556,\"#d8576b\"],[0.6666666666666666,\"#ed7953\"],[0.7777777777777778,\"#fb9f3a\"],[0.8888888888888888,\"#fdca26\"],[1.0,\"#f0f921\"]]}],\"contourcarpet\":[{\"type\":\"contourcarpet\",\"colorbar\":{\"outlinewidth\":0,\"ticks\":\"\"}}],\"contour\":[{\"type\":\"contour\",\"colorbar\":{\"outlinewidth\":0,\"ticks\":\"\"},\"colorscale\":[[0.0,\"#0d0887\"],[0.1111111111111111,\"#46039f\"],[0.2222222222222222,\"#7201a8\"],[0.3333333333333333,\"#9c179e\"],[0.4444444444444444,\"#bd3786\"],[0.5555555555555556,\"#d8576b\"],[0.6666666666666666,\"#ed7953\"],[0.7777777777777778,\"#fb9f3a\"],[0.8888888888888888,\"#fdca26\"],[1.0,\"#f0f921\"]]}],\"surface\":[{\"type\":\"surface\",\"colorbar\":{\"outlinewidth\":0,\"ticks\":\"\"},\"colorscale\":[[0.0,\"#0d0887\"],[0.1111111111111111,\"#46039f\"],[0.2222222222222222,\"#7201a8\"],[0.3333333333333333,\"#9c179e\"],[0.4444444444444444,\"#bd3786\"],[0.5555555555555556,\"#d8576b\"],[0.6666666666666666,\"#ed7953\"],[0.7777777777777778,\"#fb9f3a\"],[0.8888888888888888,\"#fdca26\"],[1.0,\"#f0f921\"]]}],\"mesh3d\":[{\"type\":\"mesh3d\",\"colorbar\":{\"outlinewidth\":0,\"ticks\":\"\"}}],\"scatter\":[{\"fillpattern\":{\"fillmode\":\"overlay\",\"size\":10,\"solidity\":0.2},\"type\":\"scatter\"}],\"parcoords\":[{\"type\":\"parcoords\",\"line\":{\"colorbar\":{\"outlinewidth\":0,\"ticks\":\"\"}}}],\"scatterpolargl\":[{\"type\":\"scatterpolargl\",\"marker\":{\"colorbar\":{\"outlinewidth\":0,\"ticks\":\"\"}}}],\"bar\":[{\"error_x\":{\"color\":\"#2a3f5f\"},\"error_y\":{\"color\":\"#2a3f5f\"},\"marker\":{\"line\":{\"color\":\"#E5ECF6\",\"width\":0.5},\"pattern\":{\"fillmode\":\"overlay\",\"size\":10,\"solidity\":0.2}},\"type\":\"bar\"}],\"scattergeo\":[{\"type\":\"scattergeo\",\"marker\":{\"colorbar\":{\"outlinewidth\":0,\"ticks\":\"\"}}}],\"scatterpolar\":[{\"type\":\"scatterpolar\",\"marker\":{\"colorbar\":{\"outlinewidth\":0,\"ticks\":\"\"}}}],\"histogram\":[{\"marker\":{\"pattern\":{\"fillmode\":\"overlay\",\"size\":10,\"solidity\":0.2}},\"type\":\"histogram\"}],\"scattergl\":[{\"type\":\"scattergl\",\"marker\":{\"colorbar\":{\"outlinewidth\":0,\"ticks\":\"\"}}}],\"scatter3d\":[{\"type\":\"scatter3d\",\"line\":{\"colorbar\":{\"outlinewidth\":0,\"ticks\":\"\"}},\"marker\":{\"colorbar\":{\"outlinewidth\":0,\"ticks\":\"\"}}}],\"scattermapbox\":[{\"type\":\"scattermapbox\",\"marker\":{\"colorbar\":{\"outlinewidth\":0,\"ticks\":\"\"}}}],\"scatterternary\":[{\"type\":\"scatterternary\",\"marker\":{\"colorbar\":{\"outlinewidth\":0,\"ticks\":\"\"}}}],\"scattercarpet\":[{\"type\":\"scattercarpet\",\"marker\":{\"colorbar\":{\"outlinewidth\":0,\"ticks\":\"\"}}}],\"carpet\":[{\"aaxis\":{\"endlinecolor\":\"#2a3f5f\",\"gridcolor\":\"white\",\"linecolor\":\"white\",\"minorgridcolor\":\"white\",\"startlinecolor\":\"#2a3f5f\"},\"baxis\":{\"endlinecolor\":\"#2a3f5f\",\"gridcolor\":\"white\",\"linecolor\":\"white\",\"minorgridcolor\":\"white\",\"startlinecolor\":\"#2a3f5f\"},\"type\":\"carpet\"}],\"table\":[{\"cells\":{\"fill\":{\"color\":\"#EBF0F8\"},\"line\":{\"color\":\"white\"}},\"header\":{\"fill\":{\"color\":\"#C8D4E3\"},\"line\":{\"color\":\"white\"}},\"type\":\"table\"}],\"barpolar\":[{\"marker\":{\"line\":{\"color\":\"#E5ECF6\",\"width\":0.5},\"pattern\":{\"fillmode\":\"overlay\",\"size\":10,\"solidity\":0.2}},\"type\":\"barpolar\"}],\"pie\":[{\"automargin\":true,\"type\":\"pie\"}]},\"layout\":{\"autotypenumbers\":\"strict\",\"colorway\":[\"#636efa\",\"#EF553B\",\"#00cc96\",\"#ab63fa\",\"#FFA15A\",\"#19d3f3\",\"#FF6692\",\"#B6E880\",\"#FF97FF\",\"#FECB52\"],\"font\":{\"color\":\"#2a3f5f\"},\"hovermode\":\"closest\",\"hoverlabel\":{\"align\":\"left\"},\"paper_bgcolor\":\"white\",\"plot_bgcolor\":\"#E5ECF6\",\"polar\":{\"bgcolor\":\"#E5ECF6\",\"angularaxis\":{\"gridcolor\":\"white\",\"linecolor\":\"white\",\"ticks\":\"\"},\"radialaxis\":{\"gridcolor\":\"white\",\"linecolor\":\"white\",\"ticks\":\"\"}},\"ternary\":{\"bgcolor\":\"#E5ECF6\",\"aaxis\":{\"gridcolor\":\"white\",\"linecolor\":\"white\",\"ticks\":\"\"},\"baxis\":{\"gridcolor\":\"white\",\"linecolor\":\"white\",\"ticks\":\"\"},\"caxis\":{\"gridcolor\":\"white\",\"linecolor\":\"white\",\"ticks\":\"\"}},\"coloraxis\":{\"colorbar\":{\"outlinewidth\":0,\"ticks\":\"\"}},\"colorscale\":{\"sequential\":[[0.0,\"#0d0887\"],[0.1111111111111111,\"#46039f\"],[0.2222222222222222,\"#7201a8\"],[0.3333333333333333,\"#9c179e\"],[0.4444444444444444,\"#bd3786\"],[0.5555555555555556,\"#d8576b\"],[0.6666666666666666,\"#ed7953\"],[0.7777777777777778,\"#fb9f3a\"],[0.8888888888888888,\"#fdca26\"],[1.0,\"#f0f921\"]],\"sequentialminus\":[[0.0,\"#0d0887\"],[0.1111111111111111,\"#46039f\"],[0.2222222222222222,\"#7201a8\"],[0.3333333333333333,\"#9c179e\"],[0.4444444444444444,\"#bd3786\"],[0.5555555555555556,\"#d8576b\"],[0.6666666666666666,\"#ed7953\"],[0.7777777777777778,\"#fb9f3a\"],[0.8888888888888888,\"#fdca26\"],[1.0,\"#f0f921\"]],\"diverging\":[[0,\"#8e0152\"],[0.1,\"#c51b7d\"],[0.2,\"#de77ae\"],[0.3,\"#f1b6da\"],[0.4,\"#fde0ef\"],[0.5,\"#f7f7f7\"],[0.6,\"#e6f5d0\"],[0.7,\"#b8e186\"],[0.8,\"#7fbc41\"],[0.9,\"#4d9221\"],[1,\"#276419\"]]},\"xaxis\":{\"gridcolor\":\"white\",\"linecolor\":\"white\",\"ticks\":\"\",\"title\":{\"standoff\":15},\"zerolinecolor\":\"white\",\"automargin\":true,\"zerolinewidth\":2},\"yaxis\":{\"gridcolor\":\"white\",\"linecolor\":\"white\",\"ticks\":\"\",\"title\":{\"standoff\":15},\"zerolinecolor\":\"white\",\"automargin\":true,\"zerolinewidth\":2},\"scene\":{\"xaxis\":{\"backgroundcolor\":\"#E5ECF6\",\"gridcolor\":\"white\",\"linecolor\":\"white\",\"showbackground\":true,\"ticks\":\"\",\"zerolinecolor\":\"white\",\"gridwidth\":2},\"yaxis\":{\"backgroundcolor\":\"#E5ECF6\",\"gridcolor\":\"white\",\"linecolor\":\"white\",\"showbackground\":true,\"ticks\":\"\",\"zerolinecolor\":\"white\",\"gridwidth\":2},\"zaxis\":{\"backgroundcolor\":\"#E5ECF6\",\"gridcolor\":\"white\",\"linecolor\":\"white\",\"showbackground\":true,\"ticks\":\"\",\"zerolinecolor\":\"white\",\"gridwidth\":2}},\"shapedefaults\":{\"line\":{\"color\":\"#2a3f5f\"}},\"annotationdefaults\":{\"arrowcolor\":\"#2a3f5f\",\"arrowhead\":0,\"arrowwidth\":1},\"geo\":{\"bgcolor\":\"white\",\"landcolor\":\"#E5ECF6\",\"subunitcolor\":\"white\",\"showland\":true,\"showlakes\":true,\"lakecolor\":\"white\"},\"title\":{\"x\":0.05},\"mapbox\":{\"style\":\"light\"}}},\"xaxis\":{\"anchor\":\"y\",\"domain\":[0.0,1.0],\"title\":{\"text\":\"Wiek\"}},\"yaxis\":{\"anchor\":\"x\",\"domain\":[0.0,1.0],\"title\":{\"text\":\"Problemy ze zdrowiem psychicznym\"}},\"coloraxis\":{\"colorbar\":{\"title\":{\"text\":\"count\"}},\"colorscale\":[[0.0,\"rgb(252, 222, 156)\"],[0.16666666666666666,\"rgb(250, 164, 118)\"],[0.3333333333333333,\"rgb(240, 116, 110)\"],[0.5,\"rgb(227, 79, 111)\"],[0.6666666666666666,\"rgb(220, 57, 119)\"],[0.8333333333333334,\"rgb(185, 37, 122)\"],[1.0,\"rgb(124, 29, 111)\"]]},\"legend\":{\"tracegroupgap\":0},\"margin\":{\"t\":60},\"title\":{\"text\":\"Poziom problemów ze zdrowiem psychicznym u osób według wieku\"}},                        {\"responsive\": true}                    ).then(function(){\n",
              "                            \n",
              "var gd = document.getElementById('db63a172-8787-4901-9f68-f56080099b31');\n",
              "var x = new MutationObserver(function (mutations, observer) {{\n",
              "        var display = window.getComputedStyle(gd).display;\n",
              "        if (!display || display === 'none') {{\n",
              "            console.log([gd, 'removed!']);\n",
              "            Plotly.purge(gd);\n",
              "            observer.disconnect();\n",
              "        }}\n",
              "}});\n",
              "\n",
              "// Listen for the removal of the full notebook cells\n",
              "var notebookContainer = gd.closest('#notebook-container');\n",
              "if (notebookContainer) {{\n",
              "    x.observe(notebookContainer, {childList: true});\n",
              "}}\n",
              "\n",
              "// Listen for the clearing of the current output cell\n",
              "var outputEl = gd.closest('.output');\n",
              "if (outputEl) {{\n",
              "    x.observe(outputEl, {childList: true});\n",
              "}}\n",
              "\n",
              "                        })                };                            </script>        </div>\n",
              "</body>\n",
              "</html>"
            ]
          },
          "metadata": {}
        }
      ]
    },
    {
      "cell_type": "code",
      "source": [
        "musician_health = make_subplots(\n",
        "    rows=1,\n",
        "    cols=2,\n",
        "    horizontal_spacing=0.3,\n",
        "    subplot_titles=['Instrumentalist', 'Composer']\n",
        "  )\n",
        "\n",
        "musician_health.add_trace(\n",
        "    go.Histogram(x=df['Instrumentalist'], y=df['mean_mental_health'], histfunc='avg'), row=1, col=1)\n",
        "musician_health.add_trace(\n",
        "    go.Histogram(x=df['Composer'], y=df['mean_mental_health'], histfunc='avg'), row=1, col=2)\n",
        "\n",
        "musician_health.update_yaxes(title='Problemy ze zdrowiem psychicznym')\n",
        "musician_health.update_layout(\n",
        "    showlegend=False,\n",
        "    width=700,\n",
        "    height=400\n",
        ")"
      ],
      "metadata": {
        "colab": {
          "base_uri": "https://localhost:8080/",
          "height": 417
        },
        "id": "oHm1XXdFY_8D",
        "outputId": "73e2efa7-41a7-4cf8-b76f-a13bc39d5707"
      },
      "execution_count": 111,
      "outputs": [
        {
          "output_type": "display_data",
          "data": {
            "text/html": [
              "<html>\n",
              "<head><meta charset=\"utf-8\" /></head>\n",
              "<body>\n",
              "    <div>            <script src=\"https://cdnjs.cloudflare.com/ajax/libs/mathjax/2.7.5/MathJax.js?config=TeX-AMS-MML_SVG\"></script><script type=\"text/javascript\">if (window.MathJax && window.MathJax.Hub && window.MathJax.Hub.Config) {window.MathJax.Hub.Config({SVG: {font: \"STIX-Web\"}});}</script>                <script type=\"text/javascript\">window.PlotlyConfig = {MathJaxConfig: 'local'};</script>\n",
              "        <script charset=\"utf-8\" src=\"https://cdn.plot.ly/plotly-2.35.2.min.js\"></script>                <div id=\"cc3b8032-ca07-4b64-9d0e-6acb9f8c4d1f\" class=\"plotly-graph-div\" style=\"height:400px; width:700px;\"></div>            <script type=\"text/javascript\">                                    window.PLOTLYENV=window.PLOTLYENV || {};                                    if (document.getElementById(\"cc3b8032-ca07-4b64-9d0e-6acb9f8c4d1f\")) {                    Plotly.newPlot(                        \"cc3b8032-ca07-4b64-9d0e-6acb9f8c4d1f\",                        [{\"histfunc\":\"avg\",\"x\":[\"Yes\",\"No\",\"No\",\"No\",\"No\",\"Yes\",\"Yes\",\"No\",\"No\",\"No\",\"Yes\",\"No\",\"No\",\"Yes\",\"No\",\"No\",\"No\",\"No\",\"No\",\"No\",\"No\",\"No\",\"No\",\"Yes\",\"No\",\"Yes\",\"Yes\",\"Yes\",\"No\",\"Yes\",\"No\",\"Yes\",\"No\",\"No\",\"Yes\",\"No\",\"No\",\"No\",\"No\",\"Yes\",\"Yes\",\"No\",\"No\",\"No\",\"Yes\",\"Yes\",\"No\",\"No\",\"No\",\"Yes\",\"No\",\"No\",\"No\",\"No\",\"Yes\",\"No\",\"No\",\"No\",\"Yes\",\"Yes\",\"Yes\",\"Yes\",\"No\",\"No\",\"No\",\"No\",\"No\",\"Yes\",\"Yes\",\"No\",\"No\",\"No\",\"Yes\",\"No\",\"Yes\",\"No\",\"No\",\"No\",\"No\",\"Yes\",\"No\",\"No\",\"Yes\",\"No\",\"No\",\"Yes\",\"No\",\"No\",\"No\",\"Yes\",\"Yes\",\"No\",\"No\",\"No\",\"No\",\"No\",\"No\",\"No\",\"No\",\"Yes\",\"Yes\",\"No\",\"No\",\"No\",\"Yes\",\"No\",\"Yes\",\"No\",\"No\",\"No\",\"No\",\"No\",\"Yes\",\"No\",\"No\",\"Yes\",\"No\",\"No\",\"No\",\"No\",\"No\",\"Yes\",\"No\",\"No\",\"Yes\",\"Yes\",\"Yes\",\"No\",\"No\",\"Yes\",\"No\",\"No\",\"No\",\"Yes\",\"Yes\",\"Yes\",\"Yes\",\"No\",\"No\",\"No\",\"No\",\"No\",\"No\",\"No\",\"No\",\"Yes\",\"Yes\",\"Yes\",\"No\",\"No\",\"Yes\",\"No\",\"Yes\",\"No\",\"Yes\",\"Yes\",\"No\",\"No\",\"Yes\",\"No\",\"No\",\"No\",\"Yes\",\"No\",\"No\",\"No\",\"No\",\"Yes\",\"Yes\",\"No\",\"No\",\"No\",\"No\",\"Yes\",\"No\",\"No\",\"No\",\"Yes\",\"No\",\"No\",\"No\",\"No\",\"No\",\"Yes\",\"No\",\"No\",\"Yes\",\"No\",\"Yes\",\"Yes\",\"No\",\"Yes\",\"No\",\"Yes\",\"No\",\"No\",\"No\",\"No\",\"No\",\"No\",\"No\",\"No\",\"No\",\"No\",\"Yes\",\"No\",\"No\",\"No\",\"Yes\",\"No\",\"No\",\"No\",\"No\",\"No\",\"No\",\"No\",\"Yes\",\"No\",\"Yes\",\"Yes\",\"No\",\"No\",\"No\",\"No\",\"No\",\"No\",\"No\",\"No\",\"No\",\"Yes\",\"No\",\"Yes\",\"No\",\"No\",\"Yes\",\"No\",\"No\",\"Yes\",\"No\",\"Yes\",\"Yes\",\"Yes\",\"No\",\"No\",\"Yes\",\"Yes\",\"No\",\"Yes\",\"No\",\"No\",\"Yes\",\"No\",\"No\",\"No\",\"Yes\",\"No\",\"No\",\"No\",\"No\",\"No\",\"Yes\",\"No\",\"No\",\"No\",\"No\",\"Yes\",\"Yes\",\"No\",\"No\",\"Yes\",\"No\",\"No\",\"No\",\"No\",\"No\",\"No\",\"Yes\",\"Yes\",\"No\",\"No\",\"Yes\",\"No\",\"No\",\"Yes\",\"Yes\",\"No\",\"Yes\",\"No\",\"No\",\"No\",\"No\",\"Yes\",\"No\",\"Yes\",\"Yes\",\"Yes\",\"Yes\",\"No\",\"Yes\",\"No\",\"Yes\",\"No\",\"Yes\",\"No\",\"No\",\"Yes\",\"No\",\"No\",\"No\",\"No\",\"Yes\",\"No\",\"No\",\"No\",\"No\",\"Yes\",\"No\",\"No\",\"No\",\"No\",\"No\",\"No\",\"No\",\"No\",\"Yes\",\"No\",\"No\",\"Yes\",\"No\",\"Yes\",\"No\",\"No\",\"No\",\"No\",\"No\",\"No\",\"No\",\"No\",\"Yes\",\"No\",\"No\",\"No\",\"Yes\",\"No\",\"No\",\"Yes\",\"No\",\"Yes\",\"No\",\"No\",\"No\",\"Yes\",\"No\",\"No\",\"No\",\"Yes\",\"Yes\",\"No\",\"Yes\",\"No\",\"No\",\"No\",\"No\",\"No\",\"No\",\"No\",\"No\",\"Yes\",\"Yes\",\"No\",\"Yes\",\"No\",\"No\",\"No\",\"No\",\"No\",\"Yes\",\"Yes\",\"Yes\",\"No\",\"No\",\"No\",\"Yes\",\"Yes\",\"Yes\",\"No\",\"Yes\",\"No\",\"Yes\",\"No\",\"No\",\"Yes\",\"Yes\",\"No\",\"Yes\",\"Yes\",\"Yes\",\"No\",\"Yes\",\"No\",\"No\",\"Yes\",\"No\",\"No\",\"Yes\",\"Yes\",\"No\",\"No\",\"Yes\",\"Yes\",\"Yes\",\"No\",\"Yes\",\"Yes\",\"Yes\",\"Yes\",\"Yes\",\"Yes\",\"No\",\"No\",\"Yes\",\"Yes\",\"Yes\",\"Yes\",\"No\",\"No\",\"Yes\",\"Yes\",\"No\",\"No\",\"Yes\",\"Yes\",\"Yes\",\"No\",\"Yes\",\"No\",\"No\",\"No\",\"No\",\"No\",\"Yes\",\"No\",\"No\",\"No\",\"No\",\"No\",\"No\",\"No\",\"No\",\"No\",\"No\",\"No\",\"No\",\"No\",\"Yes\",\"No\",\"Yes\",\"Yes\",\"No\",\"No\",\"No\",\"No\",\"No\",\"No\",\"No\",\"No\",\"No\",\"No\",\"No\",\"No\",\"Yes\",\"Yes\",\"No\",\"Yes\",\"No\",\"No\",\"No\",\"Yes\",\"No\",\"No\",\"No\",\"Yes\",\"No\",\"No\",\"No\",\"Yes\",\"Yes\",\"Yes\",\"No\",\"No\",\"Yes\",\"No\",\"No\",\"No\",\"No\",\"No\",\"Yes\",\"No\",\"No\",\"No\",\"No\",\"No\",\"No\",\"No\",\"No\",\"No\",\"No\",\"No\",\"No\",\"No\",\"No\",\"No\",\"No\",\"No\",\"No\",\"No\",\"No\",\"No\",\"No\",\"Yes\",\"No\",\"No\",\"No\",\"Yes\",\"Yes\",\"No\",\"Yes\",\"No\",\"No\",\"No\",\"No\",\"No\",\"Yes\",\"No\",\"No\",\"No\",\"No\",\"Yes\",\"No\",\"Yes\",\"No\",\"Yes\",\"Yes\",\"No\",\"No\",\"Yes\",\"No\",\"No\",\"Yes\",\"No\",\"No\",\"No\",\"No\",\"No\",\"No\",\"No\",\"No\",\"Yes\",\"Yes\",\"No\",\"No\",\"No\",\"Yes\",\"Yes\",\"No\",\"No\",\"No\",\"No\",\"No\",\"No\",\"No\",\"No\",\"No\",\"Yes\",\"No\",\"No\",\"No\",\"No\",\"No\",\"No\",\"No\",\"Yes\",\"Yes\",\"No\",\"Yes\",\"Yes\",\"Yes\",\"No\",\"No\",\"Yes\",\"No\",\"No\",\"No\",\"Yes\",\"No\",\"No\",\"Yes\",\"Yes\",\"No\",\"Yes\",\"No\",\"No\",\"No\",\"Yes\",\"Yes\",\"No\",\"No\",\"Yes\",\"Yes\",\"No\",\"No\",\"No\",\"No\",\"No\",\"No\",\"No\",\"Yes\",\"No\",\"Yes\",\"No\",\"Yes\",\"No\",\"No\",\"No\",\"No\",\"No\",\"Yes\",\"No\",\"No\",\"Yes\",\"No\",\"No\",\"No\",\"Yes\",\"Yes\",\"No\",\"No\",\"No\",\"No\",\"No\",\"No\",\"No\",\"Yes\",\"No\",\"No\",\"No\",\"No\",\"No\",\"No\",\"No\",\"Yes\",\"No\",\"No\",\"No\",\"Yes\",\"No\",\"No\",\"No\",\"No\",\"Yes\",\"No\",\"No\",\"No\",\"Yes\",\"No\",\"Yes\",\"No\",\"No\",\"No\",\"No\",\"No\",\"Yes\",\"Yes\",\"Yes\",\"Yes\",\"No\",\"No\",\"No\",\"No\",\"No\",\"No\",\"Yes\",\"No\",\"No\",\"No\",\"No\",\"Yes\",\"No\",\"No\",\"No\",\"No\",\"No\",\"Yes\",\"Yes\",\"Yes\",\"Yes\",\"Yes\",\"Yes\",\"No\",\"No\",\"Yes\",\"No\",\"No\",\"Yes\",\"Yes\",\"Yes\",\"No\",\"No\",\"Yes\",\"Yes\",\"No\",\"No\",\"No\",\"No\",\"Yes\",\"No\",\"No\",\"Yes\",\"No\",\"No\",\"Yes\",\"No\",\"No\",\"No\",\"No\",\"No\",\"No\",\"Yes\",\"No\",\"No\",\"Yes\",\"Yes\",\"No\",\"Yes\",\"No\"],\"y\":[4.0,12.0,26.0,22.0,23.0,30.0,18.0,16.0,2.0,10.0,25.0,2.0,5.0,17.0,17.0,23.0,22.0,15.0,12.0,18.0,26.0,22.0,20.0,34.0,18.0,29.0,8.0,21.0,16.0,16.0,15.0,22.0,18.0,0.0,7.0,16.0,6.0,18.0,23.0,13.0,18.0,15.0,22.0,11.0,16.0,20.0,22.0,21.0,17.0,0.0,27.0,29.0,20.0,22.0,4.0,26.0,19.0,15.0,9.0,11.0,20.0,18.0,14.0,24.0,21.0,8.0,31.0,25.0,12.0,19.0,17.0,20.0,11.0,15.0,26.0,5.0,15.0,24.0,11.0,25.0,3.0,21.0,3.0,10.0,35.0,2.0,13.0,5.0,9.0,21.0,20.0,18.0,12.0,17.0,21.0,10.0,25.0,7.0,20.0,14.0,6.0,31.0,14.0,13.0,22.0,24.0,22.0,13.0,30.0,10.0,20.0,22.0,14.0,7.0,25.0,15.0,14.0,26.0,12.0,21.0,21.0,23.0,11.0,13.0,21.0,20.0,28.0,15.0,9.0,15.0,26.0,28.0,11.0,19.0,26.0,9.0,13.0,4.0,13.0,11.0,9.0,20.0,0.0,8.0,10.0,29.0,14.0,19.0,22.0,20.0,24.0,22.0,19.0,27.0,10.0,11.0,21.0,16.0,24.0,7.0,2.0,18.0,13.0,19.0,13.0,1.0,18.0,23.0,29.0,5.0,6.0,9.0,14.0,8.0,12.0,1.0,21.0,16.0,20.0,16.0,14.0,19.0,22.0,17.0,28.5,15.0,28.0,14.0,23.0,18.0,7.0,11.0,22.0,30.0,25.0,30.0,33.0,27.0,26.0,18.0,25.0,23.0,28.0,31.0,35.0,25.0,27.0,21.0,10.0,5.0,30.0,17.0,21.0,6.0,25.0,26.0,17.0,18.0,20.0,12.0,6.0,3.0,17.0,11.0,11.0,13.0,20.0,12.0,11.0,20.0,5.0,24.0,18.0,14.0,24.0,13.0,7.0,18.0,11.0,21.0,20.0,11.0,25.0,13.0,29.0,26.0,18.0,1.0,23.0,16.0,28.0,13.0,20.0,20.0,11.0,13.0,23.0,14.0,11.0,28.0,21.0,13.0,19.0,16.0,33.0,21.0,6.0,8.0,11.0,10.0,9.0,23.0,26.0,21.0,20.0,24.0,18.0,26.0,30.0,12.0,20.0,15.0,24.0,12.0,27.0,30.0,29.0,19.0,8.0,36.0,6.0,12.0,24.0,23.0,23.0,18.0,25.0,8.0,24.0,12.0,24.0,22.0,26.0,18.0,23.0,17.0,11.0,27.0,12.0,2.0,11.0,11.0,15.0,16.0,8.0,18.0,25.0,25.0,18.0,17.0,27.0,19.0,3.0,5.0,12.0,12.0,19.0,18.0,18.0,11.0,28.0,25.0,24.0,23.0,19.0,29.0,27.0,32.0,20.0,14.0,26.0,8.0,27.0,11.0,9.0,26.0,16.0,6.0,6.0,9.0,9.0,15.0,17.0,23.0,9.0,19.0,24.0,28.0,29.0,27.0,29.0,21.0,12.0,18.0,19.0,16.0,6.0,24.0,12.0,4.0,17.0,19.0,26.0,1.0,17.0,24.0,20.0,12.0,8.0,3.0,21.0,12.0,17.0,3.0,32.0,10.0,15.0,14.0,11.0,9.0,22.0,17.0,26.0,23.0,24.0,10.0,7.0,24.0,15.0,29.0,17.0,2.0,16.0,2.0,12.0,22.0,23.0,26.0,28.0,11.0,23.0,30.0,18.0,22.0,4.0,32.0,21.0,14.0,8.0,36.0,8.0,8.0,12.0,8.0,15.0,37.0,28.0,3.0,10.0,28.0,6.0,16.0,15.0,12.0,33.0,32.0,5.0,18.0,25.0,20.0,7.0,6.0,18.0,12.0,24.0,15.0,18.0,6.0,13.0,29.0,19.0,20.0,6.0,21.0,18.0,19.0,8.0,7.0,10.0,22.0,28.0,12.0,8.0,7.0,0.0,21.0,3.0,23.0,15.0,17.0,6.0,16.0,15.0,3.0,24.0,20.0,10.0,36.0,17.0,19.0,17.0,32.0,9.0,11.0,5.0,22.0,12.0,23.0,23.0,1.0,16.0,16.0,17.0,7.0,18.0,13.0,24.0,4.0,14.0,18.0,22.0,19.0,25.0,19.0,3.0,11.0,24.0,10.0,11.0,20.0,8.0,4.0,7.0,11.0,10.0,35.0,16.0,11.0,21.0,19.0,24.0,0.0,10.0,23.0,31.0,13.0,21.0,23.0,5.0,31.0,11.0,9.0,20.0,26.0,20.0,26.0,7.0,26.0,10.0,29.0,3.0,12.0,11.0,7.0,15.0,21.0,24.0,7.0,15.0,6.0,0.0,11.0,6.0,12.0,14.0,11.0,26.0,7.0,18.0,9.0,16.0,38.0,27.0,28.0,17.0,21.0,30.0,24.0,3.0,1.0,25.0,11.0,35.0,10.0,2.0,12.0,11.0,10.0,11.0,17.0,28.0,2.0,28.0,17.0,5.0,0.0,32.0,4.0,26.0,23.0,22.0,29.0,6.0,7.0,28.0,26.0,31.0,17.0,8.0,2.0,8.0,18.0,1.0,19.0,9.0,10.0,0.0,16.0,16.0,15.0,28.0,8.0,16.0,31.0,12.0,23.0,16.0,6.0,14.0,15.0,19.0,18.0,24.0,6.0,18.0,17.0,8.0,22.0,22.0,4.0,25.0,25.0,35.0,14.0,22.0,23.0,7.0,17.0,39.0,21.0,26.0,27.0,25.0,15.0,29.0,26.0,10.0,16.0,14.0,30.0,17.0,18.0,25.0,5.0,25.0,23.0,7.0,13.0,19.0,6.0,14.0,21.0,18.0,4.0,27.0,12.0,11.0,21.0,17.0,13.0,15.0,17.0,25.0,26.0,10.0,14.0,28.0,24.0,2.0,23.0,10.0,16.0,22.0,7.0,24.0,7.0,7.0,10.0,6.0,13.0,11.0,28.0,10.0,22.0,0.0,27.0,19.5,4.0,38.0,28.0,28.0,15.0,26.0,10.0,19.0,19.0,12.0,15.0,26.0,32.0,21.0,17.0,18.0,14.0,17.0,21.0,24.0,22.0,34.0,24.0,19.0,16.0,33.0,20.0,32.0,32.0,0.0,13.0,10.0,23.0,22.0,12.0,8.0,8.0,11.0],\"type\":\"histogram\",\"xaxis\":\"x\",\"yaxis\":\"y\"},{\"histfunc\":\"avg\",\"x\":[\"Yes\",\"No\",\"No\",\"Yes\",\"No\",\"Yes\",\"No\",\"No\",\"No\",\"No\",\"No\",\"No\",\"No\",\"No\",\"No\",\"No\",\"Yes\",\"No\",\"No\",\"No\",\"No\",\"No\",\"No\",\"Yes\",\"No\",\"Yes\",\"Yes\",\"No\",\"No\",\"No\",\"No\",\"No\",\"No\",\"No\",\"No\",\"No\",\"No\",\"No\",\"No\",\"Yes\",\"No\",\"No\",\"No\",\"No\",\"Yes\",\"Yes\",\"No\",\"Yes\",\"No\",\"No\",\"No\",\"No\",\"No\",\"Yes\",\"No\",\"No\",\"No\",\"No\",\"No\",\"No\",\"No\",\"No\",\"No\",\"No\",\"No\",\"No\",\"No\",\"Yes\",\"Yes\",\"No\",\"No\",\"No\",\"Yes\",\"No\",\"Yes\",\"No\",\"No\",\"No\",\"No\",\"Yes\",\"No\",\"No\",\"Yes\",\"No\",\"No\",\"No\",\"No\",\"No\",\"No\",\"No\",\"Yes\",\"No\",\"No\",\"No\",\"No\",\"Yes\",\"No\",\"No\",\"No\",\"Yes\",\"No\",\"No\",\"No\",\"No\",\"No\",\"No\",\"No\",\"No\",\"Yes\",\"No\",\"No\",\"No\",\"No\",\"No\",\"No\",\"No\",\"Yes\",\"No\",\"No\",\"No\",\"No\",\"Yes\",\"No\",\"No\",\"Yes\",\"Yes\",\"Yes\",\"No\",\"No\",\"No\",\"No\",\"No\",\"No\",\"No\",\"No\",\"No\",\"No\",\"Yes\",\"No\",\"No\",\"No\",\"No\",\"No\",\"No\",\"No\",\"Yes\",\"Yes\",\"No\",\"No\",\"No\",\"Yes\",\"No\",\"No\",\"No\",\"No\",\"No\",\"No\",\"No\",\"No\",\"No\",\"No\",\"No\",\"Yes\",\"No\",\"Yes\",\"No\",\"No\",\"No\",\"No\",\"No\",\"No\",\"No\",\"Yes\",\"Yes\",\"No\",\"No\",\"No\",\"Yes\",\"No\",\"No\",\"No\",\"No\",\"No\",\"No\",\"No\",\"No\",\"No\",\"No\",\"Yes\",\"No\",\"No\",\"No\",\"No\",\"No\",\"No\",\"No\",\"No\",\"No\",\"No\",\"No\",\"No\",\"Yes\",\"No\",\"No\",\"Yes\",\"Yes\",\"No\",\"No\",\"No\",\"No\",\"No\",\"No\",\"No\",\"No\",\"No\",\"No\",\"No\",\"No\",\"Yes\",\"No\",\"No\",\"No\",\"No\",\"No\",\"No\",\"No\",\"No\",\"No\",\"No\",\"No\",\"No\",\"Yes\",\"No\",\"No\",\"No\",\"Yes\",\"No\",\"Yes\",\"Yes\",\"No\",\"Yes\",\"Yes\",\"No\",\"No\",\"No\",\"No\",\"No\",\"Yes\",\"No\",\"Yes\",\"No\",\"No\",\"No\",\"No\",\"No\",\"No\",\"No\",\"No\",\"No\",\"No\",\"No\",\"No\",\"No\",\"No\",\"No\",\"No\",\"No\",\"Yes\",\"No\",\"No\",\"No\",\"No\",\"Yes\",\"No\",\"No\",\"No\",\"Yes\",\"Yes\",\"No\",\"Yes\",\"Yes\",\"No\",\"No\",\"No\",\"Yes\",\"No\",\"Yes\",\"No\",\"No\",\"No\",\"No\",\"Yes\",\"No\",\"No\",\"No\",\"No\",\"No\",\"No\",\"Yes\",\"No\",\"Yes\",\"No\",\"No\",\"Yes\",\"No\",\"No\",\"No\",\"No\",\"No\",\"No\",\"Yes\",\"No\",\"No\",\"No\",\"No\",\"No\",\"No\",\"No\",\"Yes\",\"No\",\"No\",\"No\",\"No\",\"No\",\"Yes\",\"No\",\"No\",\"No\",\"No\",\"Yes\",\"No\",\"No\",\"No\",\"No\",\"No\",\"No\",\"No\",\"No\",\"No\",\"No\",\"No\",\"No\",\"Yes\",\"No\",\"No\",\"No\",\"Yes\",\"No\",\"No\",\"No\",\"No\",\"No\",\"No\",\"No\",\"No\",\"No\",\"No\",\"No\",\"Yes\",\"No\",\"No\",\"No\",\"No\",\"No\",\"No\",\"No\",\"No\",\"No\",\"No\",\"No\",\"No\",\"No\",\"No\",\"No\",\"No\",\"Yes\",\"Yes\",\"No\",\"No\",\"No\",\"No\",\"No\",\"No\",\"Yes\",\"Yes\",\"No\",\"No\",\"No\",\"No\",\"No\",\"No\",\"No\",\"Yes\",\"Yes\",\"No\",\"No\",\"No\",\"No\",\"No\",\"No\",\"No\",\"No\",\"No\",\"No\",\"No\",\"No\",\"No\",\"Yes\",\"Yes\",\"Yes\",\"Yes\",\"No\",\"No\",\"No\",\"Yes\",\"Yes\",\"Yes\",\"No\",\"No\",\"No\",\"No\",\"No\",\"Yes\",\"Yes\",\"No\",\"No\",\"No\",\"Yes\",\"No\",\"No\",\"No\",\"No\",\"Yes\",\"No\",\"No\",\"No\",\"No\",\"No\",\"Yes\",\"No\",\"No\",\"No\",\"No\",\"Yes\",\"No\",\"No\",\"No\",\"No\",\"No\",\"No\",\"No\",\"No\",\"No\",\"No\",\"No\",\"No\",\"No\",\"Yes\",\"No\",\"No\",\"No\",\"No\",\"No\",\"No\",\"No\",\"No\",\"No\",\"No\",\"No\",\"No\",\"No\",\"No\",\"No\",\"Yes\",\"No\",\"No\",\"No\",\"Yes\",\"No\",\"No\",\"No\",\"No\",\"No\",\"No\",\"No\",\"No\",\"No\",\"No\",\"No\",\"No\",\"Yes\",\"Yes\",\"No\",\"No\",\"No\",\"No\",\"Yes\",\"No\",\"No\",\"No\",\"No\",\"No\",\"No\",\"No\",\"No\",\"No\",\"No\",\"No\",\"No\",\"No\",\"No\",\"No\",\"No\",\"No\",\"No\",\"No\",\"No\",\"No\",\"No\",\"No\",\"No\",\"No\",\"No\",\"Yes\",\"No\",\"No\",\"No\",\"Yes\",\"No\",\"No\",\"No\",\"No\",\"No\",\"No\",\"No\",\"No\",\"No\",\"Yes\",\"No\",\"Yes\",\"No\",\"No\",\"No\",\"No\",\"No\",\"Yes\",\"No\",\"No\",\"No\",\"Yes\",\"No\",\"No\",\"No\",\"No\",\"Yes\",\"No\",\"No\",\"Yes\",\"No\",\"No\",\"No\",\"No\",\"No\",\"Yes\",\"No\",\"No\",\"No\",\"No\",\"No\",\"No\",\"No\",\"No\",\"No\",\"No\",\"No\",\"No\",\"No\",\"No\",\"No\",\"No\",\"No\",\"No\",\"Yes\",\"No\",\"No\",\"Yes\",\"Yes\",\"No\",\"No\",\"No\",\"No\",\"No\",\"No\",\"Yes\",\"No\",\"No\",\"No\",\"No\",\"No\",\"No\",\"No\",\"No\",\"No\",\"No\",\"No\",\"No\",\"No\",\"Yes\",\"No\",\"No\",\"No\",\"No\",\"No\",\"No\",\"No\",\"No\",\"No\",\"No\",\"Yes\",\"No\",\"Yes\",\"No\",\"No\",\"Yes\",\"No\",\"No\",\"No\",\"No\",\"No\",\"No\",\"No\",\"No\",\"No\",\"No\",\"Yes\",\"No\",\"No\",\"Yes\",\"No\",\"No\",\"No\",\"No\",\"No\",\"No\",\"No\",\"No\",\"No\",\"No\",\"No\",\"No\",\"No\",\"No\",\"No\",\"No\",\"Yes\",\"No\",\"No\",\"No\",\"No\",\"Yes\",\"No\",\"No\",\"No\",\"Yes\",\"No\",\"No\",\"No\",\"No\",\"No\",\"No\",\"No\",\"Yes\",\"Yes\",\"No\",\"No\",\"No\",\"No\",\"Yes\",\"No\",\"No\",\"No\",\"No\",\"No\",\"No\",\"No\",\"No\",\"No\",\"No\",\"No\",\"No\",\"No\",\"No\",\"Yes\",\"No\",\"Yes\",\"Yes\",\"No\",\"Yes\",\"No\",\"No\",\"No\",\"No\",\"No\",\"No\",\"No\",\"No\",\"No\",\"No\",\"Yes\",\"Yes\",\"No\",\"No\",\"No\",\"No\",\"Yes\",\"No\",\"No\",\"No\",\"No\",\"No\",\"No\",\"No\",\"No\",\"No\",\"No\",\"No\",\"No\",\"No\",\"No\",\"No\",\"No\",\"No\",\"Yes\",\"No\",\"No\"],\"y\":[4.0,12.0,26.0,22.0,23.0,30.0,18.0,16.0,2.0,10.0,25.0,2.0,5.0,17.0,17.0,23.0,22.0,15.0,12.0,18.0,26.0,22.0,20.0,34.0,18.0,29.0,8.0,21.0,16.0,16.0,15.0,22.0,18.0,0.0,7.0,16.0,6.0,18.0,23.0,13.0,18.0,15.0,22.0,11.0,16.0,20.0,22.0,21.0,17.0,0.0,27.0,29.0,20.0,22.0,4.0,26.0,19.0,15.0,9.0,11.0,20.0,18.0,14.0,24.0,21.0,8.0,31.0,25.0,12.0,19.0,17.0,20.0,11.0,15.0,26.0,5.0,15.0,24.0,11.0,25.0,3.0,21.0,3.0,10.0,35.0,2.0,13.0,5.0,9.0,21.0,20.0,18.0,12.0,17.0,21.0,10.0,25.0,7.0,20.0,14.0,6.0,31.0,14.0,13.0,22.0,24.0,22.0,13.0,30.0,10.0,20.0,22.0,14.0,7.0,25.0,15.0,14.0,26.0,12.0,21.0,21.0,23.0,11.0,13.0,21.0,20.0,28.0,15.0,9.0,15.0,26.0,28.0,11.0,19.0,26.0,9.0,13.0,4.0,13.0,11.0,9.0,20.0,0.0,8.0,10.0,29.0,14.0,19.0,22.0,20.0,24.0,22.0,19.0,27.0,10.0,11.0,21.0,16.0,24.0,7.0,2.0,18.0,13.0,19.0,13.0,1.0,18.0,23.0,29.0,5.0,6.0,9.0,14.0,8.0,12.0,1.0,21.0,16.0,20.0,16.0,14.0,19.0,22.0,17.0,28.5,15.0,28.0,14.0,23.0,18.0,7.0,11.0,22.0,30.0,25.0,30.0,33.0,27.0,26.0,18.0,25.0,23.0,28.0,31.0,35.0,25.0,27.0,21.0,10.0,5.0,30.0,17.0,21.0,6.0,25.0,26.0,17.0,18.0,20.0,12.0,6.0,3.0,17.0,11.0,11.0,13.0,20.0,12.0,11.0,20.0,5.0,24.0,18.0,14.0,24.0,13.0,7.0,18.0,11.0,21.0,20.0,11.0,25.0,13.0,29.0,26.0,18.0,1.0,23.0,16.0,28.0,13.0,20.0,20.0,11.0,13.0,23.0,14.0,11.0,28.0,21.0,13.0,19.0,16.0,33.0,21.0,6.0,8.0,11.0,10.0,9.0,23.0,26.0,21.0,20.0,24.0,18.0,26.0,30.0,12.0,20.0,15.0,24.0,12.0,27.0,30.0,29.0,19.0,8.0,36.0,6.0,12.0,24.0,23.0,23.0,18.0,25.0,8.0,24.0,12.0,24.0,22.0,26.0,18.0,23.0,17.0,11.0,27.0,12.0,2.0,11.0,11.0,15.0,16.0,8.0,18.0,25.0,25.0,18.0,17.0,27.0,19.0,3.0,5.0,12.0,12.0,19.0,18.0,18.0,11.0,28.0,25.0,24.0,23.0,19.0,29.0,27.0,32.0,20.0,14.0,26.0,8.0,27.0,11.0,9.0,26.0,16.0,6.0,6.0,9.0,9.0,15.0,17.0,23.0,9.0,19.0,24.0,28.0,29.0,27.0,29.0,21.0,12.0,18.0,19.0,16.0,6.0,24.0,12.0,4.0,17.0,19.0,26.0,1.0,17.0,24.0,20.0,12.0,8.0,3.0,21.0,12.0,17.0,3.0,32.0,10.0,15.0,14.0,11.0,9.0,22.0,17.0,26.0,23.0,24.0,10.0,7.0,24.0,15.0,29.0,17.0,2.0,16.0,2.0,12.0,22.0,23.0,26.0,28.0,11.0,23.0,30.0,18.0,22.0,4.0,32.0,21.0,14.0,8.0,36.0,8.0,8.0,12.0,8.0,15.0,37.0,28.0,3.0,10.0,28.0,6.0,16.0,15.0,12.0,33.0,32.0,5.0,18.0,25.0,20.0,7.0,6.0,18.0,12.0,24.0,15.0,18.0,6.0,13.0,29.0,19.0,20.0,6.0,21.0,18.0,19.0,8.0,7.0,10.0,22.0,28.0,12.0,8.0,7.0,0.0,21.0,3.0,23.0,15.0,17.0,6.0,16.0,15.0,3.0,24.0,20.0,10.0,36.0,17.0,19.0,17.0,32.0,9.0,11.0,5.0,22.0,12.0,23.0,23.0,1.0,16.0,16.0,17.0,7.0,18.0,13.0,24.0,4.0,14.0,18.0,22.0,19.0,25.0,19.0,3.0,11.0,24.0,10.0,11.0,20.0,8.0,4.0,7.0,11.0,10.0,35.0,16.0,11.0,21.0,19.0,24.0,0.0,10.0,23.0,31.0,13.0,21.0,23.0,5.0,31.0,11.0,9.0,20.0,26.0,20.0,26.0,7.0,26.0,10.0,29.0,3.0,12.0,11.0,7.0,15.0,21.0,24.0,7.0,15.0,6.0,0.0,11.0,6.0,12.0,14.0,11.0,26.0,7.0,18.0,9.0,16.0,38.0,27.0,28.0,17.0,21.0,30.0,24.0,3.0,1.0,25.0,11.0,35.0,10.0,2.0,12.0,11.0,10.0,11.0,17.0,28.0,2.0,28.0,17.0,5.0,0.0,32.0,4.0,26.0,23.0,22.0,29.0,6.0,7.0,28.0,26.0,31.0,17.0,8.0,2.0,8.0,18.0,1.0,19.0,9.0,10.0,0.0,16.0,16.0,15.0,28.0,8.0,16.0,31.0,12.0,23.0,16.0,6.0,14.0,15.0,19.0,18.0,24.0,6.0,18.0,17.0,8.0,22.0,22.0,4.0,25.0,25.0,35.0,14.0,22.0,23.0,7.0,17.0,39.0,21.0,26.0,27.0,25.0,15.0,29.0,26.0,10.0,16.0,14.0,30.0,17.0,18.0,25.0,5.0,25.0,23.0,7.0,13.0,19.0,6.0,14.0,21.0,18.0,4.0,27.0,12.0,11.0,21.0,17.0,13.0,15.0,17.0,25.0,26.0,10.0,14.0,28.0,24.0,2.0,23.0,10.0,16.0,22.0,7.0,24.0,7.0,7.0,10.0,6.0,13.0,11.0,28.0,10.0,22.0,0.0,27.0,19.5,4.0,38.0,28.0,28.0,15.0,26.0,10.0,19.0,19.0,12.0,15.0,26.0,32.0,21.0,17.0,18.0,14.0,17.0,21.0,24.0,22.0,34.0,24.0,19.0,16.0,33.0,20.0,32.0,32.0,0.0,13.0,10.0,23.0,22.0,12.0,8.0,8.0,11.0],\"type\":\"histogram\",\"xaxis\":\"x2\",\"yaxis\":\"y2\"}],                        {\"template\":{\"data\":{\"histogram2dcontour\":[{\"type\":\"histogram2dcontour\",\"colorbar\":{\"outlinewidth\":0,\"ticks\":\"\"},\"colorscale\":[[0.0,\"#0d0887\"],[0.1111111111111111,\"#46039f\"],[0.2222222222222222,\"#7201a8\"],[0.3333333333333333,\"#9c179e\"],[0.4444444444444444,\"#bd3786\"],[0.5555555555555556,\"#d8576b\"],[0.6666666666666666,\"#ed7953\"],[0.7777777777777778,\"#fb9f3a\"],[0.8888888888888888,\"#fdca26\"],[1.0,\"#f0f921\"]]}],\"choropleth\":[{\"type\":\"choropleth\",\"colorbar\":{\"outlinewidth\":0,\"ticks\":\"\"}}],\"histogram2d\":[{\"type\":\"histogram2d\",\"colorbar\":{\"outlinewidth\":0,\"ticks\":\"\"},\"colorscale\":[[0.0,\"#0d0887\"],[0.1111111111111111,\"#46039f\"],[0.2222222222222222,\"#7201a8\"],[0.3333333333333333,\"#9c179e\"],[0.4444444444444444,\"#bd3786\"],[0.5555555555555556,\"#d8576b\"],[0.6666666666666666,\"#ed7953\"],[0.7777777777777778,\"#fb9f3a\"],[0.8888888888888888,\"#fdca26\"],[1.0,\"#f0f921\"]]}],\"heatmap\":[{\"type\":\"heatmap\",\"colorbar\":{\"outlinewidth\":0,\"ticks\":\"\"},\"colorscale\":[[0.0,\"#0d0887\"],[0.1111111111111111,\"#46039f\"],[0.2222222222222222,\"#7201a8\"],[0.3333333333333333,\"#9c179e\"],[0.4444444444444444,\"#bd3786\"],[0.5555555555555556,\"#d8576b\"],[0.6666666666666666,\"#ed7953\"],[0.7777777777777778,\"#fb9f3a\"],[0.8888888888888888,\"#fdca26\"],[1.0,\"#f0f921\"]]}],\"heatmapgl\":[{\"type\":\"heatmapgl\",\"colorbar\":{\"outlinewidth\":0,\"ticks\":\"\"},\"colorscale\":[[0.0,\"#0d0887\"],[0.1111111111111111,\"#46039f\"],[0.2222222222222222,\"#7201a8\"],[0.3333333333333333,\"#9c179e\"],[0.4444444444444444,\"#bd3786\"],[0.5555555555555556,\"#d8576b\"],[0.6666666666666666,\"#ed7953\"],[0.7777777777777778,\"#fb9f3a\"],[0.8888888888888888,\"#fdca26\"],[1.0,\"#f0f921\"]]}],\"contourcarpet\":[{\"type\":\"contourcarpet\",\"colorbar\":{\"outlinewidth\":0,\"ticks\":\"\"}}],\"contour\":[{\"type\":\"contour\",\"colorbar\":{\"outlinewidth\":0,\"ticks\":\"\"},\"colorscale\":[[0.0,\"#0d0887\"],[0.1111111111111111,\"#46039f\"],[0.2222222222222222,\"#7201a8\"],[0.3333333333333333,\"#9c179e\"],[0.4444444444444444,\"#bd3786\"],[0.5555555555555556,\"#d8576b\"],[0.6666666666666666,\"#ed7953\"],[0.7777777777777778,\"#fb9f3a\"],[0.8888888888888888,\"#fdca26\"],[1.0,\"#f0f921\"]]}],\"surface\":[{\"type\":\"surface\",\"colorbar\":{\"outlinewidth\":0,\"ticks\":\"\"},\"colorscale\":[[0.0,\"#0d0887\"],[0.1111111111111111,\"#46039f\"],[0.2222222222222222,\"#7201a8\"],[0.3333333333333333,\"#9c179e\"],[0.4444444444444444,\"#bd3786\"],[0.5555555555555556,\"#d8576b\"],[0.6666666666666666,\"#ed7953\"],[0.7777777777777778,\"#fb9f3a\"],[0.8888888888888888,\"#fdca26\"],[1.0,\"#f0f921\"]]}],\"mesh3d\":[{\"type\":\"mesh3d\",\"colorbar\":{\"outlinewidth\":0,\"ticks\":\"\"}}],\"scatter\":[{\"fillpattern\":{\"fillmode\":\"overlay\",\"size\":10,\"solidity\":0.2},\"type\":\"scatter\"}],\"parcoords\":[{\"type\":\"parcoords\",\"line\":{\"colorbar\":{\"outlinewidth\":0,\"ticks\":\"\"}}}],\"scatterpolargl\":[{\"type\":\"scatterpolargl\",\"marker\":{\"colorbar\":{\"outlinewidth\":0,\"ticks\":\"\"}}}],\"bar\":[{\"error_x\":{\"color\":\"#2a3f5f\"},\"error_y\":{\"color\":\"#2a3f5f\"},\"marker\":{\"line\":{\"color\":\"#E5ECF6\",\"width\":0.5},\"pattern\":{\"fillmode\":\"overlay\",\"size\":10,\"solidity\":0.2}},\"type\":\"bar\"}],\"scattergeo\":[{\"type\":\"scattergeo\",\"marker\":{\"colorbar\":{\"outlinewidth\":0,\"ticks\":\"\"}}}],\"scatterpolar\":[{\"type\":\"scatterpolar\",\"marker\":{\"colorbar\":{\"outlinewidth\":0,\"ticks\":\"\"}}}],\"histogram\":[{\"marker\":{\"pattern\":{\"fillmode\":\"overlay\",\"size\":10,\"solidity\":0.2}},\"type\":\"histogram\"}],\"scattergl\":[{\"type\":\"scattergl\",\"marker\":{\"colorbar\":{\"outlinewidth\":0,\"ticks\":\"\"}}}],\"scatter3d\":[{\"type\":\"scatter3d\",\"line\":{\"colorbar\":{\"outlinewidth\":0,\"ticks\":\"\"}},\"marker\":{\"colorbar\":{\"outlinewidth\":0,\"ticks\":\"\"}}}],\"scattermapbox\":[{\"type\":\"scattermapbox\",\"marker\":{\"colorbar\":{\"outlinewidth\":0,\"ticks\":\"\"}}}],\"scatterternary\":[{\"type\":\"scatterternary\",\"marker\":{\"colorbar\":{\"outlinewidth\":0,\"ticks\":\"\"}}}],\"scattercarpet\":[{\"type\":\"scattercarpet\",\"marker\":{\"colorbar\":{\"outlinewidth\":0,\"ticks\":\"\"}}}],\"carpet\":[{\"aaxis\":{\"endlinecolor\":\"#2a3f5f\",\"gridcolor\":\"white\",\"linecolor\":\"white\",\"minorgridcolor\":\"white\",\"startlinecolor\":\"#2a3f5f\"},\"baxis\":{\"endlinecolor\":\"#2a3f5f\",\"gridcolor\":\"white\",\"linecolor\":\"white\",\"minorgridcolor\":\"white\",\"startlinecolor\":\"#2a3f5f\"},\"type\":\"carpet\"}],\"table\":[{\"cells\":{\"fill\":{\"color\":\"#EBF0F8\"},\"line\":{\"color\":\"white\"}},\"header\":{\"fill\":{\"color\":\"#C8D4E3\"},\"line\":{\"color\":\"white\"}},\"type\":\"table\"}],\"barpolar\":[{\"marker\":{\"line\":{\"color\":\"#E5ECF6\",\"width\":0.5},\"pattern\":{\"fillmode\":\"overlay\",\"size\":10,\"solidity\":0.2}},\"type\":\"barpolar\"}],\"pie\":[{\"automargin\":true,\"type\":\"pie\"}]},\"layout\":{\"autotypenumbers\":\"strict\",\"colorway\":[\"#636efa\",\"#EF553B\",\"#00cc96\",\"#ab63fa\",\"#FFA15A\",\"#19d3f3\",\"#FF6692\",\"#B6E880\",\"#FF97FF\",\"#FECB52\"],\"font\":{\"color\":\"#2a3f5f\"},\"hovermode\":\"closest\",\"hoverlabel\":{\"align\":\"left\"},\"paper_bgcolor\":\"white\",\"plot_bgcolor\":\"#E5ECF6\",\"polar\":{\"bgcolor\":\"#E5ECF6\",\"angularaxis\":{\"gridcolor\":\"white\",\"linecolor\":\"white\",\"ticks\":\"\"},\"radialaxis\":{\"gridcolor\":\"white\",\"linecolor\":\"white\",\"ticks\":\"\"}},\"ternary\":{\"bgcolor\":\"#E5ECF6\",\"aaxis\":{\"gridcolor\":\"white\",\"linecolor\":\"white\",\"ticks\":\"\"},\"baxis\":{\"gridcolor\":\"white\",\"linecolor\":\"white\",\"ticks\":\"\"},\"caxis\":{\"gridcolor\":\"white\",\"linecolor\":\"white\",\"ticks\":\"\"}},\"coloraxis\":{\"colorbar\":{\"outlinewidth\":0,\"ticks\":\"\"}},\"colorscale\":{\"sequential\":[[0.0,\"#0d0887\"],[0.1111111111111111,\"#46039f\"],[0.2222222222222222,\"#7201a8\"],[0.3333333333333333,\"#9c179e\"],[0.4444444444444444,\"#bd3786\"],[0.5555555555555556,\"#d8576b\"],[0.6666666666666666,\"#ed7953\"],[0.7777777777777778,\"#fb9f3a\"],[0.8888888888888888,\"#fdca26\"],[1.0,\"#f0f921\"]],\"sequentialminus\":[[0.0,\"#0d0887\"],[0.1111111111111111,\"#46039f\"],[0.2222222222222222,\"#7201a8\"],[0.3333333333333333,\"#9c179e\"],[0.4444444444444444,\"#bd3786\"],[0.5555555555555556,\"#d8576b\"],[0.6666666666666666,\"#ed7953\"],[0.7777777777777778,\"#fb9f3a\"],[0.8888888888888888,\"#fdca26\"],[1.0,\"#f0f921\"]],\"diverging\":[[0,\"#8e0152\"],[0.1,\"#c51b7d\"],[0.2,\"#de77ae\"],[0.3,\"#f1b6da\"],[0.4,\"#fde0ef\"],[0.5,\"#f7f7f7\"],[0.6,\"#e6f5d0\"],[0.7,\"#b8e186\"],[0.8,\"#7fbc41\"],[0.9,\"#4d9221\"],[1,\"#276419\"]]},\"xaxis\":{\"gridcolor\":\"white\",\"linecolor\":\"white\",\"ticks\":\"\",\"title\":{\"standoff\":15},\"zerolinecolor\":\"white\",\"automargin\":true,\"zerolinewidth\":2},\"yaxis\":{\"gridcolor\":\"white\",\"linecolor\":\"white\",\"ticks\":\"\",\"title\":{\"standoff\":15},\"zerolinecolor\":\"white\",\"automargin\":true,\"zerolinewidth\":2},\"scene\":{\"xaxis\":{\"backgroundcolor\":\"#E5ECF6\",\"gridcolor\":\"white\",\"linecolor\":\"white\",\"showbackground\":true,\"ticks\":\"\",\"zerolinecolor\":\"white\",\"gridwidth\":2},\"yaxis\":{\"backgroundcolor\":\"#E5ECF6\",\"gridcolor\":\"white\",\"linecolor\":\"white\",\"showbackground\":true,\"ticks\":\"\",\"zerolinecolor\":\"white\",\"gridwidth\":2},\"zaxis\":{\"backgroundcolor\":\"#E5ECF6\",\"gridcolor\":\"white\",\"linecolor\":\"white\",\"showbackground\":true,\"ticks\":\"\",\"zerolinecolor\":\"white\",\"gridwidth\":2}},\"shapedefaults\":{\"line\":{\"color\":\"#2a3f5f\"}},\"annotationdefaults\":{\"arrowcolor\":\"#2a3f5f\",\"arrowhead\":0,\"arrowwidth\":1},\"geo\":{\"bgcolor\":\"white\",\"landcolor\":\"#E5ECF6\",\"subunitcolor\":\"white\",\"showland\":true,\"showlakes\":true,\"lakecolor\":\"white\"},\"title\":{\"x\":0.05},\"mapbox\":{\"style\":\"light\"}}},\"xaxis\":{\"anchor\":\"y\",\"domain\":[0.0,0.35]},\"yaxis\":{\"anchor\":\"x\",\"domain\":[0.0,1.0],\"title\":{\"text\":\"Problemy ze zdrowiem psychicznym\"}},\"xaxis2\":{\"anchor\":\"y2\",\"domain\":[0.6499999999999999,0.9999999999999999]},\"yaxis2\":{\"anchor\":\"x2\",\"domain\":[0.0,1.0],\"title\":{\"text\":\"Problemy ze zdrowiem psychicznym\"}},\"annotations\":[{\"font\":{\"size\":16},\"showarrow\":false,\"text\":\"Instrumentalist\",\"x\":0.175,\"xanchor\":\"center\",\"xref\":\"paper\",\"y\":1.0,\"yanchor\":\"bottom\",\"yref\":\"paper\"},{\"font\":{\"size\":16},\"showarrow\":false,\"text\":\"Composer\",\"x\":0.825,\"xanchor\":\"center\",\"xref\":\"paper\",\"y\":1.0,\"yanchor\":\"bottom\",\"yref\":\"paper\"}],\"showlegend\":false,\"width\":700,\"height\":400},                        {\"responsive\": true}                    ).then(function(){\n",
              "                            \n",
              "var gd = document.getElementById('cc3b8032-ca07-4b64-9d0e-6acb9f8c4d1f');\n",
              "var x = new MutationObserver(function (mutations, observer) {{\n",
              "        var display = window.getComputedStyle(gd).display;\n",
              "        if (!display || display === 'none') {{\n",
              "            console.log([gd, 'removed!']);\n",
              "            Plotly.purge(gd);\n",
              "            observer.disconnect();\n",
              "        }}\n",
              "}});\n",
              "\n",
              "// Listen for the removal of the full notebook cells\n",
              "var notebookContainer = gd.closest('#notebook-container');\n",
              "if (notebookContainer) {{\n",
              "    x.observe(notebookContainer, {childList: true});\n",
              "}}\n",
              "\n",
              "// Listen for the clearing of the current output cell\n",
              "var outputEl = gd.closest('.output');\n",
              "if (outputEl) {{\n",
              "    x.observe(outputEl, {childList: true});\n",
              "}}\n",
              "\n",
              "                        })                };                            </script>        </div>\n",
              "</body>\n",
              "</html>"
            ]
          },
          "metadata": {}
        }
      ]
    },
    {
      "cell_type": "code",
      "source": [
        "freq_means = pd.DataFrame()\n",
        "\n",
        "frequency_mapping = {\"Never\": 0, \"Rarely\": 1, \"Sometimes\": 2, \"Very frequently\": 3}\n",
        "frequency_name = {str(v): k for k, v in frequency_mapping.items()}\n",
        "\n",
        "for i, col_name in enumerate(df.filter(like='Frequency', axis=1)):\n",
        "  freq_mean = df.groupby(col_name, observed=True)['mean_mental_health'].mean().reset_index()\n",
        "  freq_mean['genre'] = re.search(r'Frequency \\[(.*?)\\]', col_name).group(1)\n",
        "  freq_mean['frequency'] = freq_mean[col_name].map(frequency_mapping)\n",
        "\n",
        "  freq_means= pd.concat([freq_means, freq_mean])\n",
        "\n",
        "freq_mean_health = px.scatter(freq_means, x='genre', y='mean_mental_health', color='frequency')\n",
        "freq_mean_health.for_each_trace(lambda t: t.update(name = frequency_name[t.name]))\n",
        "\n",
        "freq_mean_health.update_traces(mode='lines+markers', marker_size=10)\n",
        "freq_mean_health.update_layout(showlegend=True)\n"
      ],
      "metadata": {
        "colab": {
          "base_uri": "https://localhost:8080/",
          "height": 542
        },
        "id": "VljC0zq9t6eO",
        "outputId": "5aa5f7fa-a041-4676-e87c-c6b4dc9e25b8"
      },
      "execution_count": 112,
      "outputs": [
        {
          "output_type": "display_data",
          "data": {
            "text/html": [
              "<html>\n",
              "<head><meta charset=\"utf-8\" /></head>\n",
              "<body>\n",
              "    <div>            <script src=\"https://cdnjs.cloudflare.com/ajax/libs/mathjax/2.7.5/MathJax.js?config=TeX-AMS-MML_SVG\"></script><script type=\"text/javascript\">if (window.MathJax && window.MathJax.Hub && window.MathJax.Hub.Config) {window.MathJax.Hub.Config({SVG: {font: \"STIX-Web\"}});}</script>                <script type=\"text/javascript\">window.PlotlyConfig = {MathJaxConfig: 'local'};</script>\n",
              "        <script charset=\"utf-8\" src=\"https://cdn.plot.ly/plotly-2.35.2.min.js\"></script>                <div id=\"023c0e44-1256-429c-b37f-221af81981a2\" class=\"plotly-graph-div\" style=\"height:525px; width:100%;\"></div>            <script type=\"text/javascript\">                                    window.PLOTLYENV=window.PLOTLYENV || {};                                    if (document.getElementById(\"023c0e44-1256-429c-b37f-221af81981a2\")) {                    Plotly.newPlot(                        \"023c0e44-1256-429c-b37f-221af81981a2\",                        [{\"hovertemplate\":\"frequency=0\\u003cbr\\u003egenre=%{x}\\u003cbr\\u003emean_mental_health=%{y}\\u003cextra\\u003e\\u003c\\u002fextra\\u003e\",\"legendgroup\":\"0\",\"marker\":{\"color\":\"#636efa\",\"symbol\":\"circle\",\"size\":10},\"mode\":\"lines+markers\",\"name\":\"Never\",\"orientation\":\"v\",\"showlegend\":true,\"x\":[\"Classical\",\"Country\",\"EDM\",\"Folk\",\"Gospel\",\"Hip hop\",\"Jazz\",\"K pop\",\"Latin\",\"Lofi\",\"Metal\",\"Pop\",\"R&B\",\"Rap\",\"Rock\",\"Video game music\"],\"xaxis\":\"x\",\"y\":[16.89644970414201,16.773391812865498,15.656351791530945,15.835051546391753,16.918539325842698,15.320441988950277,16.990384615384617,16.78485576923077,16.95361990950226,16.105357142857144,15.053231939163497,15.348214285714286,16.191111111111113,14.955,15.45054945054945,16.03191489361702],\"yaxis\":\"y\",\"type\":\"scatter\"},{\"hovertemplate\":\"frequency=1\\u003cbr\\u003egenre=%{x}\\u003cbr\\u003emean_mental_health=%{y}\\u003cextra\\u003e\\u003c\\u002fextra\\u003e\",\"legendgroup\":\"1\",\"marker\":{\"color\":\"#EF553B\",\"symbol\":\"circle\",\"size\":10},\"mode\":\"lines+markers\",\"name\":\"Rarely\",\"orientation\":\"v\",\"showlegend\":true,\"x\":[\"Classical\",\"Country\",\"EDM\",\"Folk\",\"Gospel\",\"Hip hop\",\"Jazz\",\"K pop\",\"Latin\",\"Lofi\",\"Metal\",\"Pop\",\"R&B\",\"Rap\",\"Rock\",\"Video game music\"],\"xaxis\":\"x\",\"y\":[16.82751937984496,17.896995708154506,18.137305699481864,17.63574660633484,17.90740740740741,18.203271028037385,16.761133603238868,17.457386363636363,16.691860465116278,16.95260663507109,17.520833333333332,16.669014084507044,17.88862559241706,18.399532710280372,15.389473684210527,16.185279187817258],\"yaxis\":\"y\",\"type\":\"scatter\"},{\"hovertemplate\":\"frequency=2\\u003cbr\\u003egenre=%{x}\\u003cbr\\u003emean_mental_health=%{y}\\u003cextra\\u003e\\u003c\\u002fextra\\u003e\",\"legendgroup\":\"2\",\"marker\":{\"color\":\"#00cc96\",\"symbol\":\"circle\",\"size\":10},\"mode\":\"lines+markers\",\"name\":\"Sometimes\",\"orientation\":\"v\",\"showlegend\":true,\"x\":[\"Classical\",\"Country\",\"EDM\",\"Folk\",\"Gospel\",\"Hip hop\",\"Jazz\",\"K pop\",\"Latin\",\"Lofi\",\"Metal\",\"Pop\",\"R&B\",\"Rap\",\"Rock\",\"Video game music\"],\"xaxis\":\"x\",\"y\":[17.52,16.265765765765767,17.602739726027398,17.920689655172414,16.057692307692307,16.961009174311926,16.911428571428573,17.12121212121212,17.551136363636363,18.509375,19.26865671641791,16.892307692307693,16.117486338797814,17.04871794871795,16.59360730593607,18.317204301075268],\"yaxis\":\"y\",\"type\":\"scatter\"},{\"hovertemplate\":\"frequency=3\\u003cbr\\u003egenre=%{x}\\u003cbr\\u003emean_mental_health=%{y}\\u003cextra\\u003e\\u003c\\u002fextra\\u003e\",\"legendgroup\":\"3\",\"marker\":{\"color\":\"#ab63fa\",\"symbol\":\"circle\",\"size\":10},\"mode\":\"lines+markers\",\"name\":\"Very frequently\",\"orientation\":\"v\",\"showlegend\":true,\"x\":[\"Classical\",\"Country\",\"EDM\",\"Folk\",\"Gospel\",\"Hip hop\",\"Jazz\",\"K pop\",\"Latin\",\"Lofi\",\"Metal\",\"Pop\",\"R&B\",\"Rap\",\"Rock\",\"Video game music\"],\"xaxis\":\"x\",\"y\":[16.63888888888889,16.040816326530614,18.213483146067414,17.871794871794872,15.071428571428571,17.475409836065573,18.50943396226415,17.051948051948052,17.848484848484848,17.261904761904763,17.76027397260274,17.615523465703973,18.370689655172413,17.817460317460316,18.169696969696968,18.247863247863247],\"yaxis\":\"y\",\"type\":\"scatter\"}],                        {\"template\":{\"data\":{\"histogram2dcontour\":[{\"type\":\"histogram2dcontour\",\"colorbar\":{\"outlinewidth\":0,\"ticks\":\"\"},\"colorscale\":[[0.0,\"#0d0887\"],[0.1111111111111111,\"#46039f\"],[0.2222222222222222,\"#7201a8\"],[0.3333333333333333,\"#9c179e\"],[0.4444444444444444,\"#bd3786\"],[0.5555555555555556,\"#d8576b\"],[0.6666666666666666,\"#ed7953\"],[0.7777777777777778,\"#fb9f3a\"],[0.8888888888888888,\"#fdca26\"],[1.0,\"#f0f921\"]]}],\"choropleth\":[{\"type\":\"choropleth\",\"colorbar\":{\"outlinewidth\":0,\"ticks\":\"\"}}],\"histogram2d\":[{\"type\":\"histogram2d\",\"colorbar\":{\"outlinewidth\":0,\"ticks\":\"\"},\"colorscale\":[[0.0,\"#0d0887\"],[0.1111111111111111,\"#46039f\"],[0.2222222222222222,\"#7201a8\"],[0.3333333333333333,\"#9c179e\"],[0.4444444444444444,\"#bd3786\"],[0.5555555555555556,\"#d8576b\"],[0.6666666666666666,\"#ed7953\"],[0.7777777777777778,\"#fb9f3a\"],[0.8888888888888888,\"#fdca26\"],[1.0,\"#f0f921\"]]}],\"heatmap\":[{\"type\":\"heatmap\",\"colorbar\":{\"outlinewidth\":0,\"ticks\":\"\"},\"colorscale\":[[0.0,\"#0d0887\"],[0.1111111111111111,\"#46039f\"],[0.2222222222222222,\"#7201a8\"],[0.3333333333333333,\"#9c179e\"],[0.4444444444444444,\"#bd3786\"],[0.5555555555555556,\"#d8576b\"],[0.6666666666666666,\"#ed7953\"],[0.7777777777777778,\"#fb9f3a\"],[0.8888888888888888,\"#fdca26\"],[1.0,\"#f0f921\"]]}],\"heatmapgl\":[{\"type\":\"heatmapgl\",\"colorbar\":{\"outlinewidth\":0,\"ticks\":\"\"},\"colorscale\":[[0.0,\"#0d0887\"],[0.1111111111111111,\"#46039f\"],[0.2222222222222222,\"#7201a8\"],[0.3333333333333333,\"#9c179e\"],[0.4444444444444444,\"#bd3786\"],[0.5555555555555556,\"#d8576b\"],[0.6666666666666666,\"#ed7953\"],[0.7777777777777778,\"#fb9f3a\"],[0.8888888888888888,\"#fdca26\"],[1.0,\"#f0f921\"]]}],\"contourcarpet\":[{\"type\":\"contourcarpet\",\"colorbar\":{\"outlinewidth\":0,\"ticks\":\"\"}}],\"contour\":[{\"type\":\"contour\",\"colorbar\":{\"outlinewidth\":0,\"ticks\":\"\"},\"colorscale\":[[0.0,\"#0d0887\"],[0.1111111111111111,\"#46039f\"],[0.2222222222222222,\"#7201a8\"],[0.3333333333333333,\"#9c179e\"],[0.4444444444444444,\"#bd3786\"],[0.5555555555555556,\"#d8576b\"],[0.6666666666666666,\"#ed7953\"],[0.7777777777777778,\"#fb9f3a\"],[0.8888888888888888,\"#fdca26\"],[1.0,\"#f0f921\"]]}],\"surface\":[{\"type\":\"surface\",\"colorbar\":{\"outlinewidth\":0,\"ticks\":\"\"},\"colorscale\":[[0.0,\"#0d0887\"],[0.1111111111111111,\"#46039f\"],[0.2222222222222222,\"#7201a8\"],[0.3333333333333333,\"#9c179e\"],[0.4444444444444444,\"#bd3786\"],[0.5555555555555556,\"#d8576b\"],[0.6666666666666666,\"#ed7953\"],[0.7777777777777778,\"#fb9f3a\"],[0.8888888888888888,\"#fdca26\"],[1.0,\"#f0f921\"]]}],\"mesh3d\":[{\"type\":\"mesh3d\",\"colorbar\":{\"outlinewidth\":0,\"ticks\":\"\"}}],\"scatter\":[{\"fillpattern\":{\"fillmode\":\"overlay\",\"size\":10,\"solidity\":0.2},\"type\":\"scatter\"}],\"parcoords\":[{\"type\":\"parcoords\",\"line\":{\"colorbar\":{\"outlinewidth\":0,\"ticks\":\"\"}}}],\"scatterpolargl\":[{\"type\":\"scatterpolargl\",\"marker\":{\"colorbar\":{\"outlinewidth\":0,\"ticks\":\"\"}}}],\"bar\":[{\"error_x\":{\"color\":\"#2a3f5f\"},\"error_y\":{\"color\":\"#2a3f5f\"},\"marker\":{\"line\":{\"color\":\"#E5ECF6\",\"width\":0.5},\"pattern\":{\"fillmode\":\"overlay\",\"size\":10,\"solidity\":0.2}},\"type\":\"bar\"}],\"scattergeo\":[{\"type\":\"scattergeo\",\"marker\":{\"colorbar\":{\"outlinewidth\":0,\"ticks\":\"\"}}}],\"scatterpolar\":[{\"type\":\"scatterpolar\",\"marker\":{\"colorbar\":{\"outlinewidth\":0,\"ticks\":\"\"}}}],\"histogram\":[{\"marker\":{\"pattern\":{\"fillmode\":\"overlay\",\"size\":10,\"solidity\":0.2}},\"type\":\"histogram\"}],\"scattergl\":[{\"type\":\"scattergl\",\"marker\":{\"colorbar\":{\"outlinewidth\":0,\"ticks\":\"\"}}}],\"scatter3d\":[{\"type\":\"scatter3d\",\"line\":{\"colorbar\":{\"outlinewidth\":0,\"ticks\":\"\"}},\"marker\":{\"colorbar\":{\"outlinewidth\":0,\"ticks\":\"\"}}}],\"scattermapbox\":[{\"type\":\"scattermapbox\",\"marker\":{\"colorbar\":{\"outlinewidth\":0,\"ticks\":\"\"}}}],\"scatterternary\":[{\"type\":\"scatterternary\",\"marker\":{\"colorbar\":{\"outlinewidth\":0,\"ticks\":\"\"}}}],\"scattercarpet\":[{\"type\":\"scattercarpet\",\"marker\":{\"colorbar\":{\"outlinewidth\":0,\"ticks\":\"\"}}}],\"carpet\":[{\"aaxis\":{\"endlinecolor\":\"#2a3f5f\",\"gridcolor\":\"white\",\"linecolor\":\"white\",\"minorgridcolor\":\"white\",\"startlinecolor\":\"#2a3f5f\"},\"baxis\":{\"endlinecolor\":\"#2a3f5f\",\"gridcolor\":\"white\",\"linecolor\":\"white\",\"minorgridcolor\":\"white\",\"startlinecolor\":\"#2a3f5f\"},\"type\":\"carpet\"}],\"table\":[{\"cells\":{\"fill\":{\"color\":\"#EBF0F8\"},\"line\":{\"color\":\"white\"}},\"header\":{\"fill\":{\"color\":\"#C8D4E3\"},\"line\":{\"color\":\"white\"}},\"type\":\"table\"}],\"barpolar\":[{\"marker\":{\"line\":{\"color\":\"#E5ECF6\",\"width\":0.5},\"pattern\":{\"fillmode\":\"overlay\",\"size\":10,\"solidity\":0.2}},\"type\":\"barpolar\"}],\"pie\":[{\"automargin\":true,\"type\":\"pie\"}]},\"layout\":{\"autotypenumbers\":\"strict\",\"colorway\":[\"#636efa\",\"#EF553B\",\"#00cc96\",\"#ab63fa\",\"#FFA15A\",\"#19d3f3\",\"#FF6692\",\"#B6E880\",\"#FF97FF\",\"#FECB52\"],\"font\":{\"color\":\"#2a3f5f\"},\"hovermode\":\"closest\",\"hoverlabel\":{\"align\":\"left\"},\"paper_bgcolor\":\"white\",\"plot_bgcolor\":\"#E5ECF6\",\"polar\":{\"bgcolor\":\"#E5ECF6\",\"angularaxis\":{\"gridcolor\":\"white\",\"linecolor\":\"white\",\"ticks\":\"\"},\"radialaxis\":{\"gridcolor\":\"white\",\"linecolor\":\"white\",\"ticks\":\"\"}},\"ternary\":{\"bgcolor\":\"#E5ECF6\",\"aaxis\":{\"gridcolor\":\"white\",\"linecolor\":\"white\",\"ticks\":\"\"},\"baxis\":{\"gridcolor\":\"white\",\"linecolor\":\"white\",\"ticks\":\"\"},\"caxis\":{\"gridcolor\":\"white\",\"linecolor\":\"white\",\"ticks\":\"\"}},\"coloraxis\":{\"colorbar\":{\"outlinewidth\":0,\"ticks\":\"\"}},\"colorscale\":{\"sequential\":[[0.0,\"#0d0887\"],[0.1111111111111111,\"#46039f\"],[0.2222222222222222,\"#7201a8\"],[0.3333333333333333,\"#9c179e\"],[0.4444444444444444,\"#bd3786\"],[0.5555555555555556,\"#d8576b\"],[0.6666666666666666,\"#ed7953\"],[0.7777777777777778,\"#fb9f3a\"],[0.8888888888888888,\"#fdca26\"],[1.0,\"#f0f921\"]],\"sequentialminus\":[[0.0,\"#0d0887\"],[0.1111111111111111,\"#46039f\"],[0.2222222222222222,\"#7201a8\"],[0.3333333333333333,\"#9c179e\"],[0.4444444444444444,\"#bd3786\"],[0.5555555555555556,\"#d8576b\"],[0.6666666666666666,\"#ed7953\"],[0.7777777777777778,\"#fb9f3a\"],[0.8888888888888888,\"#fdca26\"],[1.0,\"#f0f921\"]],\"diverging\":[[0,\"#8e0152\"],[0.1,\"#c51b7d\"],[0.2,\"#de77ae\"],[0.3,\"#f1b6da\"],[0.4,\"#fde0ef\"],[0.5,\"#f7f7f7\"],[0.6,\"#e6f5d0\"],[0.7,\"#b8e186\"],[0.8,\"#7fbc41\"],[0.9,\"#4d9221\"],[1,\"#276419\"]]},\"xaxis\":{\"gridcolor\":\"white\",\"linecolor\":\"white\",\"ticks\":\"\",\"title\":{\"standoff\":15},\"zerolinecolor\":\"white\",\"automargin\":true,\"zerolinewidth\":2},\"yaxis\":{\"gridcolor\":\"white\",\"linecolor\":\"white\",\"ticks\":\"\",\"title\":{\"standoff\":15},\"zerolinecolor\":\"white\",\"automargin\":true,\"zerolinewidth\":2},\"scene\":{\"xaxis\":{\"backgroundcolor\":\"#E5ECF6\",\"gridcolor\":\"white\",\"linecolor\":\"white\",\"showbackground\":true,\"ticks\":\"\",\"zerolinecolor\":\"white\",\"gridwidth\":2},\"yaxis\":{\"backgroundcolor\":\"#E5ECF6\",\"gridcolor\":\"white\",\"linecolor\":\"white\",\"showbackground\":true,\"ticks\":\"\",\"zerolinecolor\":\"white\",\"gridwidth\":2},\"zaxis\":{\"backgroundcolor\":\"#E5ECF6\",\"gridcolor\":\"white\",\"linecolor\":\"white\",\"showbackground\":true,\"ticks\":\"\",\"zerolinecolor\":\"white\",\"gridwidth\":2}},\"shapedefaults\":{\"line\":{\"color\":\"#2a3f5f\"}},\"annotationdefaults\":{\"arrowcolor\":\"#2a3f5f\",\"arrowhead\":0,\"arrowwidth\":1},\"geo\":{\"bgcolor\":\"white\",\"landcolor\":\"#E5ECF6\",\"subunitcolor\":\"white\",\"showland\":true,\"showlakes\":true,\"lakecolor\":\"white\"},\"title\":{\"x\":0.05},\"mapbox\":{\"style\":\"light\"}}},\"xaxis\":{\"anchor\":\"y\",\"domain\":[0.0,1.0],\"title\":{\"text\":\"genre\"}},\"yaxis\":{\"anchor\":\"x\",\"domain\":[0.0,1.0],\"title\":{\"text\":\"mean_mental_health\"}},\"legend\":{\"title\":{\"text\":\"frequency\"},\"tracegroupgap\":0},\"margin\":{\"t\":60},\"showlegend\":true},                        {\"responsive\": true}                    ).then(function(){\n",
              "                            \n",
              "var gd = document.getElementById('023c0e44-1256-429c-b37f-221af81981a2');\n",
              "var x = new MutationObserver(function (mutations, observer) {{\n",
              "        var display = window.getComputedStyle(gd).display;\n",
              "        if (!display || display === 'none') {{\n",
              "            console.log([gd, 'removed!']);\n",
              "            Plotly.purge(gd);\n",
              "            observer.disconnect();\n",
              "        }}\n",
              "}});\n",
              "\n",
              "// Listen for the removal of the full notebook cells\n",
              "var notebookContainer = gd.closest('#notebook-container');\n",
              "if (notebookContainer) {{\n",
              "    x.observe(notebookContainer, {childList: true});\n",
              "}}\n",
              "\n",
              "// Listen for the clearing of the current output cell\n",
              "var outputEl = gd.closest('.output');\n",
              "if (outputEl) {{\n",
              "    x.observe(outputEl, {childList: true});\n",
              "}}\n",
              "\n",
              "                        })                };                            </script>        </div>\n",
              "</body>\n",
              "</html>"
            ]
          },
          "metadata": {}
        }
      ]
    },
    {
      "cell_type": "markdown",
      "source": [
        "## Wpływ na poprawę stanu zdrowia"
      ],
      "metadata": {
        "id": "twXFc4H4GFxu"
      }
    },
    {
      "cell_type": "code",
      "source": [
        "fig = px.histogram(df, x='Music effects', y='mean_mental_health', histfunc='avg')\n",
        "fig.show()"
      ],
      "metadata": {
        "colab": {
          "base_uri": "https://localhost:8080/",
          "height": 542
        },
        "id": "sErn42iIGMm3",
        "outputId": "afaa80d5-7e14-4b30-cc1a-9d44ba982676"
      },
      "execution_count": 113,
      "outputs": [
        {
          "output_type": "display_data",
          "data": {
            "text/html": [
              "<html>\n",
              "<head><meta charset=\"utf-8\" /></head>\n",
              "<body>\n",
              "    <div>            <script src=\"https://cdnjs.cloudflare.com/ajax/libs/mathjax/2.7.5/MathJax.js?config=TeX-AMS-MML_SVG\"></script><script type=\"text/javascript\">if (window.MathJax && window.MathJax.Hub && window.MathJax.Hub.Config) {window.MathJax.Hub.Config({SVG: {font: \"STIX-Web\"}});}</script>                <script type=\"text/javascript\">window.PlotlyConfig = {MathJaxConfig: 'local'};</script>\n",
              "        <script charset=\"utf-8\" src=\"https://cdn.plot.ly/plotly-2.35.2.min.js\"></script>                <div id=\"7ad9769c-2ed7-46c2-9d9a-cd13666a7c10\" class=\"plotly-graph-div\" style=\"height:525px; width:100%;\"></div>            <script type=\"text/javascript\">                                    window.PLOTLYENV=window.PLOTLYENV || {};                                    if (document.getElementById(\"7ad9769c-2ed7-46c2-9d9a-cd13666a7c10\")) {                    Plotly.newPlot(                        \"7ad9769c-2ed7-46c2-9d9a-cd13666a7c10\",                        [{\"alignmentgroup\":\"True\",\"bingroup\":\"x\",\"histfunc\":\"avg\",\"hovertemplate\":\"Music effects=%{x}\\u003cbr\\u003eavg of mean_mental_health=%{y}\\u003cextra\\u003e\\u003c\\u002fextra\\u003e\",\"legendgroup\":\"\",\"marker\":{\"color\":\"#636efa\",\"pattern\":{\"shape\":\"\"}},\"name\":\"\",\"offsetgroup\":\"\",\"orientation\":\"v\",\"showlegend\":false,\"x\":[\"No effect\",\"No effect\",\"No effect\",\"Improve\",\"Improve\",\"Improve\",\"Improve\",\"Improve\",\"Improve\",\"Improve\",\"No effect\",\"Improve\",\"Improve\",\"Improve\",\"Worsen\",\"Improve\",\"Improve\",\"Improve\",\"Improve\",\"Improve\",\"Improve\",\"Improve\",\"No effect\",\"Improve\",\"Improve\",\"Improve\",\"Improve\",\"Improve\",\"Improve\",\"Improve\",\"No effect\",\"Improve\",\"Improve\",\"No effect\",\"Improve\",\"Improve\",\"No effect\",\"No effect\",\"Improve\",\"Improve\",\"Improve\",\"No effect\",\"Improve\",\"No effect\",\"Improve\",\"No effect\",\"Improve\",\"Improve\",\"No effect\",\"Improve\",\"Improve\",\"No effect\",\"No effect\",\"Improve\",\"Improve\",\"No effect\",\"No effect\",\"Improve\",\"Improve\",\"Improve\",\"Improve\",\"Improve\",\"No effect\",\"Worsen\",\"Improve\",\"No effect\",\"Improve\",\"Improve\",\"Improve\",\"Improve\",\"No effect\",\"Improve\",\"Improve\",\"No effect\",\"Improve\",\"Improve\",\"Improve\",\"Improve\",\"Improve\",\"Improve\",\"Improve\",\"No effect\",\"Improve\",\"Improve\",\"No effect\",\"Improve\",\"Improve\",\"No effect\",\"No effect\",\"No effect\",\"No effect\",\"Improve\",\"Improve\",\"Improve\",\"Improve\",\"Improve\",\"Improve\",\"Improve\",\"Improve\",\"Improve\",\"Improve\",\"No effect\",\"No effect\",\"Improve\",\"No effect\",\"No effect\",\"Improve\",\"No effect\",\"Improve\",\"Improve\",\"Improve\",\"Improve\",\"Improve\",\"Improve\",\"Improve\",\"Improve\",\"Improve\",\"Improve\",\"Improve\",\"No effect\",\"Improve\",\"Improve\",\"No effect\",\"Improve\",\"Improve\",\"Improve\",\"Worsen\",\"Improve\",\"No effect\",\"Improve\",\"Improve\",\"Improve\",\"No effect\",\"Improve\",\"Improve\",\"Improve\",\"Improve\",\"No effect\",\"Improve\",\"Improve\",\"No effect\",\"Improve\",\"Improve\",\"Improve\",\"Improve\",\"Improve\",\"Improve\",\"Improve\",\"Improve\",\"Worsen\",\"Improve\",\"No effect\",\"Improve\",\"No effect\",\"No effect\",\"Improve\",\"Improve\",\"Improve\",\"Improve\",\"No effect\",\"No effect\",\"Improve\",\"No effect\",\"Improve\",\"No effect\",\"Improve\",\"Improve\",\"No effect\",\"Improve\",\"Improve\",\"No effect\",\"Improve\",\"Improve\",\"No effect\",\"No effect\",\"No effect\",\"Improve\",\"Improve\",\"Improve\",\"Improve\",\"No effect\",\"Improve\",\"Improve\",\"Improve\",\"Improve\",\"Improve\",\"Improve\",\"No effect\",\"Improve\",\"Improve\",\"Improve\",\"Improve\",\"Improve\",\"Improve\",\"Improve\",\"No effect\",\"Improve\",\"Improve\",\"Improve\",\"Improve\",\"Improve\",\"Improve\",\"Improve\",\"Improve\",\"Improve\",\"Improve\",\"Improve\",\"Improve\",\"Improve\",\"No effect\",\"Improve\",\"Improve\",\"No effect\",\"Improve\",\"Improve\",\"Improve\",\"Improve\",\"Improve\",\"No effect\",\"Improve\",\"Improve\",\"Improve\",\"Improve\",\"Improve\",\"Improve\",\"Improve\",\"Improve\",\"No effect\",\"Improve\",\"Improve\",\"No effect\",\"Improve\",\"No effect\",\"No effect\",\"Improve\",\"Improve\",\"No effect\",\"Improve\",\"Improve\",\"Improve\",\"Improve\",\"Improve\",\"No effect\",\"Worsen\",\"Improve\",\"Worsen\",\"Improve\",\"No effect\",\"No effect\",\"Improve\",\"Improve\",\"Improve\",\"Improve\",\"Improve\",\"Improve\",\"No effect\",\"No effect\",\"No effect\",\"No effect\",\"Improve\",\"Improve\",\"Improve\",\"Improve\",\"No effect\",\"No effect\",\"Improve\",\"Improve\",\"Improve\",\"Improve\",\"Improve\",\"Improve\",\"Improve\",\"Improve\",\"Improve\",\"No effect\",\"Improve\",\"Worsen\",\"Improve\",\"Improve\",\"Improve\",\"No effect\",\"No effect\",\"Improve\",\"Improve\",\"Improve\",\"Improve\",\"Improve\",\"No effect\",\"Improve\",\"No effect\",\"No effect\",\"Improve\",\"Improve\",\"No effect\",\"Improve\",\"Improve\",\"Improve\",\"Improve\",\"No effect\",\"Improve\",\"Improve\",\"Improve\",\"Improve\",\"Improve\",\"No effect\",\"Improve\",\"Improve\",\"No effect\",\"Improve\",\"No effect\",\"Improve\",\"Improve\",\"No effect\",\"Improve\",\"Improve\",\"Improve\",\"No effect\",\"Improve\",\"Improve\",\"Improve\",\"No effect\",\"Improve\",\"Improve\",\"Improve\",\"Improve\",\"No effect\",\"No effect\",\"No effect\",\"Improve\",\"Improve\",\"Improve\",\"Improve\",\"Improve\",\"No effect\",\"Improve\",\"No effect\",\"Worsen\",\"No effect\",\"No effect\",\"Improve\",\"Improve\",\"Improve\",\"Improve\",\"Improve\",\"Improve\",\"Improve\",\"Improve\",\"Improve\",\"Improve\",\"No effect\",\"Improve\",\"No effect\",\"Improve\",\"Improve\",\"Improve\",\"Improve\",\"Improve\",\"Improve\",\"Improve\",\"Improve\",\"Improve\",\"Improve\",\"Improve\",\"Improve\",\"Improve\",\"Improve\",\"Improve\",\"Improve\",\"Improve\",\"Improve\",\"Improve\",\"Improve\",\"Improve\",\"Improve\",\"Improve\",\"Improve\",\"Improve\",\"No effect\",\"Improve\",\"Improve\",\"No effect\",\"Improve\",\"Improve\",\"Improve\",\"No effect\",\"No effect\",\"Improve\",\"Improve\",\"No effect\",\"Improve\",\"Improve\",\"Improve\",\"Improve\",\"Improve\",\"Improve\",\"Improve\",\"Improve\",\"Improve\",\"No effect\",\"Improve\",\"Improve\",\"Improve\",\"Improve\",\"Improve\",\"No effect\",\"Improve\",\"No effect\",\"Improve\",\"Improve\",\"No effect\",\"Improve\",\"No effect\",\"Improve\",\"Improve\",\"Improve\",\"No effect\",\"Improve\",\"No effect\",\"Improve\",\"Improve\",\"Improve\",\"Improve\",\"Improve\",\"Improve\",\"Improve\",\"Improve\",\"Improve\",\"Improve\",\"Improve\",\"Improve\",\"Improve\",\"Improve\",\"Improve\",\"Improve\",\"No effect\",\"Improve\",\"Improve\",\"Worsen\",\"Improve\",\"Improve\",\"No effect\",\"Worsen\",\"Improve\",\"Improve\",\"Improve\",\"No effect\",\"No effect\",\"Improve\",\"Improve\",\"Improve\",\"No effect\",\"Improve\",\"Improve\",\"Improve\",\"Worsen\",\"Improve\",\"Improve\",\"No effect\",\"Improve\",\"No effect\",\"No effect\",\"No effect\",\"Improve\",\"Improve\",\"No effect\",\"Improve\",\"No effect\",\"Improve\",\"No effect\",\"Improve\",\"No effect\",\"Improve\",\"Improve\",\"Improve\",\"Improve\",\"Improve\",\"Improve\",\"Improve\",\"Improve\",\"Improve\",\"Improve\",\"Improve\",\"Improve\",\"Improve\",\"No effect\",\"Improve\",\"Improve\",\"Improve\",\"Improve\",\"Improve\",\"Improve\",\"No effect\",\"Improve\",\"Improve\",\"Improve\",\"Improve\",\"Improve\",\"No effect\",\"Improve\",\"Improve\",\"Improve\",\"Improve\",\"Improve\",\"Improve\",\"Improve\",\"No effect\",\"Improve\",\"No effect\",\"Improve\",\"Improve\",\"Improve\",\"No effect\",\"Improve\",\"Improve\",\"Improve\",\"Improve\",\"Improve\",\"Improve\",\"Improve\",\"Improve\",\"Improve\",\"Improve\",\"No effect\",\"Improve\",\"Improve\",\"Improve\",\"Improve\",\"Improve\",\"No effect\",\"Improve\",\"Improve\",\"No effect\",\"Improve\",\"Improve\",\"Improve\",\"No effect\",\"Improve\",\"Improve\",\"No effect\",\"Improve\",\"Improve\",\"Improve\",\"Improve\",\"Improve\",\"Improve\",\"Improve\",\"Improve\",\"Improve\",\"Improve\",\"Improve\",\"No effect\",\"No effect\",\"Improve\",\"Improve\",\"Improve\",\"No effect\",\"No effect\",\"Improve\",\"Improve\",\"Improve\",\"No effect\",\"Improve\",\"Improve\",\"Improve\",\"Improve\",\"Improve\",\"Improve\",\"No effect\",\"Improve\",\"Improve\",\"No effect\",\"No effect\",\"Improve\",\"Improve\",\"No effect\",\"Improve\",\"Improve\",\"Improve\",\"Worsen\",\"Improve\",\"No effect\",\"Improve\",\"Improve\",\"Improve\",\"Improve\",\"No effect\",\"Improve\",\"Improve\",\"Improve\",\"Improve\",\"Improve\",\"No effect\",\"Improve\",\"Improve\",\"Improve\",\"Improve\",\"Improve\",\"No effect\",\"Improve\",\"No effect\",\"No effect\",\"No effect\",\"No effect\",\"Improve\",\"Improve\",\"Improve\",\"Improve\",\"Improve\",\"No effect\",\"No effect\",\"Worsen\",\"Improve\",\"Improve\",\"Improve\",\"Improve\",\"Improve\",\"No effect\",\"No effect\",\"Improve\",\"Improve\",\"Improve\",\"No effect\",\"Improve\",\"Improve\",\"Improve\",\"Improve\",\"Improve\",\"Improve\",\"Improve\",\"Improve\",\"Improve\",\"Improve\",\"No effect\",\"Improve\",\"Improve\",\"Improve\",\"No effect\",\"Improve\",\"Improve\",\"No effect\",\"Improve\",\"Improve\",\"Improve\",\"Improve\",\"Improve\",\"No effect\",\"Improve\",\"Improve\",\"No effect\",\"Worsen\",\"No effect\",\"No effect\",\"Improve\",\"No effect\",\"Improve\",\"Worsen\",\"Improve\",\"No effect\",\"Improve\",\"Improve\",\"Improve\",\"Improve\",\"Improve\",\"No effect\",\"Improve\",\"No effect\",\"No effect\",\"Improve\",\"No effect\",\"Improve\",\"Improve\",\"Improve\",\"Improve\",\"Improve\",\"No effect\",\"Improve\",\"Improve\",\"No effect\",\"Improve\",\"Improve\",\"Improve\",\"Improve\",\"Improve\",\"Improve\",\"Improve\",\"No effect\",\"No effect\",\"No effect\",\"Improve\",\"Improve\",\"Improve\",\"Improve\",\"Improve\",\"No effect\",\"No effect\",\"Improve\",\"Improve\",\"Improve\",\"Improve\",\"Worsen\",\"Improve\",\"Improve\",\"Improve\",\"Improve\",\"Improve\",\"Improve\",\"Improve\",\"No effect\",\"Improve\",\"Improve\",\"Improve\",\"Improve\",\"No effect\",\"No effect\",\"Improve\",\"Improve\",\"No effect\",\"No effect\",\"Improve\",\"Improve\",\"Improve\",\"Improve\",\"Improve\",\"Improve\",\"Worsen\",\"Improve\",\"No effect\",\"Improve\",\"Improve\",\"Improve\",\"Improve\",\"Improve\",\"Improve\",\"Improve\",\"Improve\"],\"xaxis\":\"x\",\"y\":[4.0,12.0,26.0,22.0,23.0,30.0,18.0,16.0,2.0,10.0,25.0,2.0,5.0,17.0,17.0,23.0,22.0,15.0,12.0,18.0,26.0,22.0,20.0,34.0,18.0,29.0,8.0,21.0,16.0,16.0,15.0,22.0,18.0,0.0,7.0,16.0,6.0,18.0,23.0,13.0,18.0,15.0,22.0,11.0,16.0,20.0,22.0,21.0,17.0,0.0,27.0,29.0,20.0,22.0,4.0,26.0,19.0,15.0,9.0,11.0,20.0,18.0,14.0,24.0,21.0,8.0,31.0,25.0,12.0,19.0,17.0,20.0,11.0,15.0,26.0,5.0,15.0,24.0,11.0,25.0,3.0,21.0,3.0,10.0,35.0,2.0,13.0,5.0,9.0,21.0,20.0,18.0,12.0,17.0,21.0,10.0,25.0,7.0,20.0,14.0,6.0,31.0,14.0,13.0,22.0,24.0,22.0,13.0,30.0,10.0,20.0,22.0,14.0,7.0,25.0,15.0,14.0,26.0,12.0,21.0,21.0,23.0,11.0,13.0,21.0,20.0,28.0,15.0,9.0,15.0,26.0,28.0,11.0,19.0,26.0,9.0,13.0,4.0,13.0,11.0,9.0,20.0,0.0,8.0,10.0,29.0,14.0,19.0,22.0,20.0,24.0,22.0,19.0,27.0,10.0,11.0,21.0,16.0,24.0,7.0,2.0,18.0,13.0,19.0,13.0,1.0,18.0,23.0,29.0,5.0,6.0,9.0,14.0,8.0,12.0,1.0,21.0,16.0,20.0,16.0,14.0,19.0,22.0,17.0,28.5,15.0,28.0,14.0,23.0,18.0,7.0,11.0,22.0,30.0,25.0,30.0,33.0,27.0,26.0,18.0,25.0,23.0,28.0,31.0,35.0,25.0,27.0,21.0,10.0,5.0,30.0,17.0,21.0,6.0,25.0,26.0,17.0,18.0,20.0,12.0,6.0,3.0,17.0,11.0,11.0,13.0,20.0,12.0,11.0,20.0,5.0,24.0,18.0,14.0,24.0,13.0,7.0,18.0,11.0,21.0,20.0,11.0,25.0,13.0,29.0,26.0,18.0,1.0,23.0,16.0,28.0,13.0,20.0,20.0,11.0,13.0,23.0,14.0,11.0,28.0,21.0,13.0,19.0,16.0,33.0,21.0,6.0,8.0,11.0,10.0,9.0,23.0,26.0,21.0,20.0,24.0,18.0,26.0,30.0,12.0,20.0,15.0,24.0,12.0,27.0,30.0,29.0,19.0,8.0,36.0,6.0,12.0,24.0,23.0,23.0,18.0,25.0,8.0,24.0,12.0,24.0,22.0,26.0,18.0,23.0,17.0,11.0,27.0,12.0,2.0,11.0,11.0,15.0,16.0,8.0,18.0,25.0,25.0,18.0,17.0,27.0,19.0,3.0,5.0,12.0,12.0,19.0,18.0,18.0,11.0,28.0,25.0,24.0,23.0,19.0,29.0,27.0,32.0,20.0,14.0,26.0,8.0,27.0,11.0,9.0,26.0,16.0,6.0,6.0,9.0,9.0,15.0,17.0,23.0,9.0,19.0,24.0,28.0,29.0,27.0,29.0,21.0,12.0,18.0,19.0,16.0,6.0,24.0,12.0,4.0,17.0,19.0,26.0,1.0,17.0,24.0,20.0,12.0,8.0,3.0,21.0,12.0,17.0,3.0,32.0,10.0,15.0,14.0,11.0,9.0,22.0,17.0,26.0,23.0,24.0,10.0,7.0,24.0,15.0,29.0,17.0,2.0,16.0,2.0,12.0,22.0,23.0,26.0,28.0,11.0,23.0,30.0,18.0,22.0,4.0,32.0,21.0,14.0,8.0,36.0,8.0,8.0,12.0,8.0,15.0,37.0,28.0,3.0,10.0,28.0,6.0,16.0,15.0,12.0,33.0,32.0,5.0,18.0,25.0,20.0,7.0,6.0,18.0,12.0,24.0,15.0,18.0,6.0,13.0,29.0,19.0,20.0,6.0,21.0,18.0,19.0,8.0,7.0,10.0,22.0,28.0,12.0,8.0,7.0,0.0,21.0,3.0,23.0,15.0,17.0,6.0,16.0,15.0,3.0,24.0,20.0,10.0,36.0,17.0,19.0,17.0,32.0,9.0,11.0,5.0,22.0,12.0,23.0,23.0,1.0,16.0,16.0,17.0,7.0,18.0,13.0,24.0,4.0,14.0,18.0,22.0,19.0,25.0,19.0,3.0,11.0,24.0,10.0,11.0,20.0,8.0,4.0,7.0,11.0,10.0,35.0,16.0,11.0,21.0,19.0,24.0,0.0,10.0,23.0,31.0,13.0,21.0,23.0,5.0,31.0,11.0,9.0,20.0,26.0,20.0,26.0,7.0,26.0,10.0,29.0,3.0,12.0,11.0,7.0,15.0,21.0,24.0,7.0,15.0,6.0,0.0,11.0,6.0,12.0,14.0,11.0,26.0,7.0,18.0,9.0,16.0,38.0,27.0,28.0,17.0,21.0,30.0,24.0,3.0,1.0,25.0,11.0,35.0,10.0,2.0,12.0,11.0,10.0,11.0,17.0,28.0,2.0,28.0,17.0,5.0,0.0,32.0,4.0,26.0,23.0,22.0,29.0,6.0,7.0,28.0,26.0,31.0,17.0,8.0,2.0,8.0,18.0,1.0,19.0,9.0,10.0,0.0,16.0,16.0,15.0,28.0,8.0,16.0,31.0,12.0,23.0,16.0,6.0,14.0,15.0,19.0,18.0,24.0,6.0,18.0,17.0,8.0,22.0,22.0,4.0,25.0,25.0,35.0,14.0,22.0,23.0,7.0,17.0,39.0,21.0,26.0,27.0,25.0,15.0,29.0,26.0,10.0,16.0,14.0,30.0,17.0,18.0,25.0,5.0,25.0,23.0,7.0,13.0,19.0,6.0,14.0,21.0,18.0,4.0,27.0,12.0,11.0,21.0,17.0,13.0,15.0,17.0,25.0,26.0,10.0,14.0,28.0,24.0,2.0,23.0,10.0,16.0,22.0,7.0,24.0,7.0,7.0,10.0,6.0,13.0,11.0,28.0,10.0,22.0,0.0,27.0,19.5,4.0,38.0,28.0,28.0,15.0,26.0,10.0,19.0,19.0,12.0,15.0,26.0,32.0,21.0,17.0,18.0,14.0,17.0,21.0,24.0,22.0,34.0,24.0,19.0,16.0,33.0,20.0,32.0,32.0,0.0,13.0,10.0,23.0,22.0,12.0,8.0,8.0,11.0],\"yaxis\":\"y\",\"type\":\"histogram\"}],                        {\"template\":{\"data\":{\"histogram2dcontour\":[{\"type\":\"histogram2dcontour\",\"colorbar\":{\"outlinewidth\":0,\"ticks\":\"\"},\"colorscale\":[[0.0,\"#0d0887\"],[0.1111111111111111,\"#46039f\"],[0.2222222222222222,\"#7201a8\"],[0.3333333333333333,\"#9c179e\"],[0.4444444444444444,\"#bd3786\"],[0.5555555555555556,\"#d8576b\"],[0.6666666666666666,\"#ed7953\"],[0.7777777777777778,\"#fb9f3a\"],[0.8888888888888888,\"#fdca26\"],[1.0,\"#f0f921\"]]}],\"choropleth\":[{\"type\":\"choropleth\",\"colorbar\":{\"outlinewidth\":0,\"ticks\":\"\"}}],\"histogram2d\":[{\"type\":\"histogram2d\",\"colorbar\":{\"outlinewidth\":0,\"ticks\":\"\"},\"colorscale\":[[0.0,\"#0d0887\"],[0.1111111111111111,\"#46039f\"],[0.2222222222222222,\"#7201a8\"],[0.3333333333333333,\"#9c179e\"],[0.4444444444444444,\"#bd3786\"],[0.5555555555555556,\"#d8576b\"],[0.6666666666666666,\"#ed7953\"],[0.7777777777777778,\"#fb9f3a\"],[0.8888888888888888,\"#fdca26\"],[1.0,\"#f0f921\"]]}],\"heatmap\":[{\"type\":\"heatmap\",\"colorbar\":{\"outlinewidth\":0,\"ticks\":\"\"},\"colorscale\":[[0.0,\"#0d0887\"],[0.1111111111111111,\"#46039f\"],[0.2222222222222222,\"#7201a8\"],[0.3333333333333333,\"#9c179e\"],[0.4444444444444444,\"#bd3786\"],[0.5555555555555556,\"#d8576b\"],[0.6666666666666666,\"#ed7953\"],[0.7777777777777778,\"#fb9f3a\"],[0.8888888888888888,\"#fdca26\"],[1.0,\"#f0f921\"]]}],\"heatmapgl\":[{\"type\":\"heatmapgl\",\"colorbar\":{\"outlinewidth\":0,\"ticks\":\"\"},\"colorscale\":[[0.0,\"#0d0887\"],[0.1111111111111111,\"#46039f\"],[0.2222222222222222,\"#7201a8\"],[0.3333333333333333,\"#9c179e\"],[0.4444444444444444,\"#bd3786\"],[0.5555555555555556,\"#d8576b\"],[0.6666666666666666,\"#ed7953\"],[0.7777777777777778,\"#fb9f3a\"],[0.8888888888888888,\"#fdca26\"],[1.0,\"#f0f921\"]]}],\"contourcarpet\":[{\"type\":\"contourcarpet\",\"colorbar\":{\"outlinewidth\":0,\"ticks\":\"\"}}],\"contour\":[{\"type\":\"contour\",\"colorbar\":{\"outlinewidth\":0,\"ticks\":\"\"},\"colorscale\":[[0.0,\"#0d0887\"],[0.1111111111111111,\"#46039f\"],[0.2222222222222222,\"#7201a8\"],[0.3333333333333333,\"#9c179e\"],[0.4444444444444444,\"#bd3786\"],[0.5555555555555556,\"#d8576b\"],[0.6666666666666666,\"#ed7953\"],[0.7777777777777778,\"#fb9f3a\"],[0.8888888888888888,\"#fdca26\"],[1.0,\"#f0f921\"]]}],\"surface\":[{\"type\":\"surface\",\"colorbar\":{\"outlinewidth\":0,\"ticks\":\"\"},\"colorscale\":[[0.0,\"#0d0887\"],[0.1111111111111111,\"#46039f\"],[0.2222222222222222,\"#7201a8\"],[0.3333333333333333,\"#9c179e\"],[0.4444444444444444,\"#bd3786\"],[0.5555555555555556,\"#d8576b\"],[0.6666666666666666,\"#ed7953\"],[0.7777777777777778,\"#fb9f3a\"],[0.8888888888888888,\"#fdca26\"],[1.0,\"#f0f921\"]]}],\"mesh3d\":[{\"type\":\"mesh3d\",\"colorbar\":{\"outlinewidth\":0,\"ticks\":\"\"}}],\"scatter\":[{\"fillpattern\":{\"fillmode\":\"overlay\",\"size\":10,\"solidity\":0.2},\"type\":\"scatter\"}],\"parcoords\":[{\"type\":\"parcoords\",\"line\":{\"colorbar\":{\"outlinewidth\":0,\"ticks\":\"\"}}}],\"scatterpolargl\":[{\"type\":\"scatterpolargl\",\"marker\":{\"colorbar\":{\"outlinewidth\":0,\"ticks\":\"\"}}}],\"bar\":[{\"error_x\":{\"color\":\"#2a3f5f\"},\"error_y\":{\"color\":\"#2a3f5f\"},\"marker\":{\"line\":{\"color\":\"#E5ECF6\",\"width\":0.5},\"pattern\":{\"fillmode\":\"overlay\",\"size\":10,\"solidity\":0.2}},\"type\":\"bar\"}],\"scattergeo\":[{\"type\":\"scattergeo\",\"marker\":{\"colorbar\":{\"outlinewidth\":0,\"ticks\":\"\"}}}],\"scatterpolar\":[{\"type\":\"scatterpolar\",\"marker\":{\"colorbar\":{\"outlinewidth\":0,\"ticks\":\"\"}}}],\"histogram\":[{\"marker\":{\"pattern\":{\"fillmode\":\"overlay\",\"size\":10,\"solidity\":0.2}},\"type\":\"histogram\"}],\"scattergl\":[{\"type\":\"scattergl\",\"marker\":{\"colorbar\":{\"outlinewidth\":0,\"ticks\":\"\"}}}],\"scatter3d\":[{\"type\":\"scatter3d\",\"line\":{\"colorbar\":{\"outlinewidth\":0,\"ticks\":\"\"}},\"marker\":{\"colorbar\":{\"outlinewidth\":0,\"ticks\":\"\"}}}],\"scattermapbox\":[{\"type\":\"scattermapbox\",\"marker\":{\"colorbar\":{\"outlinewidth\":0,\"ticks\":\"\"}}}],\"scatterternary\":[{\"type\":\"scatterternary\",\"marker\":{\"colorbar\":{\"outlinewidth\":0,\"ticks\":\"\"}}}],\"scattercarpet\":[{\"type\":\"scattercarpet\",\"marker\":{\"colorbar\":{\"outlinewidth\":0,\"ticks\":\"\"}}}],\"carpet\":[{\"aaxis\":{\"endlinecolor\":\"#2a3f5f\",\"gridcolor\":\"white\",\"linecolor\":\"white\",\"minorgridcolor\":\"white\",\"startlinecolor\":\"#2a3f5f\"},\"baxis\":{\"endlinecolor\":\"#2a3f5f\",\"gridcolor\":\"white\",\"linecolor\":\"white\",\"minorgridcolor\":\"white\",\"startlinecolor\":\"#2a3f5f\"},\"type\":\"carpet\"}],\"table\":[{\"cells\":{\"fill\":{\"color\":\"#EBF0F8\"},\"line\":{\"color\":\"white\"}},\"header\":{\"fill\":{\"color\":\"#C8D4E3\"},\"line\":{\"color\":\"white\"}},\"type\":\"table\"}],\"barpolar\":[{\"marker\":{\"line\":{\"color\":\"#E5ECF6\",\"width\":0.5},\"pattern\":{\"fillmode\":\"overlay\",\"size\":10,\"solidity\":0.2}},\"type\":\"barpolar\"}],\"pie\":[{\"automargin\":true,\"type\":\"pie\"}]},\"layout\":{\"autotypenumbers\":\"strict\",\"colorway\":[\"#636efa\",\"#EF553B\",\"#00cc96\",\"#ab63fa\",\"#FFA15A\",\"#19d3f3\",\"#FF6692\",\"#B6E880\",\"#FF97FF\",\"#FECB52\"],\"font\":{\"color\":\"#2a3f5f\"},\"hovermode\":\"closest\",\"hoverlabel\":{\"align\":\"left\"},\"paper_bgcolor\":\"white\",\"plot_bgcolor\":\"#E5ECF6\",\"polar\":{\"bgcolor\":\"#E5ECF6\",\"angularaxis\":{\"gridcolor\":\"white\",\"linecolor\":\"white\",\"ticks\":\"\"},\"radialaxis\":{\"gridcolor\":\"white\",\"linecolor\":\"white\",\"ticks\":\"\"}},\"ternary\":{\"bgcolor\":\"#E5ECF6\",\"aaxis\":{\"gridcolor\":\"white\",\"linecolor\":\"white\",\"ticks\":\"\"},\"baxis\":{\"gridcolor\":\"white\",\"linecolor\":\"white\",\"ticks\":\"\"},\"caxis\":{\"gridcolor\":\"white\",\"linecolor\":\"white\",\"ticks\":\"\"}},\"coloraxis\":{\"colorbar\":{\"outlinewidth\":0,\"ticks\":\"\"}},\"colorscale\":{\"sequential\":[[0.0,\"#0d0887\"],[0.1111111111111111,\"#46039f\"],[0.2222222222222222,\"#7201a8\"],[0.3333333333333333,\"#9c179e\"],[0.4444444444444444,\"#bd3786\"],[0.5555555555555556,\"#d8576b\"],[0.6666666666666666,\"#ed7953\"],[0.7777777777777778,\"#fb9f3a\"],[0.8888888888888888,\"#fdca26\"],[1.0,\"#f0f921\"]],\"sequentialminus\":[[0.0,\"#0d0887\"],[0.1111111111111111,\"#46039f\"],[0.2222222222222222,\"#7201a8\"],[0.3333333333333333,\"#9c179e\"],[0.4444444444444444,\"#bd3786\"],[0.5555555555555556,\"#d8576b\"],[0.6666666666666666,\"#ed7953\"],[0.7777777777777778,\"#fb9f3a\"],[0.8888888888888888,\"#fdca26\"],[1.0,\"#f0f921\"]],\"diverging\":[[0,\"#8e0152\"],[0.1,\"#c51b7d\"],[0.2,\"#de77ae\"],[0.3,\"#f1b6da\"],[0.4,\"#fde0ef\"],[0.5,\"#f7f7f7\"],[0.6,\"#e6f5d0\"],[0.7,\"#b8e186\"],[0.8,\"#7fbc41\"],[0.9,\"#4d9221\"],[1,\"#276419\"]]},\"xaxis\":{\"gridcolor\":\"white\",\"linecolor\":\"white\",\"ticks\":\"\",\"title\":{\"standoff\":15},\"zerolinecolor\":\"white\",\"automargin\":true,\"zerolinewidth\":2},\"yaxis\":{\"gridcolor\":\"white\",\"linecolor\":\"white\",\"ticks\":\"\",\"title\":{\"standoff\":15},\"zerolinecolor\":\"white\",\"automargin\":true,\"zerolinewidth\":2},\"scene\":{\"xaxis\":{\"backgroundcolor\":\"#E5ECF6\",\"gridcolor\":\"white\",\"linecolor\":\"white\",\"showbackground\":true,\"ticks\":\"\",\"zerolinecolor\":\"white\",\"gridwidth\":2},\"yaxis\":{\"backgroundcolor\":\"#E5ECF6\",\"gridcolor\":\"white\",\"linecolor\":\"white\",\"showbackground\":true,\"ticks\":\"\",\"zerolinecolor\":\"white\",\"gridwidth\":2},\"zaxis\":{\"backgroundcolor\":\"#E5ECF6\",\"gridcolor\":\"white\",\"linecolor\":\"white\",\"showbackground\":true,\"ticks\":\"\",\"zerolinecolor\":\"white\",\"gridwidth\":2}},\"shapedefaults\":{\"line\":{\"color\":\"#2a3f5f\"}},\"annotationdefaults\":{\"arrowcolor\":\"#2a3f5f\",\"arrowhead\":0,\"arrowwidth\":1},\"geo\":{\"bgcolor\":\"white\",\"landcolor\":\"#E5ECF6\",\"subunitcolor\":\"white\",\"showland\":true,\"showlakes\":true,\"lakecolor\":\"white\"},\"title\":{\"x\":0.05},\"mapbox\":{\"style\":\"light\"}}},\"xaxis\":{\"anchor\":\"y\",\"domain\":[0.0,1.0],\"title\":{\"text\":\"Music effects\"}},\"yaxis\":{\"anchor\":\"x\",\"domain\":[0.0,1.0],\"title\":{\"text\":\"avg of mean_mental_health\"}},\"legend\":{\"tracegroupgap\":0},\"margin\":{\"t\":60},\"barmode\":\"relative\"},                        {\"responsive\": true}                    ).then(function(){\n",
              "                            \n",
              "var gd = document.getElementById('7ad9769c-2ed7-46c2-9d9a-cd13666a7c10');\n",
              "var x = new MutationObserver(function (mutations, observer) {{\n",
              "        var display = window.getComputedStyle(gd).display;\n",
              "        if (!display || display === 'none') {{\n",
              "            console.log([gd, 'removed!']);\n",
              "            Plotly.purge(gd);\n",
              "            observer.disconnect();\n",
              "        }}\n",
              "}});\n",
              "\n",
              "// Listen for the removal of the full notebook cells\n",
              "var notebookContainer = gd.closest('#notebook-container');\n",
              "if (notebookContainer) {{\n",
              "    x.observe(notebookContainer, {childList: true});\n",
              "}}\n",
              "\n",
              "// Listen for the clearing of the current output cell\n",
              "var outputEl = gd.closest('.output');\n",
              "if (outputEl) {{\n",
              "    x.observe(outputEl, {childList: true});\n",
              "}}\n",
              "\n",
              "                        })                };                            </script>        </div>\n",
              "</body>\n",
              "</html>"
            ]
          },
          "metadata": {}
        }
      ]
    },
    {
      "cell_type": "markdown",
      "source": [
        "#### Granie na instrumentach i bycie kompozytorem"
      ],
      "metadata": {
        "id": "hNoiTf9jKG4h"
      }
    },
    {
      "cell_type": "code",
      "source": [
        "musician_cols = ['Instrumentalist', 'Composer']\n",
        "musician_effects = make_subplots(rows=1, cols=2, subplot_titles=musician_cols)\n",
        "\n",
        "for i,col_name in enumerate(musician_cols):\n",
        "  grouped = df.groupby([col_name, 'Music effects'], observed=True).size().reset_index(name='count')\n",
        "  musician_hist = px.histogram(grouped, x=col_name, y='count', color='Music effects', barmode='group')\n",
        "\n",
        "  for j, trace in enumerate(musician_hist.data):\n",
        "      trace.showlegend = (i == 0)\n",
        "      musician_effects.add_trace(trace, row=1, col=i + 1)\n",
        "\n",
        "\n",
        "musician_effects.update_xaxes(categoryorder=\"array\", categoryarray=['No', 'Yes'], row=1, col=1)\n",
        "musician_effects.update_xaxes(categoryorder=\"array\", categoryarray=['No', 'Yes'], row=1, col=2)\n",
        "musician_effects.update_layout(\n",
        "    width=800,\n",
        "    height=400\n",
        ")\n",
        "musician_effects.show()"
      ],
      "metadata": {
        "colab": {
          "base_uri": "https://localhost:8080/",
          "height": 417
        },
        "id": "LjLw65xoof5S",
        "outputId": "be9b56e4-52da-45b2-dbac-0d6335f7adf6"
      },
      "execution_count": 132,
      "outputs": [
        {
          "output_type": "display_data",
          "data": {
            "text/html": [
              "<html>\n",
              "<head><meta charset=\"utf-8\" /></head>\n",
              "<body>\n",
              "    <div>            <script src=\"https://cdnjs.cloudflare.com/ajax/libs/mathjax/2.7.5/MathJax.js?config=TeX-AMS-MML_SVG\"></script><script type=\"text/javascript\">if (window.MathJax && window.MathJax.Hub && window.MathJax.Hub.Config) {window.MathJax.Hub.Config({SVG: {font: \"STIX-Web\"}});}</script>                <script type=\"text/javascript\">window.PlotlyConfig = {MathJaxConfig: 'local'};</script>\n",
              "        <script charset=\"utf-8\" src=\"https://cdn.plot.ly/plotly-2.35.2.min.js\"></script>                <div id=\"391d890e-3fca-4b97-adba-14ac5fae33e8\" class=\"plotly-graph-div\" style=\"height:400px; width:800px;\"></div>            <script type=\"text/javascript\">                                    window.PLOTLYENV=window.PLOTLYENV || {};                                    if (document.getElementById(\"391d890e-3fca-4b97-adba-14ac5fae33e8\")) {                    Plotly.newPlot(                        \"391d890e-3fca-4b97-adba-14ac5fae33e8\",                        [{\"alignmentgroup\":\"True\",\"bingroup\":\"x\",\"histfunc\":\"sum\",\"hovertemplate\":\"Music effects=Improve\\u003cbr\\u003eInstrumentalist=%{x}\\u003cbr\\u003esum of count=%{y}\\u003cextra\\u003e\\u003c\\u002fextra\\u003e\",\"legendgroup\":\"Improve\",\"marker\":{\"color\":\"#636efa\",\"pattern\":{\"shape\":\"\"}},\"name\":\"Improve\",\"offsetgroup\":\"Improve\",\"orientation\":\"v\",\"showlegend\":true,\"x\":[\"No\",\"Yes\"],\"xaxis\":\"x\",\"y\":[353,188],\"yaxis\":\"y\",\"type\":\"histogram\"},{\"alignmentgroup\":\"True\",\"bingroup\":\"x\",\"histfunc\":\"sum\",\"hovertemplate\":\"Music effects=No effect\\u003cbr\\u003eInstrumentalist=%{x}\\u003cbr\\u003esum of count=%{y}\\u003cextra\\u003e\\u003c\\u002fextra\\u003e\",\"legendgroup\":\"No effect\",\"marker\":{\"color\":\"#EF553B\",\"pattern\":{\"shape\":\"\"}},\"name\":\"No effect\",\"offsetgroup\":\"No effect\",\"orientation\":\"v\",\"showlegend\":true,\"x\":[\"No\",\"Yes\"],\"xaxis\":\"x\",\"y\":[134,43],\"yaxis\":\"y\",\"type\":\"histogram\"},{\"alignmentgroup\":\"True\",\"bingroup\":\"x\",\"histfunc\":\"sum\",\"hovertemplate\":\"Music effects=Worsen\\u003cbr\\u003eInstrumentalist=%{x}\\u003cbr\\u003esum of count=%{y}\\u003cextra\\u003e\\u003c\\u002fextra\\u003e\",\"legendgroup\":\"Worsen\",\"marker\":{\"color\":\"#00cc96\",\"pattern\":{\"shape\":\"\"}},\"name\":\"Worsen\",\"offsetgroup\":\"Worsen\",\"orientation\":\"v\",\"showlegend\":true,\"x\":[\"No\",\"Yes\"],\"xaxis\":\"x\",\"y\":[13,4],\"yaxis\":\"y\",\"type\":\"histogram\"},{\"alignmentgroup\":\"True\",\"bingroup\":\"x\",\"histfunc\":\"sum\",\"hovertemplate\":\"Music effects=Improve\\u003cbr\\u003eComposer=%{x}\\u003cbr\\u003esum of count=%{y}\\u003cextra\\u003e\\u003c\\u002fextra\\u003e\",\"legendgroup\":\"Improve\",\"marker\":{\"color\":\"#636efa\",\"pattern\":{\"shape\":\"\"}},\"name\":\"Improve\",\"offsetgroup\":\"Improve\",\"orientation\":\"v\",\"showlegend\":false,\"x\":[\"No\",\"Yes\"],\"xaxis\":\"x2\",\"y\":[437,104],\"yaxis\":\"y2\",\"type\":\"histogram\"},{\"alignmentgroup\":\"True\",\"bingroup\":\"x\",\"histfunc\":\"sum\",\"hovertemplate\":\"Music effects=No effect\\u003cbr\\u003eComposer=%{x}\\u003cbr\\u003esum of count=%{y}\\u003cextra\\u003e\\u003c\\u002fextra\\u003e\",\"legendgroup\":\"No effect\",\"marker\":{\"color\":\"#EF553B\",\"pattern\":{\"shape\":\"\"}},\"name\":\"No effect\",\"offsetgroup\":\"No effect\",\"orientation\":\"v\",\"showlegend\":false,\"x\":[\"No\",\"Yes\"],\"xaxis\":\"x2\",\"y\":[157,20],\"yaxis\":\"y2\",\"type\":\"histogram\"},{\"alignmentgroup\":\"True\",\"bingroup\":\"x\",\"histfunc\":\"sum\",\"hovertemplate\":\"Music effects=Worsen\\u003cbr\\u003eComposer=%{x}\\u003cbr\\u003esum of count=%{y}\\u003cextra\\u003e\\u003c\\u002fextra\\u003e\",\"legendgroup\":\"Worsen\",\"marker\":{\"color\":\"#00cc96\",\"pattern\":{\"shape\":\"\"}},\"name\":\"Worsen\",\"offsetgroup\":\"Worsen\",\"orientation\":\"v\",\"showlegend\":false,\"x\":[\"No\",\"Yes\"],\"xaxis\":\"x2\",\"y\":[15,2],\"yaxis\":\"y2\",\"type\":\"histogram\"}],                        {\"template\":{\"data\":{\"histogram2dcontour\":[{\"type\":\"histogram2dcontour\",\"colorbar\":{\"outlinewidth\":0,\"ticks\":\"\"},\"colorscale\":[[0.0,\"#0d0887\"],[0.1111111111111111,\"#46039f\"],[0.2222222222222222,\"#7201a8\"],[0.3333333333333333,\"#9c179e\"],[0.4444444444444444,\"#bd3786\"],[0.5555555555555556,\"#d8576b\"],[0.6666666666666666,\"#ed7953\"],[0.7777777777777778,\"#fb9f3a\"],[0.8888888888888888,\"#fdca26\"],[1.0,\"#f0f921\"]]}],\"choropleth\":[{\"type\":\"choropleth\",\"colorbar\":{\"outlinewidth\":0,\"ticks\":\"\"}}],\"histogram2d\":[{\"type\":\"histogram2d\",\"colorbar\":{\"outlinewidth\":0,\"ticks\":\"\"},\"colorscale\":[[0.0,\"#0d0887\"],[0.1111111111111111,\"#46039f\"],[0.2222222222222222,\"#7201a8\"],[0.3333333333333333,\"#9c179e\"],[0.4444444444444444,\"#bd3786\"],[0.5555555555555556,\"#d8576b\"],[0.6666666666666666,\"#ed7953\"],[0.7777777777777778,\"#fb9f3a\"],[0.8888888888888888,\"#fdca26\"],[1.0,\"#f0f921\"]]}],\"heatmap\":[{\"type\":\"heatmap\",\"colorbar\":{\"outlinewidth\":0,\"ticks\":\"\"},\"colorscale\":[[0.0,\"#0d0887\"],[0.1111111111111111,\"#46039f\"],[0.2222222222222222,\"#7201a8\"],[0.3333333333333333,\"#9c179e\"],[0.4444444444444444,\"#bd3786\"],[0.5555555555555556,\"#d8576b\"],[0.6666666666666666,\"#ed7953\"],[0.7777777777777778,\"#fb9f3a\"],[0.8888888888888888,\"#fdca26\"],[1.0,\"#f0f921\"]]}],\"heatmapgl\":[{\"type\":\"heatmapgl\",\"colorbar\":{\"outlinewidth\":0,\"ticks\":\"\"},\"colorscale\":[[0.0,\"#0d0887\"],[0.1111111111111111,\"#46039f\"],[0.2222222222222222,\"#7201a8\"],[0.3333333333333333,\"#9c179e\"],[0.4444444444444444,\"#bd3786\"],[0.5555555555555556,\"#d8576b\"],[0.6666666666666666,\"#ed7953\"],[0.7777777777777778,\"#fb9f3a\"],[0.8888888888888888,\"#fdca26\"],[1.0,\"#f0f921\"]]}],\"contourcarpet\":[{\"type\":\"contourcarpet\",\"colorbar\":{\"outlinewidth\":0,\"ticks\":\"\"}}],\"contour\":[{\"type\":\"contour\",\"colorbar\":{\"outlinewidth\":0,\"ticks\":\"\"},\"colorscale\":[[0.0,\"#0d0887\"],[0.1111111111111111,\"#46039f\"],[0.2222222222222222,\"#7201a8\"],[0.3333333333333333,\"#9c179e\"],[0.4444444444444444,\"#bd3786\"],[0.5555555555555556,\"#d8576b\"],[0.6666666666666666,\"#ed7953\"],[0.7777777777777778,\"#fb9f3a\"],[0.8888888888888888,\"#fdca26\"],[1.0,\"#f0f921\"]]}],\"surface\":[{\"type\":\"surface\",\"colorbar\":{\"outlinewidth\":0,\"ticks\":\"\"},\"colorscale\":[[0.0,\"#0d0887\"],[0.1111111111111111,\"#46039f\"],[0.2222222222222222,\"#7201a8\"],[0.3333333333333333,\"#9c179e\"],[0.4444444444444444,\"#bd3786\"],[0.5555555555555556,\"#d8576b\"],[0.6666666666666666,\"#ed7953\"],[0.7777777777777778,\"#fb9f3a\"],[0.8888888888888888,\"#fdca26\"],[1.0,\"#f0f921\"]]}],\"mesh3d\":[{\"type\":\"mesh3d\",\"colorbar\":{\"outlinewidth\":0,\"ticks\":\"\"}}],\"scatter\":[{\"fillpattern\":{\"fillmode\":\"overlay\",\"size\":10,\"solidity\":0.2},\"type\":\"scatter\"}],\"parcoords\":[{\"type\":\"parcoords\",\"line\":{\"colorbar\":{\"outlinewidth\":0,\"ticks\":\"\"}}}],\"scatterpolargl\":[{\"type\":\"scatterpolargl\",\"marker\":{\"colorbar\":{\"outlinewidth\":0,\"ticks\":\"\"}}}],\"bar\":[{\"error_x\":{\"color\":\"#2a3f5f\"},\"error_y\":{\"color\":\"#2a3f5f\"},\"marker\":{\"line\":{\"color\":\"#E5ECF6\",\"width\":0.5},\"pattern\":{\"fillmode\":\"overlay\",\"size\":10,\"solidity\":0.2}},\"type\":\"bar\"}],\"scattergeo\":[{\"type\":\"scattergeo\",\"marker\":{\"colorbar\":{\"outlinewidth\":0,\"ticks\":\"\"}}}],\"scatterpolar\":[{\"type\":\"scatterpolar\",\"marker\":{\"colorbar\":{\"outlinewidth\":0,\"ticks\":\"\"}}}],\"histogram\":[{\"marker\":{\"pattern\":{\"fillmode\":\"overlay\",\"size\":10,\"solidity\":0.2}},\"type\":\"histogram\"}],\"scattergl\":[{\"type\":\"scattergl\",\"marker\":{\"colorbar\":{\"outlinewidth\":0,\"ticks\":\"\"}}}],\"scatter3d\":[{\"type\":\"scatter3d\",\"line\":{\"colorbar\":{\"outlinewidth\":0,\"ticks\":\"\"}},\"marker\":{\"colorbar\":{\"outlinewidth\":0,\"ticks\":\"\"}}}],\"scattermapbox\":[{\"type\":\"scattermapbox\",\"marker\":{\"colorbar\":{\"outlinewidth\":0,\"ticks\":\"\"}}}],\"scatterternary\":[{\"type\":\"scatterternary\",\"marker\":{\"colorbar\":{\"outlinewidth\":0,\"ticks\":\"\"}}}],\"scattercarpet\":[{\"type\":\"scattercarpet\",\"marker\":{\"colorbar\":{\"outlinewidth\":0,\"ticks\":\"\"}}}],\"carpet\":[{\"aaxis\":{\"endlinecolor\":\"#2a3f5f\",\"gridcolor\":\"white\",\"linecolor\":\"white\",\"minorgridcolor\":\"white\",\"startlinecolor\":\"#2a3f5f\"},\"baxis\":{\"endlinecolor\":\"#2a3f5f\",\"gridcolor\":\"white\",\"linecolor\":\"white\",\"minorgridcolor\":\"white\",\"startlinecolor\":\"#2a3f5f\"},\"type\":\"carpet\"}],\"table\":[{\"cells\":{\"fill\":{\"color\":\"#EBF0F8\"},\"line\":{\"color\":\"white\"}},\"header\":{\"fill\":{\"color\":\"#C8D4E3\"},\"line\":{\"color\":\"white\"}},\"type\":\"table\"}],\"barpolar\":[{\"marker\":{\"line\":{\"color\":\"#E5ECF6\",\"width\":0.5},\"pattern\":{\"fillmode\":\"overlay\",\"size\":10,\"solidity\":0.2}},\"type\":\"barpolar\"}],\"pie\":[{\"automargin\":true,\"type\":\"pie\"}]},\"layout\":{\"autotypenumbers\":\"strict\",\"colorway\":[\"#636efa\",\"#EF553B\",\"#00cc96\",\"#ab63fa\",\"#FFA15A\",\"#19d3f3\",\"#FF6692\",\"#B6E880\",\"#FF97FF\",\"#FECB52\"],\"font\":{\"color\":\"#2a3f5f\"},\"hovermode\":\"closest\",\"hoverlabel\":{\"align\":\"left\"},\"paper_bgcolor\":\"white\",\"plot_bgcolor\":\"#E5ECF6\",\"polar\":{\"bgcolor\":\"#E5ECF6\",\"angularaxis\":{\"gridcolor\":\"white\",\"linecolor\":\"white\",\"ticks\":\"\"},\"radialaxis\":{\"gridcolor\":\"white\",\"linecolor\":\"white\",\"ticks\":\"\"}},\"ternary\":{\"bgcolor\":\"#E5ECF6\",\"aaxis\":{\"gridcolor\":\"white\",\"linecolor\":\"white\",\"ticks\":\"\"},\"baxis\":{\"gridcolor\":\"white\",\"linecolor\":\"white\",\"ticks\":\"\"},\"caxis\":{\"gridcolor\":\"white\",\"linecolor\":\"white\",\"ticks\":\"\"}},\"coloraxis\":{\"colorbar\":{\"outlinewidth\":0,\"ticks\":\"\"}},\"colorscale\":{\"sequential\":[[0.0,\"#0d0887\"],[0.1111111111111111,\"#46039f\"],[0.2222222222222222,\"#7201a8\"],[0.3333333333333333,\"#9c179e\"],[0.4444444444444444,\"#bd3786\"],[0.5555555555555556,\"#d8576b\"],[0.6666666666666666,\"#ed7953\"],[0.7777777777777778,\"#fb9f3a\"],[0.8888888888888888,\"#fdca26\"],[1.0,\"#f0f921\"]],\"sequentialminus\":[[0.0,\"#0d0887\"],[0.1111111111111111,\"#46039f\"],[0.2222222222222222,\"#7201a8\"],[0.3333333333333333,\"#9c179e\"],[0.4444444444444444,\"#bd3786\"],[0.5555555555555556,\"#d8576b\"],[0.6666666666666666,\"#ed7953\"],[0.7777777777777778,\"#fb9f3a\"],[0.8888888888888888,\"#fdca26\"],[1.0,\"#f0f921\"]],\"diverging\":[[0,\"#8e0152\"],[0.1,\"#c51b7d\"],[0.2,\"#de77ae\"],[0.3,\"#f1b6da\"],[0.4,\"#fde0ef\"],[0.5,\"#f7f7f7\"],[0.6,\"#e6f5d0\"],[0.7,\"#b8e186\"],[0.8,\"#7fbc41\"],[0.9,\"#4d9221\"],[1,\"#276419\"]]},\"xaxis\":{\"gridcolor\":\"white\",\"linecolor\":\"white\",\"ticks\":\"\",\"title\":{\"standoff\":15},\"zerolinecolor\":\"white\",\"automargin\":true,\"zerolinewidth\":2},\"yaxis\":{\"gridcolor\":\"white\",\"linecolor\":\"white\",\"ticks\":\"\",\"title\":{\"standoff\":15},\"zerolinecolor\":\"white\",\"automargin\":true,\"zerolinewidth\":2},\"scene\":{\"xaxis\":{\"backgroundcolor\":\"#E5ECF6\",\"gridcolor\":\"white\",\"linecolor\":\"white\",\"showbackground\":true,\"ticks\":\"\",\"zerolinecolor\":\"white\",\"gridwidth\":2},\"yaxis\":{\"backgroundcolor\":\"#E5ECF6\",\"gridcolor\":\"white\",\"linecolor\":\"white\",\"showbackground\":true,\"ticks\":\"\",\"zerolinecolor\":\"white\",\"gridwidth\":2},\"zaxis\":{\"backgroundcolor\":\"#E5ECF6\",\"gridcolor\":\"white\",\"linecolor\":\"white\",\"showbackground\":true,\"ticks\":\"\",\"zerolinecolor\":\"white\",\"gridwidth\":2}},\"shapedefaults\":{\"line\":{\"color\":\"#2a3f5f\"}},\"annotationdefaults\":{\"arrowcolor\":\"#2a3f5f\",\"arrowhead\":0,\"arrowwidth\":1},\"geo\":{\"bgcolor\":\"white\",\"landcolor\":\"#E5ECF6\",\"subunitcolor\":\"white\",\"showland\":true,\"showlakes\":true,\"lakecolor\":\"white\"},\"title\":{\"x\":0.05},\"mapbox\":{\"style\":\"light\"}}},\"xaxis\":{\"anchor\":\"y\",\"domain\":[0.0,0.45],\"categoryorder\":\"array\",\"categoryarray\":[\"No\",\"Yes\"]},\"yaxis\":{\"anchor\":\"x\",\"domain\":[0.0,1.0]},\"xaxis2\":{\"anchor\":\"y2\",\"domain\":[0.55,1.0],\"categoryorder\":\"array\",\"categoryarray\":[\"No\",\"Yes\"]},\"yaxis2\":{\"anchor\":\"x2\",\"domain\":[0.0,1.0]},\"annotations\":[{\"font\":{\"size\":16},\"showarrow\":false,\"text\":\"Instrumentalist\",\"x\":0.225,\"xanchor\":\"center\",\"xref\":\"paper\",\"y\":1.0,\"yanchor\":\"bottom\",\"yref\":\"paper\"},{\"font\":{\"size\":16},\"showarrow\":false,\"text\":\"Composer\",\"x\":0.775,\"xanchor\":\"center\",\"xref\":\"paper\",\"y\":1.0,\"yanchor\":\"bottom\",\"yref\":\"paper\"}],\"width\":800,\"height\":400},                        {\"responsive\": true}                    ).then(function(){\n",
              "                            \n",
              "var gd = document.getElementById('391d890e-3fca-4b97-adba-14ac5fae33e8');\n",
              "var x = new MutationObserver(function (mutations, observer) {{\n",
              "        var display = window.getComputedStyle(gd).display;\n",
              "        if (!display || display === 'none') {{\n",
              "            console.log([gd, 'removed!']);\n",
              "            Plotly.purge(gd);\n",
              "            observer.disconnect();\n",
              "        }}\n",
              "}});\n",
              "\n",
              "// Listen for the removal of the full notebook cells\n",
              "var notebookContainer = gd.closest('#notebook-container');\n",
              "if (notebookContainer) {{\n",
              "    x.observe(notebookContainer, {childList: true});\n",
              "}}\n",
              "\n",
              "// Listen for the clearing of the current output cell\n",
              "var outputEl = gd.closest('.output');\n",
              "if (outputEl) {{\n",
              "    x.observe(outputEl, {childList: true});\n",
              "}}\n",
              "\n",
              "                        })                };                            </script>        </div>\n",
              "</body>\n",
              "</html>"
            ]
          },
          "metadata": {}
        }
      ]
    },
    {
      "cell_type": "markdown",
      "source": [
        "#### Odkrywanie nowych gatunków/artystów i obcojęzyczne utwory"
      ],
      "metadata": {
        "id": "b1mpFXukQvfz"
      }
    },
    {
      "cell_type": "code",
      "source": [],
      "metadata": {
        "id": "FPPQHeXkRGfj"
      },
      "execution_count": null,
      "outputs": []
    }
  ]
}